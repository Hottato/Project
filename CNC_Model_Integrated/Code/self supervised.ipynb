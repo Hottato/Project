{
 "cells": [
  {
   "cell_type": "markdown",
   "id": "a71bac67-0ca8-43ce-9084-527d34662faf",
   "metadata": {},
   "source": [
    "# Sub Tab"
   ]
  },
  {
   "cell_type": "code",
   "execution_count": 18,
   "id": "626956d6-0eeb-4605-9329-74c47234c025",
   "metadata": {},
   "outputs": [
    {
     "name": "stdout",
     "output_type": "stream",
     "text": [
      "Note: you may need to restart the kernel to use updated packages.\n"
     ]
    },
    {
     "name": "stderr",
     "output_type": "stream",
     "text": [
      "\n",
      "Usage:   \n",
      "  C:\\Users\\31083\\anaconda3\\envs\\test_envs\\python.exe -m pip install [options] <requirement specifier> [package-index-options] ...\n",
      "  C:\\Users\\31083\\anaconda3\\envs\\test_envs\\python.exe -m pip install [options] -r <requirements file> [package-index-options] ...\n",
      "  C:\\Users\\31083\\anaconda3\\envs\\test_envs\\python.exe -m pip install [options] [-e] <vcs project url> ...\n",
      "  C:\\Users\\31083\\anaconda3\\envs\\test_envs\\python.exe -m pip install [options] [-e] <local project path> ...\n",
      "  C:\\Users\\31083\\anaconda3\\envs\\test_envs\\python.exe -m pip install [options] <archive url/path> ...\n",
      "\n",
      "no such option: --skip-lock\n"
     ]
    }
   ],
   "source": [
    "pip install --skip-lock"
   ]
  },
  {
   "cell_type": "code",
   "execution_count": 13,
   "id": "e87d6c99-7dd0-4dfc-9f55-e1d6c4bb5433",
   "metadata": {},
   "outputs": [
    {
     "name": "stdout",
     "output_type": "stream",
     "text": [
      "Requirement already satisfied: pipenv in c:\\users\\31083\\anaconda3\\envs\\test_envs\\lib\\site-packages (2023.8.23)\n",
      "Requirement already satisfied: virtualenv>=20.24.2 in c:\\users\\31083\\anaconda3\\envs\\test_envs\\lib\\site-packages (from pipenv) (20.24.3)\n",
      "Requirement already satisfied: certifi in c:\\users\\31083\\anaconda3\\envs\\test_envs\\lib\\site-packages (from pipenv) (2022.12.7)\n",
      "Requirement already satisfied: setuptools>=67.0.0 in c:\\users\\31083\\anaconda3\\envs\\test_envs\\lib\\site-packages (from pipenv) (68.1.2)\n",
      "Requirement already satisfied: filelock<4,>=3.12.2 in c:\\users\\31083\\anaconda3\\envs\\test_envs\\lib\\site-packages (from virtualenv>=20.24.2->pipenv) (3.12.2)\n",
      "Requirement already satisfied: distlib<1,>=0.3.7 in c:\\users\\31083\\anaconda3\\envs\\test_envs\\lib\\site-packages (from virtualenv>=20.24.2->pipenv) (0.3.7)\n",
      "Requirement already satisfied: platformdirs<4,>=3.9.1 in c:\\users\\31083\\anaconda3\\envs\\test_envs\\lib\\site-packages (from virtualenv>=20.24.2->pipenv) (3.10.0)\n",
      "Note: you may need to restart the kernel to use updated packages.\n"
     ]
    },
    {
     "name": "stderr",
     "output_type": "stream",
     "text": [
      "WARNING: Ignoring invalid distribution -rotobuf (c:\\users\\31083\\anaconda3\\envs\\test_envs\\lib\\site-packages)\n",
      "WARNING: Ignoring invalid distribution -orch (c:\\users\\31083\\anaconda3\\envs\\test_envs\\lib\\site-packages)\n",
      "WARNING: Ignoring invalid distribution -rotobuf (c:\\users\\31083\\anaconda3\\envs\\test_envs\\lib\\site-packages)\n",
      "WARNING: Ignoring invalid distribution -orch (c:\\users\\31083\\anaconda3\\envs\\test_envs\\lib\\site-packages)\n",
      "WARNING: Ignoring invalid distribution -rotobuf (c:\\users\\31083\\anaconda3\\envs\\test_envs\\lib\\site-packages)\n",
      "WARNING: Ignoring invalid distribution -orch (c:\\users\\31083\\anaconda3\\envs\\test_envs\\lib\\site-packages)\n",
      "WARNING: Ignoring invalid distribution -rotobuf (c:\\users\\31083\\anaconda3\\envs\\test_envs\\lib\\site-packages)\n",
      "WARNING: Ignoring invalid distribution -orch (c:\\users\\31083\\anaconda3\\envs\\test_envs\\lib\\site-packages)\n",
      "WARNING: Ignoring invalid distribution -rotobuf (c:\\users\\31083\\anaconda3\\envs\\test_envs\\lib\\site-packages)\n",
      "WARNING: Ignoring invalid distribution -orch (c:\\users\\31083\\anaconda3\\envs\\test_envs\\lib\\site-packages)\n",
      "WARNING: Ignoring invalid distribution -rotobuf (c:\\users\\31083\\anaconda3\\envs\\test_envs\\lib\\site-packages)\n",
      "WARNING: Ignoring invalid distribution -orch (c:\\users\\31083\\anaconda3\\envs\\test_envs\\lib\\site-packages)\n"
     ]
    }
   ],
   "source": [
    "pip install pipenv"
   ]
  },
  {
   "cell_type": "code",
   "execution_count": 5,
   "id": "11aa8259-8e0b-4ae8-a0a1-8ec96045391f",
   "metadata": {},
   "outputs": [],
   "source": [
    "import torch\n",
    "import numpy as np"
   ]
  },
  {
   "cell_type": "code",
   "execution_count": 6,
   "id": "e4332b4e-2b85-4aaa-b6a2-58e529f7b847",
   "metadata": {},
   "outputs": [
    {
     "data": {
      "text/plain": [
       "array(1)"
      ]
     },
     "execution_count": 6,
     "metadata": {},
     "output_type": "execute_result"
    }
   ],
   "source": [
    "np.array(1)"
   ]
  },
  {
   "cell_type": "code",
   "execution_count": 1,
   "id": "15e83730",
   "metadata": {},
   "outputs": [
    {
     "data": {
      "text/plain": [
       "2"
      ]
     },
     "execution_count": 1,
     "metadata": {},
     "output_type": "execute_result"
    }
   ],
   "source": [
    "1+1"
   ]
  },
  {
   "cell_type": "code",
   "execution_count": null,
   "id": "b8dc3402",
   "metadata": {},
   "outputs": [],
   "source": []
  }
 ],
 "metadata": {
  "kernelspec": {
   "display_name": "Python 3 (ipykernel)",
   "language": "python",
   "name": "python3"
  },
  "language_info": {
   "codemirror_mode": {
    "name": "ipython",
    "version": 3
   },
   "file_extension": ".py",
   "mimetype": "text/x-python",
   "name": "python",
   "nbconvert_exporter": "python",
   "pygments_lexer": "ipython3",
   "version": "3.11.4"
  }
 },
 "nbformat": 4,
 "nbformat_minor": 5
}
