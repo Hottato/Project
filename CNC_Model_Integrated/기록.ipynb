{
 "cells": [
  {
   "cell_type": "markdown",
   "id": "69ea7da5-e79a-41e5-ab1e-c3e7f9c28262",
   "metadata": {},
   "source": [
    "# `7월 31일 ~ 8월1일`"
   ]
  },
  {
   "cell_type": "markdown",
   "id": "950adca4-3693-4fe3-bbac-b48a6cac8d88",
   "metadata": {},
   "source": [
    "* 세미나 발표자료 만들고 발표한 결과!! \n",
    "\n",
    "* 현재 가진 데이터로는 더이상의 진도를 나가는것은 불가능 -> 추가 실험 필요.\n",
    "\n",
    "* 데이터를 재 수집하면 이제 내가 만들었던 모델 3가지 (전류예측, 마모 정량화, 마모/정상 분류)를 결합 해야한다...."
   ]
  },
  {
   "cell_type": "markdown",
   "id": "6da559f4-f04c-4d27-9f92-e43aa78045c2",
   "metadata": {},
   "source": [
    "##  아이디어\n",
    "\n",
    "\n",
    "\n",
    "## 1. 임계값 설정\n",
    "\n",
    "* 각 모델(전류 감지 및 마모 예측 모델, 마모도 정량화 및 세그멘테이션 모델, 이미지 분류 모델)의 출력 임계값을 설정합니다.\n",
    "\n",
    "\n",
    "\n",
    "## 2. 모델 출력 비교\n",
    "\n",
    "* 각 모델의 출력을 해당 임계값과 비교합니다.\n",
    "\n",
    "\n",
    "* 세그멘테이션 모델의 값이 특정 값을 초과하는지, 이미지 분류 모델이 절삭품을 마모된 공구로 분류하는지 확인합니다.\n",
    "\n",
    "\n",
    "## 3. 결정 시스템 액션\n",
    "\n",
    "* 모든 모델의 출력이 임계값을 초과하는 경우, 결정 시스템은 액션을 취합니다.\n",
    "\n",
    "\n",
    "* 이 경우, 시스템은 공구 교체를 권장하게 됩니다."
   ]
  },
  {
   "cell_type": "markdown",
   "id": "3e591da5-2ae2-4c16-9fe0-276fb826875a",
   "metadata": {},
   "source": [
    "## 4. 데이터 재수집\n",
    "\n",
    "\n",
    "* 현재 공구는 마모가 될때 까지 작업을 수행.\n",
    "\n",
    "\n",
    "* 가공횟수별 공구의 마모상태를 파악하기 위해 마모가 될때까지 작업을 수행하는것이 아닌, 작업 횟수별 데이터 수집"
   ]
  },
  {
   "cell_type": "markdown",
   "id": "6b6c66ff-d416-43e9-8bc0-2a660952d6b4",
   "metadata": {},
   "source": [
    "# `8월 2일`"
   ]
  },
  {
   "cell_type": "markdown",
   "id": "de6628d2-c1d8-409a-a3f0-91a5846f20d8",
   "metadata": {},
   "source": [
    "`-` 모델 결합 아이디어를 위한 메모장"
   ]
  },
  {
   "cell_type": "markdown",
   "id": "7467d694-529e-485d-9828-2363fe89db01",
   "metadata": {},
   "source": [
    "현재 내가 가진 모델을 총 3가지\n",
    "\n",
    "\n",
    "1. 전류 예측\n",
    "\n",
    "\n",
    "2. 마모 세그멘테이션 (마모 정량화)\n",
    "\n",
    "\n",
    "3. 절삭품 표면 마모/정상 \n",
    "\n",
    "\n",
    "> 내가 원하는건 3가지의 모델의 결과 값으로 마모일 확률, 정상일 확률을 출력하는 모델을 만들고 싶다."
   ]
  },
  {
   "cell_type": "markdown",
   "id": "56e24429-7dd7-49cc-87e5-a6288a2f3861",
   "metadata": {},
   "source": [
    "전류 예측은 전류 값만 나온다 / 마모 픽셀수만 나오고/ 0과 1 이진분류 값만 나온다."
   ]
  },
  {
   "cell_type": "markdown",
   "id": "34319a5c-b0a5-4bb7-8190-8d7da5d19de0",
   "metadata": {},
   "source": [
    "가공 조건을 달리해서 한다..?"
   ]
  },
  {
   "cell_type": "markdown",
   "id": "9fe476c0-3b13-4296-8ac6-bdfa80bfa619",
   "metadata": {},
   "source": [
    "# `8월 3일`\n",
    "* 일단 대략적인 모델의 구성은 세움\n",
    "인풋 변수로 "
   ]
  },
  {
   "cell_type": "markdown",
   "id": "3d8fddab-b5fc-48c6-96db-0d2f2371aa1f",
   "metadata": {},
   "source": [
    "`8월 23일`\n",
    "\n",
    "* 현재 데이터에 레이블이 없기에 self supervised learning에 대해 공부중\n",
    "\n",
    "* 문제가 있는데. ssl분야는 대부분 비정형데이터 위주로 연구되고 있기에 , 정형데이터에 맞는 모델이 몇개 없음..\n",
    "\n",
    "* 그나마 몇개 있는거\n",
    "\n",
    "1. saint: transformer 기반\n",
    "\n",
    "2. scarf : ac 기반\n",
    "\n",
    "3. subtab: ac 기반\n",
    "\n",
    "4. tabnet : attenstion 기반\n",
    "\n",
    "https://themore-dont-know.tistory.com/2"
   ]
  },
  {
   "cell_type": "code",
   "execution_count": null,
   "id": "99fb6fee-2da2-4ad7-8525-4d3eb477a71c",
   "metadata": {},
   "outputs": [],
   "source": []
  }
 ],
 "metadata": {
  "kernelspec": {
   "display_name": "Python 3 (ipykernel)",
   "language": "python",
   "name": "python3"
  },
  "language_info": {
   "codemirror_mode": {
    "name": "ipython",
    "version": 3
   },
   "file_extension": ".py",
   "mimetype": "text/x-python",
   "name": "python",
   "nbconvert_exporter": "python",
   "pygments_lexer": "ipython3",
   "version": "3.9.12"
  }
 },
 "nbformat": 4,
 "nbformat_minor": 5
}
