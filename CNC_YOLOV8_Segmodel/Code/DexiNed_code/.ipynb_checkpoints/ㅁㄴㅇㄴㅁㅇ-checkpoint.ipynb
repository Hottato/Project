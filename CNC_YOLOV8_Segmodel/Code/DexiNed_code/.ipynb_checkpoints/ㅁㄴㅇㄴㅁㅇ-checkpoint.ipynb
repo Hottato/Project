{
 "cells": [
  {
   "cell_type": "code",
   "execution_count": 1,
   "id": "3c0a5b6a-499e-4c15-980e-4e22664898b5",
   "metadata": {},
   "outputs": [
    {
     "data": {
      "text/plain": [
       "2"
      ]
     },
     "execution_count": 1,
     "metadata": {},
     "output_type": "execute_result"
    }
   ],
   "source": [
    "1+1"
   ]
  },
  {
   "cell_type": "code",
   "execution_count": null,
   "id": "23981300-0c68-4e71-8268-a221dd9df1db",
   "metadata": {},
   "outputs": [],
   "source": []
  }
 ],
 "metadata": {
  "kernelspec": {
   "display_name": "Python 3 (ipykernel)",
   "language": "python",
   "name": "python3"
  },
  "language_info": {
   "codemirror_mode": {
    "name": "ipython",
    "version": 3
   },
   "file_extension": ".py",
   "mimetype": "text/x-python",
   "name": "python",
   "nbconvert_exporter": "python",
   "pygments_lexer": "ipython3",
   "version": "3.9.13"
  }
 },
 "nbformat": 4,
 "nbformat_minor": 5
}
