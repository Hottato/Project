{
 "cells": [
  {
   "cell_type": "code",
   "execution_count": 1,
   "id": "007bbc25-78e6-4712-b227-dbbd1a21d4a1",
   "metadata": {},
   "outputs": [
    {
     "ename": "ModuleNotFoundError",
     "evalue": "No module named 'pytorch'",
     "output_type": "error",
     "traceback": [
      "\u001b[1;31m---------------------------------------------------------------------------\u001b[0m",
      "\u001b[1;31mModuleNotFoundError\u001b[0m                       Traceback (most recent call last)",
      "Cell \u001b[1;32mIn[1], line 1\u001b[0m\n\u001b[1;32m----> 1\u001b[0m \u001b[38;5;28;01mimport\u001b[39;00m \u001b[38;5;21;01mpytorch\u001b[39;00m\n",
      "\u001b[1;31mModuleNotFoundError\u001b[0m: No module named 'pytorch'"
     ]
    }
   ],
   "source": [
    "import pytorch"
   ]
  },
  {
   "cell_type": "code",
   "execution_count": 1,
   "id": "60517ecf-0bda-40fd-ba03-6ed5834acdd1",
   "metadata": {},
   "outputs": [
    {
     "data": {
      "text/plain": [
       "2"
      ]
     },
     "execution_count": 1,
     "metadata": {},
     "output_type": "execute_result"
    }
   ],
   "source": [
    "1+1"
   ]
  },
  {
   "cell_type": "code",
   "execution_count": 2,
   "id": "858fd25c-12ca-4d8d-be8d-9d9f2f34a1d2",
   "metadata": {
    "tags": []
   },
   "outputs": [
    {
     "name": "stdout",
     "output_type": "stream",
     "text": [
      "Looking in indexes: https://download.pytorch.org/whl/cu118\n",
      "Collecting torch\n",
      "  Using cached https://download.pytorch.org/whl/cu118/torch-2.0.1%2Bcu118-cp39-cp39-win_amd64.whl (2619.2 MB)\n",
      "Collecting torchvision\n",
      "  Using cached https://download.pytorch.org/whl/cu118/torchvision-0.15.2%2Bcu118-cp39-cp39-win_amd64.whl (4.9 MB)\n",
      "Collecting torchaudio\n",
      "  Using cached https://download.pytorch.org/whl/cu118/torchaudio-2.0.2%2Bcu118-cp39-cp39-win_amd64.whl (2.5 MB)\n",
      "Requirement already satisfied: filelock in c:\\users\\31083\\anaconda3\\envs\\test_envs\\lib\\site-packages (from torch) (3.12.0)\n",
      "Requirement already satisfied: sympy in c:\\users\\31083\\anaconda3\\envs\\test_envs\\lib\\site-packages (from torch) (1.12)\n",
      "Requirement already satisfied: typing-extensions in c:\\users\\31083\\anaconda3\\envs\\test_envs\\lib\\site-packages (from torch) (4.5.0)\n",
      "Requirement already satisfied: jinja2 in c:\\users\\31083\\anaconda3\\envs\\test_envs\\lib\\site-packages (from torch) (3.1.2)\n",
      "Requirement already satisfied: networkx in c:\\users\\31083\\anaconda3\\envs\\test_envs\\lib\\site-packages (from torch) (3.1)\n",
      "Requirement already satisfied: requests in c:\\users\\31083\\anaconda3\\envs\\test_envs\\lib\\site-packages (from torchvision) (2.29.0)\n",
      "Requirement already satisfied: pillow!=8.3.*,>=5.3.0 in c:\\users\\31083\\anaconda3\\envs\\test_envs\\lib\\site-packages (from torchvision) (9.5.0)\n",
      "Requirement already satisfied: numpy in c:\\users\\31083\\anaconda3\\envs\\test_envs\\lib\\site-packages (from torchvision) (1.23.5)\n",
      "Requirement already satisfied: MarkupSafe>=2.0 in c:\\users\\31083\\anaconda3\\envs\\test_envs\\lib\\site-packages (from jinja2->torch) (2.1.1)\n",
      "Requirement already satisfied: idna<4,>=2.5 in c:\\users\\31083\\anaconda3\\envs\\test_envs\\lib\\site-packages (from requests->torchvision) (2.10)\n",
      "Requirement already satisfied: certifi>=2017.4.17 in c:\\users\\31083\\anaconda3\\envs\\test_envs\\lib\\site-packages (from requests->torchvision) (2022.12.7)\n",
      "Requirement already satisfied: charset-normalizer<4,>=2 in c:\\users\\31083\\anaconda3\\envs\\test_envs\\lib\\site-packages (from requests->torchvision) (2.0.4)\n",
      "Requirement already satisfied: urllib3<1.27,>=1.21.1 in c:\\users\\31083\\anaconda3\\envs\\test_envs\\lib\\site-packages (from requests->torchvision) (1.26.15)\n",
      "Requirement already satisfied: mpmath>=0.19 in c:\\users\\31083\\anaconda3\\envs\\test_envs\\lib\\site-packages (from sympy->torch) (1.3.0)\n",
      "Installing collected packages: torch, torchvision, torchaudio\n",
      "Successfully installed torch-2.0.1+cu118 torchaudio-2.0.2+cu118 torchvision-0.15.2+cu118\n"
     ]
    },
    {
     "name": "stderr",
     "output_type": "stream",
     "text": [
      "WARNING: Ignoring invalid distribution -orch (c:\\users\\31083\\anaconda3\\envs\\test_envs\\lib\\site-packages)\n",
      "WARNING: Ignoring invalid distribution -orch (c:\\users\\31083\\anaconda3\\envs\\test_envs\\lib\\site-packages)\n",
      "WARNING: Ignoring invalid distribution -orch (c:\\users\\31083\\anaconda3\\envs\\test_envs\\lib\\site-packages)\n",
      "WARNING: Ignoring invalid distribution -orch (c:\\users\\31083\\anaconda3\\envs\\test_envs\\lib\\site-packages)\n",
      "WARNING: Ignoring invalid distribution -orch (c:\\users\\31083\\anaconda3\\envs\\test_envs\\lib\\site-packages)\n",
      "WARNING: Ignoring invalid distribution -orch (c:\\users\\31083\\anaconda3\\envs\\test_envs\\lib\\site-packages)\n",
      "WARNING: Ignoring invalid distribution -orch (c:\\users\\31083\\anaconda3\\envs\\test_envs\\lib\\site-packages)\n",
      "WARNING: Ignoring invalid distribution -orch (c:\\users\\31083\\anaconda3\\envs\\test_envs\\lib\\site-packages)\n",
      "WARNING: Ignoring invalid distribution -orch (c:\\users\\31083\\anaconda3\\envs\\test_envs\\lib\\site-packages)\n"
     ]
    }
   ],
   "source": [
    "!pip3 install torch torchvision torchaudio --index-url https://download.pytorch.org/whl/cu118"
   ]
  },
  {
   "cell_type": "code",
   "execution_count": 3,
   "id": "fc32ae34-03c4-4b2f-a433-4639dc174b53",
   "metadata": {
    "tags": []
   },
   "outputs": [
    {
     "name": "stdout",
     "output_type": "stream",
     "text": [
      "True\n",
      "2.0.1+cu118\n"
     ]
    }
   ],
   "source": [
    "import torch\n",
    "print(torch.cuda.is_available())\n",
    "print(torch.__version__)"
   ]
  },
  {
   "cell_type": "code",
   "execution_count": 4,
   "id": "b652c609-7a01-4097-a1e4-cf32fb00a486",
   "metadata": {
    "tags": []
   },
   "outputs": [
    {
     "name": "stdout",
     "output_type": "stream",
     "text": [
      "Requirement already satisfied: numpy in c:\\users\\31083\\anaconda3\\envs\\cuda_12_1\\lib\\site-packages (1.24.1)\n",
      "Requirement already satisfied: IPython in c:\\users\\31083\\anaconda3\\envs\\cuda_12_1\\lib\\site-packages (8.12.0)\n",
      "Collecting wandb\n",
      "  Downloading wandb-0.15.5-py3-none-any.whl (2.1 MB)\n",
      "                                              0.0/2.1 MB ? eta -:--:--\n",
      "     -----------------------------------      1.8/2.1 MB 38.6 MB/s eta 0:00:01\n",
      "     ---------------------------------------- 2.1/2.1 MB 32.7 MB/s eta 0:00:00\n",
      "Requirement already satisfied: backcall in c:\\users\\31083\\anaconda3\\envs\\cuda_12_1\\lib\\site-packages (from IPython) (0.2.0)\n",
      "Requirement already satisfied: decorator in c:\\users\\31083\\anaconda3\\envs\\cuda_12_1\\lib\\site-packages (from IPython) (5.1.1)\n",
      "Requirement already satisfied: jedi>=0.16 in c:\\users\\31083\\anaconda3\\envs\\cuda_12_1\\lib\\site-packages (from IPython) (0.18.1)\n",
      "Requirement already satisfied: matplotlib-inline in c:\\users\\31083\\anaconda3\\envs\\cuda_12_1\\lib\\site-packages (from IPython) (0.1.6)\n",
      "Requirement already satisfied: pickleshare in c:\\users\\31083\\anaconda3\\envs\\cuda_12_1\\lib\\site-packages (from IPython) (0.7.5)\n",
      "Requirement already satisfied: prompt-toolkit!=3.0.37,<3.1.0,>=3.0.30 in c:\\users\\31083\\anaconda3\\envs\\cuda_12_1\\lib\\site-packages (from IPython) (3.0.36)\n",
      "Requirement already satisfied: pygments>=2.4.0 in c:\\users\\31083\\anaconda3\\envs\\cuda_12_1\\lib\\site-packages (from IPython) (2.15.1)\n",
      "Requirement already satisfied: stack-data in c:\\users\\31083\\anaconda3\\envs\\cuda_12_1\\lib\\site-packages (from IPython) (0.2.0)\n",
      "Requirement already satisfied: traitlets>=5 in c:\\users\\31083\\anaconda3\\envs\\cuda_12_1\\lib\\site-packages (from IPython) (5.7.1)\n",
      "Requirement already satisfied: typing-extensions in c:\\users\\31083\\anaconda3\\envs\\cuda_12_1\\lib\\site-packages (from IPython) (4.6.3)\n",
      "Requirement already satisfied: colorama in c:\\users\\31083\\anaconda3\\envs\\cuda_12_1\\lib\\site-packages (from IPython) (0.4.6)\n",
      "Collecting Click!=8.0.0,>=7.1 (from wandb)\n",
      "  Downloading click-8.1.6-py3-none-any.whl (97 kB)\n",
      "                                              0.0/97.9 kB ? eta -:--:--\n",
      "     ---------------------------------------- 97.9/97.9 kB ? eta 0:00:00\n",
      "Collecting GitPython!=3.1.29,>=1.0.0 (from wandb)\n",
      "  Downloading GitPython-3.1.32-py3-none-any.whl (188 kB)\n",
      "                                              0.0/188.5 kB ? eta -:--:--\n",
      "     ------------------------------------- 188.5/188.5 kB 11.9 MB/s eta 0:00:00\n",
      "Requirement already satisfied: requests<3,>=2.0.0 in c:\\users\\31083\\anaconda3\\envs\\cuda_12_1\\lib\\site-packages (from wandb) (2.29.0)\n",
      "Requirement already satisfied: psutil>=5.0.0 in c:\\users\\31083\\anaconda3\\envs\\cuda_12_1\\lib\\site-packages (from wandb) (5.9.0)\n",
      "Collecting sentry-sdk>=1.0.0 (from wandb)\n",
      "  Downloading sentry_sdk-1.28.1-py2.py3-none-any.whl (214 kB)\n",
      "                                              0.0/214.7 kB ? eta -:--:--\n",
      "     ---------------------------------------- 214.7/214.7 kB ? eta 0:00:00\n",
      "Collecting docker-pycreds>=0.4.0 (from wandb)\n",
      "  Using cached docker_pycreds-0.4.0-py2.py3-none-any.whl (9.0 kB)\n",
      "Requirement already satisfied: PyYAML in c:\\users\\31083\\anaconda3\\envs\\cuda_12_1\\lib\\site-packages (from wandb) (6.0)\n",
      "Collecting pathtools (from wandb)\n",
      "  Using cached pathtools-0.1.2-py3-none-any.whl\n",
      "Collecting setproctitle (from wandb)\n",
      "  Using cached setproctitle-1.3.2-cp39-cp39-win_amd64.whl (11 kB)\n",
      "Requirement already satisfied: setuptools in c:\\users\\31083\\anaconda3\\envs\\cuda_12_1\\lib\\site-packages (from wandb) (67.8.0)\n",
      "Collecting appdirs>=1.4.3 (from wandb)\n",
      "  Using cached appdirs-1.4.4-py2.py3-none-any.whl (9.6 kB)\n",
      "Collecting protobuf!=4.21.0,<5,>=3.19.0 (from wandb)\n",
      "  Downloading protobuf-4.23.4-cp39-cp39-win_amd64.whl (422 kB)\n",
      "                                              0.0/422.5 kB ? eta -:--:--\n",
      "     ---------------------------------------- 422.5/422.5 kB ? eta 0:00:00\n",
      "Requirement already satisfied: six>=1.4.0 in c:\\users\\31083\\anaconda3\\envs\\cuda_12_1\\lib\\site-packages (from docker-pycreds>=0.4.0->wandb) (1.16.0)\n",
      "Collecting gitdb<5,>=4.0.1 (from GitPython!=3.1.29,>=1.0.0->wandb)\n",
      "  Using cached gitdb-4.0.10-py3-none-any.whl (62 kB)\n",
      "Requirement already satisfied: parso<0.9.0,>=0.8.0 in c:\\users\\31083\\anaconda3\\envs\\cuda_12_1\\lib\\site-packages (from jedi>=0.16->IPython) (0.8.3)\n",
      "Requirement already satisfied: wcwidth in c:\\users\\31083\\anaconda3\\envs\\cuda_12_1\\lib\\site-packages (from prompt-toolkit!=3.0.37,<3.1.0,>=3.0.30->IPython) (0.2.5)\n",
      "Requirement already satisfied: charset-normalizer<4,>=2 in c:\\users\\31083\\anaconda3\\envs\\cuda_12_1\\lib\\site-packages (from requests<3,>=2.0.0->wandb) (2.0.4)\n",
      "Requirement already satisfied: idna<4,>=2.5 in c:\\users\\31083\\anaconda3\\envs\\cuda_12_1\\lib\\site-packages (from requests<3,>=2.0.0->wandb) (3.4)\n",
      "Requirement already satisfied: urllib3<1.27,>=1.21.1 in c:\\users\\31083\\anaconda3\\envs\\cuda_12_1\\lib\\site-packages (from requests<3,>=2.0.0->wandb) (1.26.16)\n",
      "Requirement already satisfied: certifi>=2017.4.17 in c:\\users\\31083\\anaconda3\\envs\\cuda_12_1\\lib\\site-packages (from requests<3,>=2.0.0->wandb) (2023.5.7)\n",
      "Requirement already satisfied: executing in c:\\users\\31083\\anaconda3\\envs\\cuda_12_1\\lib\\site-packages (from stack-data->IPython) (0.8.3)\n",
      "Requirement already satisfied: asttokens in c:\\users\\31083\\anaconda3\\envs\\cuda_12_1\\lib\\site-packages (from stack-data->IPython) (2.0.5)\n",
      "Requirement already satisfied: pure-eval in c:\\users\\31083\\anaconda3\\envs\\cuda_12_1\\lib\\site-packages (from stack-data->IPython) (0.2.2)\n",
      "Collecting smmap<6,>=3.0.1 (from gitdb<5,>=4.0.1->GitPython!=3.1.29,>=1.0.0->wandb)\n",
      "  Using cached smmap-5.0.0-py3-none-any.whl (24 kB)\n",
      "Installing collected packages: pathtools, appdirs, smmap, setproctitle, sentry-sdk, protobuf, docker-pycreds, Click, gitdb, GitPython, wandb\n",
      "Successfully installed Click-8.1.6 GitPython-3.1.32 appdirs-1.4.4 docker-pycreds-0.4.0 gitdb-4.0.10 pathtools-0.1.2 protobuf-4.23.4 sentry-sdk-1.28.1 setproctitle-1.3.2 smmap-5.0.0 wandb-0.15.5\n"
     ]
    }
   ],
   "source": [
    "!pip install numpy IPython wandb"
   ]
  },
  {
   "cell_type": "code",
   "execution_count": 5,
   "id": "7b1fd794-5983-4810-92cf-4286c5b281ea",
   "metadata": {
    "tags": []
   },
   "outputs": [
    {
     "name": "stdout",
     "output_type": "stream",
     "text": [
      "Requirement already satisfied: numpy in c:\\users\\31083\\anaconda3\\envs\\cuda_12_1\\lib\\site-packages (1.24.1)\n",
      "Collecting pandas\n",
      "  Downloading pandas-2.0.3-cp39-cp39-win_amd64.whl (10.8 MB)\n",
      "                                              0.0/10.8 MB ? eta -:--:--\n",
      "     -                                        0.4/10.8 MB 9.2 MB/s eta 0:00:02\n",
      "     ----                                     1.2/10.8 MB 12.2 MB/s eta 0:00:01\n",
      "     -------                                  2.1/10.8 MB 14.9 MB/s eta 0:00:01\n",
      "     ------------                             3.5/10.8 MB 18.5 MB/s eta 0:00:01\n",
      "     -------------------                      5.3/10.8 MB 22.3 MB/s eta 0:00:01\n",
      "     -----------------------                  6.3/10.8 MB 25.1 MB/s eta 0:00:01\n",
      "     -----------------------                  6.3/10.8 MB 25.1 MB/s eta 0:00:01\n",
      "     ------------------------------           8.3/10.8 MB 23.1 MB/s eta 0:00:01\n",
      "     --------------------------------------  10.8/10.8 MB 29.7 MB/s eta 0:00:01\n",
      "     --------------------------------------- 10.8/10.8 MB 27.3 MB/s eta 0:00:00\n",
      "Collecting matplotlib\n",
      "  Downloading matplotlib-3.7.2-cp39-cp39-win_amd64.whl (7.5 MB)\n",
      "                                              0.0/7.5 MB ? eta -:--:--\n",
      "     --------------                           2.7/7.5 MB 87.5 MB/s eta 0:00:01\n",
      "     ---------------------------------------  7.5/7.5 MB 80.5 MB/s eta 0:00:01\n",
      "     ---------------------------------------- 7.5/7.5 MB 68.8 MB/s eta 0:00:00\n",
      "Collecting scikit-learn\n",
      "  Downloading scikit_learn-1.3.0-cp39-cp39-win_amd64.whl (9.3 MB)\n",
      "                                              0.0/9.3 MB ? eta -:--:--\n",
      "     ------------------                       4.3/9.3 MB 138.7 MB/s eta 0:00:01\n",
      "     ---------------------------------------  9.3/9.3 MB 98.9 MB/s eta 0:00:01\n",
      "     ---------------------------------------- 9.3/9.3 MB 74.5 MB/s eta 0:00:00\n",
      "Collecting seaborn\n",
      "  Using cached seaborn-0.12.2-py3-none-any.whl (293 kB)\n",
      "Requirement already satisfied: python-dateutil>=2.8.2 in c:\\users\\31083\\anaconda3\\envs\\cuda_12_1\\lib\\site-packages (from pandas) (2.8.2)\n",
      "Requirement already satisfied: pytz>=2020.1 in c:\\users\\31083\\anaconda3\\envs\\cuda_12_1\\lib\\site-packages (from pandas) (2022.7)\n",
      "Collecting tzdata>=2022.1 (from pandas)\n",
      "  Using cached tzdata-2023.3-py2.py3-none-any.whl (341 kB)\n",
      "Collecting contourpy>=1.0.1 (from matplotlib)\n",
      "  Downloading contourpy-1.1.0-cp39-cp39-win_amd64.whl (429 kB)\n",
      "                                              0.0/429.4 kB ? eta -:--:--\n",
      "     ---------------------------------------- 429.4/429.4 kB ? eta 0:00:00\n",
      "Collecting cycler>=0.10 (from matplotlib)\n",
      "  Using cached cycler-0.11.0-py3-none-any.whl (6.4 kB)\n",
      "Collecting fonttools>=4.22.0 (from matplotlib)\n",
      "  Downloading fonttools-4.41.0-cp39-cp39-win_amd64.whl (2.0 MB)\n",
      "                                              0.0/2.0 MB ? eta -:--:--\n",
      "     ---------------------------------------- 2.0/2.0 MB 63.3 MB/s eta 0:00:00\n",
      "Collecting kiwisolver>=1.0.1 (from matplotlib)\n",
      "  Using cached kiwisolver-1.4.4-cp39-cp39-win_amd64.whl (55 kB)\n",
      "Requirement already satisfied: packaging>=20.0 in c:\\users\\31083\\anaconda3\\envs\\cuda_12_1\\lib\\site-packages (from matplotlib) (23.0)\n",
      "Requirement already satisfied: pillow>=6.2.0 in c:\\users\\31083\\anaconda3\\envs\\cuda_12_1\\lib\\site-packages (from matplotlib) (9.3.0)\n",
      "Collecting pyparsing<3.1,>=2.3.1 (from matplotlib)\n",
      "  Using cached pyparsing-3.0.9-py3-none-any.whl (98 kB)\n",
      "Collecting importlib-resources>=3.2.0 (from matplotlib)\n",
      "  Downloading importlib_resources-6.0.0-py3-none-any.whl (31 kB)\n",
      "Collecting scipy>=1.5.0 (from scikit-learn)\n",
      "  Downloading scipy-1.11.1-cp39-cp39-win_amd64.whl (44.1 MB)\n",
      "                                              0.0/44.1 MB ? eta -:--:--\n",
      "     ---                                     4.2/44.1 MB 134.8 MB/s eta 0:00:01\n",
      "     -------                                 8.6/44.1 MB 110.1 MB/s eta 0:00:01\n",
      "     -----------                             12.9/44.1 MB 81.8 MB/s eta 0:00:01\n",
      "     ------------                            14.6/44.1 MB 81.8 MB/s eta 0:00:01\n",
      "     -------------                           15.7/44.1 MB 54.7 MB/s eta 0:00:01\n",
      "     ----------------                        18.3/44.1 MB 54.4 MB/s eta 0:00:01\n",
      "     -------------------                     22.5/44.1 MB 54.7 MB/s eta 0:00:01\n",
      "     ----------------------                  25.9/44.1 MB 93.0 MB/s eta 0:00:01\n",
      "     --------------------------             30.2/44.1 MB 108.8 MB/s eta 0:00:01\n",
      "     -----------------------------          34.3/44.1 MB 110.0 MB/s eta 0:00:01\n",
      "     ----------------------------------      38.5/44.1 MB 81.8 MB/s eta 0:00:01\n",
      "     --------------------------------------  43.1/44.1 MB 93.0 MB/s eta 0:00:01\n",
      "     --------------------------------------  44.1/44.1 MB 93.0 MB/s eta 0:00:01\n",
      "     --------------------------------------  44.1/44.1 MB 93.0 MB/s eta 0:00:01\n",
      "     --------------------------------------- 44.1/44.1 MB 50.1 MB/s eta 0:00:00\n",
      "Collecting joblib>=1.1.1 (from scikit-learn)\n",
      "  Downloading joblib-1.3.1-py3-none-any.whl (301 kB)\n",
      "                                              0.0/302.0 kB ? eta -:--:--\n",
      "     ------------------------------------- 302.0/302.0 kB 18.2 MB/s eta 0:00:00\n",
      "Collecting threadpoolctl>=2.0.0 (from scikit-learn)\n",
      "  Downloading threadpoolctl-3.2.0-py3-none-any.whl (15 kB)\n",
      "Requirement already satisfied: zipp>=3.1.0 in c:\\users\\31083\\anaconda3\\envs\\cuda_12_1\\lib\\site-packages (from importlib-resources>=3.2.0->matplotlib) (3.11.0)\n",
      "Requirement already satisfied: six>=1.5 in c:\\users\\31083\\anaconda3\\envs\\cuda_12_1\\lib\\site-packages (from python-dateutil>=2.8.2->pandas) (1.16.0)\n",
      "Installing collected packages: tzdata, threadpoolctl, scipy, pyparsing, kiwisolver, joblib, importlib-resources, fonttools, cycler, contourpy, scikit-learn, pandas, matplotlib, seaborn\n",
      "Successfully installed contourpy-1.1.0 cycler-0.11.0 fonttools-4.41.0 importlib-resources-6.0.0 joblib-1.3.1 kiwisolver-1.4.4 matplotlib-3.7.2 pandas-2.0.3 pyparsing-3.0.9 scikit-learn-1.3.0 scipy-1.11.1 seaborn-0.12.2 threadpoolctl-3.2.0 tzdata-2023.3\n"
     ]
    }
   ],
   "source": [
    "!pip install numpy pandas matplotlib scikit-learn seaborn\n"
   ]
  },
  {
   "cell_type": "code",
   "execution_count": 6,
   "id": "79010044-96c3-4206-aa0e-aca006aa6ad3",
   "metadata": {
    "tags": []
   },
   "outputs": [
    {
     "name": "stdout",
     "output_type": "stream",
     "text": [
      "Collecting fastai\n",
      "  Using cached fastai-2.7.12-py3-none-any.whl (233 kB)\n",
      "Requirement already satisfied: pip in c:\\users\\31083\\anaconda3\\envs\\cuda_12_1\\lib\\site-packages (from fastai) (23.1.2)\n",
      "Requirement already satisfied: packaging in c:\\users\\31083\\anaconda3\\envs\\cuda_12_1\\lib\\site-packages (from fastai) (23.0)\n",
      "Collecting fastdownload<2,>=0.0.5 (from fastai)\n",
      "  Using cached fastdownload-0.0.7-py3-none-any.whl (12 kB)\n",
      "Collecting fastcore<1.6,>=1.5.29 (from fastai)\n",
      "  Using cached fastcore-1.5.29-py3-none-any.whl (67 kB)\n",
      "Requirement already satisfied: torchvision>=0.8.2 in c:\\users\\31083\\anaconda3\\envs\\cuda_12_1\\lib\\site-packages (from fastai) (0.15.2+cu118)\n",
      "Requirement already satisfied: matplotlib in c:\\users\\31083\\anaconda3\\envs\\cuda_12_1\\lib\\site-packages (from fastai) (3.7.2)\n",
      "Requirement already satisfied: pandas in c:\\users\\31083\\anaconda3\\envs\\cuda_12_1\\lib\\site-packages (from fastai) (2.0.3)\n",
      "Requirement already satisfied: requests in c:\\users\\31083\\anaconda3\\envs\\cuda_12_1\\lib\\site-packages (from fastai) (2.29.0)\n",
      "Requirement already satisfied: pyyaml in c:\\users\\31083\\anaconda3\\envs\\cuda_12_1\\lib\\site-packages (from fastai) (6.0)\n",
      "Collecting fastprogress>=0.2.4 (from fastai)\n",
      "  Using cached fastprogress-1.0.3-py3-none-any.whl (12 kB)\n",
      "Requirement already satisfied: pillow>6.0.0 in c:\\users\\31083\\anaconda3\\envs\\cuda_12_1\\lib\\site-packages (from fastai) (9.3.0)\n",
      "Requirement already satisfied: scikit-learn in c:\\users\\31083\\anaconda3\\envs\\cuda_12_1\\lib\\site-packages (from fastai) (1.3.0)\n",
      "Requirement already satisfied: scipy in c:\\users\\31083\\anaconda3\\envs\\cuda_12_1\\lib\\site-packages (from fastai) (1.11.1)\n",
      "Collecting spacy<4 (from fastai)\n",
      "  Downloading spacy-3.6.0-cp39-cp39-win_amd64.whl (12.3 MB)\n",
      "                                              0.0/12.3 MB ? eta -:--:--\n",
      "                                              0.3/12.3 MB 7.9 MB/s eta 0:00:02\n",
      "     --                                       0.7/12.3 MB 8.8 MB/s eta 0:00:02\n",
      "     ----                                     1.4/12.3 MB 11.4 MB/s eta 0:00:01\n",
      "     -------                                  2.2/12.3 MB 14.0 MB/s eta 0:00:01\n",
      "     -----------                              3.6/12.3 MB 17.9 MB/s eta 0:00:01\n",
      "     ------------------                       5.6/12.3 MB 22.4 MB/s eta 0:00:01\n",
      "     -----------------------                  7.3/12.3 MB 27.6 MB/s eta 0:00:01\n",
      "     -----------------------                  7.3/12.3 MB 27.6 MB/s eta 0:00:01\n",
      "     --------------------------               8.2/12.3 MB 22.7 MB/s eta 0:00:01\n",
      "     ------------------------------------    11.6/12.3 MB 34.4 MB/s eta 0:00:01\n",
      "     --------------------------------------  12.3/12.3 MB 38.5 MB/s eta 0:00:01\n",
      "     --------------------------------------- 12.3/12.3 MB 32.7 MB/s eta 0:00:00\n",
      "Requirement already satisfied: torch<2.1,>=1.7 in c:\\users\\31083\\anaconda3\\envs\\cuda_12_1\\lib\\site-packages (from fastai) (2.0.1+cu118)\n",
      "Collecting spacy-legacy<3.1.0,>=3.0.11 (from spacy<4->fastai)\n",
      "  Using cached spacy_legacy-3.0.12-py2.py3-none-any.whl (29 kB)\n",
      "Collecting spacy-loggers<2.0.0,>=1.0.0 (from spacy<4->fastai)\n",
      "  Using cached spacy_loggers-1.0.4-py3-none-any.whl (11 kB)\n",
      "Collecting murmurhash<1.1.0,>=0.28.0 (from spacy<4->fastai)\n",
      "  Using cached murmurhash-1.0.9-cp39-cp39-win_amd64.whl (18 kB)\n",
      "Collecting cymem<2.1.0,>=2.0.2 (from spacy<4->fastai)\n",
      "  Using cached cymem-2.0.7-cp39-cp39-win_amd64.whl (30 kB)\n",
      "Collecting preshed<3.1.0,>=3.0.2 (from spacy<4->fastai)\n",
      "  Using cached preshed-3.0.8-cp39-cp39-win_amd64.whl (96 kB)\n",
      "Collecting thinc<8.2.0,>=8.1.8 (from spacy<4->fastai)\n",
      "  Using cached thinc-8.1.10-cp39-cp39-win_amd64.whl (1.5 MB)\n",
      "Collecting wasabi<1.2.0,>=0.9.1 (from spacy<4->fastai)\n",
      "  Downloading wasabi-1.1.2-py3-none-any.whl (27 kB)\n",
      "Collecting srsly<3.0.0,>=2.4.3 (from spacy<4->fastai)\n",
      "  Downloading srsly-2.4.7-cp39-cp39-win_amd64.whl (483 kB)\n",
      "                                              0.0/483.6 kB ? eta -:--:--\n",
      "     ---------------------------------------- 483.6/483.6 kB ? eta 0:00:00\n",
      "Collecting catalogue<2.1.0,>=2.0.6 (from spacy<4->fastai)\n",
      "  Using cached catalogue-2.0.8-py3-none-any.whl (17 kB)\n",
      "Collecting typer<0.10.0,>=0.3.0 (from spacy<4->fastai)\n",
      "  Downloading typer-0.9.0-py3-none-any.whl (45 kB)\n",
      "                                              0.0/45.9 kB ? eta -:--:--\n",
      "     ---------------------------------------- 45.9/45.9 kB ? eta 0:00:00\n",
      "Collecting pathy>=0.10.0 (from spacy<4->fastai)\n",
      "  Downloading pathy-0.10.2-py3-none-any.whl (48 kB)\n",
      "                                              0.0/48.9 kB ? eta -:--:--\n",
      "     ---------------------------------------- 48.9/48.9 kB ? eta 0:00:00\n",
      "Collecting smart-open<7.0.0,>=5.2.1 (from spacy<4->fastai)\n",
      "  Using cached smart_open-6.3.0-py3-none-any.whl (56 kB)\n",
      "Collecting tqdm<5.0.0,>=4.38.0 (from spacy<4->fastai)\n",
      "  Using cached tqdm-4.65.0-py3-none-any.whl (77 kB)\n",
      "Requirement already satisfied: numpy>=1.15.0 in c:\\users\\31083\\anaconda3\\envs\\cuda_12_1\\lib\\site-packages (from spacy<4->fastai) (1.24.1)\n",
      "Collecting pydantic!=1.8,!=1.8.1,<1.11.0,>=1.7.4 (from spacy<4->fastai)\n",
      "  Downloading pydantic-1.10.11-cp39-cp39-win_amd64.whl (2.2 MB)\n",
      "                                              0.0/2.2 MB ? eta -:--:--\n",
      "     ---------------------------------------- 2.2/2.2 MB 145.2 MB/s eta 0:00:00\n",
      "Requirement already satisfied: jinja2 in c:\\users\\31083\\anaconda3\\envs\\cuda_12_1\\lib\\site-packages (from spacy<4->fastai) (3.1.2)\n",
      "Requirement already satisfied: setuptools in c:\\users\\31083\\anaconda3\\envs\\cuda_12_1\\lib\\site-packages (from spacy<4->fastai) (67.8.0)\n",
      "Collecting langcodes<4.0.0,>=3.2.0 (from spacy<4->fastai)\n",
      "  Using cached langcodes-3.3.0-py3-none-any.whl (181 kB)\n",
      "Requirement already satisfied: charset-normalizer<4,>=2 in c:\\users\\31083\\anaconda3\\envs\\cuda_12_1\\lib\\site-packages (from requests->fastai) (2.0.4)\n",
      "Requirement already satisfied: idna<4,>=2.5 in c:\\users\\31083\\anaconda3\\envs\\cuda_12_1\\lib\\site-packages (from requests->fastai) (3.4)\n",
      "Requirement already satisfied: urllib3<1.27,>=1.21.1 in c:\\users\\31083\\anaconda3\\envs\\cuda_12_1\\lib\\site-packages (from requests->fastai) (1.26.16)\n",
      "Requirement already satisfied: certifi>=2017.4.17 in c:\\users\\31083\\anaconda3\\envs\\cuda_12_1\\lib\\site-packages (from requests->fastai) (2023.5.7)\n",
      "Requirement already satisfied: filelock in c:\\users\\31083\\anaconda3\\envs\\cuda_12_1\\lib\\site-packages (from torch<2.1,>=1.7->fastai) (3.9.0)\n",
      "Requirement already satisfied: typing-extensions in c:\\users\\31083\\anaconda3\\envs\\cuda_12_1\\lib\\site-packages (from torch<2.1,>=1.7->fastai) (4.6.3)\n",
      "Requirement already satisfied: sympy in c:\\users\\31083\\anaconda3\\envs\\cuda_12_1\\lib\\site-packages (from torch<2.1,>=1.7->fastai) (1.11.1)\n",
      "Requirement already satisfied: networkx in c:\\users\\31083\\anaconda3\\envs\\cuda_12_1\\lib\\site-packages (from torch<2.1,>=1.7->fastai) (3.0)\n",
      "Requirement already satisfied: contourpy>=1.0.1 in c:\\users\\31083\\anaconda3\\envs\\cuda_12_1\\lib\\site-packages (from matplotlib->fastai) (1.1.0)\n",
      "Requirement already satisfied: cycler>=0.10 in c:\\users\\31083\\anaconda3\\envs\\cuda_12_1\\lib\\site-packages (from matplotlib->fastai) (0.11.0)\n",
      "Requirement already satisfied: fonttools>=4.22.0 in c:\\users\\31083\\anaconda3\\envs\\cuda_12_1\\lib\\site-packages (from matplotlib->fastai) (4.41.0)\n",
      "Requirement already satisfied: kiwisolver>=1.0.1 in c:\\users\\31083\\anaconda3\\envs\\cuda_12_1\\lib\\site-packages (from matplotlib->fastai) (1.4.4)\n",
      "Requirement already satisfied: pyparsing<3.1,>=2.3.1 in c:\\users\\31083\\anaconda3\\envs\\cuda_12_1\\lib\\site-packages (from matplotlib->fastai) (3.0.9)\n",
      "Requirement already satisfied: python-dateutil>=2.7 in c:\\users\\31083\\anaconda3\\envs\\cuda_12_1\\lib\\site-packages (from matplotlib->fastai) (2.8.2)\n",
      "Requirement already satisfied: importlib-resources>=3.2.0 in c:\\users\\31083\\anaconda3\\envs\\cuda_12_1\\lib\\site-packages (from matplotlib->fastai) (6.0.0)\n",
      "Requirement already satisfied: pytz>=2020.1 in c:\\users\\31083\\anaconda3\\envs\\cuda_12_1\\lib\\site-packages (from pandas->fastai) (2022.7)\n",
      "Requirement already satisfied: tzdata>=2022.1 in c:\\users\\31083\\anaconda3\\envs\\cuda_12_1\\lib\\site-packages (from pandas->fastai) (2023.3)\n",
      "Requirement already satisfied: joblib>=1.1.1 in c:\\users\\31083\\anaconda3\\envs\\cuda_12_1\\lib\\site-packages (from scikit-learn->fastai) (1.3.1)\n",
      "Requirement already satisfied: threadpoolctl>=2.0.0 in c:\\users\\31083\\anaconda3\\envs\\cuda_12_1\\lib\\site-packages (from scikit-learn->fastai) (3.2.0)\n",
      "Requirement already satisfied: zipp>=3.1.0 in c:\\users\\31083\\anaconda3\\envs\\cuda_12_1\\lib\\site-packages (from importlib-resources>=3.2.0->matplotlib->fastai) (3.11.0)\n",
      "Requirement already satisfied: six>=1.5 in c:\\users\\31083\\anaconda3\\envs\\cuda_12_1\\lib\\site-packages (from python-dateutil>=2.7->matplotlib->fastai) (1.16.0)\n",
      "Collecting blis<0.8.0,>=0.7.8 (from thinc<8.2.0,>=8.1.8->spacy<4->fastai)\n",
      "  Using cached blis-0.7.9-cp39-cp39-win_amd64.whl (7.0 MB)\n",
      "Collecting confection<1.0.0,>=0.0.1 (from thinc<8.2.0,>=8.1.8->spacy<4->fastai)\n",
      "  Downloading confection-0.1.0-py3-none-any.whl (34 kB)\n",
      "Requirement already satisfied: colorama in c:\\users\\31083\\anaconda3\\envs\\cuda_12_1\\lib\\site-packages (from tqdm<5.0.0,>=4.38.0->spacy<4->fastai) (0.4.6)\n",
      "Requirement already satisfied: click<9.0.0,>=7.1.1 in c:\\users\\31083\\anaconda3\\envs\\cuda_12_1\\lib\\site-packages (from typer<0.10.0,>=0.3.0->spacy<4->fastai) (8.1.6)\n",
      "Requirement already satisfied: MarkupSafe>=2.0 in c:\\users\\31083\\anaconda3\\envs\\cuda_12_1\\lib\\site-packages (from jinja2->spacy<4->fastai) (2.1.1)\n",
      "Requirement already satisfied: mpmath>=0.19 in c:\\users\\31083\\anaconda3\\envs\\cuda_12_1\\lib\\site-packages (from sympy->torch<2.1,>=1.7->fastai) (1.2.1)\n",
      "Installing collected packages: cymem, wasabi, tqdm, spacy-loggers, spacy-legacy, smart-open, pydantic, murmurhash, langcodes, fastprogress, fastcore, catalogue, blis, typer, srsly, preshed, fastdownload, pathy, confection, thinc, spacy, fastai\n",
      "Successfully installed blis-0.7.9 catalogue-2.0.8 confection-0.1.0 cymem-2.0.7 fastai-2.7.12 fastcore-1.5.29 fastdownload-0.0.7 fastprogress-1.0.3 langcodes-3.3.0 murmurhash-1.0.9 pathy-0.10.2 preshed-3.0.8 pydantic-1.10.11 smart-open-6.3.0 spacy-3.6.0 spacy-legacy-3.0.12 spacy-loggers-1.0.4 srsly-2.4.7 thinc-8.1.10 tqdm-4.65.0 typer-0.9.0 wasabi-1.1.2\n"
     ]
    }
   ],
   "source": [
    "!pip install fastai"
   ]
  },
  {
   "cell_type": "code",
   "execution_count": null,
   "id": "0884b29b-83e3-4eba-a06b-67162e4a59f4",
   "metadata": {},
   "outputs": [],
   "source": []
  }
 ],
 "metadata": {
  "kernelspec": {
   "display_name": "Python 3 (ipykernel)",
   "language": "python",
   "name": "python3"
  },
  "language_info": {
   "codemirror_mode": {
    "name": "ipython",
    "version": 3
   },
   "file_extension": ".py",
   "mimetype": "text/x-python",
   "name": "python",
   "nbconvert_exporter": "python",
   "pygments_lexer": "ipython3",
   "version": "3.9.12"
  }
 },
 "nbformat": 4,
 "nbformat_minor": 5
}
