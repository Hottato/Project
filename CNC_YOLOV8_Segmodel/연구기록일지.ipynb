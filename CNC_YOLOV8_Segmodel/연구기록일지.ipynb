{
 "cells": [
  {
   "cell_type": "markdown",
   "id": "5f27bd24-0c77-461f-af26-0293fa6a2601",
   "metadata": {},
   "source": [
    "# 연구 기록 일지!"
   ]
  },
  {
   "cell_type": "markdown",
   "id": "3af5328d-6e95-4c9f-a4b0-fedc727533d7",
   "metadata": {},
   "source": [
    "> 깃허브를 7월부터 시작해서 이전 일지는 없습니다...\n",
    "\n",
    ">이제부터 꾸준히 작성!!\n",
    "\n",
    "**이곳은 연구기록만 작성할 것 이기에, 코드나 이미지는 기록 하지 않을것 입니다!. 그리고 코드파일과 이미지폴더를 따로 만들어 관리할 것입니다!**"
   ]
  },
  {
   "cell_type": "markdown",
   "id": "08d6d8de-431f-417c-879a-6c1baf9b4880",
   "metadata": {},
   "source": [
    "# 이전 연구 기록 요약"
   ]
  },
  {
   "cell_type": "markdown",
   "id": "cfa04931-ad0d-41ec-844c-0121c6ce0e7a",
   "metadata": {
    "jupyter": {
     "source_hidden": true
    }
   },
   "source": [
    "1. 공구의 마모를 좀더 자세히 표현하기 위한 이미지 프로세싱공부 -> openCV\n",
    "\n",
    "\n",
    "2. 모델링 초기에는 해당 이미지가 마모인지 아닌지만을 판단하는 객체탐지모델만을 고려.\n",
    "\n",
    "3. 하지만 이런건 너무 흔해서 객체탐지 말고 Segmentation쪽으로 방향 전환\n",
    "\n",
    "4. 처음에는 u-net을 이용해 공구에서 마모된 부분만을 세그멘테이션 함.\n",
    "\n",
    "5. 하지만 라벨링을 기능을 추가하고 싶어서 M-RCNN으로 모델변경\n",
    "\n",
    "6. 그러나 M-RCNN과 Tensorflow의 버전충돌이 너무 심해서 모델변경 고려.\n",
    "\n",
    "7. 이후 Yolo에도 Segmentation을 제공한다는 것을 알게 된후 yoloV8 Seg모델을 사용하였고, 성공적으로 마모된 부분만을 세그멘테이션 하였다!. -> 현재까지 진행상황"
   ]
  },
  {
   "cell_type": "markdown",
   "id": "18285445-27a3-4f15-b416-4a434dadc14a",
   "metadata": {},
   "source": [
    "# `-`  기록일지"
   ]
  },
  {
   "cell_type": "markdown",
   "id": "4ad97df3-5204-40f9-aeb3-92cea3d11f59",
   "metadata": {},
   "source": [
    "`7월 13일 목`\n",
    "\n",
    "\n",
    "* 절삭품의 마모를 확인.\n",
    "> 마모된 공구로 작업을 수행한 절삭품과 정상인 공구로 작업을 수행한 절삭품과의 차이를 비교하기 위해\n"
   ]
  },
  {
   "cell_type": "markdown",
   "id": "b029e655-faf5-4abb-9730-2aec46c3b721",
   "metadata": {},
   "source": [
    "`-` 실패.. \n",
    "\n",
    "이유는 실험 과정에서 뭐가 정상인 공구로 만든 절삭품인지 아니면 마모된 공구로 만든 절삭품인지 라벨링 해놓지 않음, 또한 이 실험한 학생은 연락이 잘안됨.."
   ]
  },
  {
   "cell_type": "markdown",
   "id": "a120119f-c7b6-4a8c-b5f6-edca955fdf2b",
   "metadata": {},
   "source": [
    "`7월 14일 금 `"
   ]
  },
  {
   "cell_type": "markdown",
   "id": "563b8b35-99a9-44d1-ad59-c4c2dd6f713e",
   "metadata": {},
   "source": [
    "* 포기하지 않고 절삭품을 하나하나 비교해 가면서 마모를 확인해보자!"
   ]
  },
  {
   "cell_type": "markdown",
   "id": "08fa602e-acb5-4b0f-9fbe-08913ea0f223",
   "metadata": {},
   "source": [
    "`-` **성공!!**"
   ]
  },
  {
   "cell_type": "markdown",
   "id": "5c51b5ba-f108-485e-8def-f9d9e10652d0",
   "metadata": {},
   "source": [
    "> 수많은 절삭품중 한눈에 봐도 표면이 거친것과 매끈한것이 있길래 현미경으로 표면을 관찰한 결과.  두표면에서 분명한 차이가 있다!."
   ]
  },
  {
   "cell_type": "markdown",
   "id": "659ac0da-c358-4570-a13d-794cff1823ea",
   "metadata": {},
   "source": [
    "`7월 19일 수` "
   ]
  },
  {
   "cell_type": "markdown",
   "id": "8f6b69d3-5d5e-4996-90c0-0b725cc1d2d9",
   "metadata": {},
   "source": [
    "* 마모이미지와 정상이미지의 명확한 차이가 필요하다 -> 이미지 세분화\n",
    "\n",
    "1. Edge detection `완`\n",
    "\n",
    "2. U-net -> 개념은 알고 실습만. https://www.youtube.com/watch?v=sSxdQq9CCx0\n",
    "\n",
    "3. pix2pix: https://www.youtube.com/watch?v=BzObmqSexEA&t=652s\n",
    "\n",
    "4. Segmentation anything: https://www.youtube.com/results?search_query=segmentation+anything\n",
    "\n",
    "5. DexiNed\n",
    ": https://www.youtube.com/watch?v=Hz0uU04B3U8"
   ]
  },
  {
   "cell_type": "markdown",
   "id": "e2339e0e",
   "metadata": {},
   "source": [
    "`7월 20일 목`\n",
    "\n",
    "* cuda가 또 말썽이다.. gpu가 잡히지 않는다\n",
    "* cuda 잡혔는데 이젠 TORCH_USE_CUDA_DSA` to enable device-side assertions 이런 에러가 발생한다..."
   ]
  },
  {
   "cell_type": "code",
   "execution_count": 1,
   "id": "e072256a",
   "metadata": {},
   "outputs": [
    {
     "name": "stdout",
     "output_type": "stream",
     "text": [
      "3.9.13 (main, Aug 25 2022, 23:51:50) [MSC v.1916 64 bit (AMD64)]\n"
     ]
    }
   ],
   "source": [
    "import sys\n",
    "print(sys.version)"
   ]
  },
  {
   "cell_type": "code",
   "execution_count": null,
   "id": "f4c70046",
   "metadata": {},
   "outputs": [],
   "source": [
    "TORCH_USE_CUDA_DSA` to enable device-side assertions"
   ]
  }
 ],
 "metadata": {
  "kernelspec": {
   "display_name": "Python 3 (ipykernel)",
   "language": "python",
   "name": "python3"
  },
  "language_info": {
   "codemirror_mode": {
    "name": "ipython",
    "version": 3
   },
   "file_extension": ".py",
   "mimetype": "text/x-python",
   "name": "python",
   "nbconvert_exporter": "python",
   "pygments_lexer": "ipython3",
   "version": "3.9.13"
  },
  "toc": {
   "base_numbering": 1,
   "nav_menu": {},
   "number_sections": true,
   "sideBar": true,
   "skip_h1_title": false,
   "title_cell": "Table of Contents",
   "title_sidebar": "Contents",
   "toc_cell": false,
   "toc_position": {},
   "toc_section_display": true,
   "toc_window_display": false
  }
 },
 "nbformat": 4,
 "nbformat_minor": 5
}
