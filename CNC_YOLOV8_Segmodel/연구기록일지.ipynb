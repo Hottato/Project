{
 "cells": [
  {
   "cell_type": "markdown",
   "id": "5f27bd24-0c77-461f-af26-0293fa6a2601",
   "metadata": {},
   "source": [
    "# 연구 기록 일지!"
   ]
  },
  {
   "cell_type": "markdown",
   "id": "3af5328d-6e95-4c9f-a4b0-fedc727533d7",
   "metadata": {},
   "source": [
    "> 깃허브를 7월부터 시작해서 이전 일지는 없습니다...\n",
    "\n",
    ">이제부터 꾸준히 작성!!\n",
    "\n",
    "**이곳은 연구기록만 작성할 것 이기에, 코드나 이미지는 기록 하지 않을것 입니다!. 그리고 코드파일과 이미지폴더를 따로 만들어 관리할 것입니다!**"
   ]
  },
  {
   "cell_type": "markdown",
   "id": "08d6d8de-431f-417c-879a-6c1baf9b4880",
   "metadata": {},
   "source": [
    "# 이전 연구 기록 요약"
   ]
  },
  {
   "cell_type": "markdown",
   "id": "cfa04931-ad0d-41ec-844c-0121c6ce0e7a",
   "metadata": {
    "jupyter": {
     "source_hidden": true
    }
   },
   "source": [
    "1. 공구의 마모를 좀더 자세히 표현하기 위한 이미지 프로세싱공부 -> openCV\n",
    "\n",
    "\n",
    "2. 모델링 초기에는 해당 이미지가 마모인지 아닌지만을 판단하는 객체탐지모델만을 고려.\n",
    "\n",
    "3. 하지만 이런건 너무 흔해서 객체탐지 말고 Segmentation쪽으로 방향 전환\n",
    "\n",
    "4. 처음에는 u-net을 이용해 공구에서 마모된 부분만을 세그멘테이션 함.\n",
    "\n",
    "5. 하지만 라벨링을 기능을 추가하고 싶어서 M-RCNN으로 모델변경\n",
    "\n",
    "6. 그러나 M-RCNN과 Tensorflow의 버전충돌이 너무 심해서 모델변경 고려.\n",
    "\n",
    "7. 이후 Yolo에도 Segmentation을 제공한다는 것을 알게 된후 yoloV8 Seg모델을 사용하였고, 성공적으로 마모된 부분만을 세그멘테이션 하였다!. -> 현재까지 진행상황"
   ]
  },
  {
   "cell_type": "markdown",
   "id": "18285445-27a3-4f15-b416-4a434dadc14a",
   "metadata": {},
   "source": [
    "# `-`  기록일지"
   ]
  },
  {
   "cell_type": "markdown",
   "id": "4ad97df3-5204-40f9-aeb3-92cea3d11f59",
   "metadata": {},
   "source": [
    "`7월 13일 목`\n",
    "\n",
    "\n",
    "* 절삭품의 마모를 확인.\n",
    "> 마모된 공구로 작업을 수행한 절삭품과 정상인 공구로 작업을 수행한 절삭품과의 차이를 비교하기 위해\n"
   ]
  },
  {
   "cell_type": "markdown",
   "id": "b029e655-faf5-4abb-9730-2aec46c3b721",
   "metadata": {},
   "source": [
    "`-` 실패.. \n",
    "\n",
    "이유는 실험 과정에서 뭐가 정상인 공구로 만든 절삭품인지 아니면 마모된 공구로 만든 절삭품인지 라벨링 해놓지 않음, 또한 이 실험한 학생은 연락이 잘안됨.."
   ]
  },
  {
   "cell_type": "markdown",
   "id": "a120119f-c7b6-4a8c-b5f6-edca955fdf2b",
   "metadata": {},
   "source": [
    "`7월 14일 금 `"
   ]
  },
  {
   "cell_type": "markdown",
   "id": "563b8b35-99a9-44d1-ad59-c4c2dd6f713e",
   "metadata": {},
   "source": [
    "* 포기하지 않고 절삭품을 하나하나 비교해 가면서 마모를 확인해보자!"
   ]
  },
  {
   "cell_type": "markdown",
   "id": "08fa602e-acb5-4b0f-9fbe-08913ea0f223",
   "metadata": {},
   "source": [
    "`-` **성공!!**"
   ]
  },
  {
   "cell_type": "markdown",
   "id": "5c51b5ba-f108-485e-8def-f9d9e10652d0",
   "metadata": {},
   "source": [
    "> 수많은 절삭품중 한눈에 봐도 표면이 거친것과 매끈한것이 있길래 현미경으로 표면을 관찰한 결과.  두표면에서 분명한 차이가 있다!."
   ]
  },
  {
   "cell_type": "markdown",
   "id": "659ac0da-c358-4570-a13d-794cff1823ea",
   "metadata": {},
   "source": [
    "`7월 19일 수` "
   ]
  },
  {
   "cell_type": "markdown",
   "id": "8f6b69d3-5d5e-4996-90c0-0b725cc1d2d9",
   "metadata": {},
   "source": [
    "* 마모이미지와 정상이미지의 명확한 차이가 필요하다 -> 이미지 세분화\n",
    "\n",
    "1. Edge detection `완`\n",
    "\n",
    "2. U-net -> 개념은 알고 실습만. https://www.youtube.com/watch?v=sSxdQq9CCx0\n",
    "\n",
    "3. pix2pix: https://www.youtube.com/watch?v=BzObmqSexEA&t=652s\n",
    "\n",
    "4. Segmentation anything: https://www.youtube.com/results?search_query=segmentation+anything\n",
    "\n",
    "5. DexiNed\n",
    ": https://www.youtube.com/watch?v=Hz0uU04B3U8\n",
    ":https://www.kaggle.com/code/venkatkumar001/dexined-edge-detection-part-ii\n",
    "-> 이것보다는 hed..?"
   ]
  },
  {
   "cell_type": "markdown",
   "id": "e2339e0e",
   "metadata": {},
   "source": [
    "`7월 20일 목`\n",
    "\n",
    "* cuda가 또 말썽이다.. gpu가 잡히지 않는다\n",
    "* cuda 잡혔는데 이젠 TORCH_USE_CUDA_DSA` to enable device-side assertions 이런 에러가 발생한다...\n",
    "\n",
    "`-` 해결완료..하루 다 잡아 먹었다..\n",
    "\n",
    "1. 처음에는 쿠다의 버전을 12.1로 올려줄려고함 왜냐하면 그래픽 권장이 12.1이기에.\n",
    "\n",
    "2. 처음에는 torch에서 사용하는 쿠다 버전만을 업그레이드 함\n",
    "\n",
    "* 그런데 fastai는 최신 토치버전을 지원하지 않음, 그래서 패키지 충돌 발생..\n",
    "\n",
    "* 그런데 이과정에서 또 내가 몰랐던 점이 토치의 쿠다와 gpu드라이버의 쿠다가 서로 다른거 였음.. 난 하나로 통일 되는줄.. \n",
    "\n",
    "* 이걸 몰랐던 나.. 처음에 gpu잡힌다고 좋아하다가 모델학습 과정에서 gpu가 100%되면서 주피터 꺼지는거 보고 뭔가 이상하다고 파악..\n",
    "\n",
    "\n",
    "* 그래서 토치 다 삭제하고 현재 그래픽 드라이버에 맞는걸로 설치( cuda 11.8) -> 해결완료\n",
    "\n"
   ]
  },
  {
   "cell_type": "markdown",
   "id": "4af1c533-a0bc-41ad-9d37-8af0f968a78d",
   "metadata": {},
   "source": [
    "`+`  **pip에 대하여**\n",
    "\n",
    "* 주피터 내에서 pip 를 통해 uninstall 하는 과정이 너무 오래걸림\n",
    "> 그래서 anaconda cmd를 통해 삭제하는 법으로 바꿈! -> 속도가 비교도 안된다.\n",
    "\n",
    "\n",
    "1. 내가 사용하고 있는 가상환경 접속.\n",
    "\n",
    "* conda activate 가상환경이름\n",
    "\n",
    "2. 내가 원하는 패키지 삭제\n",
    "\n",
    "* pip uninstall 패키지\n"
   ]
  },
  {
   "cell_type": "markdown",
   "id": "c53aa264-e4b6-41c1-93e8-693ae8272760",
   "metadata": {},
   "source": [
    "`-` 아래는 패키지 뒤져보다가 이런것도 있구나 해서 적어둠"
   ]
  },
  {
   "cell_type": "code",
   "execution_count": 3,
   "id": "5d617b0b-deba-4f95-9e2a-6f05587ac5cf",
   "metadata": {},
   "outputs": [
    {
     "name": "stdout",
     "output_type": "stream",
     "text": [
      "\u001b[38;5;4mℹ This is an information message\u001b[0m\n",
      "\u001b[38;5;3m⚠ This is a warning message\u001b[0m\n",
      "\u001b[38;5;1m✘ This is a failure message\u001b[0m\n",
      "\u001b[38;5;2m✔ This is a success message\u001b[0m\n",
      "This is a plain text message\n"
     ]
    }
   ],
   "source": [
    "from wasabi import Printer\n",
    "\n",
    "msg = Printer()\n",
    "\n",
    "msg.info(\"This is an information message\")\n",
    "msg.warn(\"This is a warning message\")\n",
    "msg.fail(\"This is a failure message\")\n",
    "msg.good(\"This is a success message\")\n",
    "msg.text(\"This is a plain text message\")\n",
    "\n",
    "#오.."
   ]
  },
  {
   "cell_type": "code",
   "execution_count": 1,
   "id": "e54fa398-21e6-46fe-ba15-718b4842fa06",
   "metadata": {},
   "outputs": [
    {
     "name": "stdout",
     "output_type": "stream",
     "text": [
      "Collecting kornia\n",
      "  Downloading kornia-0.6.12-py2.py3-none-any.whl (653 kB)\n",
      "     ---------------------------------------- 0.0/653.4 kB ? eta -:--:--\n",
      "     ------------------------------------- 653.4/653.4 kB 20.7 MB/s eta 0:00:00\n",
      "Requirement already satisfied: torch>=1.9.1 in c:\\users\\31083\\anaconda3\\envs\\test_envs\\lib\\site-packages (from kornia) (2.0.1+cu118)\n",
      "Requirement already satisfied: packaging in c:\\users\\31083\\anaconda3\\envs\\test_envs\\lib\\site-packages (from kornia) (23.0)\n",
      "Requirement already satisfied: networkx in c:\\users\\31083\\anaconda3\\envs\\test_envs\\lib\\site-packages (from torch>=1.9.1->kornia) (3.1)\n",
      "Requirement already satisfied: typing-extensions in c:\\users\\31083\\anaconda3\\envs\\test_envs\\lib\\site-packages (from torch>=1.9.1->kornia) (4.5.0)\n",
      "Requirement already satisfied: filelock in c:\\users\\31083\\anaconda3\\envs\\test_envs\\lib\\site-packages (from torch>=1.9.1->kornia) (3.12.0)\n",
      "Requirement already satisfied: sympy in c:\\users\\31083\\anaconda3\\envs\\test_envs\\lib\\site-packages (from torch>=1.9.1->kornia) (1.12)\n",
      "Requirement already satisfied: jinja2 in c:\\users\\31083\\anaconda3\\envs\\test_envs\\lib\\site-packages (from torch>=1.9.1->kornia) (3.1.2)\n",
      "Requirement already satisfied: MarkupSafe>=2.0 in c:\\users\\31083\\anaconda3\\envs\\test_envs\\lib\\site-packages (from jinja2->torch>=1.9.1->kornia) (2.1.1)\n",
      "Requirement already satisfied: mpmath>=0.19 in c:\\users\\31083\\anaconda3\\envs\\test_envs\\lib\\site-packages (from sympy->torch>=1.9.1->kornia) (1.3.0)\n",
      "Installing collected packages: kornia\n",
      "Successfully installed kornia-0.6.12\n"
     ]
    },
    {
     "name": "stderr",
     "output_type": "stream",
     "text": [
      "WARNING: Ignoring invalid distribution -rotobuf (c:\\users\\31083\\anaconda3\\envs\\test_envs\\lib\\site-packages)\n",
      "WARNING: Ignoring invalid distribution -orch (c:\\users\\31083\\anaconda3\\envs\\test_envs\\lib\\site-packages)\n",
      "WARNING: Ignoring invalid distribution -rotobuf (c:\\users\\31083\\anaconda3\\envs\\test_envs\\lib\\site-packages)\n",
      "WARNING: Ignoring invalid distribution -orch (c:\\users\\31083\\anaconda3\\envs\\test_envs\\lib\\site-packages)\n",
      "WARNING: Ignoring invalid distribution -rotobuf (c:\\users\\31083\\anaconda3\\envs\\test_envs\\lib\\site-packages)\n",
      "WARNING: Ignoring invalid distribution -orch (c:\\users\\31083\\anaconda3\\envs\\test_envs\\lib\\site-packages)\n",
      "WARNING: Ignoring invalid distribution -rotobuf (c:\\users\\31083\\anaconda3\\envs\\test_envs\\lib\\site-packages)\n",
      "WARNING: Ignoring invalid distribution -orch (c:\\users\\31083\\anaconda3\\envs\\test_envs\\lib\\site-packages)\n",
      "WARNING: Ignoring invalid distribution -rotobuf (c:\\users\\31083\\anaconda3\\envs\\test_envs\\lib\\site-packages)\n",
      "WARNING: Ignoring invalid distribution -orch (c:\\users\\31083\\anaconda3\\envs\\test_envs\\lib\\site-packages)\n",
      "WARNING: Ignoring invalid distribution -rotobuf (c:\\users\\31083\\anaconda3\\envs\\test_envs\\lib\\site-packages)\n",
      "WARNING: Ignoring invalid distribution -orch (c:\\users\\31083\\anaconda3\\envs\\test_envs\\lib\\site-packages)\n",
      "WARNING: Ignoring invalid distribution -rotobuf (c:\\users\\31083\\anaconda3\\envs\\test_envs\\lib\\site-packages)\n",
      "WARNING: Ignoring invalid distribution -orch (c:\\users\\31083\\anaconda3\\envs\\test_envs\\lib\\site-packages)\n"
     ]
    }
   ],
   "source": [
    "!pip install kornia"
   ]
  },
  {
   "cell_type": "code",
   "execution_count": null,
   "id": "c1e39ca8-3aff-4426-ab66-c0d2632128f9",
   "metadata": {},
   "outputs": [],
   "source": []
  }
 ],
 "metadata": {
  "kernelspec": {
   "display_name": "Python 3 (ipykernel)",
   "language": "python",
   "name": "python3"
  },
  "language_info": {
   "codemirror_mode": {
    "name": "ipython",
    "version": 3
   },
   "file_extension": ".py",
   "mimetype": "text/x-python",
   "name": "python",
   "nbconvert_exporter": "python",
   "pygments_lexer": "ipython3",
   "version": "3.9.12"
  },
  "toc": {
   "base_numbering": 1,
   "nav_menu": {},
   "number_sections": true,
   "sideBar": true,
   "skip_h1_title": false,
   "title_cell": "Table of Contents",
   "title_sidebar": "Contents",
   "toc_cell": false,
   "toc_position": {},
   "toc_section_display": true,
   "toc_window_display": false
  }
 },
 "nbformat": 4,
 "nbformat_minor": 5
}
