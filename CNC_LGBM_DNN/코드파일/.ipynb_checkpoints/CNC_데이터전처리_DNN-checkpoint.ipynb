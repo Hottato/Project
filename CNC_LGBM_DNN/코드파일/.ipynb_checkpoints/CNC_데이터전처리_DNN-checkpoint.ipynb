{
 "cells": [
  {
   "cell_type": "markdown",
   "id": "c6oC5HD_ySGe",
   "metadata": {
    "id": "c6oC5HD_ySGe"
   },
   "source": [
    "# import"
   ]
  },
  {
   "cell_type": "code",
   "execution_count": null,
   "id": "AYlVYW9AX6wd",
   "metadata": {
    "id": "AYlVYW9AX6wd"
   },
   "outputs": [],
   "source": [
    "\n"
   ]
  },
  {
   "cell_type": "code",
   "execution_count": null,
   "id": "b52c6a47",
   "metadata": {
    "id": "b52c6a47"
   },
   "outputs": [],
   "source": [
    "import plotly\n",
    "import plotly.graph_objects as go\n",
    "from plotly.subplots import make_subplots\n",
    "import matplotlib.pyplot as plt\n",
    "import plotly.express as px\n",
    "import seaborn as sns\n",
    "\n",
    "from scipy.stats import skew, kurtosis\n",
    "import numpy as np\n",
    "import pandas as pd\n",
    "from glob import glob\n",
    "import os\n",
    "\n",
    "\n",
    "from sklearn.preprocessing import MinMaxScaler\n",
    "from sklearn.datasets import load_boston\n",
    "from sklearn.preprocessing import StandardScaler\n",
    "from sklearn.metrics import mean_squared_error, r2_score\n",
    "\n",
    "import torchvision\n",
    "import torch\n",
    "import torch.nn as nn\n",
    "import torch.nn.functional as F\n",
    "from torch.utils.data import DataLoader\n",
    "from torch.utils.data import Dataset, DataLoader, random_split\n",
    "import string\n",
    "import torch.optim as optim"
   ]
  },
  {
   "cell_type": "markdown",
   "id": "879a3852",
   "metadata": {
    "id": "879a3852"
   },
   "source": [
    "# 2022.11.29( 4번- feed 50)"
   ]
  },
  {
   "cell_type": "code",
   "execution_count": null,
   "id": "f8246e75",
   "metadata": {
    "id": "f8246e75"
   },
   "outputs": [],
   "source": [
    "df_2= pd.read_csv('/content/drive/MyDrive/feed 50~120 (전류 확인)/feed 50 ~ 120 2 try/2022.11.29(4번 - feed 50)/1번쨰 데이터.csv',skiprows=[0]) \n",
    "df_4= pd.read_csv('/content/drive/MyDrive/feed 50~120 (전류 확인)/feed 50 ~ 120 2 try/2022.11.29(4번 - feed 50)/2번쨰 데이터.csv',skiprows=[0])\n",
    "df_6= pd.read_csv('/content/drive/MyDrive/feed 50~120 (전류 확인)/feed 50 ~ 120 2 try/2022.11.29(4번 - feed 50)/3번째 데이터.csv',skiprows=[0]) \n",
    "df_7= pd.read_csv('/content/drive/MyDrive/feed 50~120 (전류 확인)/feed 50 ~ 120 2 try/2022.11.29(4번 - feed 50)/4번째 데이터 (2).csv',skiprows=[0]) \n",
    "\n",
    "# 열 드랍\n",
    "f50_2_2 = df_2.drop([' Sampling Interval', ' Block No', ' mode',' a',' b',' c',' G80',' Start',' cmdFOV',' cmdSOV',' userASCOn',' userAFCon', ' TWon',' A1', ' A1h', ' A1 chatter',\n",
    "       ' A2', ' A2H', ' A2 chatter'], axis = 1)\n",
    "f50_2_4 = df_4.drop([' Sampling Interval', ' Block No', ' mode',' a',' b',' c',' G80',' Start',' cmdFOV',' cmdSOV',' userASCOn',' userAFCon', ' TWon',' A1', ' A1h', ' A1 chatter',\n",
    "       ' A2', ' A2H', ' A2 chatter'], axis = 1)\n",
    "f50_2_6 = df_6.drop([' Sampling Interval', ' Block No', ' mode',' a',' b',' c',' G80',' Start',' cmdFOV',' cmdSOV',' userASCOn',' userAFCon', ' TWon',' A1', ' A1h', ' A1 chatter',\n",
    "       ' A2', ' A2H', ' A2 chatter'], axis = 1)\n",
    "f50_2_7 = df_7.drop([' Sampling Interval', ' Block No', ' mode',' a',' b',' c',' G80',' Start',' cmdFOV',' cmdSOV',' userASCOn',' userAFCon', ' TWon',' A1', ' A1h', ' A1 chatter',\n",
    "       ' A2', ' A2H', ' A2 chatter'], axis = 1)\n",
    "\n",
    "#z값이 양수 인것을 필터림 \n",
    "f50_2_2 = f50_2_2[f50_2_2[' z'] <0 ]\n",
    "f50_2_4 = f50_2_4[f50_2_4[' z'] <0 ]\n",
    "f50_2_6 = f50_2_6[f50_2_6[' z'] <0 ]\n",
    "f50_2_7 = f50_2_7[f50_2_7[' z'] <0 ]\n",
    "\n",
    "f50_2 = [f50_2_2,f50_2_4,f50_2_6,f50_2_7]"
   ]
  },
  {
   "cell_type": "code",
   "execution_count": null,
   "id": "vbH77v-jbzkI",
   "metadata": {
    "id": "vbH77v-jbzkI"
   },
   "outputs": [],
   "source": [
    "f50_2 = [f50_2_2,f50_2_4,f50_2_6,f50_2_7]\n"
   ]
  },
  {
   "cell_type": "code",
   "execution_count": null,
   "id": "LRPfGNGQcpHj",
   "metadata": {
    "colab": {
     "base_uri": "https://localhost:8080/",
     "height": 423
    },
    "id": "LRPfGNGQcpHj",
    "outputId": "19299b39-a0aa-42b2-ef1b-0371354e1f3f"
   },
   "outputs": [
    {
     "data": {
      "text/html": [
       "\n",
       "  <div id=\"df-8b69d685-efaa-4b00-9d98-eb171675838a\">\n",
       "    <div class=\"colab-df-container\">\n",
       "      <div>\n",
       "<style scoped>\n",
       "    .dataframe tbody tr th:only-of-type {\n",
       "        vertical-align: middle;\n",
       "    }\n",
       "\n",
       "    .dataframe tbody tr th {\n",
       "        vertical-align: top;\n",
       "    }\n",
       "\n",
       "    .dataframe thead th {\n",
       "        text-align: right;\n",
       "    }\n",
       "</style>\n",
       "<table border=\"1\" class=\"dataframe\">\n",
       "  <thead>\n",
       "    <tr style=\"text-align: right;\">\n",
       "      <th></th>\n",
       "      <th>hh:mm:ss:ms</th>\n",
       "      <th>G-code</th>\n",
       "      <th>M-code</th>\n",
       "      <th>x</th>\n",
       "      <th>y</th>\n",
       "      <th>z</th>\n",
       "      <th>spindle load</th>\n",
       "      <th>command RPM</th>\n",
       "      <th>command Feedrate</th>\n",
       "      <th>actual RPM</th>\n",
       "      <th>actual Feedrate</th>\n",
       "      <th>actLoad</th>\n",
       "      <th>Ref_upper</th>\n",
       "      <th>Ref_lower</th>\n",
       "      <th>PLCFOV</th>\n",
       "      <th>AdaptiveOn</th>\n",
       "      <th>C1</th>\n",
       "      <th>C2</th>\n",
       "      <th>C3</th>\n",
       "      <th>C4</th>\n",
       "    </tr>\n",
       "  </thead>\n",
       "  <tbody>\n",
       "    <tr>\n",
       "      <th>65</th>\n",
       "      <td>16: 9:40:435</td>\n",
       "      <td>1</td>\n",
       "      <td>8</td>\n",
       "      <td>-29.960</td>\n",
       "      <td>-4.8</td>\n",
       "      <td>-1.0</td>\n",
       "      <td>0</td>\n",
       "      <td>4000</td>\n",
       "      <td>1000</td>\n",
       "      <td>3999</td>\n",
       "      <td>684</td>\n",
       "      <td>4.2748</td>\n",
       "      <td>9.0000</td>\n",
       "      <td>9.0000</td>\n",
       "      <td>205</td>\n",
       "      <td>0</td>\n",
       "      <td>4.2748</td>\n",
       "      <td>4.1419</td>\n",
       "      <td>50.7158</td>\n",
       "      <td>50.7174</td>\n",
       "    </tr>\n",
       "    <tr>\n",
       "      <th>66</th>\n",
       "      <td>16: 9:40:555</td>\n",
       "      <td>1</td>\n",
       "      <td>8</td>\n",
       "      <td>-29.960</td>\n",
       "      <td>-4.8</td>\n",
       "      <td>-1.0</td>\n",
       "      <td>0</td>\n",
       "      <td>4000</td>\n",
       "      <td>1000</td>\n",
       "      <td>3999</td>\n",
       "      <td>684</td>\n",
       "      <td>4.2701</td>\n",
       "      <td>9.0000</td>\n",
       "      <td>9.0000</td>\n",
       "      <td>205</td>\n",
       "      <td>0</td>\n",
       "      <td>4.2701</td>\n",
       "      <td>4.1138</td>\n",
       "      <td>50.7142</td>\n",
       "      <td>50.7174</td>\n",
       "    </tr>\n",
       "    <tr>\n",
       "      <th>67</th>\n",
       "      <td>16: 9:40:675</td>\n",
       "      <td>1</td>\n",
       "      <td>8</td>\n",
       "      <td>-28.182</td>\n",
       "      <td>-4.8</td>\n",
       "      <td>-1.0</td>\n",
       "      <td>0</td>\n",
       "      <td>4000</td>\n",
       "      <td>1000</td>\n",
       "      <td>3999</td>\n",
       "      <td>500</td>\n",
       "      <td>4.2826</td>\n",
       "      <td>9.0000</td>\n",
       "      <td>9.0000</td>\n",
       "      <td>205</td>\n",
       "      <td>0</td>\n",
       "      <td>4.2826</td>\n",
       "      <td>4.1029</td>\n",
       "      <td>50.7142</td>\n",
       "      <td>50.7158</td>\n",
       "    </tr>\n",
       "    <tr>\n",
       "      <th>68</th>\n",
       "      <td>16: 9:40:795</td>\n",
       "      <td>1</td>\n",
       "      <td>8</td>\n",
       "      <td>-28.182</td>\n",
       "      <td>-4.8</td>\n",
       "      <td>-1.0</td>\n",
       "      <td>0</td>\n",
       "      <td>4000</td>\n",
       "      <td>1000</td>\n",
       "      <td>3999</td>\n",
       "      <td>500</td>\n",
       "      <td>4.2732</td>\n",
       "      <td>9.0000</td>\n",
       "      <td>9.0000</td>\n",
       "      <td>205</td>\n",
       "      <td>0</td>\n",
       "      <td>4.2732</td>\n",
       "      <td>4.1138</td>\n",
       "      <td>50.7142</td>\n",
       "      <td>50.7142</td>\n",
       "    </tr>\n",
       "    <tr>\n",
       "      <th>69</th>\n",
       "      <td>16: 9:40:915</td>\n",
       "      <td>1</td>\n",
       "      <td>8</td>\n",
       "      <td>-26.049</td>\n",
       "      <td>-4.8</td>\n",
       "      <td>-1.0</td>\n",
       "      <td>0</td>\n",
       "      <td>4000</td>\n",
       "      <td>1000</td>\n",
       "      <td>3999</td>\n",
       "      <td>500</td>\n",
       "      <td>4.2544</td>\n",
       "      <td>9.0000</td>\n",
       "      <td>9.0000</td>\n",
       "      <td>205</td>\n",
       "      <td>0</td>\n",
       "      <td>4.2544</td>\n",
       "      <td>4.1357</td>\n",
       "      <td>50.7127</td>\n",
       "      <td>50.7158</td>\n",
       "    </tr>\n",
       "    <tr>\n",
       "      <th>...</th>\n",
       "      <td>...</td>\n",
       "      <td>...</td>\n",
       "      <td>...</td>\n",
       "      <td>...</td>\n",
       "      <td>...</td>\n",
       "      <td>...</td>\n",
       "      <td>...</td>\n",
       "      <td>...</td>\n",
       "      <td>...</td>\n",
       "      <td>...</td>\n",
       "      <td>...</td>\n",
       "      <td>...</td>\n",
       "      <td>...</td>\n",
       "      <td>...</td>\n",
       "      <td>...</td>\n",
       "      <td>...</td>\n",
       "      <td>...</td>\n",
       "      <td>...</td>\n",
       "      <td>...</td>\n",
       "      <td>...</td>\n",
       "    </tr>\n",
       "    <tr>\n",
       "      <th>4924</th>\n",
       "      <td>16:19:23:836</td>\n",
       "      <td>1</td>\n",
       "      <td>8</td>\n",
       "      <td>175.830</td>\n",
       "      <td>149.4</td>\n",
       "      <td>-1.0</td>\n",
       "      <td>0</td>\n",
       "      <td>4000</td>\n",
       "      <td>1000</td>\n",
       "      <td>3999</td>\n",
       "      <td>500</td>\n",
       "      <td>4.2919</td>\n",
       "      <td>4.0388</td>\n",
       "      <td>4.0388</td>\n",
       "      <td>205</td>\n",
       "      <td>0</td>\n",
       "      <td>4.2919</td>\n",
       "      <td>4.1654</td>\n",
       "      <td>50.7221</td>\n",
       "      <td>50.7111</td>\n",
       "    </tr>\n",
       "    <tr>\n",
       "      <th>4925</th>\n",
       "      <td>16:19:23:956</td>\n",
       "      <td>1</td>\n",
       "      <td>8</td>\n",
       "      <td>177.963</td>\n",
       "      <td>149.4</td>\n",
       "      <td>-1.0</td>\n",
       "      <td>0</td>\n",
       "      <td>4000</td>\n",
       "      <td>1000</td>\n",
       "      <td>3999</td>\n",
       "      <td>500</td>\n",
       "      <td>4.2919</td>\n",
       "      <td>4.0388</td>\n",
       "      <td>4.0388</td>\n",
       "      <td>205</td>\n",
       "      <td>0</td>\n",
       "      <td>4.2919</td>\n",
       "      <td>4.1794</td>\n",
       "      <td>50.7236</td>\n",
       "      <td>50.7096</td>\n",
       "    </tr>\n",
       "    <tr>\n",
       "      <th>4926</th>\n",
       "      <td>16:19:24: 76</td>\n",
       "      <td>1</td>\n",
       "      <td>8</td>\n",
       "      <td>177.963</td>\n",
       "      <td>149.4</td>\n",
       "      <td>-1.0</td>\n",
       "      <td>0</td>\n",
       "      <td>4000</td>\n",
       "      <td>1000</td>\n",
       "      <td>3999</td>\n",
       "      <td>500</td>\n",
       "      <td>4.3185</td>\n",
       "      <td>4.0279</td>\n",
       "      <td>4.0279</td>\n",
       "      <td>205</td>\n",
       "      <td>0</td>\n",
       "      <td>4.3185</td>\n",
       "      <td>4.1873</td>\n",
       "      <td>50.7236</td>\n",
       "      <td>50.7096</td>\n",
       "    </tr>\n",
       "    <tr>\n",
       "      <th>4927</th>\n",
       "      <td>16:19:24:196</td>\n",
       "      <td>1</td>\n",
       "      <td>8</td>\n",
       "      <td>179.825</td>\n",
       "      <td>149.4</td>\n",
       "      <td>-1.0</td>\n",
       "      <td>0</td>\n",
       "      <td>4000</td>\n",
       "      <td>1000</td>\n",
       "      <td>3999</td>\n",
       "      <td>500</td>\n",
       "      <td>4.3123</td>\n",
       "      <td>4.0279</td>\n",
       "      <td>4.0279</td>\n",
       "      <td>205</td>\n",
       "      <td>0</td>\n",
       "      <td>4.3123</td>\n",
       "      <td>4.1951</td>\n",
       "      <td>50.7252</td>\n",
       "      <td>50.7080</td>\n",
       "    </tr>\n",
       "    <tr>\n",
       "      <th>4928</th>\n",
       "      <td>16:19:24:316</td>\n",
       "      <td>0</td>\n",
       "      <td>8</td>\n",
       "      <td>179.825</td>\n",
       "      <td>149.4</td>\n",
       "      <td>-1.0</td>\n",
       "      <td>0</td>\n",
       "      <td>4000</td>\n",
       "      <td>1000</td>\n",
       "      <td>3999</td>\n",
       "      <td>500</td>\n",
       "      <td>4.3076</td>\n",
       "      <td>4.0279</td>\n",
       "      <td>4.0279</td>\n",
       "      <td>205</td>\n",
       "      <td>0</td>\n",
       "      <td>4.3076</td>\n",
       "      <td>4.2013</td>\n",
       "      <td>50.7236</td>\n",
       "      <td>50.7002</td>\n",
       "    </tr>\n",
       "  </tbody>\n",
       "</table>\n",
       "<p>4864 rows × 20 columns</p>\n",
       "</div>\n",
       "      <button class=\"colab-df-convert\" onclick=\"convertToInteractive('df-8b69d685-efaa-4b00-9d98-eb171675838a')\"\n",
       "              title=\"Convert this dataframe to an interactive table.\"\n",
       "              style=\"display:none;\">\n",
       "        \n",
       "  <svg xmlns=\"http://www.w3.org/2000/svg\" height=\"24px\"viewBox=\"0 0 24 24\"\n",
       "       width=\"24px\">\n",
       "    <path d=\"M0 0h24v24H0V0z\" fill=\"none\"/>\n",
       "    <path d=\"M18.56 5.44l.94 2.06.94-2.06 2.06-.94-2.06-.94-.94-2.06-.94 2.06-2.06.94zm-11 1L8.5 8.5l.94-2.06 2.06-.94-2.06-.94L8.5 2.5l-.94 2.06-2.06.94zm10 10l.94 2.06.94-2.06 2.06-.94-2.06-.94-.94-2.06-.94 2.06-2.06.94z\"/><path d=\"M17.41 7.96l-1.37-1.37c-.4-.4-.92-.59-1.43-.59-.52 0-1.04.2-1.43.59L10.3 9.45l-7.72 7.72c-.78.78-.78 2.05 0 2.83L4 21.41c.39.39.9.59 1.41.59.51 0 1.02-.2 1.41-.59l7.78-7.78 2.81-2.81c.8-.78.8-2.07 0-2.86zM5.41 20L4 18.59l7.72-7.72 1.47 1.35L5.41 20z\"/>\n",
       "  </svg>\n",
       "      </button>\n",
       "      \n",
       "  <style>\n",
       "    .colab-df-container {\n",
       "      display:flex;\n",
       "      flex-wrap:wrap;\n",
       "      gap: 12px;\n",
       "    }\n",
       "\n",
       "    .colab-df-convert {\n",
       "      background-color: #E8F0FE;\n",
       "      border: none;\n",
       "      border-radius: 50%;\n",
       "      cursor: pointer;\n",
       "      display: none;\n",
       "      fill: #1967D2;\n",
       "      height: 32px;\n",
       "      padding: 0 0 0 0;\n",
       "      width: 32px;\n",
       "    }\n",
       "\n",
       "    .colab-df-convert:hover {\n",
       "      background-color: #E2EBFA;\n",
       "      box-shadow: 0px 1px 2px rgba(60, 64, 67, 0.3), 0px 1px 3px 1px rgba(60, 64, 67, 0.15);\n",
       "      fill: #174EA6;\n",
       "    }\n",
       "\n",
       "    [theme=dark] .colab-df-convert {\n",
       "      background-color: #3B4455;\n",
       "      fill: #D2E3FC;\n",
       "    }\n",
       "\n",
       "    [theme=dark] .colab-df-convert:hover {\n",
       "      background-color: #434B5C;\n",
       "      box-shadow: 0px 1px 3px 1px rgba(0, 0, 0, 0.15);\n",
       "      filter: drop-shadow(0px 1px 2px rgba(0, 0, 0, 0.3));\n",
       "      fill: #FFFFFF;\n",
       "    }\n",
       "  </style>\n",
       "\n",
       "      <script>\n",
       "        const buttonEl =\n",
       "          document.querySelector('#df-8b69d685-efaa-4b00-9d98-eb171675838a button.colab-df-convert');\n",
       "        buttonEl.style.display =\n",
       "          google.colab.kernel.accessAllowed ? 'block' : 'none';\n",
       "\n",
       "        async function convertToInteractive(key) {\n",
       "          const element = document.querySelector('#df-8b69d685-efaa-4b00-9d98-eb171675838a');\n",
       "          const dataTable =\n",
       "            await google.colab.kernel.invokeFunction('convertToInteractive',\n",
       "                                                     [key], {});\n",
       "          if (!dataTable) return;\n",
       "\n",
       "          const docLinkHtml = 'Like what you see? Visit the ' +\n",
       "            '<a target=\"_blank\" href=https://colab.research.google.com/notebooks/data_table.ipynb>data table notebook</a>'\n",
       "            + ' to learn more about interactive tables.';\n",
       "          element.innerHTML = '';\n",
       "          dataTable['output_type'] = 'display_data';\n",
       "          await google.colab.output.renderOutput(dataTable, element);\n",
       "          const docLink = document.createElement('div');\n",
       "          docLink.innerHTML = docLinkHtml;\n",
       "          element.appendChild(docLink);\n",
       "        }\n",
       "      </script>\n",
       "    </div>\n",
       "  </div>\n",
       "  "
      ],
      "text/plain": [
       "       hh:mm:ss:ms   G-code   M-code        x      y    z   spindle load  \\\n",
       "65    16: 9:40:435        1        8  -29.960   -4.8 -1.0              0   \n",
       "66    16: 9:40:555        1        8  -29.960   -4.8 -1.0              0   \n",
       "67    16: 9:40:675        1        8  -28.182   -4.8 -1.0              0   \n",
       "68    16: 9:40:795        1        8  -28.182   -4.8 -1.0              0   \n",
       "69    16: 9:40:915        1        8  -26.049   -4.8 -1.0              0   \n",
       "...            ...      ...      ...      ...    ...  ...            ...   \n",
       "4924  16:19:23:836        1        8  175.830  149.4 -1.0              0   \n",
       "4925  16:19:23:956        1        8  177.963  149.4 -1.0              0   \n",
       "4926  16:19:24: 76        1        8  177.963  149.4 -1.0              0   \n",
       "4927  16:19:24:196        1        8  179.825  149.4 -1.0              0   \n",
       "4928  16:19:24:316        0        8  179.825  149.4 -1.0              0   \n",
       "\n",
       "       command RPM   command Feedrate   actual RPM   actual Feedrate  \\\n",
       "65            4000               1000         3999               684   \n",
       "66            4000               1000         3999               684   \n",
       "67            4000               1000         3999               500   \n",
       "68            4000               1000         3999               500   \n",
       "69            4000               1000         3999               500   \n",
       "...            ...                ...          ...               ...   \n",
       "4924          4000               1000         3999               500   \n",
       "4925          4000               1000         3999               500   \n",
       "4926          4000               1000         3999               500   \n",
       "4927          4000               1000         3999               500   \n",
       "4928          4000               1000         3999               500   \n",
       "\n",
       "       actLoad   Ref_upper   Ref_lower   PLCFOV   AdaptiveOn      C1      C2  \\\n",
       "65      4.2748      9.0000      9.0000      205            0  4.2748  4.1419   \n",
       "66      4.2701      9.0000      9.0000      205            0  4.2701  4.1138   \n",
       "67      4.2826      9.0000      9.0000      205            0  4.2826  4.1029   \n",
       "68      4.2732      9.0000      9.0000      205            0  4.2732  4.1138   \n",
       "69      4.2544      9.0000      9.0000      205            0  4.2544  4.1357   \n",
       "...        ...         ...         ...      ...          ...     ...     ...   \n",
       "4924    4.2919      4.0388      4.0388      205            0  4.2919  4.1654   \n",
       "4925    4.2919      4.0388      4.0388      205            0  4.2919  4.1794   \n",
       "4926    4.3185      4.0279      4.0279      205            0  4.3185  4.1873   \n",
       "4927    4.3123      4.0279      4.0279      205            0  4.3123  4.1951   \n",
       "4928    4.3076      4.0279      4.0279      205            0  4.3076  4.2013   \n",
       "\n",
       "           C3       C4  \n",
       "65    50.7158  50.7174  \n",
       "66    50.7142  50.7174  \n",
       "67    50.7142  50.7158  \n",
       "68    50.7142  50.7142  \n",
       "69    50.7127  50.7158  \n",
       "...       ...      ...  \n",
       "4924  50.7221  50.7111  \n",
       "4925  50.7236  50.7096  \n",
       "4926  50.7236  50.7096  \n",
       "4927  50.7252  50.7080  \n",
       "4928  50.7236  50.7002  \n",
       "\n",
       "[4864 rows x 20 columns]"
      ]
     },
     "execution_count": 24,
     "metadata": {},
     "output_type": "execute_result"
    }
   ],
   "source": [
    "f50_2_2"
   ]
  },
  {
   "cell_type": "code",
   "execution_count": null,
   "id": "eRPNee3ZaJGK",
   "metadata": {
    "id": "eRPNee3ZaJGK"
   },
   "outputs": [],
   "source": [
    "forders = os.listdir('/content/drive/MyDrive/feed 50~120 (전류 확인)/feed 50 ~ 120 1 try/2022.11.28(5번 -  feed 60)') #폴더설정"
   ]
  },
  {
   "cell_type": "code",
   "execution_count": null,
   "id": "j9E1eupjZDEg",
   "metadata": {
    "id": "j9E1eupjZDEg"
   },
   "outputs": [],
   "source": [
    "f60_n = []\n",
    "for i in range(0,len(forders)):\n",
    "  if forders[i].split('.')[1] =='csv':\n",
    "    file = '/content/drive/MyDrive/feed 50~120 (전류 확인)/feed 50 ~ 120 1 try/2022.11.28(5번 -  feed 60)/'+forders[i]\n",
    "    f60_n.append(file)"
   ]
  },
  {
   "cell_type": "code",
   "execution_count": null,
   "id": "4DzHj4epZxqI",
   "metadata": {
    "id": "4DzHj4epZxqI"
   },
   "outputs": [],
   "source": [
    "f60_list = [pd.read_csv(i, skiprows=[0]) for i in f60_n[::-1]] #한 폴더의 데이터프레임 리스트 생성"
   ]
  },
  {
   "cell_type": "code",
   "execution_count": null,
   "id": "lhRsvUXpZyqw",
   "metadata": {
    "colab": {
     "base_uri": "https://localhost:8080/",
     "height": 248
    },
    "id": "lhRsvUXpZyqw",
    "outputId": "ab7c473d-fcec-4131-8765-fe074829d700"
   },
   "outputs": [
    {
     "ename": "NameError",
     "evalue": "ignored",
     "output_type": "error",
     "traceback": [
      "\u001b[0;31m---------------------------------------------------------------------------\u001b[0m",
      "\u001b[0;31mNameError\u001b[0m                                 Traceback (most recent call last)",
      "\u001b[0;32m<ipython-input-32-ddcc30240253>\u001b[0m in \u001b[0;36m<module>\u001b[0;34m\u001b[0m\n\u001b[1;32m      9\u001b[0m \u001b[0mf100\u001b[0m \u001b[0;34m=\u001b[0m \u001b[0;34m[\u001b[0m\u001b[0;34m]\u001b[0m\u001b[0;34m\u001b[0m\u001b[0;34m\u001b[0m\u001b[0m\n\u001b[1;32m     10\u001b[0m \u001b[0;32mfor\u001b[0m \u001b[0mi\u001b[0m \u001b[0;32min\u001b[0m \u001b[0mrange\u001b[0m\u001b[0;34m(\u001b[0m\u001b[0;36m0\u001b[0m\u001b[0;34m,\u001b[0m\u001b[0;36m13\u001b[0m\u001b[0;34m)\u001b[0m\u001b[0;34m:\u001b[0m\u001b[0;34m\u001b[0m\u001b[0;34m\u001b[0m\u001b[0m\n\u001b[0;32m---> 11\u001b[0;31m   \u001b[0mf100_ud\u001b[0m\u001b[0;34m=\u001b[0m \u001b[0mf100_list\u001b[0m\u001b[0;34m[\u001b[0m\u001b[0mi\u001b[0m\u001b[0;34m]\u001b[0m\u001b[0;34m\u001b[0m\u001b[0;34m\u001b[0m\u001b[0m\n\u001b[0m\u001b[1;32m     12\u001b[0m   \u001b[0mf100_z\u001b[0m \u001b[0;34m=\u001b[0m \u001b[0mf100_ud\u001b[0m\u001b[0;34m[\u001b[0m\u001b[0mf100_ud\u001b[0m\u001b[0;34m[\u001b[0m\u001b[0;34m' z'\u001b[0m\u001b[0;34m]\u001b[0m \u001b[0;34m<\u001b[0m \u001b[0;36m0\u001b[0m \u001b[0;34m]\u001b[0m \u001b[0;31m# z값 0 이상 제거\u001b[0m\u001b[0;34m\u001b[0m\u001b[0;34m\u001b[0m\u001b[0m\n\u001b[1;32m     13\u001b[0m   \u001b[0mf100_z\u001b[0m\u001b[0;34m[\u001b[0m\u001b[0;34m'Ref'\u001b[0m\u001b[0;34m]\u001b[0m \u001b[0;34m=\u001b[0m \u001b[0;34m(\u001b[0m\u001b[0mf100_z\u001b[0m\u001b[0;34m[\u001b[0m\u001b[0;34m' Ref_upper'\u001b[0m\u001b[0;34m]\u001b[0m \u001b[0;34m+\u001b[0m \u001b[0mf100_z\u001b[0m\u001b[0;34m[\u001b[0m\u001b[0;34m' Ref_lower'\u001b[0m\u001b[0;34m]\u001b[0m\u001b[0;34m)\u001b[0m \u001b[0;34m/\u001b[0m \u001b[0;36m2\u001b[0m \u001b[0;31m# Ref 열 추가\u001b[0m\u001b[0;34m\u001b[0m\u001b[0;34m\u001b[0m\u001b[0m\n",
      "\u001b[0;31mNameError\u001b[0m: name 'f100_list' is not defined"
     ]
    }
   ],
   "source": [
    "from sklearn.preprocessing import MinMaxScaler\n",
    "# from sklearn.preprocessing import Normalizer\n",
    "# from sklearn.preprocessing import MaxAbsScaler\n",
    "# from sklearn.preprocessing import RobustScaler\n",
    "# from sklearn.preprocessing import StandardScaler\n",
    "\n",
    "\n",
    "\n",
    "f60 = []\n",
    "for i in range(0,13):\n",
    "  f100_ud= f60_list[i]\n",
    "  f100_z = f100_ud[f100_ud[' z'] < 0 ] # z값 0 이상 제거\n",
    "  f100_z['Ref'] = (f100_z[' Ref_upper'] + f100_z[' Ref_lower']) / 2 # Ref 열 추가\n",
    "  drop = ['hh:mm:ss:ms', ' Sampling Interval', ' Block No', ' G-code', ' G80',\n",
    "       ' M-code', ' Start', ' mode', ' x', ' y', ' z', ' a', ' b', ' c',\n",
    "       ' actLoad', ' Ref_upper', ' Ref_lower', ' PLCFOV',\n",
    "       ' cmdFOV', ' cmdSOV', ' userASCOn', ' userAFCon',\n",
    "       ' TWon', ' C2', ' C3', ' C4', ' A1', ' A1h', ' A1 chatter',\n",
    "       ' A2', ' A2H', ' A2 chatter'] # 제거할 열들\n",
    "  f100_d = f100_z.drop(drop,axis = 1) # 필요없는 열 제거\n",
    "  f100.append(f100_d) # 데이터리스트에 추가\n",
    "\n",
    "\n",
    "features_col = [' spindle load', ' command RPM', ' command Feedrate', ' actual RPM',\n",
    "       ' actual Feedrate', ' AdaptiveOn', 'Ref']\n",
    "scaler = MinMaxScaler()\n",
    "\n",
    "for i in range(0,13):\n",
    "  for j in range(0,27):\n",
    "    df = globals()['f100_'+str(i)][j]\n",
    "\n",
    "    features = df[features_col].reset_index(drop = True).values\n",
    "    target = df[' C1'].reset_index(drop = True).values\n",
    "\n",
    "    (globals()['X_train_'+str(i)+'_'+str(j)],\n",
    "     globals()['X_test_'+str(i)+'_'+str(j)],\n",
    "     globals()['Y_train_'+str(i)+'_'+str(j)],\n",
    "     globals()['Y_test_'+str(i)+'_'+str(j)]) = train_test_split(features, target, test_size= 0.2, random_state = 109)\n",
    "\n",
    "    globals()['X_train_'+str(i)+'_'+str(j)] = np.log1p(globals()['X_train_'+str(i)+'_'+str(j)]) # 로그화\n",
    "    globals()['X_test_'+str(i)+'_'+str(j)] = np.log1p(globals()['X_test_'+str(i)+'_'+str(j)])\n",
    "    globals()['Y_train_'+str(i)+'_'+str(j)]\n",
    "\n",
    "    globals()['X_train_'+str(i)+'_'+str(j)][ : ] = scaler.fit_transform(globals()['X_train_'+str(i)+'_'+str(j)][ : ]) # 정규화\n",
    "    globals()['X_test_'+str(i)+'_'+str(j)][ : ] = scaler.transform(globals()['X_test_'+str(i)+'_'+str(j)][ : ])"
   ]
  },
  {
   "cell_type": "code",
   "execution_count": null,
   "id": "FynwZfJLeUzJ",
   "metadata": {
    "colab": {
     "base_uri": "https://localhost:8080/"
    },
    "id": "FynwZfJLeUzJ",
    "outputId": "c29e6f99-d2b2-4284-fcad-27fa2798fc69"
   },
   "outputs": [
    {
     "data": {
      "text/plain": [
       "[' spindle load',\n",
       " ' command RPM',\n",
       " ' command Feedrate',\n",
       " ' actual RPM',\n",
       " ' actual Feedrate',\n",
       " ' Ref_lower',\n",
       " ' AdaptiveOn']"
      ]
     },
     "execution_count": 155,
     "metadata": {},
     "output_type": "execute_result"
    }
   ],
   "source": [
    "a"
   ]
  },
  {
   "cell_type": "code",
   "execution_count": null,
   "id": "BCKmDCtaa9Ok",
   "metadata": {
    "colab": {
     "base_uri": "https://localhost:8080/",
     "height": 423
    },
    "id": "BCKmDCtaa9Ok",
    "outputId": "ceab8570-eed1-476e-c9fd-8bde2dbfca6a"
   },
   "outputs": [
    {
     "data": {
      "text/html": [
       "\n",
       "  <div id=\"df-aaed99ae-1122-413e-b59c-55703da92534\">\n",
       "    <div class=\"colab-df-container\">\n",
       "      <div>\n",
       "<style scoped>\n",
       "    .dataframe tbody tr th:only-of-type {\n",
       "        vertical-align: middle;\n",
       "    }\n",
       "\n",
       "    .dataframe tbody tr th {\n",
       "        vertical-align: top;\n",
       "    }\n",
       "\n",
       "    .dataframe thead th {\n",
       "        text-align: right;\n",
       "    }\n",
       "</style>\n",
       "<table border=\"1\" class=\"dataframe\">\n",
       "  <thead>\n",
       "    <tr style=\"text-align: right;\">\n",
       "      <th></th>\n",
       "      <th>spindle load</th>\n",
       "      <th>command RPM</th>\n",
       "      <th>command Feedrate</th>\n",
       "      <th>actual RPM</th>\n",
       "      <th>actual Feedrate</th>\n",
       "      <th>AdaptiveOn</th>\n",
       "      <th>C1</th>\n",
       "      <th>Ref</th>\n",
       "    </tr>\n",
       "  </thead>\n",
       "  <tbody>\n",
       "    <tr>\n",
       "      <th>59</th>\n",
       "      <td>0</td>\n",
       "      <td>4000</td>\n",
       "      <td>1000</td>\n",
       "      <td>3999</td>\n",
       "      <td>322</td>\n",
       "      <td>0</td>\n",
       "      <td>1.658780</td>\n",
       "      <td>4.0107</td>\n",
       "    </tr>\n",
       "    <tr>\n",
       "      <th>60</th>\n",
       "      <td>0</td>\n",
       "      <td>4000</td>\n",
       "      <td>1000</td>\n",
       "      <td>3999</td>\n",
       "      <td>322</td>\n",
       "      <td>0</td>\n",
       "      <td>1.650119</td>\n",
       "      <td>4.0138</td>\n",
       "    </tr>\n",
       "    <tr>\n",
       "      <th>61</th>\n",
       "      <td>0</td>\n",
       "      <td>4000</td>\n",
       "      <td>1000</td>\n",
       "      <td>3999</td>\n",
       "      <td>600</td>\n",
       "      <td>0</td>\n",
       "      <td>1.648620</td>\n",
       "      <td>4.0138</td>\n",
       "    </tr>\n",
       "    <tr>\n",
       "      <th>62</th>\n",
       "      <td>0</td>\n",
       "      <td>4000</td>\n",
       "      <td>1000</td>\n",
       "      <td>3999</td>\n",
       "      <td>600</td>\n",
       "      <td>0</td>\n",
       "      <td>1.647100</td>\n",
       "      <td>3.9373</td>\n",
       "    </tr>\n",
       "    <tr>\n",
       "      <th>63</th>\n",
       "      <td>0</td>\n",
       "      <td>4000</td>\n",
       "      <td>1000</td>\n",
       "      <td>3999</td>\n",
       "      <td>600</td>\n",
       "      <td>0</td>\n",
       "      <td>1.650119</td>\n",
       "      <td>3.9373</td>\n",
       "    </tr>\n",
       "    <tr>\n",
       "      <th>...</th>\n",
       "      <td>...</td>\n",
       "      <td>...</td>\n",
       "      <td>...</td>\n",
       "      <td>...</td>\n",
       "      <td>...</td>\n",
       "      <td>...</td>\n",
       "      <td>...</td>\n",
       "      <td>...</td>\n",
       "    </tr>\n",
       "    <tr>\n",
       "      <th>4113</th>\n",
       "      <td>0</td>\n",
       "      <td>4000</td>\n",
       "      <td>1000</td>\n",
       "      <td>4000</td>\n",
       "      <td>600</td>\n",
       "      <td>0</td>\n",
       "      <td>1.658476</td>\n",
       "      <td>4.0388</td>\n",
       "    </tr>\n",
       "    <tr>\n",
       "      <th>4114</th>\n",
       "      <td>0</td>\n",
       "      <td>4000</td>\n",
       "      <td>1000</td>\n",
       "      <td>3999</td>\n",
       "      <td>600</td>\n",
       "      <td>0</td>\n",
       "      <td>1.663225</td>\n",
       "      <td>4.0388</td>\n",
       "    </tr>\n",
       "    <tr>\n",
       "      <th>4115</th>\n",
       "      <td>0</td>\n",
       "      <td>4000</td>\n",
       "      <td>1000</td>\n",
       "      <td>3999</td>\n",
       "      <td>600</td>\n",
       "      <td>0</td>\n",
       "      <td>1.664115</td>\n",
       "      <td>4.0279</td>\n",
       "    </tr>\n",
       "    <tr>\n",
       "      <th>4116</th>\n",
       "      <td>0</td>\n",
       "      <td>4000</td>\n",
       "      <td>1000</td>\n",
       "      <td>4000</td>\n",
       "      <td>600</td>\n",
       "      <td>0</td>\n",
       "      <td>1.665005</td>\n",
       "      <td>4.0279</td>\n",
       "    </tr>\n",
       "    <tr>\n",
       "      <th>4117</th>\n",
       "      <td>0</td>\n",
       "      <td>4000</td>\n",
       "      <td>1000</td>\n",
       "      <td>4000</td>\n",
       "      <td>600</td>\n",
       "      <td>0</td>\n",
       "      <td>1.667367</td>\n",
       "      <td>4.0279</td>\n",
       "    </tr>\n",
       "  </tbody>\n",
       "</table>\n",
       "<p>4059 rows × 8 columns</p>\n",
       "</div>\n",
       "      <button class=\"colab-df-convert\" onclick=\"convertToInteractive('df-aaed99ae-1122-413e-b59c-55703da92534')\"\n",
       "              title=\"Convert this dataframe to an interactive table.\"\n",
       "              style=\"display:none;\">\n",
       "        \n",
       "  <svg xmlns=\"http://www.w3.org/2000/svg\" height=\"24px\"viewBox=\"0 0 24 24\"\n",
       "       width=\"24px\">\n",
       "    <path d=\"M0 0h24v24H0V0z\" fill=\"none\"/>\n",
       "    <path d=\"M18.56 5.44l.94 2.06.94-2.06 2.06-.94-2.06-.94-.94-2.06-.94 2.06-2.06.94zm-11 1L8.5 8.5l.94-2.06 2.06-.94-2.06-.94L8.5 2.5l-.94 2.06-2.06.94zm10 10l.94 2.06.94-2.06 2.06-.94-2.06-.94-.94-2.06-.94 2.06-2.06.94z\"/><path d=\"M17.41 7.96l-1.37-1.37c-.4-.4-.92-.59-1.43-.59-.52 0-1.04.2-1.43.59L10.3 9.45l-7.72 7.72c-.78.78-.78 2.05 0 2.83L4 21.41c.39.39.9.59 1.41.59.51 0 1.02-.2 1.41-.59l7.78-7.78 2.81-2.81c.8-.78.8-2.07 0-2.86zM5.41 20L4 18.59l7.72-7.72 1.47 1.35L5.41 20z\"/>\n",
       "  </svg>\n",
       "      </button>\n",
       "      \n",
       "  <style>\n",
       "    .colab-df-container {\n",
       "      display:flex;\n",
       "      flex-wrap:wrap;\n",
       "      gap: 12px;\n",
       "    }\n",
       "\n",
       "    .colab-df-convert {\n",
       "      background-color: #E8F0FE;\n",
       "      border: none;\n",
       "      border-radius: 50%;\n",
       "      cursor: pointer;\n",
       "      display: none;\n",
       "      fill: #1967D2;\n",
       "      height: 32px;\n",
       "      padding: 0 0 0 0;\n",
       "      width: 32px;\n",
       "    }\n",
       "\n",
       "    .colab-df-convert:hover {\n",
       "      background-color: #E2EBFA;\n",
       "      box-shadow: 0px 1px 2px rgba(60, 64, 67, 0.3), 0px 1px 3px 1px rgba(60, 64, 67, 0.15);\n",
       "      fill: #174EA6;\n",
       "    }\n",
       "\n",
       "    [theme=dark] .colab-df-convert {\n",
       "      background-color: #3B4455;\n",
       "      fill: #D2E3FC;\n",
       "    }\n",
       "\n",
       "    [theme=dark] .colab-df-convert:hover {\n",
       "      background-color: #434B5C;\n",
       "      box-shadow: 0px 1px 3px 1px rgba(0, 0, 0, 0.15);\n",
       "      filter: drop-shadow(0px 1px 2px rgba(0, 0, 0, 0.3));\n",
       "      fill: #FFFFFF;\n",
       "    }\n",
       "  </style>\n",
       "\n",
       "      <script>\n",
       "        const buttonEl =\n",
       "          document.querySelector('#df-aaed99ae-1122-413e-b59c-55703da92534 button.colab-df-convert');\n",
       "        buttonEl.style.display =\n",
       "          google.colab.kernel.accessAllowed ? 'block' : 'none';\n",
       "\n",
       "        async function convertToInteractive(key) {\n",
       "          const element = document.querySelector('#df-aaed99ae-1122-413e-b59c-55703da92534');\n",
       "          const dataTable =\n",
       "            await google.colab.kernel.invokeFunction('convertToInteractive',\n",
       "                                                     [key], {});\n",
       "          if (!dataTable) return;\n",
       "\n",
       "          const docLinkHtml = 'Like what you see? Visit the ' +\n",
       "            '<a target=\"_blank\" href=https://colab.research.google.com/notebooks/data_table.ipynb>data table notebook</a>'\n",
       "            + ' to learn more about interactive tables.';\n",
       "          element.innerHTML = '';\n",
       "          dataTable['output_type'] = 'display_data';\n",
       "          await google.colab.output.renderOutput(dataTable, element);\n",
       "          const docLink = document.createElement('div');\n",
       "          docLink.innerHTML = docLinkHtml;\n",
       "          element.appendChild(docLink);\n",
       "        }\n",
       "      </script>\n",
       "    </div>\n",
       "  </div>\n",
       "  "
      ],
      "text/plain": [
       "       spindle load   command RPM   command Feedrate   actual RPM  \\\n",
       "59                0          4000               1000         3999   \n",
       "60                0          4000               1000         3999   \n",
       "61                0          4000               1000         3999   \n",
       "62                0          4000               1000         3999   \n",
       "63                0          4000               1000         3999   \n",
       "...             ...           ...                ...          ...   \n",
       "4113              0          4000               1000         4000   \n",
       "4114              0          4000               1000         3999   \n",
       "4115              0          4000               1000         3999   \n",
       "4116              0          4000               1000         4000   \n",
       "4117              0          4000               1000         4000   \n",
       "\n",
       "       actual Feedrate   AdaptiveOn        C1     Ref  \n",
       "59                 322            0  1.658780  4.0107  \n",
       "60                 322            0  1.650119  4.0138  \n",
       "61                 600            0  1.648620  4.0138  \n",
       "62                 600            0  1.647100  3.9373  \n",
       "63                 600            0  1.650119  3.9373  \n",
       "...                ...          ...       ...     ...  \n",
       "4113               600            0  1.658476  4.0388  \n",
       "4114               600            0  1.663225  4.0388  \n",
       "4115               600            0  1.664115  4.0279  \n",
       "4116               600            0  1.665005  4.0279  \n",
       "4117               600            0  1.667367  4.0279  \n",
       "\n",
       "[4059 rows x 8 columns]"
      ]
     },
     "execution_count": 91,
     "metadata": {},
     "output_type": "execute_result"
    }
   ],
   "source": [
    "scaler = MinMaxScaler()"
   ]
  },
  {
   "cell_type": "code",
   "execution_count": null,
   "id": "kgkvAozoZl60",
   "metadata": {
    "colab": {
     "base_uri": "https://localhost:8080/"
    },
    "id": "kgkvAozoZl60",
    "outputId": "42ef936d-1fcf-47db-c8b1-229834a417cb"
   },
   "outputs": [
    {
     "data": {
      "text/plain": [
       "array([[0.        , 0.97192982, 1.        , ..., 0.        , 0.        ,\n",
       "        0.02086114],\n",
       "       [0.        , 0.97192982, 1.        , ..., 0.        , 0.        ,\n",
       "        0.0214695 ],\n",
       "       [0.        , 1.        , 0.        , ..., 0.        , 0.        ,\n",
       "        0.0214695 ],\n",
       "       ...,\n",
       "       [0.        , 1.        , 1.        , ..., 0.        , 0.        ,\n",
       "        0.0242366 ],\n",
       "       [0.        , 0.        , 0.        , ..., 0.        , 0.        ,\n",
       "        0.0242366 ],\n",
       "       [0.        , 0.        , 0.        , ..., 0.        , 0.        ,\n",
       "        0.02668969]])"
      ]
     },
     "execution_count": 89,
     "metadata": {},
     "output_type": "execute_result"
    }
   ],
   "source": [
    " scaler.fit_transform(f60_d[f60_d.columns.difference([' C1'])])"
   ]
  },
  {
   "cell_type": "code",
   "execution_count": null,
   "id": "oevmNn2uZ1Vx",
   "metadata": {
    "colab": {
     "base_uri": "https://localhost:8080/",
     "height": 248
    },
    "id": "oevmNn2uZ1Vx",
    "outputId": "d50171c5-f6f0-4676-d9c7-83c9214ecee1"
   },
   "outputs": [
    {
     "ename": "IndexError",
     "evalue": "ignored",
     "output_type": "error",
     "traceback": [
      "\u001b[0;31m---------------------------------------------------------------------------\u001b[0m",
      "\u001b[0;31mIndexError\u001b[0m                                Traceback (most recent call last)",
      "\u001b[0;32m<ipython-input-66-04f010e2be78>\u001b[0m in \u001b[0;36m<module>\u001b[0;34m\u001b[0m\n\u001b[1;32m      1\u001b[0m \u001b[0;32mfor\u001b[0m \u001b[0mi\u001b[0m \u001b[0;32min\u001b[0m \u001b[0mrange\u001b[0m\u001b[0;34m(\u001b[0m\u001b[0;36m0\u001b[0m\u001b[0;34m,\u001b[0m\u001b[0;36m10\u001b[0m\u001b[0;34m)\u001b[0m\u001b[0;34m:\u001b[0m\u001b[0;34m\u001b[0m\u001b[0;34m\u001b[0m\u001b[0m\n\u001b[1;32m      2\u001b[0m  \u001b[0mglobals\u001b[0m\u001b[0;34m(\u001b[0m\u001b[0;34m)\u001b[0m\u001b[0;34m[\u001b[0m\u001b[0;34m'f60_'\u001b[0m\u001b[0;34m+\u001b[0m\u001b[0mstr\u001b[0m\u001b[0;34m(\u001b[0m\u001b[0mi\u001b[0m\u001b[0;34m)\u001b[0m\u001b[0;34m]\u001b[0m \u001b[0;34m=\u001b[0m \u001b[0;34m[\u001b[0m\u001b[0;34m]\u001b[0m\u001b[0;34m\u001b[0m\u001b[0;34m\u001b[0m\u001b[0m\n\u001b[0;32m----> 3\u001b[0;31m  \u001b[0mglobals\u001b[0m\u001b[0;34m(\u001b[0m\u001b[0;34m)\u001b[0m\u001b[0;34m[\u001b[0m\u001b[0;34m'f60_'\u001b[0m\u001b[0;34m+\u001b[0m\u001b[0mstr\u001b[0m\u001b[0;34m(\u001b[0m\u001b[0mi\u001b[0m\u001b[0;34m)\u001b[0m\u001b[0;34m]\u001b[0m\u001b[0;34m.\u001b[0m\u001b[0mappend\u001b[0m\u001b[0;34m(\u001b[0m\u001b[0mf60\u001b[0m\u001b[0;34m[\u001b[0m\u001b[0mi\u001b[0m\u001b[0;34m]\u001b[0m\u001b[0;34m.\u001b[0m\u001b[0miloc\u001b[0m\u001b[0;34m[\u001b[0m\u001b[0;36m0\u001b[0m\u001b[0;34m:\u001b[0m\u001b[0;36m154\u001b[0m\u001b[0;34m,\u001b[0m\u001b[0;34m:\u001b[0m\u001b[0;34m]\u001b[0m\u001b[0;34m)\u001b[0m \u001b[0;31m#경로1\u001b[0m\u001b[0;34m\u001b[0m\u001b[0;34m\u001b[0m\u001b[0m\n\u001b[0m\u001b[1;32m      4\u001b[0m  \u001b[0mglobals\u001b[0m\u001b[0;34m(\u001b[0m\u001b[0;34m)\u001b[0m\u001b[0;34m[\u001b[0m\u001b[0;34m'f60_'\u001b[0m\u001b[0;34m+\u001b[0m\u001b[0mstr\u001b[0m\u001b[0;34m(\u001b[0m\u001b[0mi\u001b[0m\u001b[0;34m)\u001b[0m\u001b[0;34m]\u001b[0m\u001b[0;34m.\u001b[0m\u001b[0mappend\u001b[0m\u001b[0;34m(\u001b[0m\u001b[0mf60\u001b[0m\u001b[0;34m[\u001b[0m\u001b[0mi\u001b[0m\u001b[0;34m]\u001b[0m\u001b[0;34m.\u001b[0m\u001b[0miloc\u001b[0m\u001b[0;34m[\u001b[0m\u001b[0;36m155\u001b[0m\u001b[0;34m:\u001b[0m\u001b[0;36m305\u001b[0m\u001b[0;34m,\u001b[0m\u001b[0;34m:\u001b[0m\u001b[0;34m]\u001b[0m\u001b[0;34m)\u001b[0m \u001b[0;31m#경로2\u001b[0m\u001b[0;34m\u001b[0m\u001b[0;34m\u001b[0m\u001b[0m\n\u001b[1;32m      5\u001b[0m  \u001b[0mglobals\u001b[0m\u001b[0;34m(\u001b[0m\u001b[0;34m)\u001b[0m\u001b[0;34m[\u001b[0m\u001b[0;34m'f60_'\u001b[0m\u001b[0;34m+\u001b[0m\u001b[0mstr\u001b[0m\u001b[0;34m(\u001b[0m\u001b[0mi\u001b[0m\u001b[0;34m)\u001b[0m\u001b[0;34m]\u001b[0m\u001b[0;34m.\u001b[0m\u001b[0mappend\u001b[0m\u001b[0;34m(\u001b[0m\u001b[0mf60\u001b[0m\u001b[0;34m[\u001b[0m\u001b[0mi\u001b[0m\u001b[0;34m]\u001b[0m\u001b[0;34m.\u001b[0m\u001b[0miloc\u001b[0m\u001b[0;34m[\u001b[0m\u001b[0;36m306\u001b[0m\u001b[0;34m:\u001b[0m\u001b[0;36m481\u001b[0m\u001b[0;34m,\u001b[0m\u001b[0;34m:\u001b[0m\u001b[0;34m]\u001b[0m\u001b[0;34m)\u001b[0m \u001b[0;31m#경로3\u001b[0m\u001b[0;34m\u001b[0m\u001b[0;34m\u001b[0m\u001b[0m\n",
      "\u001b[0;31mIndexError\u001b[0m: list index out of range"
     ]
    }
   ],
   "source": [
    "for i in range(0,10):\n",
    " globals()['f60_'+str(i)] = []\n",
    " globals()['f60_'+str(i)].append(f60[i].iloc[0:154,:]) #경로1\n",
    " globals()['f60_'+str(i)].append(f60[i].iloc[155:305,:]) #경로2\n",
    " globals()['f60_'+str(i)].append(f60[i].iloc[306:481,:]) #경로3\n",
    " globals()['f60_'+str(i)].append(f60[i].iloc[482:638,:]) #경로4\n",
    " globals()['f60_'+str(i)].append(f60[i].iloc[639:794,:]) #경로5\n",
    " globals()['f60_'+str(i)].append(f60[i].iloc[795:973,:]) #경로6\n",
    " globals()['f60_'+str(i)].append(f60[i].iloc[974:1125,:]) #경로7\n",
    " globals()['f60_'+str(i)].append(f60[i].iloc[1126:1254,:]) #경로8\n",
    " globals()['f60_'+str(i)].append(f60[i].iloc[1255:1380,:]) #경로9\n",
    " globals()['f60_'+str(i)].append(f60[i].iloc[1381:1521,:]) #경로10\n",
    "\n",
    " globals()['f60_'+str(i)].append(f60[i].iloc[1522:1671,:]) #경로11\n",
    " globals()['f60_'+str(i)].append(f60[i].iloc[1672:1824,:]) #경로12\n",
    " globals()['f60_'+str(i)].append(f60[i].iloc[1825:1969,:]) #경로13\n",
    " globals()['f60_'+str(i)].append(f60[i].iloc[1970:2098,:]) #경로14\n",
    " globals()['f60_'+str(i)].append(f60[i].iloc[2099:2242,:]) #경로15\n",
    " globals()['f60_'+str(i)].append(f60[i].iloc[2243:2393,:]) #경로16\n",
    " globals()['f60_'+str(i)].append(f60[i].iloc[2394:2527,:]) #경로17\n",
    " globals()['f60_'+str(i)].append(f60[i].iloc[2528:2670,:]) #경로18\n",
    " globals()['f60_'+str(i)].append(f60[i].iloc[2671:2819,:]) #경로19\n",
    " globals()['f60_'+str(i)].append(f60[i].iloc[2820:2959,:]) #경로20\n",
    "\n",
    " globals()['f60_'+str(i)].append(f60[i].iloc[2960:3120,:]) #경로21\n",
    " globals()['f60_'+str(i)].append(f60[i].iloc[3121:3275,:]) #경로22\n",
    " globals()['f60_'+str(i)].append(f60[i].iloc[3276:3405,:]) #경로23\n",
    " globals()['f60_'+str(i)].append(f60[i].iloc[3406:3539,:]) #경로24\n",
    " globals()['f60_'+str(i)].append(f60[i].iloc[3540:3700,:]) #경로25\n",
    " globals()['f60_'+str(i)].append(f60[i].iloc[3701:3884,:]) #경로26\n",
    " globals()['f60_'+str(i)].append(f60[i].iloc[3885:,:]) #경로27"
   ]
  },
  {
   "cell_type": "code",
   "execution_count": null,
   "id": "wzRZqe5Gae-R",
   "metadata": {
    "colab": {
     "base_uri": "https://localhost:8080/",
     "height": 174
    },
    "id": "wzRZqe5Gae-R",
    "outputId": "c8678165-0de7-4be2-9ebc-a10698f41020"
   },
   "outputs": [
    {
     "ename": "IndexError",
     "evalue": "ignored",
     "output_type": "error",
     "traceback": [
      "\u001b[0;31m---------------------------------------------------------------------------\u001b[0m",
      "\u001b[0;31mIndexError\u001b[0m                                Traceback (most recent call last)",
      "\u001b[0;32m<ipython-input-67-58d2bb9d3475>\u001b[0m in \u001b[0;36m<module>\u001b[0;34m\u001b[0m\n\u001b[0;32m----> 1\u001b[0;31m \u001b[0mf60_0_27\u001b[0m\u001b[0;34m=\u001b[0m \u001b[0mf60_0\u001b[0m\u001b[0;34m[\u001b[0m\u001b[0;36m26\u001b[0m\u001b[0;34m]\u001b[0m\u001b[0;34m\u001b[0m\u001b[0;34m\u001b[0m\u001b[0m\n\u001b[0m",
      "\u001b[0;31mIndexError\u001b[0m: list index out of range"
     ]
    }
   ],
   "source": [
    "f60_0_27= f60_0[26]"
   ]
  },
  {
   "cell_type": "code",
   "execution_count": null,
   "id": "yCblwiQrA3OY",
   "metadata": {
    "colab": {
     "base_uri": "https://localhost:8080/",
     "height": 423
    },
    "id": "yCblwiQrA3OY",
    "outputId": "c090d0fd-9ac1-4b6a-9f86-6c6c7613c93a"
   },
   "outputs": [
    {
     "data": {
      "text/html": [
       "\n",
       "  <div id=\"df-72868726-6ec3-4c04-ba49-c66a4b7a1a6b\">\n",
       "    <div class=\"colab-df-container\">\n",
       "      <div>\n",
       "<style scoped>\n",
       "    .dataframe tbody tr th:only-of-type {\n",
       "        vertical-align: middle;\n",
       "    }\n",
       "\n",
       "    .dataframe tbody tr th {\n",
       "        vertical-align: top;\n",
       "    }\n",
       "\n",
       "    .dataframe thead th {\n",
       "        text-align: right;\n",
       "    }\n",
       "</style>\n",
       "<table border=\"1\" class=\"dataframe\">\n",
       "  <thead>\n",
       "    <tr style=\"text-align: right;\">\n",
       "      <th></th>\n",
       "      <th>spindle load</th>\n",
       "      <th>command RPM</th>\n",
       "      <th>command Feedrate</th>\n",
       "      <th>actual RPM</th>\n",
       "      <th>actual Feedrate</th>\n",
       "      <th>AdaptiveOn</th>\n",
       "      <th>C1</th>\n",
       "      <th>Ref</th>\n",
       "    </tr>\n",
       "  </thead>\n",
       "  <tbody>\n",
       "    <tr>\n",
       "      <th>3944</th>\n",
       "      <td>0.0</td>\n",
       "      <td>0.0</td>\n",
       "      <td>0.0</td>\n",
       "      <td>1.0</td>\n",
       "      <td>1.0</td>\n",
       "      <td>0.0</td>\n",
       "      <td>0.566221</td>\n",
       "      <td>0.022392</td>\n",
       "    </tr>\n",
       "    <tr>\n",
       "      <th>3945</th>\n",
       "      <td>0.0</td>\n",
       "      <td>0.0</td>\n",
       "      <td>0.0</td>\n",
       "      <td>1.0</td>\n",
       "      <td>1.0</td>\n",
       "      <td>0.0</td>\n",
       "      <td>0.539877</td>\n",
       "      <td>0.022392</td>\n",
       "    </tr>\n",
       "    <tr>\n",
       "      <th>3946</th>\n",
       "      <td>0.0</td>\n",
       "      <td>0.0</td>\n",
       "      <td>0.0</td>\n",
       "      <td>1.0</td>\n",
       "      <td>1.0</td>\n",
       "      <td>0.0</td>\n",
       "      <td>0.512820</td>\n",
       "      <td>0.022392</td>\n",
       "    </tr>\n",
       "    <tr>\n",
       "      <th>3947</th>\n",
       "      <td>0.0</td>\n",
       "      <td>0.0</td>\n",
       "      <td>0.0</td>\n",
       "      <td>1.0</td>\n",
       "      <td>1.0</td>\n",
       "      <td>0.0</td>\n",
       "      <td>0.485011</td>\n",
       "      <td>0.022392</td>\n",
       "    </tr>\n",
       "    <tr>\n",
       "      <th>3948</th>\n",
       "      <td>0.0</td>\n",
       "      <td>0.0</td>\n",
       "      <td>0.0</td>\n",
       "      <td>1.0</td>\n",
       "      <td>1.0</td>\n",
       "      <td>0.0</td>\n",
       "      <td>0.420810</td>\n",
       "      <td>0.021783</td>\n",
       "    </tr>\n",
       "    <tr>\n",
       "      <th>...</th>\n",
       "      <td>...</td>\n",
       "      <td>...</td>\n",
       "      <td>...</td>\n",
       "      <td>...</td>\n",
       "      <td>...</td>\n",
       "      <td>...</td>\n",
       "      <td>...</td>\n",
       "      <td>...</td>\n",
       "    </tr>\n",
       "    <tr>\n",
       "      <th>4112</th>\n",
       "      <td>0.0</td>\n",
       "      <td>0.0</td>\n",
       "      <td>0.0</td>\n",
       "      <td>0.0</td>\n",
       "      <td>1.0</td>\n",
       "      <td>0.0</td>\n",
       "      <td>0.501860</td>\n",
       "      <td>0.026376</td>\n",
       "    </tr>\n",
       "    <tr>\n",
       "      <th>4113</th>\n",
       "      <td>0.0</td>\n",
       "      <td>0.0</td>\n",
       "      <td>0.0</td>\n",
       "      <td>0.0</td>\n",
       "      <td>1.0</td>\n",
       "      <td>0.0</td>\n",
       "      <td>0.432689</td>\n",
       "      <td>0.026376</td>\n",
       "    </tr>\n",
       "    <tr>\n",
       "      <th>4114</th>\n",
       "      <td>0.0</td>\n",
       "      <td>0.0</td>\n",
       "      <td>0.0</td>\n",
       "      <td>1.0</td>\n",
       "      <td>1.0</td>\n",
       "      <td>0.0</td>\n",
       "      <td>0.426959</td>\n",
       "      <td>0.024237</td>\n",
       "    </tr>\n",
       "    <tr>\n",
       "      <th>4115</th>\n",
       "      <td>0.0</td>\n",
       "      <td>0.0</td>\n",
       "      <td>0.0</td>\n",
       "      <td>0.0</td>\n",
       "      <td>0.0</td>\n",
       "      <td>0.0</td>\n",
       "      <td>0.390279</td>\n",
       "      <td>0.024237</td>\n",
       "    </tr>\n",
       "    <tr>\n",
       "      <th>4116</th>\n",
       "      <td>0.0</td>\n",
       "      <td>0.0</td>\n",
       "      <td>0.0</td>\n",
       "      <td>0.0</td>\n",
       "      <td>0.0</td>\n",
       "      <td>0.0</td>\n",
       "      <td>0.501860</td>\n",
       "      <td>0.026690</td>\n",
       "    </tr>\n",
       "  </tbody>\n",
       "</table>\n",
       "<p>173 rows × 8 columns</p>\n",
       "</div>\n",
       "      <button class=\"colab-df-convert\" onclick=\"convertToInteractive('df-72868726-6ec3-4c04-ba49-c66a4b7a1a6b')\"\n",
       "              title=\"Convert this dataframe to an interactive table.\"\n",
       "              style=\"display:none;\">\n",
       "        \n",
       "  <svg xmlns=\"http://www.w3.org/2000/svg\" height=\"24px\"viewBox=\"0 0 24 24\"\n",
       "       width=\"24px\">\n",
       "    <path d=\"M0 0h24v24H0V0z\" fill=\"none\"/>\n",
       "    <path d=\"M18.56 5.44l.94 2.06.94-2.06 2.06-.94-2.06-.94-.94-2.06-.94 2.06-2.06.94zm-11 1L8.5 8.5l.94-2.06 2.06-.94-2.06-.94L8.5 2.5l-.94 2.06-2.06.94zm10 10l.94 2.06.94-2.06 2.06-.94-2.06-.94-.94-2.06-.94 2.06-2.06.94z\"/><path d=\"M17.41 7.96l-1.37-1.37c-.4-.4-.92-.59-1.43-.59-.52 0-1.04.2-1.43.59L10.3 9.45l-7.72 7.72c-.78.78-.78 2.05 0 2.83L4 21.41c.39.39.9.59 1.41.59.51 0 1.02-.2 1.41-.59l7.78-7.78 2.81-2.81c.8-.78.8-2.07 0-2.86zM5.41 20L4 18.59l7.72-7.72 1.47 1.35L5.41 20z\"/>\n",
       "  </svg>\n",
       "      </button>\n",
       "      \n",
       "  <style>\n",
       "    .colab-df-container {\n",
       "      display:flex;\n",
       "      flex-wrap:wrap;\n",
       "      gap: 12px;\n",
       "    }\n",
       "\n",
       "    .colab-df-convert {\n",
       "      background-color: #E8F0FE;\n",
       "      border: none;\n",
       "      border-radius: 50%;\n",
       "      cursor: pointer;\n",
       "      display: none;\n",
       "      fill: #1967D2;\n",
       "      height: 32px;\n",
       "      padding: 0 0 0 0;\n",
       "      width: 32px;\n",
       "    }\n",
       "\n",
       "    .colab-df-convert:hover {\n",
       "      background-color: #E2EBFA;\n",
       "      box-shadow: 0px 1px 2px rgba(60, 64, 67, 0.3), 0px 1px 3px 1px rgba(60, 64, 67, 0.15);\n",
       "      fill: #174EA6;\n",
       "    }\n",
       "\n",
       "    [theme=dark] .colab-df-convert {\n",
       "      background-color: #3B4455;\n",
       "      fill: #D2E3FC;\n",
       "    }\n",
       "\n",
       "    [theme=dark] .colab-df-convert:hover {\n",
       "      background-color: #434B5C;\n",
       "      box-shadow: 0px 1px 3px 1px rgba(0, 0, 0, 0.15);\n",
       "      filter: drop-shadow(0px 1px 2px rgba(0, 0, 0, 0.3));\n",
       "      fill: #FFFFFF;\n",
       "    }\n",
       "  </style>\n",
       "\n",
       "      <script>\n",
       "        const buttonEl =\n",
       "          document.querySelector('#df-72868726-6ec3-4c04-ba49-c66a4b7a1a6b button.colab-df-convert');\n",
       "        buttonEl.style.display =\n",
       "          google.colab.kernel.accessAllowed ? 'block' : 'none';\n",
       "\n",
       "        async function convertToInteractive(key) {\n",
       "          const element = document.querySelector('#df-72868726-6ec3-4c04-ba49-c66a4b7a1a6b');\n",
       "          const dataTable =\n",
       "            await google.colab.kernel.invokeFunction('convertToInteractive',\n",
       "                                                     [key], {});\n",
       "          if (!dataTable) return;\n",
       "\n",
       "          const docLinkHtml = 'Like what you see? Visit the ' +\n",
       "            '<a target=\"_blank\" href=https://colab.research.google.com/notebooks/data_table.ipynb>data table notebook</a>'\n",
       "            + ' to learn more about interactive tables.';\n",
       "          element.innerHTML = '';\n",
       "          dataTable['output_type'] = 'display_data';\n",
       "          await google.colab.output.renderOutput(dataTable, element);\n",
       "          const docLink = document.createElement('div');\n",
       "          docLink.innerHTML = docLinkHtml;\n",
       "          element.appendChild(docLink);\n",
       "        }\n",
       "      </script>\n",
       "    </div>\n",
       "  </div>\n",
       "  "
      ],
      "text/plain": [
       "       spindle load   command RPM   command Feedrate   actual RPM  \\\n",
       "3944            0.0           0.0                0.0          1.0   \n",
       "3945            0.0           0.0                0.0          1.0   \n",
       "3946            0.0           0.0                0.0          1.0   \n",
       "3947            0.0           0.0                0.0          1.0   \n",
       "3948            0.0           0.0                0.0          1.0   \n",
       "...             ...           ...                ...          ...   \n",
       "4112            0.0           0.0                0.0          0.0   \n",
       "4113            0.0           0.0                0.0          0.0   \n",
       "4114            0.0           0.0                0.0          1.0   \n",
       "4115            0.0           0.0                0.0          0.0   \n",
       "4116            0.0           0.0                0.0          0.0   \n",
       "\n",
       "       actual Feedrate   AdaptiveOn        C1       Ref  \n",
       "3944               1.0          0.0  0.566221  0.022392  \n",
       "3945               1.0          0.0  0.539877  0.022392  \n",
       "3946               1.0          0.0  0.512820  0.022392  \n",
       "3947               1.0          0.0  0.485011  0.022392  \n",
       "3948               1.0          0.0  0.420810  0.021783  \n",
       "...                ...          ...       ...       ...  \n",
       "4112               1.0          0.0  0.501860  0.026376  \n",
       "4113               1.0          0.0  0.432689  0.026376  \n",
       "4114               1.0          0.0  0.426959  0.024237  \n",
       "4115               0.0          0.0  0.390279  0.024237  \n",
       "4116               0.0          0.0  0.501860  0.026690  \n",
       "\n",
       "[173 rows x 8 columns]"
      ]
     },
     "execution_count": 11,
     "metadata": {},
     "output_type": "execute_result"
    }
   ],
   "source": [
    "f60_0_27"
   ]
  },
  {
   "cell_type": "code",
   "execution_count": null,
   "id": "6DlGWo6Zu4HY",
   "metadata": {
    "colab": {
     "base_uri": "https://localhost:8080/",
     "height": 423
    },
    "id": "6DlGWo6Zu4HY",
    "outputId": "d76cde9f-0365-4367-f81e-17de74ca675e"
   },
   "outputs": [
    {
     "data": {
      "text/html": [
       "\n",
       "  <div id=\"df-1a114a08-e80a-493e-b549-1be2285747d6\">\n",
       "    <div class=\"colab-df-container\">\n",
       "      <div>\n",
       "<style scoped>\n",
       "    .dataframe tbody tr th:only-of-type {\n",
       "        vertical-align: middle;\n",
       "    }\n",
       "\n",
       "    .dataframe tbody tr th {\n",
       "        vertical-align: top;\n",
       "    }\n",
       "\n",
       "    .dataframe thead th {\n",
       "        text-align: right;\n",
       "    }\n",
       "</style>\n",
       "<table border=\"1\" class=\"dataframe\">\n",
       "  <thead>\n",
       "    <tr style=\"text-align: right;\">\n",
       "      <th></th>\n",
       "      <th>spindle load</th>\n",
       "      <th>command RPM</th>\n",
       "      <th>command Feedrate</th>\n",
       "      <th>actual RPM</th>\n",
       "      <th>actual Feedrate</th>\n",
       "      <th>AdaptiveOn</th>\n",
       "      <th>C1</th>\n",
       "      <th>Ref</th>\n",
       "    </tr>\n",
       "  </thead>\n",
       "  <tbody>\n",
       "    <tr>\n",
       "      <th>3944</th>\n",
       "      <td>0.0</td>\n",
       "      <td>0.0</td>\n",
       "      <td>0.0</td>\n",
       "      <td>1.0</td>\n",
       "      <td>1.0</td>\n",
       "      <td>0.0</td>\n",
       "      <td>0.566221</td>\n",
       "      <td>0.022392</td>\n",
       "    </tr>\n",
       "    <tr>\n",
       "      <th>3945</th>\n",
       "      <td>0.0</td>\n",
       "      <td>0.0</td>\n",
       "      <td>0.0</td>\n",
       "      <td>1.0</td>\n",
       "      <td>1.0</td>\n",
       "      <td>0.0</td>\n",
       "      <td>0.539877</td>\n",
       "      <td>0.022392</td>\n",
       "    </tr>\n",
       "    <tr>\n",
       "      <th>3946</th>\n",
       "      <td>0.0</td>\n",
       "      <td>0.0</td>\n",
       "      <td>0.0</td>\n",
       "      <td>1.0</td>\n",
       "      <td>1.0</td>\n",
       "      <td>0.0</td>\n",
       "      <td>0.512820</td>\n",
       "      <td>0.022392</td>\n",
       "    </tr>\n",
       "    <tr>\n",
       "      <th>3947</th>\n",
       "      <td>0.0</td>\n",
       "      <td>0.0</td>\n",
       "      <td>0.0</td>\n",
       "      <td>1.0</td>\n",
       "      <td>1.0</td>\n",
       "      <td>0.0</td>\n",
       "      <td>0.485011</td>\n",
       "      <td>0.022392</td>\n",
       "    </tr>\n",
       "    <tr>\n",
       "      <th>3948</th>\n",
       "      <td>0.0</td>\n",
       "      <td>0.0</td>\n",
       "      <td>0.0</td>\n",
       "      <td>1.0</td>\n",
       "      <td>1.0</td>\n",
       "      <td>0.0</td>\n",
       "      <td>0.420810</td>\n",
       "      <td>0.021783</td>\n",
       "    </tr>\n",
       "    <tr>\n",
       "      <th>...</th>\n",
       "      <td>...</td>\n",
       "      <td>...</td>\n",
       "      <td>...</td>\n",
       "      <td>...</td>\n",
       "      <td>...</td>\n",
       "      <td>...</td>\n",
       "      <td>...</td>\n",
       "      <td>...</td>\n",
       "    </tr>\n",
       "    <tr>\n",
       "      <th>4112</th>\n",
       "      <td>0.0</td>\n",
       "      <td>0.0</td>\n",
       "      <td>0.0</td>\n",
       "      <td>0.0</td>\n",
       "      <td>1.0</td>\n",
       "      <td>0.0</td>\n",
       "      <td>0.501860</td>\n",
       "      <td>0.026376</td>\n",
       "    </tr>\n",
       "    <tr>\n",
       "      <th>4113</th>\n",
       "      <td>0.0</td>\n",
       "      <td>0.0</td>\n",
       "      <td>0.0</td>\n",
       "      <td>0.0</td>\n",
       "      <td>1.0</td>\n",
       "      <td>0.0</td>\n",
       "      <td>0.432689</td>\n",
       "      <td>0.026376</td>\n",
       "    </tr>\n",
       "    <tr>\n",
       "      <th>4114</th>\n",
       "      <td>0.0</td>\n",
       "      <td>0.0</td>\n",
       "      <td>0.0</td>\n",
       "      <td>1.0</td>\n",
       "      <td>1.0</td>\n",
       "      <td>0.0</td>\n",
       "      <td>0.426959</td>\n",
       "      <td>0.024237</td>\n",
       "    </tr>\n",
       "    <tr>\n",
       "      <th>4115</th>\n",
       "      <td>0.0</td>\n",
       "      <td>0.0</td>\n",
       "      <td>0.0</td>\n",
       "      <td>0.0</td>\n",
       "      <td>0.0</td>\n",
       "      <td>0.0</td>\n",
       "      <td>0.390279</td>\n",
       "      <td>0.024237</td>\n",
       "    </tr>\n",
       "    <tr>\n",
       "      <th>4116</th>\n",
       "      <td>0.0</td>\n",
       "      <td>0.0</td>\n",
       "      <td>0.0</td>\n",
       "      <td>0.0</td>\n",
       "      <td>0.0</td>\n",
       "      <td>0.0</td>\n",
       "      <td>0.501860</td>\n",
       "      <td>0.026690</td>\n",
       "    </tr>\n",
       "  </tbody>\n",
       "</table>\n",
       "<p>173 rows × 8 columns</p>\n",
       "</div>\n",
       "      <button class=\"colab-df-convert\" onclick=\"convertToInteractive('df-1a114a08-e80a-493e-b549-1be2285747d6')\"\n",
       "              title=\"Convert this dataframe to an interactive table.\"\n",
       "              style=\"display:none;\">\n",
       "        \n",
       "  <svg xmlns=\"http://www.w3.org/2000/svg\" height=\"24px\"viewBox=\"0 0 24 24\"\n",
       "       width=\"24px\">\n",
       "    <path d=\"M0 0h24v24H0V0z\" fill=\"none\"/>\n",
       "    <path d=\"M18.56 5.44l.94 2.06.94-2.06 2.06-.94-2.06-.94-.94-2.06-.94 2.06-2.06.94zm-11 1L8.5 8.5l.94-2.06 2.06-.94-2.06-.94L8.5 2.5l-.94 2.06-2.06.94zm10 10l.94 2.06.94-2.06 2.06-.94-2.06-.94-.94-2.06-.94 2.06-2.06.94z\"/><path d=\"M17.41 7.96l-1.37-1.37c-.4-.4-.92-.59-1.43-.59-.52 0-1.04.2-1.43.59L10.3 9.45l-7.72 7.72c-.78.78-.78 2.05 0 2.83L4 21.41c.39.39.9.59 1.41.59.51 0 1.02-.2 1.41-.59l7.78-7.78 2.81-2.81c.8-.78.8-2.07 0-2.86zM5.41 20L4 18.59l7.72-7.72 1.47 1.35L5.41 20z\"/>\n",
       "  </svg>\n",
       "      </button>\n",
       "      \n",
       "  <style>\n",
       "    .colab-df-container {\n",
       "      display:flex;\n",
       "      flex-wrap:wrap;\n",
       "      gap: 12px;\n",
       "    }\n",
       "\n",
       "    .colab-df-convert {\n",
       "      background-color: #E8F0FE;\n",
       "      border: none;\n",
       "      border-radius: 50%;\n",
       "      cursor: pointer;\n",
       "      display: none;\n",
       "      fill: #1967D2;\n",
       "      height: 32px;\n",
       "      padding: 0 0 0 0;\n",
       "      width: 32px;\n",
       "    }\n",
       "\n",
       "    .colab-df-convert:hover {\n",
       "      background-color: #E2EBFA;\n",
       "      box-shadow: 0px 1px 2px rgba(60, 64, 67, 0.3), 0px 1px 3px 1px rgba(60, 64, 67, 0.15);\n",
       "      fill: #174EA6;\n",
       "    }\n",
       "\n",
       "    [theme=dark] .colab-df-convert {\n",
       "      background-color: #3B4455;\n",
       "      fill: #D2E3FC;\n",
       "    }\n",
       "\n",
       "    [theme=dark] .colab-df-convert:hover {\n",
       "      background-color: #434B5C;\n",
       "      box-shadow: 0px 1px 3px 1px rgba(0, 0, 0, 0.15);\n",
       "      filter: drop-shadow(0px 1px 2px rgba(0, 0, 0, 0.3));\n",
       "      fill: #FFFFFF;\n",
       "    }\n",
       "  </style>\n",
       "\n",
       "      <script>\n",
       "        const buttonEl =\n",
       "          document.querySelector('#df-1a114a08-e80a-493e-b549-1be2285747d6 button.colab-df-convert');\n",
       "        buttonEl.style.display =\n",
       "          google.colab.kernel.accessAllowed ? 'block' : 'none';\n",
       "\n",
       "        async function convertToInteractive(key) {\n",
       "          const element = document.querySelector('#df-1a114a08-e80a-493e-b549-1be2285747d6');\n",
       "          const dataTable =\n",
       "            await google.colab.kernel.invokeFunction('convertToInteractive',\n",
       "                                                     [key], {});\n",
       "          if (!dataTable) return;\n",
       "\n",
       "          const docLinkHtml = 'Like what you see? Visit the ' +\n",
       "            '<a target=\"_blank\" href=https://colab.research.google.com/notebooks/data_table.ipynb>data table notebook</a>'\n",
       "            + ' to learn more about interactive tables.';\n",
       "          element.innerHTML = '';\n",
       "          dataTable['output_type'] = 'display_data';\n",
       "          await google.colab.output.renderOutput(dataTable, element);\n",
       "          const docLink = document.createElement('div');\n",
       "          docLink.innerHTML = docLinkHtml;\n",
       "          element.appendChild(docLink);\n",
       "        }\n",
       "      </script>\n",
       "    </div>\n",
       "  </div>\n",
       "  "
      ],
      "text/plain": [
       "       spindle load   command RPM   command Feedrate   actual RPM  \\\n",
       "3944            0.0           0.0                0.0          1.0   \n",
       "3945            0.0           0.0                0.0          1.0   \n",
       "3946            0.0           0.0                0.0          1.0   \n",
       "3947            0.0           0.0                0.0          1.0   \n",
       "3948            0.0           0.0                0.0          1.0   \n",
       "...             ...           ...                ...          ...   \n",
       "4112            0.0           0.0                0.0          0.0   \n",
       "4113            0.0           0.0                0.0          0.0   \n",
       "4114            0.0           0.0                0.0          1.0   \n",
       "4115            0.0           0.0                0.0          0.0   \n",
       "4116            0.0           0.0                0.0          0.0   \n",
       "\n",
       "       actual Feedrate   AdaptiveOn        C1       Ref  \n",
       "3944               1.0          0.0  0.566221  0.022392  \n",
       "3945               1.0          0.0  0.539877  0.022392  \n",
       "3946               1.0          0.0  0.512820  0.022392  \n",
       "3947               1.0          0.0  0.485011  0.022392  \n",
       "3948               1.0          0.0  0.420810  0.021783  \n",
       "...                ...          ...       ...       ...  \n",
       "4112               1.0          0.0  0.501860  0.026376  \n",
       "4113               1.0          0.0  0.432689  0.026376  \n",
       "4114               1.0          0.0  0.426959  0.024237  \n",
       "4115               0.0          0.0  0.390279  0.024237  \n",
       "4116               0.0          0.0  0.501860  0.026690  \n",
       "\n",
       "[173 rows x 8 columns]"
      ]
     },
     "execution_count": 158,
     "metadata": {},
     "output_type": "execute_result"
    }
   ],
   "source": [
    "f60_0_27"
   ]
  },
  {
   "cell_type": "markdown",
   "id": "453602a4",
   "metadata": {
    "id": "453602a4"
   },
   "source": [
    "## 시각화"
   ]
  },
  {
   "cell_type": "code",
   "execution_count": null,
   "id": "35eb0a2a",
   "metadata": {
    "colab": {
     "base_uri": "https://localhost:8080/",
     "height": 542
    },
    "id": "35eb0a2a",
    "outputId": "39110ee6-6573-47a2-dbd5-9041a663d4d7",
    "scrolled": true
   },
   "outputs": [
    {
     "data": {
      "text/html": [
       "<html>\n",
       "<head><meta charset=\"utf-8\" /></head>\n",
       "<body>\n",
       "    <div>            <script src=\"https://cdnjs.cloudflare.com/ajax/libs/mathjax/2.7.5/MathJax.js?config=TeX-AMS-MML_SVG\"></script><script type=\"text/javascript\">if (window.MathJax) {MathJax.Hub.Config({SVG: {font: \"STIX-Web\"}});}</script>                <script type=\"text/javascript\">window.PlotlyConfig = {MathJaxConfig: 'local'};</script>\n",
       "        <script src=\"https://cdn.plot.ly/plotly-2.8.3.min.js\"></script>                <div id=\"15c2a993-a71a-4926-8a72-d5081b31d07a\" class=\"plotly-graph-div\" style=\"height:525px; width:100%;\"></div>            <script type=\"text/javascript\">                                    window.PLOTLYENV=window.PLOTLYENV || {};                                    if (document.getElementById(\"15c2a993-a71a-4926-8a72-d5081b31d07a\")) {                    Plotly.newPlot(                        \"15c2a993-a71a-4926-8a72-d5081b31d07a\",                        [{\"mode\":\"markers\",\"name\":\"C1\",\"x\":[\"16: 9:40:435\",\"16: 9:40:555\",\"16: 9:40:675\",\"16: 9:40:795\",\"16: 9:40:915\",\"16: 9:41: 35\",\"16: 9:41:155\",\"16: 9:41:275\",\"16: 9:41:395\",\"16: 9:41:515\",\"16: 9:41:635\",\"16: 9:41:755\",\"16: 9:41:875\",\"16: 9:41:995\",\"16: 9:42:115\",\"16: 9:42:235\",\"16: 9:42:355\",\"16: 9:42:475\",\"16: 9:42:595\",\"16: 9:42:716\",\"16: 9:42:836\",\"16: 9:42:956\",\"16: 9:43: 76\",\"16: 9:43:196\",\"16: 9:43:316\",\"16: 9:43:436\",\"16: 9:43:556\",\"16: 9:43:676\",\"16: 9:43:796\",\"16: 9:43:916\",\"16: 9:44: 36\",\"16: 9:44:156\",\"16: 9:44:276\",\"16: 9:44:396\",\"16: 9:44:516\",\"16: 9:44:636\",\"16: 9:44:756\",\"16: 9:44:876\",\"16: 9:44:996\",\"16: 9:45:116\",\"16: 9:45:236\",\"16: 9:45:356\",\"16: 9:45:476\",\"16: 9:45:596\",\"16: 9:45:716\",\"16: 9:45:836\",\"16: 9:45:956\",\"16: 9:46: 76\",\"16: 9:46:196\",\"16: 9:46:316\",\"16: 9:46:436\",\"16: 9:46:556\",\"16: 9:46:676\",\"16: 9:46:796\",\"16: 9:46:916\",\"16: 9:47: 36\",\"16: 9:47:156\",\"16: 9:47:276\",\"16: 9:47:396\",\"16: 9:47:516\",\"16: 9:47:636\",\"16: 9:47:756\",\"16: 9:47:876\",\"16: 9:47:996\",\"16: 9:48:116\",\"16: 9:48:236\",\"16: 9:48:356\",\"16: 9:48:476\",\"16: 9:48:596\",\"16: 9:48:716\",\"16: 9:48:836\",\"16: 9:48:956\",\"16: 9:49: 76\",\"16: 9:49:196\",\"16: 9:49:316\",\"16: 9:49:436\",\"16: 9:49:556\",\"16: 9:49:676\",\"16: 9:49:796\",\"16: 9:49:916\",\"16: 9:50: 36\",\"16: 9:50:156\",\"16: 9:50:276\",\"16: 9:50:396\",\"16: 9:50:516\",\"16: 9:50:636\",\"16: 9:50:756\",\"16: 9:50:876\",\"16: 9:50:996\",\"16: 9:51:116\",\"16: 9:51:236\",\"16: 9:51:356\",\"16: 9:51:476\",\"16: 9:51:596\",\"16: 9:51:716\",\"16: 9:51:836\",\"16: 9:51:956\",\"16: 9:52: 76\",\"16: 9:52:196\",\"16: 9:52:316\",\"16: 9:52:436\",\"16: 9:52:556\",\"16: 9:52:676\",\"16: 9:52:816\",\"16: 9:52:936\",\"16: 9:53: 56\",\"16: 9:53:176\",\"16: 9:53:296\",\"16: 9:53:416\",\"16: 9:53:536\",\"16: 9:53:656\",\"16: 9:53:776\",\"16: 9:53:896\",\"16: 9:54: 16\",\"16: 9:54:136\",\"16: 9:54:256\",\"16: 9:54:376\",\"16: 9:54:496\",\"16: 9:54:616\",\"16: 9:54:736\",\"16: 9:54:856\",\"16: 9:54:976\",\"16: 9:55: 96\",\"16: 9:55:216\",\"16: 9:55:336\",\"16: 9:55:456\",\"16: 9:55:576\",\"16: 9:55:696\",\"16: 9:55:816\",\"16: 9:55:936\",\"16: 9:56: 56\",\"16: 9:56:176\",\"16: 9:56:296\",\"16: 9:56:416\",\"16: 9:56:536\",\"16: 9:56:656\",\"16: 9:56:776\",\"16: 9:56:897\",\"16: 9:57: 17\",\"16: 9:57:137\",\"16: 9:57:257\",\"16: 9:57:377\",\"16: 9:57:497\",\"16: 9:57:617\",\"16: 9:57:737\",\"16: 9:57:857\",\"16: 9:57:977\",\"16: 9:58: 97\",\"16: 9:58:217\",\"16: 9:58:337\",\"16: 9:58:457\",\"16: 9:58:577\",\"16: 9:58:697\",\"16: 9:58:817\",\"16: 9:58:937\",\"16: 9:59: 57\",\"16: 9:59:177\",\"16: 9:59:297\",\"16: 9:59:417\",\"16: 9:59:537\",\"16: 9:59:657\",\"16: 9:59:777\",\"16: 9:59:897\",\"16:10: 0: 17\",\"16:10: 0:137\",\"16:10: 0:257\",\"16:10: 0:377\",\"16:10: 0:497\",\"16:10: 0:617\",\"16:10: 0:737\",\"16:10: 0:857\",\"16:10: 0:977\",\"16:10: 1: 97\",\"16:10: 1:217\",\"16:10: 1:337\",\"16:10: 1:457\",\"16:10: 1:577\",\"16:10: 1:697\",\"16:10: 1:817\",\"16:10: 1:937\",\"16:10: 2: 57\",\"16:10: 2:177\",\"16:10: 2:297\",\"16:10: 2:417\",\"16:10: 2:537\",\"16:10: 2:657\",\"16:10: 2:777\",\"16:10: 2:897\",\"16:10: 3: 17\",\"16:10: 3:137\",\"16:10: 3:257\",\"16:10: 3:377\",\"16:10: 3:497\",\"16:10: 3:617\",\"16:10: 3:737\",\"16:10: 3:857\",\"16:10: 3:977\",\"16:10: 4: 97\",\"16:10: 4:217\",\"16:10: 4:337\",\"16:10: 4:457\",\"16:10: 4:577\",\"16:10: 4:697\",\"16:10: 4:817\",\"16:10: 4:937\",\"16:10: 5: 57\",\"16:10: 5:177\",\"16:10: 5:297\",\"16:10: 5:417\",\"16:10: 5:537\",\"16:10: 5:657\",\"16:10: 5:777\",\"16:10: 5:897\",\"16:10: 6: 17\",\"16:10: 6:137\",\"16:10: 6:257\",\"16:10: 6:377\",\"16:10: 6:497\",\"16:10: 6:617\",\"16:10: 6:737\",\"16:10: 6:857\",\"16:10: 6:977\",\"16:10: 7: 97\",\"16:10: 7:217\",\"16:10: 7:337\",\"16:10: 7:457\",\"16:10: 7:577\",\"16:10: 7:697\",\"16:10: 7:817\",\"16:10: 7:937\",\"16:10: 8: 57\",\"16:10: 8:177\",\"16:10: 8:297\",\"16:10: 8:417\",\"16:10: 8:537\",\"16:10: 8:657\",\"16:10: 8:777\",\"16:10: 8:897\",\"16:10: 9: 17\",\"16:10: 9:137\",\"16:10: 9:257\",\"16:10: 9:377\",\"16:10: 9:497\",\"16:10: 9:617\",\"16:10: 9:737\",\"16:10: 9:857\",\"16:10: 9:977\",\"16:10:10: 97\",\"16:10:10:217\",\"16:10:10:337\",\"16:10:10:457\",\"16:10:10:577\",\"16:10:10:697\",\"16:10:10:817\",\"16:10:10:937\",\"16:10:11: 58\",\"16:10:11:178\",\"16:10:11:298\",\"16:10:11:418\",\"16:10:11:538\",\"16:10:11:658\",\"16:10:11:778\",\"16:10:11:898\",\"16:10:12: 18\",\"16:10:12:138\",\"16:10:12:258\",\"16:10:12:378\",\"16:10:12:498\",\"16:10:12:618\",\"16:10:12:738\",\"16:10:12:858\",\"16:10:12:978\",\"16:10:13: 98\",\"16:10:13:218\",\"16:10:13:338\",\"16:10:13:458\",\"16:10:13:578\",\"16:10:13:698\",\"16:10:13:818\",\"16:10:13:938\",\"16:10:14: 58\",\"16:10:14:178\",\"16:10:14:298\",\"16:10:14:418\",\"16:10:14:538\",\"16:10:14:658\",\"16:10:14:778\",\"16:10:14:898\",\"16:10:15: 18\",\"16:10:15:138\",\"16:10:15:258\",\"16:10:15:378\",\"16:10:15:498\",\"16:10:15:618\",\"16:10:15:738\",\"16:10:15:858\",\"16:10:15:978\",\"16:10:16: 98\",\"16:10:16:218\",\"16:10:16:338\",\"16:10:16:458\",\"16:10:16:578\",\"16:10:16:698\",\"16:10:16:818\",\"16:10:16:938\",\"16:10:17: 58\",\"16:10:17:178\",\"16:10:17:298\",\"16:10:17:418\",\"16:10:17:538\",\"16:10:17:658\",\"16:10:17:778\",\"16:10:17:898\",\"16:10:18: 18\",\"16:10:18:138\",\"16:10:18:258\",\"16:10:18:378\",\"16:10:18:498\",\"16:10:18:618\",\"16:10:18:738\",\"16:10:18:858\",\"16:10:18:978\",\"16:10:19: 98\",\"16:10:19:218\",\"16:10:19:338\",\"16:10:19:458\",\"16:10:19:578\",\"16:10:19:698\",\"16:10:19:818\",\"16:10:19:938\",\"16:10:20: 58\",\"16:10:20:178\",\"16:10:20:298\",\"16:10:20:418\",\"16:10:20:538\",\"16:10:20:658\",\"16:10:20:778\",\"16:10:20:898\",\"16:10:21: 18\",\"16:10:21:138\",\"16:10:21:258\",\"16:10:21:378\",\"16:10:21:498\",\"16:10:21:618\",\"16:10:21:738\",\"16:10:21:858\",\"16:10:21:978\",\"16:10:22: 98\",\"16:10:22:218\",\"16:10:22:338\",\"16:10:22:458\",\"16:10:22:578\",\"16:10:22:698\",\"16:10:22:818\",\"16:10:22:938\",\"16:10:23: 58\",\"16:10:23:178\",\"16:10:23:298\",\"16:10:23:418\",\"16:10:23:538\",\"16:10:23:658\",\"16:10:23:778\",\"16:10:23:898\",\"16:10:24: 18\",\"16:10:24:138\",\"16:10:24:258\",\"16:10:24:378\",\"16:10:24:498\",\"16:10:24:618\",\"16:10:24:738\",\"16:10:24:858\",\"16:10:24:978\",\"16:10:25: 98\",\"16:10:25:218\",\"16:10:25:339\",\"16:10:25:459\",\"16:10:25:579\",\"16:10:25:699\",\"16:10:25:819\",\"16:10:25:939\",\"16:10:26: 59\",\"16:10:26:179\",\"16:10:26:299\",\"16:10:26:419\",\"16:10:26:539\",\"16:10:26:659\",\"16:10:26:779\",\"16:10:26:899\",\"16:10:27: 19\",\"16:10:27:139\",\"16:10:27:259\",\"16:10:27:379\",\"16:10:27:499\",\"16:10:27:619\",\"16:10:27:739\",\"16:10:27:859\",\"16:10:27:979\",\"16:10:28: 99\",\"16:10:28:219\",\"16:10:28:339\",\"16:10:28:459\",\"16:10:28:579\",\"16:10:28:699\",\"16:10:28:819\",\"16:10:28:939\",\"16:10:29: 59\",\"16:10:29:179\",\"16:10:29:299\",\"16:10:29:419\",\"16:10:29:539\",\"16:10:29:659\",\"16:10:29:779\",\"16:10:29:899\",\"16:10:30: 19\",\"16:10:30:139\",\"16:10:30:259\",\"16:10:30:379\",\"16:10:30:499\",\"16:10:30:619\",\"16:10:30:739\",\"16:10:30:859\",\"16:10:30:979\",\"16:10:31: 99\",\"16:10:31:219\",\"16:10:31:339\",\"16:10:31:459\",\"16:10:31:579\",\"16:10:31:699\",\"16:10:31:819\",\"16:10:31:939\",\"16:10:32: 59\",\"16:10:32:179\",\"16:10:32:299\",\"16:10:32:419\",\"16:10:32:539\",\"16:10:32:659\",\"16:10:32:779\",\"16:10:32:899\",\"16:10:33: 19\",\"16:10:33:139\",\"16:10:33:259\",\"16:10:33:379\",\"16:10:33:499\",\"16:10:33:619\",\"16:10:33:739\",\"16:10:33:859\",\"16:10:33:979\",\"16:10:34: 99\",\"16:10:34:219\",\"16:10:34:339\",\"16:10:34:459\",\"16:10:34:579\",\"16:10:34:699\",\"16:10:34:819\",\"16:10:34:939\",\"16:10:35: 59\",\"16:10:35:179\",\"16:10:35:299\",\"16:10:35:419\",\"16:10:35:539\",\"16:10:35:659\",\"16:10:35:779\",\"16:10:35:899\",\"16:10:36: 19\",\"16:10:36:139\",\"16:10:36:259\",\"16:10:36:379\",\"16:10:36:499\",\"16:10:36:619\",\"16:10:36:739\",\"16:10:36:859\",\"16:10:36:979\",\"16:10:37: 99\",\"16:10:37:219\",\"16:10:37:339\",\"16:10:37:459\",\"16:10:37:579\",\"16:10:37:699\",\"16:10:37:819\",\"16:10:37:939\",\"16:10:38: 59\",\"16:10:38:179\",\"16:10:38:299\",\"16:10:38:419\",\"16:10:38:539\",\"16:10:38:659\",\"16:10:38:779\",\"16:10:38:899\",\"16:10:39: 19\",\"16:10:39:139\",\"16:10:39:259\",\"16:10:39:379\",\"16:10:39:500\",\"16:10:39:620\",\"16:10:39:740\",\"16:10:39:860\",\"16:10:39:980\",\"16:10:40:100\",\"16:10:40:220\",\"16:10:40:340\",\"16:10:40:460\",\"16:10:40:580\",\"16:10:40:700\",\"16:10:40:820\",\"16:10:40:940\",\"16:10:41: 60\",\"16:10:41:180\",\"16:10:41:300\",\"16:10:41:420\",\"16:10:41:540\",\"16:10:41:660\",\"16:10:41:780\",\"16:10:41:900\",\"16:10:42: 20\",\"16:10:42:140\",\"16:10:42:260\",\"16:10:42:380\",\"16:10:42:500\",\"16:10:42:620\",\"16:10:42:740\",\"16:10:42:860\",\"16:10:42:980\",\"16:10:43:100\",\"16:10:43:220\",\"16:10:43:340\",\"16:10:43:460\",\"16:10:43:580\",\"16:10:43:700\",\"16:10:43:820\",\"16:10:43:940\",\"16:10:44: 60\",\"16:10:44:180\",\"16:10:44:300\",\"16:10:44:420\",\"16:10:44:540\",\"16:10:44:660\",\"16:10:44:780\",\"16:10:44:900\",\"16:10:45: 20\",\"16:10:45:140\",\"16:10:45:260\",\"16:10:45:380\",\"16:10:45:500\",\"16:10:45:620\",\"16:10:45:740\",\"16:10:45:860\",\"16:10:45:980\",\"16:10:46:100\",\"16:10:46:220\",\"16:10:46:340\",\"16:10:46:460\",\"16:10:46:580\",\"16:10:46:700\",\"16:10:46:820\",\"16:10:46:940\",\"16:10:47: 60\",\"16:10:47:180\",\"16:10:47:300\",\"16:10:47:420\",\"16:10:47:540\",\"16:10:47:660\",\"16:10:47:780\",\"16:10:47:900\",\"16:10:48: 20\",\"16:10:48:140\",\"16:10:48:260\",\"16:10:48:380\",\"16:10:48:500\",\"16:10:48:620\",\"16:10:48:740\",\"16:10:48:860\",\"16:10:48:980\",\"16:10:49:100\",\"16:10:49:220\",\"16:10:49:340\",\"16:10:49:460\",\"16:10:49:580\",\"16:10:49:700\",\"16:10:49:820\",\"16:10:49:940\",\"16:10:50: 60\",\"16:10:50:180\",\"16:10:50:300\",\"16:10:50:420\",\"16:10:50:540\",\"16:10:50:660\",\"16:10:50:780\",\"16:10:50:900\",\"16:10:51: 20\",\"16:10:51:140\",\"16:10:51:260\",\"16:10:51:380\",\"16:10:51:500\",\"16:10:51:620\",\"16:10:51:740\",\"16:10:51:860\",\"16:10:51:980\",\"16:10:52:100\",\"16:10:52:220\",\"16:10:52:340\",\"16:10:52:460\",\"16:10:52:580\",\"16:10:52:700\",\"16:10:52:820\",\"16:10:52:940\",\"16:10:53: 60\",\"16:10:53:180\",\"16:10:53:300\",\"16:10:53:420\",\"16:10:53:540\",\"16:10:53:661\",\"16:10:53:781\",\"16:10:53:901\",\"16:10:54: 21\",\"16:10:54:141\",\"16:10:54:261\",\"16:10:54:381\",\"16:10:54:501\",\"16:10:54:621\",\"16:10:54:741\",\"16:10:54:861\",\"16:10:54:981\",\"16:10:55:101\",\"16:10:55:221\",\"16:10:55:341\",\"16:10:55:461\",\"16:10:55:581\",\"16:10:55:701\",\"16:10:55:821\",\"16:10:55:941\",\"16:10:56: 61\",\"16:10:56:181\",\"16:10:56:301\",\"16:10:56:421\",\"16:10:56:541\",\"16:10:56:661\",\"16:10:56:781\",\"16:10:56:901\",\"16:10:57: 21\",\"16:10:57:141\",\"16:10:57:261\",\"16:10:57:381\",\"16:10:57:501\",\"16:10:57:621\",\"16:10:57:741\",\"16:10:57:861\",\"16:10:57:981\",\"16:10:58:101\",\"16:10:58:221\",\"16:10:58:341\",\"16:10:58:461\",\"16:10:58:581\",\"16:10:58:701\",\"16:10:58:821\",\"16:10:58:941\",\"16:10:59: 61\",\"16:10:59:181\",\"16:10:59:301\",\"16:10:59:421\",\"16:10:59:541\",\"16:10:59:661\",\"16:10:59:781\",\"16:10:59:901\",\"16:11: 0: 21\",\"16:11: 0:141\",\"16:11: 0:261\",\"16:11: 0:381\",\"16:11: 0:501\",\"16:11: 0:621\",\"16:11: 0:741\",\"16:11: 0:861\",\"16:11: 0:981\",\"16:11: 1:101\",\"16:11: 1:221\",\"16:11: 1:341\",\"16:11: 1:461\",\"16:11: 1:581\",\"16:11: 1:701\",\"16:11: 1:821\",\"16:11: 1:941\",\"16:11: 2: 61\",\"16:11: 2:181\",\"16:11: 2:301\",\"16:11: 2:421\",\"16:11: 2:541\",\"16:11: 2:661\",\"16:11: 2:781\",\"16:11: 2:901\",\"16:11: 3: 21\",\"16:11: 3:141\",\"16:11: 3:261\",\"16:11: 3:381\",\"16:11: 3:501\",\"16:11: 3:621\",\"16:11: 3:741\",\"16:11: 3:861\",\"16:11: 3:981\",\"16:11: 4:101\",\"16:11: 4:221\",\"16:11: 4:341\",\"16:11: 4:461\",\"16:11: 4:581\",\"16:11: 4:701\",\"16:11: 4:821\",\"16:11: 4:941\",\"16:11: 5: 61\",\"16:11: 5:181\",\"16:11: 5:301\",\"16:11: 5:421\",\"16:11: 5:541\",\"16:11: 5:661\",\"16:11: 5:781\",\"16:11: 5:901\",\"16:11: 6: 21\",\"16:11: 6:141\",\"16:11: 6:261\",\"16:11: 6:381\",\"16:11: 6:501\",\"16:11: 6:621\",\"16:11: 6:741\",\"16:11: 6:861\",\"16:11: 6:981\",\"16:11: 7:101\",\"16:11: 7:221\",\"16:11: 7:341\",\"16:11: 7:461\",\"16:11: 7:581\",\"16:11: 7:701\",\"16:11: 7:821\",\"16:11: 7:942\",\"16:11: 8: 62\",\"16:11: 8:182\",\"16:11: 8:302\",\"16:11: 8:422\",\"16:11: 8:542\",\"16:11: 8:662\",\"16:11: 8:782\",\"16:11: 8:902\",\"16:11: 9: 22\",\"16:11: 9:142\",\"16:11: 9:262\",\"16:11: 9:382\",\"16:11: 9:502\",\"16:11: 9:622\",\"16:11: 9:742\",\"16:11: 9:862\",\"16:11: 9:982\",\"16:11:10:102\",\"16:11:10:222\",\"16:11:10:342\",\"16:11:10:462\",\"16:11:10:582\",\"16:11:10:702\",\"16:11:10:822\",\"16:11:10:942\",\"16:11:11: 62\",\"16:11:11:182\",\"16:11:11:302\",\"16:11:11:422\",\"16:11:11:542\",\"16:11:11:662\",\"16:11:11:782\",\"16:11:11:902\",\"16:11:12: 22\",\"16:11:12:142\",\"16:11:12:262\",\"16:11:12:382\",\"16:11:12:502\",\"16:11:12:622\",\"16:11:12:742\",\"16:11:12:862\",\"16:11:12:982\",\"16:11:13:102\",\"16:11:13:222\",\"16:11:13:342\",\"16:11:13:462\",\"16:11:13:582\",\"16:11:13:702\",\"16:11:13:822\",\"16:11:13:942\",\"16:11:14: 62\",\"16:11:14:182\",\"16:11:14:302\",\"16:11:14:422\",\"16:11:14:542\",\"16:11:14:662\",\"16:11:14:782\",\"16:11:14:902\",\"16:11:15: 22\",\"16:11:15:142\",\"16:11:15:262\",\"16:11:15:382\",\"16:11:15:502\",\"16:11:15:622\",\"16:11:15:742\",\"16:11:15:862\",\"16:11:15:982\",\"16:11:16:102\",\"16:11:16:222\",\"16:11:16:342\",\"16:11:16:462\",\"16:11:16:582\",\"16:11:16:702\",\"16:11:16:822\",\"16:11:16:942\",\"16:11:17: 62\",\"16:11:17:182\",\"16:11:17:302\",\"16:11:17:422\",\"16:11:17:542\",\"16:11:17:662\",\"16:11:17:782\",\"16:11:17:902\",\"16:11:18: 22\",\"16:11:18:142\",\"16:11:18:262\",\"16:11:18:402\",\"16:11:18:522\",\"16:11:18:642\",\"16:11:18:762\",\"16:11:18:882\",\"16:11:19:  2\",\"16:11:19:122\",\"16:11:19:242\",\"16:11:19:362\",\"16:11:19:482\",\"16:11:19:602\",\"16:11:19:722\",\"16:11:19:842\",\"16:11:19:962\",\"16:11:20: 82\",\"16:11:20:202\",\"16:11:20:322\",\"16:11:20:442\",\"16:11:20:562\",\"16:11:20:702\",\"16:11:20:822\",\"16:11:20:942\",\"16:11:21: 62\",\"16:11:21:182\",\"16:11:21:302\",\"16:11:21:422\",\"16:11:21:542\",\"16:11:21:662\",\"16:11:21:782\",\"16:11:21:902\",\"16:11:22: 22\",\"16:11:22:143\",\"16:11:22:263\",\"16:11:22:383\",\"16:11:22:503\",\"16:11:22:623\",\"16:11:22:743\",\"16:11:22:863\",\"16:11:22:983\",\"16:11:23:103\",\"16:11:23:223\",\"16:11:23:343\",\"16:11:23:463\",\"16:11:23:583\",\"16:11:23:703\",\"16:11:23:823\",\"16:11:23:943\",\"16:11:24: 63\",\"16:11:24:183\",\"16:11:24:303\",\"16:11:24:423\",\"16:11:24:543\",\"16:11:24:663\",\"16:11:24:783\",\"16:11:24:903\",\"16:11:25: 23\",\"16:11:25:143\",\"16:11:25:263\",\"16:11:25:383\",\"16:11:25:503\",\"16:11:25:623\",\"16:11:25:743\",\"16:11:25:863\",\"16:11:25:983\",\"16:11:26:103\",\"16:11:26:223\",\"16:11:26:343\",\"16:11:26:463\",\"16:11:26:583\",\"16:11:26:703\",\"16:11:26:823\",\"16:11:26:943\",\"16:11:27: 63\",\"16:11:27:183\",\"16:11:27:303\",\"16:11:27:423\",\"16:11:27:543\",\"16:11:27:663\",\"16:11:27:783\",\"16:11:27:903\",\"16:11:28: 23\",\"16:11:28:143\",\"16:11:28:263\",\"16:11:28:383\",\"16:11:28:503\",\"16:11:28:623\",\"16:11:28:743\",\"16:11:28:863\",\"16:11:28:983\",\"16:11:29:103\",\"16:11:29:223\",\"16:11:29:343\",\"16:11:29:463\",\"16:11:29:583\",\"16:11:29:703\",\"16:11:29:823\",\"16:11:29:943\",\"16:11:30: 63\",\"16:11:30:183\",\"16:11:30:303\",\"16:11:30:423\",\"16:11:30:543\",\"16:11:30:663\",\"16:11:30:783\",\"16:11:30:903\",\"16:11:31: 23\",\"16:11:31:143\",\"16:11:31:263\",\"16:11:31:383\",\"16:11:31:503\",\"16:11:31:623\",\"16:11:31:743\",\"16:11:31:863\",\"16:11:31:983\",\"16:11:32:103\",\"16:11:32:223\",\"16:11:32:343\",\"16:11:32:463\",\"16:11:32:583\",\"16:11:32:703\",\"16:11:32:823\",\"16:11:32:943\",\"16:11:33: 63\",\"16:11:33:183\",\"16:11:33:303\",\"16:11:33:423\",\"16:11:33:543\",\"16:11:33:663\",\"16:11:33:783\",\"16:11:33:903\",\"16:11:34: 23\",\"16:11:34:143\",\"16:11:34:263\",\"16:11:34:383\",\"16:11:34:503\",\"16:11:34:623\",\"16:11:34:743\",\"16:11:34:863\",\"16:11:34:983\",\"16:11:35:103\",\"16:11:35:223\",\"16:11:35:343\",\"16:11:35:463\",\"16:11:35:583\",\"16:11:35:703\",\"16:11:35:823\",\"16:11:35:943\",\"16:11:36: 63\",\"16:11:36:183\",\"16:11:36:304\",\"16:11:36:424\",\"16:11:36:544\",\"16:11:36:664\",\"16:11:36:784\",\"16:11:36:904\",\"16:11:37: 44\",\"16:11:37:164\",\"16:11:37:284\",\"16:11:37:404\",\"16:11:37:524\",\"16:11:37:644\",\"16:11:37:764\",\"16:11:37:884\",\"16:11:38:  4\",\"16:11:38:124\",\"16:11:38:244\",\"16:11:38:364\",\"16:11:38:484\",\"16:11:38:604\",\"16:11:38:724\",\"16:11:38:844\",\"16:11:38:964\",\"16:11:39: 84\",\"16:11:39:204\",\"16:11:39:324\",\"16:11:39:444\",\"16:11:39:564\",\"16:11:39:684\",\"16:11:39:804\",\"16:11:39:924\",\"16:11:40: 44\",\"16:11:40:164\",\"16:11:40:284\",\"16:11:40:404\",\"16:11:40:524\",\"16:11:40:644\",\"16:11:40:764\",\"16:11:40:884\",\"16:11:41:  4\",\"16:11:41:124\",\"16:11:41:244\",\"16:11:41:364\",\"16:11:41:484\",\"16:11:41:604\",\"16:11:41:724\",\"16:11:41:844\",\"16:11:41:964\",\"16:11:42: 84\",\"16:11:42:204\",\"16:11:42:324\",\"16:11:42:444\",\"16:11:42:564\",\"16:11:42:684\",\"16:11:42:804\",\"16:11:42:924\",\"16:11:43: 44\",\"16:11:43:164\",\"16:11:43:284\",\"16:11:43:404\",\"16:11:43:524\",\"16:11:43:644\",\"16:11:43:764\",\"16:11:43:884\",\"16:11:44:  4\",\"16:11:44:124\",\"16:11:44:244\",\"16:11:44:364\",\"16:11:44:484\",\"16:11:44:604\",\"16:11:44:724\",\"16:11:44:844\",\"16:11:44:964\",\"16:11:45: 84\",\"16:11:45:204\",\"16:11:45:324\",\"16:11:45:444\",\"16:11:45:564\",\"16:11:45:684\",\"16:11:45:804\",\"16:11:45:924\",\"16:11:46: 44\",\"16:11:46:164\",\"16:11:46:284\",\"16:11:46:404\",\"16:11:46:524\",\"16:11:46:644\",\"16:11:46:764\",\"16:11:46:884\",\"16:11:47:  4\",\"16:11:47:124\",\"16:11:47:244\",\"16:11:47:364\",\"16:11:47:484\",\"16:11:47:604\",\"16:11:47:724\",\"16:11:47:844\",\"16:11:47:964\",\"16:11:48: 84\",\"16:11:48:204\",\"16:11:48:324\",\"16:11:48:444\",\"16:11:48:564\",\"16:11:48:684\",\"16:11:48:804\",\"16:11:48:924\",\"16:11:49: 44\",\"16:11:49:164\",\"16:11:49:284\",\"16:11:49:404\",\"16:11:49:524\",\"16:11:49:644\",\"16:11:49:764\",\"16:11:49:884\",\"16:11:50:  4\",\"16:11:50:124\",\"16:11:50:244\",\"16:11:50:364\",\"16:11:50:485\",\"16:11:50:625\",\"16:11:50:745\",\"16:11:50:865\",\"16:11:50:985\",\"16:11:51:105\",\"16:11:51:225\",\"16:11:51:345\",\"16:11:51:465\",\"16:11:51:585\",\"16:11:51:705\",\"16:11:51:825\",\"16:11:51:945\",\"16:11:52: 65\",\"16:11:52:185\",\"16:11:52:305\",\"16:11:52:425\",\"16:11:52:545\",\"16:11:52:665\",\"16:11:52:785\",\"16:11:52:905\",\"16:11:53: 25\",\"16:11:53:145\",\"16:11:53:265\",\"16:11:53:385\",\"16:11:53:505\",\"16:11:53:625\",\"16:11:53:745\",\"16:11:53:865\",\"16:11:53:985\",\"16:11:54:105\",\"16:11:54:225\",\"16:11:54:345\",\"16:11:54:465\",\"16:11:54:585\",\"16:11:54:705\",\"16:11:54:825\",\"16:11:54:945\",\"16:11:55: 65\",\"16:11:55:185\",\"16:11:55:305\",\"16:11:55:425\",\"16:11:55:545\",\"16:11:55:665\",\"16:11:55:785\",\"16:11:55:905\",\"16:11:56: 25\",\"16:11:56:145\",\"16:11:56:265\",\"16:11:56:385\",\"16:11:56:505\",\"16:11:56:625\",\"16:11:56:745\",\"16:11:56:865\",\"16:11:56:985\",\"16:11:57:105\",\"16:11:57:225\",\"16:11:57:345\",\"16:11:57:465\",\"16:11:57:585\",\"16:11:57:705\",\"16:11:57:825\",\"16:11:57:945\",\"16:11:58: 65\",\"16:11:58:185\",\"16:11:58:305\",\"16:11:58:425\",\"16:11:58:545\",\"16:11:58:665\",\"16:11:58:785\",\"16:11:58:905\",\"16:11:59: 25\",\"16:11:59:145\",\"16:11:59:265\",\"16:11:59:385\",\"16:11:59:505\",\"16:11:59:625\",\"16:11:59:745\",\"16:11:59:865\",\"16:11:59:985\",\"16:12: 0:105\",\"16:12: 0:225\",\"16:12: 0:345\",\"16:12: 0:465\",\"16:12: 0:585\",\"16:12: 0:705\",\"16:12: 0:825\",\"16:12: 0:945\",\"16:12: 1: 65\",\"16:12: 1:185\",\"16:12: 1:305\",\"16:12: 1:425\",\"16:12: 1:545\",\"16:12: 1:665\",\"16:12: 1:785\",\"16:12: 1:905\",\"16:12: 2: 25\",\"16:12: 2:145\",\"16:12: 2:265\",\"16:12: 2:385\",\"16:12: 2:505\",\"16:12: 2:625\",\"16:12: 2:745\",\"16:12: 2:865\",\"16:12: 2:985\",\"16:12: 3:105\",\"16:12: 3:225\",\"16:12: 3:345\",\"16:12: 3:465\",\"16:12: 3:585\",\"16:12: 3:705\",\"16:12: 3:825\",\"16:12: 3:945\",\"16:12: 4: 65\",\"16:12: 4:185\",\"16:12: 4:305\",\"16:12: 4:425\",\"16:12: 4:545\",\"16:12: 4:666\",\"16:12: 4:806\",\"16:12: 4:926\",\"16:12: 5: 46\",\"16:12: 5:166\",\"16:12: 5:286\",\"16:12: 5:406\",\"16:12: 5:526\",\"16:12: 5:646\",\"16:12: 5:766\",\"16:12: 5:886\",\"16:12: 6:  6\",\"16:12: 6:126\",\"16:12: 6:246\",\"16:12: 6:366\",\"16:12: 6:486\",\"16:12: 6:606\",\"16:12: 6:726\",\"16:12: 6:846\",\"16:12: 6:966\",\"16:12: 7: 86\",\"16:12: 7:206\",\"16:12: 7:326\",\"16:12: 7:446\",\"16:12: 7:566\",\"16:12: 7:686\",\"16:12: 7:806\",\"16:12: 7:926\",\"16:12: 8: 46\",\"16:12: 8:166\",\"16:12: 8:286\",\"16:12: 8:406\",\"16:12: 8:526\",\"16:12: 8:646\",\"16:12: 8:766\",\"16:12: 8:886\",\"16:12: 9:  6\",\"16:12: 9:126\",\"16:12: 9:246\",\"16:12: 9:366\",\"16:12: 9:486\",\"16:12: 9:606\",\"16:12: 9:726\",\"16:12: 9:846\",\"16:12: 9:966\",\"16:12:10: 86\",\"16:12:10:206\",\"16:12:10:326\",\"16:12:10:446\",\"16:12:10:566\",\"16:12:10:686\",\"16:12:10:806\",\"16:12:10:926\",\"16:12:11: 46\",\"16:12:11:166\",\"16:12:11:286\",\"16:12:11:406\",\"16:12:11:526\",\"16:12:11:646\",\"16:12:11:766\",\"16:12:11:886\",\"16:12:12:  6\",\"16:12:12:126\",\"16:12:12:246\",\"16:12:12:366\",\"16:12:12:486\",\"16:12:12:606\",\"16:12:12:726\",\"16:12:12:846\",\"16:12:12:966\",\"16:12:13: 86\",\"16:12:13:206\",\"16:12:13:326\",\"16:12:13:446\",\"16:12:13:566\",\"16:12:13:686\",\"16:12:13:806\",\"16:12:13:926\",\"16:12:14: 46\",\"16:12:14:166\",\"16:12:14:286\",\"16:12:14:406\",\"16:12:14:526\",\"16:12:14:646\",\"16:12:14:766\",\"16:12:14:886\",\"16:12:15:  6\",\"16:12:15:126\",\"16:12:15:246\",\"16:12:15:366\",\"16:12:15:486\",\"16:12:15:606\",\"16:12:15:726\",\"16:12:15:846\",\"16:12:15:966\",\"16:12:16: 86\",\"16:12:16:206\",\"16:12:16:326\",\"16:12:16:446\",\"16:12:16:566\",\"16:12:16:686\",\"16:12:16:806\",\"16:12:16:926\",\"16:12:17: 46\",\"16:12:17:166\",\"16:12:17:286\",\"16:12:17:406\",\"16:12:17:526\",\"16:12:17:646\",\"16:12:17:766\",\"16:12:17:886\",\"16:12:18:  6\",\"16:12:18:126\",\"16:12:18:246\",\"16:12:18:366\",\"16:12:18:486\",\"16:12:18:606\",\"16:12:18:726\",\"16:12:18:846\",\"16:12:18:967\",\"16:12:19: 87\",\"16:12:19:207\",\"16:12:19:327\",\"16:12:19:447\",\"16:12:19:567\",\"16:12:19:687\",\"16:12:19:807\",\"16:12:19:927\",\"16:12:20: 47\",\"16:12:20:167\",\"16:12:20:287\",\"16:12:20:407\",\"16:12:20:527\",\"16:12:20:647\",\"16:12:20:767\",\"16:12:20:887\",\"16:12:21:  7\",\"16:12:21:127\",\"16:12:21:247\",\"16:12:21:367\",\"16:12:21:487\",\"16:12:21:607\",\"16:12:21:727\",\"16:12:21:847\",\"16:12:21:967\",\"16:12:22: 87\",\"16:12:22:207\",\"16:12:22:327\",\"16:12:22:447\",\"16:12:22:567\",\"16:12:22:687\",\"16:12:22:807\",\"16:12:22:927\",\"16:12:23: 47\",\"16:12:23:167\",\"16:12:23:287\",\"16:12:23:407\",\"16:12:23:527\",\"16:12:23:647\",\"16:12:23:767\",\"16:12:23:887\",\"16:12:24:  7\",\"16:12:24:127\",\"16:12:24:247\",\"16:12:24:367\",\"16:12:24:487\",\"16:12:24:607\",\"16:12:24:727\",\"16:12:24:847\",\"16:12:24:967\",\"16:12:25: 87\",\"16:12:25:207\",\"16:12:25:327\",\"16:12:25:447\",\"16:12:25:567\",\"16:12:25:687\",\"16:12:25:807\",\"16:12:25:927\",\"16:12:26: 47\",\"16:12:26:167\",\"16:12:26:287\",\"16:12:26:407\",\"16:12:26:527\",\"16:12:26:647\",\"16:12:26:767\",\"16:12:26:887\",\"16:12:27:  7\",\"16:12:27:127\",\"16:12:27:247\",\"16:12:27:367\",\"16:12:27:487\",\"16:12:27:607\",\"16:12:27:727\",\"16:12:27:847\",\"16:12:27:967\",\"16:12:28: 87\",\"16:12:28:207\",\"16:12:28:327\",\"16:12:28:447\",\"16:12:28:567\",\"16:12:28:687\",\"16:12:28:807\",\"16:12:28:927\",\"16:12:29: 47\",\"16:12:29:167\",\"16:12:29:287\",\"16:12:29:407\",\"16:12:29:527\",\"16:12:29:647\",\"16:12:29:767\",\"16:12:29:887\",\"16:12:30:  7\",\"16:12:30:127\",\"16:12:30:247\",\"16:12:30:367\",\"16:12:30:487\",\"16:12:30:607\",\"16:12:30:727\",\"16:12:30:847\",\"16:12:30:967\",\"16:12:31: 87\",\"16:12:31:207\",\"16:12:31:327\",\"16:12:31:447\",\"16:12:31:567\",\"16:12:31:687\",\"16:12:31:807\",\"16:12:31:927\",\"16:12:32: 47\",\"16:12:32:167\",\"16:12:32:287\",\"16:12:32:407\",\"16:12:32:527\",\"16:12:32:647\",\"16:12:32:767\",\"16:12:32:887\",\"16:12:33:  7\",\"16:12:33:128\",\"16:12:33:248\",\"16:12:33:368\",\"16:12:33:488\",\"16:12:33:608\",\"16:12:33:728\",\"16:12:33:848\",\"16:12:33:968\",\"16:12:34: 88\",\"16:12:34:208\",\"16:12:34:328\",\"16:12:34:448\",\"16:12:34:568\",\"16:12:34:688\",\"16:12:34:808\",\"16:12:34:928\",\"16:12:35: 48\",\"16:12:35:168\",\"16:12:35:288\",\"16:12:35:408\",\"16:12:35:528\",\"16:12:35:648\",\"16:12:35:768\",\"16:12:35:888\",\"16:12:36:  8\",\"16:12:36:128\",\"16:12:36:248\",\"16:12:36:368\",\"16:12:36:488\",\"16:12:36:608\",\"16:12:36:728\",\"16:12:36:848\",\"16:12:36:968\",\"16:12:37: 88\",\"16:12:37:208\",\"16:12:37:328\",\"16:12:37:448\",\"16:12:37:568\",\"16:12:37:688\",\"16:12:37:808\",\"16:12:37:928\",\"16:12:38: 48\",\"16:12:38:168\",\"16:12:38:288\",\"16:12:38:408\",\"16:12:38:528\",\"16:12:38:648\",\"16:12:38:768\",\"16:12:38:888\",\"16:12:39:  8\",\"16:12:39:128\",\"16:12:39:248\",\"16:12:39:368\",\"16:12:39:488\",\"16:12:39:608\",\"16:12:39:728\",\"16:12:39:848\",\"16:12:39:968\",\"16:12:40: 88\",\"16:12:40:208\",\"16:12:40:328\",\"16:12:40:448\",\"16:12:40:568\",\"16:12:40:688\",\"16:12:40:808\",\"16:12:40:928\",\"16:12:41: 48\",\"16:12:41:168\",\"16:12:41:288\",\"16:12:41:408\",\"16:12:41:528\",\"16:12:41:648\",\"16:12:41:768\",\"16:12:41:888\",\"16:12:42:  8\",\"16:12:42:128\",\"16:12:42:248\",\"16:12:42:368\",\"16:12:42:488\",\"16:12:42:608\",\"16:12:42:728\",\"16:12:42:848\",\"16:12:42:968\",\"16:12:43: 88\",\"16:12:43:208\",\"16:12:43:328\",\"16:12:43:448\",\"16:12:43:568\",\"16:12:43:688\",\"16:12:43:808\",\"16:12:43:928\",\"16:12:44: 48\",\"16:12:44:168\",\"16:12:44:288\",\"16:12:44:408\",\"16:12:44:528\",\"16:12:44:648\",\"16:12:44:768\",\"16:12:44:888\",\"16:12:45:  8\",\"16:12:45:128\",\"16:12:45:248\",\"16:12:45:368\",\"16:12:45:488\",\"16:12:45:608\",\"16:12:45:728\",\"16:12:45:848\",\"16:12:45:968\",\"16:12:46: 88\",\"16:12:46:208\",\"16:12:46:328\",\"16:12:46:448\",\"16:12:46:568\",\"16:12:46:688\",\"16:12:46:808\",\"16:12:46:928\",\"16:12:47: 48\",\"16:12:47:168\",\"16:12:47:289\",\"16:12:47:409\",\"16:12:47:529\",\"16:12:47:649\",\"16:12:47:769\",\"16:12:47:889\",\"16:12:48:  9\",\"16:12:48:129\",\"16:12:48:249\",\"16:12:48:369\",\"16:12:48:489\",\"16:12:48:609\",\"16:12:48:729\",\"16:12:48:849\",\"16:12:48:969\",\"16:12:49: 89\",\"16:12:49:209\",\"16:12:49:329\",\"16:12:49:449\",\"16:12:49:569\",\"16:12:49:689\",\"16:12:49:809\",\"16:12:49:929\",\"16:12:50: 49\",\"16:12:50:169\",\"16:12:50:289\",\"16:12:50:409\",\"16:12:50:529\",\"16:12:50:649\",\"16:12:50:769\",\"16:12:50:889\",\"16:12:51:  9\",\"16:12:51:129\",\"16:12:51:249\",\"16:12:51:369\",\"16:12:51:489\",\"16:12:51:609\",\"16:12:51:729\",\"16:12:51:849\",\"16:12:51:969\",\"16:12:52: 89\",\"16:12:52:209\",\"16:12:52:329\",\"16:12:52:449\",\"16:12:52:569\",\"16:12:52:689\",\"16:12:52:809\",\"16:12:52:929\",\"16:12:53: 49\",\"16:12:53:169\",\"16:12:53:289\",\"16:12:53:409\",\"16:12:53:529\",\"16:12:53:649\",\"16:12:53:769\",\"16:12:53:889\",\"16:12:54:  9\",\"16:12:54:129\",\"16:12:54:249\",\"16:12:54:369\",\"16:12:54:489\",\"16:12:54:609\",\"16:12:54:749\",\"16:12:54:869\",\"16:12:54:989\",\"16:12:55:109\",\"16:12:55:229\",\"16:12:55:349\",\"16:12:55:469\",\"16:12:55:589\",\"16:12:55:709\",\"16:12:55:829\",\"16:12:55:949\",\"16:12:56: 69\",\"16:12:56:189\",\"16:12:56:309\",\"16:12:56:429\",\"16:12:56:549\",\"16:12:56:669\",\"16:12:56:789\",\"16:12:56:909\",\"16:12:57: 29\",\"16:12:57:149\",\"16:12:57:269\",\"16:12:57:389\",\"16:12:57:509\",\"16:12:57:629\",\"16:12:57:749\",\"16:12:57:869\",\"16:12:57:989\",\"16:12:58:109\",\"16:12:58:229\",\"16:12:58:349\",\"16:12:58:469\",\"16:12:58:589\",\"16:12:58:709\",\"16:12:58:829\",\"16:12:58:949\",\"16:12:59: 69\",\"16:12:59:189\",\"16:12:59:309\",\"16:12:59:429\",\"16:12:59:549\",\"16:12:59:669\",\"16:12:59:789\",\"16:12:59:909\",\"16:13: 0: 29\",\"16:13: 0:149\",\"16:13: 0:269\",\"16:13: 0:389\",\"16:13: 0:509\",\"16:13: 0:629\",\"16:13: 0:749\",\"16:13: 0:869\",\"16:13: 0:989\",\"16:13: 1:109\",\"16:13: 1:229\",\"16:13: 1:349\",\"16:13: 1:469\",\"16:13: 1:590\",\"16:13: 1:710\",\"16:13: 1:830\",\"16:13: 1:950\",\"16:13: 2: 70\",\"16:13: 2:190\",\"16:13: 2:310\",\"16:13: 2:430\",\"16:13: 2:550\",\"16:13: 2:670\",\"16:13: 2:790\",\"16:13: 2:910\",\"16:13: 3: 30\",\"16:13: 3:150\",\"16:13: 3:270\",\"16:13: 3:390\",\"16:13: 3:510\",\"16:13: 3:630\",\"16:13: 3:750\",\"16:13: 3:870\",\"16:13: 3:990\",\"16:13: 4:110\",\"16:13: 4:230\",\"16:13: 4:350\",\"16:13: 4:470\",\"16:13: 4:590\",\"16:13: 4:710\",\"16:13: 4:830\",\"16:13: 4:950\",\"16:13: 5: 70\",\"16:13: 5:190\",\"16:13: 5:310\",\"16:13: 5:430\",\"16:13: 5:550\",\"16:13: 5:670\",\"16:13: 5:790\",\"16:13: 5:910\",\"16:13: 6: 30\",\"16:13: 6:150\",\"16:13: 6:270\",\"16:13: 6:390\",\"16:13: 6:510\",\"16:13: 6:630\",\"16:13: 6:750\",\"16:13: 6:870\",\"16:13: 6:990\",\"16:13: 7:110\",\"16:13: 7:230\",\"16:13: 7:350\",\"16:13: 7:470\",\"16:13: 7:590\",\"16:13: 7:710\",\"16:13: 7:830\",\"16:13: 7:950\",\"16:13: 8: 70\",\"16:13: 8:190\",\"16:13: 8:310\",\"16:13: 8:430\",\"16:13: 8:550\",\"16:13: 8:670\",\"16:13: 8:790\",\"16:13: 8:910\",\"16:13: 9: 30\",\"16:13: 9:150\",\"16:13: 9:270\",\"16:13: 9:390\",\"16:13: 9:510\",\"16:13: 9:630\",\"16:13: 9:750\",\"16:13: 9:870\",\"16:13: 9:990\",\"16:13:10:110\",\"16:13:10:230\",\"16:13:10:350\",\"16:13:10:470\",\"16:13:10:590\",\"16:13:10:710\",\"16:13:10:830\",\"16:13:10:950\",\"16:13:11: 70\",\"16:13:11:190\",\"16:13:11:310\",\"16:13:11:430\",\"16:13:11:550\",\"16:13:11:670\",\"16:13:11:790\",\"16:13:11:910\",\"16:13:12: 30\",\"16:13:12:150\",\"16:13:12:270\",\"16:13:12:390\",\"16:13:12:510\",\"16:13:12:630\",\"16:13:12:750\",\"16:13:12:870\",\"16:13:12:990\",\"16:13:13:110\",\"16:13:13:230\",\"16:13:13:350\",\"16:13:13:470\",\"16:13:13:590\",\"16:13:13:710\",\"16:13:13:830\",\"16:13:13:950\",\"16:13:14: 70\",\"16:13:14:190\",\"16:13:14:310\",\"16:13:14:430\",\"16:13:14:550\",\"16:13:14:670\",\"16:13:14:790\",\"16:13:14:910\",\"16:13:15: 30\",\"16:13:15:150\",\"16:13:15:270\",\"16:13:15:390\",\"16:13:15:510\",\"16:13:15:630\",\"16:13:15:751\",\"16:13:15:871\",\"16:13:15:991\",\"16:13:16:111\",\"16:13:16:231\",\"16:13:16:351\",\"16:13:16:471\",\"16:13:16:591\",\"16:13:16:711\",\"16:13:16:831\",\"16:13:16:951\",\"16:13:17: 71\",\"16:13:17:191\",\"16:13:17:311\",\"16:13:17:431\",\"16:13:17:551\",\"16:13:17:671\",\"16:13:17:791\",\"16:13:17:911\",\"16:13:18: 31\",\"16:13:18:151\",\"16:13:18:271\",\"16:13:18:391\",\"16:13:18:511\",\"16:13:18:631\",\"16:13:18:751\",\"16:13:18:871\",\"16:13:18:991\",\"16:13:19:111\",\"16:13:19:231\",\"16:13:19:351\",\"16:13:19:471\",\"16:13:19:591\",\"16:13:19:711\",\"16:13:19:831\",\"16:13:19:951\",\"16:13:20: 71\",\"16:13:20:191\",\"16:13:20:311\",\"16:13:20:431\",\"16:13:20:551\",\"16:13:20:671\",\"16:13:20:791\",\"16:13:20:911\",\"16:13:21: 31\",\"16:13:21:151\",\"16:13:21:271\",\"16:13:21:391\",\"16:13:21:511\",\"16:13:21:631\",\"16:13:21:751\",\"16:13:21:871\",\"16:13:21:991\",\"16:13:22:111\",\"16:13:22:231\",\"16:13:22:351\",\"16:13:22:471\",\"16:13:22:591\",\"16:13:22:711\",\"16:13:22:831\",\"16:13:22:951\",\"16:13:23: 71\",\"16:13:23:191\",\"16:13:23:311\",\"16:13:23:431\",\"16:13:23:551\",\"16:13:23:671\",\"16:13:23:791\",\"16:13:23:911\",\"16:13:24: 31\",\"16:13:24:151\",\"16:13:24:271\",\"16:13:24:391\",\"16:13:24:511\",\"16:13:24:631\",\"16:13:24:751\",\"16:13:24:871\",\"16:13:24:991\",\"16:13:25:111\",\"16:13:25:231\",\"16:13:25:351\",\"16:13:25:471\",\"16:13:25:591\",\"16:13:25:711\",\"16:13:25:831\",\"16:13:25:951\",\"16:13:26: 71\",\"16:13:26:191\",\"16:13:26:311\",\"16:13:26:431\",\"16:13:26:551\",\"16:13:26:671\",\"16:13:26:791\",\"16:13:26:911\",\"16:13:27: 31\",\"16:13:27:151\",\"16:13:27:271\",\"16:13:27:391\",\"16:13:27:511\",\"16:13:27:631\",\"16:13:27:751\",\"16:13:27:871\",\"16:13:27:991\",\"16:13:28:111\",\"16:13:28:231\",\"16:13:28:351\",\"16:13:28:471\",\"16:13:28:591\",\"16:13:28:711\",\"16:13:28:831\",\"16:13:28:951\",\"16:13:29: 71\",\"16:13:29:191\",\"16:13:29:311\",\"16:13:29:431\",\"16:13:29:551\",\"16:13:29:671\",\"16:13:29:791\",\"16:13:29:912\",\"16:13:30: 32\",\"16:13:30:152\",\"16:13:30:272\",\"16:13:30:392\",\"16:13:30:512\",\"16:13:30:632\",\"16:13:30:752\",\"16:13:30:872\",\"16:13:30:992\",\"16:13:31:112\",\"16:13:31:232\",\"16:13:31:352\",\"16:13:31:472\",\"16:13:31:592\",\"16:13:31:712\",\"16:13:31:832\",\"16:13:31:952\",\"16:13:32: 72\",\"16:13:32:192\",\"16:13:32:312\",\"16:13:32:432\",\"16:13:32:552\",\"16:13:32:672\",\"16:13:32:792\",\"16:13:32:912\",\"16:13:33: 32\",\"16:13:33:152\",\"16:13:33:272\",\"16:13:33:392\",\"16:13:33:512\",\"16:13:33:632\",\"16:13:33:752\",\"16:13:33:872\",\"16:13:33:992\",\"16:13:34:112\",\"16:13:34:232\",\"16:13:34:352\",\"16:13:34:472\",\"16:13:34:592\",\"16:13:34:712\",\"16:13:34:832\",\"16:13:34:952\",\"16:13:35: 72\",\"16:13:35:192\",\"16:13:35:312\",\"16:13:35:432\",\"16:13:35:552\",\"16:13:35:672\",\"16:13:35:792\",\"16:13:35:912\",\"16:13:36: 32\",\"16:13:36:152\",\"16:13:36:272\",\"16:13:36:392\",\"16:13:36:512\",\"16:13:36:632\",\"16:13:36:752\",\"16:13:36:872\",\"16:13:36:992\",\"16:13:37:112\",\"16:13:37:232\",\"16:13:37:352\",\"16:13:37:472\",\"16:13:37:592\",\"16:13:37:712\",\"16:13:37:832\",\"16:13:37:952\",\"16:13:38: 72\",\"16:13:38:192\",\"16:13:38:312\",\"16:13:38:432\",\"16:13:38:552\",\"16:13:38:672\",\"16:13:38:792\",\"16:13:38:912\",\"16:13:39: 32\",\"16:13:39:152\",\"16:13:39:272\",\"16:13:39:392\",\"16:13:39:512\",\"16:13:39:632\",\"16:13:39:752\",\"16:13:39:872\",\"16:13:39:992\",\"16:13:40:112\",\"16:13:40:232\",\"16:13:40:352\",\"16:13:40:472\",\"16:13:40:592\",\"16:13:40:712\",\"16:13:40:832\",\"16:13:40:952\",\"16:13:41: 72\",\"16:13:41:192\",\"16:13:41:312\",\"16:13:41:432\",\"16:13:41:552\",\"16:13:41:672\",\"16:13:41:792\",\"16:13:41:912\",\"16:13:42: 32\",\"16:13:42:152\",\"16:13:42:272\",\"16:13:42:392\",\"16:13:42:512\",\"16:13:42:632\",\"16:13:42:752\",\"16:13:42:872\",\"16:13:42:992\",\"16:13:43:112\",\"16:13:43:232\",\"16:13:43:352\",\"16:13:43:472\",\"16:13:43:592\",\"16:13:43:712\",\"16:13:43:832\",\"16:13:43:952\",\"16:13:44: 72\",\"16:13:44:193\",\"16:13:44:313\",\"16:13:44:433\",\"16:13:44:553\",\"16:13:44:673\",\"16:13:44:793\",\"16:13:44:913\",\"16:13:45: 33\",\"16:13:45:153\",\"16:13:45:273\",\"16:13:45:393\",\"16:13:45:513\",\"16:13:45:633\",\"16:13:45:753\",\"16:13:45:873\",\"16:13:45:993\",\"16:13:46:113\",\"16:13:46:233\",\"16:13:46:353\",\"16:13:46:473\",\"16:13:46:593\",\"16:13:46:713\",\"16:13:46:833\",\"16:13:46:953\",\"16:13:47: 73\",\"16:13:47:193\",\"16:13:47:313\",\"16:13:47:433\",\"16:13:47:553\",\"16:13:47:673\",\"16:13:47:793\",\"16:13:47:913\",\"16:13:48: 33\",\"16:13:48:153\",\"16:13:48:273\",\"16:13:48:393\",\"16:13:48:513\",\"16:13:48:633\",\"16:13:48:753\",\"16:13:48:873\",\"16:13:49: 13\",\"16:13:49:133\",\"16:13:49:253\",\"16:13:49:373\",\"16:13:49:493\",\"16:13:49:613\",\"16:13:49:733\",\"16:13:49:853\",\"16:13:49:973\",\"16:13:50: 93\",\"16:13:50:213\",\"16:13:50:333\",\"16:13:50:453\",\"16:13:50:573\",\"16:13:50:693\",\"16:13:50:813\",\"16:13:50:933\",\"16:13:51: 53\",\"16:13:51:173\",\"16:13:51:293\",\"16:13:51:413\",\"16:13:51:533\",\"16:13:51:653\",\"16:13:51:773\",\"16:13:51:893\",\"16:13:52: 13\",\"16:13:52:133\",\"16:13:52:253\",\"16:13:52:373\",\"16:13:52:493\",\"16:13:52:613\",\"16:13:52:733\",\"16:13:52:853\",\"16:13:52:973\",\"16:13:53: 93\",\"16:13:53:213\",\"16:13:53:333\",\"16:13:53:453\",\"16:13:53:573\",\"16:13:53:693\",\"16:13:53:813\",\"16:13:53:933\",\"16:13:54: 53\",\"16:13:54:173\",\"16:13:54:293\",\"16:13:54:413\",\"16:13:54:533\",\"16:13:54:653\",\"16:13:54:773\",\"16:13:54:893\",\"16:13:55: 13\",\"16:13:55:133\",\"16:13:55:253\",\"16:13:55:373\",\"16:13:55:493\",\"16:13:55:613\",\"16:13:55:733\",\"16:13:55:853\",\"16:13:55:973\",\"16:13:56: 93\",\"16:13:56:213\",\"16:13:56:333\",\"16:13:56:453\",\"16:13:56:573\",\"16:13:56:693\",\"16:13:56:813\",\"16:13:56:933\",\"16:13:57: 53\",\"16:13:57:173\",\"16:13:57:293\",\"16:13:57:413\",\"16:13:57:553\",\"16:13:57:673\",\"16:13:57:793\",\"16:13:57:913\",\"16:13:58: 33\",\"16:13:58:153\",\"16:13:58:273\",\"16:13:58:394\",\"16:13:58:514\",\"16:13:58:634\",\"16:13:58:754\",\"16:13:58:874\",\"16:13:58:994\",\"16:13:59:114\",\"16:13:59:234\",\"16:13:59:354\",\"16:13:59:474\",\"16:13:59:594\",\"16:13:59:714\",\"16:13:59:834\",\"16:13:59:954\",\"16:14: 0: 74\",\"16:14: 0:194\",\"16:14: 0:314\",\"16:14: 0:434\",\"16:14: 0:554\",\"16:14: 0:674\",\"16:14: 0:794\",\"16:14: 0:914\",\"16:14: 1: 34\",\"16:14: 1:154\",\"16:14: 1:274\",\"16:14: 1:394\",\"16:14: 1:514\",\"16:14: 1:634\",\"16:14: 1:754\",\"16:14: 1:874\",\"16:14: 1:994\",\"16:14: 2:114\",\"16:14: 2:234\",\"16:14: 2:354\",\"16:14: 2:474\",\"16:14: 2:594\",\"16:14: 2:714\",\"16:14: 2:834\",\"16:14: 2:954\",\"16:14: 3: 74\",\"16:14: 3:194\",\"16:14: 3:314\",\"16:14: 3:434\",\"16:14: 3:554\",\"16:14: 3:674\",\"16:14: 3:794\",\"16:14: 3:914\",\"16:14: 4: 34\",\"16:14: 4:154\",\"16:14: 4:274\",\"16:14: 4:394\",\"16:14: 4:514\",\"16:14: 4:634\",\"16:14: 4:754\",\"16:14: 4:874\",\"16:14: 4:994\",\"16:14: 5:114\",\"16:14: 5:234\",\"16:14: 5:354\",\"16:14: 5:474\",\"16:14: 5:594\",\"16:14: 5:714\",\"16:14: 5:834\",\"16:14: 5:954\",\"16:14: 6: 74\",\"16:14: 6:194\",\"16:14: 6:314\",\"16:14: 6:434\",\"16:14: 6:554\",\"16:14: 6:674\",\"16:14: 6:794\",\"16:14: 6:914\",\"16:14: 7: 34\",\"16:14: 7:154\",\"16:14: 7:274\",\"16:14: 7:394\",\"16:14: 7:514\",\"16:14: 7:634\",\"16:14: 7:754\",\"16:14: 7:874\",\"16:14: 7:994\",\"16:14: 8:114\",\"16:14: 8:234\",\"16:14: 8:354\",\"16:14: 8:474\",\"16:14: 8:594\",\"16:14: 8:714\",\"16:14: 8:834\",\"16:14: 8:954\",\"16:14: 9: 74\",\"16:14: 9:194\",\"16:14: 9:314\",\"16:14: 9:434\",\"16:14: 9:554\",\"16:14: 9:674\",\"16:14: 9:794\",\"16:14: 9:914\",\"16:14:10: 34\",\"16:14:10:154\",\"16:14:10:274\",\"16:14:10:394\",\"16:14:10:514\",\"16:14:10:634\",\"16:14:10:754\",\"16:14:10:874\",\"16:14:10:994\",\"16:14:11:114\",\"16:14:11:234\",\"16:14:11:354\",\"16:14:11:474\",\"16:14:11:594\",\"16:14:11:714\",\"16:14:11:834\",\"16:14:11:954\",\"16:14:12: 74\",\"16:14:12:194\",\"16:14:12:314\",\"16:14:12:434\",\"16:14:12:555\",\"16:14:12:675\",\"16:14:12:795\",\"16:14:12:915\",\"16:14:13: 35\",\"16:14:13:155\",\"16:14:13:275\",\"16:14:13:395\",\"16:14:13:515\",\"16:14:13:635\",\"16:14:13:755\",\"16:14:13:875\",\"16:14:13:995\",\"16:14:14:115\",\"16:14:14:235\",\"16:14:14:355\",\"16:14:14:475\",\"16:14:14:595\",\"16:14:14:715\",\"16:14:14:835\",\"16:14:14:955\",\"16:14:15: 75\",\"16:14:15:195\",\"16:14:15:315\",\"16:14:15:435\",\"16:14:15:555\",\"16:14:15:675\",\"16:14:15:795\",\"16:14:15:915\",\"16:14:16: 35\",\"16:14:16:155\",\"16:14:16:275\",\"16:14:16:395\",\"16:14:16:515\",\"16:14:16:635\",\"16:14:16:755\",\"16:14:16:875\",\"16:14:16:995\",\"16:14:17:115\",\"16:14:17:235\",\"16:14:17:355\",\"16:14:17:475\",\"16:14:17:595\",\"16:14:17:715\",\"16:14:17:835\",\"16:14:17:955\",\"16:14:18: 75\",\"16:14:18:195\",\"16:14:18:315\",\"16:14:18:435\",\"16:14:18:555\",\"16:14:18:675\",\"16:14:18:795\",\"16:14:18:915\",\"16:14:19: 35\",\"16:14:19:155\",\"16:14:19:275\",\"16:14:19:395\",\"16:14:19:515\",\"16:14:19:635\",\"16:14:19:755\",\"16:14:19:875\",\"16:14:19:995\",\"16:14:20:115\",\"16:14:20:235\",\"16:14:20:355\",\"16:14:20:475\",\"16:14:20:595\",\"16:14:20:715\",\"16:14:20:835\",\"16:14:20:955\",\"16:14:21: 75\",\"16:14:21:195\",\"16:14:21:315\",\"16:14:21:435\",\"16:14:21:555\",\"16:14:21:675\",\"16:14:21:795\",\"16:14:21:915\",\"16:14:22: 35\",\"16:14:22:155\",\"16:14:22:275\",\"16:14:22:395\",\"16:14:22:515\",\"16:14:22:635\",\"16:14:22:755\",\"16:14:22:875\",\"16:14:22:995\",\"16:14:23:115\",\"16:14:23:235\",\"16:14:23:355\",\"16:14:23:475\",\"16:14:23:595\",\"16:14:23:715\",\"16:14:23:835\",\"16:14:23:955\",\"16:14:24: 75\",\"16:14:24:195\",\"16:14:24:315\",\"16:14:24:435\",\"16:14:24:555\",\"16:14:24:675\",\"16:14:24:795\",\"16:14:24:915\",\"16:14:25: 35\",\"16:14:25:155\",\"16:14:25:275\",\"16:14:25:395\",\"16:14:25:515\",\"16:14:25:635\",\"16:14:25:755\",\"16:14:25:875\",\"16:14:25:995\",\"16:14:26:115\",\"16:14:26:235\",\"16:14:26:355\",\"16:14:26:475\",\"16:14:26:595\",\"16:14:26:716\",\"16:14:26:836\",\"16:14:26:956\",\"16:14:27: 76\",\"16:14:27:196\",\"16:14:27:316\",\"16:14:27:436\",\"16:14:27:556\",\"16:14:27:676\",\"16:14:27:796\",\"16:14:27:916\",\"16:14:28: 36\",\"16:14:28:156\",\"16:14:28:276\",\"16:14:28:396\",\"16:14:28:516\",\"16:14:28:636\",\"16:14:28:756\",\"16:14:28:876\",\"16:14:28:996\",\"16:14:29:116\",\"16:14:29:236\",\"16:14:29:356\",\"16:14:29:476\",\"16:14:29:596\",\"16:14:29:716\",\"16:14:29:836\",\"16:14:29:956\",\"16:14:30: 76\",\"16:14:30:196\",\"16:14:30:316\",\"16:14:30:436\",\"16:14:30:556\",\"16:14:30:676\",\"16:14:30:796\",\"16:14:30:916\",\"16:14:31: 36\",\"16:14:31:156\",\"16:14:31:276\",\"16:14:31:396\",\"16:14:31:516\",\"16:14:31:636\",\"16:14:31:756\",\"16:14:31:876\",\"16:14:31:996\",\"16:14:32:116\",\"16:14:32:236\",\"16:14:32:356\",\"16:14:32:476\",\"16:14:32:596\",\"16:14:32:716\",\"16:14:32:836\",\"16:14:32:956\",\"16:14:33: 76\",\"16:14:33:196\",\"16:14:33:316\",\"16:14:33:436\",\"16:14:33:556\",\"16:14:33:676\",\"16:14:33:796\",\"16:14:33:916\",\"16:14:34: 36\",\"16:14:34:156\",\"16:14:34:276\",\"16:14:34:396\",\"16:14:34:516\",\"16:14:34:636\",\"16:14:34:756\",\"16:14:34:876\",\"16:14:34:996\",\"16:14:35:116\",\"16:14:35:236\",\"16:14:35:356\",\"16:14:35:476\",\"16:14:35:596\",\"16:14:35:716\",\"16:14:35:836\",\"16:14:35:956\",\"16:14:36: 76\",\"16:14:36:196\",\"16:14:36:316\",\"16:14:36:436\",\"16:14:36:556\",\"16:14:36:676\",\"16:14:36:796\",\"16:14:36:916\",\"16:14:37: 36\",\"16:14:37:156\",\"16:14:37:276\",\"16:14:37:396\",\"16:14:37:516\",\"16:14:37:636\",\"16:14:37:756\",\"16:14:37:876\",\"16:14:37:996\",\"16:14:38:116\",\"16:14:38:236\",\"16:14:38:356\",\"16:14:38:476\",\"16:14:38:596\",\"16:14:38:716\",\"16:14:38:836\",\"16:14:38:956\",\"16:14:39: 76\",\"16:14:39:196\",\"16:14:39:316\",\"16:14:39:436\",\"16:14:39:556\",\"16:14:39:676\",\"16:14:39:796\",\"16:14:39:916\",\"16:14:40: 36\",\"16:14:40:156\",\"16:14:40:276\",\"16:14:40:396\",\"16:14:40:516\",\"16:14:40:636\",\"16:14:40:756\",\"16:14:40:876\",\"16:14:40:997\",\"16:14:41:117\",\"16:14:41:237\",\"16:14:41:357\",\"16:14:41:477\",\"16:14:41:597\",\"16:14:41:717\",\"16:14:41:837\",\"16:14:41:957\",\"16:14:42: 77\",\"16:14:42:197\",\"16:14:42:317\",\"16:14:42:437\",\"16:14:42:557\",\"16:14:42:677\",\"16:14:42:797\",\"16:14:42:917\",\"16:14:43: 37\",\"16:14:43:157\",\"16:14:43:277\",\"16:14:43:397\",\"16:14:43:517\",\"16:14:43:637\",\"16:14:43:757\",\"16:14:43:877\",\"16:14:43:997\",\"16:14:44:117\",\"16:14:44:237\",\"16:14:44:357\",\"16:14:44:477\",\"16:14:44:597\",\"16:14:44:717\",\"16:14:44:837\",\"16:14:44:957\",\"16:14:45: 77\",\"16:14:45:197\",\"16:14:45:317\",\"16:14:45:437\",\"16:14:45:557\",\"16:14:45:677\",\"16:14:45:797\",\"16:14:45:917\",\"16:14:46: 37\",\"16:14:46:157\",\"16:14:46:277\",\"16:14:46:397\",\"16:14:46:517\",\"16:14:46:637\",\"16:14:46:757\",\"16:14:46:877\",\"16:14:46:997\",\"16:14:47:117\",\"16:14:47:237\",\"16:14:47:357\",\"16:14:47:477\",\"16:14:47:597\",\"16:14:47:717\",\"16:14:47:837\",\"16:14:47:957\",\"16:14:48: 77\",\"16:14:48:197\",\"16:14:48:317\",\"16:14:48:437\",\"16:14:48:557\",\"16:14:48:677\",\"16:14:48:797\",\"16:14:48:917\",\"16:14:49: 37\",\"16:14:49:157\",\"16:14:49:277\",\"16:14:49:397\",\"16:14:49:517\",\"16:14:49:637\",\"16:14:49:757\",\"16:14:49:877\",\"16:14:49:997\",\"16:14:50:117\",\"16:14:50:237\",\"16:14:50:357\",\"16:14:50:477\",\"16:14:50:597\",\"16:14:50:717\",\"16:14:50:837\",\"16:14:50:957\",\"16:14:51: 77\",\"16:14:51:197\",\"16:14:51:317\",\"16:14:51:437\",\"16:14:51:557\",\"16:14:51:677\",\"16:14:51:797\",\"16:14:51:917\",\"16:14:52: 37\",\"16:14:52:157\",\"16:14:52:277\",\"16:14:52:397\",\"16:14:52:517\",\"16:14:52:637\",\"16:14:52:757\",\"16:14:52:877\",\"16:14:52:997\",\"16:14:53:117\",\"16:14:53:237\",\"16:14:53:357\",\"16:14:53:477\",\"16:14:53:597\",\"16:14:53:717\",\"16:14:53:837\",\"16:14:53:957\",\"16:14:54: 77\",\"16:14:54:197\",\"16:14:54:317\",\"16:14:54:437\",\"16:14:54:557\",\"16:14:54:677\",\"16:14:54:797\",\"16:14:54:917\",\"16:14:55: 37\",\"16:14:55:158\",\"16:14:55:278\",\"16:14:55:398\",\"16:14:55:518\",\"16:14:55:638\",\"16:14:55:758\",\"16:14:55:878\",\"16:14:55:998\",\"16:14:56:118\",\"16:14:56:238\",\"16:14:56:358\",\"16:14:56:478\",\"16:14:56:598\",\"16:14:56:718\",\"16:14:56:838\",\"16:14:56:958\",\"16:14:57: 78\",\"16:14:57:198\",\"16:14:57:318\",\"16:14:57:438\",\"16:14:57:558\",\"16:14:57:678\",\"16:14:57:798\",\"16:14:57:918\",\"16:14:58: 38\",\"16:14:58:158\",\"16:14:58:278\",\"16:14:58:398\",\"16:14:58:518\",\"16:14:58:638\",\"16:14:58:758\",\"16:14:58:878\",\"16:14:58:998\",\"16:14:59:118\",\"16:14:59:238\",\"16:14:59:358\",\"16:14:59:478\",\"16:14:59:598\",\"16:14:59:718\",\"16:14:59:838\",\"16:14:59:958\",\"16:15: 0: 78\",\"16:15: 0:198\",\"16:15: 0:318\",\"16:15: 0:438\",\"16:15: 0:558\",\"16:15: 0:678\",\"16:15: 0:798\",\"16:15: 0:918\",\"16:15: 1: 38\",\"16:15: 1:158\",\"16:15: 1:278\",\"16:15: 1:398\",\"16:15: 1:518\",\"16:15: 1:638\",\"16:15: 1:758\",\"16:15: 1:878\",\"16:15: 1:998\",\"16:15: 2:118\",\"16:15: 2:238\",\"16:15: 2:358\",\"16:15: 2:478\",\"16:15: 2:598\",\"16:15: 2:718\",\"16:15: 2:838\",\"16:15: 2:958\",\"16:15: 3: 78\",\"16:15: 3:198\",\"16:15: 3:318\",\"16:15: 3:438\",\"16:15: 3:558\",\"16:15: 3:678\",\"16:15: 3:798\",\"16:15: 3:918\",\"16:15: 4: 38\",\"16:15: 4:158\",\"16:15: 4:278\",\"16:15: 4:398\",\"16:15: 4:518\",\"16:15: 4:638\",\"16:15: 4:758\",\"16:15: 4:878\",\"16:15: 4:998\",\"16:15: 5:118\",\"16:15: 5:238\",\"16:15: 5:358\",\"16:15: 5:478\",\"16:15: 5:598\",\"16:15: 5:718\",\"16:15: 5:838\",\"16:15: 5:958\",\"16:15: 6: 78\",\"16:15: 6:198\",\"16:15: 6:318\",\"16:15: 6:438\",\"16:15: 6:558\",\"16:15: 6:678\",\"16:15: 6:798\",\"16:15: 6:918\",\"16:15: 7: 38\",\"16:15: 7:158\",\"16:15: 7:278\",\"16:15: 7:398\",\"16:15: 7:518\",\"16:15: 7:638\",\"16:15: 7:758\",\"16:15: 7:878\",\"16:15: 7:998\",\"16:15: 8:118\",\"16:15: 8:238\",\"16:15: 8:358\",\"16:15: 8:478\",\"16:15: 8:598\",\"16:15: 8:718\",\"16:15: 8:838\",\"16:15: 8:958\",\"16:15: 9: 78\",\"16:15: 9:198\",\"16:15: 9:318\",\"16:15: 9:439\",\"16:15: 9:559\",\"16:15: 9:679\",\"16:15: 9:799\",\"16:15: 9:919\",\"16:15:10: 39\",\"16:15:10:159\",\"16:15:10:279\",\"16:15:10:399\",\"16:15:10:519\",\"16:15:10:639\",\"16:15:10:759\",\"16:15:10:879\",\"16:15:10:999\",\"16:15:11:119\",\"16:15:11:239\",\"16:15:11:359\",\"16:15:11:479\",\"16:15:11:599\",\"16:15:11:719\",\"16:15:11:839\",\"16:15:11:959\",\"16:15:12: 79\",\"16:15:12:199\",\"16:15:12:319\",\"16:15:12:439\",\"16:15:12:559\",\"16:15:12:679\",\"16:15:12:799\",\"16:15:12:919\",\"16:15:13: 39\",\"16:15:13:159\",\"16:15:13:279\",\"16:15:13:399\",\"16:15:13:519\",\"16:15:13:639\",\"16:15:13:759\",\"16:15:13:879\",\"16:15:13:999\",\"16:15:14:119\",\"16:15:14:239\",\"16:15:14:359\",\"16:15:14:479\",\"16:15:14:599\",\"16:15:14:719\",\"16:15:14:839\",\"16:15:14:959\",\"16:15:15: 79\",\"16:15:15:199\",\"16:15:15:319\",\"16:15:15:439\",\"16:15:15:559\",\"16:15:15:679\",\"16:15:15:799\",\"16:15:15:919\",\"16:15:16: 39\",\"16:15:16:159\",\"16:15:16:279\",\"16:15:16:399\",\"16:15:16:519\",\"16:15:16:639\",\"16:15:16:759\",\"16:15:16:879\",\"16:15:16:999\",\"16:15:17:119\",\"16:15:17:239\",\"16:15:17:359\",\"16:15:17:479\",\"16:15:17:599\",\"16:15:17:719\",\"16:15:17:839\",\"16:15:17:959\",\"16:15:18: 79\",\"16:15:18:199\",\"16:15:18:319\",\"16:15:18:439\",\"16:15:18:559\",\"16:15:18:679\",\"16:15:18:799\",\"16:15:18:919\",\"16:15:19: 39\",\"16:15:19:159\",\"16:15:19:279\",\"16:15:19:399\",\"16:15:19:519\",\"16:15:19:639\",\"16:15:19:759\",\"16:15:19:879\",\"16:15:19:999\",\"16:15:20:119\",\"16:15:20:239\",\"16:15:20:359\",\"16:15:20:479\",\"16:15:20:599\",\"16:15:20:719\",\"16:15:20:839\",\"16:15:20:959\",\"16:15:21: 79\",\"16:15:21:199\",\"16:15:21:319\",\"16:15:21:439\",\"16:15:21:559\",\"16:15:21:679\",\"16:15:21:799\",\"16:15:21:919\",\"16:15:22: 39\",\"16:15:22:159\",\"16:15:22:279\",\"16:15:22:399\",\"16:15:22:519\",\"16:15:22:639\",\"16:15:22:759\",\"16:15:22:879\",\"16:15:22:999\",\"16:15:23:119\",\"16:15:23:239\",\"16:15:23:359\",\"16:15:23:479\",\"16:15:23:600\",\"16:15:23:720\",\"16:15:23:840\",\"16:15:23:960\",\"16:15:24: 80\",\"16:15:24:200\",\"16:15:24:320\",\"16:15:24:440\",\"16:15:24:560\",\"16:15:24:680\",\"16:15:24:800\",\"16:15:24:920\",\"16:15:25: 40\",\"16:15:25:160\",\"16:15:25:280\",\"16:15:25:400\",\"16:15:25:520\",\"16:15:25:640\",\"16:15:25:760\",\"16:15:25:880\",\"16:15:26:  0\",\"16:15:26:120\",\"16:15:26:240\",\"16:15:26:360\",\"16:15:26:500\",\"16:15:26:620\",\"16:15:26:740\",\"16:15:26:860\",\"16:15:26:980\",\"16:15:27:100\",\"16:15:27:220\",\"16:15:27:340\",\"16:15:27:460\",\"16:15:27:580\",\"16:15:27:700\",\"16:15:27:820\",\"16:15:27:940\",\"16:15:28: 60\",\"16:15:28:180\",\"16:15:28:300\",\"16:15:28:420\",\"16:15:28:540\",\"16:15:28:660\",\"16:15:28:780\",\"16:15:28:900\",\"16:15:29: 20\",\"16:15:29:140\",\"16:15:29:260\",\"16:15:29:380\",\"16:15:29:500\",\"16:15:29:620\",\"16:15:29:740\",\"16:15:29:860\",\"16:15:29:980\",\"16:15:30:100\",\"16:15:30:220\",\"16:15:30:340\",\"16:15:30:460\",\"16:15:30:580\",\"16:15:30:700\",\"16:15:30:820\",\"16:15:30:940\",\"16:15:31: 60\",\"16:15:31:180\",\"16:15:31:300\",\"16:15:31:420\",\"16:15:31:540\",\"16:15:31:660\",\"16:15:31:780\",\"16:15:31:900\",\"16:15:32: 20\",\"16:15:32:140\",\"16:15:32:260\",\"16:15:32:380\",\"16:15:32:500\",\"16:15:32:620\",\"16:15:32:740\",\"16:15:32:860\",\"16:15:32:980\",\"16:15:33:100\",\"16:15:33:220\",\"16:15:33:340\",\"16:15:33:460\",\"16:15:33:580\",\"16:15:33:700\",\"16:15:33:820\",\"16:15:33:940\",\"16:15:34: 60\",\"16:15:34:180\",\"16:15:34:300\",\"16:15:34:420\",\"16:15:34:540\",\"16:15:34:660\",\"16:15:34:780\",\"16:15:34:900\",\"16:15:35: 20\",\"16:15:35:140\",\"16:15:35:260\",\"16:15:35:380\",\"16:15:35:500\",\"16:15:35:620\",\"16:15:35:740\",\"16:15:35:860\",\"16:15:35:980\",\"16:15:36:100\",\"16:15:36:220\",\"16:15:36:340\",\"16:15:36:460\",\"16:15:36:580\",\"16:15:36:700\",\"16:15:36:820\",\"16:15:36:940\",\"16:15:37: 60\",\"16:15:37:180\",\"16:15:37:300\",\"16:15:37:420\",\"16:15:37:540\",\"16:15:37:660\",\"16:15:37:781\",\"16:15:37:901\",\"16:15:38: 21\",\"16:15:38:141\",\"16:15:38:261\",\"16:15:38:381\",\"16:15:38:501\",\"16:15:38:621\",\"16:15:38:741\",\"16:15:38:861\",\"16:15:38:981\",\"16:15:39:101\",\"16:15:39:221\",\"16:15:39:341\",\"16:15:39:461\",\"16:15:39:581\",\"16:15:39:701\",\"16:15:39:821\",\"16:15:39:941\",\"16:15:40: 61\",\"16:15:40:181\",\"16:15:40:301\",\"16:15:40:421\",\"16:15:40:541\",\"16:15:40:661\",\"16:15:40:781\",\"16:15:40:901\",\"16:15:41: 21\",\"16:15:41:141\",\"16:15:41:261\",\"16:15:41:381\",\"16:15:41:501\",\"16:15:41:621\",\"16:15:41:741\",\"16:15:41:861\",\"16:15:41:981\",\"16:15:42:101\",\"16:15:42:221\",\"16:15:42:341\",\"16:15:42:461\",\"16:15:42:581\",\"16:15:42:701\",\"16:15:42:821\",\"16:15:42:941\",\"16:15:43: 61\",\"16:15:43:181\",\"16:15:43:301\",\"16:15:43:421\",\"16:15:43:541\",\"16:15:43:661\",\"16:15:43:781\",\"16:15:43:901\",\"16:15:44: 21\",\"16:15:44:141\",\"16:15:44:261\",\"16:15:44:381\",\"16:15:44:501\",\"16:15:44:621\",\"16:15:44:741\",\"16:15:44:861\",\"16:15:44:981\",\"16:15:45:101\",\"16:15:45:221\",\"16:15:45:341\",\"16:15:45:461\",\"16:15:45:581\",\"16:15:45:701\",\"16:15:45:821\",\"16:15:45:941\",\"16:15:46: 61\",\"16:15:46:181\",\"16:15:46:301\",\"16:15:46:421\",\"16:15:46:541\",\"16:15:46:661\",\"16:15:46:781\",\"16:15:46:901\",\"16:15:47: 21\",\"16:15:47:141\",\"16:15:47:261\",\"16:15:47:381\",\"16:15:47:501\",\"16:15:47:621\",\"16:15:47:741\",\"16:15:47:861\",\"16:15:47:981\",\"16:15:48:101\",\"16:15:48:221\",\"16:15:48:341\",\"16:15:48:461\",\"16:15:48:581\",\"16:15:48:701\",\"16:15:48:821\",\"16:15:48:941\",\"16:15:49: 61\",\"16:15:49:181\",\"16:15:49:301\",\"16:15:49:421\",\"16:15:49:541\",\"16:15:49:661\",\"16:15:49:781\",\"16:15:49:901\",\"16:15:50: 21\",\"16:15:50:141\",\"16:15:50:261\",\"16:15:50:381\",\"16:15:50:501\",\"16:15:50:621\",\"16:15:50:741\",\"16:15:50:861\",\"16:15:50:981\",\"16:15:51:101\",\"16:15:51:221\",\"16:15:51:341\",\"16:15:51:461\",\"16:15:51:581\",\"16:15:51:701\",\"16:15:51:821\",\"16:15:51:942\",\"16:15:52: 62\",\"16:15:52:182\",\"16:15:52:302\",\"16:15:52:422\",\"16:15:52:542\",\"16:15:52:662\",\"16:15:52:782\",\"16:15:52:902\",\"16:15:53: 22\",\"16:15:53:142\",\"16:15:53:262\",\"16:15:53:382\",\"16:15:53:502\",\"16:15:53:622\",\"16:15:53:742\",\"16:15:53:882\",\"16:15:54:  2\",\"16:15:54:122\",\"16:15:54:242\",\"16:15:54:362\",\"16:15:54:482\",\"16:15:54:602\",\"16:15:54:722\",\"16:15:54:842\",\"16:15:54:962\",\"16:15:55: 82\",\"16:15:55:202\",\"16:15:55:322\",\"16:15:55:442\",\"16:15:55:562\",\"16:15:55:682\",\"16:15:55:802\",\"16:15:55:922\",\"16:15:56: 42\",\"16:15:56:162\",\"16:15:56:282\",\"16:15:56:402\",\"16:15:56:522\",\"16:15:56:642\",\"16:15:56:762\",\"16:15:56:882\",\"16:15:57:  2\",\"16:15:57:122\",\"16:15:57:242\",\"16:15:57:362\",\"16:15:57:482\",\"16:15:57:602\",\"16:15:57:722\",\"16:15:57:842\",\"16:15:57:962\",\"16:15:58: 82\",\"16:15:58:202\",\"16:15:58:322\",\"16:15:58:442\",\"16:15:58:562\",\"16:15:58:682\",\"16:15:58:802\",\"16:15:58:922\",\"16:15:59: 42\",\"16:15:59:162\",\"16:15:59:282\",\"16:15:59:402\",\"16:15:59:522\",\"16:15:59:642\",\"16:15:59:762\",\"16:15:59:882\",\"16:16: 0:  2\",\"16:16: 0:122\",\"16:16: 0:242\",\"16:16: 0:362\",\"16:16: 0:482\",\"16:16: 0:602\",\"16:16: 0:722\",\"16:16: 0:842\",\"16:16: 0:962\",\"16:16: 1: 82\",\"16:16: 1:202\",\"16:16: 1:322\",\"16:16: 1:442\",\"16:16: 1:562\",\"16:16: 1:682\",\"16:16: 1:802\",\"16:16: 1:922\",\"16:16: 2: 42\",\"16:16: 2:162\",\"16:16: 2:282\",\"16:16: 2:402\",\"16:16: 2:522\",\"16:16: 2:642\",\"16:16: 2:762\",\"16:16: 2:882\",\"16:16: 3:  2\",\"16:16: 3:122\",\"16:16: 3:242\",\"16:16: 3:362\",\"16:16: 3:482\",\"16:16: 3:602\",\"16:16: 3:722\",\"16:16: 3:842\",\"16:16: 3:962\",\"16:16: 4: 82\",\"16:16: 4:202\",\"16:16: 4:322\",\"16:16: 4:442\",\"16:16: 4:562\",\"16:16: 4:682\",\"16:16: 4:802\",\"16:16: 4:922\",\"16:16: 5: 42\",\"16:16: 5:162\",\"16:16: 5:282\",\"16:16: 5:402\",\"16:16: 5:522\",\"16:16: 5:642\",\"16:16: 5:762\",\"16:16: 5:882\",\"16:16: 6:  2\",\"16:16: 6:122\",\"16:16: 6:243\",\"16:16: 6:363\",\"16:16: 6:483\",\"16:16: 6:603\",\"16:16: 6:723\",\"16:16: 6:843\",\"16:16: 6:963\",\"16:16: 7: 83\",\"16:16: 7:203\",\"16:16: 7:323\",\"16:16: 7:443\",\"16:16: 7:563\",\"16:16: 7:683\",\"16:16: 7:803\",\"16:16: 7:923\",\"16:16: 8: 43\",\"16:16: 8:163\",\"16:16: 8:283\",\"16:16: 8:403\",\"16:16: 8:523\",\"16:16: 8:643\",\"16:16: 8:763\",\"16:16: 8:883\",\"16:16: 9:  3\",\"16:16: 9:123\",\"16:16: 9:243\",\"16:16: 9:363\",\"16:16: 9:483\",\"16:16: 9:603\",\"16:16: 9:723\",\"16:16: 9:843\",\"16:16: 9:963\",\"16:16:10: 83\",\"16:16:10:203\",\"16:16:10:323\",\"16:16:10:443\",\"16:16:10:563\",\"16:16:10:683\",\"16:16:10:803\",\"16:16:10:923\",\"16:16:11: 43\",\"16:16:11:163\",\"16:16:11:283\",\"16:16:11:403\",\"16:16:11:523\",\"16:16:11:643\",\"16:16:11:763\",\"16:16:11:883\",\"16:16:12:  3\",\"16:16:12:123\",\"16:16:12:243\",\"16:16:12:363\",\"16:16:12:483\",\"16:16:12:603\",\"16:16:12:723\",\"16:16:12:843\",\"16:16:12:963\",\"16:16:13: 83\",\"16:16:13:203\",\"16:16:13:323\",\"16:16:13:443\",\"16:16:13:563\",\"16:16:13:683\",\"16:16:13:803\",\"16:16:13:923\",\"16:16:14: 43\",\"16:16:14:163\",\"16:16:14:283\",\"16:16:14:403\",\"16:16:14:523\",\"16:16:14:643\",\"16:16:14:763\",\"16:16:14:883\",\"16:16:15:  3\",\"16:16:15:123\",\"16:16:15:243\",\"16:16:15:363\",\"16:16:15:483\",\"16:16:15:603\",\"16:16:15:723\",\"16:16:15:843\",\"16:16:15:963\",\"16:16:16: 83\",\"16:16:16:203\",\"16:16:16:323\",\"16:16:16:443\",\"16:16:16:563\",\"16:16:16:683\",\"16:16:16:803\",\"16:16:16:923\",\"16:16:17: 43\",\"16:16:17:163\",\"16:16:17:283\",\"16:16:17:403\",\"16:16:17:523\",\"16:16:17:643\",\"16:16:17:763\",\"16:16:17:883\",\"16:16:18:  3\",\"16:16:18:123\",\"16:16:18:243\",\"16:16:18:363\",\"16:16:18:483\",\"16:16:18:603\",\"16:16:18:723\",\"16:16:18:843\",\"16:16:18:963\",\"16:16:19: 83\",\"16:16:19:203\",\"16:16:19:323\",\"16:16:19:443\",\"16:16:19:563\",\"16:16:19:683\",\"16:16:19:803\",\"16:16:19:923\",\"16:16:20: 43\",\"16:16:20:163\",\"16:16:20:283\",\"16:16:20:404\",\"16:16:20:524\",\"16:16:20:644\",\"16:16:20:764\",\"16:16:20:884\",\"16:16:21:  4\",\"16:16:21:124\",\"16:16:21:244\",\"16:16:21:364\",\"16:16:21:484\",\"16:16:21:604\",\"16:16:21:724\",\"16:16:21:844\",\"16:16:21:964\",\"16:16:22: 84\",\"16:16:22:204\",\"16:16:22:324\",\"16:16:22:444\",\"16:16:22:564\",\"16:16:22:684\",\"16:16:22:804\",\"16:16:22:924\",\"16:16:23: 44\",\"16:16:23:164\",\"16:16:23:284\",\"16:16:23:404\",\"16:16:23:524\",\"16:16:23:644\",\"16:16:23:764\",\"16:16:23:884\",\"16:16:24: 24\",\"16:16:24:144\",\"16:16:24:264\",\"16:16:24:384\",\"16:16:24:504\",\"16:16:24:624\",\"16:16:24:744\",\"16:16:24:864\",\"16:16:24:984\",\"16:16:25:104\",\"16:16:25:224\",\"16:16:25:344\",\"16:16:25:464\",\"16:16:25:584\",\"16:16:25:704\",\"16:16:25:824\",\"16:16:25:944\",\"16:16:26: 64\",\"16:16:26:184\",\"16:16:26:304\",\"16:16:26:424\",\"16:16:26:544\",\"16:16:26:664\",\"16:16:26:784\",\"16:16:26:904\",\"16:16:27: 24\",\"16:16:27:144\",\"16:16:27:264\",\"16:16:27:384\",\"16:16:27:504\",\"16:16:27:624\",\"16:16:27:744\",\"16:16:27:864\",\"16:16:27:984\",\"16:16:28:104\",\"16:16:28:224\",\"16:16:28:344\",\"16:16:28:464\",\"16:16:28:584\",\"16:16:28:704\",\"16:16:28:844\",\"16:16:28:964\",\"16:16:29: 84\",\"16:16:29:204\",\"16:16:29:324\",\"16:16:29:444\",\"16:16:29:564\",\"16:16:29:684\",\"16:16:29:804\",\"16:16:29:924\",\"16:16:30: 44\",\"16:16:30:164\",\"16:16:30:284\",\"16:16:30:404\",\"16:16:30:524\",\"16:16:30:644\",\"16:16:30:764\",\"16:16:30:884\",\"16:16:31:  4\",\"16:16:31:124\",\"16:16:31:244\",\"16:16:31:364\",\"16:16:31:484\",\"16:16:31:604\",\"16:16:31:724\",\"16:16:31:844\",\"16:16:31:964\",\"16:16:32: 84\",\"16:16:32:204\",\"16:16:32:324\",\"16:16:32:444\",\"16:16:32:564\",\"16:16:32:684\",\"16:16:32:804\",\"16:16:32:924\",\"16:16:33: 44\",\"16:16:33:164\",\"16:16:33:284\",\"16:16:33:404\",\"16:16:33:524\",\"16:16:33:644\",\"16:16:33:764\",\"16:16:33:884\",\"16:16:34:  4\",\"16:16:34:124\",\"16:16:34:244\",\"16:16:34:364\",\"16:16:34:484\",\"16:16:34:605\",\"16:16:34:725\",\"16:16:34:845\",\"16:16:34:965\",\"16:16:35: 85\",\"16:16:35:205\",\"16:16:35:325\",\"16:16:35:445\",\"16:16:35:565\",\"16:16:35:685\",\"16:16:35:805\",\"16:16:35:925\",\"16:16:36: 45\",\"16:16:36:165\",\"16:16:36:285\",\"16:16:36:405\",\"16:16:36:525\",\"16:16:36:645\",\"16:16:36:765\",\"16:16:36:885\",\"16:16:37:  5\",\"16:16:37:125\",\"16:16:37:245\",\"16:16:37:365\",\"16:16:37:485\",\"16:16:37:605\",\"16:16:37:725\",\"16:16:37:845\",\"16:16:37:965\",\"16:16:38: 85\",\"16:16:38:205\",\"16:16:38:325\",\"16:16:38:445\",\"16:16:38:565\",\"16:16:38:685\",\"16:16:38:805\",\"16:16:38:925\",\"16:16:39: 45\",\"16:16:39:165\",\"16:16:39:285\",\"16:16:39:405\",\"16:16:39:525\",\"16:16:39:645\",\"16:16:39:765\",\"16:16:39:885\",\"16:16:40:  5\",\"16:16:40:125\",\"16:16:40:245\",\"16:16:40:365\",\"16:16:40:485\",\"16:16:40:605\",\"16:16:40:725\",\"16:16:40:845\",\"16:16:40:965\",\"16:16:41: 85\",\"16:16:41:205\",\"16:16:41:325\",\"16:16:41:445\",\"16:16:41:565\",\"16:16:41:685\",\"16:16:41:805\",\"16:16:41:925\",\"16:16:42: 45\",\"16:16:42:165\",\"16:16:42:285\",\"16:16:42:405\",\"16:16:42:525\",\"16:16:42:645\",\"16:16:42:765\",\"16:16:42:885\",\"16:16:43:  5\",\"16:16:43:125\",\"16:16:43:245\",\"16:16:43:365\",\"16:16:43:485\",\"16:16:43:605\",\"16:16:43:725\",\"16:16:43:845\",\"16:16:43:965\",\"16:16:44: 85\",\"16:16:44:205\",\"16:16:44:325\",\"16:16:44:445\",\"16:16:44:565\",\"16:16:44:685\",\"16:16:44:805\",\"16:16:44:925\",\"16:16:45: 45\",\"16:16:45:165\",\"16:16:45:285\",\"16:16:45:405\",\"16:16:45:525\",\"16:16:45:645\",\"16:16:45:765\",\"16:16:45:885\",\"16:16:46:  5\",\"16:16:46:125\",\"16:16:46:245\",\"16:16:46:365\",\"16:16:46:485\",\"16:16:46:605\",\"16:16:46:725\",\"16:16:46:845\",\"16:16:46:965\",\"16:16:47: 85\",\"16:16:47:205\",\"16:16:47:325\",\"16:16:47:445\",\"16:16:47:565\",\"16:16:47:685\",\"16:16:47:805\",\"16:16:47:925\",\"16:16:48: 45\",\"16:16:48:165\",\"16:16:48:285\",\"16:16:48:405\",\"16:16:48:525\",\"16:16:48:645\",\"16:16:48:766\",\"16:16:48:886\",\"16:16:49:  6\",\"16:16:49:126\",\"16:16:49:246\",\"16:16:49:366\",\"16:16:49:486\",\"16:16:49:606\",\"16:16:49:726\",\"16:16:49:846\",\"16:16:49:966\",\"16:16:50: 86\",\"16:16:50:206\",\"16:16:50:326\",\"16:16:50:446\",\"16:16:50:566\",\"16:16:50:686\",\"16:16:50:806\",\"16:16:50:926\",\"16:16:51: 46\",\"16:16:51:166\",\"16:16:51:286\",\"16:16:51:406\",\"16:16:51:526\",\"16:16:51:646\",\"16:16:51:766\",\"16:16:51:886\",\"16:16:52:  6\",\"16:16:52:126\",\"16:16:52:246\",\"16:16:52:366\",\"16:16:52:486\",\"16:16:52:606\",\"16:16:52:726\",\"16:16:52:846\",\"16:16:52:966\",\"16:16:53: 86\",\"16:16:53:206\",\"16:16:53:326\",\"16:16:53:446\",\"16:16:53:566\",\"16:16:53:686\",\"16:16:53:806\",\"16:16:53:926\",\"16:16:54: 46\",\"16:16:54:166\",\"16:16:54:286\",\"16:16:54:406\",\"16:16:54:526\",\"16:16:54:646\",\"16:16:54:766\",\"16:16:54:886\",\"16:16:55:  6\",\"16:16:55:126\",\"16:16:55:246\",\"16:16:55:366\",\"16:16:55:486\",\"16:16:55:606\",\"16:16:55:726\",\"16:16:55:846\",\"16:16:55:966\",\"16:16:56: 86\",\"16:16:56:206\",\"16:16:56:326\",\"16:16:56:446\",\"16:16:56:566\",\"16:16:56:686\",\"16:16:56:806\",\"16:16:56:926\",\"16:16:57: 46\",\"16:16:57:166\",\"16:16:57:286\",\"16:16:57:406\",\"16:16:57:526\",\"16:16:57:646\",\"16:16:57:766\",\"16:16:57:886\",\"16:16:58:  6\",\"16:16:58:126\",\"16:16:58:246\",\"16:16:58:366\",\"16:16:58:486\",\"16:16:58:606\",\"16:16:58:726\",\"16:16:58:846\",\"16:16:58:966\",\"16:16:59: 86\",\"16:16:59:206\",\"16:16:59:326\",\"16:16:59:446\",\"16:16:59:566\",\"16:16:59:686\",\"16:16:59:806\",\"16:16:59:926\",\"16:17: 0: 46\",\"16:17: 0:166\",\"16:17: 0:286\",\"16:17: 0:406\",\"16:17: 0:526\",\"16:17: 0:646\",\"16:17: 0:766\",\"16:17: 0:886\",\"16:17: 1:  6\",\"16:17: 1:126\",\"16:17: 1:246\",\"16:17: 1:366\",\"16:17: 1:486\",\"16:17: 1:606\",\"16:17: 1:726\",\"16:17: 1:846\",\"16:17: 1:966\",\"16:17: 2: 86\",\"16:17: 2:206\",\"16:17: 2:326\",\"16:17: 2:446\",\"16:17: 2:566\",\"16:17: 2:686\",\"16:17: 2:806\",\"16:17: 2:926\",\"16:17: 3: 47\",\"16:17: 3:167\",\"16:17: 3:287\",\"16:17: 3:407\",\"16:17: 3:527\",\"16:17: 3:647\",\"16:17: 3:767\",\"16:17: 3:887\",\"16:17: 4:  7\",\"16:17: 4:127\",\"16:17: 4:247\",\"16:17: 4:367\",\"16:17: 4:487\",\"16:17: 4:607\",\"16:17: 4:727\",\"16:17: 4:847\",\"16:17: 4:967\",\"16:17: 5: 87\",\"16:17: 5:207\",\"16:17: 5:327\",\"16:17: 5:447\",\"16:17: 5:567\",\"16:17: 5:687\",\"16:17: 5:807\",\"16:17: 5:927\",\"16:17: 6: 47\",\"16:17: 6:167\",\"16:17: 6:287\",\"16:17: 6:407\",\"16:17: 6:527\",\"16:17: 6:647\",\"16:17: 6:767\",\"16:17: 6:887\",\"16:17: 7:  7\",\"16:17: 7:127\",\"16:17: 7:247\",\"16:17: 7:367\",\"16:17: 7:487\",\"16:17: 7:607\",\"16:17: 7:727\",\"16:17: 7:847\",\"16:17: 7:967\",\"16:17: 8: 87\",\"16:17: 8:207\",\"16:17: 8:327\",\"16:17: 8:447\",\"16:17: 8:567\",\"16:17: 8:687\",\"16:17: 8:807\",\"16:17: 8:927\",\"16:17: 9: 47\",\"16:17: 9:167\",\"16:17: 9:287\",\"16:17: 9:407\",\"16:17: 9:527\",\"16:17: 9:647\",\"16:17: 9:767\",\"16:17: 9:887\",\"16:17:10:  7\",\"16:17:10:127\",\"16:17:10:247\",\"16:17:10:367\",\"16:17:10:487\",\"16:17:10:607\",\"16:17:10:727\",\"16:17:10:847\",\"16:17:10:967\",\"16:17:11: 87\",\"16:17:11:207\",\"16:17:11:327\",\"16:17:11:447\",\"16:17:11:567\",\"16:17:11:687\",\"16:17:11:807\",\"16:17:11:927\",\"16:17:12: 47\",\"16:17:12:167\",\"16:17:12:287\",\"16:17:12:407\",\"16:17:12:527\",\"16:17:12:647\",\"16:17:12:767\",\"16:17:12:887\",\"16:17:13:  7\",\"16:17:13:127\",\"16:17:13:247\",\"16:17:13:367\",\"16:17:13:487\",\"16:17:13:607\",\"16:17:13:727\",\"16:17:13:847\",\"16:17:13:967\",\"16:17:14: 87\",\"16:17:14:207\",\"16:17:14:327\",\"16:17:14:447\",\"16:17:14:567\",\"16:17:14:687\",\"16:17:14:807\",\"16:17:14:927\",\"16:17:15: 47\",\"16:17:15:167\",\"16:17:15:287\",\"16:17:15:407\",\"16:17:15:527\",\"16:17:15:647\",\"16:17:15:767\",\"16:17:15:887\",\"16:17:16:  7\",\"16:17:16:127\",\"16:17:16:247\",\"16:17:16:367\",\"16:17:16:487\",\"16:17:16:607\",\"16:17:16:727\",\"16:17:16:847\",\"16:17:16:967\",\"16:17:17: 87\",\"16:17:17:208\",\"16:17:17:328\",\"16:17:17:448\",\"16:17:17:568\",\"16:17:17:688\",\"16:17:17:808\",\"16:17:17:928\",\"16:17:18: 48\",\"16:17:18:168\",\"16:17:18:288\",\"16:17:18:408\",\"16:17:18:528\",\"16:17:18:648\",\"16:17:18:768\",\"16:17:18:888\",\"16:17:19:  8\",\"16:17:19:128\",\"16:17:19:248\",\"16:17:19:368\",\"16:17:19:488\",\"16:17:19:608\",\"16:17:19:728\",\"16:17:19:848\",\"16:17:19:968\",\"16:17:20: 88\",\"16:17:20:208\",\"16:17:20:328\",\"16:17:20:448\",\"16:17:20:568\",\"16:17:20:688\",\"16:17:20:808\",\"16:17:20:928\",\"16:17:21: 48\",\"16:17:21:168\",\"16:17:21:288\",\"16:17:21:408\",\"16:17:21:528\",\"16:17:21:648\",\"16:17:21:768\",\"16:17:21:888\",\"16:17:22:  8\",\"16:17:22:128\",\"16:17:22:248\",\"16:17:22:368\",\"16:17:22:488\",\"16:17:22:608\",\"16:17:22:728\",\"16:17:22:848\",\"16:17:22:968\",\"16:17:23: 88\",\"16:17:23:208\",\"16:17:23:328\",\"16:17:23:448\",\"16:17:23:568\",\"16:17:23:688\",\"16:17:23:808\",\"16:17:23:928\",\"16:17:24: 48\",\"16:17:24:168\",\"16:17:24:288\",\"16:17:24:408\",\"16:17:24:528\",\"16:17:24:648\",\"16:17:24:768\",\"16:17:24:888\",\"16:17:25:  8\",\"16:17:25:128\",\"16:17:25:248\",\"16:17:25:368\",\"16:17:25:488\",\"16:17:25:608\",\"16:17:25:728\",\"16:17:25:848\",\"16:17:25:968\",\"16:17:26: 88\",\"16:17:26:208\",\"16:17:26:328\",\"16:17:26:448\",\"16:17:26:568\",\"16:17:26:688\",\"16:17:26:808\",\"16:17:26:928\",\"16:17:27: 48\",\"16:17:27:168\",\"16:17:27:288\",\"16:17:27:408\",\"16:17:27:528\",\"16:17:27:648\",\"16:17:27:768\",\"16:17:27:888\",\"16:17:28:  8\",\"16:17:28:128\",\"16:17:28:248\",\"16:17:28:368\",\"16:17:28:488\",\"16:17:28:608\",\"16:17:28:728\",\"16:17:28:848\",\"16:17:28:968\",\"16:17:29: 88\",\"16:17:29:208\",\"16:17:29:328\",\"16:17:29:448\",\"16:17:29:568\",\"16:17:29:688\",\"16:17:29:808\",\"16:17:29:928\",\"16:17:30: 48\",\"16:17:30:168\",\"16:17:30:288\",\"16:17:30:408\",\"16:17:30:528\",\"16:17:30:648\",\"16:17:30:768\",\"16:17:30:888\",\"16:17:31:  8\",\"16:17:31:128\",\"16:17:31:248\",\"16:17:31:369\",\"16:17:31:489\",\"16:17:31:609\",\"16:17:31:729\",\"16:17:31:849\",\"16:17:31:969\",\"16:17:32: 89\",\"16:17:32:209\",\"16:17:32:329\",\"16:17:32:449\",\"16:17:32:569\",\"16:17:32:689\",\"16:17:32:809\",\"16:17:32:929\",\"16:17:33: 49\",\"16:17:33:169\",\"16:17:33:289\",\"16:17:33:409\",\"16:17:33:529\",\"16:17:33:649\",\"16:17:33:769\",\"16:17:33:889\",\"16:17:34:  9\",\"16:17:34:129\",\"16:17:34:249\",\"16:17:34:369\",\"16:17:34:489\",\"16:17:34:609\",\"16:17:34:729\",\"16:17:34:849\",\"16:17:34:969\",\"16:17:35: 89\",\"16:17:35:209\",\"16:17:35:329\",\"16:17:35:449\",\"16:17:35:569\",\"16:17:35:689\",\"16:17:35:809\",\"16:17:35:929\",\"16:17:36: 49\",\"16:17:36:169\",\"16:17:36:289\",\"16:17:36:409\",\"16:17:36:529\",\"16:17:36:649\",\"16:17:36:769\",\"16:17:36:889\",\"16:17:37:  9\",\"16:17:37:129\",\"16:17:37:249\",\"16:17:37:369\",\"16:17:37:489\",\"16:17:37:609\",\"16:17:37:729\",\"16:17:37:849\",\"16:17:37:969\",\"16:17:38: 89\",\"16:17:38:209\",\"16:17:38:329\",\"16:17:38:449\",\"16:17:38:569\",\"16:17:38:689\",\"16:17:38:809\",\"16:17:38:929\",\"16:17:39: 49\",\"16:17:39:169\",\"16:17:39:289\",\"16:17:39:409\",\"16:17:39:529\",\"16:17:39:649\",\"16:17:39:769\",\"16:17:39:889\",\"16:17:40:  9\",\"16:17:40:129\",\"16:17:40:249\",\"16:17:40:369\",\"16:17:40:489\",\"16:17:40:609\",\"16:17:40:729\",\"16:17:40:849\",\"16:17:40:969\",\"16:17:41: 89\",\"16:17:41:209\",\"16:17:41:329\",\"16:17:41:449\",\"16:17:41:569\",\"16:17:41:689\",\"16:17:41:809\",\"16:17:41:929\",\"16:17:42: 49\",\"16:17:42:169\",\"16:17:42:289\",\"16:17:42:409\",\"16:17:42:529\",\"16:17:42:649\",\"16:17:42:769\",\"16:17:42:889\",\"16:17:43:  9\",\"16:17:43:129\",\"16:17:43:249\",\"16:17:43:369\",\"16:17:43:489\",\"16:17:43:609\",\"16:17:43:729\",\"16:17:43:849\",\"16:17:43:969\",\"16:17:44: 89\",\"16:17:44:209\",\"16:17:44:329\",\"16:17:44:449\",\"16:17:44:569\",\"16:17:44:689\",\"16:17:44:809\",\"16:17:44:929\",\"16:17:45: 49\",\"16:17:45:169\",\"16:17:45:289\",\"16:17:45:409\",\"16:17:45:529\",\"16:17:45:650\",\"16:17:45:770\",\"16:17:45:890\",\"16:17:46: 10\",\"16:17:46:130\",\"16:17:46:250\",\"16:17:46:370\",\"16:17:46:490\",\"16:17:46:610\",\"16:17:46:730\",\"16:17:46:850\",\"16:17:46:970\",\"16:17:47: 90\",\"16:17:47:210\",\"16:17:47:330\",\"16:17:47:450\",\"16:17:47:570\",\"16:17:47:690\",\"16:17:47:810\",\"16:17:47:930\",\"16:17:48: 50\",\"16:17:48:170\",\"16:17:48:290\",\"16:17:48:410\",\"16:17:48:530\",\"16:17:48:650\",\"16:17:48:770\",\"16:17:48:890\",\"16:17:49: 10\",\"16:17:49:130\",\"16:17:49:250\",\"16:17:49:370\",\"16:17:49:490\",\"16:17:49:610\",\"16:17:49:730\",\"16:17:49:850\",\"16:17:49:970\",\"16:17:50: 90\",\"16:17:50:210\",\"16:17:50:330\",\"16:17:50:450\",\"16:17:50:570\",\"16:17:50:690\",\"16:17:50:810\",\"16:17:50:930\",\"16:17:51: 50\",\"16:17:51:170\",\"16:17:51:290\",\"16:17:51:410\",\"16:17:51:530\",\"16:17:51:650\",\"16:17:51:770\",\"16:17:51:890\",\"16:17:52: 10\",\"16:17:52:130\",\"16:17:52:250\",\"16:17:52:370\",\"16:17:52:490\",\"16:17:52:610\",\"16:17:52:730\",\"16:17:52:850\",\"16:17:52:970\",\"16:17:53: 90\",\"16:17:53:210\",\"16:17:53:330\",\"16:17:53:450\",\"16:17:53:570\",\"16:17:53:690\",\"16:17:53:810\",\"16:17:53:930\",\"16:17:54: 50\",\"16:17:54:170\",\"16:17:54:290\",\"16:17:54:410\",\"16:17:54:530\",\"16:17:54:650\",\"16:17:54:770\",\"16:17:54:890\",\"16:17:55: 10\",\"16:17:55:130\",\"16:17:55:250\",\"16:17:55:370\",\"16:17:55:490\",\"16:17:55:610\",\"16:17:55:730\",\"16:17:55:850\",\"16:17:55:970\",\"16:17:56: 90\",\"16:17:56:210\",\"16:17:56:330\",\"16:17:56:450\",\"16:17:56:570\",\"16:17:56:690\",\"16:17:56:810\",\"16:17:56:930\",\"16:17:57: 50\",\"16:17:57:170\",\"16:17:57:290\",\"16:17:57:410\",\"16:17:57:530\",\"16:17:57:650\",\"16:17:57:770\",\"16:17:57:890\",\"16:17:58: 10\",\"16:17:58:130\",\"16:17:58:250\",\"16:17:58:370\",\"16:17:58:490\",\"16:17:58:610\",\"16:17:58:730\",\"16:17:58:850\",\"16:17:58:970\",\"16:17:59: 90\",\"16:17:59:210\",\"16:17:59:330\",\"16:17:59:450\",\"16:17:59:570\",\"16:17:59:690\",\"16:17:59:811\",\"16:17:59:931\",\"16:18: 0: 51\",\"16:18: 0:171\",\"16:18: 0:291\",\"16:18: 0:411\",\"16:18: 0:531\",\"16:18: 0:651\",\"16:18: 0:771\",\"16:18: 0:891\",\"16:18: 1: 11\",\"16:18: 1:131\",\"16:18: 1:251\",\"16:18: 1:371\",\"16:18: 1:491\",\"16:18: 1:611\",\"16:18: 1:731\",\"16:18: 1:851\",\"16:18: 1:971\",\"16:18: 2: 91\",\"16:18: 2:211\",\"16:18: 2:331\",\"16:18: 2:451\",\"16:18: 2:571\",\"16:18: 2:691\",\"16:18: 2:811\",\"16:18: 2:931\",\"16:18: 3: 51\",\"16:18: 3:171\",\"16:18: 3:291\",\"16:18: 3:411\",\"16:18: 3:531\",\"16:18: 3:651\",\"16:18: 3:771\",\"16:18: 3:891\",\"16:18: 4: 11\",\"16:18: 4:131\",\"16:18: 4:251\",\"16:18: 4:371\",\"16:18: 4:491\",\"16:18: 4:611\",\"16:18: 4:731\",\"16:18: 4:851\",\"16:18: 4:971\",\"16:18: 5: 91\",\"16:18: 5:211\",\"16:18: 5:331\",\"16:18: 5:451\",\"16:18: 5:571\",\"16:18: 5:691\",\"16:18: 5:811\",\"16:18: 5:931\",\"16:18: 6: 51\",\"16:18: 6:171\",\"16:18: 6:291\",\"16:18: 6:411\",\"16:18: 6:531\",\"16:18: 6:651\",\"16:18: 6:771\",\"16:18: 6:891\",\"16:18: 7: 11\",\"16:18: 7:131\",\"16:18: 7:251\",\"16:18: 7:371\",\"16:18: 7:491\",\"16:18: 7:611\",\"16:18: 7:731\",\"16:18: 7:851\",\"16:18: 7:971\",\"16:18: 8: 91\",\"16:18: 8:211\",\"16:18: 8:331\",\"16:18: 8:451\",\"16:18: 8:571\",\"16:18: 8:691\",\"16:18: 8:811\",\"16:18: 8:931\",\"16:18: 9: 51\",\"16:18: 9:171\",\"16:18: 9:291\",\"16:18: 9:411\",\"16:18: 9:531\",\"16:18: 9:651\",\"16:18: 9:771\",\"16:18: 9:891\",\"16:18:10: 11\",\"16:18:10:131\",\"16:18:10:251\",\"16:18:10:371\",\"16:18:10:491\",\"16:18:10:611\",\"16:18:10:731\",\"16:18:10:851\",\"16:18:10:971\",\"16:18:11: 91\",\"16:18:11:211\",\"16:18:11:331\",\"16:18:11:451\",\"16:18:11:571\",\"16:18:11:691\",\"16:18:11:811\",\"16:18:11:931\",\"16:18:12: 51\",\"16:18:12:171\",\"16:18:12:291\",\"16:18:12:411\",\"16:18:12:531\",\"16:18:12:651\",\"16:18:12:771\",\"16:18:12:891\",\"16:18:13: 11\",\"16:18:13:131\",\"16:18:13:251\",\"16:18:13:371\",\"16:18:13:491\",\"16:18:13:611\",\"16:18:13:731\",\"16:18:13:851\",\"16:18:13:972\",\"16:18:14: 92\",\"16:18:14:212\",\"16:18:14:332\",\"16:18:14:452\",\"16:18:14:572\",\"16:18:14:692\",\"16:18:14:812\",\"16:18:14:952\",\"16:18:15: 72\",\"16:18:15:192\",\"16:18:15:312\",\"16:18:15:432\",\"16:18:15:552\",\"16:18:15:672\",\"16:18:15:792\",\"16:18:15:912\",\"16:18:16: 32\",\"16:18:16:152\",\"16:18:16:272\",\"16:18:16:392\",\"16:18:16:512\",\"16:18:16:632\",\"16:18:16:752\",\"16:18:16:872\",\"16:18:16:992\",\"16:18:17:112\",\"16:18:17:232\",\"16:18:17:352\",\"16:18:17:472\",\"16:18:17:592\",\"16:18:17:712\",\"16:18:17:832\",\"16:18:17:952\",\"16:18:18: 72\",\"16:18:18:192\",\"16:18:18:312\",\"16:18:18:432\",\"16:18:18:552\",\"16:18:18:672\",\"16:18:18:792\",\"16:18:18:912\",\"16:18:19: 32\",\"16:18:19:152\",\"16:18:19:272\",\"16:18:19:392\",\"16:18:19:512\",\"16:18:19:632\",\"16:18:19:752\",\"16:18:19:872\",\"16:18:19:992\",\"16:18:20:112\",\"16:18:20:232\",\"16:18:20:352\",\"16:18:20:472\",\"16:18:20:592\",\"16:18:20:712\",\"16:18:20:832\",\"16:18:20:952\",\"16:18:21: 72\",\"16:18:21:192\",\"16:18:21:312\",\"16:18:21:432\",\"16:18:21:552\",\"16:18:21:672\",\"16:18:21:792\",\"16:18:21:912\",\"16:18:22: 32\",\"16:18:22:152\",\"16:18:22:272\",\"16:18:22:392\",\"16:18:22:512\",\"16:18:22:632\",\"16:18:22:752\",\"16:18:22:872\",\"16:18:22:992\",\"16:18:23:112\",\"16:18:23:232\",\"16:18:23:352\",\"16:18:23:472\",\"16:18:23:592\",\"16:18:23:712\",\"16:18:23:832\",\"16:18:23:952\",\"16:18:24: 72\",\"16:18:24:192\",\"16:18:24:312\",\"16:18:24:432\",\"16:18:24:552\",\"16:18:24:672\",\"16:18:24:792\",\"16:18:24:912\",\"16:18:25: 32\",\"16:18:25:152\",\"16:18:25:272\",\"16:18:25:392\",\"16:18:25:512\",\"16:18:25:632\",\"16:18:25:752\",\"16:18:25:872\",\"16:18:25:992\",\"16:18:26:112\",\"16:18:26:232\",\"16:18:26:352\",\"16:18:26:472\",\"16:18:26:592\",\"16:18:26:712\",\"16:18:26:832\",\"16:18:26:952\",\"16:18:27: 72\",\"16:18:27:192\",\"16:18:27:312\",\"16:18:27:432\",\"16:18:27:552\",\"16:18:27:672\",\"16:18:27:792\",\"16:18:27:912\",\"16:18:28: 32\",\"16:18:28:152\",\"16:18:28:273\",\"16:18:28:393\",\"16:18:28:513\",\"16:18:28:633\",\"16:18:28:753\",\"16:18:28:873\",\"16:18:28:993\",\"16:18:29:113\",\"16:18:29:233\",\"16:18:29:353\",\"16:18:29:473\",\"16:18:29:593\",\"16:18:29:713\",\"16:18:29:833\",\"16:18:29:953\",\"16:18:30: 73\",\"16:18:30:193\",\"16:18:30:313\",\"16:18:30:433\",\"16:18:30:553\",\"16:18:30:673\",\"16:18:30:793\",\"16:18:30:913\",\"16:18:31: 33\",\"16:18:31:153\",\"16:18:31:273\",\"16:18:31:393\",\"16:18:31:513\",\"16:18:31:633\",\"16:18:31:753\",\"16:18:31:873\",\"16:18:31:993\",\"16:18:32:113\",\"16:18:32:233\",\"16:18:32:353\",\"16:18:32:473\",\"16:18:32:593\",\"16:18:32:713\",\"16:18:32:833\",\"16:18:32:953\",\"16:18:33: 73\",\"16:18:33:193\",\"16:18:33:313\",\"16:18:33:433\",\"16:18:33:553\",\"16:18:33:673\",\"16:18:33:793\",\"16:18:33:913\",\"16:18:34: 33\",\"16:18:34:153\",\"16:18:34:273\",\"16:18:34:393\",\"16:18:34:513\",\"16:18:34:633\",\"16:18:34:753\",\"16:18:34:873\",\"16:18:34:993\",\"16:18:35:113\",\"16:18:35:233\",\"16:18:35:353\",\"16:18:35:473\",\"16:18:35:593\",\"16:18:35:713\",\"16:18:35:833\",\"16:18:35:953\",\"16:18:36: 73\",\"16:18:36:193\",\"16:18:36:313\",\"16:18:36:433\",\"16:18:36:553\",\"16:18:36:673\",\"16:18:36:793\",\"16:18:36:913\",\"16:18:37: 33\",\"16:18:37:153\",\"16:18:37:273\",\"16:18:37:393\",\"16:18:37:513\",\"16:18:37:633\",\"16:18:37:753\",\"16:18:37:873\",\"16:18:37:993\",\"16:18:38:113\",\"16:18:38:233\",\"16:18:38:353\",\"16:18:38:473\",\"16:18:38:593\",\"16:18:38:713\",\"16:18:38:833\",\"16:18:38:953\",\"16:18:39: 73\",\"16:18:39:193\",\"16:18:39:313\",\"16:18:39:433\",\"16:18:39:553\",\"16:18:39:673\",\"16:18:39:793\",\"16:18:39:913\",\"16:18:40: 33\",\"16:18:40:153\",\"16:18:40:273\",\"16:18:40:393\",\"16:18:40:513\",\"16:18:40:633\",\"16:18:40:753\",\"16:18:40:873\",\"16:18:40:993\",\"16:18:41:113\",\"16:18:41:233\",\"16:18:41:353\",\"16:18:41:473\",\"16:18:41:593\",\"16:18:41:713\",\"16:18:41:833\",\"16:18:41:953\",\"16:18:42: 73\",\"16:18:42:193\",\"16:18:42:313\",\"16:18:42:434\",\"16:18:42:554\",\"16:18:42:674\",\"16:18:42:794\",\"16:18:42:914\",\"16:18:43: 34\",\"16:18:43:154\",\"16:18:43:274\",\"16:18:43:394\",\"16:18:43:514\",\"16:18:43:634\",\"16:18:43:754\",\"16:18:43:874\",\"16:18:43:994\",\"16:18:44:114\",\"16:18:44:234\",\"16:18:44:354\",\"16:18:44:474\",\"16:18:44:594\",\"16:18:44:714\",\"16:18:44:834\",\"16:18:44:954\",\"16:18:45: 74\",\"16:18:45:194\",\"16:18:45:314\",\"16:18:45:434\",\"16:18:45:554\",\"16:18:45:674\",\"16:18:45:794\",\"16:18:45:914\",\"16:18:46: 34\",\"16:18:46:154\",\"16:18:46:274\",\"16:18:46:394\",\"16:18:46:514\",\"16:18:46:634\",\"16:18:46:754\",\"16:18:46:874\",\"16:18:46:994\",\"16:18:47:114\",\"16:18:47:234\",\"16:18:47:354\",\"16:18:47:474\",\"16:18:47:594\",\"16:18:47:714\",\"16:18:47:834\",\"16:18:47:954\",\"16:18:48: 74\",\"16:18:48:194\",\"16:18:48:314\",\"16:18:48:434\",\"16:18:48:554\",\"16:18:48:674\",\"16:18:48:794\",\"16:18:48:914\",\"16:18:49: 34\",\"16:18:49:154\",\"16:18:49:274\",\"16:18:49:394\",\"16:18:49:514\",\"16:18:49:634\",\"16:18:49:754\",\"16:18:49:874\",\"16:18:49:994\",\"16:18:50:114\",\"16:18:50:234\",\"16:18:50:354\",\"16:18:50:474\",\"16:18:50:594\",\"16:18:50:714\",\"16:18:50:834\",\"16:18:50:954\",\"16:18:51: 74\",\"16:18:51:194\",\"16:18:51:314\",\"16:18:51:434\",\"16:18:51:554\",\"16:18:51:674\",\"16:18:51:794\",\"16:18:51:914\",\"16:18:52: 34\",\"16:18:52:154\",\"16:18:52:274\",\"16:18:52:394\",\"16:18:52:514\",\"16:18:52:634\",\"16:18:52:754\",\"16:18:52:874\",\"16:18:52:994\",\"16:18:53:114\",\"16:18:53:234\",\"16:18:53:354\",\"16:18:53:474\",\"16:18:53:594\",\"16:18:53:714\",\"16:18:53:834\",\"16:18:53:954\",\"16:18:54: 74\",\"16:18:54:194\",\"16:18:54:314\",\"16:18:54:434\",\"16:18:54:554\",\"16:18:54:674\",\"16:18:54:794\",\"16:18:54:914\",\"16:18:55: 34\",\"16:18:55:154\",\"16:18:55:274\",\"16:18:55:394\",\"16:18:55:514\",\"16:18:55:634\",\"16:18:55:754\",\"16:18:55:874\",\"16:18:55:994\",\"16:18:56:114\",\"16:18:56:234\",\"16:18:56:354\",\"16:18:56:474\",\"16:18:56:595\",\"16:18:56:715\",\"16:18:56:835\",\"16:18:56:955\",\"16:18:57: 75\",\"16:18:57:195\",\"16:18:57:315\",\"16:18:57:435\",\"16:18:57:555\",\"16:18:57:675\",\"16:18:57:795\",\"16:18:57:915\",\"16:18:58: 35\",\"16:18:58:155\",\"16:18:58:275\",\"16:18:58:395\",\"16:18:58:515\",\"16:18:58:635\",\"16:18:58:755\",\"16:18:58:875\",\"16:18:58:995\",\"16:18:59:115\",\"16:18:59:235\",\"16:18:59:355\",\"16:18:59:475\",\"16:18:59:595\",\"16:18:59:715\",\"16:18:59:835\",\"16:18:59:955\",\"16:19: 0: 75\",\"16:19: 0:195\",\"16:19: 0:315\",\"16:19: 0:435\",\"16:19: 0:555\",\"16:19: 0:675\",\"16:19: 0:795\",\"16:19: 0:915\",\"16:19: 1: 35\",\"16:19: 1:155\",\"16:19: 1:275\",\"16:19: 1:395\",\"16:19: 1:515\",\"16:19: 1:635\",\"16:19: 1:755\",\"16:19: 1:875\",\"16:19: 1:995\",\"16:19: 2:115\",\"16:19: 2:235\",\"16:19: 2:355\",\"16:19: 2:475\",\"16:19: 2:595\",\"16:19: 2:715\",\"16:19: 2:835\",\"16:19: 2:955\",\"16:19: 3: 75\",\"16:19: 3:195\",\"16:19: 3:315\",\"16:19: 3:435\",\"16:19: 3:555\",\"16:19: 3:675\",\"16:19: 3:795\",\"16:19: 3:915\",\"16:19: 4: 35\",\"16:19: 4:155\",\"16:19: 4:275\",\"16:19: 4:395\",\"16:19: 4:515\",\"16:19: 4:635\",\"16:19: 4:755\",\"16:19: 4:875\",\"16:19: 4:995\",\"16:19: 5:115\",\"16:19: 5:235\",\"16:19: 5:355\",\"16:19: 5:475\",\"16:19: 5:595\",\"16:19: 5:715\",\"16:19: 5:835\",\"16:19: 5:955\",\"16:19: 6: 75\",\"16:19: 6:195\",\"16:19: 6:315\",\"16:19: 6:435\",\"16:19: 6:555\",\"16:19: 6:675\",\"16:19: 6:795\",\"16:19: 6:915\",\"16:19: 7: 35\",\"16:19: 7:155\",\"16:19: 7:275\",\"16:19: 7:395\",\"16:19: 7:515\",\"16:19: 7:635\",\"16:19: 7:755\",\"16:19: 7:875\",\"16:19: 7:995\",\"16:19: 8:115\",\"16:19: 8:235\",\"16:19: 8:355\",\"16:19: 8:475\",\"16:19: 8:595\",\"16:19: 8:715\",\"16:19: 8:835\",\"16:19: 8:955\",\"16:19: 9: 75\",\"16:19: 9:195\",\"16:19: 9:315\",\"16:19: 9:435\",\"16:19: 9:555\",\"16:19: 9:675\",\"16:19: 9:795\",\"16:19: 9:915\",\"16:19:10: 35\",\"16:19:10:155\",\"16:19:10:275\",\"16:19:10:395\",\"16:19:10:515\",\"16:19:10:635\",\"16:19:10:755\",\"16:19:10:876\",\"16:19:10:996\",\"16:19:11:116\",\"16:19:11:236\",\"16:19:11:356\",\"16:19:11:476\",\"16:19:11:596\",\"16:19:11:716\",\"16:19:11:836\",\"16:19:11:956\",\"16:19:12: 76\",\"16:19:12:196\",\"16:19:12:316\",\"16:19:12:436\",\"16:19:12:556\",\"16:19:12:676\",\"16:19:12:796\",\"16:19:12:916\",\"16:19:13: 36\",\"16:19:13:156\",\"16:19:13:276\",\"16:19:13:396\",\"16:19:13:516\",\"16:19:13:636\",\"16:19:13:756\",\"16:19:13:876\",\"16:19:13:996\",\"16:19:14:116\",\"16:19:14:236\",\"16:19:14:356\",\"16:19:14:476\",\"16:19:14:596\",\"16:19:14:716\",\"16:19:14:836\",\"16:19:14:956\",\"16:19:15: 76\",\"16:19:15:196\",\"16:19:15:316\",\"16:19:15:436\",\"16:19:15:556\",\"16:19:15:676\",\"16:19:15:796\",\"16:19:15:916\",\"16:19:16: 36\",\"16:19:16:156\",\"16:19:16:276\",\"16:19:16:396\",\"16:19:16:516\",\"16:19:16:636\",\"16:19:16:756\",\"16:19:16:876\",\"16:19:16:996\",\"16:19:17:116\",\"16:19:17:236\",\"16:19:17:356\",\"16:19:17:476\",\"16:19:17:596\",\"16:19:17:716\",\"16:19:17:836\",\"16:19:17:956\",\"16:19:18: 76\",\"16:19:18:196\",\"16:19:18:316\",\"16:19:18:436\",\"16:19:18:556\",\"16:19:18:676\",\"16:19:18:796\",\"16:19:18:916\",\"16:19:19: 36\",\"16:19:19:156\",\"16:19:19:276\",\"16:19:19:396\",\"16:19:19:516\",\"16:19:19:636\",\"16:19:19:756\",\"16:19:19:876\",\"16:19:19:996\",\"16:19:20:116\",\"16:19:20:236\",\"16:19:20:356\",\"16:19:20:476\",\"16:19:20:596\",\"16:19:20:716\",\"16:19:20:836\",\"16:19:20:956\",\"16:19:21: 76\",\"16:19:21:196\",\"16:19:21:316\",\"16:19:21:436\",\"16:19:21:556\",\"16:19:21:676\",\"16:19:21:796\",\"16:19:21:916\",\"16:19:22: 36\",\"16:19:22:156\",\"16:19:22:276\",\"16:19:22:396\",\"16:19:22:516\",\"16:19:22:636\",\"16:19:22:756\",\"16:19:22:876\",\"16:19:22:996\",\"16:19:23:116\",\"16:19:23:236\",\"16:19:23:356\",\"16:19:23:476\",\"16:19:23:596\",\"16:19:23:716\",\"16:19:23:836\",\"16:19:23:956\",\"16:19:24: 76\",\"16:19:24:196\",\"16:19:24:316\"],\"y\":[4.2748,4.2701,4.2826,4.2732,4.2544,4.2513,4.2263,4.2029,4.1841,4.1873,4.1966,4.2232,4.2529,4.2591,4.2701,4.2623,4.2685,4.2591,4.2716,4.2826,4.2794,4.281,4.2826,4.2763,4.2591,4.2591,4.2544,4.2513,4.2623,4.3044,4.3232,4.3372,4.3544,4.3279,4.3232,4.3107,4.2966,4.2873,4.2763,4.2623,4.2451,4.2248,4.2169,4.2029,4.2107,4.2185,4.2154,4.2169,4.2419,4.2794,4.2919,4.3076,4.3154,4.3123,4.3232,4.3372,4.3372,4.3326,4.3404,4.3201,4.3107,4.306,4.2919,4.2716,4.2623,4.2404,4.2279,4.2248,4.2201,4.2263,4.2388,4.2419,4.2529,4.2669,4.3091,4.3185,4.3341,4.3451,4.381,4.3997,4.4122,4.4201,4.4138,4.4076,4.3935,4.3872,4.3669,4.3622,4.3482,4.3169,4.3107,4.2966,4.2841,4.281,4.2919,4.2873,4.2873,4.3013,4.3107,4.3341,4.3388,4.3482,4.3529,4.3451,4.3638,4.3763,4.3904,4.4029,4.3857,4.3607,4.3497,4.3404,4.3076,4.3123,4.2951,4.2873,4.2701,4.2669,4.2716,4.2716,4.2732,4.2732,4.2794,4.2966,4.3216,4.3404,4.3591,4.3529,4.3591,4.381,4.3997,4.3904,4.3794,4.3576,4.3591,4.3466,4.3169,4.3044,4.3013,4.2623,4.2419,4.2419,4.2357,4.2435,4.2373,4.2326,4.2419,4.2544,4.2716,4.2904,4.3013,4.2998,4.2982,4.3091,4.3216,4.3279,4.3482,4.3435,4.3123,4.3044,4.2873,4.2779,4.2638,4.2498,4.231,4.2169,4.2169,4.2076,4.1966,4.2169,4.2216,4.2279,4.2466,4.2654,4.306,4.3435,4.3482,4.3451,4.3216,4.3076,4.3123,4.3138,4.3779,4.3466,4.3482,4.3701,4.3794,4.3857,4.3904,4.3935,4.3919,4.3747,4.3779,4.3701,4.3607,4.3513,4.3357,4.3388,4.3326,4.3263,4.3201,4.3232,4.3357,4.3294,4.331,4.3419,4.3497,4.3451,4.3466,4.3576,4.3544,4.3607,4.3451,4.3326,4.3232,4.3232,4.3123,4.3076,4.3013,4.2919,4.2873,4.2873,4.2873,4.2888,4.2998,4.306,4.3138,4.3232,4.3419,4.3576,4.3685,4.3872,4.3857,4.3857,4.3935,4.3919,4.3794,4.3841,4.381,4.3701,4.356,4.3451,4.3435,4.331,4.3294,4.3404,4.3216,4.3279,4.3357,4.3341,4.331,4.3419,4.3482,4.3419,4.3451,4.356,4.3576,4.3638,4.356,4.3419,4.3388,4.3247,4.3138,4.3013,4.3029,4.3029,4.2966,4.2919,4.2935,4.2873,4.2982,4.2982,4.2982,4.3185,4.3185,4.3326,4.3466,4.3576,4.3701,4.3747,4.3841,4.3794,4.3685,4.3747,4.3732,4.3669,4.3607,4.3607,4.356,4.3466,4.3388,4.3357,4.3341,4.3357,4.3466,4.3435,4.3544,4.3529,4.3513,4.3544,4.3607,4.3685,4.3622,4.3654,4.3544,4.356,4.3513,4.3451,4.3341,4.3247,4.3232,4.3201,4.3185,4.3154,4.3013,4.2935,4.3107,4.2998,4.2998,4.3044,4.3107,4.3169,4.3247,4.3357,4.3326,4.3451,4.3607,4.3451,4.3294,4.2935,4.2919,4.2419,4.2404,4.2263,4.2326,4.2357,4.2513,4.2701,4.2951,4.2857,4.2935,4.3123,4.3123,4.3091,4.3123,4.3279,4.3294,4.3185,4.3091,4.2951,4.2873,4.2857,4.281,4.2748,4.2841,4.2888,4.3013,4.3138,4.3154,4.3216,4.3154,4.3107,4.3185,4.3169,4.2998,4.3076,4.2966,4.281,4.2435,4.2341,4.2107,4.2044,4.2154,4.2326,4.2498,4.2794,4.2701,4.2716,4.2607,4.2685,4.2638,4.2716,4.2826,4.2794,4.2857,4.2591,4.256,4.2638,4.2451,4.2404,4.2513,4.2685,4.2966,4.3123,4.3451,4.3654,4.3622,4.3404,4.3279,4.306,4.3123,4.2888,4.2748,4.2451,4.2466,4.2466,4.2498,4.2326,4.2529,4.2638,4.2794,4.2998,4.3326,4.356,4.3576,4.3904,4.3951,4.4091,4.4185,4.4216,4.4044,4.3935,4.3747,4.3638,4.3482,4.3435,4.3279,4.2951,4.2857,4.281,4.2763,4.2826,4.2857,4.3044,4.3232,4.3341,4.3482,4.3701,4.3841,4.3888,4.3888,4.4138,4.4122,4.3841,4.3685,4.3497,4.331,4.3169,4.3076,4.2841,4.2513,4.2294,4.2123,4.2138,4.2216,4.2201,4.231,4.2498,4.2857,4.3123,4.3232,4.3404,4.3482,4.3576,4.3872,4.3857,4.3779,4.3779,4.3732,4.3622,4.356,4.3435,4.3279,4.3029,4.2966,4.281,4.2873,4.2919,4.3013,4.306,4.3279,4.3419,4.3638,4.3872,4.3951,4.3982,4.4091,4.4216,4.4357,4.4138,4.3951,4.3982,4.3716,4.3466,4.3247,4.3044,4.2701,4.2388,4.2294,4.2373,4.2451,4.2357,4.2373,4.2576,4.281,4.2951,4.3247,4.3372,4.3404,4.3497,4.3701,4.3732,4.3747,4.3701,4.3591,4.3388,4.3451,4.3357,4.3154,4.3029,4.2826,4.2794,4.2826,4.2841,4.2998,4.3076,4.3154,4.3451,4.3685,4.3966,4.3951,4.4013,4.4279,4.431,4.431,4.4279,4.4107,4.4013,4.3685,4.3607,4.3466,4.3107,4.2998,4.2998,4.2888,4.3044,4.2857,4.2888,4.2857,4.3029,4.3029,4.306,4.3169,4.2919,4.2794,4.2419,4.2326,4.2498,4.2466,4.2576,4.2716,4.2935,4.3154,4.3263,4.3357,4.3216,4.3185,4.3357,4.3482,4.3404,4.3326,4.3388,4.3263,4.2998,4.2935,4.2841,4.2669,4.2623,4.2888,4.2966,4.2982,4.2935,4.3013,4.3076,4.2998,4.2982,4.2966,4.2919,4.2888,4.2794,4.2576,4.2404,4.2107,4.2076,4.206,4.2138,4.2201,4.2529,4.2669,4.281,4.2919,4.2841,4.2904,4.2982,4.2919,4.2826,4.2951,4.3044,4.306,4.3185,4.3326,4.3497,4.356,4.3591,4.3638,4.3654,4.3622,4.3529,4.3513,4.3513,4.331,4.3263,4.3216,4.2904,4.2982,4.2826,4.2779,4.2669,4.2748,4.2701,4.2669,4.2763,4.2857,4.2982,4.3138,4.3388,4.3247,4.3404,4.3372,4.3482,4.3482,4.3622,4.3576,4.3576,4.3638,4.3669,4.3388,4.3576,4.3466,4.3435,4.3388,4.3451,4.3404,4.3497,4.356,4.3513,4.3497,4.3669,4.3669,4.3638,4.3701,4.3654,4.356,4.3669,4.3685,4.3529,4.3529,4.3388,4.3091,4.3091,4.3138,4.2982,4.281,4.281,4.2732,4.2669,4.2748,4.2748,4.2779,4.2779,4.2904,4.2904,4.2966,4.3154,4.3201,4.3091,4.3201,4.3294,4.3294,4.331,4.3419,4.331,4.3294,4.3419,4.3466,4.3341,4.3341,4.3419,4.3513,4.356,4.3576,4.356,4.3622,4.3576,4.3685,4.3747,4.3732,4.3794,4.3747,4.3763,4.381,4.3701,4.3654,4.3513,4.331,4.3372,4.3357,4.3169,4.3154,4.3138,4.3107,4.3044,4.3044,4.2966,4.2873,4.2935,4.2919,4.3013,4.3029,4.3044,4.3044,4.3013,4.3091,4.3091,4.3029,4.3013,4.2919,4.2669,4.2888,4.2873,4.2951,4.2888,4.2982,4.2966,4.3123,4.3216,4.3247,4.3294,4.3638,4.3669,4.3732,4.3826,4.3779,4.3701,4.3638,4.3497,4.3513,4.3904,4.4732,4.6294,4.9591,5.1247,5.4262,5.3966,5.1638,5.37,5.4216,5.4591,5.4637,5.4981,5.4575,5.4278,5.4012,5.3809,5.3841,5.3919,5.4278,5.4153,5.4044,5.3809,5.3325,5.3528,5.3794,5.4137,5.4622,5.4841,5.495,5.445,5.3856,5.3934,5.3841,5.395,5.3997,5.4512,5.42,5.3763,5.3669,5.3481,5.3763,5.4028,5.4637,5.5012,5.5044,5.5044,5.4341,5.4028,5.4075,5.4137,5.42,5.4512,5.4544,5.4122,5.3638,5.3763,5.3716,5.4044,5.4794,5.5028,5.5059,5.4981,5.4356,5.4216,5.4091,5.4262,5.4356,5.445,5.4591,5.42,5.3997,5.3778,5.3919,5.4309,5.4544,5.5231,5.5309,5.5216,5.4966,5.4372,5.4231,5.4606,5.445,5.4747,5.4809,5.4684,5.4122,5.3872,5.4216,5.4294,5.4716,5.545,5.5512,5.5325,5.4856,5.4466,5.4512,5.4512,5.4731,5.4841,5.4825,5.4809,5.4216,5.4122,5.4387,5.4653,5.4981,5.5309,5.5653,5.5262,5.4903,5.4872,5.4637,5.4528,5.4794,5.4872,5.4887,5.47,5.4247,5.4137,5.4216,5.4544,5.5075,5.545,5.57,5.5387,5.4903,5.4794,5.4528,5.4622,5.5028,5.5059,5.5122,5.4684,5.4559,5.4169,5.4294,5.4887,5.5075,5.5497,5.5747,5.5575,5.5231,5.4887,5.4716,5.4794,5.4841,5.4387,5.2341,4.8372,4.5685,4.431,4.381,4.3341,4.3044,4.2998,4.2982,4.3076,4.3076,4.3091,4.3154,4.3326,4.3326,4.3232,4.3185,4.3247,4.3232,4.331,4.3216,4.3123,4.2935,4.2623,4.231,4.2154,4.1935,4.2107,4.2169,4.2388,4.2623,4.2826,4.2904,4.2826,4.2826,4.2748,4.2654,4.2951,4.2919,4.2966,4.2888,4.2826,4.281,4.2654,4.2576,4.2498,4.2529,4.2794,4.2966,4.3029,4.3044,4.3169,4.3232,4.3263,4.3263,4.3138,4.3216,4.3185,4.3279,4.3419,4.3263,4.3091,4.3029,4.2857,4.256,4.2623,4.2669,4.2638,4.2685,4.3919,4.5107,4.8185,5.1138,5.3247,5.3934,5.4825,5.4762,5.4731,5.4997,5.5434,5.545,5.5419,5.5091,5.4497,5.4309,5.4294,5.4419,5.4841,5.5137,5.5137,5.4637,5.4434,5.4044,5.4184,5.4544,5.4997,5.5434,5.5419,5.5372,5.4903,5.4106,5.42,5.4372,5.4716,5.4778,5.4856,5.4669,5.4122,5.3888,5.3747,5.42,5.4747,5.5106,5.5497,5.5059,5.47,5.4325,5.3919,5.4169,5.4356,5.4637,5.4716,5.4622,5.4559,5.3888,5.3763,5.3825,5.4294,5.5012,5.5325,5.5247,5.4637,5.4169,5.4044,5.3731,5.4091,5.4512,5.4684,5.4575,5.4341,5.4028,5.3638,5.3809,5.4216,5.4544,5.5059,5.5169,5.5169,5.4637,5.42,5.4106,5.4153,5.4481,5.4762,5.4794,5.4528,5.4341,5.3934,5.3684,5.4153,5.4794,5.5075,5.5497,5.5294,5.4747,5.445,5.3997,5.4091,5.4278,5.4512,5.4778,5.4481,5.4356,5.3966,5.37,5.3747,5.4403,5.4966,5.5122,5.5231,5.4934,5.4091,5.3934,5.3903,5.4059,5.4419,5.4559,5.4559,5.4231,5.3981,5.3669,5.3606,5.4091,5.4512,5.5028,5.5106,5.5044,5.4622,5.4044,5.3856,5.4075,5.4216,5.4419,5.4606,5.4512,5.4059,5.3794,5.3638,5.3888,5.4481,5.4872,5.5216,5.4997,5.4825,5.4559,5.3981,5.3919,5.3794,5.0263,4.6591,4.4622,4.3935,4.3388,4.306,4.3091,4.3185,4.3404,4.3341,4.3216,4.3497,4.3404,4.3466,4.3372,4.3497,4.3372,4.3357,4.3357,4.3138,4.2966,4.2716,4.2591,4.2466,4.2498,4.2451,4.2638,4.2638,4.2701,4.2748,4.2748,4.2685,4.2529,4.2654,4.256,4.2732,4.2732,4.2841,4.2748,4.2435,4.2216,4.2123,4.2091,4.2263,4.2294,4.2498,4.281,4.2919,4.3154,4.3123,4.3013,4.3091,4.3169,4.3326,4.3357,4.331,4.3435,4.3404,4.3247,4.3201,4.2998,4.2826,4.2779,4.2576,4.2435,4.2185,4.2107,4.2138,4.2326,4.2451,4.2841,4.3435,4.3919,4.4263,4.4779,4.5185,4.5232,4.5341,4.5357,4.4982,4.4544,4.4326,4.3966,4.3607,4.3451,4.3513,4.3747,4.3982,4.4138,4.4466,4.4888,4.5107,4.5216,4.5404,4.5388,4.5419,4.5247,4.4966,4.4872,4.4576,4.4263,4.3951,4.3919,4.3732,4.3732,4.3732,4.4122,4.4576,4.5029,4.5232,4.5388,4.5513,4.5544,4.5279,4.4826,4.4294,4.3919,4.3435,4.3388,4.3357,4.356,4.3997,4.4654,4.4857,4.5388,4.5732,4.5841,4.5825,4.545,4.4935,4.4779,4.4341,4.3888,4.381,4.3701,4.3779,4.3935,4.4122,4.4404,4.4794,4.4935,4.5044,4.5138,4.5122,4.5107,4.5107,4.5013,4.4826,4.4419,4.4232,4.381,4.3654,4.3701,4.3716,4.3888,4.4404,4.4919,4.531,4.5529,4.595,4.6013,4.5872,4.5482,4.4841,4.4279,4.4029,4.3607,4.3466,4.3404,4.3732,4.4326,4.4888,4.5076,4.531,4.5575,4.5575,4.5388,4.4966,4.4529,4.4341,4.4154,4.3919,4.3794,4.3872,4.3966,4.4169,4.4247,4.4529,4.4919,4.5169,4.5404,4.5747,4.5654,4.5685,4.5435,4.5122,4.4857,4.4435,4.3935,4.3716,4.3654,4.3654,4.3982,4.4138,4.4779,4.5404,4.5654,4.5763,4.5732,4.5466,4.5263,4.4716,4.406,4.3654,4.3279,4.2732,4.2357,4.2279,4.2169,4.2138,4.281,4.4107,4.5747,4.4685,4.4685,4.4732,4.4794,4.4701,4.4529,4.4544,4.456,4.456,4.4872,4.5076,4.5294,4.5435,4.5372,4.5138,4.5107,4.4935,4.4513,4.4247,4.4232,4.4122,4.4232,4.4232,4.4357,4.4669,4.4841,4.4997,4.5154,4.5154,4.4919,4.481,4.4622,4.456,4.4529,4.4466,4.4544,4.4685,4.4779,4.4794,4.4779,4.4779,4.4669,4.4622,4.4591,4.4826,4.506,4.5091,4.5029,4.5076,4.4935,4.4763,4.4497,4.4279,4.4185,4.4044,4.406,4.431,4.4388,4.456,4.4826,4.5138,4.5247,4.5169,4.5076,4.5029,4.4826,4.4372,4.4263,4.4357,4.4388,4.4529,4.4779,4.4935,4.4966,4.5107,4.5076,4.5044,4.4826,4.481,4.4638,4.4669,4.456,4.4419,4.4419,4.4419,4.4591,4.4497,4.4419,4.4279,4.4388,4.4451,4.4372,4.4482,4.456,4.4826,4.5029,4.5107,4.5107,4.4841,4.4763,4.4529,4.4388,4.4185,4.4138,4.4216,4.4576,4.4747,4.4919,4.4997,4.506,4.5091,4.5044,4.4857,4.4841,4.4544,4.4138,4.4013,4.3997,4.3997,4.4232,4.4216,4.4419,4.4732,4.4857,4.4904,4.4841,4.4763,4.4685,4.4466,4.4513,4.4544,4.4607,4.4654,4.4654,4.4747,4.4622,4.4576,4.4591,4.456,4.4529,4.4419,4.4513,4.4857,4.4982,4.5076,4.4294,4.3576,4.3341,4.3294,4.3201,4.3576,4.6216,4.7107,4.5185,4.4982,4.4888,4.4451,4.3982,4.3576,4.3435,4.3326,4.3435,4.3482,4.4232,4.4857,4.5247,4.5435,4.5638,4.5575,4.5529,4.5122,4.4779,4.4435,4.4357,4.4029,4.3888,4.3966,4.3997,4.3997,4.4201,4.4341,4.4544,4.4857,4.4966,4.5154,4.5279,4.5107,4.5122,4.4826,4.4654,4.4529,4.3997,4.3591,4.3466,4.3544,4.3638,4.3966,4.4357,4.4997,4.5497,4.5888,4.5982,4.5997,4.5638,4.5435,4.4701,4.4122,4.3654,4.3529,4.3529,4.3904,4.4013,4.4372,4.4841,4.5154,4.531,4.5497,4.5279,4.5232,4.4935,4.4638,4.4388,4.4357,4.406,4.3826,4.3826,4.3841,4.4107,4.4326,4.4404,4.4685,4.5201,4.5372,4.5716,4.5779,4.5654,4.5482,4.531,4.4716,4.4544,4.3982,4.3513,4.3419,4.3482,4.3857,4.4435,4.4779,4.5341,4.5669,4.5935,4.5857,4.5544,4.5201,4.4966,4.4232,4.3747,4.3544,4.3497,4.3716,4.4044,4.431,4.481,4.5232,4.5435,4.5591,4.5638,4.5544,4.5544,4.5404,4.5232,4.4826,4.4607,4.4232,4.3997,4.3857,4.381,4.4013,4.4404,4.4857,4.5091,4.5575,4.5825,4.57,4.5622,4.5341,4.4732,4.4497,4.3935,4.3544,4.3513,4.3388,4.3888,4.4497,4.4935,4.5466,4.5825,4.6013,4.5497,4.4591,4.4029,4.3904,4.3591,4.356,4.3763,4.5388,4.4966,4.4513,4.4685,4.4966,4.5091,4.5091,4.5247,4.5247,4.4904,4.4716,4.4466,4.4154,4.4076,4.4029,4.4154,4.4482,4.4607,4.4841,4.506,4.5185,4.5263,4.5185,4.4966,4.4794,4.4654,4.4529,4.4451,4.4529,4.4794,4.4841,4.4841,4.4951,4.5029,4.5029,4.4951,4.4794,4.481,4.4872,4.4951,4.5013,4.5044,4.4982,4.4747,4.4685,4.4607,4.4372,4.4154,4.4185,4.4263,4.4513,4.4638,4.481,4.5091,4.5247,4.5263,4.5185,4.506,4.4779,4.4654,4.4294,4.4263,4.4279,4.4591,4.4716,4.4951,4.5044,4.5169,4.5247,4.5325,4.5044,4.4888,4.4607,4.4497,4.4294,4.4341,4.4357,4.4404,4.4622,4.4622,4.4591,4.4654,4.4576,4.4513,4.4529,4.4466,4.4794,4.4919,4.4935,4.5154,4.5232,4.4904,4.4763,4.4607,4.4404,4.4107,4.4279,4.4388,4.4607,4.4872,4.5091,4.5294,4.5185,4.5154,4.5013,4.4919,4.4591,4.4279,4.4169,4.3919,4.4029,4.4044,4.431,4.4529,4.4669,4.4732,4.4872,4.5122,4.5044,4.4622,4.4607,4.4513,4.4482,4.4482,4.4529,4.4513,4.4654,4.4669,4.4654,4.4701,4.4747,4.4607,4.4607,4.4513,4.4685,4.4966,4.4966,4.4919,4.4951,4.4888,4.4638,4.4341,4.4372,4.4247,4.4029,4.4122,4.4138,4.3732,4.3076,4.2841,4.2654,4.2513,4.2451,4.2435,4.2544,4.2529,4.2794,4.2904,4.2888,4.281,4.2794,4.2763,4.281,4.2888,4.2904,4.2919,4.2748,4.2701,4.2685,4.2685,4.2498,4.2544,4.2513,4.3591,4.4747,4.781,5.1013,5.4247,5.5747,5.7465,5.7762,5.7653,5.7262,5.7153,5.7309,5.7231,5.7497,5.7606,5.7262,5.7294,5.7356,5.7325,5.7294,5.7387,5.7012,5.6903,5.695,5.6856,5.7247,5.7356,5.7637,5.7778,5.7762,5.7559,5.7434,5.734,5.7434,5.7419,5.72,5.7231,5.6903,5.6778,5.7106,5.7372,5.7512,5.7762,5.7934,5.7481,5.7419,5.7403,5.7294,5.7309,5.7403,5.7231,5.695,5.6965,5.7106,5.7231,5.745,5.784,5.7887,5.7872,5.7715,5.759,5.7465,5.745,5.7653,5.7528,5.7372,5.7059,5.7059,5.7122,5.7559,5.7778,5.7919,5.8012,5.7872,5.7731,5.7715,5.7606,5.7715,5.7622,5.7481,5.7262,5.7012,5.7122,5.7559,5.7747,5.8028,5.8231,5.8044,5.7981,5.7934,5.7919,5.7809,5.7856,5.7809,5.7559,5.7184,5.7247,5.7669,5.784,5.8028,5.8497,5.8309,5.8106,5.8137,5.7981,5.7856,5.7981,5.7965,5.7887,5.7356,5.734,5.7637,5.7747,5.7965,5.8325,5.8325,5.8247,5.8293,5.809,5.8137,5.8106,5.8122,5.8059,5.7559,5.7497,5.7762,5.7872,5.8012,5.8356,5.8434,5.8434,5.8434,5.8044,5.8153,5.8184,5.809,5.8059,5.7622,5.7669,5.7684,5.7856,5.8012,5.8434,5.8575,5.8559,5.845,5.8278,5.8293,5.8278,5.6309,4.9528,4.5841,4.4982,4.4107,4.3747,4.3638,4.3513,4.3544,4.3372,4.331,4.3076,4.2904,4.2794,4.2685,4.2748,4.2888,4.2966,4.3091,4.3107,4.3201,4.3388,4.3326,4.331,4.3232,4.3216,4.3263,4.3232,4.3201,4.2873,4.3763,4.4685,4.7404,5.1497,5.3794,5.7559,5.9278,5.9543,5.9075,5.8356,5.8247,5.8293,5.834,5.8184,5.7934,5.7747,5.7809,5.8262,5.859,5.92,5.909,5.8528,5.8278,5.7856,5.7965,5.82,5.8403,5.8465,5.8012,5.7872,5.7669,5.7794,5.8137,5.8872,5.9075,5.8622,5.8293,5.7715,5.7731,5.7965,5.82,5.8481,5.8075,5.784,5.7653,5.7606,5.7965,5.8637,5.895,5.8809,5.845,5.7856,5.7512,5.7622,5.7919,5.8262,5.8044,5.7872,5.7481,5.7372,5.7559,5.8247,5.8731,5.8715,5.8528,5.7872,5.7403,5.7544,5.77,5.8122,5.8122,5.7856,5.7637,5.7325,5.7497,5.7825,5.8575,5.8653,5.8356,5.8028,5.7465,5.745,5.7512,5.7887,5.8137,5.7872,5.7715,5.7309,5.7278,5.7419,5.8247,5.8637,5.8606,5.8356,5.77,5.7325,5.7231,5.7653,5.7997,5.7919,5.7731,5.7278,5.7137,5.7028,5.7762,5.8309,5.8543,5.834,5.7731,5.734,5.7106,5.7309,5.759,5.77,5.7684,5.7387,5.7012,5.7028,5.7372,5.7919,5.8356,5.8481,5.8106,5.7762,5.7278,5.7137,5.7559,5.7794,5.7762,5.7481,5.7309,5.6856,5.6903,5.7544,5.7825,5.8247,5.8059,5.7856,5.7309,5.6825,5.7012,5.7528,5.7669,5.7575,5.7325,5.7044,5.6747,5.7184,5.77,5.6809,5.0263,4.645,4.556,4.4591,4.4247,4.3997,4.381,4.3701,4.3544,4.3544,4.3544,4.3357,4.3232,4.3154,4.281,4.2544,4.2544,4.231,4.2294,4.2404,4.2591,4.2716,4.2919,4.2966,4.281,4.2888,4.2919,4.306,4.2873,4.3107,4.2998,4.2857,4.2669,4.256,4.2591,4.2466,4.2513,4.2685,4.2841,4.306,4.3279,4.3232,4.3138,4.3154,4.3263,4.3154,4.2998,4.3185,4.3279,4.3622,4.3951,4.4076,4.4794,4.5779,4.6513,4.6982,4.7732,4.7482,4.7388,4.7216,4.6794,4.6185,4.6075,4.5638,4.5263,4.5357,4.5685,4.6279,4.7029,4.7466,4.7419,4.7263,4.7044,4.6325,4.5763,4.57,4.5529,4.5591,4.5872,4.5966,4.6388,4.7138,4.7591,4.7685,4.7857,4.7294,4.6794,4.6185,4.5622,4.5544,4.5669,4.6169,4.6419,4.6482,4.6841,4.7294,4.7372,4.7466,4.731,4.6497,4.6107,4.5607,4.5247,4.5685,4.5997,4.6638,4.7216,4.745,4.7622,4.7685,4.7513,4.7279,4.6747,4.6154,4.5763,4.5357,4.57,4.6138,4.6404,4.7138,4.7419,4.7247,4.7091,4.706,4.6622,4.6341,4.6091,4.5654,4.5341,4.5404,4.6325,4.6966,4.7372,4.8013,4.7888,4.7778,4.7388,4.6685,4.6388,4.6169,4.5904,4.5779,4.5888,4.6075,4.6857,4.7435,4.7653,4.7747,4.7263,4.6966,4.6138,4.5857,4.5779,4.5747,4.6013,4.6341,4.6482,4.72,4.77,4.806,4.8138,4.7778,4.6919,4.6607,4.5919,4.5716,4.6044,4.6279,4.656,4.6935,4.7169,4.7544,4.7622,4.7732,4.7544,4.6638,4.5935,4.5716,4.5435,4.595,4.67,4.7013,4.7607,4.7997,4.7982,4.7997,4.7872,4.7216,4.6872,4.6138,4.57,4.57,4.6325,4.6888,4.6919,4.6325,4.4826,4.3966,4.3763,4.3497,4.3466,4.3451,4.3794,4.5247,4.7778,4.6872,4.6154,4.6935,4.7247,4.7279,4.7325,4.7341,4.7247,4.7279,4.72,4.6841,4.6669,4.6607,4.6872,4.706,4.7294,4.7513,4.7294,4.7122,4.6919,4.681,4.6654,4.6654,4.6591,4.62,4.6263,4.6466,4.6919,4.7138,4.7513,4.7653,4.7216,4.7138,4.6794,4.6716,4.6732,4.6794,4.6794,4.6607,4.6669,4.7107,4.7404,4.7513,4.7544,4.72,4.6638,4.6419,4.6325,4.6404,4.6482,4.6575,4.6529,4.6575,4.6732,4.7185,4.7435,4.7497,4.7466,4.6935,4.6529,4.6404,4.6529,4.6669,4.6825,4.7029,4.6888,4.6872,4.6982,4.7169,4.7091,4.7075,4.6825,4.6185,4.5997,4.5919,4.6185,4.6497,4.67,4.7091,4.7075,4.7185,4.7169,4.7044,4.7075,4.7075,4.6732,4.6388,4.645,4.6529,4.6857,4.7107,4.7216,4.7247,4.7044,4.6763,4.6716,4.6544,4.6513,4.6513,4.6372,4.6075,4.6247,4.6435,4.681,4.7138,4.7279,4.7325,4.6997,4.6763,4.6825,4.6685,4.6607,4.67,4.6622,4.6482,4.6638,4.6794,4.7013,4.7325,4.7341,4.7091,4.6529,4.6216,4.62,4.6091,4.6107,4.6263,4.6404,4.6404,4.6544,4.6669,4.695,4.7247,4.7263,4.7044,4.6685,4.6232,4.6232,4.6341,4.6607,4.67,4.695,4.6872,4.6763,4.6294,4.4576,4.3529,4.3107,4.2951,4.2826,4.2935,4.3919,4.6763,4.8466,4.781,4.5372,4.4997,4.5279,4.5607,4.6341,4.7122,4.7435,4.7732,4.7575,4.7497,4.731,4.6716,4.6357,4.6075,4.5607,4.5482,4.5841,4.6154,4.6763,4.7435,4.7653,4.7497,4.7075,4.6575,4.631,4.6029,4.5888,4.5747,4.5779,4.6075,4.6419,4.6966,4.7716,4.8013,4.8091,4.7778,4.6888,4.6216,4.6013,4.5857,4.5872,4.6091,4.6263,4.6482,4.706,4.7294,4.7466,4.7653,4.7544,4.6825,4.5997,4.5482,4.5404,4.5466,4.62,4.6544,4.7013,4.7357,4.7685,4.7716,4.781,4.7419,4.7013,4.6247,4.5747,4.5529,4.5732,4.6357,4.6794,4.7122,4.7372,4.7325,4.7466,4.7357,4.6982,4.6497,4.62,4.545,4.5544,4.6216,4.6654,4.7247,4.7685,4.7919,4.7669,4.7528,4.7435,4.695,4.6466,4.6154,4.57,4.5669,4.6341,4.6669,4.7372,4.7794,4.7732,4.7497,4.7169,4.656,4.6372,4.6107,4.5935,4.5841,4.5982,4.6466,4.7357,4.7778,4.82,4.8278,4.82,4.7357,4.6607,4.6372,4.6154,4.6075,4.6294,4.6357,4.6654,4.7388,4.7685,4.7732,4.7903,4.7419,4.6966,4.6247,4.5857,4.5794,4.5997,4.6544,4.6919,4.7263,4.7857,4.8107,4.8388,4.8247,4.7497,4.6654,4.6294,4.5919,4.6044,4.6638,4.6716,4.5763,4.4404,4.3888,4.356,4.3232,4.3372,4.3201,4.3263,4.3279,4.3169,4.3216,4.3216,4.331,4.331,4.3466,4.3404,4.331,4.3185,4.2998,4.2763,4.2685,4.2544,4.2591,4.2591,4.2748,4.2888,4.2998,4.2966,4.2966,4.2935,4.2873,4.2841,4.2826,4.2841,4.2841,4.2623,4.2388,4.2185,4.2013,4.1904,4.2029,4.2138,4.2341,4.2451,4.2654,4.2919,4.3513,4.4169,4.4388,4.4935,4.5669,4.5997,4.656,4.7044,4.7107,4.7154,4.745,4.7591,4.7607,4.7466,4.7029,4.6497,4.6294,4.6372,4.6404,4.6529,4.7044,4.7169,4.7138,4.72,4.7388,4.7482,4.7466,4.7232,4.6716,4.6419,4.6482,4.681,4.7154,4.7388,4.7357,4.7279,4.7185,4.7169,4.7044,4.6966,4.6872,4.6466,4.6263,4.6341,4.6544,4.6841,4.7247,4.7404,4.7419,4.7247,4.7107,4.7075,4.7091,4.695,4.6825,4.6622,4.6669,4.6997,4.7154,4.745,4.7575,4.7372,4.7013,4.6654,4.6497,4.6466,4.6497,4.645,4.6388,4.631,4.67,4.7154,4.7372,4.7575,4.7528,4.72,4.6857,4.6669,4.6654,4.6654,4.6857,4.6622,4.6654,4.6763,4.7122,4.7372,4.7388,4.7216,4.6825,4.6466,4.6138,4.6325,4.6294,4.6341,4.6654,4.6669,4.6779,4.6966,4.7154,4.7435,4.745,4.7216,4.6747,4.6497,4.6435,4.6638,4.6872,4.7044,4.7091,4.7091,4.7044,4.7122,4.7154,4.7029,4.6966,4.6685,4.6107,4.606,4.62,4.6404,4.6825,4.6997,4.7263,4.7216,4.7294,4.706,4.7075,4.7091,4.7013,4.67,4.6529,4.6482,4.6763,4.6997,4.7294,4.7357,4.7185,4.681,4.6779,4.6544,4.645,4.6466,4.6404,4.6169,4.6216,4.6232,4.6607,4.6997,4.6591,4.5982,4.4513,4.3732,4.3404,4.3247,4.3232,4.4185,4.5638,4.8325,4.9856,5.0747,5.2434,5.4466,5.6044,5.659,5.5278,5.9356,6.034,6.1153,6.12,6.1106,6.0996,6.109,6.1231,6.1184,6.084,6.0434,6.009,6.0372,6.0746,6.0996,6.1121,6.1137,6.0965,6.1059,6.1325,6.1325,6.1168,6.1028,6.0856,6.0496,6.0809,6.1106,6.1184,6.145,6.1465,6.1418,6.1293,6.1575,6.1575,6.1575,6.1325,6.0825,6.0528,6.0684,6.0965,6.1293,6.1418,6.1496,6.1184,6.1356,6.1684,6.1621,6.1496,6.1215,6.0809,6.0606,6.0559,6.1028,6.1215,6.1512,6.1575,6.1528,6.1575,6.145,6.1778,6.1559,6.1309,6.1059,6.0637,6.0934,6.1168,6.1418,6.1621,6.1746,6.1637,6.1465,6.184,6.1934,6.1746,6.1575,6.1075,6.1012,6.1293,6.1465,6.1684,6.1746,6.1981,6.1512,6.1746,6.2106,6.1996,6.195,6.1637,6.1262,6.0965,6.1075,6.1731,6.1981,6.2184,6.2106,6.2075,6.2278,6.2231,6.2293,6.195,6.1856,6.1668,6.1481,6.1887,6.184,6.22,6.2309,6.2184,6.209,6.2231,6.2496,6.245,6.234,6.2012,6.1621,6.145,6.1668,6.2153,6.2231,6.2278,6.2184,6.1918,6.2309,6.2293,6.2168,6.2168,6.1887,6.1465,6.134,6.184,6.2153,6.2465,6.2434,6.2168,6.2278,6.2418,6.2574,6.2528,6.2153,6.1825,6.1403,5.8715,5.445,4.8888,4.631,4.4904,4.4544,4.3966,4.3638,4.3482,4.3888,4.5716,4.8263,4.9575,5.2497,5.4231,5.5153,5.6747,5.7387,5.4434,5.8481,6.17,6.2356,6.2403,6.2293,6.1809,6.1825,6.2043,6.259,6.2903,6.2793,6.2246,6.1996,6.1715,6.1996,6.2325,6.2293,6.2168,6.184,6.1887,6.2418,6.2653,6.2871,6.2653,6.2309,6.17,6.1762,6.22,6.2465,6.2434,6.2028,6.1809,6.1918,6.2621,6.3043,6.2918,6.2637,6.2075,6.1918,6.1981,6.2278,6.2465,6.2215,6.1996,6.1746,6.2012,6.2543,6.2934,6.284,6.2371,6.1715,6.1496,6.1684,6.22,6.2246,6.1887,6.1793,6.1684,6.1996,6.2246,6.2746,6.2637,6.2121,6.184,6.1496,6.1809,6.2012,6.2153,6.1887,6.1512,6.1543,6.1746,6.2606,6.2856,6.2559,6.2137,6.1606,6.1465,6.1653,6.1887,6.2043,6.1746,6.1418,6.1387,6.1996,6.2262,6.2621,6.22,6.184,6.1371,6.1262,6.1668,6.1871,6.1903,6.1575,6.1371,6.1387,6.1871,6.2387,6.2418,6.2215,6.1575,6.1496,6.1278,6.1606,6.1996,6.1793,6.1575,6.1246,6.1184,6.1653,6.2137,6.2278,6.2246,6.1575,6.1137,6.1028,6.1418,6.1684,6.1575,6.1325,6.1121,6.1153,6.145,6.2059,6.2231,6.1934,6.1637,6.0965,6.1075,6.0996,6.1621,6.1496,6.1168,6.1012,6.0965,6.1606,6.1887,6.2106,6.1965,6.1309,6.0731,5.4637,4.8591,4.6888,4.4732,4.3544,4.3279,4.3216,4.3435,4.3326,4.3388,4.3357,4.3185,4.3232,4.3372,4.3513,4.3513,4.3466,4.3419,4.3326,4.3232,4.3076,4.2919,4.2794,4.2529,4.2623,4.2951,4.2919,4.2998,4.3013,4.3044,4.3029,4.2982,4.2935,4.2919,4.2888,4.2966,4.3294,4.3701,4.4747,4.6216,4.7294,4.7794,4.8841,4.8982,4.9013,4.8638,4.8325,4.8622,4.8888,4.9528,4.995,4.9794,4.9731,4.9294,4.8778,4.8466,4.795,4.8044,4.8294,4.9138,4.9716,5.0075,5.0153,4.9981,4.9622,4.92,4.8419,4.8247,4.8294,4.8888,4.9403,4.9669,4.9763,4.9872,4.9716,4.8872,4.845,4.8044,4.8341,4.8685,4.9388,4.9966,5.0185,5.0388,5.0341,4.9419,4.9013,4.8232,4.8325,4.8622,4.8747,4.9263,4.97,4.9856,5.0122,4.9419,4.8685,4.831,4.7997,4.8591,4.8857,4.9263,5.0044,5.0653,5.0638,5.006,4.9294,4.8935,4.87,4.8622,4.8763,4.9013,4.9669,5.0247,5.0325,4.9903,4.92,4.8935,4.8669,4.8357,4.8638,4.8997,4.9841,5.0388,5.0575,5.0497,5.0044,4.9388,4.9185,4.8591,4.87,4.9341,4.9528,5.0169,5.0216,5.02,4.9966,4.945,4.8732,4.8466,4.8513,4.9138,4.9622,5.0216,5.0544,5.0653,5.0622,5.0122,4.9091,4.8794,4.856,4.9138,4.9575,4.9763,5.0153,5.0356,5.0388,4.9747,4.9075,4.8357,4.8388,4.906,4.931,4.9935,5.0513,5.0981,5.1075,5.0106,4.9372,4.9028,4.881,4.9075,4.931,4.9591,5.0138,5.0653,5.0575,4.9935,4.9091,4.8778,4.8778,4.8747,4.9153,4.9591,5.0481,5.0669,4.8247,4.7044,4.5435,4.4388,4.3951,4.3685,4.3263,4.3154,4.3247,4.3341,4.3341,4.3232,4.3201,4.3247,4.3247,4.3216,4.331,4.3232,4.3076,4.3044,4.2794,4.2591,4.3013,4.3591,4.5169,4.6857,4.7638,4.8341,4.895,4.9357,4.9419,4.9622,4.9653,4.9856,5.0513,5.081,5.056,5.0325,4.9888,4.9731,4.9638,4.9435,4.9497,5.0044,5.0372,5.0481,5.006,4.9716,4.9606,4.9513,4.9122,4.9122,4.9263,4.9888,5.0278,5.0356,5.0294,5.0185,5.006,4.9825,4.9419,4.9372,4.945,4.9763,5.0044,5.0028,5.0028,4.9903,4.97,4.945,4.9028,4.895,4.9341,4.9622,4.9825,5.0169,5.0247,5.045,5.0216,4.956,4.9278,4.9403,4.9591,4.9638,4.9731,5.0013,5.02,5.0169,4.9794,4.9325,4.92,4.9107,4.9294,4.9341,4.9513,5.0044,5.0435,5.0372,5.0153,4.9747,4.9622,4.9528,4.9357,4.9419,4.9575,5.0013,5.0294,5.0153,4.9638,4.9341,4.9232,4.9075,4.8841,4.9028,4.9263,4.9872,5.02,5.0169,5.0075,4.9763,4.9669,4.9528,4.9028,4.9075,4.9247,4.9763,4.9841,4.9747,4.9669,4.945,4.9435,4.9263,4.8763,4.8763,4.9232,4.9435,4.9716,5.0028,5.0106,5.0028,4.9919,4.9716,4.9091,4.8997,4.9216,4.9403,4.9575,4.9544,4.9606,4.981,4.9653,4.9013,4.8732,4.8638,4.8888,4.9169,4.931,4.9575,4.9935,5.0106,4.9997,4.9591,4.9075,4.8903,4.906,4.9169,4.9185,4.9294,4.9685,4.9778,4.97,4.7982,4.5279,4.4419,4.3607,4.331,4.2998,4.2935,4.3263,4.5122,4.5607,4.7263,5.0294,5.22,5.595,5.7809,5.8075,5.7465,5.6356,5.4903,6.2981,6.3949,6.5184,6.5481,6.5387,6.4965,6.4699,6.5293,6.5621,6.5621,6.509,6.4637,6.4199,6.4731,6.5246,6.5199,6.4949,6.4949,6.4871,6.559,6.584,6.5777,6.5324,6.4528,6.4449,6.4668,6.5402,6.5465,6.5309,6.4934,6.5309,6.5887,6.6121,6.5715,6.4934,6.434,6.459,6.5309,6.5512,6.5574,6.5277,6.5231,6.5277,6.5949,6.6012,6.5606,6.5106,6.4684,6.4981,6.5621,6.584,6.5856,6.5324,6.5496,6.6012,6.6371,6.6152,6.5652,6.509,6.4949,6.5184,6.5637,6.5902,6.5481,6.5402,6.5668,6.6231,6.6356,6.5981,6.5215,6.4731,6.4996,6.5543,6.5887,6.5793,6.5496,6.5434,6.5684,6.6231,6.6246,6.559,6.5402,6.4856,6.5324,6.5762,6.5949,6.5871,6.5606,6.5699,6.6246,6.6574,6.6199,6.5762,6.5137,6.5371,6.5512,6.6043,6.6074,6.5981,6.584,6.6293,6.6559,6.6699,6.6324,6.5559,6.5231,6.5512,6.6152,6.6434,6.6387,6.6231,6.6246,6.6809,6.7059,6.6606,6.5981,6.5512,6.5543,6.6027,6.6449,6.6309,6.6106,6.5981,6.6402,6.6949,6.6762,6.659,6.5856,6.5449,6.5856,6.6137,6.6434,6.6402,6.6184,6.6199,6.6824,6.7059,6.6777,6.6137,6.5496,6.5356,6.2559,5.2044,4.7122,4.581,4.4404,4.3779,4.3232,4.3091,4.2716,4.2529,4.2373,4.2341,4.2435,4.2513,4.256,4.2763,4.2841,4.281,4.2794,4.2748,4.2779,4.2763,4.281,4.2841,4.2779,4.2638,4.2388,4.2341,4.2341,4.2388,4.2435,4.2544,4.281,4.3013,4.3029,4.3138,4.3154,4.3154,4.3201,4.3294,4.331,4.3185,4.3435,4.3279,4.3138,4.3044,4.2998,4.2763,4.2623,4.2685,4.2826,4.2701,4.2857,4.3029,4.2919,4.3013,4.2935,4.2826,4.2873,4.2888,4.2951,4.3013,4.2998,4.2904,4.2498,4.2154,4.2154,4.2201,4.2279,4.2388,4.2638,4.2716,4.4622,4.8028,5.4356,5.9747,6.3965,6.5621,6.8012,6.8059,6.7684,6.6731,6.5652,6.5402,6.559,6.6434,6.6668,6.6621,6.6481,6.6512,6.6918,6.7137,6.698,6.6481,6.6184,6.5949,6.6309,6.6699,6.6559,6.6324,6.6324,6.6637,6.7137,6.7215,6.6731,6.6481,6.6152,6.6168,6.659,6.6715,6.6465,6.6324,6.6402,6.6934,6.7246,6.7105,6.6574,6.5824,6.5934,6.6262,6.6481,6.6371,6.634,6.6184,6.6762,6.7121,6.7184,6.6871,6.6152,6.5981,6.5918,6.6527,6.6465,6.6293,6.6168,6.6465,6.6543,6.6902,6.6824,6.6199,6.5824,6.5668,6.5981,6.6277,6.6184,6.5981,6.5918,6.6152,6.6715,6.6824,6.6684,6.6074,6.5777,6.5793,6.6121,6.6231,6.6012,6.5887,6.5809,6.6387,6.6793,6.6871,6.6262,6.5606,6.5621,6.5777,6.6168,6.5918,6.5856,6.5824,6.6059,6.6434,6.6731,6.6371,6.6137,6.5512,6.5418,6.6059,6.6121,6.6027,6.5715,6.5871,6.6199,6.6543,6.6652,6.6246,6.5637,6.5418,6.5434,6.5918,6.5918,6.5793,6.5574,6.5574,6.5902,6.6512,6.6277,6.5793,6.5512,6.5277,6.5465,6.5699,6.5684,6.5574,6.5559,6.559,6.6152,6.6324,6.5902,6.5699,6.5231,6.5199,6.5496,6.5731,6.5606,6.5277,6.5324,6.5543,6.6231,6.6246,6.5809,6.4528,5.5059,5.0872,4.6638,4.4779,4.4279,4.3716,4.3591,4.3591,4.3888,4.6497,4.8732,4.97,5.156,5.3731,5.2013,5.3294,5.4028,5.3825,5.3356,5.2231,5.1934,5.1966,5.2013,5.2388,5.2997,5.3153,5.2794,5.2263,5.1888,5.1778,5.1997,5.2794,5.3059,5.3356,5.3544,5.3278,5.2825,5.2138,5.1981,5.2294,5.2622,5.2934,5.3388,5.3372,5.2731,5.2013,5.1903,5.2059,5.2575,5.2856,5.3481,5.3809,5.3481,5.3216,5.2591,5.22,5.2169,5.2466,5.2778,5.3231,5.3356,5.3122,5.2294,5.1856,5.1856,5.2466,5.2888,5.3075,5.3809,5.3903,5.3294,5.2809,5.2372,5.2278,5.2356,5.2778,5.3403,5.3481,5.3169,5.2653,5.1997,5.195,5.2325,5.3028,5.345,5.3809,5.4106,5.3544,5.2997,5.2497,5.2419,5.2606,5.2919,5.3091,5.3669,5.3513,5.2997,5.2294,5.2309,5.2419,5.2809,5.3591,5.3872,5.4184,5.3794,5.3059,5.2544,5.2513,5.2716,5.2903,5.3341,5.3653,5.3684,5.3278,5.2591,5.2247,5.2434,5.295,5.3481,5.3747,5.4434,5.4044,5.3122,5.2903,5.2528,5.2466,5.32,5.3278,5.3638,5.3544,5.345,5.2638,5.2169,5.2622,5.2841,5.3309,5.3966,5.4262,5.4184,5.3466,5.2903,5.2638,5.2638,5.2997,5.3278,5.3731,5.3638,5.3403,5.2934,5.2294,5.2544,5.2809,5.3638,5.4106,5.4419,5.4294,5.2856,4.9122,4.7435,4.5294,4.4091,4.3669,4.3247,4.281,4.2982,4.431,4.6888,4.9294,5.0356,5.2528,5.2825,5.1544,5.3028,5.3059,5.3419,5.3497,5.3731,5.3794,5.3825,5.3403,5.2888,5.2716,5.2684,5.2981,5.3388,5.3606,5.3575,5.3138,5.2669,5.2591,5.2606,5.2841,5.3091,5.3934,5.4059,5.3856,5.3716,5.3247,5.2778,5.2778,5.3122,5.3591,5.3716,5.3638,5.3403,5.2778,5.2575,5.2497,5.2778,5.2997,5.3513,5.395,5.3778,5.3466,5.3169,5.2716,5.2606,5.2778,5.3278,5.3356,5.3356,5.3153,5.2778,5.2606,5.2122,5.2419,5.2888,5.3122,5.3528,5.3919,5.3513,5.32,5.2747,5.2669,5.2653,5.3013,5.3544,5.3419,5.3153,5.2825,5.2638,5.2278,5.2216,5.2481,5.3091,5.3544,5.3716,5.3747,5.3388,5.2841,5.2559,5.2622,5.2872,5.3028,5.3153,5.3309,5.3091,5.2716,5.2325,5.2263,5.245,5.2716,5.3466,5.3606,5.3622,5.3356,5.3059,5.2669,5.2513,5.2669,5.32,5.3138,5.3184,5.3184,5.2653,5.2434,5.2075,5.2278,5.2747,5.2934,5.3466,5.3653,5.3419,5.295,5.2434,5.2278,5.2184,5.2653,5.3044,5.3169,5.2888,5.2622,5.2388,5.2106,5.195,5.2091,5.2528,5.3028,5.32,5.3403,5.3247,5.2731,5.2278,5.2231,5.2403,5.2575,5.2653,5.3106,5.2981,5.2466,5.22,5.1888,5.1903,5.0638,4.8935,4.6482,4.4716,4.4201,4.3591,4.3279,4.3169,4.3326,4.6154,4.92,5.0435,5.2138,5.3966,5.495,5.6606,5.8075,5.8481,5.8418,5.5325,6.5434,6.634,6.6996,6.7824,6.7855,6.7402,6.6465,6.5887,6.6152,6.6543,6.6996,6.7074,6.6902,6.6809,6.7184,6.7527,6.7574,6.6934,6.6262,6.6121,6.6574,6.7199,6.734,6.7074,6.6731,6.723,6.7559,6.7715,6.6965,6.6637,6.5981,6.6527,6.7027,6.7293,6.7184,6.6746,6.6902,6.7418,6.7871,6.723,6.6871,6.6231,6.6559,6.7121,6.734,6.7293,6.6902,6.7059,6.7559,6.8012,6.7465,6.6715,6.6465,6.659,6.723,6.7371,6.7371,6.698,6.698,6.7574,6.8012,6.7652,6.723,6.6496,6.6512,6.6824,6.7418,6.7418,6.7152,6.6949,6.7559,6.8059,6.8105,6.7418,6.6762,6.6762,6.7152,6.7668,6.7809,6.748,6.7293,6.7559,6.8152,6.8074,6.7559,6.6793,6.6621,6.6934,6.7668,6.7902,6.7621,6.723,6.773,6.7902,6.8277,6.7527,6.6762,6.6418,6.6996,6.7762,6.7918,6.7715,6.7434,6.7684,6.8121,6.834,6.7965,6.748,6.6856,6.7262,6.8059,6.8137,6.7949,6.7621,6.798,6.8215,6.8621,6.8215,6.7668,6.6918,6.7465,6.7762,6.8262,6.809,6.7621,6.7605,6.8449,6.8621,6.8387,6.7418,6.6934,6.7527,6.7871,6.8324,6.8246,6.7871,6.7855,6.8434,6.8793,6.8434,6.7293,5.87,5.345,4.7575,4.5154,4.4029,4.3732,4.3451,4.3044,4.2935,4.2935,4.2857,4.281,4.2904,4.306,4.2998,4.3013,4.3107,4.3263,4.3232,4.3185,4.3185,4.3076,4.3201,4.3232,4.3107,4.2873,4.2748,4.256,4.2123,4.2029,4.2013,4.2216,4.2388,4.2466,4.2748,4.2763,4.2685,4.2716,4.2685,4.2669,4.2498,4.2748,4.2826,4.2763,4.2685,4.2513,4.2388,4.2341,4.2435,4.256,4.2748,4.2951,4.3138,4.3216,4.3154,4.3138,4.3357,4.3357,4.331,4.3326,4.3341,4.3185,4.3185,4.3169,4.2857,4.2654,4.2716,4.2732,4.2701,4.2748,4.2919,4.2951,4.3216,4.9232,5.5809,5.97,6.5762,6.8043,6.8871,6.8605,6.8309,6.8121,6.8012,6.7652,6.7574,6.7559,6.7996,6.8262,6.8168,6.8059,6.784,6.8027,6.8324,6.8465,6.8121,6.7559,6.7434,6.7652,6.8027,6.8059,6.7949,6.7777,6.8105,6.8402,6.8668,6.823,6.784,6.7496,6.7746,6.7996,6.8027,6.784,6.7871,6.7855,6.8277,6.8527,6.8074,6.7746,6.7355,6.7543,6.7793,6.7887,6.7746,6.7746,6.7809,6.8309,6.8449,6.7934,6.7699,6.7199,6.7527,6.7809,6.8012,6.7652,6.7684,6.7809,6.8152,6.8496,6.8543,6.7902,6.7434,6.7527,6.773,6.7996,6.7762,6.7715,6.7777,6.8012,6.8293,6.8215,6.7746,6.7262,6.7215,6.7621,6.7871,6.7809,6.7605,6.7699,6.809,6.8434,6.8246,6.7762,6.7512,6.7293,6.7652,6.784,6.7824,6.759,6.7527,6.7824,6.8105,6.8184,6.7715,6.7387,6.6996,6.7371,6.7496,6.7574,6.7371,6.7324,6.7309,6.7965,6.8105,6.7902,6.7324,6.6996,6.7152,6.7449,6.7465,6.7371,6.7215,6.7324,6.784,6.8215,6.798,6.7402,6.6996,6.698,6.7387,6.7496,6.7215,6.7168,6.7262,6.7762,6.8074,6.7934,6.7309,6.684,6.6918,6.723,6.7418,6.7293,6.7246,6.7277,6.7652,6.784,6.7965,6.7199,6.7027,6.6746,6.6949,6.6199,6.1293,5.0403,4.6513,4.5669,4.4591,4.3904,4.3497,4.3419,4.3154,4.3013,4.2982,4.2857,4.2873,4.2919,4.2919,4.2966,4.2607,4.2544,4.2263,4.2232,4.2248,4.2341,4.2388,4.2654,4.2966,4.3091,4.306,4.2951,4.306,4.3029,4.3154,4.3232,4.3294,4.3294,4.3388,4.3326,4.3138,4.2982,4.2951,4.2732,4.2654,4.2826,4.2779,4.2794,4.3029,4.2951,4.3029,4.2982,4.2966,4.3044,4.3107,4.306,4.2998,4.3044,4.2826,4.256,4.2482,4.206,4.206,4.2185,4.2294,4.2451,4.2732,4.2763,4.2982,4.2982,4.306,4.3091,4.3123,4.3138,4.3216,4.3388,4.6966,4.7669,4.8794,4.9435,4.9528,4.9513,4.895,4.8497,4.8403,4.906,5.0263,5.056,5.07,5.0778,4.9997,4.9669,4.8653,4.7872,4.8091,4.8325,4.9263,4.9903,5.02,5.045,5.0106,4.9466,4.895,4.8169,4.82,4.881,4.9138,4.9888,5.0497,5.0731,5.0575,5.0091,4.9497,4.8669,4.8185,4.8263,4.8544,4.9341,5.0138,5.0466,5.0731,5.0231,4.9435,4.895,4.8357,4.8278,4.8966,4.9403,5.031,5.0888,5.0997,5.0466,4.9575,4.9122,4.8278,4.8153,4.8232,4.8607,4.9653,5.0575,5.0794,5.0497,4.9778,4.9122,4.8903,4.845,4.8482,4.8716,4.97,5.0778,5.0888,5.0794,5.0185,4.9528,4.9153,4.8294,4.8044,4.8653,4.9278,5.0169,5.0747,5.0669,5.045,4.995,4.8919,4.8419,4.8278,4.8872,4.9513,5.02,5.0591,5.0966,5.0763,5.0138,4.8982,4.856,4.8278,4.8591,4.9278,4.9606,5.0169,5.0825,5.0763,5.0216,4.9247,4.8669,4.856,4.8591,4.9138,4.9731,5.0685,5.1216,5.0997,5.0544,4.9638,4.8747,4.8482,4.8403,4.8841,4.9841,5.0278,5.081,5.0841,5.0419,4.9716,4.8966,4.8544,4.856,4.895,4.9872,5.0466,5.1169,5.1028,5.0403,5.0044,4.9341,4.8607,4.8185,4.8388,4.9482,5.0497,5.0872,5.0919,5.0513,5.0153,4.6685,4.3872,4.3435,4.331,4.3247,4.3232,4.2873,4.2966,4.2748,4.2466,4.2341,4.2232,4.2279,4.2357,4.256,4.2904,4.3013,4.3107,4.3138,4.3123,4.3154,4.3232,4.3216,4.3279,4.3341,4.3357,4.3294,4.3138,4.3044,4.2982,4.2888,4.281,4.2701,4.2841,4.2919,4.2919,4.3185,4.3123,4.3076],\"type\":\"scatter\"}],                        {\"template\":{\"data\":{\"bar\":[{\"error_x\":{\"color\":\"#2a3f5f\"},\"error_y\":{\"color\":\"#2a3f5f\"},\"marker\":{\"line\":{\"color\":\"#E5ECF6\",\"width\":0.5},\"pattern\":{\"fillmode\":\"overlay\",\"size\":10,\"solidity\":0.2}},\"type\":\"bar\"}],\"barpolar\":[{\"marker\":{\"line\":{\"color\":\"#E5ECF6\",\"width\":0.5},\"pattern\":{\"fillmode\":\"overlay\",\"size\":10,\"solidity\":0.2}},\"type\":\"barpolar\"}],\"carpet\":[{\"aaxis\":{\"endlinecolor\":\"#2a3f5f\",\"gridcolor\":\"white\",\"linecolor\":\"white\",\"minorgridcolor\":\"white\",\"startlinecolor\":\"#2a3f5f\"},\"baxis\":{\"endlinecolor\":\"#2a3f5f\",\"gridcolor\":\"white\",\"linecolor\":\"white\",\"minorgridcolor\":\"white\",\"startlinecolor\":\"#2a3f5f\"},\"type\":\"carpet\"}],\"choropleth\":[{\"colorbar\":{\"outlinewidth\":0,\"ticks\":\"\"},\"type\":\"choropleth\"}],\"contour\":[{\"colorbar\":{\"outlinewidth\":0,\"ticks\":\"\"},\"colorscale\":[[0.0,\"#0d0887\"],[0.1111111111111111,\"#46039f\"],[0.2222222222222222,\"#7201a8\"],[0.3333333333333333,\"#9c179e\"],[0.4444444444444444,\"#bd3786\"],[0.5555555555555556,\"#d8576b\"],[0.6666666666666666,\"#ed7953\"],[0.7777777777777778,\"#fb9f3a\"],[0.8888888888888888,\"#fdca26\"],[1.0,\"#f0f921\"]],\"type\":\"contour\"}],\"contourcarpet\":[{\"colorbar\":{\"outlinewidth\":0,\"ticks\":\"\"},\"type\":\"contourcarpet\"}],\"heatmap\":[{\"colorbar\":{\"outlinewidth\":0,\"ticks\":\"\"},\"colorscale\":[[0.0,\"#0d0887\"],[0.1111111111111111,\"#46039f\"],[0.2222222222222222,\"#7201a8\"],[0.3333333333333333,\"#9c179e\"],[0.4444444444444444,\"#bd3786\"],[0.5555555555555556,\"#d8576b\"],[0.6666666666666666,\"#ed7953\"],[0.7777777777777778,\"#fb9f3a\"],[0.8888888888888888,\"#fdca26\"],[1.0,\"#f0f921\"]],\"type\":\"heatmap\"}],\"heatmapgl\":[{\"colorbar\":{\"outlinewidth\":0,\"ticks\":\"\"},\"colorscale\":[[0.0,\"#0d0887\"],[0.1111111111111111,\"#46039f\"],[0.2222222222222222,\"#7201a8\"],[0.3333333333333333,\"#9c179e\"],[0.4444444444444444,\"#bd3786\"],[0.5555555555555556,\"#d8576b\"],[0.6666666666666666,\"#ed7953\"],[0.7777777777777778,\"#fb9f3a\"],[0.8888888888888888,\"#fdca26\"],[1.0,\"#f0f921\"]],\"type\":\"heatmapgl\"}],\"histogram\":[{\"marker\":{\"pattern\":{\"fillmode\":\"overlay\",\"size\":10,\"solidity\":0.2}},\"type\":\"histogram\"}],\"histogram2d\":[{\"colorbar\":{\"outlinewidth\":0,\"ticks\":\"\"},\"colorscale\":[[0.0,\"#0d0887\"],[0.1111111111111111,\"#46039f\"],[0.2222222222222222,\"#7201a8\"],[0.3333333333333333,\"#9c179e\"],[0.4444444444444444,\"#bd3786\"],[0.5555555555555556,\"#d8576b\"],[0.6666666666666666,\"#ed7953\"],[0.7777777777777778,\"#fb9f3a\"],[0.8888888888888888,\"#fdca26\"],[1.0,\"#f0f921\"]],\"type\":\"histogram2d\"}],\"histogram2dcontour\":[{\"colorbar\":{\"outlinewidth\":0,\"ticks\":\"\"},\"colorscale\":[[0.0,\"#0d0887\"],[0.1111111111111111,\"#46039f\"],[0.2222222222222222,\"#7201a8\"],[0.3333333333333333,\"#9c179e\"],[0.4444444444444444,\"#bd3786\"],[0.5555555555555556,\"#d8576b\"],[0.6666666666666666,\"#ed7953\"],[0.7777777777777778,\"#fb9f3a\"],[0.8888888888888888,\"#fdca26\"],[1.0,\"#f0f921\"]],\"type\":\"histogram2dcontour\"}],\"mesh3d\":[{\"colorbar\":{\"outlinewidth\":0,\"ticks\":\"\"},\"type\":\"mesh3d\"}],\"parcoords\":[{\"line\":{\"colorbar\":{\"outlinewidth\":0,\"ticks\":\"\"}},\"type\":\"parcoords\"}],\"pie\":[{\"automargin\":true,\"type\":\"pie\"}],\"scatter\":[{\"marker\":{\"colorbar\":{\"outlinewidth\":0,\"ticks\":\"\"}},\"type\":\"scatter\"}],\"scatter3d\":[{\"line\":{\"colorbar\":{\"outlinewidth\":0,\"ticks\":\"\"}},\"marker\":{\"colorbar\":{\"outlinewidth\":0,\"ticks\":\"\"}},\"type\":\"scatter3d\"}],\"scattercarpet\":[{\"marker\":{\"colorbar\":{\"outlinewidth\":0,\"ticks\":\"\"}},\"type\":\"scattercarpet\"}],\"scattergeo\":[{\"marker\":{\"colorbar\":{\"outlinewidth\":0,\"ticks\":\"\"}},\"type\":\"scattergeo\"}],\"scattergl\":[{\"marker\":{\"colorbar\":{\"outlinewidth\":0,\"ticks\":\"\"}},\"type\":\"scattergl\"}],\"scattermapbox\":[{\"marker\":{\"colorbar\":{\"outlinewidth\":0,\"ticks\":\"\"}},\"type\":\"scattermapbox\"}],\"scatterpolar\":[{\"marker\":{\"colorbar\":{\"outlinewidth\":0,\"ticks\":\"\"}},\"type\":\"scatterpolar\"}],\"scatterpolargl\":[{\"marker\":{\"colorbar\":{\"outlinewidth\":0,\"ticks\":\"\"}},\"type\":\"scatterpolargl\"}],\"scatterternary\":[{\"marker\":{\"colorbar\":{\"outlinewidth\":0,\"ticks\":\"\"}},\"type\":\"scatterternary\"}],\"surface\":[{\"colorbar\":{\"outlinewidth\":0,\"ticks\":\"\"},\"colorscale\":[[0.0,\"#0d0887\"],[0.1111111111111111,\"#46039f\"],[0.2222222222222222,\"#7201a8\"],[0.3333333333333333,\"#9c179e\"],[0.4444444444444444,\"#bd3786\"],[0.5555555555555556,\"#d8576b\"],[0.6666666666666666,\"#ed7953\"],[0.7777777777777778,\"#fb9f3a\"],[0.8888888888888888,\"#fdca26\"],[1.0,\"#f0f921\"]],\"type\":\"surface\"}],\"table\":[{\"cells\":{\"fill\":{\"color\":\"#EBF0F8\"},\"line\":{\"color\":\"white\"}},\"header\":{\"fill\":{\"color\":\"#C8D4E3\"},\"line\":{\"color\":\"white\"}},\"type\":\"table\"}]},\"layout\":{\"annotationdefaults\":{\"arrowcolor\":\"#2a3f5f\",\"arrowhead\":0,\"arrowwidth\":1},\"autotypenumbers\":\"strict\",\"coloraxis\":{\"colorbar\":{\"outlinewidth\":0,\"ticks\":\"\"}},\"colorscale\":{\"diverging\":[[0,\"#8e0152\"],[0.1,\"#c51b7d\"],[0.2,\"#de77ae\"],[0.3,\"#f1b6da\"],[0.4,\"#fde0ef\"],[0.5,\"#f7f7f7\"],[0.6,\"#e6f5d0\"],[0.7,\"#b8e186\"],[0.8,\"#7fbc41\"],[0.9,\"#4d9221\"],[1,\"#276419\"]],\"sequential\":[[0.0,\"#0d0887\"],[0.1111111111111111,\"#46039f\"],[0.2222222222222222,\"#7201a8\"],[0.3333333333333333,\"#9c179e\"],[0.4444444444444444,\"#bd3786\"],[0.5555555555555556,\"#d8576b\"],[0.6666666666666666,\"#ed7953\"],[0.7777777777777778,\"#fb9f3a\"],[0.8888888888888888,\"#fdca26\"],[1.0,\"#f0f921\"]],\"sequentialminus\":[[0.0,\"#0d0887\"],[0.1111111111111111,\"#46039f\"],[0.2222222222222222,\"#7201a8\"],[0.3333333333333333,\"#9c179e\"],[0.4444444444444444,\"#bd3786\"],[0.5555555555555556,\"#d8576b\"],[0.6666666666666666,\"#ed7953\"],[0.7777777777777778,\"#fb9f3a\"],[0.8888888888888888,\"#fdca26\"],[1.0,\"#f0f921\"]]},\"colorway\":[\"#636efa\",\"#EF553B\",\"#00cc96\",\"#ab63fa\",\"#FFA15A\",\"#19d3f3\",\"#FF6692\",\"#B6E880\",\"#FF97FF\",\"#FECB52\"],\"font\":{\"color\":\"#2a3f5f\"},\"geo\":{\"bgcolor\":\"white\",\"lakecolor\":\"white\",\"landcolor\":\"#E5ECF6\",\"showlakes\":true,\"showland\":true,\"subunitcolor\":\"white\"},\"hoverlabel\":{\"align\":\"left\"},\"hovermode\":\"closest\",\"mapbox\":{\"style\":\"light\"},\"paper_bgcolor\":\"white\",\"plot_bgcolor\":\"#E5ECF6\",\"polar\":{\"angularaxis\":{\"gridcolor\":\"white\",\"linecolor\":\"white\",\"ticks\":\"\"},\"bgcolor\":\"#E5ECF6\",\"radialaxis\":{\"gridcolor\":\"white\",\"linecolor\":\"white\",\"ticks\":\"\"}},\"scene\":{\"xaxis\":{\"backgroundcolor\":\"#E5ECF6\",\"gridcolor\":\"white\",\"gridwidth\":2,\"linecolor\":\"white\",\"showbackground\":true,\"ticks\":\"\",\"zerolinecolor\":\"white\"},\"yaxis\":{\"backgroundcolor\":\"#E5ECF6\",\"gridcolor\":\"white\",\"gridwidth\":2,\"linecolor\":\"white\",\"showbackground\":true,\"ticks\":\"\",\"zerolinecolor\":\"white\"},\"zaxis\":{\"backgroundcolor\":\"#E5ECF6\",\"gridcolor\":\"white\",\"gridwidth\":2,\"linecolor\":\"white\",\"showbackground\":true,\"ticks\":\"\",\"zerolinecolor\":\"white\"}},\"shapedefaults\":{\"line\":{\"color\":\"#2a3f5f\"}},\"ternary\":{\"aaxis\":{\"gridcolor\":\"white\",\"linecolor\":\"white\",\"ticks\":\"\"},\"baxis\":{\"gridcolor\":\"white\",\"linecolor\":\"white\",\"ticks\":\"\"},\"bgcolor\":\"#E5ECF6\",\"caxis\":{\"gridcolor\":\"white\",\"linecolor\":\"white\",\"ticks\":\"\"}},\"title\":{\"x\":0.05},\"xaxis\":{\"automargin\":true,\"gridcolor\":\"white\",\"linecolor\":\"white\",\"ticks\":\"\",\"title\":{\"standoff\":15},\"zerolinecolor\":\"white\",\"zerolinewidth\":2},\"yaxis\":{\"automargin\":true,\"gridcolor\":\"white\",\"linecolor\":\"white\",\"ticks\":\"\",\"title\":{\"standoff\":15},\"zerolinecolor\":\"white\",\"zerolinewidth\":2}}},\"yaxis\":{\"range\":[3.5,8]}},                        {\"responsive\": true}                    ).then(function(){\n",
       "                            \n",
       "var gd = document.getElementById('15c2a993-a71a-4926-8a72-d5081b31d07a');\n",
       "var x = new MutationObserver(function (mutations, observer) {{\n",
       "        var display = window.getComputedStyle(gd).display;\n",
       "        if (!display || display === 'none') {{\n",
       "            console.log([gd, 'removed!']);\n",
       "            Plotly.purge(gd);\n",
       "            observer.disconnect();\n",
       "        }}\n",
       "}});\n",
       "\n",
       "// Listen for the removal of the full notebook cells\n",
       "var notebookContainer = gd.closest('#notebook-container');\n",
       "if (notebookContainer) {{\n",
       "    x.observe(notebookContainer, {childList: true});\n",
       "}}\n",
       "\n",
       "// Listen for the clearing of the current output cell\n",
       "var outputEl = gd.closest('.output');\n",
       "if (outputEl) {{\n",
       "    x.observe(outputEl, {childList: true});\n",
       "}}\n",
       "\n",
       "                        })                };                            </script>        </div>\n",
       "</body>\n",
       "</html>"
      ]
     },
     "metadata": {},
     "output_type": "display_data"
    }
   ],
   "source": [
    "fig = make_subplots(rows=1, cols=2)\n",
    "fig = go.Figure()\n",
    "fig.add_trace(\n",
    "    go.Scatter(x=f50_2_2['hh:mm:ss:ms'], y=f50_2_2[' C1'],mode='markers', name='C1')\n",
    ")\n",
    "\n",
    "\n",
    "fig.update_yaxes(range=[3.5,8])\n",
    "fig.show()\n"
   ]
  },
  {
   "cell_type": "markdown",
   "id": "1a1c333e",
   "metadata": {
    "id": "1a1c333e"
   },
   "source": [
    "### * 좌표값 +전류"
   ]
  },
  {
   "cell_type": "code",
   "execution_count": null,
   "id": "0c3a2029",
   "metadata": {
    "id": "0c3a2029"
   },
   "outputs": [],
   "source": [
    "fig_x = go.Figure()\n",
    "\n",
    "fig_x.add_trace(\n",
    "    go.Scatter(x=f50_2_2['hh:mm:ss:ms'], y=f50_2_2[' x'], name='x')\n",
    ")\n",
    "\n",
    "\n",
    "fig_x.add_trace(\n",
    "    go.Scatter(x=f50_2_2['hh:mm:ss:ms'], y=f50_2_2[' y'], name='y')\n",
    ")\n",
    "\n",
    "\n",
    "\n",
    "fig_x.add_trace(\n",
    "    go.Scatter(x=f50_2_2['hh:mm:ss:ms'], y=f50_2_2[' z'], name='z')\n",
    ")\n",
    "\n",
    "\n",
    "fig_x.add_trace(\n",
    "    go.Scatter(x=f50_2_2['hh:mm:ss:ms'], y=f50_2_2[' C1'], name='C1')\n",
    ")\n",
    "fig_x.add_trace(\n",
    "    go.Scatter(x=f50_2_2['hh:mm:ss:ms'], y=f50_2_2[' C2'], name='C2')\n",
    ") \n",
    "fig_x.add_trace(\n",
    "    go.Scatter(x=f50_2_2['hh:mm:ss:ms'], y=f50_2_2[' C3'],name='C3')\n",
    ")\n",
    "fig_x.add_trace(\n",
    "    go.Scatter(x=f50_2_2['hh:mm:ss:ms'], y=f50_2_2[' C4'],name='C4')\n",
    ")\n",
    "\n",
    "fig_x.show()\n",
    "\n",
    "\n",
    "\n",
    "\n"
   ]
  },
  {
   "cell_type": "markdown",
   "id": "1e16e8cd",
   "metadata": {
    "id": "1e16e8cd"
   },
   "source": [
    "## 전처리"
   ]
  },
  {
   "cell_type": "markdown",
   "id": "d41aa3ea",
   "metadata": {
    "id": "d41aa3ea"
   },
   "source": [
    "상한값 하한값의 값이 같다 "
   ]
  },
  {
   "cell_type": "code",
   "execution_count": null,
   "id": "3aac1606-2992-4aff-b230-230ed9e4fe2b",
   "metadata": {
    "id": "7d96ef29"
   },
   "outputs": [],
   "source": [
    "fig_ul = go.Figure()\n",
    "fig_ul.add_trace(\n",
    "    go.Scatter(x=f50_2_2['hh:mm:ss:ms'], y = f50_2_2[' Ref_upper'],mode='markers', name='Ref_upper')\n",
    ")\n",
    "\n",
    "fig_ul.add_trace(\n",
    "    go.Scatter(x=f50_2_2['hh:mm:ss:ms'], y = f50_2_2[' Ref_lower'],mode='markers', name='Ref_lower')\n",
    ")\n",
    "\n",
    "fig_ul.show()\n"
   ]
  },
  {
   "cell_type": "markdown",
   "id": "5f14d0cd",
   "metadata": {
    "id": "5f14d0cd"
   },
   "source": [
    "spindle load\t제어를 위해 입력한 spindle load"
   ]
  },
  {
   "cell_type": "markdown",
   "id": "cb2251df",
   "metadata": {
    "id": "cb2251df"
   },
   "source": [
    "fig_s = go.Figure()\n",
    "fig_s.add_trace(\n",
    "    go.Scatter(x=f50_2_2['hh:mm:ss:ms'], y = f50_2_2[' spindle load'],mode='markers', name='spindle load')\n",
    ")\n",
    "\n",
    "fig_s.add_trace(\n",
    "    go.Scatter(x=f50_2_2['hh:mm:ss:ms'], y = f50_2_2[' C1'],mode='markers', name='C1')\n",
    ")\n",
    "\n",
    "fig_s.add_trace(\n",
    "    go.Scatter(x=f50_2_2['hh:mm:ss:ms'], y = f50_2_2[' C2'],mode='markers', name='C2')\n",
    ")\n",
    "\n",
    "fig_s.show()"
   ]
  },
  {
   "cell_type": "markdown",
   "id": "c1b0ff2d",
   "metadata": {
    "id": "c1b0ff2d"
   },
   "source": [
    "actLoad\t전류로 측정되는 공구 load 값이다."
   ]
  },
  {
   "cell_type": "markdown",
   "id": "f18d958f",
   "metadata": {
    "id": "f18d958f"
   },
   "source": [
    "\n",
    "    fig_a = go.Figure()\n",
    "    fig_b = go.Figure()\n",
    "    fig_a.add_trace(\n",
    "    go.Scatter(x=f50_2[0]['hh:mm:ss:ms'], y = f50_2[0][' actLoad'],mode='markers', name='actLoad2')\n",
    "    )\n",
    "    \n",
    "    fig_a.add_trace(\n",
    "    go.Scatter(x=f50_2[0]['hh:mm:ss:ms'], y = f50_2[1][' actLoad'],mode='markers', name='actLoad4')\n",
    "    )\n",
    "    \n",
    "    fig_a.add_trace(\n",
    "    go.Scatter(x=f50_2[0]['hh:mm:ss:ms'], y = f50_2[2][' actLoad'],mode='markers', name='actLoad6')\n",
    "    )\n",
    "    \n",
    "    fig_a.add_trace(\n",
    "    go.Scatter(x=f50_2[0]['hh:mm:ss:ms'], y = f50_2[3] [' actLoad'],mode='markers', name='actLoad7')\n",
    "    )\n",
    "   \n",
    "fig_b.add_trace(\n",
    "    go.Scatter(x=f50_2[0]['hh:mm:ss:ms'], y = f50_2[0][' C1'],mode='markers', name='C1_2')\n",
    "    )\n",
    "    \n",
    "    fig_b.add_trace(\n",
    "    go.Scatter(x=f50_2[0]['hh:mm:ss:ms'], y = f50_2[1][' C1'],mode='markers', name='C1_4')\n",
    "    )\n",
    "    \n",
    "    fig_b.add_trace(\n",
    "    go.Scatter(x=f50_2[0]['hh:mm:ss:ms'], y = f50_2[2][' C1'],mode='markers', name='C1_6')\n",
    "    )\n",
    "    \n",
    "    fig_b.add_trace(\n",
    "    go.Scatter(x=f50_2[0]['hh:mm:ss:ms'], y = f50_2[3] [' C1'],mode='markers', name='C1_7')\n",
    "    )\n",
    "   \n",
    "\n",
    "fig_a.show()\n",
    "fig_b.show()\n",
    "    "
   ]
  },
  {
   "cell_type": "markdown",
   "id": "52709e7b",
   "metadata": {
    "id": "52709e7b"
   },
   "source": [
    "fig_a = go.Figure()\n",
    "fig_a.add_trace(\n",
    "    go.Scatter(x=f50_2_2['hh:mm:ss:ms'], y = f50_2_2[' actLoad'],mode='markers', name='actLoad')\n",
    ")\n",
    "\n",
    "fig_a.add_trace(\n",
    "    go.Scatter(x=f50_2_2['hh:mm:ss:ms'], y = f50_2_2[' C1'],mode='markers', name='C1')\n",
    ")\n",
    "\n",
    "fig_a.add_trace(\n",
    "    go.Scatter(x=f50_2_2['hh:mm:ss:ms'], y = f50_2_2[' C2'],mode='markers', name='C2')\n",
    ")\n",
    "\n",
    "fig_a.show()"
   ]
  },
  {
   "cell_type": "markdown",
   "id": "a96928c1",
   "metadata": {
    "id": "a96928c1"
   },
   "source": [
    "시도 횟수별 act load 비교"
   ]
  },
  {
   "cell_type": "markdown",
   "id": "a1b3ab00",
   "metadata": {
    "id": "a1b3ab00"
   },
   "source": [
    "스케일 조정하고 \n",
    "\n",
    "이상치 제외 했고\n",
    "\n",
    "\n"
   ]
  },
  {
   "cell_type": "code",
   "execution_count": null,
   "id": "e0ebb16f",
   "metadata": {
    "id": "e0ebb16f",
    "outputId": "a88e9d0a-137f-4fa7-a227-844e4bdd0d3b"
   },
   "outputs": [
    {
     "data": {
      "text/plain": [
       "Index(['hh:mm:ss:ms', ' G-code', ' x', ' y', ' z', ' spindle load',\n",
       "       ' command RPM', ' command Feedrate', ' actual RPM', ' actual Feedrate',\n",
       "       ' actLoad', ' Ref_upper', ' Ref_lower', ' PLCFOV', ' AdaptiveOn', ' C1',\n",
       "       ' C2', ' C3', ' C4', ' M-code_8'],\n",
       "      dtype='object')"
      ]
     },
     "execution_count": 79,
     "metadata": {},
     "output_type": "execute_result"
    }
   ],
   "source": [
    "f50_2_2.columns"
   ]
  },
  {
   "cell_type": "code",
   "execution_count": null,
   "id": "44f6ddd5",
   "metadata": {
    "id": "44f6ddd5"
   },
   "outputs": [],
   "source": [
    "\n",
    "\n",
    "\n",
    "\n",
    "\n",
    "fig_s = go.Figure() \n",
    "\n",
    "\n",
    "\n",
    "fig_s.add_trace( go.Scatter(x=f50_2_2['hh:mm:ss:ms'], y = f50_2_2[' C1'],mode='markers', name='C1') )\n",
    "\n",
    "fig_s.add_trace( go.Scatter(x=f50_2_2['hh:mm:ss:ms'], y = f50_2_2[' C2'],mode='markers', name='C2') )\n",
    "\n",
    "fig_s.show()"
   ]
  },
  {
   "cell_type": "markdown",
   "id": "53ebaa95",
   "metadata": {
    "id": "53ebaa95"
   },
   "source": [
    "##  가공경로 별로 데이터 나누기 "
   ]
  },
  {
   "cell_type": "code",
   "execution_count": null,
   "id": "6be0e8fa",
   "metadata": {
    "id": "6be0e8fa",
    "outputId": "98a9144c-7f73-4913-d880-aa6af9992e5f"
   },
   "outputs": [
    {
     "name": "stdout",
     "output_type": "stream",
     "text": [
      "<class 'pandas.core.frame.DataFrame'>\n",
      "Int64Index: 4864 entries, 65 to 4928\n",
      "Data columns (total 20 columns):\n",
      " #   Column             Non-Null Count  Dtype  \n",
      "---  ------             --------------  -----  \n",
      " 0   hh:mm:ss:ms        4864 non-null   object \n",
      " 1    G-code            4864 non-null   int64  \n",
      " 2    x                 4864 non-null   float64\n",
      " 3    y                 4864 non-null   float64\n",
      " 4    z                 4864 non-null   float64\n",
      " 5    spindle load      4864 non-null   int64  \n",
      " 6    command RPM       4864 non-null   int64  \n",
      " 7    command Feedrate  4864 non-null   int64  \n",
      " 8    actual RPM        4864 non-null   int64  \n",
      " 9    actual Feedrate   4864 non-null   int64  \n",
      " 10   actLoad           4864 non-null   float64\n",
      " 11   Ref_upper         4864 non-null   float64\n",
      " 12   Ref_lower         4864 non-null   float64\n",
      " 13   PLCFOV            4864 non-null   int64  \n",
      " 14   AdaptiveOn        4864 non-null   int64  \n",
      " 15   C1                4864 non-null   float64\n",
      " 16   C2                4864 non-null   float64\n",
      " 17   C3                4864 non-null   float64\n",
      " 18   C4                4864 non-null   float64\n",
      " 19   M-code_8          4864 non-null   uint8  \n",
      "dtypes: float64(10), int64(8), object(1), uint8(1)\n",
      "memory usage: 764.8+ KB\n"
     ]
    }
   ],
   "source": [
    "f50_2_2.info()"
   ]
  },
  {
   "cell_type": "code",
   "execution_count": null,
   "id": "AlR5EP6LkmT1",
   "metadata": {
    "colab": {
     "base_uri": "https://localhost:8080/"
    },
    "id": "AlR5EP6LkmT1",
    "outputId": "f34beb0a-fd15-4642-8e58-1754a04b8068"
   },
   "outputs": [
    {
     "data": {
      "text/plain": [
       "range(0, 4864)"
      ]
     },
     "execution_count": 13,
     "metadata": {},
     "output_type": "execute_result"
    }
   ],
   "source": [
    "range(len(f50_2[0]))"
   ]
  },
  {
   "cell_type": "code",
   "execution_count": null,
   "id": "5_KJJvXFkkYU",
   "metadata": {
    "colab": {
     "base_uri": "https://localhost:8080/",
     "height": 1000
    },
    "id": "5_KJJvXFkkYU",
    "outputId": "ef09d0f7-049d-441f-dd00-dd95ec115cdd"
   },
   "outputs": [
    {
     "data": {
      "text/html": [
       "<html>\n",
       "<head><meta charset=\"utf-8\" /></head>\n",
       "<body>\n",
       "    <div>            <script src=\"https://cdnjs.cloudflare.com/ajax/libs/mathjax/2.7.5/MathJax.js?config=TeX-AMS-MML_SVG\"></script><script type=\"text/javascript\">if (window.MathJax) {MathJax.Hub.Config({SVG: {font: \"STIX-Web\"}});}</script>                <script type=\"text/javascript\">window.PlotlyConfig = {MathJaxConfig: 'local'};</script>\n",
       "        <script src=\"https://cdn.plot.ly/plotly-2.8.3.min.js\"></script>                <div id=\"d679a5a1-c6d8-466e-bb87-5b7f5840a055\" class=\"plotly-graph-div\" style=\"height:525px; width:100%;\"></div>            <script type=\"text/javascript\">                                    window.PLOTLYENV=window.PLOTLYENV || {};                                    if (document.getElementById(\"d679a5a1-c6d8-466e-bb87-5b7f5840a055\")) {                    Plotly.newPlot(                        \"d679a5a1-c6d8-466e-bb87-5b7f5840a055\",                        [{\"customdata\":[[0],[1],[2],[3],[4],[5],[6],[7],[8],[9],[10],[11],[12],[13],[14],[15],[16],[17],[18],[19],[20],[21],[22],[23],[24],[25],[26],[27],[28],[29],[30],[31],[32],[33],[34],[35],[36],[37],[38],[39],[40],[41],[42],[43],[44],[45],[46],[47],[48],[49],[50],[51],[52],[53],[54],[55],[56],[57],[58],[59],[60],[61],[62],[63],[64],[65],[66],[67],[68],[69],[70],[71],[72],[73],[74],[75],[76],[77],[78],[79],[80],[81],[82],[83],[84],[85],[86],[87],[88],[89],[90],[91],[92],[93],[94],[95],[96],[97],[98],[99],[100],[101],[102],[103],[104],[105],[106],[107],[108],[109],[110],[111],[112],[113],[114],[115],[116],[117],[118],[119],[120],[121],[122],[123],[124],[125],[126],[127],[128],[129],[130],[131],[132],[133],[134],[135],[136],[137],[138],[139],[140],[141],[142],[143],[144],[145],[146],[147],[148],[149],[150],[151],[152],[153],[154],[155],[156],[157],[158],[159],[160],[161],[162],[163],[164],[165],[166],[167],[168],[169],[170],[171],[172],[173],[174],[175],[176],[177],[178],[179],[180],[181],[182],[183],[184],[185],[186],[187],[188],[189],[190],[191],[192],[193],[194],[195],[196],[197],[198],[199],[200],[201],[202],[203],[204],[205],[206],[207],[208],[209],[210],[211],[212],[213],[214],[215],[216],[217],[218],[219],[220],[221],[222],[223],[224],[225],[226],[227],[228],[229],[230],[231],[232],[233],[234],[235],[236],[237],[238],[239],[240],[241],[242],[243],[244],[245],[246],[247],[248],[249],[250],[251],[252],[253],[254],[255],[256],[257],[258],[259],[260],[261],[262],[263],[264],[265],[266],[267],[268],[269],[270],[271],[272],[273],[274],[275],[276],[277],[278],[279],[280],[281],[282],[283],[284],[285],[286],[287],[288],[289],[290],[291],[292],[293],[294],[295],[296],[297],[298],[299],[300],[301],[302],[303],[304],[305],[306],[307],[308],[309],[310],[311],[312],[313],[314],[315],[316],[317],[318],[319],[320],[321],[322],[323],[324],[325],[326],[327],[328],[329],[330],[331],[332],[333],[334],[335],[336],[337],[338],[339],[340],[341],[342],[343],[344],[345],[346],[347],[348],[349],[350],[351],[352],[353],[354],[355],[356],[357],[358],[359],[360],[361],[362],[363],[364],[365],[366],[367],[368],[369],[370],[371],[372],[373],[374],[375],[376],[377],[378],[379],[380],[381],[382],[383],[384],[385],[386],[387],[388],[389],[390],[391],[392],[393],[394],[395],[396],[397],[398],[399],[400],[401],[402],[403],[404],[405],[406],[407],[408],[409],[410],[411],[412],[413],[414],[415],[416],[417],[418],[419],[420],[421],[422],[423],[424],[425],[426],[427],[428],[429],[430],[431],[432],[433],[434],[435],[436],[437],[438],[439],[440],[441],[442],[443],[444],[445],[446],[447],[448],[449],[450],[451],[452],[453],[454],[455],[456],[457],[458],[459],[460],[461],[462],[463],[464],[465],[466],[467],[468],[469],[470],[471],[472],[473],[474],[475],[476],[477],[478],[479],[480],[481],[482],[483],[484],[485],[486],[487],[488],[489],[490],[491],[492],[493],[494],[495],[496],[497],[498],[499],[500],[501],[502],[503],[504],[505],[506],[507],[508],[509],[510],[511],[512],[513],[514],[515],[516],[517],[518],[519],[520],[521],[522],[523],[524],[525],[526],[527],[528],[529],[530],[531],[532],[533],[534],[535],[536],[537],[538],[539],[540],[541],[542],[543],[544],[545],[546],[547],[548],[549],[550],[551],[552],[553],[554],[555],[556],[557],[558],[559],[560],[561],[562],[563],[564],[565],[566],[567],[568],[569],[570],[571],[572],[573],[574],[575],[576],[577],[578],[579],[580],[581],[582],[583],[584],[585],[586],[587],[588],[589],[590],[591],[592],[593],[594],[595],[596],[597],[598],[599],[600],[601],[602],[603],[604],[605],[606],[607],[608],[609],[610],[611],[612],[613],[614],[615],[616],[617],[618],[619],[620],[621],[622],[623],[624],[625],[626],[627],[628],[629],[630],[631],[632],[633],[634],[635],[636],[637],[638],[639],[640],[641],[642],[643],[644],[645],[646],[647],[648],[649],[650],[651],[652],[653],[654],[655],[656],[657],[658],[659],[660],[661],[662],[663],[664],[665],[666],[667],[668],[669],[670],[671],[672],[673],[674],[675],[676],[677],[678],[679],[680],[681],[682],[683],[684],[685],[686],[687],[688],[689],[690],[691],[692],[693],[694],[695],[696],[697],[698],[699],[700],[701],[702],[703],[704],[705],[706],[707],[708],[709],[710],[711],[712],[713],[714],[715],[716],[717],[718],[719],[720],[721],[722],[723],[724],[725],[726],[727],[728],[729],[730],[731],[732],[733],[734],[735],[736],[737],[738],[739],[740],[741],[742],[743],[744],[745],[746],[747],[748],[749],[750],[751],[752],[753],[754],[755],[756],[757],[758],[759],[760],[761],[762],[763],[764],[765],[766],[767],[768],[769],[770],[771],[772],[773],[774],[775],[776],[777],[778],[779],[780],[781],[782],[783],[784],[785],[786],[787],[788],[789],[790],[791],[792],[793],[794],[795],[796],[797],[798],[799],[800],[801],[802],[803],[804],[805],[806],[807],[808],[809],[810],[811],[812],[813],[814],[815],[816],[817],[818],[819],[820],[821],[822],[823],[824],[825],[826],[827],[828],[829],[830],[831],[832],[833],[834],[835],[836],[837],[838],[839],[840],[841],[842],[843],[844],[845],[846],[847],[848],[849],[850],[851],[852],[853],[854],[855],[856],[857],[858],[859],[860],[861],[862],[863],[864],[865],[866],[867],[868],[869],[870],[871],[872],[873],[874],[875],[876],[877],[878],[879],[880],[881],[882],[883],[884],[885],[886],[887],[888],[889],[890],[891],[892],[893],[894],[895],[896],[897],[898],[899],[900],[901],[902],[903],[904],[905],[906],[907],[908],[909],[910],[911],[912],[913],[914],[915],[916],[917],[918],[919],[920],[921],[922],[923],[924],[925],[926],[927],[928],[929],[930],[931],[932],[933],[934],[935],[936],[937],[938],[939],[940],[941],[942],[943],[944],[945],[946],[947],[948],[949],[950],[951],[952],[953],[954],[955],[956],[957],[958],[959],[960],[961],[962],[963],[964],[965],[966],[967],[968],[969],[970],[971],[972],[973],[974],[975],[976],[977],[978],[979],[980],[981],[982],[983],[984],[985],[986],[987],[988],[989],[990],[991],[992],[993],[994],[995],[996],[997],[998],[999],[1000],[1001],[1002],[1003],[1004],[1005],[1006],[1007],[1008],[1009],[1010],[1011],[1012],[1013],[1014],[1015],[1016],[1017],[1018],[1019],[1020],[1021],[1022],[1023],[1024],[1025],[1026],[1027],[1028],[1029],[1030],[1031],[1032],[1033],[1034],[1035],[1036],[1037],[1038],[1039],[1040],[1041],[1042],[1043],[1044],[1045],[1046],[1047],[1048],[1049],[1050],[1051],[1052],[1053],[1054],[1055],[1056],[1057],[1058],[1059],[1060],[1061],[1062],[1063],[1064],[1065],[1066],[1067],[1068],[1069],[1070],[1071],[1072],[1073],[1074],[1075],[1076],[1077],[1078],[1079],[1080],[1081],[1082],[1083],[1084],[1085],[1086],[1087],[1088],[1089],[1090],[1091],[1092],[1093],[1094],[1095],[1096],[1097],[1098],[1099],[1100],[1101],[1102],[1103],[1104],[1105],[1106],[1107],[1108],[1109],[1110],[1111],[1112],[1113],[1114],[1115],[1116],[1117],[1118],[1119],[1120],[1121],[1122],[1123],[1124],[1125],[1126],[1127],[1128],[1129],[1130],[1131],[1132],[1133],[1134],[1135],[1136],[1137],[1138],[1139],[1140],[1141],[1142],[1143],[1144],[1145],[1146],[1147],[1148],[1149],[1150],[1151],[1152],[1153],[1154],[1155],[1156],[1157],[1158],[1159],[1160],[1161],[1162],[1163],[1164],[1165],[1166],[1167],[1168],[1169],[1170],[1171],[1172],[1173],[1174],[1175],[1176],[1177],[1178],[1179],[1180],[1181],[1182],[1183],[1184],[1185],[1186],[1187],[1188],[1189],[1190],[1191],[1192],[1193],[1194],[1195],[1196],[1197],[1198],[1199],[1200],[1201],[1202],[1203],[1204],[1205],[1206],[1207],[1208],[1209],[1210],[1211],[1212],[1213],[1214],[1215],[1216],[1217],[1218],[1219],[1220],[1221],[1222],[1223],[1224],[1225],[1226],[1227],[1228],[1229],[1230],[1231],[1232],[1233],[1234],[1235],[1236],[1237],[1238],[1239],[1240],[1241],[1242],[1243],[1244],[1245],[1246],[1247],[1248],[1249],[1250],[1251],[1252],[1253],[1254],[1255],[1256],[1257],[1258],[1259],[1260],[1261],[1262],[1263],[1264],[1265],[1266],[1267],[1268],[1269],[1270],[1271],[1272],[1273],[1274],[1275],[1276],[1277],[1278],[1279],[1280],[1281],[1282],[1283],[1284],[1285],[1286],[1287],[1288],[1289],[1290],[1291],[1292],[1293],[1294],[1295],[1296],[1297],[1298],[1299],[1300],[1301],[1302],[1303],[1304],[1305],[1306],[1307],[1308],[1309],[1310],[1311],[1312],[1313],[1314],[1315],[1316],[1317],[1318],[1319],[1320],[1321],[1322],[1323],[1324],[1325],[1326],[1327],[1328],[1329],[1330],[1331],[1332],[1333],[1334],[1335],[1336],[1337],[1338],[1339],[1340],[1341],[1342],[1343],[1344],[1345],[1346],[1347],[1348],[1349],[1350],[1351],[1352],[1353],[1354],[1355],[1356],[1357],[1358],[1359],[1360],[1361],[1362],[1363],[1364],[1365],[1366],[1367],[1368],[1369],[1370],[1371],[1372],[1373],[1374],[1375],[1376],[1377],[1378],[1379],[1380],[1381],[1382],[1383],[1384],[1385],[1386],[1387],[1388],[1389],[1390],[1391],[1392],[1393],[1394],[1395],[1396],[1397],[1398],[1399],[1400],[1401],[1402],[1403],[1404],[1405],[1406],[1407],[1408],[1409],[1410],[1411],[1412],[1413],[1414],[1415],[1416],[1417],[1418],[1419],[1420],[1421],[1422],[1423],[1424],[1425],[1426],[1427],[1428],[1429],[1430],[1431],[1432],[1433],[1434],[1435],[1436],[1437],[1438],[1439],[1440],[1441],[1442],[1443],[1444],[1445],[1446],[1447],[1448],[1449],[1450],[1451],[1452],[1453],[1454],[1455],[1456],[1457],[1458],[1459],[1460],[1461],[1462],[1463],[1464],[1465],[1466],[1467],[1468],[1469],[1470],[1471],[1472],[1473],[1474],[1475],[1476],[1477],[1478],[1479],[1480],[1481],[1482],[1483],[1484],[1485],[1486],[1487],[1488],[1489],[1490],[1491],[1492],[1493],[1494],[1495],[1496],[1497],[1498],[1499],[1500],[1501],[1502],[1503],[1504],[1505],[1506],[1507],[1508],[1509],[1510],[1511],[1512],[1513],[1514],[1515],[1516],[1517],[1518],[1519],[1520],[1521],[1522],[1523],[1524],[1525],[1526],[1527],[1528],[1529],[1530],[1531],[1532],[1533],[1534],[1535],[1536],[1537],[1538],[1539],[1540],[1541],[1542],[1543],[1544],[1545],[1546],[1547],[1548],[1549],[1550],[1551],[1552],[1553],[1554],[1555],[1556],[1557],[1558],[1559],[1560],[1561],[1562],[1563],[1564],[1565],[1566],[1567],[1568],[1569],[1570],[1571],[1572],[1573],[1574],[1575],[1576],[1577],[1578],[1579],[1580],[1581],[1582],[1583],[1584],[1585],[1586],[1587],[1588],[1589],[1590],[1591],[1592],[1593],[1594],[1595],[1596],[1597],[1598],[1599],[1600],[1601],[1602],[1603],[1604],[1605],[1606],[1607],[1608],[1609],[1610],[1611],[1612],[1613],[1614],[1615],[1616],[1617],[1618],[1619],[1620],[1621],[1622],[1623],[1624],[1625],[1626],[1627],[1628],[1629],[1630],[1631],[1632],[1633],[1634],[1635],[1636],[1637],[1638],[1639],[1640],[1641],[1642],[1643],[1644],[1645],[1646],[1647],[1648],[1649],[1650],[1651],[1652],[1653],[1654],[1655],[1656],[1657],[1658],[1659],[1660],[1661],[1662],[1663],[1664],[1665],[1666],[1667],[1668],[1669],[1670],[1671],[1672],[1673],[1674],[1675],[1676],[1677],[1678],[1679],[1680],[1681],[1682],[1683],[1684],[1685],[1686],[1687],[1688],[1689],[1690],[1691],[1692],[1693],[1694],[1695],[1696],[1697],[1698],[1699],[1700],[1701],[1702],[1703],[1704],[1705],[1706],[1707],[1708],[1709],[1710],[1711],[1712],[1713],[1714],[1715],[1716],[1717],[1718],[1719],[1720],[1721],[1722],[1723],[1724],[1725],[1726],[1727],[1728],[1729],[1730],[1731],[1732],[1733],[1734],[1735],[1736],[1737],[1738],[1739],[1740],[1741],[1742],[1743],[1744],[1745],[1746],[1747],[1748],[1749],[1750],[1751],[1752],[1753],[1754],[1755],[1756],[1757],[1758],[1759],[1760],[1761],[1762],[1763],[1764],[1765],[1766],[1767],[1768],[1769],[1770],[1771],[1772],[1773],[1774],[1775],[1776],[1777],[1778],[1779],[1780],[1781],[1782],[1783],[1784],[1785],[1786],[1787],[1788],[1789],[1790],[1791],[1792],[1793],[1794],[1795],[1796],[1797],[1798],[1799],[1800],[1801],[1802],[1803],[1804],[1805],[1806],[1807],[1808],[1809],[1810],[1811],[1812],[1813],[1814],[1815],[1816],[1817],[1818],[1819],[1820],[1821],[1822],[1823],[1824],[1825],[1826],[1827],[1828],[1829],[1830],[1831],[1832],[1833],[1834],[1835],[1836],[1837],[1838],[1839],[1840],[1841],[1842],[1843],[1844],[1845],[1846],[1847],[1848],[1849],[1850],[1851],[1852],[1853],[1854],[1855],[1856],[1857],[1858],[1859],[1860],[1861],[1862],[1863],[1864],[1865],[1866],[1867],[1868],[1869],[1870],[1871],[1872],[1873],[1874],[1875],[1876],[1877],[1878],[1879],[1880],[1881],[1882],[1883],[1884],[1885],[1886],[1887],[1888],[1889],[1890],[1891],[1892],[1893],[1894],[1895],[1896],[1897],[1898],[1899],[1900],[1901],[1902],[1903],[1904],[1905],[1906],[1907],[1908],[1909],[1910],[1911],[1912],[1913],[1914],[1915],[1916],[1917],[1918],[1919],[1920],[1921],[1922],[1923],[1924],[1925],[1926],[1927],[1928],[1929],[1930],[1931],[1932],[1933],[1934],[1935],[1936],[1937],[1938],[1939],[1940],[1941],[1942],[1943],[1944],[1945],[1946],[1947],[1948],[1949],[1950],[1951],[1952],[1953],[1954],[1955],[1956],[1957],[1958],[1959],[1960],[1961],[1962],[1963],[1964],[1965],[1966],[1967],[1968],[1969],[1970],[1971],[1972],[1973],[1974],[1975],[1976],[1977],[1978],[1979],[1980],[1981],[1982],[1983],[1984],[1985],[1986],[1987],[1988],[1989],[1990],[1991],[1992],[1993],[1994],[1995],[1996],[1997],[1998],[1999],[2000],[2001],[2002],[2003],[2004],[2005],[2006],[2007],[2008],[2009],[2010],[2011],[2012],[2013],[2014],[2015],[2016],[2017],[2018],[2019],[2020],[2021],[2022],[2023],[2024],[2025],[2026],[2027],[2028],[2029],[2030],[2031],[2032],[2033],[2034],[2035],[2036],[2037],[2038],[2039],[2040],[2041],[2042],[2043],[2044],[2045],[2046],[2047],[2048],[2049],[2050],[2051],[2052],[2053],[2054],[2055],[2056],[2057],[2058],[2059],[2060],[2061],[2062],[2063],[2064],[2065],[2066],[2067],[2068],[2069],[2070],[2071],[2072],[2073],[2074],[2075],[2076],[2077],[2078],[2079],[2080],[2081],[2082],[2083],[2084],[2085],[2086],[2087],[2088],[2089],[2090],[2091],[2092],[2093],[2094],[2095],[2096],[2097],[2098],[2099],[2100],[2101],[2102],[2103],[2104],[2105],[2106],[2107],[2108],[2109],[2110],[2111],[2112],[2113],[2114],[2115],[2116],[2117],[2118],[2119],[2120],[2121],[2122],[2123],[2124],[2125],[2126],[2127],[2128],[2129],[2130],[2131],[2132],[2133],[2134],[2135],[2136],[2137],[2138],[2139],[2140],[2141],[2142],[2143],[2144],[2145],[2146],[2147],[2148],[2149],[2150],[2151],[2152],[2153],[2154],[2155],[2156],[2157],[2158],[2159],[2160],[2161],[2162],[2163],[2164],[2165],[2166],[2167],[2168],[2169],[2170],[2171],[2172],[2173],[2174],[2175],[2176],[2177],[2178],[2179],[2180],[2181],[2182],[2183],[2184],[2185],[2186],[2187],[2188],[2189],[2190],[2191],[2192],[2193],[2194],[2195],[2196],[2197],[2198],[2199],[2200],[2201],[2202],[2203],[2204],[2205],[2206],[2207],[2208],[2209],[2210],[2211],[2212],[2213],[2214],[2215],[2216],[2217],[2218],[2219],[2220],[2221],[2222],[2223],[2224],[2225],[2226],[2227],[2228],[2229],[2230],[2231],[2232],[2233],[2234],[2235],[2236],[2237],[2238],[2239],[2240],[2241],[2242],[2243],[2244],[2245],[2246],[2247],[2248],[2249],[2250],[2251],[2252],[2253],[2254],[2255],[2256],[2257],[2258],[2259],[2260],[2261],[2262],[2263],[2264],[2265],[2266],[2267],[2268],[2269],[2270],[2271],[2272],[2273],[2274],[2275],[2276],[2277],[2278],[2279],[2280],[2281],[2282],[2283],[2284],[2285],[2286],[2287],[2288],[2289],[2290],[2291],[2292],[2293],[2294],[2295],[2296],[2297],[2298],[2299],[2300],[2301],[2302],[2303],[2304],[2305],[2306],[2307],[2308],[2309],[2310],[2311],[2312],[2313],[2314],[2315],[2316],[2317],[2318],[2319],[2320],[2321],[2322],[2323],[2324],[2325],[2326],[2327],[2328],[2329],[2330],[2331],[2332],[2333],[2334],[2335],[2336],[2337],[2338],[2339],[2340],[2341],[2342],[2343],[2344],[2345],[2346],[2347],[2348],[2349],[2350],[2351],[2352],[2353],[2354],[2355],[2356],[2357],[2358],[2359],[2360],[2361],[2362],[2363],[2364],[2365],[2366],[2367],[2368],[2369],[2370],[2371],[2372],[2373],[2374],[2375],[2376],[2377],[2378],[2379],[2380],[2381],[2382],[2383],[2384],[2385],[2386],[2387],[2388],[2389],[2390],[2391],[2392],[2393],[2394],[2395],[2396],[2397],[2398],[2399],[2400],[2401],[2402],[2403],[2404],[2405],[2406],[2407],[2408],[2409],[2410],[2411],[2412],[2413],[2414],[2415],[2416],[2417],[2418],[2419],[2420],[2421],[2422],[2423],[2424],[2425],[2426],[2427],[2428],[2429],[2430],[2431],[2432],[2433],[2434],[2435],[2436],[2437],[2438],[2439],[2440],[2441],[2442],[2443],[2444],[2445],[2446],[2447],[2448],[2449],[2450],[2451],[2452],[2453],[2454],[2455],[2456],[2457],[2458],[2459],[2460],[2461],[2462],[2463],[2464],[2465],[2466],[2467],[2468],[2469],[2470],[2471],[2472],[2473],[2474],[2475],[2476],[2477],[2478],[2479],[2480],[2481],[2482],[2483],[2484],[2485],[2486],[2487],[2488],[2489],[2490],[2491],[2492],[2493],[2494],[2495],[2496],[2497],[2498],[2499],[2500],[2501],[2502],[2503],[2504],[2505],[2506],[2507],[2508],[2509],[2510],[2511],[2512],[2513],[2514],[2515],[2516],[2517],[2518],[2519],[2520],[2521],[2522],[2523],[2524],[2525],[2526],[2527],[2528],[2529],[2530],[2531],[2532],[2533],[2534],[2535],[2536],[2537],[2538],[2539],[2540],[2541],[2542],[2543],[2544],[2545],[2546],[2547],[2548],[2549],[2550],[2551],[2552],[2553],[2554],[2555],[2556],[2557],[2558],[2559],[2560],[2561],[2562],[2563],[2564],[2565],[2566],[2567],[2568],[2569],[2570],[2571],[2572],[2573],[2574],[2575],[2576],[2577],[2578],[2579],[2580],[2581],[2582],[2583],[2584],[2585],[2586],[2587],[2588],[2589],[2590],[2591],[2592],[2593],[2594],[2595],[2596],[2597],[2598],[2599],[2600],[2601],[2602],[2603],[2604],[2605],[2606],[2607],[2608],[2609],[2610],[2611],[2612],[2613],[2614],[2615],[2616],[2617],[2618],[2619],[2620],[2621],[2622],[2623],[2624],[2625],[2626],[2627],[2628],[2629],[2630],[2631],[2632],[2633],[2634],[2635],[2636],[2637],[2638],[2639],[2640],[2641],[2642],[2643],[2644],[2645],[2646],[2647],[2648],[2649],[2650],[2651],[2652],[2653],[2654],[2655],[2656],[2657],[2658],[2659],[2660],[2661],[2662],[2663],[2664],[2665],[2666],[2667],[2668],[2669],[2670],[2671],[2672],[2673],[2674],[2675],[2676],[2677],[2678],[2679],[2680],[2681],[2682],[2683],[2684],[2685],[2686],[2687],[2688],[2689],[2690],[2691],[2692],[2693],[2694],[2695],[2696],[2697],[2698],[2699],[2700],[2701],[2702],[2703],[2704],[2705],[2706],[2707],[2708],[2709],[2710],[2711],[2712],[2713],[2714],[2715],[2716],[2717],[2718],[2719],[2720],[2721],[2722],[2723],[2724],[2725],[2726],[2727],[2728],[2729],[2730],[2731],[2732],[2733],[2734],[2735],[2736],[2737],[2738],[2739],[2740],[2741],[2742],[2743],[2744],[2745],[2746],[2747],[2748],[2749],[2750],[2751],[2752],[2753],[2754],[2755],[2756],[2757],[2758],[2759],[2760],[2761],[2762],[2763],[2764],[2765],[2766],[2767],[2768],[2769],[2770],[2771],[2772],[2773],[2774],[2775],[2776],[2777],[2778],[2779],[2780],[2781],[2782],[2783],[2784],[2785],[2786],[2787],[2788],[2789],[2790],[2791],[2792],[2793],[2794],[2795],[2796],[2797],[2798],[2799],[2800],[2801],[2802],[2803],[2804],[2805],[2806],[2807],[2808],[2809],[2810],[2811],[2812],[2813],[2814],[2815],[2816],[2817],[2818],[2819],[2820],[2821],[2822],[2823],[2824],[2825],[2826],[2827],[2828],[2829],[2830],[2831],[2832],[2833],[2834],[2835],[2836],[2837],[2838],[2839],[2840],[2841],[2842],[2843],[2844],[2845],[2846],[2847],[2848],[2849],[2850],[2851],[2852],[2853],[2854],[2855],[2856],[2857],[2858],[2859],[2860],[2861],[2862],[2863],[2864],[2865],[2866],[2867],[2868],[2869],[2870],[2871],[2872],[2873],[2874],[2875],[2876],[2877],[2878],[2879],[2880],[2881],[2882],[2883],[2884],[2885],[2886],[2887],[2888],[2889],[2890],[2891],[2892],[2893],[2894],[2895],[2896],[2897],[2898],[2899],[2900],[2901],[2902],[2903],[2904],[2905],[2906],[2907],[2908],[2909],[2910],[2911],[2912],[2913],[2914],[2915],[2916],[2917],[2918],[2919],[2920],[2921],[2922],[2923],[2924],[2925],[2926],[2927],[2928],[2929],[2930],[2931],[2932],[2933],[2934],[2935],[2936],[2937],[2938],[2939],[2940],[2941],[2942],[2943],[2944],[2945],[2946],[2947],[2948],[2949],[2950],[2951],[2952],[2953],[2954],[2955],[2956],[2957],[2958],[2959],[2960],[2961],[2962],[2963],[2964],[2965],[2966],[2967],[2968],[2969],[2970],[2971],[2972],[2973],[2974],[2975],[2976],[2977],[2978],[2979],[2980],[2981],[2982],[2983],[2984],[2985],[2986],[2987],[2988],[2989],[2990],[2991],[2992],[2993],[2994],[2995],[2996],[2997],[2998],[2999],[3000],[3001],[3002],[3003],[3004],[3005],[3006],[3007],[3008],[3009],[3010],[3011],[3012],[3013],[3014],[3015],[3016],[3017],[3018],[3019],[3020],[3021],[3022],[3023],[3024],[3025],[3026],[3027],[3028],[3029],[3030],[3031],[3032],[3033],[3034],[3035],[3036],[3037],[3038],[3039],[3040],[3041],[3042],[3043],[3044],[3045],[3046],[3047],[3048],[3049],[3050],[3051],[3052],[3053],[3054],[3055],[3056],[3057],[3058],[3059],[3060],[3061],[3062],[3063],[3064],[3065],[3066],[3067],[3068],[3069],[3070],[3071],[3072],[3073],[3074],[3075],[3076],[3077],[3078],[3079],[3080],[3081],[3082],[3083],[3084],[3085],[3086],[3087],[3088],[3089],[3090],[3091],[3092],[3093],[3094],[3095],[3096],[3097],[3098],[3099],[3100],[3101],[3102],[3103],[3104],[3105],[3106],[3107],[3108],[3109],[3110],[3111],[3112],[3113],[3114],[3115],[3116],[3117],[3118],[3119],[3120],[3121],[3122],[3123],[3124],[3125],[3126],[3127],[3128],[3129],[3130],[3131],[3132],[3133],[3134],[3135],[3136],[3137],[3138],[3139],[3140],[3141],[3142],[3143],[3144],[3145],[3146],[3147],[3148],[3149],[3150],[3151],[3152],[3153],[3154],[3155],[3156],[3157],[3158],[3159],[3160],[3161],[3162],[3163],[3164],[3165],[3166],[3167],[3168],[3169],[3170],[3171],[3172],[3173],[3174],[3175],[3176],[3177],[3178],[3179],[3180],[3181],[3182],[3183],[3184],[3185],[3186],[3187],[3188],[3189],[3190],[3191],[3192],[3193],[3194],[3195],[3196],[3197],[3198],[3199],[3200],[3201],[3202],[3203],[3204],[3205],[3206],[3207],[3208],[3209],[3210],[3211],[3212],[3213],[3214],[3215],[3216],[3217],[3218],[3219],[3220],[3221],[3222],[3223],[3224],[3225],[3226],[3227],[3228],[3229],[3230],[3231],[3232],[3233],[3234],[3235],[3236],[3237],[3238],[3239],[3240],[3241],[3242],[3243],[3244],[3245],[3246],[3247],[3248],[3249],[3250],[3251],[3252],[3253],[3254],[3255],[3256],[3257],[3258],[3259],[3260],[3261],[3262],[3263],[3264],[3265],[3266],[3267],[3268],[3269],[3270],[3271],[3272],[3273],[3274],[3275],[3276],[3277],[3278],[3279],[3280],[3281],[3282],[3283],[3284],[3285],[3286],[3287],[3288],[3289],[3290],[3291],[3292],[3293],[3294],[3295],[3296],[3297],[3298],[3299],[3300],[3301],[3302],[3303],[3304],[3305],[3306],[3307],[3308],[3309],[3310],[3311],[3312],[3313],[3314],[3315],[3316],[3317],[3318],[3319],[3320],[3321],[3322],[3323],[3324],[3325],[3326],[3327],[3328],[3329],[3330],[3331],[3332],[3333],[3334],[3335],[3336],[3337],[3338],[3339],[3340],[3341],[3342],[3343],[3344],[3345],[3346],[3347],[3348],[3349],[3350],[3351],[3352],[3353],[3354],[3355],[3356],[3357],[3358],[3359],[3360],[3361],[3362],[3363],[3364],[3365],[3366],[3367],[3368],[3369],[3370],[3371],[3372],[3373],[3374],[3375],[3376],[3377],[3378],[3379],[3380],[3381],[3382],[3383],[3384],[3385],[3386],[3387],[3388],[3389],[3390],[3391],[3392],[3393],[3394],[3395],[3396],[3397],[3398],[3399],[3400],[3401],[3402],[3403],[3404],[3405],[3406],[3407],[3408],[3409],[3410],[3411],[3412],[3413],[3414],[3415],[3416],[3417],[3418],[3419],[3420],[3421],[3422],[3423],[3424],[3425],[3426],[3427],[3428],[3429],[3430],[3431],[3432],[3433],[3434],[3435],[3436],[3437],[3438],[3439],[3440],[3441],[3442],[3443],[3444],[3445],[3446],[3447],[3448],[3449],[3450],[3451],[3452],[3453],[3454],[3455],[3456],[3457],[3458],[3459],[3460],[3461],[3462],[3463],[3464],[3465],[3466],[3467],[3468],[3469],[3470],[3471],[3472],[3473],[3474],[3475],[3476],[3477],[3478],[3479],[3480],[3481],[3482],[3483],[3484],[3485],[3486],[3487],[3488],[3489],[3490],[3491],[3492],[3493],[3494],[3495],[3496],[3497],[3498],[3499],[3500],[3501],[3502],[3503],[3504],[3505],[3506],[3507],[3508],[3509],[3510],[3511],[3512],[3513],[3514],[3515],[3516],[3517],[3518],[3519],[3520],[3521],[3522],[3523],[3524],[3525],[3526],[3527],[3528],[3529],[3530],[3531],[3532],[3533],[3534],[3535],[3536],[3537],[3538],[3539],[3540],[3541],[3542],[3543],[3544],[3545],[3546],[3547],[3548],[3549],[3550],[3551],[3552],[3553],[3554],[3555],[3556],[3557],[3558],[3559],[3560],[3561],[3562],[3563],[3564],[3565],[3566],[3567],[3568],[3569],[3570],[3571],[3572],[3573],[3574],[3575],[3576],[3577],[3578],[3579],[3580],[3581],[3582],[3583],[3584],[3585],[3586],[3587],[3588],[3589],[3590],[3591],[3592],[3593],[3594],[3595],[3596],[3597],[3598],[3599],[3600],[3601],[3602],[3603],[3604],[3605],[3606],[3607],[3608],[3609],[3610],[3611],[3612],[3613],[3614],[3615],[3616],[3617],[3618],[3619],[3620],[3621],[3622],[3623],[3624],[3625],[3626],[3627],[3628],[3629],[3630],[3631],[3632],[3633],[3634],[3635],[3636],[3637],[3638],[3639],[3640],[3641],[3642],[3643],[3644],[3645],[3646],[3647],[3648],[3649],[3650],[3651],[3652],[3653],[3654],[3655],[3656],[3657],[3658],[3659],[3660],[3661],[3662],[3663],[3664],[3665],[3666],[3667],[3668],[3669],[3670],[3671],[3672],[3673],[3674],[3675],[3676],[3677],[3678],[3679],[3680],[3681],[3682],[3683],[3684],[3685],[3686],[3687],[3688],[3689],[3690],[3691],[3692],[3693],[3694],[3695],[3696],[3697],[3698],[3699],[3700],[3701],[3702],[3703],[3704],[3705],[3706],[3707],[3708],[3709],[3710],[3711],[3712],[3713],[3714],[3715],[3716],[3717],[3718],[3719],[3720],[3721],[3722],[3723],[3724],[3725],[3726],[3727],[3728],[3729],[3730],[3731],[3732],[3733],[3734],[3735],[3736],[3737],[3738],[3739],[3740],[3741],[3742],[3743],[3744],[3745],[3746],[3747],[3748],[3749],[3750],[3751],[3752],[3753],[3754],[3755],[3756],[3757],[3758],[3759],[3760],[3761],[3762],[3763],[3764],[3765],[3766],[3767],[3768],[3769],[3770],[3771],[3772],[3773],[3774],[3775],[3776],[3777],[3778],[3779],[3780],[3781],[3782],[3783],[3784],[3785],[3786],[3787],[3788],[3789],[3790],[3791],[3792],[3793],[3794],[3795],[3796],[3797],[3798],[3799],[3800],[3801],[3802],[3803],[3804],[3805],[3806],[3807],[3808],[3809],[3810],[3811],[3812],[3813],[3814],[3815],[3816],[3817],[3818],[3819],[3820],[3821],[3822],[3823],[3824],[3825],[3826],[3827],[3828],[3829],[3830],[3831],[3832],[3833],[3834],[3835],[3836],[3837],[3838],[3839],[3840],[3841],[3842],[3843],[3844],[3845],[3846],[3847],[3848],[3849],[3850],[3851],[3852],[3853],[3854],[3855],[3856],[3857],[3858],[3859],[3860],[3861],[3862],[3863],[3864],[3865],[3866],[3867],[3868],[3869],[3870],[3871],[3872],[3873],[3874],[3875],[3876],[3877],[3878],[3879],[3880],[3881],[3882],[3883],[3884],[3885],[3886],[3887],[3888],[3889],[3890],[3891],[3892],[3893],[3894],[3895],[3896],[3897],[3898],[3899],[3900],[3901],[3902],[3903],[3904],[3905],[3906],[3907],[3908],[3909],[3910],[3911],[3912],[3913],[3914],[3915],[3916],[3917],[3918],[3919],[3920],[3921],[3922],[3923],[3924],[3925],[3926],[3927],[3928],[3929],[3930],[3931],[3932],[3933],[3934],[3935],[3936],[3937],[3938],[3939],[3940],[3941],[3942],[3943],[3944],[3945],[3946],[3947],[3948],[3949],[3950],[3951],[3952],[3953],[3954],[3955],[3956],[3957],[3958],[3959],[3960],[3961],[3962],[3963],[3964],[3965],[3966],[3967],[3968],[3969],[3970],[3971],[3972],[3973],[3974],[3975],[3976],[3977],[3978],[3979],[3980],[3981],[3982],[3983],[3984],[3985],[3986],[3987],[3988],[3989],[3990],[3991],[3992],[3993],[3994],[3995],[3996],[3997],[3998],[3999],[4000],[4001],[4002],[4003],[4004],[4005],[4006],[4007],[4008],[4009],[4010],[4011],[4012],[4013],[4014],[4015],[4016],[4017],[4018],[4019],[4020],[4021],[4022],[4023],[4024],[4025],[4026],[4027],[4028],[4029],[4030],[4031],[4032],[4033],[4034],[4035],[4036],[4037],[4038],[4039],[4040],[4041],[4042],[4043],[4044],[4045],[4046],[4047],[4048],[4049],[4050],[4051],[4052],[4053],[4054],[4055],[4056],[4057],[4058],[4059],[4060],[4061],[4062],[4063],[4064],[4065],[4066],[4067],[4068],[4069],[4070],[4071],[4072],[4073],[4074],[4075],[4076],[4077],[4078],[4079],[4080],[4081],[4082],[4083],[4084],[4085],[4086],[4087],[4088],[4089],[4090],[4091],[4092],[4093],[4094],[4095],[4096],[4097],[4098],[4099],[4100],[4101],[4102],[4103],[4104],[4105],[4106],[4107],[4108],[4109],[4110],[4111],[4112],[4113],[4114],[4115],[4116],[4117],[4118],[4119],[4120],[4121],[4122],[4123],[4124],[4125],[4126],[4127],[4128],[4129],[4130],[4131],[4132],[4133],[4134],[4135],[4136],[4137],[4138],[4139],[4140],[4141],[4142],[4143],[4144],[4145],[4146],[4147],[4148],[4149],[4150],[4151],[4152],[4153],[4154],[4155],[4156],[4157],[4158],[4159],[4160],[4161],[4162],[4163],[4164],[4165],[4166],[4167],[4168],[4169],[4170],[4171],[4172],[4173],[4174],[4175],[4176],[4177],[4178],[4179],[4180],[4181],[4182],[4183],[4184],[4185],[4186],[4187],[4188],[4189],[4190],[4191],[4192],[4193],[4194],[4195],[4196],[4197],[4198],[4199],[4200],[4201],[4202],[4203],[4204],[4205],[4206],[4207],[4208],[4209],[4210],[4211],[4212],[4213],[4214],[4215],[4216],[4217],[4218],[4219],[4220],[4221],[4222],[4223],[4224],[4225],[4226],[4227],[4228],[4229],[4230],[4231],[4232],[4233],[4234],[4235],[4236],[4237],[4238],[4239],[4240],[4241],[4242],[4243],[4244],[4245],[4246],[4247],[4248],[4249],[4250],[4251],[4252],[4253],[4254],[4255],[4256],[4257],[4258],[4259],[4260],[4261],[4262],[4263],[4264],[4265],[4266],[4267],[4268],[4269],[4270],[4271],[4272],[4273],[4274],[4275],[4276],[4277],[4278],[4279],[4280],[4281],[4282],[4283],[4284],[4285],[4286],[4287],[4288],[4289],[4290],[4291],[4292],[4293],[4294],[4295],[4296],[4297],[4298],[4299],[4300],[4301],[4302],[4303],[4304],[4305],[4306],[4307],[4308],[4309],[4310],[4311],[4312],[4313],[4314],[4315],[4316],[4317],[4318],[4319],[4320],[4321],[4322],[4323],[4324],[4325],[4326],[4327],[4328],[4329],[4330],[4331],[4332],[4333],[4334],[4335],[4336],[4337],[4338],[4339],[4340],[4341],[4342],[4343],[4344],[4345],[4346],[4347],[4348],[4349],[4350],[4351],[4352],[4353],[4354],[4355],[4356],[4357],[4358],[4359],[4360],[4361],[4362],[4363],[4364],[4365],[4366],[4367],[4368],[4369],[4370],[4371],[4372],[4373],[4374],[4375],[4376],[4377],[4378],[4379],[4380],[4381],[4382],[4383],[4384],[4385],[4386],[4387],[4388],[4389],[4390],[4391],[4392],[4393],[4394],[4395],[4396],[4397],[4398],[4399],[4400],[4401],[4402],[4403],[4404],[4405],[4406],[4407],[4408],[4409],[4410],[4411],[4412],[4413],[4414],[4415],[4416],[4417],[4418],[4419],[4420],[4421],[4422],[4423],[4424],[4425],[4426],[4427],[4428],[4429],[4430],[4431],[4432],[4433],[4434],[4435],[4436],[4437],[4438],[4439],[4440],[4441],[4442],[4443],[4444],[4445],[4446],[4447],[4448],[4449],[4450],[4451],[4452],[4453],[4454],[4455],[4456],[4457],[4458],[4459],[4460],[4461],[4462],[4463],[4464],[4465],[4466],[4467],[4468],[4469],[4470],[4471],[4472],[4473],[4474],[4475],[4476],[4477],[4478],[4479],[4480],[4481],[4482],[4483],[4484],[4485],[4486],[4487],[4488],[4489],[4490],[4491],[4492],[4493],[4494],[4495],[4496],[4497],[4498],[4499],[4500],[4501],[4502],[4503],[4504],[4505],[4506],[4507],[4508],[4509],[4510],[4511],[4512],[4513],[4514],[4515],[4516],[4517],[4518],[4519],[4520],[4521],[4522],[4523],[4524],[4525],[4526],[4527],[4528],[4529],[4530],[4531],[4532],[4533],[4534],[4535],[4536],[4537],[4538],[4539],[4540],[4541],[4542],[4543],[4544],[4545],[4546],[4547],[4548],[4549],[4550],[4551],[4552],[4553],[4554],[4555],[4556],[4557],[4558],[4559],[4560],[4561],[4562],[4563],[4564],[4565],[4566],[4567],[4568],[4569],[4570],[4571],[4572],[4573],[4574],[4575],[4576],[4577],[4578],[4579],[4580],[4581],[4582],[4583],[4584],[4585],[4586],[4587],[4588],[4589],[4590],[4591],[4592],[4593],[4594],[4595],[4596],[4597],[4598],[4599],[4600],[4601],[4602],[4603],[4604],[4605],[4606],[4607],[4608],[4609],[4610],[4611],[4612],[4613],[4614],[4615],[4616],[4617],[4618],[4619],[4620],[4621],[4622],[4623],[4624],[4625],[4626],[4627],[4628],[4629],[4630],[4631],[4632],[4633],[4634],[4635],[4636],[4637],[4638],[4639],[4640],[4641],[4642],[4643],[4644],[4645],[4646],[4647],[4648],[4649],[4650],[4651],[4652],[4653],[4654],[4655],[4656],[4657],[4658],[4659],[4660],[4661],[4662],[4663],[4664],[4665],[4666],[4667],[4668],[4669],[4670],[4671],[4672],[4673],[4674],[4675],[4676],[4677],[4678],[4679],[4680],[4681],[4682],[4683],[4684],[4685],[4686],[4687],[4688],[4689],[4690],[4691],[4692],[4693],[4694],[4695],[4696],[4697],[4698],[4699],[4700],[4701],[4702],[4703],[4704],[4705],[4706],[4707],[4708],[4709],[4710],[4711],[4712],[4713],[4714],[4715],[4716],[4717],[4718],[4719],[4720],[4721],[4722],[4723],[4724],[4725],[4726],[4727],[4728],[4729],[4730],[4731],[4732],[4733],[4734],[4735],[4736],[4737],[4738],[4739],[4740],[4741],[4742],[4743],[4744],[4745],[4746],[4747],[4748],[4749],[4750],[4751],[4752],[4753],[4754],[4755],[4756],[4757],[4758],[4759],[4760],[4761],[4762],[4763],[4764],[4765],[4766],[4767],[4768],[4769],[4770],[4771],[4772],[4773],[4774],[4775],[4776],[4777],[4778],[4779],[4780],[4781],[4782],[4783],[4784],[4785],[4786],[4787],[4788],[4789],[4790],[4791],[4792],[4793],[4794],[4795],[4796],[4797],[4798],[4799],[4800],[4801],[4802],[4803],[4804],[4805],[4806],[4807],[4808],[4809],[4810],[4811],[4812],[4813],[4814],[4815],[4816],[4817],[4818],[4819],[4820],[4821],[4822],[4823],[4824],[4825],[4826],[4827],[4828],[4829],[4830],[4831],[4832],[4833],[4834],[4835],[4836],[4837],[4838],[4839],[4840],[4841],[4842],[4843],[4844],[4845],[4846],[4847],[4848],[4849],[4850],[4851],[4852],[4853],[4854],[4855],[4856],[4857],[4858],[4859],[4860],[4861],[4862],[4863]],\"hovertemplate\":\" x=%{x}<br> y=%{y}<br>count=%{customdata[0]}<extra></extra>\",\"legendgroup\":\"\",\"marker\":{\"color\":\"#636efa\",\"symbol\":\"circle\"},\"mode\":\"markers\",\"name\":\"\",\"showlegend\":false,\"x\":[-29.96,-29.96,-28.182,-28.182,-26.049,-26.049,-24.182,-24.182,-22.049,-22.049,-19.915,-19.915,-18.049,-18.049,-15.915,-15.915,-14.049,-14.049,-11.915,-11.915,-10.049,-10.049,-7.915,-7.915,-6.049,-6.049,-3.915,-3.915,-2.049,-2.049,0.085,0.085,2.218,2.218,4.085,4.085,5.951,5.951,8.085,8.085,9.951,9.951,12.085,12.085,14.218,14.218,16.085,16.085,18.218,18.218,20.085,20.085,22.218,22.218,24.085,24.085,26.218,26.218,28.085,28.085,30.218,30.218,32.085,32.085,34.218,34.218,36.085,36.085,38.218,38.218,40.085,40.085,42.218,42.218,44.085,44.085,46.218,46.218,48.085,48.085,50.218,50.218,52.085,52.085,54.218,54.218,56.085,56.085,58.218,58.218,60.085,60.085,62.218,62.218,64.085,64.085,66.218,66.218,68.085,68.085,70.218,70.218,72.351,72.351,74.218,74.218,76.351,76.351,78.218,78.218,80.351,80.351,82.218,82.218,84.351,84.351,86.218,86.218,88.351,88.351,90.218,90.218,92.351,92.351,94.218,94.218,96.351,96.351,98.218,98.218,100.351,100.351,102.485,102.485,104.351,104.351,106.485,106.485,108.351,108.351,110.485,110.485,112.351,112.351,114.485,114.485,116.351,116.351,118.485,118.485,120.351,120.351,122.485,122.485,124.618,124.618,126.485,126.485,128.618,128.618,130.485,130.485,132.618,132.618,134.485,134.485,136.618,136.618,138.485,138.485,140.618,140.618,142.485,142.485,144.618,144.618,146.485,146.485,148.618,148.618,150.0,150.0,149.13,149.13,147.263,147.263,145.13,145.13,142.996,142.996,141.13,141.13,138.996,138.996,138.996,136.863,136.863,134.996,134.996,132.863,132.863,130.996,130.996,129.13,129.13,126.996,126.996,125.13,125.13,122.996,122.996,121.13,121.13,118.996,118.996,117.13,117.13,114.996,114.996,112.863,112.863,110.996,110.996,108.863,108.863,106.996,106.996,104.863,104.863,102.996,102.996,100.863,100.863,98.996,98.996,96.863,96.863,94.996,94.996,92.863,92.863,90.996,90.996,88.863,88.863,86.73,86.73,84.863,84.863,82.73,82.73,80.863,80.863,78.73,78.73,76.863,76.863,74.73,74.73,72.863,72.863,70.73,70.73,68.863,68.863,66.73,66.73,64.863,64.863,62.73,62.73,60.863,60.863,58.73,58.73,56.863,56.863,54.73,54.73,52.863,52.863,50.73,50.73,48.863,48.863,46.73,46.73,44.863,44.863,42.73,42.73,40.863,40.863,38.73,38.73,36.863,36.863,34.73,34.73,32.863,32.863,30.73,30.73,28.863,28.863,26.73,26.73,24.863,24.863,22.73,22.73,20.863,20.863,18.73,18.73,16.863,16.863,14.73,14.73,12.596,12.596,10.73,10.73,8.596,8.596,6.73,6.73,4.596,4.596,2.73,2.73,0.596,0.596,-1.27,-1.27,-3.404,-3.404,-5.27,-5.27,-7.404,-7.404,-9.27,-9.27,-11.404,-11.404,-13.27,-13.27,-15.404,-15.404,-17.27,-17.27,-19.404,-19.404,-21.537,-21.537,-23.404,-23.404,-25.537,-25.537,-27.404,-27.404,-29.537,-29.537,-30.0,-30.0,-28.206,-28.206,-26.34,-26.34,-24.206,-24.206,-22.34,-22.34,-20.206,-20.206,-18.34,-18.34,-16.206,-16.206,-14.073,-14.073,-12.206,-12.206,-10.073,-10.073,-8.206,-8.206,-6.073,-6.073,-4.206,-4.206,-2.073,-2.073,-0.206,-0.206,1.927,1.927,3.794,3.794,5.927,5.927,7.794,7.794,9.927,9.927,12.06,12.06,13.927,13.927,16.06,16.06,17.927,17.927,20.06,20.06,21.927,21.927,24.06,24.06,25.927,25.927,28.06,28.06,29.927,29.927,31.794,31.794,33.927,33.927,35.794,35.794,37.927,37.927,40.06,40.06,41.927,41.927,44.06,44.06,45.927,45.927,48.06,48.06,49.927,49.927,52.06,52.06,53.927,53.927,56.06,56.06,57.927,57.927,60.06,60.06,62.194,62.194,64.06,64.06,66.194,66.194,68.06,68.06,70.194,70.194,70.194,72.327,72.327,74.194,74.194,76.327,76.327,78.194,78.194,80.327,80.327,82.194,82.194,84.327,84.327,86.194,86.194,88.327,88.327,90.194,90.194,92.327,92.327,94.46,94.46,96.327,96.327,98.46,98.46,100.327,100.327,102.46,102.46,104.327,104.327,106.46,106.46,108.327,108.327,110.46,110.46,112.327,112.327,114.46,114.46,116.594,116.594,118.46,118.46,120.594,120.594,122.46,122.46,124.594,124.594,126.46,126.46,128.594,128.594,130.46,130.46,132.594,132.594,134.46,134.46,136.594,136.594,138.46,138.46,140.594,140.594,142.46,142.46,144.594,144.594,146.727,146.727,148.594,148.594,150.727,150.727,152.594,152.594,154.727,154.727,156.86,156.86,158.727,158.727,160.86,160.86,162.727,162.727,164.86,164.86,166.994,166.994,168.86,168.86,170.994,170.994,172.86,172.86,174.994,174.994,177.127,177.127,178.994,178.994,180.0,180.0,178.755,178.755,176.622,176.622,174.755,174.755,172.622,172.622,170.755,170.755,168.622,168.622,166.755,166.755,164.622,164.622,162.755,162.755,160.622,160.622,158.488,158.488,156.622,156.622,156.622,154.488,154.488,152.622,152.622,150.488,150.488,148.355,148.355,146.488,146.488,144.622,144.622,142.488,142.488,140.355,140.355,138.488,138.488,136.355,136.355,134.488,134.488,132.355,132.355,130.488,130.488,128.355,128.355,126.222,126.222,124.355,124.355,122.222,122.222,120.355,120.355,118.222,118.222,116.355,116.355,114.222,114.222,112.355,112.355,110.222,110.222,108.355,108.355,106.222,106.222,104.355,104.355,102.222,102.222,100.355,100.355,98.222,98.222,96.355,96.355,94.222,94.222,92.355,92.355,90.222,90.222,88.355,88.355,86.222,86.222,84.355,84.355,82.222,82.222,80.355,80.355,78.222,78.222,76.355,76.355,74.222,74.222,72.088,72.088,70.222,70.222,68.088,68.088,66.222,66.222,64.088,64.088,62.222,62.222,60.088,60.088,58.222,58.222,56.088,56.088,54.222,54.222,52.088,52.088,50.222,50.222,48.088,48.088,46.222,46.222,44.088,44.088,42.222,42.222,40.088,40.088,38.222,38.222,36.088,36.088,33.955,33.955,32.088,32.088,29.955,29.955,28.088,28.088,25.955,25.955,24.088,24.088,21.955,21.955,20.088,20.088,17.955,17.955,16.088,16.088,13.955,13.955,12.088,12.088,9.955,9.955,8.088,8.088,5.955,5.955,4.088,4.088,1.955,1.955,0.124,0.124,0.0,0.0,0.0,0.0,0.0,0.0,0.183,0.183,2.301,2.301,4.168,4.168,6.301,6.301,8.435,8.435,10.301,10.301,12.435,12.435,14.301,14.301,16.435,16.435,18.301,18.301,20.435,20.435,22.301,22.301,24.435,24.435,26.301,26.301,28.435,28.435,30.568,30.568,32.435,32.435,34.568,34.568,36.435,36.435,38.568,38.568,40.435,40.435,42.568,42.568,44.435,44.435,46.568,46.568,48.435,48.435,50.568,50.568,52.701,52.701,54.568,54.568,56.701,56.701,58.568,58.568,60.701,60.701,62.568,62.568,64.701,64.701,66.568,66.568,68.701,68.701,70.835,70.835,72.701,72.701,74.835,74.835,76.701,76.701,78.835,78.835,80.701,80.701,82.835,82.835,84.968,84.968,86.835,86.835,88.968,88.968,90.835,90.835,92.968,92.968,94.835,94.835,96.968,96.968,98.835,98.835,100.968,100.968,102.835,102.835,104.968,104.968,106.835,106.835,108.968,108.968,110.835,110.835,112.968,112.968,114.835,114.835,116.968,116.968,118.835,118.835,120.968,120.968,122.835,122.835,124.968,124.968,127.101,127.101,128.968,128.968,131.101,131.101,132.968,132.968,135.101,135.101,136.968,136.968,139.101,139.101,140.968,140.968,143.101,143.101,144.968,144.968,147.101,147.101,148.968,148.968,148.968,151.101,151.101,153.235,153.235,155.101,155.101,156.968,156.968,159.101,159.101,160.968,160.968,163.101,163.101,165.235,165.235,167.101,167.101,169.235,169.235,171.101,171.101,173.235,173.235,175.101,175.101,177.235,177.235,179.101,179.101,180.0,180.0,180.0,180.0,180.0,180.0,180.0,180.0,178.513,178.513,176.646,176.646,174.513,174.513,172.646,172.646,170.513,170.513,168.646,168.646,166.513,166.513,164.646,164.646,162.513,162.513,160.38,160.38,158.513,158.513,156.38,156.38,154.513,154.513,152.38,152.38,150.513,150.513,148.38,148.38,146.513,146.513,144.38,144.38,142.513,142.513,140.38,140.38,138.513,138.513,136.38,136.38,134.513,134.513,132.38,132.38,130.513,130.513,128.38,128.38,126.246,126.246,124.38,124.38,122.513,122.513,120.38,120.38,118.513,118.513,116.38,116.38,114.246,114.246,112.38,112.38,110.246,110.246,108.38,108.38,106.246,106.246,104.38,104.38,102.246,102.246,100.38,100.38,98.246,98.246,96.38,96.38,94.246,94.246,92.113,92.113,90.246,90.246,88.113,88.113,86.246,86.246,84.113,84.113,82.246,82.246,80.113,80.113,78.246,78.246,76.113,76.113,74.246,74.246,72.113,72.113,70.246,70.246,68.113,68.113,66.246,66.246,64.113,64.113,62.246,62.246,60.113,60.113,57.98,57.98,56.113,56.113,53.98,53.98,52.113,52.113,49.98,49.98,48.113,48.113,45.98,45.98,44.113,44.113,41.98,41.98,40.113,40.113,37.98,37.98,35.846,35.846,33.98,33.98,31.846,31.846,29.713,29.713,27.846,27.846,25.713,25.713,23.846,23.846,21.713,21.713,19.846,19.846,17.713,17.713,15.58,15.58,13.713,13.713,11.58,11.58,9.446,9.446,7.58,7.58,5.446,5.446,3.58,3.58,1.446,1.446,-0.42,-0.42,-2.554,-2.554,-4.42,-4.42,-6.554,-6.554,-8.42,-8.42,-10.554,-10.554,-12.42,-12.42,-14.554,-14.554,-16.42,-16.42,-18.554,-18.554,-20.42,-20.42,-22.554,-22.554,-24.687,-24.687,-26.554,-26.554,-28.687,-28.687,-30.0,-30.0,-30.0,-30.0,-28.39,-28.39,-28.39,-26.257,-26.257,-24.39,-24.39,-22.257,-22.257,-20.124,-20.124,-18.257,-18.257,-16.124,-16.124,-14.257,-14.257,-12.124,-12.124,-10.257,-10.257,-8.124,-8.124,-6.257,-6.257,-4.124,-4.124,-2.257,-2.257,-0.124,-0.124,1.743,1.743,3.876,3.876,5.743,5.743,7.876,7.876,10.01,10.01,11.876,11.876,14.01,14.01,15.876,15.876,18.01,18.01,19.876,19.876,22.01,22.01,23.876,23.876,26.01,26.01,27.876,27.876,30.01,30.01,31.876,31.876,34.01,34.01,35.876,35.876,38.01,38.01,39.876,39.876,42.01,42.01,43.876,43.876,46.01,46.01,47.876,47.876,50.01,50.01,51.876,51.876,54.01,54.01,56.143,56.143,58.01,58.01,59.876,59.876,62.01,62.01,63.876,63.876,66.01,66.01,67.876,67.876,70.01,70.01,71.876,71.876,74.01,74.01,76.143,76.143,78.01,78.01,79.876,79.876,82.01,82.01,83.876,83.876,86.01,86.01,87.876,87.876,90.01,90.01,91.876,91.876,94.01,94.01,96.143,96.143,98.01,98.01,100.143,100.143,102.276,102.276,104.143,104.143,106.276,106.276,108.143,108.143,110.276,110.276,112.143,112.143,114.276,114.276,116.143,116.143,118.276,118.276,120.143,120.143,122.276,122.276,124.143,124.143,126.276,126.276,128.41,128.41,130.276,130.276,132.41,132.41,134.276,134.276,136.41,136.41,138.276,138.276,140.41,140.41,142.276,142.276,144.41,144.41,146.276,146.276,148.41,148.41,150.0,150.0,150.0,150.0,148.405,148.405,146.538,146.538,144.405,144.405,142.538,142.538,140.405,140.405,138.271,138.271,136.405,136.405,134.271,134.271,132.405,132.405,130.271,130.271,128.405,128.405,126.271,126.271,124.405,124.405,122.271,122.271,120.405,120.405,118.271,118.271,116.405,116.405,114.271,114.271,112.138,112.138,110.271,110.271,108.138,108.138,106.271,106.271,104.138,104.138,102.271,102.271,100.138,100.138,98.271,98.271,96.138,96.138,94.271,94.271,92.138,92.138,90.271,90.271,88.138,88.138,86.005,86.005,86.005,84.138,82.005,82.005,80.138,80.138,78.005,78.005,76.138,76.138,74.005,74.005,72.138,72.138,70.005,70.005,70.005,68.138,66.005,66.005,64.138,64.138,62.005,62.005,60.138,60.138,60.138,58.005,56.138,56.138,54.005,54.005,52.138,52.138,50.005,50.005,48.138,48.138,46.005,46.005,44.138,44.138,42.005,42.005,40.138,40.138,40.138,38.005,36.138,36.138,34.005,34.005,32.138,32.138,32.138,30.005,30.005,28.138,28.138,26.005,26.005,24.138,24.138,22.005,22.005,20.138,20.138,18.005,18.005,16.138,16.138,14.005,14.005,12.138,12.138,10.005,10.005,8.138,8.138,6.005,6.005,4.138,4.138,2.005,2.005,0.16,0.16,0.0,0.0,1.185,1.185,3.052,3.052,5.185,5.185,7.052,7.052,9.185,9.185,11.052,11.052,13.185,13.185,15.052,15.052,17.185,17.185,19.052,19.052,21.185,21.185,23.052,23.052,25.185,25.185,27.052,27.052,29.185,29.185,31.052,31.052,33.185,33.185,35.319,35.319,37.185,37.185,39.319,39.319,41.185,41.185,43.319,43.319,45.185,45.185,47.319,47.319,49.185,49.185,51.319,51.319,53.185,53.185,55.319,55.319,57.452,57.452,59.319,59.319,61.452,61.452,63.319,63.319,65.452,65.452,67.319,67.319,69.452,69.452,71.585,71.585,73.452,73.452,75.585,75.585,77.452,77.452,79.585,79.585,81.452,81.452,83.585,83.585,85.452,85.452,87.585,87.585,89.452,89.452,91.585,91.585,93.452,93.452,95.585,95.585,97.719,97.719,99.585,99.585,101.719,101.719,103.585,103.585,105.719,105.719,107.585,107.585,109.719,109.719,111.585,111.585,113.719,113.719,115.852,115.852,117.719,117.719,119.852,119.852,121.719,121.719,123.852,123.852,125.719,125.719,127.852,127.852,129.719,129.719,131.852,131.852,133.719,133.719,135.852,135.852,137.719,137.719,139.852,139.852,141.719,141.719,143.852,143.852,145.719,145.719,147.852,147.852,149.923,149.923,150.0,150.0,149.229,149.229,147.096,147.096,144.963,144.963,143.096,143.096,140.963,140.963,139.096,139.096,136.963,136.963,135.096,135.096,132.963,132.963,131.096,131.096,128.963,128.963,127.096,127.096,124.963,124.963,123.096,123.096,120.963,120.963,119.096,119.096,116.963,116.963,115.096,115.096,112.963,112.963,111.096,111.096,108.963,108.963,107.096,107.096,104.963,104.963,103.096,103.096,100.963,100.963,99.096,99.096,96.963,96.963,95.096,95.096,92.963,92.963,91.096,91.096,88.963,88.963,87.096,87.096,84.963,84.963,83.096,83.096,80.963,80.963,79.096,79.096,76.963,76.963,75.096,75.096,72.963,72.963,71.096,71.096,68.963,68.963,67.096,67.096,64.963,64.963,63.096,63.096,60.963,60.963,58.829,58.829,56.963,56.963,54.829,54.829,52.963,52.963,50.829,50.829,48.963,48.963,46.829,46.829,44.963,44.963,42.829,42.829,40.963,40.963,38.829,38.829,36.963,36.963,34.829,34.829,32.963,32.963,30.829,30.829,28.963,28.963,26.829,26.829,24.963,24.963,22.829,22.829,20.963,20.963,18.829,18.829,16.963,16.963,14.829,14.829,12.963,12.963,10.829,10.829,8.963,8.963,6.829,6.829,4.963,4.963,2.829,2.829,0.963,0.963,-1.171,-1.171,-3.037,-3.037,-5.171,-5.171,-7.037,-7.037,-9.171,-9.171,-10.0,-10.0,-10.0,-10.0,-10.0,-10.0,-10.0,-10.0,-10.0,-9.639,-7.772,-7.772,-5.906,-5.906,-3.772,-3.772,-1.906,-1.906,-1.906,0.228,0.228,2.361,2.361,4.228,4.228,6.361,6.361,8.228,8.228,10.361,10.361,12.228,12.228,14.361,14.361,16.228,16.228,18.361,18.361,20.228,20.228,22.361,22.361,24.228,24.228,26.361,26.361,28.228,28.228,30.361,30.361,32.228,32.228,34.361,34.361,36.494,36.494,38.361,38.361,40.494,40.494,42.361,42.361,44.494,44.494,46.361,46.361,48.494,48.494,50.361,50.361,52.494,52.494,54.361,54.361,56.494,56.494,58.361,58.361,60.494,60.494,62.361,62.361,64.494,64.494,66.361,66.361,68.494,68.494,70.361,70.361,72.494,72.494,74.361,74.361,76.494,76.494,78.361,78.361,80.494,80.494,82.361,82.361,84.494,84.494,86.361,86.361,88.494,88.494,90.628,90.628,92.494,92.494,94.628,94.628,96.761,96.761,98.628,98.628,100.761,100.761,102.628,102.628,104.761,104.761,106.628,106.628,108.761,108.761,110.628,110.628,112.761,112.761,114.628,114.628,116.761,116.761,118.628,118.628,120.761,120.761,122.894,122.894,124.761,124.761,126.894,126.894,128.761,128.761,130.894,130.894,132.761,132.761,134.894,134.894,136.761,136.761,138.894,138.894,140.761,140.761,142.894,142.894,144.761,144.761,146.894,146.894,148.761,148.761,150.894,150.894,152.761,152.761,154.894,154.894,156.761,156.761,158.894,158.894,160.0,160.0,160.0,160.0,160.0,160.0,160.0,160.0,160.0,160.0,158.049,158.049,156.182,156.182,154.049,154.049,152.182,152.182,150.049,150.049,148.182,148.182,146.049,146.049,143.916,143.916,142.049,142.049,139.916,139.916,138.049,138.049,135.916,135.916,134.049,134.049,131.916,131.916,130.049,130.049,127.916,127.916,126.049,126.049,123.916,123.916,122.049,122.049,119.916,119.916,118.049,118.049,115.916,115.916,113.782,113.782,111.916,111.916,109.782,109.782,107.916,107.916,105.782,105.782,103.916,103.916,101.782,101.782,99.916,99.916,97.782,97.782,95.916,95.916,93.782,93.782,91.916,91.916,89.782,89.782,87.916,87.916,85.782,85.782,83.649,83.649,81.782,81.782,79.649,79.649,77.782,77.782,75.649,75.649,73.782,73.782,71.649,71.649,69.782,69.782,67.649,67.649,65.782,65.782,63.649,63.649,61.782,61.782,59.649,59.649,57.516,57.516,55.649,55.649,53.516,53.516,51.649,51.649,49.516,49.516,47.649,47.649,45.516,45.516,43.649,43.649,41.516,41.516,39.649,39.649,37.516,37.516,35.649,35.649,33.516,33.516,31.649,31.649,29.516,29.516,27.649,27.649,25.516,25.516,23.649,23.649,23.649,21.516,21.516,19.382,17.516,17.516,15.382,15.382,13.516,13.516,11.382,11.382,9.516,9.516,9.516,7.382,5.516,5.516,3.382,3.382,1.516,1.516,-0.618,-0.618,-0.618,-2.751,-2.751,-4.618,-4.618,-6.751,-6.751,-8.618,-8.618,-10.751,-10.751,-12.618,-12.618,-14.751,-16.618,-16.618,-16.618,-18.751,-20.0,-20.0,-20.0,-20.0,-19.53,-19.53,-19.53,-17.397,-17.397,-15.53,-15.53,-13.397,-13.397,-11.264,-11.264,-9.397,-9.397,-7.264,-7.264,-5.397,-5.397,-3.264,-3.264,-1.397,-1.397,0.736,0.736,2.603,2.603,4.736,4.736,6.603,6.603,8.736,8.736,10.603,10.603,12.736,12.736,14.87,14.87,16.736,16.736,18.87,18.87,20.736,20.736,22.87,22.87,24.736,24.736,26.87,26.87,28.736,28.736,30.87,30.87,32.736,32.736,34.87,34.87,36.736,36.736,38.87,38.87,40.736,40.736,42.87,42.87,44.736,44.736,46.87,46.87,48.736,48.736,50.87,50.87,53.003,53.003,54.87,54.87,57.003,57.003,58.87,58.87,61.003,61.003,62.87,62.87,65.003,65.003,66.87,66.87,69.003,69.003,70.87,70.87,73.003,73.003,74.87,74.87,77.003,77.003,78.87,78.87,81.003,81.003,82.87,82.87,85.003,85.003,86.87,86.87,89.003,89.003,90.87,90.87,93.003,93.003,94.87,94.87,97.003,97.003,98.87,98.87,101.003,101.003,103.136,103.136,105.003,105.003,107.136,107.136,109.003,109.003,111.136,111.136,113.27,113.27,115.136,115.136,117.003,117.003,119.136,119.136,121.003,121.003,123.136,123.136,125.27,125.27,127.136,127.136,129.27,129.27,131.136,131.136,133.27,133.27,135.136,135.136,137.27,137.27,139.403,139.403,141.27,141.27,143.403,143.403,145.27,145.27,147.403,147.403,149.27,149.27,150.0,150.0,150.0,150.0,148.74,148.74,146.874,146.874,144.74,144.74,142.874,142.874,140.74,140.74,138.874,138.874,136.74,136.74,134.874,134.874,132.74,132.74,130.874,130.874,128.74,128.74,126.874,126.874,124.74,124.74,122.874,122.874,120.74,120.74,118.874,118.874,116.74,116.74,114.874,114.874,112.74,112.74,110.874,110.874,108.74,108.74,106.874,106.874,104.74,104.74,102.874,102.874,100.74,100.74,98.874,98.874,96.74,96.74,94.874,94.874,92.74,92.74,90.874,90.874,88.74,88.74,86.874,86.874,84.74,84.74,82.874,82.874,80.74,80.74,78.607,78.607,76.74,76.74,74.874,74.874,72.74,72.74,70.607,70.607,68.74,68.74,66.607,66.607,64.74,64.74,62.607,62.607,60.74,60.74,58.607,58.607,58.607,56.474,56.474,54.607,54.607,52.474,52.474,50.607,50.607,48.474,48.474,46.607,46.607,44.474,44.474,42.607,42.607,40.474,40.474,38.607,38.607,36.74,36.74,34.607,34.607,32.474,32.474,30.607,30.607,28.474,28.474,26.607,26.607,24.474,24.474,22.607,22.607,20.474,20.474,18.607,18.607,16.474,16.474,14.34,14.34,12.474,12.474,10.34,10.34,8.474,8.474,6.34,6.34,4.474,4.474,2.34,2.34,0.474,0.474,0.0,0.0,0.0,0.0,1.511,1.511,3.378,3.378,5.511,5.511,7.378,7.378,9.511,9.511,11.378,11.378,13.511,13.511,15.378,15.378,17.511,17.511,19.378,19.378,21.511,21.511,23.644,23.644,25.511,25.511,27.644,27.644,29.511,29.511,31.378,31.378,33.511,33.511,35.378,35.378,37.511,37.511,39.644,39.644,41.511,41.511,43.644,43.644,45.511,45.511,47.644,47.644,49.511,49.511,51.644,51.644,53.511,53.511,55.644,55.644,57.511,57.511,59.644,59.644,61.511,61.511,63.644,63.644,65.511,65.511,67.644,67.644,69.511,69.511,71.644,71.644,73.778,73.778,75.644,75.644,77.778,77.778,79.644,79.644,81.778,81.778,83.644,83.644,85.778,85.778,87.644,87.644,89.778,89.778,91.644,91.644,93.778,93.778,95.644,95.644,97.778,97.778,99.644,99.644,101.778,101.778,103.644,103.644,105.778,105.778,107.644,107.644,109.778,109.778,111.644,111.644,113.778,113.778,115.644,115.644,117.778,117.778,119.644,119.644,121.778,121.778,123.644,123.644,125.778,125.778,127.911,127.911,129.778,129.778,131.911,131.911,133.778,133.778,135.911,135.911,137.778,137.778,139.911,139.911,141.778,141.778,143.911,143.911,145.778,145.778,147.911,147.911,149.778,149.778,151.911,151.911,153.778,153.778,155.911,155.911,157.778,157.778,159.911,159.911,161.778,161.778,163.911,163.911,166.044,166.044,167.911,167.911,169.956,169.956,170.0,170.0,169.985,169.985,168.232,168.232,166.099,166.099,164.232,164.232,162.099,162.099,159.966,159.966,158.099,158.099,155.966,155.966,154.099,154.099,151.966,151.966,150.099,150.099,147.966,147.966,146.099,146.099,143.966,143.966,141.832,141.832,139.966,139.966,139.966,137.832,135.966,135.966,133.832,133.832,133.832,131.966,131.966,129.832,129.832,127.966,127.966,125.832,125.832,123.966,123.966,121.832,121.832,119.699,119.699,117.832,117.832,115.699,115.699,113.832,113.832,111.699,111.699,109.832,109.832,107.699,107.699,105.832,105.832,103.699,103.699,101.832,101.832,99.699,99.699,97.566,97.566,95.699,95.699,93.566,93.566,91.699,91.699,89.566,89.566,87.699,87.699,85.566,85.566,83.699,83.699,81.566,81.566,79.699,79.699,77.566,77.566,75.699,75.699,73.566,73.566,71.699,71.699,69.566,69.566,67.699,67.699,65.566,65.566,63.432,63.432,61.566,61.566,59.432,59.432,57.566,57.566,55.432,55.432,53.566,53.566,51.432,51.432,49.566,49.566,47.432,47.432,45.566,45.566,43.432,43.432,41.566,41.566,39.432,39.432,37.566,37.566,35.432,35.432,33.566,33.566,31.432,31.432,29.566,29.566,27.432,27.432,25.566,25.566,23.432,23.432,21.566,21.566,19.432,19.432,17.566,17.566,15.432,15.432,13.566,13.566,11.432,11.432,9.566,9.566,7.432,7.432,5.299,5.299,3.432,3.432,1.299,1.299,0.0,0.0,0.0,0.0,0.0,0.0,0.0,0.0,0.0,0.0,0.553,0.553,2.42,2.42,4.553,4.553,6.687,6.687,8.553,8.553,10.42,10.42,12.553,12.553,14.687,14.687,16.553,16.553,18.687,18.687,20.553,20.553,22.42,22.42,24.553,24.553,26.687,26.687,28.553,28.553,30.42,30.42,32.553,32.553,34.687,34.687,36.553,36.553,38.687,38.687,40.553,40.553,42.687,42.687,44.553,44.553,46.687,46.687,48.82,48.82,50.687,50.687,52.82,52.82,54.687,54.687,56.82,56.82,58.687,58.687,60.82,60.82,62.687,62.687,64.82,64.82,66.687,66.687,68.82,68.82,70.687,70.687,72.82,72.82,74.687,74.687,76.82,76.82,78.687,78.687,80.82,80.82,82.687,82.687,84.82,84.82,86.687,86.687,88.82,88.82,90.687,90.687,92.82,92.82,94.953,94.953,96.82,96.82,98.953,98.953,101.087,101.087,102.953,102.953,105.087,105.087,106.953,106.953,109.087,109.087,110.953,110.953,113.087,113.087,114.953,114.953,117.087,117.087,118.953,118.953,121.087,121.087,122.953,122.953,125.087,125.087,126.953,126.953,129.087,129.087,130.953,130.953,133.087,133.087,134.953,134.953,137.087,137.087,138.953,138.953,141.087,141.087,142.953,142.953,145.087,145.087,146.953,146.953,149.087,149.087,150.0,150.0,150.0,150.0,150.0,150.0,150.0,150.0,150.0,150.0,150.0,149.057,149.057,146.924,146.924,145.057,145.057,142.924,142.924,141.057,141.057,138.924,138.924,137.057,137.057,134.924,134.924,132.79,132.79,130.924,130.924,128.79,128.79,126.924,126.924,124.79,124.79,122.924,122.924,120.79,120.79,118.924,118.924,116.79,116.79,114.924,114.924,112.79,112.79,110.924,110.924,108.79,108.79,106.924,106.924,104.79,104.79,102.924,102.924,100.79,100.79,98.924,98.924,96.79,96.79,94.657,94.657,92.79,92.79,90.657,90.657,88.79,88.79,86.657,86.657,84.79,84.79,82.657,82.657,80.79,80.79,78.657,78.657,76.79,76.79,74.657,74.657,72.524,72.524,70.657,70.657,68.524,68.524,66.657,66.657,64.524,64.524,62.39,62.39,60.524,60.524,58.39,58.39,56.524,56.524,54.39,54.39,52.524,52.524,50.39,50.39,48.524,48.524,46.39,46.39,44.524,44.524,42.39,42.39,40.524,40.524,38.39,38.39,36.524,36.524,34.39,34.39,32.257,32.257,30.39,30.39,28.257,28.257,26.39,26.39,24.257,24.257,22.39,22.39,20.257,20.257,18.124,18.124,16.257,16.257,14.124,14.124,12.257,12.257,10.124,10.124,8.257,8.257,6.124,6.124,4.257,4.257,2.124,2.124,0.257,0.257,-1.876,-1.876,-3.743,-3.743,-5.876,-5.876,-7.743,-7.743,-9.876,-9.876,-11.743,-11.743,-13.876,-13.876,-15.0,-15.0,-15.0,-15.0,-15.0,-15.0,-13.471,-13.471,-11.338,-11.338,-9.471,-9.471,-7.338,-7.338,-5.471,-5.471,-3.338,-3.338,-1.471,-1.471,0.662,0.662,2.529,2.529,4.662,4.662,6.529,6.529,8.662,8.662,10.529,10.529,12.662,12.662,14.529,14.529,16.662,16.662,18.795,18.795,20.662,20.662,22.529,22.529,24.662,24.662,26.529,26.529,28.662,28.662,30.529,30.529,32.662,32.662,34.529,34.529,36.662,36.662,38.529,38.529,40.662,40.662,42.529,42.529,44.662,44.662,46.795,46.795,48.662,48.662,50.795,50.795,50.795,52.662,54.795,54.795,56.662,56.662,58.795,58.795,60.662,60.662,62.795,62.795,64.662,64.662,66.795,66.795,66.795,68.929,68.929,70.795,70.795,72.929,72.929,74.795,74.795,76.929,76.929,78.795,78.795,80.929,80.929,83.062,83.062,84.929,84.929,87.062,87.062,88.929,88.929,91.062,91.062,92.929,92.929,95.062,95.062,96.929,96.929,99.062,99.062,100.929,100.929,103.062,103.062,104.929,104.929,107.062,107.062,109.195,109.195,111.062,111.062,113.195,113.195,115.062,115.062,117.195,117.195,119.062,119.062,121.195,121.195,123.062,123.062,125.195,125.195,127.062,127.062,129.195,129.195,131.062,131.062,133.195,133.195,135.062,135.062,137.195,137.195,139.329,139.329,141.195,141.195,143.329,143.329,145.195,145.195,147.329,147.329,149.195,149.195,151.329,151.329,153.195,153.195,155.329,155.329,157.195,157.195,158.0,158.0,158.0,158.0,157.942,157.942,156.148,156.148,154.015,154.015,151.881,151.881,150.015,150.015,147.881,147.881,146.015,146.015,143.881,143.881,141.748,141.748,139.881,139.881,137.748,137.748,135.881,135.881,133.748,133.748,131.881,131.881,129.748,129.748,127.881,127.881,125.748,125.748,123.881,123.881,121.748,121.748,119.881,119.881,117.748,117.748,115.881,115.881,113.748,113.748,111.881,111.881,109.748,109.748,107.881,107.881,105.748,105.748,103.615,103.615,101.748,101.748,99.615,99.615,97.748,97.748,95.615,95.615,93.748,93.748,91.615,91.615,89.748,89.748,87.615,87.615,85.748,85.748,83.615,83.615,81.748,81.748,79.615,79.615,77.748,77.748,75.615,75.615,73.748,73.748,71.615,71.615,69.481,69.481,67.615,67.615,65.481,65.481,63.615,63.615,61.748,61.748,59.615,59.615,57.748,57.748,55.615,55.615,53.481,53.481,51.615,51.615,49.748,49.748,47.615,47.615,45.748,45.748,43.615,43.615,41.481,41.481,39.615,39.615,37.481,37.481,35.615,35.615,33.481,33.481,31.615,31.615,29.481,29.481,27.615,27.615,25.481,25.481,23.615,23.615,21.481,21.481,19.615,19.615,17.481,17.481,15.615,15.615,13.481,13.481,11.615,11.615,9.481,9.481,7.348,7.348,5.481,5.481,3.348,3.348,1.481,1.481,0.0,0.0,0.0,0.0,0.0,0.0,0.0,0.0,0.0,0.0,0.0,0.0,1.304,1.304,3.171,3.171,5.304,5.304,7.171,7.171,9.304,9.304,11.171,11.171,13.304,13.304,15.171,15.171,17.304,17.304,19.171,19.171,21.304,21.304,23.437,23.437,25.304,25.304,25.304,27.437,29.304,29.304,29.304,31.437,31.437,33.571,33.571,35.437,35.437,37.571,37.571,39.437,39.437,41.571,41.571,43.437,43.437,45.571,45.571,47.437,47.437,49.571,49.571,51.437,51.437,53.571,53.571,55.437,55.437,57.571,57.571,59.437,59.437,61.571,61.571,63.437,63.437,65.571,65.571,67.437,67.437,69.571,69.571,71.704,71.704,73.571,73.571,75.704,75.704,77.837,77.837,79.704,79.704,81.837,81.837,83.704,83.704,85.837,85.837,87.704,87.704,89.571,89.571,91.704,91.704,93.571,93.571,95.704,95.704,97.571,97.571,99.704,99.704,101.837,101.837,103.704,103.704,105.837,105.837,107.704,107.704,109.837,109.837,111.704,111.704,113.837,113.837,115.704,115.704,117.837,117.837,119.704,119.704,121.837,121.837,123.971,123.971,125.837,125.837,127.971,127.971,129.837,129.837,131.971,131.971,133.837,133.837,135.971,135.971,137.837,137.837,139.971,139.971,141.837,141.837,143.971,143.971,145.837,145.837,147.971,147.971,149.837,149.837,151.971,151.971,153.837,153.837,155.971,155.971,157.837,157.837,159.971,159.971,161.837,161.837,163.971,163.971,165.837,165.837,167.971,167.971,169.837,169.837,171.971,171.971,173.837,173.837,175.971,175.971,177.837,177.837,179.915,179.915,180.0,180.0,180.0,180.0,180.0,180.0,180.0,180.0,180.0,180.0,179.372,179.372,177.239,177.239,175.372,175.372,173.239,173.239,171.106,171.106,169.239,169.239,167.106,167.106,165.239,165.239,163.106,163.106,161.239,161.239,159.106,159.106,157.239,157.239,155.106,155.106,153.239,153.239,151.106,151.106,149.239,149.239,147.106,147.106,145.239,145.239,143.106,143.106,141.239,141.239,139.106,139.106,137.239,137.239,135.106,135.106,133.239,133.239,131.106,131.106,129.239,129.239,127.106,127.106,125.239,125.239,123.106,123.106,121.239,121.239,119.106,119.106,117.239,117.239,115.106,115.106,113.239,113.239,111.106,111.106,109.239,109.239,107.106,107.106,105.239,105.239,103.106,103.106,101.239,101.239,99.106,99.106,97.239,97.239,95.106,95.106,92.972,92.972,91.106,91.106,88.972,88.972,87.106,87.106,84.972,84.972,83.106,83.106,80.972,80.972,79.106,79.106,76.972,76.972,75.106,75.106,72.972,72.972,71.106,71.106,68.972,68.972,67.106,67.106,64.972,64.972,62.839,62.839,60.972,60.972,58.839,58.839,56.972,56.972,55.106,55.106,52.972,52.972,50.839,50.839,48.972,48.972,46.839,46.839,46.839,44.972,43.106,43.106,43.106,40.972,40.972,38.839,38.839,36.972,36.972,34.839,34.839,32.972,32.972,30.839,30.839,28.972,28.972,26.839,26.839,24.972,24.972,22.839,22.839,20.972,20.972,18.839,18.839,16.706,16.706,14.839,14.839,12.706,12.706,10.839,10.839,8.706,8.706,6.839,6.839,4.706,4.706,2.839,2.839,0.706,0.706,0.0,0.0,0.0,0.0,0.0,0.0,0.751,0.751,2.618,2.618,4.751,4.751,6.618,6.618,8.751,8.751,10.884,10.884,12.751,12.751,14.884,14.884,16.751,16.751,18.884,18.884,20.751,20.751,22.884,22.884,25.018,25.018,26.884,26.884,29.018,29.018,30.884,30.884,33.018,33.018,34.884,34.884,37.018,37.018,38.884,38.884,41.018,41.018,42.884,42.884,45.018,45.018,46.884,46.884,49.018,49.018,51.151,51.151,53.018,53.018,55.151,55.151,57.018,57.018,59.151,59.151,61.018,61.018,63.151,63.151,65.284,65.284,67.151,67.151,69.284,69.284,71.151,71.151,73.284,73.284,75.151,75.151,77.284,77.284,79.151,79.151,81.284,81.284,83.151,83.151,85.284,85.284,87.418,87.418,89.284,89.284,91.418,91.418,93.284,93.284,95.418,95.418,97.551,97.551,99.418,99.418,101.284,101.284,103.418,103.418,105.284,105.284,107.418,107.418,109.284,109.284,111.418,111.418,113.284,113.284,115.418,115.418,117.284,117.284,119.418,119.418,121.551,121.551,123.418,123.418,125.551,125.551,127.418,127.418,129.551,129.551,129.551,131.684,131.684,133.551,133.551,135.684,135.684,137.551,137.551,139.684,139.684,141.551,141.551,143.684,143.684,145.551,145.551,147.684,147.684,149.551,149.551,150.0,150.0,150.0,150.0,150.0,150.0,148.997,148.997,146.864,146.864,144.73,144.73,142.864,142.864,140.73,140.73,138.864,138.864,136.73,136.73,134.864,134.864,132.73,132.73,130.864,130.864,128.73,128.73,126.597,126.597,124.73,124.73,122.597,122.597,120.73,120.73,118.597,118.597,116.73,116.73,114.597,114.597,112.73,112.73,110.597,110.597,108.73,108.73,106.597,106.597,104.73,104.73,102.864,102.864,100.73,100.73,98.597,98.597,96.73,96.73,94.597,94.597,92.464,92.464,90.597,90.597,88.464,88.464,86.597,86.597,84.464,84.464,82.597,82.597,80.464,80.464,78.597,78.597,76.464,76.464,74.597,74.597,72.464,72.464,70.597,70.597,68.464,68.464,66.597,66.597,64.464,64.464,62.597,62.597,60.464,60.464,58.597,58.597,56.464,56.464,54.597,54.597,52.464,52.464,50.597,50.597,48.464,48.464,46.597,46.597,44.464,44.464,42.597,42.597,40.464,40.464,38.597,38.597,36.464,36.464,34.597,34.597,32.464,32.464,30.33,30.33,28.464,28.464,26.33,26.33,24.197,24.197,22.33,22.33,20.197,20.197,18.33,18.33,16.197,16.197,14.33,14.33,12.197,12.197,10.33,10.33,8.197,8.197,6.33,6.33,4.197,4.197,2.33,2.33,0.207,0.207,0.0,0.0,0.0,0.0,0.0,0.0,0.0,0.0,0.0,0.0,0.262,0.262,2.393,2.393,4.26,4.26,6.393,6.393,8.26,8.26,10.393,10.393,12.26,12.26,14.393,14.393,16.526,16.526,16.526,18.393,18.393,20.526,20.526,22.393,22.393,24.526,24.526,26.393,26.393,28.526,28.526,30.393,30.393,32.526,32.526,34.393,34.393,36.526,36.526,38.393,38.393,40.526,40.526,42.393,42.393,44.526,44.526,46.66,48.526,48.526,50.66,50.66,50.66,52.526,54.66,54.66,56.526,56.526,58.66,58.66,60.526,60.526,62.66,62.66,62.66,64.526,64.526,66.66,66.66,68.526,68.526,70.66,70.66,72.526,72.526,74.66,76.526,76.526,78.66,78.66,80.526,80.526,82.66,82.66,84.526,84.526,86.66,86.66,88.526,88.526,90.66,90.66,92.526,92.526,94.66,94.66,96.526,96.526,98.66,98.66,100.526,100.526,102.66,102.66,104.526,104.526,104.526,106.66,106.66,108.526,108.526,110.66,110.66,112.526,112.526,114.66,114.66,116.526,116.526,118.66,118.66,120.526,120.526,122.66,122.66,124.526,124.526,126.66,126.66,128.526,128.526,130.66,130.66,132.793,132.793,134.66,134.66,136.793,136.793,138.66,138.66,140.793,140.793,142.66,142.66,144.793,144.793,146.66,146.66,148.793,148.793,150.66,150.66,152.793,152.793,154.66,154.66,156.793,156.793,158.66,158.66,160.793,160.793,162.66,162.66,164.793,164.793,166.926,166.926,168.793,168.793,170.926,170.926,172.793,172.793,174.926,174.926,176.793,176.793,178.926,178.926,180.0,180.0,180.0,180.0,180.0,180.0,180.0,180.0,180.0,180.0,180.0,180.0,178.489,178.489,176.356,176.356,174.489,174.489,172.356,172.356,170.489,170.489,168.356,168.356,166.489,166.489,164.623,164.623,162.489,162.489,160.356,160.356,158.489,158.489,156.356,156.356,154.489,154.489,152.356,152.356,150.489,150.489,148.356,148.356,146.489,146.489,144.356,144.356,142.489,142.489,140.356,140.356,138.489,138.489,136.356,136.356,134.489,134.489,132.356,132.356,130.489,130.489,128.356,128.356,126.489,126.489,124.356,124.356,122.489,122.489,120.356,120.356,118.489,118.489,116.356,116.356,114.489,114.489,112.356,112.356,110.489,110.489,108.356,108.356,106.223,106.223,104.356,104.356,102.223,102.223,100.356,100.356,98.223,98.223,96.356,96.356,94.223,94.223,92.356,92.356,90.223,90.223,88.089,88.089,86.223,86.223,84.089,84.089,82.223,82.223,80.089,80.089,78.223,78.223,76.089,76.089,74.223,74.223,72.089,72.089,70.223,70.223,68.089,68.089,66.223,66.223,64.089,64.089,62.223,62.223,60.089,60.089,57.956,57.956,56.089,56.089,53.956,53.956,52.089,52.089,49.956,49.956,48.089,48.089,45.956,45.956,44.089,44.089,41.956,41.956,40.089,40.089,37.956,37.956,36.089,36.089,33.956,33.956,32.089,32.089,29.956,29.956,28.089,28.089,25.956,25.956,24.089,24.089,21.956,21.956,21.956,19.823,19.823,17.956,17.956,15.823,15.823,13.956,13.956,11.823,11.823,9.956,9.956,7.823,7.823,5.689,5.689,3.823,3.823,1.689,1.689,-0.177,-0.177,-2.311,-2.311,-4.177,-4.177,-6.311,-6.311,-8.177,-8.177,-10.311,-10.311,-12.177,-12.177,-14.311,-14.311,-16.177,-16.177,-18.311,-18.311,-20.177,-20.177,-22.311,-22.311,-24.177,-24.177,-26.311,-26.311,-28.177,-28.177,-30.0,-30.0,-30.0,-30.0,-30.0,-30.0,-30.0,-30.0,-30.0,-30.0,-30.0,-30.0,-29.237,-29.237,-27.104,-27.104,-25.237,-25.237,-23.104,-23.104,-21.237,-21.237,-19.104,-19.104,-17.237,-17.237,-15.104,-15.104,-13.237,-13.237,-11.104,-11.104,-9.237,-9.237,-7.104,-7.104,-5.237,-5.237,-3.104,-3.104,-0.97,-0.97,0.896,0.896,3.03,3.03,4.896,4.896,7.03,7.03,8.896,8.896,11.03,11.03,13.163,13.163,15.03,15.03,17.163,17.163,19.03,19.03,21.163,21.163,23.03,23.03,25.163,25.163,27.03,27.03,29.163,29.163,31.03,31.03,33.163,33.163,35.03,35.03,37.163,37.163,39.03,39.03,41.163,41.163,43.296,43.296,45.163,45.163,47.03,47.03,49.163,49.163,51.296,51.296,53.163,53.163,55.296,55.296,57.163,57.163,59.296,59.296,61.163,61.163,63.296,63.296,65.43,65.43,67.296,67.296,69.43,69.43,71.296,71.296,73.43,73.43,75.296,75.296,77.43,77.43,79.296,79.296,81.43,81.43,83.296,83.296,85.43,85.43,87.296,87.296,89.43,89.43,91.296,91.296,93.43,93.43,95.296,95.296,97.43,97.43,99.296,99.296,101.43,101.43,103.296,103.296,103.296,105.43,105.43,107.563,107.563,109.43,109.43,111.563,111.563,113.696,113.696,115.563,115.563,117.696,117.696,119.563,119.563,121.43,121.43,123.563,123.563,125.43,125.43,127.563,127.563,129.696,129.696,131.563,131.563,133.696,133.696,135.563,135.563,137.696,137.696,139.83,139.83,141.696,141.696,143.83,143.83,145.696,145.696,147.83,147.83,149.696,149.696,151.83,151.83,153.696,153.696,155.83,155.83,157.696,157.696,159.83,159.83,161.963,161.963,163.83,163.83,165.963,165.963,167.83,167.83,169.963,169.963,171.83,171.83,173.963,173.963,175.83,175.83,177.963,177.963,179.825,179.825],\"xaxis\":\"x\",\"y\":[-4.8,-4.8,-4.8,-4.8,-4.8,-4.8,-4.8,-4.8,-4.8,-4.8,-4.8,-4.8,-4.8,-4.8,-4.8,-4.8,-4.8,-4.8,-4.8,-4.8,-4.8,-4.8,-4.8,-4.8,-4.8,-4.8,-4.8,-4.8,-4.8,-4.8,-4.8,-4.8,-4.8,-4.8,-4.8,-4.8,-4.8,-4.8,-4.8,-4.8,-4.8,-4.8,-4.8,-4.8,-4.8,-4.8,-4.8,-4.8,-4.8,-4.8,-4.8,-4.8,-4.8,-4.8,-4.8,-4.8,-4.8,-4.8,-4.8,-4.8,-4.8,-4.8,-4.8,-4.8,-4.8,-4.8,-4.8,-4.8,-4.8,-4.8,-4.8,-4.8,-4.8,-4.8,-4.8,-4.8,-4.8,-4.8,-4.8,-4.8,-4.8,-4.8,-4.8,-4.8,-4.8,-4.8,-4.8,-4.8,-4.8,-4.8,-4.8,-4.8,-4.8,-4.8,-4.8,-4.8,-4.8,-4.8,-4.8,-4.8,-4.8,-4.8,-4.8,-4.8,-4.8,-4.8,-4.8,-4.8,-4.8,-4.8,-4.8,-4.8,-4.8,-4.8,-4.8,-4.8,-4.8,-4.8,-4.8,-4.8,-4.8,-4.8,-4.8,-4.8,-4.8,-4.8,-4.8,-4.8,-4.8,-4.8,-4.8,-4.8,-4.8,-4.8,-4.8,-4.8,-4.8,-4.8,-4.8,-4.8,-4.8,-4.8,-4.8,-4.8,-4.8,-4.8,-4.8,-4.8,-4.8,-4.8,-4.8,-4.8,-4.8,-4.8,-4.8,-4.8,-4.8,-4.8,-4.8,-4.8,-4.8,-4.8,-4.8,-4.8,-4.8,-4.8,-4.8,-4.8,-4.8,-4.8,-4.8,-4.8,-4.8,-4.8,-4.8,-4.8,-4.8,-4.8,-4.8,-4.8,-4.582,-4.582,-3.6,-3.6,-3.6,-3.6,-3.6,-3.6,-3.6,-3.6,-3.6,-3.6,-3.6,-3.6,-3.6,-3.6,-3.6,-3.6,-3.6,-3.6,-3.6,-3.6,-3.6,-3.6,-3.6,-3.6,-3.6,-3.6,-3.6,-3.6,-3.6,-3.6,-3.6,-3.6,-3.6,-3.6,-3.6,-3.6,-3.6,-3.6,-3.6,-3.6,-3.6,-3.6,-3.6,-3.6,-3.6,-3.6,-3.6,-3.6,-3.6,-3.6,-3.6,-3.6,-3.6,-3.6,-3.6,-3.6,-3.6,-3.6,-3.6,-3.6,-3.6,-3.6,-3.6,-3.6,-3.6,-3.6,-3.6,-3.6,-3.6,-3.6,-3.6,-3.6,-3.6,-3.6,-3.6,-3.6,-3.6,-3.6,-3.6,-3.6,-3.6,-3.6,-3.6,-3.6,-3.6,-3.6,-3.6,-3.6,-3.6,-3.6,-3.6,-3.6,-3.6,-3.6,-3.6,-3.6,-3.6,-3.6,-3.6,-3.6,-3.6,-3.6,-3.6,-3.6,-3.6,-3.6,-3.6,-3.6,-3.6,-3.6,-3.6,-3.6,-3.6,-3.6,-3.6,-3.6,-3.6,-3.6,-3.6,-3.6,-3.6,-3.6,-3.6,-3.6,-3.6,-3.6,-3.6,-3.6,-3.6,-3.6,-3.6,-3.6,-3.6,-3.6,-3.6,-3.6,-3.6,-3.6,-3.6,-3.6,-3.6,-3.6,-3.6,-3.6,-3.6,-3.6,-3.6,-3.6,-3.6,-3.6,-3.6,-3.6,-3.6,-3.6,-3.6,-3.6,-3.6,-3.6,-3.6,-3.6,-3.6,-3.6,-3.6,-3.6,-3.6,-3.6,-3.6,-3.6,-3.6,-3.6,-3.6,-3.6,-3.6,-3.6,-3.6,-3.6,-3.6,-3.6,-3.6,-3.6,-3.6,-2.509,-2.509,-2.4,-2.4,-2.4,-2.4,-2.4,-2.4,-2.4,-2.4,-2.4,-2.4,-2.4,-2.4,-2.4,-2.4,-2.4,-2.4,-2.4,-2.4,-2.4,-2.4,-2.4,-2.4,-2.4,-2.4,-2.4,-2.4,-2.4,-2.4,-2.4,-2.4,-2.4,-2.4,-2.4,-2.4,-2.4,-2.4,-2.4,-2.4,-2.4,-2.4,-2.4,-2.4,-2.4,-2.4,-2.4,-2.4,-2.4,-2.4,-2.4,-2.4,-2.4,-2.4,-2.4,-2.4,-2.4,-2.4,-2.4,-2.4,-2.4,-2.4,-2.4,-2.4,-2.4,-2.4,-2.4,-2.4,-2.4,-2.4,-2.4,-2.4,-2.4,-2.4,-2.4,-2.4,-2.4,-2.4,-2.4,-2.4,-2.4,-2.4,-2.4,-2.4,-2.4,-2.4,-2.4,-2.4,-2.4,-2.4,-2.4,-2.4,-2.4,-2.4,-2.4,-2.4,-2.4,-2.4,-2.4,-2.4,-2.4,-2.4,-2.4,-2.4,-2.4,-2.4,-2.4,-2.4,-2.4,-2.4,-2.4,-2.4,-2.4,-2.4,-2.4,-2.4,-2.4,-2.4,-2.4,-2.4,-2.4,-2.4,-2.4,-2.4,-2.4,-2.4,-2.4,-2.4,-2.4,-2.4,-2.4,-2.4,-2.4,-2.4,-2.4,-2.4,-2.4,-2.4,-2.4,-2.4,-2.4,-2.4,-2.4,-2.4,-2.4,-2.4,-2.4,-2.4,-2.4,-2.4,-2.4,-2.4,-2.4,-2.4,-2.4,-2.4,-2.4,-2.4,-2.4,-2.4,-2.4,-2.4,-2.4,-2.4,-2.4,-2.4,-2.4,-2.4,-2.4,-2.4,-2.4,-2.4,-2.4,-2.4,-2.4,-2.4,-2.4,-2.4,-2.4,-2.4,-2.4,-2.4,-2.4,-2.4,-2.4,-2.4,-2.4,-2.4,-2.4,-2.4,-2.4,-2.4,-2.4,-2.4,-2.4,-2.4,-2.4,-2.4,-2.4,-2.4,-2.4,-2.4,-2.4,-2.4,-2.4,-2.4,-2.4,-2.4,-2.4,-2.4,-2.4,-1.547,-1.547,-1.2,-1.2,-1.2,-1.2,-1.2,-1.2,-1.2,-1.2,-1.2,-1.2,-1.2,-1.2,-1.2,-1.2,-1.2,-1.2,-1.2,-1.2,-1.2,-1.2,-1.2,-1.2,-1.2,-1.2,-1.2,-1.2,-1.2,-1.2,-1.2,-1.2,-1.2,-1.2,-1.2,-1.2,-1.2,-1.2,-1.2,-1.2,-1.2,-1.2,-1.2,-1.2,-1.2,-1.2,-1.2,-1.2,-1.2,-1.2,-1.2,-1.2,-1.2,-1.2,-1.2,-1.2,-1.2,-1.2,-1.2,-1.2,-1.2,-1.2,-1.2,-1.2,-1.2,-1.2,-1.2,-1.2,-1.2,-1.2,-1.2,-1.2,-1.2,-1.2,-1.2,-1.2,-1.2,-1.2,-1.2,-1.2,-1.2,-1.2,-1.2,-1.2,-1.2,-1.2,-1.2,-1.2,-1.2,-1.2,-1.2,-1.2,-1.2,-1.2,-1.2,-1.2,-1.2,-1.2,-1.2,-1.2,-1.2,-1.2,-1.2,-1.2,-1.2,-1.2,-1.2,-1.2,-1.2,-1.2,-1.2,-1.2,-1.2,-1.2,-1.2,-1.2,-1.2,-1.2,-1.2,-1.2,-1.2,-1.2,-1.2,-1.2,-1.2,-1.2,-1.2,-1.2,-1.2,-1.2,-1.2,-1.2,-1.2,-1.2,-1.2,-1.2,-1.2,-1.2,-1.2,-1.2,-1.2,-1.2,-1.2,-1.2,-1.2,-1.2,-1.2,-1.2,-1.2,-1.2,-1.2,-1.2,-1.2,-1.2,-1.2,-1.2,-1.2,-1.2,-1.2,-1.2,-1.2,-1.2,-1.2,-1.2,-1.2,-1.2,-1.2,-1.2,-1.2,-1.2,-1.2,-1.2,-1.2,-1.2,-1.2,-1.2,-1.2,-1.2,-1.2,-1.2,-1.2,-1.2,-1.2,0.571,0.571,2.438,2.438,4.571,4.571,6.0,6.0,6.0,6.0,6.0,6.0,6.0,6.0,6.0,6.0,6.0,6.0,6.0,6.0,6.0,6.0,6.0,6.0,6.0,6.0,6.0,6.0,6.0,6.0,6.0,6.0,6.0,6.0,6.0,6.0,6.0,6.0,6.0,6.0,6.0,6.0,6.0,6.0,6.0,6.0,6.0,6.0,6.0,6.0,6.0,6.0,6.0,6.0,6.0,6.0,6.0,6.0,6.0,6.0,6.0,6.0,6.0,6.0,6.0,6.0,6.0,6.0,6.0,6.0,6.0,6.0,6.0,6.0,6.0,6.0,6.0,6.0,6.0,6.0,6.0,6.0,6.0,6.0,6.0,6.0,6.0,6.0,6.0,6.0,6.0,6.0,6.0,6.0,6.0,6.0,6.0,6.0,6.0,6.0,6.0,6.0,6.0,6.0,6.0,6.0,6.0,6.0,6.0,6.0,6.0,6.0,6.0,6.0,6.0,6.0,6.0,6.0,6.0,6.0,6.0,6.0,6.0,6.0,6.0,6.0,6.0,6.0,6.0,6.0,6.0,6.0,6.0,6.0,6.0,6.0,6.0,6.0,6.0,6.0,6.0,6.0,6.0,6.0,6.0,6.0,6.0,6.0,6.0,6.0,6.0,6.0,6.0,6.0,6.0,6.0,6.0,6.0,6.0,6.0,6.0,6.0,6.0,6.0,6.0,6.0,6.0,6.0,6.0,6.0,6.0,6.0,6.0,6.0,6.0,6.0,6.0,6.0,6.0,6.0,6.0,6.0,6.0,6.0,6.0,6.0,6.0,6.961,6.961,8.828,8.828,10.961,10.961,12.828,12.828,13.2,13.2,13.2,13.2,13.2,13.2,13.2,13.2,13.2,13.2,13.2,13.2,13.2,13.2,13.2,13.2,13.2,13.2,13.2,13.2,13.2,13.2,13.2,13.2,13.2,13.2,13.2,13.2,13.2,13.2,13.2,13.2,13.2,13.2,13.2,13.2,13.2,13.2,13.2,13.2,13.2,13.2,13.2,13.2,13.2,13.2,13.2,13.2,13.2,13.2,13.2,13.2,13.2,13.2,13.2,13.2,13.2,13.2,13.2,13.2,13.2,13.2,13.2,13.2,13.2,13.2,13.2,13.2,13.2,13.2,13.2,13.2,13.2,13.2,13.2,13.2,13.2,13.2,13.2,13.2,13.2,13.2,13.2,13.2,13.2,13.2,13.2,13.2,13.2,13.2,13.2,13.2,13.2,13.2,13.2,13.2,13.2,13.2,13.2,13.2,13.2,13.2,13.2,13.2,13.2,13.2,13.2,13.2,13.2,13.2,13.2,13.2,13.2,13.2,13.2,13.2,13.2,13.2,13.2,13.2,13.2,13.2,13.2,13.2,13.2,13.2,13.2,13.2,13.2,13.2,13.2,13.2,13.2,13.2,13.2,13.2,13.2,13.2,13.2,13.2,13.2,13.2,13.2,13.2,13.2,13.2,13.2,13.2,13.2,13.2,13.2,13.2,13.2,13.2,13.2,13.2,13.2,13.2,13.2,13.2,13.2,13.2,13.2,13.2,13.2,13.2,13.2,13.2,13.2,13.2,13.2,13.2,13.2,13.2,13.2,13.2,13.2,13.2,13.2,13.2,13.2,13.2,13.2,13.2,13.2,13.2,13.2,13.2,13.2,13.2,13.2,13.2,13.2,13.2,13.2,13.2,13.2,13.2,13.2,13.2,13.2,13.2,13.2,13.2,13.2,13.2,13.2,13.2,13.481,13.481,15.539,15.539,15.6,15.6,15.6,15.6,15.6,15.6,15.6,15.6,15.6,15.6,15.6,15.6,15.6,15.6,15.6,15.6,15.6,15.6,15.6,15.6,15.6,15.6,15.6,15.6,15.6,15.6,15.6,15.6,15.6,15.6,15.6,15.6,15.6,15.6,15.6,15.6,15.6,15.6,15.6,15.6,15.6,15.6,15.6,15.6,15.6,15.6,15.6,15.6,15.6,15.6,15.6,15.6,15.6,15.6,15.6,15.6,15.6,15.6,15.6,15.6,15.6,15.6,15.6,15.6,15.6,15.6,15.6,15.6,15.6,15.6,15.6,15.6,15.6,15.6,15.6,15.6,15.6,15.6,15.6,15.6,15.6,15.6,15.6,15.6,15.6,15.6,15.6,15.6,15.6,15.6,15.6,15.6,15.6,15.6,15.6,15.6,15.6,15.6,15.6,15.6,15.6,15.6,15.6,15.6,15.6,15.6,15.6,15.6,15.6,15.6,15.6,15.6,15.6,15.6,15.6,15.6,15.6,15.6,15.6,15.6,15.6,15.6,15.6,15.6,15.6,15.6,15.6,15.6,15.6,15.6,15.6,15.6,15.6,15.6,15.6,15.6,15.6,15.6,15.6,15.6,15.6,15.6,15.6,15.6,15.6,15.6,15.6,15.6,15.6,15.6,15.6,15.6,15.6,15.6,15.6,15.6,15.6,15.6,15.6,15.6,15.6,15.6,15.6,15.6,15.6,15.6,15.6,15.6,15.6,15.6,15.6,15.6,15.6,15.6,15.6,15.6,15.6,15.6,15.6,15.871,15.871,17.733,17.733,18.0,18.0,18.0,18.0,18.0,18.0,18.0,18.0,18.0,18.0,18.0,18.0,18.0,18.0,18.0,18.0,18.0,18.0,18.0,18.0,18.0,18.0,18.0,18.0,18.0,18.0,18.0,18.0,18.0,18.0,18.0,18.0,18.0,18.0,18.0,18.0,18.0,18.0,18.0,18.0,18.0,18.0,18.0,18.0,18.0,18.0,18.0,18.0,18.0,18.0,18.0,18.0,18.0,18.0,18.0,18.0,18.0,18.0,18.0,18.0,18.0,18.0,18.0,18.0,18.0,18.0,18.0,18.0,18.0,18.0,18.0,18.0,18.0,18.0,18.0,18.0,18.0,18.0,18.0,18.0,18.0,18.0,18.0,18.0,18.0,18.0,18.0,18.0,18.0,18.0,18.0,18.0,18.0,18.0,18.0,18.0,18.0,18.0,18.0,18.0,18.0,18.0,18.0,18.0,18.0,18.0,18.0,18.0,18.0,18.0,18.0,18.0,18.0,18.0,18.0,18.0,18.0,18.0,18.0,18.0,18.0,18.0,18.0,18.0,18.0,18.0,18.0,18.0,18.0,18.0,18.0,18.0,18.0,18.0,18.0,18.0,18.0,18.0,18.0,18.0,18.0,18.0,18.0,18.0,18.0,18.0,18.0,18.0,18.0,18.0,18.0,19.726,19.726,20.4,20.4,20.4,20.4,20.4,20.4,20.4,20.4,20.4,20.4,20.4,20.4,20.4,20.4,20.4,20.4,20.4,20.4,20.4,20.4,20.4,20.4,20.4,20.4,20.4,20.4,20.4,20.4,20.4,20.4,20.4,20.4,20.4,20.4,20.4,20.4,20.4,20.4,20.4,20.4,20.4,20.4,20.4,20.4,20.4,20.4,20.4,20.4,20.4,20.4,20.4,20.4,20.4,20.4,20.4,20.4,20.4,20.4,20.4,20.4,20.4,20.4,20.4,20.4,20.4,20.4,20.4,20.4,20.4,20.4,20.4,20.4,20.4,20.4,20.4,20.4,20.4,20.4,20.4,20.4,20.4,20.4,20.4,20.4,20.4,20.4,20.4,20.4,20.4,20.4,20.4,20.4,20.4,20.4,20.4,20.4,20.4,20.4,20.4,20.4,20.4,20.4,20.4,20.4,20.4,20.4,20.4,20.4,20.4,20.4,20.4,20.4,20.4,20.4,20.4,20.4,20.4,20.4,20.4,20.4,20.4,20.4,20.4,20.4,20.4,20.4,20.4,20.4,20.4,20.4,20.4,20.4,20.4,20.4,20.4,20.4,20.4,20.4,20.4,20.4,20.4,20.4,20.4,20.4,20.4,20.4,20.4,20.4,20.4,20.4,21.978,21.978,22.8,22.8,22.8,22.8,22.8,22.8,22.8,22.8,22.8,22.8,22.8,22.8,22.8,22.8,22.8,22.8,22.8,22.8,22.8,22.8,22.8,22.8,22.8,22.8,22.8,22.8,22.8,22.8,22.8,22.8,22.8,22.8,22.8,22.8,22.8,22.8,22.8,22.8,22.8,22.8,22.8,22.8,22.8,22.8,22.8,22.8,22.8,22.8,22.8,22.8,22.8,22.8,22.8,22.8,22.8,22.8,22.8,22.8,22.8,22.8,22.8,22.8,22.8,22.8,22.8,22.8,22.8,22.8,22.8,22.8,22.8,22.8,22.8,22.8,22.8,22.8,22.8,22.8,22.8,22.8,22.8,22.8,22.8,22.8,22.8,22.8,22.8,22.8,22.8,22.8,22.8,22.8,22.8,22.8,22.8,22.8,22.8,22.8,22.8,22.8,22.8,22.8,22.8,22.8,22.8,22.8,22.8,22.8,22.8,22.8,22.8,22.8,22.8,22.8,22.8,22.8,22.8,22.8,22.8,22.8,22.8,22.8,22.8,22.8,22.8,22.8,22.8,22.8,22.8,22.8,22.8,22.8,22.8,22.8,22.8,22.8,22.8,22.8,22.8,22.8,22.8,22.8,22.8,22.8,22.8,22.8,22.8,22.8,22.8,22.8,22.8,22.8,22.8,22.8,22.8,22.8,22.8,22.8,22.8,22.8,23.568,23.568,25.701,25.701,27.568,27.568,29.701,29.701,29.701,31.2,31.2,31.2,31.2,31.2,31.2,31.2,31.2,31.2,31.2,31.2,31.2,31.2,31.2,31.2,31.2,31.2,31.2,31.2,31.2,31.2,31.2,31.2,31.2,31.2,31.2,31.2,31.2,31.2,31.2,31.2,31.2,31.2,31.2,31.2,31.2,31.2,31.2,31.2,31.2,31.2,31.2,31.2,31.2,31.2,31.2,31.2,31.2,31.2,31.2,31.2,31.2,31.2,31.2,31.2,31.2,31.2,31.2,31.2,31.2,31.2,31.2,31.2,31.2,31.2,31.2,31.2,31.2,31.2,31.2,31.2,31.2,31.2,31.2,31.2,31.2,31.2,31.2,31.2,31.2,31.2,31.2,31.2,31.2,31.2,31.2,31.2,31.2,31.2,31.2,31.2,31.2,31.2,31.2,31.2,31.2,31.2,31.2,31.2,31.2,31.2,31.2,31.2,31.2,31.2,31.2,31.2,31.2,31.2,31.2,31.2,31.2,31.2,31.2,31.2,31.2,31.2,31.2,31.2,31.2,31.2,31.2,31.2,31.2,31.2,31.2,31.2,31.2,31.2,31.2,31.2,31.2,31.2,31.2,31.2,31.2,31.2,31.2,31.2,31.2,31.2,31.2,31.2,31.2,31.2,31.2,31.2,31.2,31.2,31.2,31.2,31.2,31.2,31.2,31.2,31.2,31.2,31.2,31.2,31.2,31.2,31.2,31.2,31.2,31.2,31.2,31.2,31.2,31.2,31.2,31.687,31.687,33.82,33.82,35.687,35.687,37.82,37.82,39.577,39.577,39.6,39.6,39.6,39.6,39.6,39.6,39.6,39.6,39.6,39.6,39.6,39.6,39.6,39.6,39.6,39.6,39.6,39.6,39.6,39.6,39.6,39.6,39.6,39.6,39.6,39.6,39.6,39.6,39.6,39.6,39.6,39.6,39.6,39.6,39.6,39.6,39.6,39.6,39.6,39.6,39.6,39.6,39.6,39.6,39.6,39.6,39.6,39.6,39.6,39.6,39.6,39.6,39.6,39.6,39.6,39.6,39.6,39.6,39.6,39.6,39.6,39.6,39.6,39.6,39.6,39.6,39.6,39.6,39.6,39.6,39.6,39.6,39.6,39.6,39.6,39.6,39.6,39.6,39.6,39.6,39.6,39.6,39.6,39.6,39.6,39.6,39.6,39.6,39.6,39.6,39.6,39.6,39.6,39.6,39.6,39.6,39.6,39.6,39.6,39.6,39.6,39.6,39.6,39.6,39.6,39.6,39.6,39.6,39.6,39.6,39.6,39.6,39.6,39.6,39.6,39.6,39.6,39.6,39.6,39.6,39.6,39.6,39.6,39.6,39.6,39.6,39.6,39.6,39.6,39.6,39.6,39.6,39.6,39.6,39.6,39.6,39.6,39.6,39.6,39.6,39.6,39.6,39.6,39.6,39.6,39.6,39.6,39.6,39.6,39.6,39.6,39.6,39.6,39.6,39.6,39.6,39.6,39.6,39.6,39.6,39.6,39.6,39.6,39.6,39.6,39.6,39.6,39.6,39.6,39.6,39.6,39.6,39.6,39.6,39.6,39.6,39.6,39.6,39.944,39.944,41.81,41.81,43.2,43.2,43.2,43.2,43.2,43.2,43.2,43.2,43.2,43.2,43.2,43.2,43.2,43.2,43.2,43.2,43.2,43.2,43.2,43.2,43.2,43.2,43.2,43.2,43.2,43.2,43.2,43.2,43.2,43.2,43.2,43.2,43.2,43.2,43.2,43.2,43.2,43.2,43.2,43.2,43.2,43.2,43.2,43.2,43.2,43.2,43.2,43.2,43.2,43.2,43.2,43.2,43.2,43.2,43.2,43.2,43.2,43.2,43.2,43.2,43.2,43.2,43.2,43.2,43.2,43.2,43.2,43.2,43.2,43.2,43.2,43.2,43.2,43.2,43.2,43.2,43.2,43.2,43.2,43.2,43.2,43.2,43.2,43.2,43.2,43.2,43.2,43.2,43.2,43.2,43.2,43.2,43.2,43.2,43.2,43.2,43.2,43.2,43.2,43.2,43.2,43.2,43.2,43.2,43.2,43.2,43.2,43.2,43.2,43.2,43.2,43.2,43.2,43.2,43.2,43.2,43.2,43.2,43.2,43.2,43.2,43.2,43.2,43.2,43.2,43.2,43.2,43.2,43.2,43.2,43.2,43.2,43.2,43.2,43.2,43.2,43.2,43.2,43.2,43.2,43.2,43.2,43.2,43.2,43.2,43.2,43.2,43.2,43.2,43.2,43.2,43.2,43.2,43.2,43.2,43.2,43.2,43.2,43.2,43.2,43.2,43.2,43.2,43.2,43.2,43.2,43.2,43.2,43.2,43.2,43.2,44.329,44.329,46.196,46.196,46.8,46.8,46.8,46.8,46.8,46.8,46.8,46.8,46.8,46.8,46.8,46.8,46.8,46.8,46.8,46.8,46.8,46.8,46.8,46.8,46.8,46.8,46.8,46.8,46.8,46.8,46.8,46.8,46.8,46.8,46.8,46.8,46.8,46.8,46.8,46.8,46.8,46.8,46.8,46.8,46.8,46.8,46.8,46.8,46.8,46.8,46.8,46.8,46.8,46.8,46.8,46.8,46.8,46.8,46.8,46.8,46.8,46.8,46.8,46.8,46.8,46.8,46.8,46.8,46.8,46.8,46.8,46.8,46.8,46.8,46.8,46.8,46.8,46.8,46.8,46.8,46.8,46.8,46.8,46.8,46.8,46.8,46.8,46.8,46.8,46.8,46.8,46.8,46.8,46.8,46.8,46.8,46.8,46.8,46.8,46.8,46.8,46.8,46.8,46.8,46.8,46.8,46.8,46.8,46.8,46.8,46.8,46.8,46.8,46.8,46.8,46.8,46.8,46.8,46.8,46.8,46.8,46.8,46.8,46.8,46.8,46.8,46.8,46.8,46.8,46.8,46.8,46.8,46.8,46.8,46.8,46.8,46.8,46.8,46.8,46.8,46.8,46.8,46.8,46.8,46.8,46.8,46.8,46.8,46.8,46.8,46.8,46.8,46.8,46.8,46.8,48.186,48.186,50.052,50.052,50.4,50.4,50.4,50.4,50.4,50.4,50.4,50.4,50.4,50.4,50.4,50.4,50.4,50.4,50.4,50.4,50.4,50.4,50.4,50.4,50.4,50.4,50.4,50.4,50.4,50.4,50.4,50.4,50.4,50.4,50.4,50.4,50.4,50.4,50.4,50.4,50.4,50.4,50.4,50.4,50.4,50.4,50.4,50.4,50.4,50.4,50.4,50.4,50.4,50.4,50.4,50.4,50.4,50.4,50.4,50.4,50.4,50.4,50.4,50.4,50.4,50.4,50.4,50.4,50.4,50.4,50.4,50.4,50.4,50.4,50.4,50.4,50.4,50.4,50.4,50.4,50.4,50.4,50.4,50.4,50.4,50.4,50.4,50.4,50.4,50.4,50.4,50.4,50.4,50.4,50.4,50.4,50.4,50.4,50.4,50.4,50.4,50.4,50.4,50.4,50.4,50.4,50.4,50.4,50.4,50.4,50.4,50.4,50.4,50.4,50.4,50.4,50.4,50.4,50.4,50.4,50.4,50.4,50.4,50.4,50.4,50.4,50.4,50.4,50.4,50.4,50.4,50.4,50.4,50.4,50.4,50.4,50.4,50.4,50.4,50.4,50.4,50.4,50.4,50.4,50.4,50.4,50.4,50.4,50.4,50.4,50.4,50.4,50.4,50.4,50.4,50.4,50.4,50.4,50.4,50.4,50.4,50.4,50.4,50.4,50.4,50.4,50.4,50.4,50.4,50.4,50.4,50.4,50.4,50.4,52.037,52.037,54.0,54.0,54.0,54.0,54.0,54.0,54.0,54.0,54.0,54.0,54.0,54.0,54.0,54.0,54.0,54.0,54.0,54.0,54.0,54.0,54.0,54.0,54.0,54.0,54.0,54.0,54.0,54.0,54.0,54.0,54.0,54.0,54.0,54.0,54.0,54.0,54.0,54.0,54.0,54.0,54.0,54.0,54.0,54.0,54.0,54.0,54.0,54.0,54.0,54.0,54.0,54.0,54.0,54.0,54.0,54.0,54.0,54.0,54.0,54.0,54.0,54.0,54.0,54.0,54.0,54.0,54.0,54.0,54.0,54.0,54.0,54.0,54.0,54.0,54.0,54.0,54.0,54.0,54.0,54.0,54.0,54.0,54.0,54.0,54.0,54.0,54.0,54.0,54.0,54.0,54.0,54.0,54.0,54.0,54.0,54.0,54.0,54.0,54.0,54.0,54.0,54.0,54.0,54.0,54.0,54.0,54.0,54.0,54.0,54.0,54.0,54.0,54.0,54.0,54.0,54.0,54.0,54.0,54.0,54.0,54.0,54.0,54.0,54.0,54.0,54.0,54.0,54.0,54.0,54.0,54.0,54.0,54.0,54.0,54.0,54.0,54.0,54.0,54.0,54.0,54.0,54.0,54.0,54.0,54.0,54.0,54.0,54.0,54.0,54.0,54.0,54.0,54.0,54.0,54.0,54.0,54.0,54.0,54.0,54.0,54.0,54.0,54.0,54.0,54.0,54.0,54.0,54.0,54.0,54.0,54.0,54.295,54.295,56.427,56.427,58.294,58.294,60.427,60.427,62.294,62.294,63.6,63.6,63.6,63.6,63.6,63.6,63.6,63.6,63.6,63.6,63.6,63.6,63.6,63.6,63.6,63.6,63.6,63.6,63.6,63.6,63.6,63.6,63.6,63.6,63.6,63.6,63.6,63.6,63.6,63.6,63.6,63.6,63.6,63.6,63.6,63.6,63.6,63.6,63.6,63.6,63.6,63.6,63.6,63.6,63.6,63.6,63.6,63.6,63.6,63.6,63.6,63.6,63.6,63.6,63.6,63.6,63.6,63.6,63.6,63.6,63.6,63.6,63.6,63.6,63.6,63.6,63.6,63.6,63.6,63.6,63.6,63.6,63.6,63.6,63.6,63.6,63.6,63.6,63.6,63.6,63.6,63.6,63.6,63.6,63.6,63.6,63.6,63.6,63.6,63.6,63.6,63.6,63.6,63.6,63.6,63.6,63.6,63.6,63.6,63.6,63.6,63.6,63.6,63.6,63.6,63.6,63.6,63.6,63.6,63.6,63.6,63.6,63.6,63.6,63.6,63.6,63.6,63.6,63.6,63.6,63.6,63.6,63.6,63.6,63.6,63.6,63.6,63.6,63.6,63.6,63.6,63.6,63.6,63.6,63.6,63.6,63.6,63.6,63.6,63.6,63.6,63.6,63.6,63.6,63.6,63.6,63.6,63.6,63.6,63.6,64.279,64.279,66.413,66.413,68.279,68.279,70.413,70.413,72.279,72.279,72.279,73.2,73.2,73.2,73.2,73.2,73.2,73.2,73.2,73.2,73.2,73.2,73.2,73.2,73.2,73.2,73.2,73.2,73.2,73.2,73.2,73.2,73.2,73.2,73.2,73.2,73.2,73.2,73.2,73.2,73.2,73.2,73.2,73.2,73.2,73.2,73.2,73.2,73.2,73.2,73.2,73.2,73.2,73.2,73.2,73.2,73.2,73.2,73.2,73.2,73.2,73.2,73.2,73.2,73.2,73.2,73.2,73.2,73.2,73.2,73.2,73.2,73.2,73.2,73.2,73.2,73.2,73.2,73.2,73.2,73.2,73.2,73.2,73.2,73.2,73.2,73.2,73.2,73.2,73.2,73.2,73.2,73.2,73.2,73.2,73.2,73.2,73.2,73.2,73.2,73.2,73.2,73.2,73.2,73.2,73.2,73.2,73.2,73.2,73.2,73.2,73.2,73.2,73.2,73.2,73.2,73.2,73.2,73.2,73.2,73.2,73.2,73.2,73.2,73.2,73.2,73.2,73.2,73.2,73.2,73.2,73.2,73.2,73.2,73.2,73.2,73.2,73.2,73.2,73.2,73.2,73.2,73.2,73.2,73.2,73.2,73.2,73.2,73.2,73.2,73.2,73.2,73.2,73.2,73.2,73.2,73.2,73.2,73.2,73.2,73.2,73.2,73.2,73.2,73.2,73.2,73.2,73.2,73.2,73.2,73.2,73.2,73.2,73.2,73.2,73.936,73.936,75.803,75.803,77.892,77.892,78.0,78.0,78.0,78.0,78.0,78.0,78.0,78.0,78.0,78.0,78.0,78.0,78.0,78.0,78.0,78.0,78.0,78.0,78.0,78.0,78.0,78.0,78.0,78.0,78.0,78.0,78.0,78.0,78.0,78.0,78.0,78.0,78.0,78.0,78.0,78.0,78.0,78.0,78.0,78.0,78.0,78.0,78.0,78.0,78.0,78.0,78.0,78.0,78.0,78.0,78.0,78.0,78.0,78.0,78.0,78.0,78.0,78.0,78.0,78.0,78.0,78.0,78.0,78.0,78.0,78.0,78.0,78.0,78.0,78.0,78.0,78.0,78.0,78.0,78.0,78.0,78.0,78.0,78.0,78.0,78.0,78.0,78.0,78.0,78.0,78.0,78.0,78.0,78.0,78.0,78.0,78.0,78.0,78.0,78.0,78.0,78.0,78.0,78.0,78.0,78.0,78.0,78.0,78.0,78.0,78.0,78.0,78.0,78.0,78.0,78.0,78.0,78.0,78.0,78.0,78.0,78.0,78.0,78.0,78.0,78.0,78.0,78.0,78.0,78.0,78.0,78.0,78.0,78.0,78.0,78.0,78.0,78.0,78.0,78.0,78.0,78.0,78.0,78.0,78.0,78.0,78.0,78.0,78.0,78.0,78.0,78.0,78.0,78.0,78.0,78.0,78.0,78.0,78.0,78.0,78.0,78.0,78.0,78.0,78.0,78.0,78.0,78.0,78.0,78.0,78.0,78.0,78.0,78.0,78.0,78.0,78.0,78.0,79.059,79.059,81.193,81.193,82.8,82.8,82.8,82.8,82.8,82.8,82.8,82.8,82.8,82.8,82.8,82.8,82.8,82.8,82.8,82.8,82.8,82.8,82.8,82.8,82.8,82.8,82.8,82.8,82.8,82.8,82.8,82.8,82.8,82.8,82.8,82.8,82.8,82.8,82.8,82.8,82.8,82.8,82.8,82.8,82.8,82.8,82.8,82.8,82.8,82.8,82.8,82.8,82.8,82.8,82.8,82.8,82.8,82.8,82.8,82.8,82.8,82.8,82.8,82.8,82.8,82.8,82.8,82.8,82.8,82.8,82.8,82.8,82.8,82.8,82.8,82.8,82.8,82.8,82.8,82.8,82.8,82.8,82.8,82.8,82.8,82.8,82.8,82.8,82.8,82.8,82.8,82.8,82.8,82.8,82.8,82.8,82.8,82.8,82.8,82.8,82.8,82.8,82.8,82.8,82.8,82.8,82.8,82.8,82.8,82.8,82.8,82.8,82.8,82.8,82.8,82.8,82.8,82.8,82.8,82.8,82.8,82.8,82.8,82.8,82.8,82.8,82.8,82.8,82.8,82.8,82.8,82.8,82.8,82.8,82.8,82.8,82.8,82.8,82.8,82.8,82.8,82.8,82.8,82.8,82.8,82.8,82.8,82.8,82.8,82.8,82.8,82.8,82.8,82.8,82.8,82.8,82.8,82.8,82.8,82.8,82.8,82.8,83.178,83.178,85.045,85.045,87.178,87.178,89.045,89.045,91.178,91.178,93.045,93.045,93.6,93.6,93.6,93.6,93.6,93.6,93.6,93.6,93.6,93.6,93.6,93.6,93.6,93.6,93.6,93.6,93.6,93.6,93.6,93.6,93.6,93.6,93.6,93.6,93.6,93.6,93.6,93.6,93.6,93.6,93.6,93.6,93.6,93.6,93.6,93.6,93.6,93.6,93.6,93.6,93.6,93.6,93.6,93.6,93.6,93.6,93.6,93.6,93.6,93.6,93.6,93.6,93.6,93.6,93.6,93.6,93.6,93.6,93.6,93.6,93.6,93.6,93.6,93.6,93.6,93.6,93.6,93.6,93.6,93.6,93.6,93.6,93.6,93.6,93.6,93.6,93.6,93.6,93.6,93.6,93.6,93.6,93.6,93.6,93.6,93.6,93.6,93.6,93.6,93.6,93.6,93.6,93.6,93.6,93.6,93.6,93.6,93.6,93.6,93.6,93.6,93.6,93.6,93.6,93.6,93.6,93.6,93.6,93.6,93.6,93.6,93.6,93.6,93.6,93.6,93.6,93.6,93.6,93.6,93.6,93.6,93.6,93.6,93.6,93.6,93.6,93.6,93.6,93.6,93.6,93.6,93.6,93.6,93.6,93.6,93.6,93.6,93.6,93.6,93.6,93.6,93.6,93.6,93.6,93.6,93.6,93.6,93.6,93.6,93.6,93.6,93.6,93.6,93.6,93.6,93.6,93.6,93.6,93.6,93.6,93.6,93.6,93.6,93.6,93.6,93.6,93.6,93.6,93.6,93.6,93.6,93.6,93.6,93.6,93.6,93.6,93.6,93.6,93.6,93.6,93.6,95.168,95.168,97.301,97.301,99.435,99.435,101.301,101.301,103.435,103.435,104.4,104.4,104.4,104.4,104.4,104.4,104.4,104.4,104.4,104.4,104.4,104.4,104.4,104.4,104.4,104.4,104.4,104.4,104.4,104.4,104.4,104.4,104.4,104.4,104.4,104.4,104.4,104.4,104.4,104.4,104.4,104.4,104.4,104.4,104.4,104.4,104.4,104.4,104.4,104.4,104.4,104.4,104.4,104.4,104.4,104.4,104.4,104.4,104.4,104.4,104.4,104.4,104.4,104.4,104.4,104.4,104.4,104.4,104.4,104.4,104.4,104.4,104.4,104.4,104.4,104.4,104.4,104.4,104.4,104.4,104.4,104.4,104.4,104.4,104.4,104.4,104.4,104.4,104.4,104.4,104.4,104.4,104.4,104.4,104.4,104.4,104.4,104.4,104.4,104.4,104.4,104.4,104.4,104.4,104.4,104.4,104.4,104.4,104.4,104.4,104.4,104.4,104.4,104.4,104.4,104.4,104.4,104.4,104.4,104.4,104.4,104.4,104.4,104.4,104.4,104.4,104.4,104.4,104.4,104.4,104.4,104.4,104.4,104.4,104.4,104.4,104.4,104.4,104.4,104.4,104.4,104.4,104.4,104.4,104.4,104.4,104.4,104.4,104.4,104.4,104.4,104.4,104.4,104.4,104.4,104.4,104.4,104.4,104.4,104.4,104.4,104.4,104.4,104.4,104.4,104.4,104.4,104.4,104.4,104.4,104.4,104.4,104.4,104.4,104.4,104.4,104.4,104.4,104.4,104.4,104.4,104.4,104.4,104.4,104.4,104.4,104.4,104.4,104.4,104.4,104.4,105.287,105.287,107.42,107.42,109.287,109.287,110.4,110.4,110.4,110.4,110.4,110.4,110.4,110.4,110.4,110.4,110.4,110.4,110.4,110.4,110.4,110.4,110.4,110.4,110.4,110.4,110.4,110.4,110.4,110.4,110.4,110.4,110.4,110.4,110.4,110.4,110.4,110.4,110.4,110.4,110.4,110.4,110.4,110.4,110.4,110.4,110.4,110.4,110.4,110.4,110.4,110.4,110.4,110.4,110.4,110.4,110.4,110.4,110.4,110.4,110.4,110.4,110.4,110.4,110.4,110.4,110.4,110.4,110.4,110.4,110.4,110.4,110.4,110.4,110.4,110.4,110.4,110.4,110.4,110.4,110.4,110.4,110.4,110.4,110.4,110.4,110.4,110.4,110.4,110.4,110.4,110.4,110.4,110.4,110.4,110.4,110.4,110.4,110.4,110.4,110.4,110.4,110.4,110.4,110.4,110.4,110.4,110.4,110.4,110.4,110.4,110.4,110.4,110.4,110.4,110.4,110.4,110.4,110.4,110.4,110.4,110.4,110.4,110.4,110.4,110.4,110.4,110.4,110.4,110.4,110.4,110.4,110.4,110.4,110.4,110.4,110.4,110.4,110.4,110.4,110.4,110.4,110.4,110.4,110.4,110.4,110.4,110.4,110.4,110.4,110.4,110.4,110.4,110.4,110.4,110.4,110.4,111.81,111.81,113.677,113.677,115.81,115.81,116.4,116.4,116.4,116.4,116.4,116.4,116.4,116.4,116.4,116.4,116.4,116.4,116.4,116.4,116.4,116.4,116.4,116.4,116.4,116.4,116.4,116.4,116.4,116.4,116.4,116.4,116.4,116.4,116.4,116.4,116.4,116.4,116.4,116.4,116.4,116.4,116.4,116.4,116.4,116.4,116.4,116.4,116.4,116.4,116.4,116.4,116.4,116.4,116.4,116.4,116.4,116.4,116.4,116.4,116.4,116.4,116.4,116.4,116.4,116.4,116.4,116.4,116.4,116.4,116.4,116.4,116.4,116.4,116.4,116.4,116.4,116.4,116.4,116.4,116.4,116.4,116.4,116.4,116.4,116.4,116.4,116.4,116.4,116.4,116.4,116.4,116.4,116.4,116.4,116.4,116.4,116.4,116.4,116.4,116.4,116.4,116.4,116.4,116.4,116.4,116.4,116.4,116.4,116.4,116.4,116.4,116.4,116.4,116.4,116.4,116.4,116.4,116.4,116.4,116.4,116.4,116.4,116.4,116.4,116.4,116.4,116.4,116.4,116.4,116.4,116.4,116.4,116.4,116.4,116.4,116.4,116.4,116.4,116.4,116.4,116.4,116.4,116.4,116.4,116.4,116.4,116.4,116.4,116.4,116.4,116.4,116.4,116.4,116.4,116.4,118.063,118.063,119.929,119.929,122.063,122.063,123.929,123.929,126.063,126.063,127.4,127.4,127.4,127.4,127.4,127.4,127.4,127.4,127.4,127.4,127.4,127.4,127.4,127.4,127.4,127.4,127.4,127.4,127.4,127.4,127.4,127.4,127.4,127.4,127.4,127.4,127.4,127.4,127.4,127.4,127.4,127.4,127.4,127.4,127.4,127.4,127.4,127.4,127.4,127.4,127.4,127.4,127.4,127.4,127.4,127.4,127.4,127.4,127.4,127.4,127.4,127.4,127.4,127.4,127.4,127.4,127.4,127.4,127.4,127.4,127.4,127.4,127.4,127.4,127.4,127.4,127.4,127.4,127.4,127.4,127.4,127.4,127.4,127.4,127.4,127.4,127.4,127.4,127.4,127.4,127.4,127.4,127.4,127.4,127.4,127.4,127.4,127.4,127.4,127.4,127.4,127.4,127.4,127.4,127.4,127.4,127.4,127.4,127.4,127.4,127.4,127.4,127.4,127.4,127.4,127.4,127.4,127.4,127.4,127.4,127.4,127.4,127.4,127.4,127.4,127.4,127.4,127.4,127.4,127.4,127.4,127.4,127.4,127.4,127.4,127.4,127.4,127.4,127.4,127.4,127.4,127.4,127.4,127.4,127.4,127.4,127.4,127.4,127.4,127.4,127.4,127.4,127.4,127.4,127.4,127.4,127.4,127.4,127.4,127.4,127.4,127.4,127.4,127.4,127.4,127.4,127.4,127.4,127.4,127.4,127.4,127.4,127.4,127.4,127.4,127.4,127.4,127.4,127.4,127.4,127.4,127.4,127.4,127.4,127.4,127.4,127.4,127.4,127.4,127.4,127.4,127.918,127.918,130.051,130.051,131.918,131.918,134.051,134.051,136.185,136.185,138.051,138.051,138.4,138.4,138.4,138.4,138.4,138.4,138.4,138.4,138.4,138.4,138.4,138.4,138.4,138.4,138.4,138.4,138.4,138.4,138.4,138.4,138.4,138.4,138.4,138.4,138.4,138.4,138.4,138.4,138.4,138.4,138.4,138.4,138.4,138.4,138.4,138.4,138.4,138.4,138.4,138.4,138.4,138.4,138.4,138.4,138.4,138.4,138.4,138.4,138.4,138.4,138.4,138.4,138.4,138.4,138.4,138.4,138.4,138.4,138.4,138.4,138.4,138.4,138.4,138.4,138.4,138.4,138.4,138.4,138.4,138.4,138.4,138.4,138.4,138.4,138.4,138.4,138.4,138.4,138.4,138.4,138.4,138.4,138.4,138.4,138.4,138.4,138.4,138.4,138.4,138.4,138.4,138.4,138.4,138.4,138.4,138.4,138.4,138.4,138.4,138.4,138.4,138.4,138.4,138.4,138.4,138.4,138.4,138.4,138.4,138.4,138.4,138.4,138.4,138.4,138.4,138.4,138.4,138.4,138.4,138.4,138.4,138.4,138.4,138.4,138.4,138.4,138.4,138.4,138.4,138.4,138.4,138.4,138.4,138.4,138.4,138.4,138.4,138.4,138.4,138.4,138.4,138.4,138.4,138.4,138.4,138.4,138.4,138.4,138.4,138.4,138.4,138.4,138.4,138.4,138.4,138.4,138.4,138.4,138.4,138.4,138.4,138.4,138.4,138.4,138.4,138.4,138.4,138.4,138.4,138.4,138.4,138.4,138.4,138.4,138.4,138.4,138.4,138.4,138.4,138.4,138.4,138.4,138.4,138.4,138.4,138.4,138.4,138.4,138.4,138.4,138.4,138.4,138.4,138.4,138.4,138.4,138.4,138.4,138.4,138.4,138.4,138.4,138.4,138.4,138.4,138.4,138.4,138.4,138.4,138.489,138.489,140.303,140.303,142.437,142.437,144.57,144.57,146.437,146.437,148.57,148.57,149.4,149.4,149.4,149.4,149.4,149.4,149.4,149.4,149.4,149.4,149.4,149.4,149.4,149.4,149.4,149.4,149.4,149.4,149.4,149.4,149.4,149.4,149.4,149.4,149.4,149.4,149.4,149.4,149.4,149.4,149.4,149.4,149.4,149.4,149.4,149.4,149.4,149.4,149.4,149.4,149.4,149.4,149.4,149.4,149.4,149.4,149.4,149.4,149.4,149.4,149.4,149.4,149.4,149.4,149.4,149.4,149.4,149.4,149.4,149.4,149.4,149.4,149.4,149.4,149.4,149.4,149.4,149.4,149.4,149.4,149.4,149.4,149.4,149.4,149.4,149.4,149.4,149.4,149.4,149.4,149.4,149.4,149.4,149.4,149.4,149.4,149.4,149.4,149.4,149.4,149.4,149.4,149.4,149.4,149.4,149.4,149.4,149.4,149.4,149.4,149.4,149.4,149.4,149.4,149.4,149.4,149.4,149.4,149.4,149.4,149.4,149.4,149.4,149.4,149.4,149.4,149.4,149.4,149.4,149.4,149.4,149.4,149.4,149.4,149.4,149.4,149.4,149.4,149.4,149.4,149.4,149.4,149.4,149.4,149.4,149.4,149.4,149.4,149.4,149.4,149.4,149.4,149.4,149.4,149.4,149.4,149.4,149.4,149.4,149.4,149.4,149.4,149.4,149.4,149.4,149.4,149.4,149.4,149.4,149.4,149.4,149.4,149.4,149.4,149.4,149.4,149.4,149.4,149.4,149.4,149.4,149.4,149.4,149.4,149.4,149.4,149.4,149.4,149.4,149.4,149.4,149.4,149.4,149.4,149.4,149.4,149.4,149.4,149.4,149.4,149.4,149.4,149.4,149.4,149.4,149.4,149.4,149.4,149.4,149.4,149.4,149.4,149.4,149.4,149.4,149.4,149.4,149.4,149.4,149.4,149.4],\"yaxis\":\"y\",\"type\":\"scattergl\"}],                        {\"template\":{\"data\":{\"bar\":[{\"error_x\":{\"color\":\"#2a3f5f\"},\"error_y\":{\"color\":\"#2a3f5f\"},\"marker\":{\"line\":{\"color\":\"#E5ECF6\",\"width\":0.5},\"pattern\":{\"fillmode\":\"overlay\",\"size\":10,\"solidity\":0.2}},\"type\":\"bar\"}],\"barpolar\":[{\"marker\":{\"line\":{\"color\":\"#E5ECF6\",\"width\":0.5},\"pattern\":{\"fillmode\":\"overlay\",\"size\":10,\"solidity\":0.2}},\"type\":\"barpolar\"}],\"carpet\":[{\"aaxis\":{\"endlinecolor\":\"#2a3f5f\",\"gridcolor\":\"white\",\"linecolor\":\"white\",\"minorgridcolor\":\"white\",\"startlinecolor\":\"#2a3f5f\"},\"baxis\":{\"endlinecolor\":\"#2a3f5f\",\"gridcolor\":\"white\",\"linecolor\":\"white\",\"minorgridcolor\":\"white\",\"startlinecolor\":\"#2a3f5f\"},\"type\":\"carpet\"}],\"choropleth\":[{\"colorbar\":{\"outlinewidth\":0,\"ticks\":\"\"},\"type\":\"choropleth\"}],\"contour\":[{\"colorbar\":{\"outlinewidth\":0,\"ticks\":\"\"},\"colorscale\":[[0.0,\"#0d0887\"],[0.1111111111111111,\"#46039f\"],[0.2222222222222222,\"#7201a8\"],[0.3333333333333333,\"#9c179e\"],[0.4444444444444444,\"#bd3786\"],[0.5555555555555556,\"#d8576b\"],[0.6666666666666666,\"#ed7953\"],[0.7777777777777778,\"#fb9f3a\"],[0.8888888888888888,\"#fdca26\"],[1.0,\"#f0f921\"]],\"type\":\"contour\"}],\"contourcarpet\":[{\"colorbar\":{\"outlinewidth\":0,\"ticks\":\"\"},\"type\":\"contourcarpet\"}],\"heatmap\":[{\"colorbar\":{\"outlinewidth\":0,\"ticks\":\"\"},\"colorscale\":[[0.0,\"#0d0887\"],[0.1111111111111111,\"#46039f\"],[0.2222222222222222,\"#7201a8\"],[0.3333333333333333,\"#9c179e\"],[0.4444444444444444,\"#bd3786\"],[0.5555555555555556,\"#d8576b\"],[0.6666666666666666,\"#ed7953\"],[0.7777777777777778,\"#fb9f3a\"],[0.8888888888888888,\"#fdca26\"],[1.0,\"#f0f921\"]],\"type\":\"heatmap\"}],\"heatmapgl\":[{\"colorbar\":{\"outlinewidth\":0,\"ticks\":\"\"},\"colorscale\":[[0.0,\"#0d0887\"],[0.1111111111111111,\"#46039f\"],[0.2222222222222222,\"#7201a8\"],[0.3333333333333333,\"#9c179e\"],[0.4444444444444444,\"#bd3786\"],[0.5555555555555556,\"#d8576b\"],[0.6666666666666666,\"#ed7953\"],[0.7777777777777778,\"#fb9f3a\"],[0.8888888888888888,\"#fdca26\"],[1.0,\"#f0f921\"]],\"type\":\"heatmapgl\"}],\"histogram\":[{\"marker\":{\"pattern\":{\"fillmode\":\"overlay\",\"size\":10,\"solidity\":0.2}},\"type\":\"histogram\"}],\"histogram2d\":[{\"colorbar\":{\"outlinewidth\":0,\"ticks\":\"\"},\"colorscale\":[[0.0,\"#0d0887\"],[0.1111111111111111,\"#46039f\"],[0.2222222222222222,\"#7201a8\"],[0.3333333333333333,\"#9c179e\"],[0.4444444444444444,\"#bd3786\"],[0.5555555555555556,\"#d8576b\"],[0.6666666666666666,\"#ed7953\"],[0.7777777777777778,\"#fb9f3a\"],[0.8888888888888888,\"#fdca26\"],[1.0,\"#f0f921\"]],\"type\":\"histogram2d\"}],\"histogram2dcontour\":[{\"colorbar\":{\"outlinewidth\":0,\"ticks\":\"\"},\"colorscale\":[[0.0,\"#0d0887\"],[0.1111111111111111,\"#46039f\"],[0.2222222222222222,\"#7201a8\"],[0.3333333333333333,\"#9c179e\"],[0.4444444444444444,\"#bd3786\"],[0.5555555555555556,\"#d8576b\"],[0.6666666666666666,\"#ed7953\"],[0.7777777777777778,\"#fb9f3a\"],[0.8888888888888888,\"#fdca26\"],[1.0,\"#f0f921\"]],\"type\":\"histogram2dcontour\"}],\"mesh3d\":[{\"colorbar\":{\"outlinewidth\":0,\"ticks\":\"\"},\"type\":\"mesh3d\"}],\"parcoords\":[{\"line\":{\"colorbar\":{\"outlinewidth\":0,\"ticks\":\"\"}},\"type\":\"parcoords\"}],\"pie\":[{\"automargin\":true,\"type\":\"pie\"}],\"scatter\":[{\"marker\":{\"colorbar\":{\"outlinewidth\":0,\"ticks\":\"\"}},\"type\":\"scatter\"}],\"scatter3d\":[{\"line\":{\"colorbar\":{\"outlinewidth\":0,\"ticks\":\"\"}},\"marker\":{\"colorbar\":{\"outlinewidth\":0,\"ticks\":\"\"}},\"type\":\"scatter3d\"}],\"scattercarpet\":[{\"marker\":{\"colorbar\":{\"outlinewidth\":0,\"ticks\":\"\"}},\"type\":\"scattercarpet\"}],\"scattergeo\":[{\"marker\":{\"colorbar\":{\"outlinewidth\":0,\"ticks\":\"\"}},\"type\":\"scattergeo\"}],\"scattergl\":[{\"marker\":{\"colorbar\":{\"outlinewidth\":0,\"ticks\":\"\"}},\"type\":\"scattergl\"}],\"scattermapbox\":[{\"marker\":{\"colorbar\":{\"outlinewidth\":0,\"ticks\":\"\"}},\"type\":\"scattermapbox\"}],\"scatterpolar\":[{\"marker\":{\"colorbar\":{\"outlinewidth\":0,\"ticks\":\"\"}},\"type\":\"scatterpolar\"}],\"scatterpolargl\":[{\"marker\":{\"colorbar\":{\"outlinewidth\":0,\"ticks\":\"\"}},\"type\":\"scatterpolargl\"}],\"scatterternary\":[{\"marker\":{\"colorbar\":{\"outlinewidth\":0,\"ticks\":\"\"}},\"type\":\"scatterternary\"}],\"surface\":[{\"colorbar\":{\"outlinewidth\":0,\"ticks\":\"\"},\"colorscale\":[[0.0,\"#0d0887\"],[0.1111111111111111,\"#46039f\"],[0.2222222222222222,\"#7201a8\"],[0.3333333333333333,\"#9c179e\"],[0.4444444444444444,\"#bd3786\"],[0.5555555555555556,\"#d8576b\"],[0.6666666666666666,\"#ed7953\"],[0.7777777777777778,\"#fb9f3a\"],[0.8888888888888888,\"#fdca26\"],[1.0,\"#f0f921\"]],\"type\":\"surface\"}],\"table\":[{\"cells\":{\"fill\":{\"color\":\"#EBF0F8\"},\"line\":{\"color\":\"white\"}},\"header\":{\"fill\":{\"color\":\"#C8D4E3\"},\"line\":{\"color\":\"white\"}},\"type\":\"table\"}]},\"layout\":{\"annotationdefaults\":{\"arrowcolor\":\"#2a3f5f\",\"arrowhead\":0,\"arrowwidth\":1},\"autotypenumbers\":\"strict\",\"coloraxis\":{\"colorbar\":{\"outlinewidth\":0,\"ticks\":\"\"}},\"colorscale\":{\"diverging\":[[0,\"#8e0152\"],[0.1,\"#c51b7d\"],[0.2,\"#de77ae\"],[0.3,\"#f1b6da\"],[0.4,\"#fde0ef\"],[0.5,\"#f7f7f7\"],[0.6,\"#e6f5d0\"],[0.7,\"#b8e186\"],[0.8,\"#7fbc41\"],[0.9,\"#4d9221\"],[1,\"#276419\"]],\"sequential\":[[0.0,\"#0d0887\"],[0.1111111111111111,\"#46039f\"],[0.2222222222222222,\"#7201a8\"],[0.3333333333333333,\"#9c179e\"],[0.4444444444444444,\"#bd3786\"],[0.5555555555555556,\"#d8576b\"],[0.6666666666666666,\"#ed7953\"],[0.7777777777777778,\"#fb9f3a\"],[0.8888888888888888,\"#fdca26\"],[1.0,\"#f0f921\"]],\"sequentialminus\":[[0.0,\"#0d0887\"],[0.1111111111111111,\"#46039f\"],[0.2222222222222222,\"#7201a8\"],[0.3333333333333333,\"#9c179e\"],[0.4444444444444444,\"#bd3786\"],[0.5555555555555556,\"#d8576b\"],[0.6666666666666666,\"#ed7953\"],[0.7777777777777778,\"#fb9f3a\"],[0.8888888888888888,\"#fdca26\"],[1.0,\"#f0f921\"]]},\"colorway\":[\"#636efa\",\"#EF553B\",\"#00cc96\",\"#ab63fa\",\"#FFA15A\",\"#19d3f3\",\"#FF6692\",\"#B6E880\",\"#FF97FF\",\"#FECB52\"],\"font\":{\"color\":\"#2a3f5f\"},\"geo\":{\"bgcolor\":\"white\",\"lakecolor\":\"white\",\"landcolor\":\"#E5ECF6\",\"showlakes\":true,\"showland\":true,\"subunitcolor\":\"white\"},\"hoverlabel\":{\"align\":\"left\"},\"hovermode\":\"closest\",\"mapbox\":{\"style\":\"light\"},\"paper_bgcolor\":\"white\",\"plot_bgcolor\":\"#E5ECF6\",\"polar\":{\"angularaxis\":{\"gridcolor\":\"white\",\"linecolor\":\"white\",\"ticks\":\"\"},\"bgcolor\":\"#E5ECF6\",\"radialaxis\":{\"gridcolor\":\"white\",\"linecolor\":\"white\",\"ticks\":\"\"}},\"scene\":{\"xaxis\":{\"backgroundcolor\":\"#E5ECF6\",\"gridcolor\":\"white\",\"gridwidth\":2,\"linecolor\":\"white\",\"showbackground\":true,\"ticks\":\"\",\"zerolinecolor\":\"white\"},\"yaxis\":{\"backgroundcolor\":\"#E5ECF6\",\"gridcolor\":\"white\",\"gridwidth\":2,\"linecolor\":\"white\",\"showbackground\":true,\"ticks\":\"\",\"zerolinecolor\":\"white\"},\"zaxis\":{\"backgroundcolor\":\"#E5ECF6\",\"gridcolor\":\"white\",\"gridwidth\":2,\"linecolor\":\"white\",\"showbackground\":true,\"ticks\":\"\",\"zerolinecolor\":\"white\"}},\"shapedefaults\":{\"line\":{\"color\":\"#2a3f5f\"}},\"ternary\":{\"aaxis\":{\"gridcolor\":\"white\",\"linecolor\":\"white\",\"ticks\":\"\"},\"baxis\":{\"gridcolor\":\"white\",\"linecolor\":\"white\",\"ticks\":\"\"},\"bgcolor\":\"#E5ECF6\",\"caxis\":{\"gridcolor\":\"white\",\"linecolor\":\"white\",\"ticks\":\"\"}},\"title\":{\"x\":0.05},\"xaxis\":{\"automargin\":true,\"gridcolor\":\"white\",\"linecolor\":\"white\",\"ticks\":\"\",\"title\":{\"standoff\":15},\"zerolinecolor\":\"white\",\"zerolinewidth\":2},\"yaxis\":{\"automargin\":true,\"gridcolor\":\"white\",\"linecolor\":\"white\",\"ticks\":\"\",\"title\":{\"standoff\":15},\"zerolinecolor\":\"white\",\"zerolinewidth\":2}}},\"xaxis\":{\"anchor\":\"y\",\"domain\":[0.0,1.0],\"title\":{\"text\":\" x\"}},\"yaxis\":{\"anchor\":\"x\",\"domain\":[0.0,1.0],\"title\":{\"text\":\" y\"}},\"legend\":{\"tracegroupgap\":0},\"margin\":{\"t\":60}},                        {\"responsive\": true}                    ).then(function(){\n",
       "                            \n",
       "var gd = document.getElementById('d679a5a1-c6d8-466e-bb87-5b7f5840a055');\n",
       "var x = new MutationObserver(function (mutations, observer) {{\n",
       "        var display = window.getComputedStyle(gd).display;\n",
       "        if (!display || display === 'none') {{\n",
       "            console.log([gd, 'removed!']);\n",
       "            Plotly.purge(gd);\n",
       "            observer.disconnect();\n",
       "        }}\n",
       "}});\n",
       "\n",
       "// Listen for the removal of the full notebook cells\n",
       "var notebookContainer = gd.closest('#notebook-container');\n",
       "if (notebookContainer) {{\n",
       "    x.observe(notebookContainer, {childList: true});\n",
       "}}\n",
       "\n",
       "// Listen for the clearing of the current output cell\n",
       "var outputEl = gd.closest('.output');\n",
       "if (outputEl) {{\n",
       "    x.observe(outputEl, {childList: true});\n",
       "}}\n",
       "\n",
       "                        })                };                            </script>        </div>\n",
       "</body>\n",
       "</html>"
      ]
     },
     "metadata": {},
     "output_type": "display_data"
    },
    {
     "data": {
      "text/html": [
       "<html>\n",
       "<head><meta charset=\"utf-8\" /></head>\n",
       "<body>\n",
       "    <div>            <script src=\"https://cdnjs.cloudflare.com/ajax/libs/mathjax/2.7.5/MathJax.js?config=TeX-AMS-MML_SVG\"></script><script type=\"text/javascript\">if (window.MathJax) {MathJax.Hub.Config({SVG: {font: \"STIX-Web\"}});}</script>                <script type=\"text/javascript\">window.PlotlyConfig = {MathJaxConfig: 'local'};</script>\n",
       "        <script src=\"https://cdn.plot.ly/plotly-2.8.3.min.js\"></script>                <div id=\"580568ba-dc63-40ad-a03e-cd35d0a19701\" class=\"plotly-graph-div\" style=\"height:525px; width:100%;\"></div>            <script type=\"text/javascript\">                                    window.PLOTLYENV=window.PLOTLYENV || {};                                    if (document.getElementById(\"580568ba-dc63-40ad-a03e-cd35d0a19701\")) {                    Plotly.newPlot(                        \"580568ba-dc63-40ad-a03e-cd35d0a19701\",                        [{\"customdata\":[[0],[1],[2],[3],[4],[5],[6],[7],[8],[9],[10],[11],[12],[13],[14],[15],[16],[17],[18],[19],[20],[21],[22],[23],[24],[25],[26],[27],[28],[29],[30],[31],[32],[33],[34],[35],[36],[37],[38],[39],[40],[41],[42],[43],[44],[45],[46],[47],[48],[49],[50],[51],[52],[53],[54],[55],[56],[57],[58],[59],[60],[61],[62],[63],[64],[65],[66],[67],[68],[69],[70],[71],[72],[73],[74],[75],[76],[77],[78],[79],[80],[81],[82],[83],[84],[85],[86],[87],[88],[89],[90],[91],[92],[93],[94],[95],[96],[97],[98],[99],[100],[101],[102],[103],[104],[105],[106],[107],[108],[109],[110],[111],[112],[113],[114],[115],[116],[117],[118],[119],[120],[121],[122],[123],[124],[125],[126],[127],[128],[129],[130],[131],[132],[133],[134],[135],[136],[137],[138],[139],[140],[141],[142],[143],[144],[145],[146],[147],[148],[149],[150],[151],[152],[153],[154],[155],[156],[157],[158],[159],[160],[161],[162],[163],[164],[165],[166],[167],[168],[169],[170],[171],[172],[173],[174],[175],[176],[177],[178],[179],[180],[181],[182],[183],[184],[185],[186],[187],[188],[189],[190],[191],[192],[193],[194],[195],[196],[197],[198],[199],[200],[201],[202],[203],[204],[205],[206],[207],[208],[209],[210],[211],[212],[213],[214],[215],[216],[217],[218],[219],[220],[221],[222],[223],[224],[225],[226],[227],[228],[229],[230],[231],[232],[233],[234],[235],[236],[237],[238],[239],[240],[241],[242],[243],[244],[245],[246],[247],[248],[249],[250],[251],[252],[253],[254],[255],[256],[257],[258],[259],[260],[261],[262],[263],[264],[265],[266],[267],[268],[269],[270],[271],[272],[273],[274],[275],[276],[277],[278],[279],[280],[281],[282],[283],[284],[285],[286],[287],[288],[289],[290],[291],[292],[293],[294],[295],[296],[297],[298],[299],[300],[301],[302],[303],[304],[305],[306],[307],[308],[309],[310],[311],[312],[313],[314],[315],[316],[317],[318],[319],[320],[321],[322],[323],[324],[325],[326],[327],[328],[329],[330],[331],[332],[333],[334],[335],[336],[337],[338],[339],[340],[341],[342],[343],[344],[345],[346],[347],[348],[349],[350],[351],[352],[353],[354],[355],[356],[357],[358],[359],[360],[361],[362],[363],[364],[365],[366],[367],[368],[369],[370],[371],[372],[373],[374],[375],[376],[377],[378],[379],[380],[381],[382],[383],[384],[385],[386],[387],[388],[389],[390],[391],[392],[393],[394],[395],[396],[397],[398],[399],[400],[401],[402],[403],[404],[405],[406],[407],[408],[409],[410],[411],[412],[413],[414],[415],[416],[417],[418],[419],[420],[421],[422],[423],[424],[425],[426],[427],[428],[429],[430],[431],[432],[433],[434],[435],[436],[437],[438],[439],[440],[441],[442],[443],[444],[445],[446],[447],[448],[449],[450],[451],[452],[453],[454],[455],[456],[457],[458],[459],[460],[461],[462],[463],[464],[465],[466],[467],[468],[469],[470],[471],[472],[473],[474],[475],[476],[477],[478],[479],[480],[481],[482],[483],[484],[485],[486],[487],[488],[489],[490],[491],[492],[493],[494],[495],[496],[497],[498],[499],[500],[501],[502],[503],[504],[505],[506],[507],[508],[509],[510],[511],[512],[513],[514],[515],[516],[517],[518],[519],[520],[521],[522],[523],[524],[525],[526],[527],[528],[529],[530],[531],[532],[533],[534],[535],[536],[537],[538],[539],[540],[541],[542],[543],[544],[545],[546],[547],[548],[549],[550],[551],[552],[553],[554],[555],[556],[557],[558],[559],[560],[561],[562],[563],[564],[565],[566],[567],[568],[569],[570],[571],[572],[573],[574],[575],[576],[577],[578],[579],[580],[581],[582],[583],[584],[585],[586],[587],[588],[589],[590],[591],[592],[593],[594],[595],[596],[597],[598],[599],[600],[601],[602],[603],[604],[605],[606],[607],[608],[609],[610],[611],[612],[613],[614],[615],[616],[617],[618],[619],[620],[621],[622],[623],[624],[625],[626],[627],[628],[629],[630],[631],[632],[633],[634],[635],[636],[637],[638],[639],[640],[641],[642],[643],[644],[645],[646],[647],[648],[649],[650],[651],[652],[653],[654],[655],[656],[657],[658],[659],[660],[661],[662],[663],[664],[665],[666],[667],[668],[669],[670],[671],[672],[673],[674],[675],[676],[677],[678],[679],[680],[681],[682],[683],[684],[685],[686],[687],[688],[689],[690],[691],[692],[693],[694],[695],[696],[697],[698],[699],[700],[701],[702],[703],[704],[705],[706],[707],[708],[709],[710],[711],[712],[713],[714],[715],[716],[717],[718],[719],[720],[721],[722],[723],[724],[725],[726],[727],[728],[729],[730],[731],[732],[733],[734],[735],[736],[737],[738],[739],[740],[741],[742],[743],[744],[745],[746],[747],[748],[749],[750],[751],[752],[753],[754],[755],[756],[757],[758],[759],[760],[761],[762],[763],[764],[765],[766],[767],[768],[769],[770],[771],[772],[773],[774],[775],[776],[777],[778],[779],[780],[781],[782],[783],[784],[785],[786],[787],[788],[789],[790],[791],[792],[793],[794],[795],[796],[797],[798],[799],[800],[801],[802],[803],[804],[805],[806],[807],[808],[809],[810],[811],[812],[813],[814],[815],[816],[817],[818],[819],[820],[821],[822],[823],[824],[825],[826],[827],[828],[829],[830],[831],[832],[833],[834],[835],[836],[837],[838],[839],[840],[841],[842],[843],[844],[845],[846],[847],[848],[849],[850],[851],[852],[853],[854],[855],[856],[857],[858],[859],[860],[861],[862],[863],[864],[865],[866],[867],[868],[869],[870],[871],[872],[873],[874],[875],[876],[877],[878],[879],[880],[881],[882],[883],[884],[885],[886],[887],[888],[889],[890],[891],[892],[893],[894],[895],[896],[897],[898],[899],[900],[901],[902],[903],[904],[905],[906],[907],[908],[909],[910],[911],[912],[913],[914],[915],[916],[917],[918],[919],[920],[921],[922],[923],[924],[925],[926],[927],[928],[929],[930],[931],[932],[933],[934],[935],[936],[937],[938],[939],[940],[941],[942],[943],[944],[945],[946],[947],[948],[949],[950],[951],[952],[953],[954],[955],[956],[957],[958],[959],[960],[961],[962],[963],[964],[965],[966],[967],[968],[969],[970],[971],[972],[973],[974],[975],[976],[977],[978],[979],[980],[981],[982],[983],[984],[985],[986],[987],[988],[989],[990],[991],[992],[993],[994],[995],[996],[997],[998],[999],[1000],[1001],[1002],[1003],[1004],[1005],[1006],[1007],[1008],[1009],[1010],[1011],[1012],[1013],[1014],[1015],[1016],[1017],[1018],[1019],[1020],[1021],[1022],[1023],[1024],[1025],[1026],[1027],[1028],[1029],[1030],[1031],[1032],[1033],[1034],[1035],[1036],[1037],[1038],[1039],[1040],[1041],[1042],[1043],[1044],[1045],[1046],[1047],[1048],[1049],[1050],[1051],[1052],[1053],[1054],[1055],[1056],[1057],[1058],[1059],[1060],[1061],[1062],[1063],[1064],[1065],[1066],[1067],[1068],[1069],[1070],[1071],[1072],[1073],[1074],[1075],[1076],[1077],[1078],[1079],[1080],[1081],[1082],[1083],[1084],[1085],[1086],[1087],[1088],[1089],[1090],[1091],[1092],[1093],[1094],[1095],[1096],[1097],[1098],[1099],[1100],[1101],[1102],[1103],[1104],[1105],[1106],[1107],[1108],[1109],[1110],[1111],[1112],[1113],[1114],[1115],[1116],[1117],[1118],[1119],[1120],[1121],[1122],[1123],[1124],[1125],[1126],[1127],[1128],[1129],[1130],[1131],[1132],[1133],[1134],[1135],[1136],[1137],[1138],[1139],[1140],[1141],[1142],[1143],[1144],[1145],[1146],[1147],[1148],[1149],[1150],[1151],[1152],[1153],[1154],[1155],[1156],[1157],[1158],[1159],[1160],[1161],[1162],[1163],[1164],[1165],[1166],[1167],[1168],[1169],[1170],[1171],[1172],[1173],[1174],[1175],[1176],[1177],[1178],[1179],[1180],[1181],[1182],[1183],[1184],[1185],[1186],[1187],[1188],[1189],[1190],[1191],[1192],[1193],[1194],[1195],[1196],[1197],[1198],[1199],[1200],[1201],[1202],[1203],[1204],[1205],[1206],[1207],[1208],[1209],[1210],[1211],[1212],[1213],[1214],[1215],[1216],[1217],[1218],[1219],[1220],[1221],[1222],[1223],[1224],[1225],[1226],[1227],[1228],[1229],[1230],[1231],[1232],[1233],[1234],[1235],[1236],[1237],[1238],[1239],[1240],[1241],[1242],[1243],[1244],[1245],[1246],[1247],[1248],[1249],[1250],[1251],[1252],[1253],[1254],[1255],[1256],[1257],[1258],[1259],[1260],[1261],[1262],[1263],[1264],[1265],[1266],[1267],[1268],[1269],[1270],[1271],[1272],[1273],[1274],[1275],[1276],[1277],[1278],[1279],[1280],[1281],[1282],[1283],[1284],[1285],[1286],[1287],[1288],[1289],[1290],[1291],[1292],[1293],[1294],[1295],[1296],[1297],[1298],[1299],[1300],[1301],[1302],[1303],[1304],[1305],[1306],[1307],[1308],[1309],[1310],[1311],[1312],[1313],[1314],[1315],[1316],[1317],[1318],[1319],[1320],[1321],[1322],[1323],[1324],[1325],[1326],[1327],[1328],[1329],[1330],[1331],[1332],[1333],[1334],[1335],[1336],[1337],[1338],[1339],[1340],[1341],[1342],[1343],[1344],[1345],[1346],[1347],[1348],[1349],[1350],[1351],[1352],[1353],[1354],[1355],[1356],[1357],[1358],[1359],[1360],[1361],[1362],[1363],[1364],[1365],[1366],[1367],[1368],[1369],[1370],[1371],[1372],[1373],[1374],[1375],[1376],[1377],[1378],[1379],[1380],[1381],[1382],[1383],[1384],[1385],[1386],[1387],[1388],[1389],[1390],[1391],[1392],[1393],[1394],[1395],[1396],[1397],[1398],[1399],[1400],[1401],[1402],[1403],[1404],[1405],[1406],[1407],[1408],[1409],[1410],[1411],[1412],[1413],[1414],[1415],[1416],[1417],[1418],[1419],[1420],[1421],[1422],[1423],[1424],[1425],[1426],[1427],[1428],[1429],[1430],[1431],[1432],[1433],[1434],[1435],[1436],[1437],[1438],[1439],[1440],[1441],[1442],[1443],[1444],[1445],[1446],[1447],[1448],[1449],[1450],[1451],[1452],[1453],[1454],[1455],[1456],[1457],[1458],[1459],[1460],[1461],[1462],[1463],[1464],[1465],[1466],[1467],[1468],[1469],[1470],[1471],[1472],[1473],[1474],[1475],[1476],[1477],[1478],[1479],[1480],[1481],[1482],[1483],[1484],[1485],[1486],[1487],[1488],[1489],[1490],[1491],[1492],[1493],[1494],[1495],[1496],[1497],[1498],[1499],[1500],[1501],[1502],[1503],[1504],[1505],[1506],[1507],[1508],[1509],[1510],[1511],[1512],[1513],[1514],[1515],[1516],[1517],[1518],[1519],[1520],[1521],[1522],[1523],[1524],[1525],[1526],[1527],[1528],[1529],[1530],[1531],[1532],[1533],[1534],[1535],[1536],[1537],[1538],[1539],[1540],[1541],[1542],[1543],[1544],[1545],[1546],[1547],[1548],[1549],[1550],[1551],[1552],[1553],[1554],[1555],[1556],[1557],[1558],[1559],[1560],[1561],[1562],[1563],[1564],[1565],[1566],[1567],[1568],[1569],[1570],[1571],[1572],[1573],[1574],[1575],[1576],[1577],[1578],[1579],[1580],[1581],[1582],[1583],[1584],[1585],[1586],[1587],[1588],[1589],[1590],[1591],[1592],[1593],[1594],[1595],[1596],[1597],[1598],[1599],[1600],[1601],[1602],[1603],[1604],[1605],[1606],[1607],[1608],[1609],[1610],[1611],[1612],[1613],[1614],[1615],[1616],[1617],[1618],[1619],[1620],[1621],[1622],[1623],[1624],[1625],[1626],[1627],[1628],[1629],[1630],[1631],[1632],[1633],[1634],[1635],[1636],[1637],[1638],[1639],[1640],[1641],[1642],[1643],[1644],[1645],[1646],[1647],[1648],[1649],[1650],[1651],[1652],[1653],[1654],[1655],[1656],[1657],[1658],[1659],[1660],[1661],[1662],[1663],[1664],[1665],[1666],[1667],[1668],[1669],[1670],[1671],[1672],[1673],[1674],[1675],[1676],[1677],[1678],[1679],[1680],[1681],[1682],[1683],[1684],[1685],[1686],[1687],[1688],[1689],[1690],[1691],[1692],[1693],[1694],[1695],[1696],[1697],[1698],[1699],[1700],[1701],[1702],[1703],[1704],[1705],[1706],[1707],[1708],[1709],[1710],[1711],[1712],[1713],[1714],[1715],[1716],[1717],[1718],[1719],[1720],[1721],[1722],[1723],[1724],[1725],[1726],[1727],[1728],[1729],[1730],[1731],[1732],[1733],[1734],[1735],[1736],[1737],[1738],[1739],[1740],[1741],[1742],[1743],[1744],[1745],[1746],[1747],[1748],[1749],[1750],[1751],[1752],[1753],[1754],[1755],[1756],[1757],[1758],[1759],[1760],[1761],[1762],[1763],[1764],[1765],[1766],[1767],[1768],[1769],[1770],[1771],[1772],[1773],[1774],[1775],[1776],[1777],[1778],[1779],[1780],[1781],[1782],[1783],[1784],[1785],[1786],[1787],[1788],[1789],[1790],[1791],[1792],[1793],[1794],[1795],[1796],[1797],[1798],[1799],[1800],[1801],[1802],[1803],[1804],[1805],[1806],[1807],[1808],[1809],[1810],[1811],[1812],[1813],[1814],[1815],[1816],[1817],[1818],[1819],[1820],[1821],[1822],[1823],[1824],[1825],[1826],[1827],[1828],[1829],[1830],[1831],[1832],[1833],[1834],[1835],[1836],[1837],[1838],[1839],[1840],[1841],[1842],[1843],[1844],[1845],[1846],[1847],[1848],[1849],[1850],[1851],[1852],[1853],[1854],[1855],[1856],[1857],[1858],[1859],[1860],[1861],[1862],[1863],[1864],[1865],[1866],[1867],[1868],[1869],[1870],[1871],[1872],[1873],[1874],[1875],[1876],[1877],[1878],[1879],[1880],[1881],[1882],[1883],[1884],[1885],[1886],[1887],[1888],[1889],[1890],[1891],[1892],[1893],[1894],[1895],[1896],[1897],[1898],[1899],[1900],[1901],[1902],[1903],[1904],[1905],[1906],[1907],[1908],[1909],[1910],[1911],[1912],[1913],[1914],[1915],[1916],[1917],[1918],[1919],[1920],[1921],[1922],[1923],[1924],[1925],[1926],[1927],[1928],[1929],[1930],[1931],[1932],[1933],[1934],[1935],[1936],[1937],[1938],[1939],[1940],[1941],[1942],[1943],[1944],[1945],[1946],[1947],[1948],[1949],[1950],[1951],[1952],[1953],[1954],[1955],[1956],[1957],[1958],[1959],[1960],[1961],[1962],[1963],[1964],[1965],[1966],[1967],[1968],[1969],[1970],[1971],[1972],[1973],[1974],[1975],[1976],[1977],[1978],[1979],[1980],[1981],[1982],[1983],[1984],[1985],[1986],[1987],[1988],[1989],[1990],[1991],[1992],[1993],[1994],[1995],[1996],[1997],[1998],[1999],[2000],[2001],[2002],[2003],[2004],[2005],[2006],[2007],[2008],[2009],[2010],[2011],[2012],[2013],[2014],[2015],[2016],[2017],[2018],[2019],[2020],[2021],[2022],[2023],[2024],[2025],[2026],[2027],[2028],[2029],[2030],[2031],[2032],[2033],[2034],[2035],[2036],[2037],[2038],[2039],[2040],[2041],[2042],[2043],[2044],[2045],[2046],[2047],[2048],[2049],[2050],[2051],[2052],[2053],[2054],[2055],[2056],[2057],[2058],[2059],[2060],[2061],[2062],[2063],[2064],[2065],[2066],[2067],[2068],[2069],[2070],[2071],[2072],[2073],[2074],[2075],[2076],[2077],[2078],[2079],[2080],[2081],[2082],[2083],[2084],[2085],[2086],[2087],[2088],[2089],[2090],[2091],[2092],[2093],[2094],[2095],[2096],[2097],[2098],[2099],[2100],[2101],[2102],[2103],[2104],[2105],[2106],[2107],[2108],[2109],[2110],[2111],[2112],[2113],[2114],[2115],[2116],[2117],[2118],[2119],[2120],[2121],[2122],[2123],[2124],[2125],[2126],[2127],[2128],[2129],[2130],[2131],[2132],[2133],[2134],[2135],[2136],[2137],[2138],[2139],[2140],[2141],[2142],[2143],[2144],[2145],[2146],[2147],[2148],[2149],[2150],[2151],[2152],[2153],[2154],[2155],[2156],[2157],[2158],[2159],[2160],[2161],[2162],[2163],[2164],[2165],[2166],[2167],[2168],[2169],[2170],[2171],[2172],[2173],[2174],[2175],[2176],[2177],[2178],[2179],[2180],[2181],[2182],[2183],[2184],[2185],[2186],[2187],[2188],[2189],[2190],[2191],[2192],[2193],[2194],[2195],[2196],[2197],[2198],[2199],[2200],[2201],[2202],[2203],[2204],[2205],[2206],[2207],[2208],[2209],[2210],[2211],[2212],[2213],[2214],[2215],[2216],[2217],[2218],[2219],[2220],[2221],[2222],[2223],[2224],[2225],[2226],[2227],[2228],[2229],[2230],[2231],[2232],[2233],[2234],[2235],[2236],[2237],[2238],[2239],[2240],[2241],[2242],[2243],[2244],[2245],[2246],[2247],[2248],[2249],[2250],[2251],[2252],[2253],[2254],[2255],[2256],[2257],[2258],[2259],[2260],[2261],[2262],[2263],[2264],[2265],[2266],[2267],[2268],[2269],[2270],[2271],[2272],[2273],[2274],[2275],[2276],[2277],[2278],[2279],[2280],[2281],[2282],[2283],[2284],[2285],[2286],[2287],[2288],[2289],[2290],[2291],[2292],[2293],[2294],[2295],[2296],[2297],[2298],[2299],[2300],[2301],[2302],[2303],[2304],[2305],[2306],[2307],[2308],[2309],[2310],[2311],[2312],[2313],[2314],[2315],[2316],[2317],[2318],[2319],[2320],[2321],[2322],[2323],[2324],[2325],[2326],[2327],[2328],[2329],[2330],[2331],[2332],[2333],[2334],[2335],[2336],[2337],[2338],[2339],[2340],[2341],[2342],[2343],[2344],[2345],[2346],[2347],[2348],[2349],[2350],[2351],[2352],[2353],[2354],[2355],[2356],[2357],[2358],[2359],[2360],[2361],[2362],[2363],[2364],[2365],[2366],[2367],[2368],[2369],[2370],[2371],[2372],[2373],[2374],[2375],[2376],[2377],[2378],[2379],[2380],[2381],[2382],[2383],[2384],[2385],[2386],[2387],[2388],[2389],[2390],[2391],[2392],[2393],[2394],[2395],[2396],[2397],[2398],[2399],[2400],[2401],[2402],[2403],[2404],[2405],[2406],[2407],[2408],[2409],[2410],[2411],[2412],[2413],[2414],[2415],[2416],[2417],[2418],[2419],[2420],[2421],[2422],[2423],[2424],[2425],[2426],[2427],[2428],[2429],[2430],[2431],[2432],[2433],[2434],[2435],[2436],[2437],[2438],[2439],[2440],[2441],[2442],[2443],[2444],[2445],[2446],[2447],[2448],[2449],[2450],[2451],[2452],[2453],[2454],[2455],[2456],[2457],[2458],[2459],[2460],[2461],[2462],[2463],[2464],[2465],[2466],[2467],[2468],[2469],[2470],[2471],[2472],[2473],[2474],[2475],[2476],[2477],[2478],[2479],[2480],[2481],[2482],[2483],[2484],[2485],[2486],[2487],[2488],[2489],[2490],[2491],[2492],[2493],[2494],[2495],[2496],[2497],[2498],[2499],[2500],[2501],[2502],[2503],[2504],[2505],[2506],[2507],[2508],[2509],[2510],[2511],[2512],[2513],[2514],[2515],[2516],[2517],[2518],[2519],[2520],[2521],[2522],[2523],[2524],[2525],[2526],[2527],[2528],[2529],[2530],[2531],[2532],[2533],[2534],[2535],[2536],[2537],[2538],[2539],[2540],[2541],[2542],[2543],[2544],[2545],[2546],[2547],[2548],[2549],[2550],[2551],[2552],[2553],[2554],[2555],[2556],[2557],[2558],[2559],[2560],[2561],[2562],[2563],[2564],[2565],[2566],[2567],[2568],[2569],[2570],[2571],[2572],[2573],[2574],[2575],[2576],[2577],[2578],[2579],[2580],[2581],[2582],[2583],[2584],[2585],[2586],[2587],[2588],[2589],[2590],[2591],[2592],[2593],[2594],[2595],[2596],[2597],[2598],[2599],[2600],[2601],[2602],[2603],[2604],[2605],[2606],[2607],[2608],[2609],[2610],[2611],[2612],[2613],[2614],[2615],[2616],[2617],[2618],[2619],[2620],[2621],[2622],[2623],[2624],[2625],[2626],[2627],[2628],[2629],[2630],[2631],[2632],[2633],[2634],[2635],[2636],[2637],[2638],[2639],[2640],[2641],[2642],[2643],[2644],[2645],[2646],[2647],[2648],[2649],[2650],[2651],[2652],[2653],[2654],[2655],[2656],[2657],[2658],[2659],[2660],[2661],[2662],[2663],[2664],[2665],[2666],[2667],[2668],[2669],[2670],[2671],[2672],[2673],[2674],[2675],[2676],[2677],[2678],[2679],[2680],[2681],[2682],[2683],[2684],[2685],[2686],[2687],[2688],[2689],[2690],[2691],[2692],[2693],[2694],[2695],[2696],[2697],[2698],[2699],[2700],[2701],[2702],[2703],[2704],[2705],[2706],[2707],[2708],[2709],[2710],[2711],[2712],[2713],[2714],[2715],[2716],[2717],[2718],[2719],[2720],[2721],[2722],[2723],[2724],[2725],[2726],[2727],[2728],[2729],[2730],[2731],[2732],[2733],[2734],[2735],[2736],[2737],[2738],[2739],[2740],[2741],[2742],[2743],[2744],[2745],[2746],[2747],[2748],[2749],[2750],[2751],[2752],[2753],[2754],[2755],[2756],[2757],[2758],[2759],[2760],[2761],[2762],[2763],[2764],[2765],[2766],[2767],[2768],[2769],[2770],[2771],[2772],[2773],[2774],[2775],[2776],[2777],[2778],[2779],[2780],[2781],[2782],[2783],[2784],[2785],[2786],[2787],[2788],[2789],[2790],[2791],[2792],[2793],[2794],[2795],[2796],[2797],[2798],[2799],[2800],[2801],[2802],[2803],[2804],[2805],[2806],[2807],[2808],[2809],[2810],[2811],[2812],[2813],[2814],[2815],[2816],[2817],[2818],[2819],[2820],[2821],[2822],[2823],[2824],[2825],[2826],[2827],[2828],[2829],[2830],[2831],[2832],[2833],[2834],[2835],[2836],[2837],[2838],[2839],[2840],[2841],[2842],[2843],[2844],[2845],[2846],[2847],[2848],[2849],[2850],[2851],[2852],[2853],[2854],[2855],[2856],[2857],[2858],[2859],[2860],[2861],[2862],[2863],[2864],[2865],[2866],[2867],[2868],[2869],[2870],[2871],[2872],[2873],[2874],[2875],[2876],[2877],[2878],[2879],[2880],[2881],[2882],[2883],[2884],[2885],[2886],[2887],[2888],[2889],[2890],[2891],[2892],[2893],[2894],[2895],[2896],[2897],[2898],[2899],[2900],[2901],[2902],[2903],[2904],[2905],[2906],[2907],[2908],[2909],[2910],[2911],[2912],[2913],[2914],[2915],[2916],[2917],[2918],[2919],[2920],[2921],[2922],[2923],[2924],[2925],[2926],[2927],[2928],[2929],[2930],[2931],[2932],[2933],[2934],[2935],[2936],[2937],[2938],[2939],[2940],[2941],[2942],[2943],[2944],[2945],[2946],[2947],[2948],[2949],[2950],[2951],[2952],[2953],[2954],[2955],[2956],[2957],[2958],[2959],[2960],[2961],[2962],[2963],[2964],[2965],[2966],[2967],[2968],[2969],[2970],[2971],[2972],[2973],[2974],[2975],[2976],[2977],[2978],[2979],[2980],[2981],[2982],[2983],[2984],[2985],[2986],[2987],[2988],[2989],[2990],[2991],[2992],[2993],[2994],[2995],[2996],[2997],[2998],[2999],[3000],[3001],[3002],[3003],[3004],[3005],[3006],[3007],[3008],[3009],[3010],[3011],[3012],[3013],[3014],[3015],[3016],[3017],[3018],[3019],[3020],[3021],[3022],[3023],[3024],[3025],[3026],[3027],[3028],[3029],[3030],[3031],[3032],[3033],[3034],[3035],[3036],[3037],[3038],[3039],[3040],[3041],[3042],[3043],[3044],[3045],[3046],[3047],[3048],[3049],[3050],[3051],[3052],[3053],[3054],[3055],[3056],[3057],[3058],[3059],[3060],[3061],[3062],[3063],[3064],[3065],[3066],[3067],[3068],[3069],[3070],[3071],[3072],[3073],[3074],[3075],[3076],[3077],[3078],[3079],[3080],[3081],[3082],[3083],[3084],[3085],[3086],[3087],[3088],[3089],[3090],[3091],[3092],[3093],[3094],[3095],[3096],[3097],[3098],[3099],[3100],[3101],[3102],[3103],[3104],[3105],[3106],[3107],[3108],[3109],[3110],[3111],[3112],[3113],[3114],[3115],[3116],[3117],[3118],[3119],[3120],[3121],[3122],[3123],[3124],[3125],[3126],[3127],[3128],[3129],[3130],[3131],[3132],[3133],[3134],[3135],[3136],[3137],[3138],[3139],[3140],[3141],[3142],[3143],[3144],[3145],[3146],[3147],[3148],[3149],[3150],[3151],[3152],[3153],[3154],[3155],[3156],[3157],[3158],[3159],[3160],[3161],[3162],[3163],[3164],[3165],[3166],[3167],[3168],[3169],[3170],[3171],[3172],[3173],[3174],[3175],[3176],[3177],[3178],[3179],[3180],[3181],[3182],[3183],[3184],[3185],[3186],[3187],[3188],[3189],[3190],[3191],[3192],[3193],[3194],[3195],[3196],[3197],[3198],[3199],[3200],[3201],[3202],[3203],[3204],[3205],[3206],[3207],[3208],[3209],[3210],[3211],[3212],[3213],[3214],[3215],[3216],[3217],[3218],[3219],[3220],[3221],[3222],[3223],[3224],[3225],[3226],[3227],[3228],[3229],[3230],[3231],[3232],[3233],[3234],[3235],[3236],[3237],[3238],[3239],[3240],[3241],[3242],[3243],[3244],[3245],[3246],[3247],[3248],[3249],[3250],[3251],[3252],[3253],[3254],[3255],[3256],[3257],[3258],[3259],[3260],[3261],[3262],[3263],[3264],[3265],[3266],[3267],[3268],[3269],[3270],[3271],[3272],[3273],[3274],[3275],[3276],[3277],[3278],[3279],[3280],[3281],[3282],[3283],[3284],[3285],[3286],[3287],[3288],[3289],[3290],[3291],[3292],[3293],[3294],[3295],[3296],[3297],[3298],[3299],[3300],[3301],[3302],[3303],[3304],[3305],[3306],[3307],[3308],[3309],[3310],[3311],[3312],[3313],[3314],[3315],[3316],[3317],[3318],[3319],[3320],[3321],[3322],[3323],[3324],[3325],[3326],[3327],[3328],[3329],[3330],[3331],[3332],[3333],[3334],[3335],[3336],[3337],[3338],[3339],[3340],[3341],[3342],[3343],[3344],[3345],[3346],[3347],[3348],[3349],[3350],[3351],[3352],[3353],[3354],[3355],[3356],[3357],[3358],[3359],[3360],[3361],[3362],[3363],[3364],[3365],[3366],[3367],[3368],[3369],[3370],[3371],[3372],[3373],[3374],[3375],[3376],[3377],[3378],[3379],[3380],[3381],[3382],[3383],[3384],[3385],[3386],[3387],[3388],[3389],[3390],[3391],[3392],[3393],[3394],[3395],[3396],[3397],[3398],[3399],[3400],[3401],[3402],[3403],[3404],[3405],[3406],[3407],[3408],[3409],[3410],[3411],[3412],[3413],[3414],[3415],[3416],[3417],[3418],[3419],[3420],[3421],[3422],[3423],[3424],[3425],[3426],[3427],[3428],[3429],[3430],[3431],[3432],[3433],[3434],[3435],[3436],[3437],[3438],[3439],[3440],[3441],[3442],[3443],[3444],[3445],[3446],[3447],[3448],[3449],[3450],[3451],[3452],[3453],[3454],[3455],[3456],[3457],[3458],[3459],[3460],[3461],[3462],[3463],[3464],[3465],[3466],[3467],[3468],[3469],[3470],[3471],[3472],[3473],[3474],[3475],[3476],[3477],[3478],[3479],[3480],[3481],[3482],[3483],[3484],[3485],[3486],[3487],[3488],[3489],[3490],[3491],[3492],[3493],[3494],[3495],[3496],[3497],[3498],[3499],[3500],[3501],[3502],[3503],[3504],[3505],[3506],[3507],[3508],[3509],[3510],[3511],[3512],[3513],[3514],[3515],[3516],[3517],[3518],[3519],[3520],[3521],[3522],[3523],[3524],[3525],[3526],[3527],[3528],[3529],[3530],[3531],[3532],[3533],[3534],[3535],[3536],[3537],[3538],[3539],[3540],[3541],[3542],[3543],[3544],[3545],[3546],[3547],[3548],[3549],[3550],[3551],[3552],[3553],[3554],[3555],[3556],[3557],[3558],[3559],[3560],[3561],[3562],[3563],[3564],[3565],[3566],[3567],[3568],[3569],[3570],[3571],[3572],[3573],[3574],[3575],[3576],[3577],[3578],[3579],[3580],[3581],[3582],[3583],[3584],[3585],[3586],[3587],[3588],[3589],[3590],[3591],[3592],[3593],[3594],[3595],[3596],[3597],[3598],[3599],[3600],[3601],[3602],[3603],[3604],[3605],[3606],[3607],[3608],[3609],[3610],[3611],[3612],[3613],[3614],[3615],[3616],[3617],[3618],[3619],[3620],[3621],[3622],[3623],[3624],[3625],[3626],[3627],[3628],[3629],[3630],[3631],[3632],[3633],[3634],[3635],[3636],[3637],[3638],[3639],[3640],[3641],[3642],[3643],[3644],[3645],[3646],[3647],[3648],[3649],[3650],[3651],[3652],[3653],[3654],[3655],[3656],[3657],[3658],[3659],[3660],[3661],[3662],[3663],[3664],[3665],[3666],[3667],[3668],[3669],[3670],[3671],[3672],[3673],[3674],[3675],[3676],[3677],[3678],[3679],[3680],[3681],[3682],[3683],[3684],[3685],[3686],[3687],[3688],[3689],[3690],[3691],[3692],[3693],[3694],[3695],[3696],[3697],[3698],[3699],[3700],[3701],[3702],[3703],[3704],[3705],[3706],[3707],[3708],[3709],[3710],[3711],[3712],[3713],[3714],[3715],[3716],[3717],[3718],[3719],[3720],[3721],[3722],[3723],[3724],[3725],[3726],[3727],[3728],[3729],[3730],[3731],[3732],[3733],[3734],[3735],[3736],[3737],[3738],[3739],[3740],[3741],[3742],[3743],[3744],[3745],[3746],[3747],[3748],[3749],[3750],[3751],[3752],[3753],[3754],[3755],[3756],[3757],[3758],[3759],[3760],[3761],[3762],[3763],[3764],[3765],[3766],[3767],[3768],[3769],[3770],[3771],[3772],[3773],[3774],[3775],[3776],[3777],[3778],[3779],[3780],[3781],[3782],[3783],[3784],[3785],[3786],[3787],[3788],[3789],[3790],[3791],[3792],[3793],[3794],[3795],[3796],[3797],[3798],[3799],[3800],[3801],[3802],[3803],[3804],[3805],[3806],[3807],[3808],[3809],[3810],[3811],[3812],[3813],[3814],[3815],[3816],[3817],[3818],[3819],[3820],[3821],[3822],[3823],[3824],[3825],[3826],[3827],[3828],[3829],[3830],[3831],[3832],[3833],[3834],[3835],[3836],[3837],[3838],[3839],[3840],[3841],[3842],[3843],[3844],[3845],[3846],[3847],[3848],[3849],[3850],[3851],[3852],[3853],[3854],[3855],[3856],[3857],[3858],[3859],[3860],[3861],[3862],[3863],[3864],[3865],[3866],[3867],[3868],[3869],[3870],[3871],[3872],[3873],[3874],[3875],[3876],[3877],[3878],[3879],[3880],[3881],[3882],[3883],[3884],[3885],[3886],[3887],[3888],[3889],[3890],[3891],[3892],[3893],[3894],[3895],[3896],[3897],[3898],[3899],[3900],[3901],[3902],[3903],[3904],[3905],[3906],[3907],[3908],[3909],[3910],[3911],[3912],[3913],[3914],[3915],[3916],[3917],[3918],[3919],[3920],[3921],[3922],[3923],[3924],[3925],[3926],[3927],[3928],[3929],[3930],[3931],[3932],[3933],[3934],[3935],[3936],[3937],[3938],[3939],[3940],[3941],[3942],[3943],[3944],[3945],[3946],[3947],[3948],[3949],[3950],[3951],[3952],[3953],[3954],[3955],[3956],[3957],[3958],[3959],[3960],[3961],[3962],[3963],[3964],[3965],[3966],[3967],[3968],[3969],[3970],[3971],[3972],[3973],[3974],[3975],[3976],[3977],[3978],[3979],[3980],[3981],[3982],[3983],[3984],[3985],[3986],[3987],[3988],[3989],[3990],[3991],[3992],[3993],[3994],[3995],[3996],[3997],[3998],[3999],[4000],[4001],[4002],[4003],[4004],[4005],[4006],[4007],[4008],[4009],[4010],[4011],[4012],[4013],[4014],[4015],[4016],[4017],[4018],[4019],[4020],[4021],[4022],[4023],[4024],[4025],[4026],[4027],[4028],[4029],[4030],[4031],[4032],[4033],[4034],[4035],[4036],[4037],[4038],[4039],[4040],[4041],[4042],[4043],[4044],[4045],[4046],[4047],[4048],[4049],[4050],[4051],[4052],[4053],[4054],[4055],[4056],[4057],[4058],[4059],[4060],[4061],[4062],[4063],[4064],[4065],[4066],[4067],[4068],[4069],[4070],[4071],[4072],[4073],[4074],[4075],[4076],[4077],[4078],[4079],[4080],[4081],[4082],[4083],[4084],[4085],[4086],[4087],[4088],[4089],[4090],[4091],[4092],[4093],[4094],[4095],[4096],[4097],[4098],[4099],[4100],[4101],[4102],[4103],[4104],[4105],[4106],[4107],[4108],[4109],[4110],[4111],[4112],[4113],[4114],[4115],[4116],[4117],[4118],[4119],[4120],[4121],[4122],[4123],[4124],[4125],[4126],[4127],[4128],[4129],[4130],[4131],[4132],[4133],[4134],[4135],[4136],[4137],[4138],[4139],[4140],[4141],[4142],[4143],[4144],[4145],[4146],[4147],[4148],[4149],[4150],[4151],[4152],[4153],[4154],[4155],[4156],[4157],[4158],[4159],[4160],[4161],[4162],[4163],[4164],[4165],[4166],[4167],[4168],[4169],[4170],[4171],[4172],[4173],[4174],[4175],[4176],[4177],[4178],[4179],[4180],[4181],[4182],[4183],[4184],[4185],[4186],[4187],[4188],[4189],[4190],[4191],[4192],[4193],[4194],[4195],[4196],[4197],[4198],[4199],[4200],[4201],[4202],[4203],[4204],[4205],[4206],[4207],[4208],[4209],[4210],[4211],[4212],[4213],[4214],[4215],[4216],[4217],[4218],[4219],[4220],[4221],[4222],[4223],[4224],[4225],[4226],[4227],[4228],[4229],[4230],[4231],[4232],[4233],[4234],[4235],[4236],[4237],[4238],[4239],[4240],[4241],[4242],[4243],[4244],[4245],[4246],[4247],[4248],[4249],[4250],[4251],[4252],[4253],[4254],[4255],[4256],[4257],[4258],[4259],[4260],[4261],[4262],[4263],[4264],[4265],[4266],[4267],[4268],[4269],[4270],[4271],[4272],[4273],[4274],[4275],[4276],[4277],[4278],[4279],[4280],[4281],[4282],[4283],[4284],[4285],[4286],[4287],[4288],[4289],[4290],[4291],[4292],[4293],[4294],[4295],[4296],[4297],[4298],[4299],[4300],[4301],[4302],[4303],[4304],[4305],[4306],[4307],[4308],[4309],[4310],[4311],[4312],[4313],[4314],[4315],[4316],[4317],[4318],[4319],[4320],[4321],[4322],[4323],[4324],[4325],[4326],[4327],[4328],[4329],[4330],[4331],[4332],[4333],[4334],[4335],[4336],[4337],[4338],[4339],[4340],[4341],[4342],[4343],[4344],[4345],[4346],[4347],[4348],[4349],[4350],[4351],[4352],[4353],[4354],[4355],[4356],[4357],[4358],[4359],[4360],[4361],[4362],[4363],[4364],[4365],[4366],[4367],[4368],[4369],[4370],[4371],[4372],[4373],[4374],[4375],[4376],[4377],[4378],[4379],[4380],[4381],[4382],[4383],[4384],[4385],[4386],[4387],[4388],[4389],[4390],[4391],[4392],[4393],[4394],[4395],[4396],[4397],[4398],[4399],[4400],[4401],[4402],[4403],[4404],[4405],[4406],[4407],[4408],[4409],[4410],[4411],[4412],[4413],[4414],[4415],[4416],[4417],[4418],[4419],[4420],[4421],[4422],[4423],[4424],[4425],[4426],[4427],[4428],[4429],[4430],[4431],[4432],[4433],[4434],[4435],[4436],[4437],[4438],[4439],[4440],[4441],[4442],[4443],[4444],[4445],[4446],[4447],[4448],[4449],[4450],[4451],[4452],[4453],[4454],[4455],[4456],[4457],[4458],[4459],[4460],[4461],[4462],[4463],[4464],[4465],[4466],[4467],[4468],[4469],[4470],[4471],[4472],[4473],[4474],[4475],[4476],[4477],[4478],[4479],[4480],[4481],[4482],[4483],[4484],[4485],[4486],[4487],[4488],[4489],[4490],[4491],[4492],[4493],[4494],[4495],[4496],[4497],[4498],[4499],[4500],[4501],[4502],[4503],[4504],[4505],[4506],[4507],[4508],[4509],[4510],[4511],[4512],[4513],[4514],[4515],[4516],[4517],[4518],[4519],[4520],[4521],[4522],[4523],[4524],[4525],[4526],[4527],[4528],[4529],[4530],[4531],[4532],[4533],[4534],[4535],[4536],[4537],[4538],[4539],[4540],[4541],[4542],[4543],[4544],[4545],[4546],[4547],[4548],[4549],[4550],[4551],[4552],[4553],[4554],[4555],[4556],[4557],[4558],[4559],[4560],[4561],[4562],[4563],[4564],[4565],[4566],[4567],[4568],[4569],[4570],[4571],[4572],[4573],[4574],[4575],[4576],[4577],[4578],[4579],[4580],[4581],[4582],[4583],[4584],[4585],[4586],[4587],[4588],[4589],[4590],[4591],[4592],[4593],[4594],[4595],[4596],[4597],[4598],[4599],[4600],[4601],[4602],[4603],[4604],[4605],[4606],[4607],[4608],[4609],[4610],[4611],[4612],[4613],[4614],[4615],[4616],[4617],[4618],[4619],[4620],[4621],[4622],[4623],[4624],[4625],[4626],[4627],[4628],[4629],[4630],[4631],[4632],[4633],[4634],[4635],[4636],[4637],[4638],[4639],[4640],[4641],[4642],[4643],[4644],[4645],[4646],[4647],[4648],[4649],[4650],[4651],[4652],[4653],[4654],[4655],[4656],[4657],[4658],[4659],[4660],[4661],[4662],[4663],[4664],[4665],[4666],[4667],[4668],[4669],[4670],[4671],[4672],[4673],[4674],[4675],[4676],[4677],[4678],[4679],[4680],[4681],[4682],[4683],[4684],[4685],[4686],[4687],[4688],[4689],[4690],[4691],[4692],[4693],[4694],[4695],[4696],[4697],[4698],[4699],[4700],[4701],[4702],[4703],[4704],[4705],[4706],[4707],[4708],[4709],[4710],[4711],[4712],[4713],[4714],[4715],[4716],[4717],[4718],[4719],[4720],[4721],[4722],[4723],[4724],[4725],[4726],[4727],[4728],[4729],[4730],[4731],[4732],[4733],[4734],[4735],[4736],[4737],[4738],[4739],[4740],[4741],[4742],[4743],[4744],[4745],[4746],[4747],[4748],[4749],[4750],[4751],[4752],[4753],[4754],[4755],[4756],[4757],[4758],[4759],[4760],[4761],[4762],[4763],[4764],[4765],[4766],[4767],[4768],[4769],[4770],[4771],[4772],[4773],[4774],[4775],[4776],[4777],[4778],[4779],[4780],[4781],[4782],[4783],[4784],[4785],[4786],[4787],[4788],[4789],[4790],[4791],[4792],[4793],[4794],[4795],[4796],[4797],[4798],[4799],[4800],[4801],[4802],[4803],[4804],[4805],[4806],[4807],[4808],[4809],[4810],[4811],[4812],[4813],[4814],[4815],[4816],[4817],[4818],[4819],[4820],[4821],[4822],[4823],[4824],[4825],[4826],[4827],[4828],[4829],[4830],[4831],[4832],[4833],[4834],[4835],[4836],[4837],[4838],[4839],[4840],[4841],[4842],[4843],[4844],[4845],[4846],[4847],[4848],[4849],[4850],[4851],[4852],[4853],[4854],[4855],[4856],[4857],[4858],[4859],[4860],[4861]],\"hovertemplate\":\" x=%{x}<br> y=%{y}<br>count=%{customdata[0]}<extra></extra>\",\"legendgroup\":\"\",\"marker\":{\"color\":\"#636efa\",\"symbol\":\"circle\"},\"mode\":\"markers\",\"name\":\"\",\"showlegend\":false,\"x\":[-28.849,-28.849,-26.982,-26.982,-24.849,-24.849,-22.982,-22.982,-20.849,-20.849,-18.982,-18.982,-16.849,-16.849,-14.982,-14.982,-12.849,-12.849,-10.982,-10.982,-8.849,-8.849,-6.982,-6.982,-4.849,-4.849,-2.982,-2.982,-0.849,-0.849,1.018,1.018,3.151,3.151,5.018,5.018,7.151,7.151,9.018,9.018,11.151,11.151,13.018,13.018,15.151,15.151,17.018,17.018,19.151,19.151,21.285,21.285,23.151,23.151,25.285,25.285,27.418,27.418,29.285,29.285,31.418,31.418,33.285,33.285,35.418,35.418,37.285,37.285,39.418,39.418,41.285,41.285,43.418,43.418,45.285,45.285,47.418,47.418,49.551,49.551,51.418,51.418,53.551,53.551,55.418,55.418,57.551,57.551,59.418,59.418,61.551,61.551,63.418,63.418,65.551,65.551,67.418,67.418,69.551,69.551,71.418,71.418,73.551,73.551,75.418,75.418,77.551,77.551,79.418,79.418,79.418,81.551,83.418,83.418,85.551,85.551,87.418,87.418,89.551,89.551,91.685,91.685,93.551,93.551,93.551,95.685,95.685,97.551,97.551,99.685,99.685,101.551,101.551,103.685,103.685,105.551,105.551,107.685,107.685,109.551,109.551,111.685,111.685,113.551,113.551,115.685,115.685,117.551,117.551,119.685,119.685,121.551,121.551,123.685,123.685,125.551,125.551,127.685,127.685,129.551,129.551,131.685,131.685,133.551,133.551,135.685,135.685,137.551,137.551,139.685,139.685,141.818,141.818,143.685,143.685,145.818,145.818,147.685,147.685,149.805,149.805,149.966,149.966,147.93,147.93,146.063,146.063,143.93,143.93,142.063,142.063,139.93,139.93,137.796,137.796,135.93,135.93,133.796,133.796,131.663,131.663,129.796,129.796,127.663,127.663,125.796,125.796,123.663,123.663,121.796,121.796,119.663,119.663,117.796,117.796,115.663,115.663,113.796,113.796,111.663,111.663,109.796,109.796,107.663,107.663,105.796,105.796,103.663,103.663,101.796,101.796,99.663,99.663,97.53,97.53,95.663,95.663,93.53,93.53,91.663,91.663,89.53,89.53,89.53,86.33,86.33,84.196,84.196,82.33,82.33,80.196,80.196,78.33,78.33,76.196,76.196,74.33,74.33,74.33,72.196,72.196,70.063,70.063,68.196,68.196,66.063,66.063,64.196,64.196,62.063,62.063,59.93,59.93,58.063,58.063,55.93,55.93,54.063,54.063,51.93,51.93,49.796,49.796,47.93,47.93,46.063,46.063,43.93,43.93,42.063,42.063,39.93,39.93,37.796,37.796,35.93,35.93,33.796,33.796,31.93,31.93,29.796,29.796,27.663,27.663,25.796,25.796,23.663,23.663,21.796,21.796,19.663,19.663,17.796,17.796,15.663,15.663,13.796,13.796,11.663,11.663,9.796,9.796,7.663,7.663,5.796,5.796,3.663,3.663,1.796,1.796,-0.337,-0.337,-2.204,-2.204,-4.337,-4.337,-6.204,-6.204,-8.337,-8.337,-10.204,-10.204,-12.337,-12.337,-14.204,-14.204,-16.337,-16.337,-18.47,-18.47,-20.337,-20.337,-22.47,-22.47,-24.337,-24.337,-26.47,-26.47,-28.337,-28.337,-30.0,-30.0,-29.14,-29.14,-27.273,-27.273,-25.14,-25.14,-23.273,-23.273,-21.14,-21.14,-19.273,-19.273,-17.14,-17.14,-15.273,-15.273,-13.14,-13.14,-11.273,-11.273,-9.14,-9.14,-7.273,-7.273,-5.14,-5.14,-3.006,-3.006,-1.14,-1.14,0.994,0.994,2.86,2.86,4.994,4.994,6.86,6.86,8.994,8.994,10.86,10.86,12.994,12.994,14.86,14.86,14.86,16.994,19.127,19.127,20.994,20.994,23.127,23.127,24.994,24.994,24.994,27.127,28.994,28.994,31.127,31.127,32.994,32.994,35.127,35.127,36.994,36.994,39.127,39.127,39.127,40.994,40.994,43.127,43.127,45.26,45.26,47.127,47.127,49.26,49.26,51.127,51.127,53.26,53.26,55.127,55.127,57.26,59.127,59.127,61.26,61.26,63.127,63.127,65.26,65.26,67.127,67.127,69.26,69.26,71.127,71.127,73.26,73.26,75.127,75.127,77.26,77.26,79.127,79.127,81.26,81.26,81.26,83.127,85.26,85.26,87.127,87.127,89.26,89.26,91.127,91.127,93.26,93.26,93.26,95.127,95.127,97.26,99.127,99.127,101.26,101.26,103.127,103.127,105.26,105.26,107.127,107.127,109.26,109.26,109.26,111.394,111.394,113.26,113.26,115.394,115.394,117.26,117.26,119.394,119.394,121.26,121.26,123.394,123.394,125.26,125.26,127.394,127.394,129.26,129.26,131.394,131.394,133.527,133.527,135.394,135.394,137.26,137.26,139.394,139.394,141.527,141.527,143.394,143.394,145.527,145.527,147.394,147.394,149.26,149.26,151.394,151.394,153.527,153.527,155.394,155.394,157.527,157.527,159.394,159.394,161.26,161.26,163.394,163.394,165.26,165.26,167.394,167.394,169.527,169.527,171.394,171.394,173.527,173.527,175.394,175.394,177.527,177.527,179.394,179.394,180.0,180.0,178.355,178.355,176.222,176.222,174.355,174.355,172.222,172.222,170.355,170.355,168.222,168.222,166.355,166.355,164.222,164.222,162.355,162.355,160.222,160.222,158.355,158.355,156.222,156.222,154.355,154.355,152.222,152.222,150.355,150.355,148.222,148.222,146.355,146.355,144.222,144.222,142.355,142.355,140.222,140.222,138.355,138.355,136.222,136.222,134.355,134.355,132.222,132.222,130.355,130.355,128.222,128.222,126.355,126.355,124.222,124.222,122.355,122.355,120.222,120.222,118.088,118.088,116.222,116.222,114.088,114.088,112.222,112.222,110.088,110.088,108.222,108.222,106.088,106.088,104.222,104.222,102.088,102.088,100.222,100.222,98.088,98.088,96.222,96.222,94.088,94.088,91.955,91.955,90.088,90.088,88.222,88.222,86.088,86.088,84.222,84.222,82.088,82.088,80.222,80.222,78.088,78.088,76.222,76.222,74.088,74.088,71.955,71.955,70.088,70.088,67.955,67.955,65.822,65.822,63.955,63.955,61.822,61.822,59.955,59.955,57.822,57.822,55.955,55.955,53.822,53.822,51.955,51.955,49.822,49.822,47.955,47.955,45.822,45.822,43.955,43.955,41.822,41.822,39.955,39.955,37.822,37.822,35.955,35.955,33.822,33.822,31.955,31.955,29.822,29.822,27.955,27.955,25.822,25.822,23.955,23.955,21.822,21.822,19.955,19.955,17.822,17.822,15.955,15.955,13.822,13.822,11.955,11.955,9.822,9.822,7.955,7.955,5.822,5.822,3.688,3.688,1.822,1.822,0.0,0.0,0.0,0.0,0.0,0.0,0.0,0.0,0.568,0.568,2.435,2.435,4.568,4.568,6.435,6.435,8.568,8.568,10.435,10.435,12.568,12.568,14.435,14.435,16.568,16.568,18.435,18.435,20.568,20.568,22.701,22.701,24.568,24.568,26.701,26.701,28.568,28.568,30.701,30.701,32.568,32.568,34.701,34.701,36.568,36.568,38.701,38.701,40.568,40.568,42.701,42.701,44.568,44.568,46.701,46.701,48.568,48.568,50.701,50.701,52.568,52.568,54.701,54.701,56.568,56.568,58.701,58.701,60.568,60.568,62.701,62.701,64.568,64.568,66.701,66.701,68.568,68.568,70.701,70.701,72.568,72.568,74.701,74.701,76.835,76.835,78.701,78.701,80.835,80.835,82.701,82.701,84.835,84.835,84.835,86.701,86.701,88.835,90.701,90.701,92.835,92.835,94.701,94.701,96.835,96.835,98.701,98.701,100.835,100.835,100.835,102.701,104.835,104.835,106.701,106.701,106.701,108.835,108.835,110.701,110.701,112.835,112.835,114.701,114.701,116.835,116.835,118.701,118.701,120.835,120.835,122.701,122.701,124.835,124.835,126.701,126.701,128.835,128.835,130.968,130.968,132.835,132.835,134.968,134.968,136.835,136.835,138.968,138.968,140.835,140.835,142.968,142.968,144.835,144.835,146.968,146.968,148.835,148.835,150.968,150.968,152.835,152.835,154.968,154.968,156.835,156.835,158.968,158.968,160.835,160.835,162.968,162.968,164.835,164.835,166.968,166.968,168.835,168.835,170.968,170.968,172.835,172.835,174.701,174.701,176.835,176.835,178.968,178.968,180.0,180.0,180.0,180.0,180.0,180.0,180.0,180.0,178.913,178.913,176.78,176.78,174.913,174.913,172.78,172.78,170.913,168.78,168.78,168.78,166.913,166.913,164.78,164.78,162.646,162.646,160.78,160.78,158.646,158.646,156.78,156.78,154.646,154.646,152.78,152.78,150.646,150.646,148.78,148.78,146.646,146.646,144.78,144.78,142.646,142.646,140.78,140.78,138.646,138.646,136.78,136.78,134.646,134.646,132.78,132.78,130.646,130.646,128.78,128.78,126.646,126.646,124.78,124.78,122.646,122.646,120.78,120.78,118.646,118.646,116.78,116.78,114.646,114.646,112.78,112.78,110.646,110.646,108.78,108.78,106.646,106.646,104.78,104.78,102.646,102.646,100.513,100.513,98.646,98.646,96.513,96.513,94.38,94.38,92.513,92.513,90.38,90.38,88.513,88.513,86.38,86.38,84.513,84.513,82.646,82.646,80.513,80.513,78.38,78.38,76.513,76.513,74.38,74.38,72.246,72.246,70.38,70.38,68.246,68.246,66.38,66.38,64.246,64.246,62.38,62.38,60.246,60.246,58.38,58.38,56.246,56.246,54.38,54.38,52.246,52.246,50.38,50.38,48.246,48.246,46.38,46.38,44.246,44.246,42.38,42.38,40.246,40.246,38.38,38.38,36.246,36.246,34.38,34.38,32.246,32.246,30.38,30.38,28.246,28.246,26.38,26.38,24.246,24.246,22.38,22.38,20.246,20.246,18.38,18.38,16.246,16.246,14.113,14.113,12.246,12.246,10.38,10.38,8.246,8.246,6.113,6.113,4.246,4.246,2.113,2.113,0.246,0.246,-1.887,-1.887,-3.754,-3.754,-5.887,-5.887,-7.754,-7.754,-9.887,-9.887,-11.754,-11.754,-13.887,-13.887,-15.754,-15.754,-17.887,-17.887,-19.754,-19.754,-21.887,-21.887,-24.02,-24.02,-25.887,-25.887,-28.02,-28.02,-29.859,-29.859,-30.0,-30.0,-29.057,-29.057,-26.924,-26.924,-25.057,-25.057,-22.924,-22.924,-21.057,-21.057,-18.924,-18.924,-17.057,-17.057,-14.924,-14.924,-13.057,-13.057,-10.924,-10.924,-9.057,-9.057,-6.924,-6.924,-5.057,-5.057,-2.924,-2.924,-1.057,-1.057,1.076,1.076,2.943,2.943,5.076,5.076,6.943,6.943,9.076,9.076,10.943,10.943,13.076,13.076,14.943,14.943,17.076,17.076,19.21,19.21,21.076,21.076,23.21,23.21,25.076,25.076,27.21,27.21,29.076,29.076,31.21,31.21,33.343,33.343,35.21,35.21,37.343,37.343,39.21,39.21,41.343,41.343,43.21,43.21,45.343,45.343,47.21,47.21,49.343,49.343,51.21,51.21,53.343,53.343,55.21,55.21,57.343,57.343,59.21,59.21,61.343,61.343,63.21,63.21,65.343,65.343,67.21,67.21,69.343,69.343,71.21,71.21,73.343,73.343,75.476,75.476,77.343,77.343,79.476,79.476,81.343,81.343,83.476,83.476,83.476,85.343,87.476,87.476,89.343,89.343,89.343,91.476,93.343,93.343,95.476,95.476,97.343,97.343,97.343,99.476,99.476,101.343,101.343,103.476,103.476,105.343,105.343,107.476,107.476,109.61,109.61,111.476,111.476,113.61,113.61,115.476,115.476,117.61,117.61,119.476,119.476,121.61,121.61,123.743,123.743,125.61,125.61,127.743,127.743,129.61,129.61,131.743,131.743,133.61,133.61,135.743,135.743,137.61,137.61,139.743,139.743,141.61,141.61,143.743,143.743,145.61,145.61,147.743,147.743,149.61,149.61,150.0,150.0,149.338,149.338,147.205,147.205,145.338,145.338,143.205,143.205,141.071,141.071,139.205,139.205,137.071,137.071,135.205,135.205,133.071,133.071,131.205,131.205,129.071,129.071,127.205,127.205,125.071,125.071,123.205,123.205,121.071,121.071,119.205,119.205,117.071,117.071,115.205,115.205,113.071,113.071,111.205,111.205,109.071,109.071,106.938,106.938,105.071,105.071,102.938,102.938,101.071,101.071,98.938,98.938,97.071,97.071,94.938,94.938,93.071,93.071,90.938,90.938,89.071,89.071,86.938,86.938,85.071,85.071,82.938,82.938,81.071,81.071,78.938,78.938,77.071,77.071,74.938,74.938,73.071,73.071,70.938,70.938,69.071,69.071,66.938,66.938,65.071,65.071,62.938,62.938,61.071,61.071,58.938,58.938,57.071,57.071,54.938,54.938,53.071,53.071,50.938,50.938,49.071,49.071,46.938,46.938,44.805,44.805,42.938,42.938,40.805,40.805,38.938,38.938,36.805,36.805,34.938,34.938,32.805,32.805,30.938,30.938,28.805,28.805,26.938,26.938,24.805,24.805,22.938,22.938,20.805,20.805,18.938,18.938,16.805,16.805,14.938,14.938,12.805,12.805,10.938,10.938,8.805,8.805,6.938,6.938,4.805,4.805,2.938,2.938,0.805,0.805,0.0,0.0,0.255,0.255,2.385,2.385,4.252,4.252,6.385,6.385,8.252,8.252,10.385,10.385,12.519,12.519,14.385,14.385,16.519,16.519,18.385,18.385,20.519,20.519,22.385,22.385,24.519,24.519,26.385,26.385,28.519,28.519,30.385,30.385,32.519,32.519,34.385,34.385,36.519,36.519,38.385,38.385,40.519,40.519,42.385,42.385,44.519,44.519,46.385,46.385,48.519,48.519,50.385,50.385,52.519,52.519,54.385,54.385,56.519,56.519,58.385,58.385,60.519,60.519,62.652,62.652,64.519,64.519,66.652,66.652,68.519,68.519,70.652,70.652,72.785,72.785,74.652,74.652,76.785,76.785,78.652,78.652,80.785,80.785,82.652,82.652,84.785,84.785,86.652,86.652,88.785,88.785,90.652,90.652,92.785,92.785,94.652,94.652,96.785,96.785,98.652,98.652,100.785,100.785,102.652,102.652,104.785,104.785,106.652,106.652,108.785,108.785,110.652,110.652,112.785,112.785,114.652,114.652,116.785,116.785,118.652,118.652,120.785,120.785,122.652,122.652,124.785,124.785,126.652,126.652,128.785,128.785,130.652,130.652,132.785,132.785,134.919,134.919,136.785,136.785,138.919,138.919,140.785,140.785,142.919,142.919,144.785,144.785,146.919,146.919,149.052,149.052,150.0,150.0,150.0,150.0,148.029,148.029,145.896,145.896,144.029,144.029,144.029,141.896,140.029,140.029,137.896,137.896,136.029,136.029,136.029,133.896,133.896,131.763,131.763,129.896,129.896,127.763,127.763,125.896,125.896,123.763,123.763,121.896,121.896,119.763,119.763,117.896,117.896,115.763,115.763,113.896,113.896,111.763,111.763,109.896,109.896,107.763,107.763,105.896,105.896,103.763,103.763,101.896,101.896,99.763,99.763,97.896,97.896,95.763,95.763,93.896,93.896,91.763,91.763,89.896,89.896,87.763,87.763,85.896,85.896,83.763,83.763,81.896,81.896,79.763,79.763,77.896,77.896,75.763,75.763,73.896,73.896,71.763,71.763,69.896,69.896,67.763,67.763,65.896,65.896,63.763,63.763,61.896,61.896,59.763,59.763,57.896,57.896,55.763,55.763,53.629,53.629,51.763,51.763,49.629,49.629,47.763,47.763,45.629,45.629,43.763,43.763,41.629,41.629,39.763,39.763,37.896,37.896,35.763,35.763,33.896,33.896,31.763,31.763,29.629,29.629,27.763,27.763,25.629,25.629,23.496,23.496,21.629,21.629,19.496,19.496,17.629,17.629,15.496,15.496,13.629,13.629,11.496,11.496,9.629,9.629,7.496,7.496,5.629,5.629,3.496,1.629,1.629,1.629,-0.504,-0.504,-2.371,-2.371,-4.504,-4.504,-6.371,-6.371,-8.504,-8.504,-10.0,-10.0,-10.0,-10.0,-10.0,-10.0,-10.0,-10.0,-10.0,-10.0,-8.439,-8.439,-6.572,-6.572,-4.439,-4.439,-2.572,-2.572,-0.439,-0.439,1.428,1.428,3.561,3.561,5.694,5.694,7.561,7.561,9.694,9.694,11.561,11.561,13.694,13.694,15.561,15.561,17.694,17.694,19.828,19.828,21.694,21.694,23.561,23.561,25.694,25.694,27.828,27.828,29.694,29.694,31.828,31.828,33.961,33.961,35.828,35.828,37.961,37.961,39.828,39.828,41.961,41.961,43.828,43.828,45.961,45.961,47.828,47.828,49.961,49.961,51.828,51.828,53.961,53.961,55.828,55.828,57.961,57.961,59.828,59.828,61.961,61.961,63.828,63.828,65.961,65.961,67.828,67.828,69.961,69.961,71.828,71.828,73.961,73.961,75.828,75.828,77.961,77.961,79.828,79.828,81.961,81.961,84.094,84.094,85.961,85.961,88.094,88.094,89.961,89.961,91.828,91.828,93.961,93.961,95.828,95.828,97.961,97.961,99.828,99.828,101.961,101.961,104.094,104.094,105.961,105.961,108.094,108.094,109.961,109.961,112.094,112.094,113.961,113.961,116.094,116.094,117.961,117.961,120.094,120.094,121.961,121.961,124.094,124.094,125.961,125.961,128.094,128.094,130.228,130.228,132.094,132.094,134.228,134.228,136.094,136.094,138.228,138.228,140.094,140.094,142.228,142.228,144.094,144.094,146.228,146.228,148.094,148.094,150.228,150.228,152.094,152.094,154.228,154.228,156.094,156.094,158.228,158.228,159.98,159.98,160.0,160.0,160.0,160.0,160.0,160.0,160.0,160.0,158.716,158.716,156.849,156.849,154.716,154.716,152.849,152.849,150.716,150.716,148.849,148.849,146.716,146.716,144.582,144.582,142.716,142.716,140.582,140.582,138.716,138.716,136.582,136.582,134.716,134.716,132.582,132.582,130.716,130.716,128.582,128.582,126.716,126.716,124.582,124.582,122.716,122.716,120.582,120.582,118.716,118.716,116.582,116.582,114.716,114.716,112.582,112.582,110.716,110.716,108.582,108.582,106.716,106.716,104.582,104.582,102.449,102.449,100.582,100.582,98.449,98.449,96.582,96.582,94.716,94.716,92.582,92.582,90.716,90.716,88.582,88.582,86.449,86.449,84.582,84.582,82.716,82.716,80.582,80.582,78.449,78.449,76.582,76.582,74.716,74.716,72.582,72.582,70.449,70.449,68.582,68.582,66.716,66.716,64.582,64.582,62.716,62.716,60.582,60.582,58.716,58.716,56.582,56.582,54.716,54.716,52.582,52.582,50.716,50.716,48.582,48.582,46.716,46.716,44.582,44.582,42.449,42.449,40.582,40.582,38.716,38.716,36.582,36.582,34.449,34.449,32.582,32.582,30.716,30.716,28.582,28.582,26.716,26.716,24.582,24.582,22.449,22.449,20.582,20.582,18.449,18.449,16.582,16.582,14.449,14.449,12.582,12.582,10.449,10.449,8.316,8.316,6.449,6.449,4.316,4.316,2.449,2.449,0.316,0.316,-1.551,-1.551,-3.684,-3.684,-5.551,-5.551,-7.684,-7.684,-9.551,-9.551,-11.684,-11.684,-13.551,-13.551,-15.684,-15.684,-17.551,-17.551,-19.684,-19.684,-20.0,-20.0,-20.0,-20.0,-18.597,-18.597,-16.464,-16.464,-14.597,-14.597,-12.464,-12.464,-10.597,-10.597,-8.464,-8.464,-6.597,-6.597,-4.464,-4.464,-2.597,-2.597,-0.464,-0.464,1.403,1.403,3.536,3.536,5.403,5.403,7.536,7.536,9.403,9.403,11.536,11.536,13.403,13.403,15.536,15.536,17.403,17.403,19.536,19.536,21.403,21.403,23.536,23.536,25.403,25.403,27.536,27.536,29.67,29.67,31.536,31.536,33.67,33.67,35.536,35.536,37.67,37.67,39.536,39.536,41.67,41.67,43.536,43.536,45.67,45.67,47.536,47.536,49.67,49.67,51.536,51.536,53.67,53.67,55.803,55.803,57.67,57.67,59.803,59.803,61.67,61.67,63.803,63.803,65.67,65.67,67.803,67.803,69.67,69.67,71.803,71.803,73.67,73.67,75.803,75.803,77.67,77.67,79.803,79.803,81.67,81.67,83.803,83.803,85.67,85.67,87.803,87.803,89.67,89.67,91.803,91.803,93.67,93.67,95.803,95.803,97.67,97.67,99.803,99.803,101.67,101.67,103.803,103.803,105.67,105.67,107.803,107.803,109.67,109.67,111.803,111.803,113.67,113.67,115.803,115.803,117.67,117.67,119.803,119.803,121.936,121.936,121.936,123.803,125.936,125.936,127.803,127.803,129.936,129.936,131.803,131.803,133.936,133.936,135.803,135.803,137.936,137.936,137.936,139.803,141.936,141.936,143.803,143.803,145.936,145.936,145.936,147.803,149.893,149.893,150.0,150.0,150.0,150.0,150.0,148.34,146.207,146.207,144.34,144.34,142.207,142.207,140.34,140.34,138.207,138.207,136.34,136.34,134.207,134.207,132.34,132.34,130.207,130.207,128.34,128.34,126.207,126.207,124.34,124.34,122.474,122.474,120.34,120.34,118.474,118.474,116.34,116.34,114.474,114.474,112.34,112.34,110.474,110.474,108.34,108.34,106.207,106.207,104.34,104.34,102.207,102.207,100.34,100.34,98.207,98.207,96.34,96.34,94.207,94.207,92.34,92.34,90.207,90.207,88.34,88.34,86.207,86.207,84.34,84.34,84.34,82.207,82.207,80.34,80.34,78.207,78.207,76.34,76.34,74.207,74.207,72.34,72.34,70.207,70.207,68.34,68.34,66.207,66.207,64.074,64.074,62.207,62.207,60.074,60.074,58.207,58.207,56.34,56.34,54.207,54.207,52.074,52.074,50.207,50.207,48.074,48.074,46.207,46.207,44.074,44.074,42.207,42.207,40.074,40.074,38.207,38.207,36.074,36.074,34.207,34.207,32.074,32.074,30.207,30.207,28.074,28.074,26.207,26.207,24.074,24.074,22.207,22.207,20.074,20.074,17.94,17.94,16.074,16.074,13.94,13.94,12.074,12.074,9.94,9.94,8.074,8.074,5.94,5.94,4.074,4.074,1.94,1.94,0.114,0.114,0.0,0.0,0.0,0.0,1.911,1.911,4.044,4.044,5.911,5.911,8.044,8.044,9.911,9.911,12.044,12.044,13.911,13.911,16.044,16.044,17.911,17.911,20.044,20.044,21.911,21.911,24.044,24.044,25.911,25.911,28.044,28.044,29.911,29.911,32.044,32.044,34.178,34.178,36.044,36.044,38.178,38.178,40.044,40.044,42.178,42.178,44.044,44.044,46.178,46.178,48.044,48.044,50.178,50.178,52.044,52.044,54.178,54.178,56.044,56.044,58.178,58.178,60.311,60.311,62.178,62.178,64.311,64.311,66.178,66.178,68.311,68.311,70.178,70.178,72.311,72.311,74.178,74.178,76.044,76.044,78.178,78.178,80.311,80.311,82.178,82.178,84.311,84.311,86.178,86.178,88.311,88.311,90.178,90.178,92.311,92.311,94.178,94.178,96.311,96.311,98.178,98.178,100.311,100.311,102.178,102.178,104.311,104.311,106.178,106.178,108.311,108.311,110.178,110.178,112.311,112.311,114.178,114.178,116.311,116.311,118.178,118.178,120.311,120.311,122.178,122.178,124.311,124.311,126.178,126.178,128.311,128.311,130.178,130.178,132.311,132.311,134.178,134.178,136.311,136.311,138.178,138.178,140.311,140.311,142.178,142.178,144.311,144.311,146.178,146.178,148.311,148.311,150.178,150.178,152.311,152.311,154.444,154.444,156.311,156.311,158.444,158.444,160.311,160.311,162.444,162.444,164.311,164.311,166.444,166.444,168.311,168.311,170.0,170.0,170.0,170.0,169.698,169.698,167.832,167.832,165.966,165.966,163.832,163.832,161.699,161.699,159.832,159.832,157.699,157.699,155.832,155.832,153.699,153.699,151.832,151.832,149.699,149.699,147.832,147.832,145.699,145.699,143.832,143.832,141.699,141.699,139.832,139.832,137.699,137.699,135.832,135.832,133.699,133.699,131.832,131.832,129.699,129.699,127.566,127.566,125.699,125.699,123.832,123.832,121.699,121.699,119.566,119.566,117.699,117.699,115.566,115.566,113.699,113.699,111.566,111.566,109.699,109.699,107.566,107.566,105.699,105.699,103.566,103.566,101.699,101.699,99.566,99.566,97.699,97.699,95.832,95.832,93.699,93.699,91.832,91.832,89.699,89.699,87.566,87.566,85.699,85.699,83.566,83.566,81.699,81.699,79.832,79.832,77.699,77.699,75.832,75.832,73.699,73.699,71.832,71.832,69.699,69.699,67.832,67.832,65.699,65.699,63.832,63.832,61.699,61.699,59.566,59.566,57.699,57.699,55.566,55.566,53.699,53.699,51.566,51.566,49.699,49.699,47.566,47.566,45.699,45.699,43.566,43.566,41.699,41.699,39.566,39.566,37.432,37.432,35.566,35.566,33.432,33.432,31.299,31.299,29.432,29.432,27.299,27.299,25.432,25.432,23.299,23.299,21.432,21.432,19.299,19.299,17.432,17.432,15.299,15.299,13.432,13.432,11.299,11.299,9.432,9.432,9.432,7.299,5.432,5.432,3.299,3.299,1.432,1.432,0.0,0.0,0.0,0.0,0.0,0.0,0.0,0.0,0.0,0.0,0.42,0.42,2.553,2.553,2.553,4.42,4.42,6.553,6.553,8.42,8.42,10.553,10.553,12.42,12.42,14.553,14.553,16.42,16.42,18.553,18.553,20.42,20.42,22.553,22.553,24.42,24.42,26.553,26.553,28.42,28.42,30.553,30.553,32.42,32.42,34.553,34.553,36.42,36.42,38.553,38.553,40.42,40.42,42.553,42.553,44.42,44.42,46.553,46.553,48.687,48.687,50.553,50.553,52.687,52.687,54.553,54.553,56.687,56.687,58.553,58.553,60.687,60.687,62.553,62.553,64.687,64.687,66.553,66.553,68.687,68.687,70.553,70.553,72.687,72.687,74.82,74.82,76.687,76.687,78.82,78.82,80.687,80.687,82.82,82.82,84.687,84.687,86.82,86.82,88.687,88.687,90.82,90.82,92.687,92.687,94.82,94.82,96.687,96.687,98.82,98.82,100.687,100.687,102.82,102.82,104.687,104.687,106.82,106.82,108.687,108.687,110.82,110.82,112.953,112.953,114.82,114.82,116.953,116.953,118.82,118.82,120.953,120.953,122.82,122.82,124.953,124.953,126.82,126.82,128.953,128.953,130.82,130.82,132.953,132.953,134.82,134.82,136.953,136.953,139.087,139.087,140.953,140.953,142.82,142.82,144.953,144.953,146.82,146.82,148.953,148.953,150.0,150.0,150.0,150.0,150.0,150.0,150.0,150.0,150.0,150.0,149.19,149.19,147.057,147.057,145.19,145.19,143.057,143.057,140.924,140.924,139.057,139.057,136.924,136.924,135.057,135.057,132.924,132.924,131.057,131.057,128.924,128.924,127.057,127.057,124.924,124.924,123.057,123.057,120.924,120.924,119.057,119.057,116.924,116.924,115.057,115.057,112.924,112.924,111.057,111.057,108.924,108.924,107.057,107.057,104.924,104.924,103.057,103.057,100.924,100.924,99.057,99.057,96.924,96.924,94.79,94.79,92.924,92.924,90.79,90.79,88.924,88.924,86.79,86.79,84.924,84.924,82.79,82.79,80.924,80.924,78.79,78.79,76.924,76.924,74.79,74.79,72.924,72.924,70.79,70.79,68.657,68.657,66.79,66.79,64.657,64.657,62.79,62.79,60.924,60.924,58.79,58.79,56.657,56.657,54.79,54.79,52.657,52.657,50.79,50.79,48.657,48.657,46.79,46.79,44.657,44.657,42.79,42.79,40.657,40.657,38.79,38.79,36.657,36.657,34.79,34.79,32.657,32.657,30.79,30.79,28.657,28.657,26.79,26.79,24.657,24.657,22.79,22.79,20.657,20.657,18.524,18.524,16.657,16.657,14.524,14.524,12.657,12.657,10.524,10.524,8.657,8.657,6.524,6.524,4.657,4.657,2.524,2.524,0.657,0.657,-1.476,-1.476,-3.343,-3.343,-5.476,-5.476,-5.476,-7.343,-9.476,-9.476,-11.343,-11.343,-11.343,-13.476,-13.476,-15.0,-15.0,-15.0,-15.0,-15.0,-13.871,-13.871,-11.738,-11.738,-9.871,-9.871,-7.738,-7.738,-5.605,-5.605,-5.605,-3.738,-1.605,-1.605,0.262,0.262,2.395,2.395,2.395,4.262,4.262,6.395,6.395,8.262,8.262,10.395,10.395,12.262,14.395,14.395,14.395,16.529,18.395,18.395,20.529,20.529,20.529,22.395,22.395,24.529,26.395,26.395,28.529,28.529,28.529,30.395,30.395,32.529,32.529,34.662,34.662,36.529,36.529,38.662,38.662,40.529,40.529,42.662,42.662,44.529,44.529,46.662,46.662,48.529,48.529,50.662,50.662,52.795,52.795,54.662,54.662,56.795,56.795,58.662,58.662,60.795,60.795,62.662,62.662,64.795,64.795,66.662,66.662,68.795,68.795,70.662,70.662,72.795,72.795,74.662,74.662,76.795,76.795,78.662,78.662,80.795,80.795,82.662,82.662,84.795,84.795,86.662,86.662,88.795,88.795,90.662,90.662,92.795,92.795,94.662,94.662,96.795,96.795,98.662,98.662,100.795,100.795,102.929,102.929,104.795,104.795,106.929,106.929,108.795,108.795,110.929,110.929,112.795,112.795,114.929,114.929,117.062,117.062,118.929,118.929,121.062,121.062,122.929,122.929,125.062,125.062,126.929,126.929,129.062,129.062,130.929,130.929,133.062,133.062,134.929,134.929,137.062,137.062,138.929,138.929,141.062,141.062,142.929,142.929,145.062,145.062,146.929,146.929,149.062,149.062,150.929,150.929,153.062,153.062,154.929,154.929,157.062,157.062,158.0,158.0,158.0,158.0,158.0,158.0,156.281,156.281,154.415,154.415,152.281,152.281,150.415,150.415,148.281,148.281,146.148,146.148,144.281,144.281,142.148,142.148,140.281,140.281,138.148,138.148,136.281,136.281,134.148,134.148,132.015,132.015,130.148,130.148,128.281,128.281,126.148,126.148,124.281,124.281,122.148,122.148,120.015,120.015,118.148,118.148,116.015,116.015,114.148,114.148,112.015,112.015,110.148,110.148,108.015,108.015,106.148,106.148,104.015,104.015,102.148,102.148,100.015,100.015,98.148,98.148,96.281,96.281,94.148,94.148,92.281,92.281,90.148,90.148,88.015,88.015,86.148,86.148,84.015,84.015,82.148,82.148,80.015,80.015,78.148,78.148,76.015,76.015,74.148,74.148,72.015,72.015,70.148,70.148,68.281,68.281,66.148,66.148,64.015,64.015,62.148,62.148,60.015,60.015,58.148,58.148,56.015,56.015,54.148,54.148,52.015,52.015,50.148,50.148,48.015,48.015,46.148,46.148,44.015,44.015,42.148,42.148,40.015,40.015,38.148,38.148,36.015,36.015,34.148,34.148,32.015,32.015,30.148,30.148,28.015,28.015,26.148,26.148,24.015,24.015,21.881,21.881,20.015,20.015,17.881,17.881,16.015,16.015,13.881,13.881,12.015,12.015,9.881,9.881,8.015,8.015,5.881,5.881,4.015,4.015,1.881,1.881,0.077,0.077,0.0,0.0,0.0,0.0,0.0,0.0,0.0,0.0,0.0,0.0,0.637,0.637,2.771,2.771,4.637,4.637,6.771,6.771,8.637,8.637,10.771,10.771,12.637,12.637,14.771,14.771,14.771,16.904,18.771,18.771,20.637,20.637,22.771,22.771,24.904,24.904,26.771,26.771,28.904,28.904,30.771,30.771,32.904,32.904,34.771,34.771,36.904,36.904,38.771,38.771,40.904,40.904,42.771,42.771,44.637,44.637,46.771,46.771,48.637,48.637,50.771,50.771,52.637,52.637,54.771,54.771,56.637,56.637,58.771,58.771,60.904,60.904,62.771,62.771,64.637,64.637,66.771,66.771,68.904,68.904,70.771,70.771,72.904,72.904,74.771,74.771,76.904,76.904,78.771,78.771,80.904,80.904,82.771,82.771,84.904,84.904,86.771,86.771,88.904,88.904,90.771,90.771,92.904,92.904,94.771,94.771,96.904,96.904,98.771,98.771,100.904,100.904,102.771,102.771,104.904,104.904,106.771,106.771,108.904,108.904,110.771,110.771,112.904,112.904,114.771,114.771,116.904,116.904,118.771,118.771,120.904,120.904,122.771,122.771,124.904,124.904,126.771,126.771,128.904,128.904,131.037,131.037,132.904,132.904,135.037,135.037,136.904,136.904,139.037,139.037,139.037,140.904,143.037,143.037,144.904,144.904,144.904,147.037,148.904,148.904,151.037,151.037,152.904,152.904,152.904,155.037,155.037,156.904,156.904,159.037,159.037,160.904,160.904,163.037,163.037,164.904,164.904,167.037,167.037,168.904,168.904,171.037,171.037,172.904,172.904,175.037,175.037,176.904,176.904,179.037,179.037,180.0,180.0,180.0,180.0,180.0,180.0,180.0,180.0,180.0,180.0,180.0,180.0,178.172,178.172,176.306,176.306,174.172,174.172,172.306,172.306,170.172,170.172,168.306,168.306,166.172,166.172,164.306,164.306,162.172,162.172,160.306,160.306,158.172,158.172,156.306,156.306,154.172,154.172,152.306,152.306,150.172,150.172,148.039,148.039,146.172,146.172,144.039,144.039,142.172,142.172,140.039,140.039,138.172,138.172,136.039,136.039,133.906,133.906,132.039,132.039,129.906,129.906,128.039,128.039,125.906,125.906,124.039,124.039,121.906,121.906,119.772,119.772,117.906,117.906,116.039,116.039,113.906,113.906,112.039,112.039,109.906,109.906,108.039,108.039,105.906,105.906,104.039,104.039,101.906,101.906,100.039,100.039,97.906,97.906,95.772,95.772,93.906,93.906,91.772,91.772,89.906,89.906,87.772,87.772,85.906,85.906,83.772,83.772,81.906,81.906,79.772,79.772,77.639,77.639,75.772,75.772,73.639,73.639,71.772,71.772,69.639,69.639,67.772,67.772,65.639,65.639,63.772,63.772,61.639,61.639,59.772,59.772,57.639,57.639,55.772,55.772,53.639,53.639,51.772,51.772,49.639,49.639,47.772,47.772,45.639,45.639,43.506,43.506,41.639,41.639,39.506,39.506,37.372,37.372,35.506,35.506,33.372,33.372,31.506,31.506,29.639,29.639,27.506,27.506,25.372,25.372,23.506,23.506,21.372,21.372,19.506,19.506,17.372,17.372,15.506,15.506,13.372,13.372,11.506,11.506,9.372,9.372,7.506,7.506,5.372,5.372,3.506,3.506,1.372,1.372,0.0,0.0,0.0,0.0,0.0,0.0,0.12,0.12,0.12,2.218,2.218,4.084,4.084,6.218,6.218,8.084,8.084,10.218,10.218,12.084,12.084,14.218,14.218,16.084,16.084,18.218,18.218,20.084,20.084,22.218,22.218,24.084,24.084,26.218,26.218,28.084,28.084,30.218,30.218,32.084,32.084,34.218,34.218,36.084,36.084,38.218,38.218,40.084,40.084,42.218,42.218,44.351,44.351,46.218,46.218,48.351,48.351,50.218,50.218,52.351,52.351,54.218,54.218,56.351,56.351,58.218,58.218,60.351,60.351,62.218,62.218,64.351,64.351,66.218,66.218,68.351,68.351,70.218,70.218,72.351,72.351,74.218,74.218,76.351,76.351,78.484,78.484,80.351,80.351,82.484,82.484,84.351,84.351,86.484,86.484,88.351,88.351,90.484,90.484,92.351,92.351,94.484,94.484,96.351,96.351,98.484,98.484,100.351,100.351,102.484,102.484,104.618,104.618,106.484,106.484,108.618,108.618,110.484,110.484,112.618,112.618,114.484,114.484,116.618,116.618,118.484,118.484,120.618,120.618,122.484,122.484,124.618,124.618,126.484,126.484,128.618,128.618,130.751,130.751,132.618,132.618,134.751,134.751,136.618,136.618,138.751,138.751,140.618,140.618,142.751,142.751,144.618,144.618,146.751,146.751,148.618,148.618,150.0,150.0,150.0,150.0,150.0,150.0,149.663,149.663,147.797,147.797,145.664,145.664,143.797,143.797,141.664,141.664,139.797,139.797,137.664,137.664,135.797,135.797,133.664,133.664,131.53,131.53,129.664,129.664,127.53,127.53,125.664,125.664,123.53,123.53,121.664,121.664,119.53,119.53,117.664,117.664,115.53,115.53,113.397,113.397,111.53,111.53,109.397,109.397,107.53,107.53,105.397,105.397,103.53,103.53,101.397,101.397,99.53,99.53,97.397,97.397,95.53,95.53,93.397,93.397,91.53,91.53,89.397,89.397,89.397,87.53,87.53,85.397,85.397,83.53,83.53,81.397,81.397,79.53,79.53,77.397,77.397,75.53,75.53,73.397,73.397,71.264,71.264,69.397,69.397,67.264,67.264,65.397,65.397,63.264,63.264,61.397,61.397,59.264,59.264,57.13,57.13,55.264,55.264,53.13,53.13,51.264,51.264,49.13,49.13,47.264,47.264,45.13,45.13,43.264,43.264,41.13,41.13,38.997,38.997,37.13,37.13,35.264,35.264,33.13,33.13,30.997,30.997,29.13,29.13,26.997,26.997,25.13,25.13,22.997,22.997,20.864,20.864,18.997,18.997,16.864,16.864,14.997,14.997,12.864,12.864,10.997,10.997,8.864,8.864,6.997,6.997,4.864,4.864,2.73,2.73,0.864,0.864,0.0,0.0,0.0,0.0,0.0,0.0,0.0,0.0,0.0,0.0,0.0,0.0,1.726,1.726,3.593,3.593,5.726,5.726,7.593,7.593,9.726,9.726,11.593,11.593,13.726,13.726,15.86,15.86,17.726,17.726,19.86,19.86,21.726,21.726,23.86,23.86,25.993,25.993,27.86,27.86,29.993,29.993,31.86,31.86,33.993,33.993,35.86,35.86,37.993,37.993,39.86,39.86,41.993,41.993,44.126,44.126,45.993,45.993,48.126,48.126,49.993,49.993,52.126,52.126,53.993,53.993,56.126,56.126,56.126,58.26,58.26,60.126,60.126,62.26,62.26,64.393,64.393,66.26,66.26,68.393,68.393,70.26,70.26,72.393,72.393,74.26,74.26,76.393,76.393,78.26,78.26,80.393,80.393,82.26,82.26,84.393,84.393,86.526,86.526,88.393,88.393,90.526,90.526,92.393,92.393,94.526,94.526,96.393,96.393,98.526,98.526,100.393,100.393,102.526,102.526,104.393,104.393,106.526,106.526,108.393,108.393,110.526,110.526,112.393,112.393,114.526,114.526,116.393,116.393,118.526,118.526,120.393,120.393,122.526,122.526,124.66,124.66,126.526,126.526,128.66,128.66,130.526,130.526,132.66,132.66,134.526,134.526,136.66,136.66,138.526,138.526,140.66,140.66,142.526,142.526,144.66,144.66,146.793,146.793,148.66,148.66,150.793,150.793,152.66,152.66,154.793,154.793,156.66,156.66,158.793,158.793,160.66,160.66,162.793,162.793,164.926,164.926,166.793,166.793,168.926,168.926,170.793,170.793,172.926,172.926,175.06,175.06,176.926,176.926,179.06,179.06,180.0,180.0,180.0,180.0,180.0,180.0,180.0,180.0,180.0,180.0,180.0,180.0,178.623,178.623,176.489,176.489,174.623,174.623,172.489,172.489,170.623,170.623,168.489,168.489,166.623,166.623,164.489,164.489,162.623,162.623,160.489,160.489,158.623,158.623,156.489,156.489,154.623,154.623,152.489,152.489,150.623,150.623,148.489,148.489,146.623,146.623,144.489,144.489,142.623,142.623,140.489,140.489,138.356,138.356,136.489,136.489,134.356,134.356,132.489,132.489,130.356,130.356,130.356,128.489,126.356,126.356,126.356,124.489,122.356,122.356,120.489,120.489,118.356,118.356,118.356,116.489,116.489,114.356,114.356,112.223,112.223,110.356,110.356,108.223,108.223,106.356,106.356,104.223,104.223,102.356,102.356,100.223,100.223,98.356,98.356,96.223,96.223,94.356,94.356,92.223,92.223,90.356,90.356,88.223,88.223,86.356,86.356,84.489,84.489,82.356,82.356,80.223,80.223,78.356,78.356,76.223,76.223,74.356,74.356,72.223,72.223,70.356,70.356,68.223,68.223,66.356,66.356,64.223,64.223,62.356,62.356,60.223,60.223,58.356,58.356,56.223,56.223,54.356,54.356,52.223,52.223,50.356,50.356,48.223,48.223,46.356,46.356,44.223,44.223,42.089,42.089,40.223,40.223,38.089,38.089,36.223,36.223,34.089,34.089,32.223,32.223,30.089,30.089,27.956,27.956,26.089,26.089,23.956,23.956,21.823,21.823,19.956,19.956,17.823,17.823,15.956,15.956,14.089,14.089,11.956,11.956,10.089,10.089,7.956,7.956,6.089,6.089,3.956,3.956,2.089,2.089,-0.044,-0.044,-1.911,-1.911,-4.044,-4.044,-5.911,-5.911,-8.044,-8.044,-9.911,-9.911,-12.044,-12.044,-14.177,-14.177,-16.044,-16.044,-18.177,-18.177,-20.044,-20.044,-22.177,-22.177,-24.044,-24.044,-26.177,-26.177,-28.044,-28.044,-30.0,-30.0,-30.0,-30.0,-30.0,-30.0,-30.0,-30.0,-30.0,-30.0,-30.0,-30.0,-29.37,-29.37,-27.504,-27.504,-25.37,-25.37,-23.504,-23.504,-21.37,-21.37,-19.504,-19.504,-17.37,-17.37,-15.504,-15.504,-13.37,-13.37,-11.237,-11.237,-9.37,-9.37,-7.237,-7.237,-5.37,-5.37,-3.237,-3.237,-1.37,-1.37,0.763,0.763,2.63,2.63,4.763,4.763,6.63,6.63,8.763,8.763,10.63,10.63,12.763,12.763,14.63,14.63,16.763,16.763,18.63,18.63,20.763,20.763,22.896,22.896,24.763,24.763,26.896,26.896,28.763,28.763,30.896,30.896,32.763,32.763,34.896,34.896,37.03,37.03,38.896,38.896,41.03,41.03,42.896,42.896,42.896,45.03,46.896,46.896,49.03,49.03,50.896,50.896,53.03,53.03,53.03,55.163,57.03,57.03,59.163,59.163,61.03,61.03,61.03,63.163,63.163,65.03,65.03,67.163,67.163,69.03,69.03,71.163,71.163,73.03,73.03,75.163,75.163,77.296,77.296,79.163,79.163,81.296,81.296,83.163,83.163,85.296,85.296,87.163,87.163,89.296,89.296,91.163,91.163,93.296,93.296,95.163,95.163,97.296,97.296,99.43,99.43,101.296,101.296,103.43,103.43,105.296,105.296,107.43,107.43,109.296,109.296,111.43,111.43,113.563,113.563,115.43,115.43,117.563,117.563,119.43,119.43,121.563,121.563,123.43,123.43,125.563,125.563,127.43,127.43,129.296,129.296,131.43,131.43,133.563,133.563,135.43,135.43,137.563,137.563,139.43,139.43,141.563,141.563,143.43,143.43,145.563,145.563,147.43,147.43,149.563,149.563,151.43,151.43,153.563,153.563,155.43,155.43,157.563,157.563,159.43,159.43,161.563,161.563,163.43,163.43,165.563,165.563,167.43,167.43,169.563,169.563,171.696,171.696,173.563,173.563,175.696,175.696,177.563,177.563,179.696,179.696],\"xaxis\":\"x\",\"y\":[-4.8,-4.8,-4.8,-4.8,-4.8,-4.8,-4.8,-4.8,-4.8,-4.8,-4.8,-4.8,-4.8,-4.8,-4.8,-4.8,-4.8,-4.8,-4.8,-4.8,-4.8,-4.8,-4.8,-4.8,-4.8,-4.8,-4.8,-4.8,-4.8,-4.8,-4.8,-4.8,-4.8,-4.8,-4.8,-4.8,-4.8,-4.8,-4.8,-4.8,-4.8,-4.8,-4.8,-4.8,-4.8,-4.8,-4.8,-4.8,-4.8,-4.8,-4.8,-4.8,-4.8,-4.8,-4.8,-4.8,-4.8,-4.8,-4.8,-4.8,-4.8,-4.8,-4.8,-4.8,-4.8,-4.8,-4.8,-4.8,-4.8,-4.8,-4.8,-4.8,-4.8,-4.8,-4.8,-4.8,-4.8,-4.8,-4.8,-4.8,-4.8,-4.8,-4.8,-4.8,-4.8,-4.8,-4.8,-4.8,-4.8,-4.8,-4.8,-4.8,-4.8,-4.8,-4.8,-4.8,-4.8,-4.8,-4.8,-4.8,-4.8,-4.8,-4.8,-4.8,-4.8,-4.8,-4.8,-4.8,-4.8,-4.8,-4.8,-4.8,-4.8,-4.8,-4.8,-4.8,-4.8,-4.8,-4.8,-4.8,-4.8,-4.8,-4.8,-4.8,-4.8,-4.8,-4.8,-4.8,-4.8,-4.8,-4.8,-4.8,-4.8,-4.8,-4.8,-4.8,-4.8,-4.8,-4.8,-4.8,-4.8,-4.8,-4.8,-4.8,-4.8,-4.8,-4.8,-4.8,-4.8,-4.8,-4.8,-4.8,-4.8,-4.8,-4.8,-4.8,-4.8,-4.8,-4.8,-4.8,-4.8,-4.8,-4.8,-4.8,-4.8,-4.8,-4.8,-4.8,-4.8,-4.8,-4.8,-4.8,-4.8,-4.8,-4.8,-4.8,-4.8,-4.8,-4.8,-4.8,-4.8,-3.6,-3.6,-3.6,-3.6,-3.6,-3.6,-3.6,-3.6,-3.6,-3.6,-3.6,-3.6,-3.6,-3.6,-3.6,-3.6,-3.6,-3.6,-3.6,-3.6,-3.6,-3.6,-3.6,-3.6,-3.6,-3.6,-3.6,-3.6,-3.6,-3.6,-3.6,-3.6,-3.6,-3.6,-3.6,-3.6,-3.6,-3.6,-3.6,-3.6,-3.6,-3.6,-3.6,-3.6,-3.6,-3.6,-3.6,-3.6,-3.6,-3.6,-3.6,-3.6,-3.6,-3.6,-3.6,-3.6,-3.6,-3.6,-3.6,-3.6,-3.6,-3.6,-3.6,-3.6,-3.6,-3.6,-3.6,-3.6,-3.6,-3.6,-3.6,-3.6,-3.6,-3.6,-3.6,-3.6,-3.6,-3.6,-3.6,-3.6,-3.6,-3.6,-3.6,-3.6,-3.6,-3.6,-3.6,-3.6,-3.6,-3.6,-3.6,-3.6,-3.6,-3.6,-3.6,-3.6,-3.6,-3.6,-3.6,-3.6,-3.6,-3.6,-3.6,-3.6,-3.6,-3.6,-3.6,-3.6,-3.6,-3.6,-3.6,-3.6,-3.6,-3.6,-3.6,-3.6,-3.6,-3.6,-3.6,-3.6,-3.6,-3.6,-3.6,-3.6,-3.6,-3.6,-3.6,-3.6,-3.6,-3.6,-3.6,-3.6,-3.6,-3.6,-3.6,-3.6,-3.6,-3.6,-3.6,-3.6,-3.6,-3.6,-3.6,-3.6,-3.6,-3.6,-3.6,-3.6,-3.6,-3.6,-3.6,-3.6,-3.6,-3.6,-3.6,-3.6,-3.6,-3.6,-3.6,-3.6,-3.6,-3.6,-3.6,-3.6,-3.6,-3.6,-3.6,-3.6,-3.6,-3.6,-3.6,-3.6,-3.6,-3.6,-3.6,-3.6,-3.6,-3.6,-3.6,-3.6,-3.39,-3.39,-2.4,-2.4,-2.4,-2.4,-2.4,-2.4,-2.4,-2.4,-2.4,-2.4,-2.4,-2.4,-2.4,-2.4,-2.4,-2.4,-2.4,-2.4,-2.4,-2.4,-2.4,-2.4,-2.4,-2.4,-2.4,-2.4,-2.4,-2.4,-2.4,-2.4,-2.4,-2.4,-2.4,-2.4,-2.4,-2.4,-2.4,-2.4,-2.4,-2.4,-2.4,-2.4,-2.4,-2.4,-2.4,-2.4,-2.4,-2.4,-2.4,-2.4,-2.4,-2.4,-2.4,-2.4,-2.4,-2.4,-2.4,-2.4,-2.4,-2.4,-2.4,-2.4,-2.4,-2.4,-2.4,-2.4,-2.4,-2.4,-2.4,-2.4,-2.4,-2.4,-2.4,-2.4,-2.4,-2.4,-2.4,-2.4,-2.4,-2.4,-2.4,-2.4,-2.4,-2.4,-2.4,-2.4,-2.4,-2.4,-2.4,-2.4,-2.4,-2.4,-2.4,-2.4,-2.4,-2.4,-2.4,-2.4,-2.4,-2.4,-2.4,-2.4,-2.4,-2.4,-2.4,-2.4,-2.4,-2.4,-2.4,-2.4,-2.4,-2.4,-2.4,-2.4,-2.4,-2.4,-2.4,-2.4,-2.4,-2.4,-2.4,-2.4,-2.4,-2.4,-2.4,-2.4,-2.4,-2.4,-2.4,-2.4,-2.4,-2.4,-2.4,-2.4,-2.4,-2.4,-2.4,-2.4,-2.4,-2.4,-2.4,-2.4,-2.4,-2.4,-2.4,-2.4,-2.4,-2.4,-2.4,-2.4,-2.4,-2.4,-2.4,-2.4,-2.4,-2.4,-2.4,-2.4,-2.4,-2.4,-2.4,-2.4,-2.4,-2.4,-2.4,-2.4,-2.4,-2.4,-2.4,-2.4,-2.4,-2.4,-2.4,-2.4,-2.4,-2.4,-2.4,-2.4,-2.4,-2.4,-2.4,-2.4,-2.4,-2.4,-2.4,-2.4,-2.4,-2.4,-2.4,-2.4,-2.4,-2.4,-2.4,-2.4,-2.4,-2.4,-2.4,-2.4,-2.4,-2.4,-2.4,-2.4,-2.4,-2.4,-2.4,-2.4,-2.4,-2.4,-2.4,-2.4,-2.4,-1.24,-1.24,-1.2,-1.2,-1.2,-1.2,-1.2,-1.2,-1.2,-1.2,-1.2,-1.2,-1.2,-1.2,-1.2,-1.2,-1.2,-1.2,-1.2,-1.2,-1.2,-1.2,-1.2,-1.2,-1.2,-1.2,-1.2,-1.2,-1.2,-1.2,-1.2,-1.2,-1.2,-1.2,-1.2,-1.2,-1.2,-1.2,-1.2,-1.2,-1.2,-1.2,-1.2,-1.2,-1.2,-1.2,-1.2,-1.2,-1.2,-1.2,-1.2,-1.2,-1.2,-1.2,-1.2,-1.2,-1.2,-1.2,-1.2,-1.2,-1.2,-1.2,-1.2,-1.2,-1.2,-1.2,-1.2,-1.2,-1.2,-1.2,-1.2,-1.2,-1.2,-1.2,-1.2,-1.2,-1.2,-1.2,-1.2,-1.2,-1.2,-1.2,-1.2,-1.2,-1.2,-1.2,-1.2,-1.2,-1.2,-1.2,-1.2,-1.2,-1.2,-1.2,-1.2,-1.2,-1.2,-1.2,-1.2,-1.2,-1.2,-1.2,-1.2,-1.2,-1.2,-1.2,-1.2,-1.2,-1.2,-1.2,-1.2,-1.2,-1.2,-1.2,-1.2,-1.2,-1.2,-1.2,-1.2,-1.2,-1.2,-1.2,-1.2,-1.2,-1.2,-1.2,-1.2,-1.2,-1.2,-1.2,-1.2,-1.2,-1.2,-1.2,-1.2,-1.2,-1.2,-1.2,-1.2,-1.2,-1.2,-1.2,-1.2,-1.2,-1.2,-1.2,-1.2,-1.2,-1.2,-1.2,-1.2,-1.2,-1.2,-1.2,-1.2,-1.2,-1.2,-1.2,-1.2,-1.2,-1.2,-1.2,-1.2,-1.2,-1.2,-1.2,-1.2,-1.2,-1.2,-1.2,-1.2,-1.2,-1.2,-1.2,-1.2,-1.2,-1.2,-1.2,-1.2,-1.2,-1.11,-1.11,0.704,0.704,2.838,2.838,4.704,4.704,6.0,6.0,6.0,6.0,6.0,6.0,6.0,6.0,6.0,6.0,6.0,6.0,6.0,6.0,6.0,6.0,6.0,6.0,6.0,6.0,6.0,6.0,6.0,6.0,6.0,6.0,6.0,6.0,6.0,6.0,6.0,6.0,6.0,6.0,6.0,6.0,6.0,6.0,6.0,6.0,6.0,6.0,6.0,6.0,6.0,6.0,6.0,6.0,6.0,6.0,6.0,6.0,6.0,6.0,6.0,6.0,6.0,6.0,6.0,6.0,6.0,6.0,6.0,6.0,6.0,6.0,6.0,6.0,6.0,6.0,6.0,6.0,6.0,6.0,6.0,6.0,6.0,6.0,6.0,6.0,6.0,6.0,6.0,6.0,6.0,6.0,6.0,6.0,6.0,6.0,6.0,6.0,6.0,6.0,6.0,6.0,6.0,6.0,6.0,6.0,6.0,6.0,6.0,6.0,6.0,6.0,6.0,6.0,6.0,6.0,6.0,6.0,6.0,6.0,6.0,6.0,6.0,6.0,6.0,6.0,6.0,6.0,6.0,6.0,6.0,6.0,6.0,6.0,6.0,6.0,6.0,6.0,6.0,6.0,6.0,6.0,6.0,6.0,6.0,6.0,6.0,6.0,6.0,6.0,6.0,6.0,6.0,6.0,6.0,6.0,6.0,6.0,6.0,6.0,6.0,6.0,6.0,6.0,6.0,6.0,6.0,6.0,6.0,6.0,6.0,6.0,6.0,6.0,6.0,6.0,6.0,6.0,6.0,6.0,6.0,6.0,6.0,6.0,6.0,6.0,6.0,6.561,6.561,8.694,8.694,10.561,10.561,12.694,12.694,13.2,13.2,13.2,13.2,13.2,13.2,13.2,13.2,13.2,13.2,13.2,13.2,13.2,13.2,13.2,13.2,13.2,13.2,13.2,13.2,13.2,13.2,13.2,13.2,13.2,13.2,13.2,13.2,13.2,13.2,13.2,13.2,13.2,13.2,13.2,13.2,13.2,13.2,13.2,13.2,13.2,13.2,13.2,13.2,13.2,13.2,13.2,13.2,13.2,13.2,13.2,13.2,13.2,13.2,13.2,13.2,13.2,13.2,13.2,13.2,13.2,13.2,13.2,13.2,13.2,13.2,13.2,13.2,13.2,13.2,13.2,13.2,13.2,13.2,13.2,13.2,13.2,13.2,13.2,13.2,13.2,13.2,13.2,13.2,13.2,13.2,13.2,13.2,13.2,13.2,13.2,13.2,13.2,13.2,13.2,13.2,13.2,13.2,13.2,13.2,13.2,13.2,13.2,13.2,13.2,13.2,13.2,13.2,13.2,13.2,13.2,13.2,13.2,13.2,13.2,13.2,13.2,13.2,13.2,13.2,13.2,13.2,13.2,13.2,13.2,13.2,13.2,13.2,13.2,13.2,13.2,13.2,13.2,13.2,13.2,13.2,13.2,13.2,13.2,13.2,13.2,13.2,13.2,13.2,13.2,13.2,13.2,13.2,13.2,13.2,13.2,13.2,13.2,13.2,13.2,13.2,13.2,13.2,13.2,13.2,13.2,13.2,13.2,13.2,13.2,13.2,13.2,13.2,13.2,13.2,13.2,13.2,13.2,13.2,13.2,13.2,13.2,13.2,13.2,13.2,13.2,13.2,13.2,13.2,13.2,13.2,13.2,13.2,13.2,13.2,13.2,13.2,13.2,13.2,13.2,13.2,13.2,13.2,13.2,13.2,13.2,13.2,13.2,13.2,13.2,13.2,13.2,13.2,13.2,13.2,14.946,14.946,15.6,15.6,15.6,15.6,15.6,15.6,15.6,15.6,15.6,15.6,15.6,15.6,15.6,15.6,15.6,15.6,15.6,15.6,15.6,15.6,15.6,15.6,15.6,15.6,15.6,15.6,15.6,15.6,15.6,15.6,15.6,15.6,15.6,15.6,15.6,15.6,15.6,15.6,15.6,15.6,15.6,15.6,15.6,15.6,15.6,15.6,15.6,15.6,15.6,15.6,15.6,15.6,15.6,15.6,15.6,15.6,15.6,15.6,15.6,15.6,15.6,15.6,15.6,15.6,15.6,15.6,15.6,15.6,15.6,15.6,15.6,15.6,15.6,15.6,15.6,15.6,15.6,15.6,15.6,15.6,15.6,15.6,15.6,15.6,15.6,15.6,15.6,15.6,15.6,15.6,15.6,15.6,15.6,15.6,15.6,15.6,15.6,15.6,15.6,15.6,15.6,15.6,15.6,15.6,15.6,15.6,15.6,15.6,15.6,15.6,15.6,15.6,15.6,15.6,15.6,15.6,15.6,15.6,15.6,15.6,15.6,15.6,15.6,15.6,15.6,15.6,15.6,15.6,15.6,15.6,15.6,15.6,15.6,15.6,15.6,15.6,15.6,15.6,15.6,15.6,15.6,15.6,15.6,15.6,15.6,15.6,15.6,15.6,15.6,15.6,15.6,15.6,15.6,15.6,15.6,15.6,15.6,15.6,15.6,15.6,15.6,15.6,15.6,15.6,15.6,15.6,15.6,15.6,15.6,15.6,15.6,15.6,15.6,15.6,15.6,15.6,15.6,15.6,15.6,15.6,15.6,17.069,17.069,18.0,18.0,18.0,18.0,18.0,18.0,18.0,18.0,18.0,18.0,18.0,18.0,18.0,18.0,18.0,18.0,18.0,18.0,18.0,18.0,18.0,18.0,18.0,18.0,18.0,18.0,18.0,18.0,18.0,18.0,18.0,18.0,18.0,18.0,18.0,18.0,18.0,18.0,18.0,18.0,18.0,18.0,18.0,18.0,18.0,18.0,18.0,18.0,18.0,18.0,18.0,18.0,18.0,18.0,18.0,18.0,18.0,18.0,18.0,18.0,18.0,18.0,18.0,18.0,18.0,18.0,18.0,18.0,18.0,18.0,18.0,18.0,18.0,18.0,18.0,18.0,18.0,18.0,18.0,18.0,18.0,18.0,18.0,18.0,18.0,18.0,18.0,18.0,18.0,18.0,18.0,18.0,18.0,18.0,18.0,18.0,18.0,18.0,18.0,18.0,18.0,18.0,18.0,18.0,18.0,18.0,18.0,18.0,18.0,18.0,18.0,18.0,18.0,18.0,18.0,18.0,18.0,18.0,18.0,18.0,18.0,18.0,18.0,18.0,18.0,18.0,18.0,18.0,18.0,18.0,18.0,18.0,18.0,18.0,18.0,18.0,18.0,18.0,18.0,18.0,18.0,18.0,18.0,18.0,18.0,18.0,18.0,18.0,18.0,18.0,19.059,19.059,20.4,20.4,20.4,20.4,20.4,20.4,20.4,20.4,20.4,20.4,20.4,20.4,20.4,20.4,20.4,20.4,20.4,20.4,20.4,20.4,20.4,20.4,20.4,20.4,20.4,20.4,20.4,20.4,20.4,20.4,20.4,20.4,20.4,20.4,20.4,20.4,20.4,20.4,20.4,20.4,20.4,20.4,20.4,20.4,20.4,20.4,20.4,20.4,20.4,20.4,20.4,20.4,20.4,20.4,20.4,20.4,20.4,20.4,20.4,20.4,20.4,20.4,20.4,20.4,20.4,20.4,20.4,20.4,20.4,20.4,20.4,20.4,20.4,20.4,20.4,20.4,20.4,20.4,20.4,20.4,20.4,20.4,20.4,20.4,20.4,20.4,20.4,20.4,20.4,20.4,20.4,20.4,20.4,20.4,20.4,20.4,20.4,20.4,20.4,20.4,20.4,20.4,20.4,20.4,20.4,20.4,20.4,20.4,20.4,20.4,20.4,20.4,20.4,20.4,20.4,20.4,20.4,20.4,20.4,20.4,20.4,20.4,20.4,20.4,20.4,20.4,20.4,20.4,20.4,20.4,20.4,20.4,20.4,20.4,20.4,20.4,20.4,20.4,20.4,20.4,20.4,20.4,20.4,20.4,20.4,20.4,20.4,20.4,20.4,20.4,21.045,21.045,22.788,22.788,22.8,22.8,22.8,22.8,22.8,22.8,22.8,22.8,22.8,22.8,22.8,22.8,22.8,22.8,22.8,22.8,22.8,22.8,22.8,22.8,22.8,22.8,22.8,22.8,22.8,22.8,22.8,22.8,22.8,22.8,22.8,22.8,22.8,22.8,22.8,22.8,22.8,22.8,22.8,22.8,22.8,22.8,22.8,22.8,22.8,22.8,22.8,22.8,22.8,22.8,22.8,22.8,22.8,22.8,22.8,22.8,22.8,22.8,22.8,22.8,22.8,22.8,22.8,22.8,22.8,22.8,22.8,22.8,22.8,22.8,22.8,22.8,22.8,22.8,22.8,22.8,22.8,22.8,22.8,22.8,22.8,22.8,22.8,22.8,22.8,22.8,22.8,22.8,22.8,22.8,22.8,22.8,22.8,22.8,22.8,22.8,22.8,22.8,22.8,22.8,22.8,22.8,22.8,22.8,22.8,22.8,22.8,22.8,22.8,22.8,22.8,22.8,22.8,22.8,22.8,22.8,22.8,22.8,22.8,22.8,22.8,22.8,22.8,22.8,22.8,22.8,22.8,22.8,22.8,22.8,22.8,22.8,22.8,22.8,22.8,22.8,22.8,22.8,22.8,22.8,22.8,22.8,22.8,22.8,22.8,22.8,22.8,22.8,22.8,22.8,22.8,22.8,22.8,22.8,22.8,22.8,22.8,22.8,22.8,22.932,22.932,25.035,25.035,26.901,26.901,29.035,29.035,30.901,30.901,31.2,31.2,31.2,31.2,31.2,31.2,31.2,31.2,31.2,31.2,31.2,31.2,31.2,31.2,31.2,31.2,31.2,31.2,31.2,31.2,31.2,31.2,31.2,31.2,31.2,31.2,31.2,31.2,31.2,31.2,31.2,31.2,31.2,31.2,31.2,31.2,31.2,31.2,31.2,31.2,31.2,31.2,31.2,31.2,31.2,31.2,31.2,31.2,31.2,31.2,31.2,31.2,31.2,31.2,31.2,31.2,31.2,31.2,31.2,31.2,31.2,31.2,31.2,31.2,31.2,31.2,31.2,31.2,31.2,31.2,31.2,31.2,31.2,31.2,31.2,31.2,31.2,31.2,31.2,31.2,31.2,31.2,31.2,31.2,31.2,31.2,31.2,31.2,31.2,31.2,31.2,31.2,31.2,31.2,31.2,31.2,31.2,31.2,31.2,31.2,31.2,31.2,31.2,31.2,31.2,31.2,31.2,31.2,31.2,31.2,31.2,31.2,31.2,31.2,31.2,31.2,31.2,31.2,31.2,31.2,31.2,31.2,31.2,31.2,31.2,31.2,31.2,31.2,31.2,31.2,31.2,31.2,31.2,31.2,31.2,31.2,31.2,31.2,31.2,31.2,31.2,31.2,31.2,31.2,31.2,31.2,31.2,31.2,31.2,31.2,31.2,31.2,31.2,31.2,31.2,31.2,31.2,31.2,31.2,31.2,31.2,31.2,31.2,31.2,31.2,31.2,31.2,31.2,31.2,31.2,33.154,33.154,35.02,35.02,37.154,37.154,39.02,39.02,39.6,39.6,39.6,39.6,39.6,39.6,39.6,39.6,39.6,39.6,39.6,39.6,39.6,39.6,39.6,39.6,39.6,39.6,39.6,39.6,39.6,39.6,39.6,39.6,39.6,39.6,39.6,39.6,39.6,39.6,39.6,39.6,39.6,39.6,39.6,39.6,39.6,39.6,39.6,39.6,39.6,39.6,39.6,39.6,39.6,39.6,39.6,39.6,39.6,39.6,39.6,39.6,39.6,39.6,39.6,39.6,39.6,39.6,39.6,39.6,39.6,39.6,39.6,39.6,39.6,39.6,39.6,39.6,39.6,39.6,39.6,39.6,39.6,39.6,39.6,39.6,39.6,39.6,39.6,39.6,39.6,39.6,39.6,39.6,39.6,39.6,39.6,39.6,39.6,39.6,39.6,39.6,39.6,39.6,39.6,39.6,39.6,39.6,39.6,39.6,39.6,39.6,39.6,39.6,39.6,39.6,39.6,39.6,39.6,39.6,39.6,39.6,39.6,39.6,39.6,39.6,39.6,39.6,39.6,39.6,39.6,39.6,39.6,39.6,39.6,39.6,39.6,39.6,39.6,39.6,39.6,39.6,39.6,39.6,39.6,39.6,39.6,39.6,39.6,39.6,39.6,39.6,39.6,39.6,39.6,39.6,39.6,39.6,39.6,39.6,39.6,39.6,39.6,39.6,39.6,39.6,39.6,39.6,39.6,39.6,39.6,39.6,39.6,39.6,39.6,39.6,39.6,39.6,39.6,39.6,39.6,39.6,39.6,39.6,39.6,39.6,39.6,39.6,39.6,39.6,40.877,40.877,42.999,42.999,43.2,43.2,43.2,43.2,43.2,43.2,43.2,43.2,43.2,43.2,43.2,43.2,43.2,43.2,43.2,43.2,43.2,43.2,43.2,43.2,43.2,43.2,43.2,43.2,43.2,43.2,43.2,43.2,43.2,43.2,43.2,43.2,43.2,43.2,43.2,43.2,43.2,43.2,43.2,43.2,43.2,43.2,43.2,43.2,43.2,43.2,43.2,43.2,43.2,43.2,43.2,43.2,43.2,43.2,43.2,43.2,43.2,43.2,43.2,43.2,43.2,43.2,43.2,43.2,43.2,43.2,43.2,43.2,43.2,43.2,43.2,43.2,43.2,43.2,43.2,43.2,43.2,43.2,43.2,43.2,43.2,43.2,43.2,43.2,43.2,43.2,43.2,43.2,43.2,43.2,43.2,43.2,43.2,43.2,43.2,43.2,43.2,43.2,43.2,43.2,43.2,43.2,43.2,43.2,43.2,43.2,43.2,43.2,43.2,43.2,43.2,43.2,43.2,43.2,43.2,43.2,43.2,43.2,43.2,43.2,43.2,43.2,43.2,43.2,43.2,43.2,43.2,43.2,43.2,43.2,43.2,43.2,43.2,43.2,43.2,43.2,43.2,43.2,43.2,43.2,43.2,43.2,43.2,43.2,43.2,43.2,43.2,43.2,43.2,43.2,43.2,43.2,43.2,43.2,43.2,43.2,43.2,43.2,43.2,43.2,43.2,43.2,43.2,43.2,43.2,43.2,43.2,43.2,43.2,43.2,44.729,44.729,44.729,46.765,46.765,46.8,46.8,46.8,46.8,46.8,46.8,46.8,46.8,46.8,46.8,46.8,46.8,46.8,46.8,46.8,46.8,46.8,46.8,46.8,46.8,46.8,46.8,46.8,46.8,46.8,46.8,46.8,46.8,46.8,46.8,46.8,46.8,46.8,46.8,46.8,46.8,46.8,46.8,46.8,46.8,46.8,46.8,46.8,46.8,46.8,46.8,46.8,46.8,46.8,46.8,46.8,46.8,46.8,46.8,46.8,46.8,46.8,46.8,46.8,46.8,46.8,46.8,46.8,46.8,46.8,46.8,46.8,46.8,46.8,46.8,46.8,46.8,46.8,46.8,46.8,46.8,46.8,46.8,46.8,46.8,46.8,46.8,46.8,46.8,46.8,46.8,46.8,46.8,46.8,46.8,46.8,46.8,46.8,46.8,46.8,46.8,46.8,46.8,46.8,46.8,46.8,46.8,46.8,46.8,46.8,46.8,46.8,46.8,46.8,46.8,46.8,46.8,46.8,46.8,46.8,46.8,46.8,46.8,46.8,46.8,46.8,46.8,46.8,46.8,46.8,46.8,46.8,46.8,46.8,46.8,46.8,46.8,46.8,46.8,46.8,46.8,46.8,46.8,46.8,46.8,46.8,46.8,46.8,46.8,46.8,46.8,46.8,46.8,46.8,46.8,48.586,48.586,50.36,50.36,50.4,50.4,50.4,50.4,50.4,50.4,50.4,50.4,50.4,50.4,50.4,50.4,50.4,50.4,50.4,50.4,50.4,50.4,50.4,50.4,50.4,50.4,50.4,50.4,50.4,50.4,50.4,50.4,50.4,50.4,50.4,50.4,50.4,50.4,50.4,50.4,50.4,50.4,50.4,50.4,50.4,50.4,50.4,50.4,50.4,50.4,50.4,50.4,50.4,50.4,50.4,50.4,50.4,50.4,50.4,50.4,50.4,50.4,50.4,50.4,50.4,50.4,50.4,50.4,50.4,50.4,50.4,50.4,50.4,50.4,50.4,50.4,50.4,50.4,50.4,50.4,50.4,50.4,50.4,50.4,50.4,50.4,50.4,50.4,50.4,50.4,50.4,50.4,50.4,50.4,50.4,50.4,50.4,50.4,50.4,50.4,50.4,50.4,50.4,50.4,50.4,50.4,50.4,50.4,50.4,50.4,50.4,50.4,50.4,50.4,50.4,50.4,50.4,50.4,50.4,50.4,50.4,50.4,50.4,50.4,50.4,50.4,50.4,50.4,50.4,50.4,50.4,50.4,50.4,50.4,50.4,50.4,50.4,50.4,50.4,50.4,50.4,50.4,50.4,50.4,50.4,50.4,50.4,50.4,50.4,50.4,50.4,50.4,50.4,50.4,50.4,50.4,50.4,50.4,50.4,50.4,50.4,50.4,50.4,50.4,50.4,50.4,50.4,50.4,50.4,50.4,50.4,50.4,50.585,50.585,52.437,52.437,54.0,54.0,54.0,54.0,54.0,54.0,54.0,54.0,54.0,54.0,54.0,54.0,54.0,54.0,54.0,54.0,54.0,54.0,54.0,54.0,54.0,54.0,54.0,54.0,54.0,54.0,54.0,54.0,54.0,54.0,54.0,54.0,54.0,54.0,54.0,54.0,54.0,54.0,54.0,54.0,54.0,54.0,54.0,54.0,54.0,54.0,54.0,54.0,54.0,54.0,54.0,54.0,54.0,54.0,54.0,54.0,54.0,54.0,54.0,54.0,54.0,54.0,54.0,54.0,54.0,54.0,54.0,54.0,54.0,54.0,54.0,54.0,54.0,54.0,54.0,54.0,54.0,54.0,54.0,54.0,54.0,54.0,54.0,54.0,54.0,54.0,54.0,54.0,54.0,54.0,54.0,54.0,54.0,54.0,54.0,54.0,54.0,54.0,54.0,54.0,54.0,54.0,54.0,54.0,54.0,54.0,54.0,54.0,54.0,54.0,54.0,54.0,54.0,54.0,54.0,54.0,54.0,54.0,54.0,54.0,54.0,54.0,54.0,54.0,54.0,54.0,54.0,54.0,54.0,54.0,54.0,54.0,54.0,54.0,54.0,54.0,54.0,54.0,54.0,54.0,54.0,54.0,54.0,54.0,54.0,54.0,54.0,54.0,54.0,54.0,54.0,54.0,54.0,54.0,54.0,54.0,54.0,54.0,54.0,54.0,54.0,54.0,54.0,54.0,54.0,54.0,54.0,54.0,54.0,54.0,54.427,54.427,56.294,56.294,58.427,58.427,60.294,60.294,62.427,62.427,63.6,63.6,63.6,63.6,63.6,63.6,63.6,63.6,63.6,63.6,63.6,63.6,63.6,63.6,63.6,63.6,63.6,63.6,63.6,63.6,63.6,63.6,63.6,63.6,63.6,63.6,63.6,63.6,63.6,63.6,63.6,63.6,63.6,63.6,63.6,63.6,63.6,63.6,63.6,63.6,63.6,63.6,63.6,63.6,63.6,63.6,63.6,63.6,63.6,63.6,63.6,63.6,63.6,63.6,63.6,63.6,63.6,63.6,63.6,63.6,63.6,63.6,63.6,63.6,63.6,63.6,63.6,63.6,63.6,63.6,63.6,63.6,63.6,63.6,63.6,63.6,63.6,63.6,63.6,63.6,63.6,63.6,63.6,63.6,63.6,63.6,63.6,63.6,63.6,63.6,63.6,63.6,63.6,63.6,63.6,63.6,63.6,63.6,63.6,63.6,63.6,63.6,63.6,63.6,63.6,63.6,63.6,63.6,63.6,63.6,63.6,63.6,63.6,63.6,63.6,63.6,63.6,63.6,63.6,63.6,63.6,63.6,63.6,63.6,63.6,63.6,63.6,63.6,63.6,63.6,63.6,63.6,63.6,63.6,63.6,63.6,63.6,63.6,63.6,63.6,63.6,63.6,63.6,63.6,63.6,63.6,63.6,63.6,63.6,63.6,63.6,64.413,64.413,66.279,66.279,68.146,68.146,70.279,70.279,72.146,72.146,73.2,73.2,73.2,73.2,73.2,73.2,73.2,73.2,73.2,73.2,73.2,73.2,73.2,73.2,73.2,73.2,73.2,73.2,73.2,73.2,73.2,73.2,73.2,73.2,73.2,73.2,73.2,73.2,73.2,73.2,73.2,73.2,73.2,73.2,73.2,73.2,73.2,73.2,73.2,73.2,73.2,73.2,73.2,73.2,73.2,73.2,73.2,73.2,73.2,73.2,73.2,73.2,73.2,73.2,73.2,73.2,73.2,73.2,73.2,73.2,73.2,73.2,73.2,73.2,73.2,73.2,73.2,73.2,73.2,73.2,73.2,73.2,73.2,73.2,73.2,73.2,73.2,73.2,73.2,73.2,73.2,73.2,73.2,73.2,73.2,73.2,73.2,73.2,73.2,73.2,73.2,73.2,73.2,73.2,73.2,73.2,73.2,73.2,73.2,73.2,73.2,73.2,73.2,73.2,73.2,73.2,73.2,73.2,73.2,73.2,73.2,73.2,73.2,73.2,73.2,73.2,73.2,73.2,73.2,73.2,73.2,73.2,73.2,73.2,73.2,73.2,73.2,73.2,73.2,73.2,73.2,73.2,73.2,73.2,73.2,73.2,73.2,73.2,73.2,73.2,73.2,73.2,73.2,73.2,73.2,73.2,73.2,73.2,73.2,73.2,73.2,73.2,73.2,73.2,73.2,73.2,73.2,73.2,73.2,73.2,73.2,73.2,73.2,73.2,73.2,73.536,75.403,75.403,77.536,77.536,78.0,78.0,78.0,78.0,78.0,78.0,78.0,78.0,78.0,78.0,78.0,78.0,78.0,78.0,78.0,78.0,78.0,78.0,78.0,78.0,78.0,78.0,78.0,78.0,78.0,78.0,78.0,78.0,78.0,78.0,78.0,78.0,78.0,78.0,78.0,78.0,78.0,78.0,78.0,78.0,78.0,78.0,78.0,78.0,78.0,78.0,78.0,78.0,78.0,78.0,78.0,78.0,78.0,78.0,78.0,78.0,78.0,78.0,78.0,78.0,78.0,78.0,78.0,78.0,78.0,78.0,78.0,78.0,78.0,78.0,78.0,78.0,78.0,78.0,78.0,78.0,78.0,78.0,78.0,78.0,78.0,78.0,78.0,78.0,78.0,78.0,78.0,78.0,78.0,78.0,78.0,78.0,78.0,78.0,78.0,78.0,78.0,78.0,78.0,78.0,78.0,78.0,78.0,78.0,78.0,78.0,78.0,78.0,78.0,78.0,78.0,78.0,78.0,78.0,78.0,78.0,78.0,78.0,78.0,78.0,78.0,78.0,78.0,78.0,78.0,78.0,78.0,78.0,78.0,78.0,78.0,78.0,78.0,78.0,78.0,78.0,78.0,78.0,78.0,78.0,78.0,78.0,78.0,78.0,78.0,78.0,78.0,78.0,78.0,78.0,78.0,78.0,78.0,78.0,78.0,78.0,78.0,78.0,78.0,78.0,78.0,78.0,78.0,78.0,78.0,78.0,78.0,78.0,78.0,78.0,78.0,78.0,78.0,78.659,78.659,80.793,80.793,82.637,82.637,82.8,82.8,82.8,82.8,82.8,82.8,82.8,82.8,82.8,82.8,82.8,82.8,82.8,82.8,82.8,82.8,82.8,82.8,82.8,82.8,82.8,82.8,82.8,82.8,82.8,82.8,82.8,82.8,82.8,82.8,82.8,82.8,82.8,82.8,82.8,82.8,82.8,82.8,82.8,82.8,82.8,82.8,82.8,82.8,82.8,82.8,82.8,82.8,82.8,82.8,82.8,82.8,82.8,82.8,82.8,82.8,82.8,82.8,82.8,82.8,82.8,82.8,82.8,82.8,82.8,82.8,82.8,82.8,82.8,82.8,82.8,82.8,82.8,82.8,82.8,82.8,82.8,82.8,82.8,82.8,82.8,82.8,82.8,82.8,82.8,82.8,82.8,82.8,82.8,82.8,82.8,82.8,82.8,82.8,82.8,82.8,82.8,82.8,82.8,82.8,82.8,82.8,82.8,82.8,82.8,82.8,82.8,82.8,82.8,82.8,82.8,82.8,82.8,82.8,82.8,82.8,82.8,82.8,82.8,82.8,82.8,82.8,82.8,82.8,82.8,82.8,82.8,82.8,82.8,82.8,82.8,82.8,82.8,82.8,82.8,82.8,82.8,82.8,82.8,82.8,82.8,82.8,82.8,82.8,82.8,82.8,82.8,82.8,82.8,82.8,82.8,82.8,82.8,82.8,82.8,82.8,82.8,82.8,84.645,84.645,86.511,86.511,88.645,88.645,90.511,90.511,92.645,92.645,93.6,93.6,93.6,93.6,93.6,93.6,93.6,93.6,93.6,93.6,93.6,93.6,93.6,93.6,93.6,93.6,93.6,93.6,93.6,93.6,93.6,93.6,93.6,93.6,93.6,93.6,93.6,93.6,93.6,93.6,93.6,93.6,93.6,93.6,93.6,93.6,93.6,93.6,93.6,93.6,93.6,93.6,93.6,93.6,93.6,93.6,93.6,93.6,93.6,93.6,93.6,93.6,93.6,93.6,93.6,93.6,93.6,93.6,93.6,93.6,93.6,93.6,93.6,93.6,93.6,93.6,93.6,93.6,93.6,93.6,93.6,93.6,93.6,93.6,93.6,93.6,93.6,93.6,93.6,93.6,93.6,93.6,93.6,93.6,93.6,93.6,93.6,93.6,93.6,93.6,93.6,93.6,93.6,93.6,93.6,93.6,93.6,93.6,93.6,93.6,93.6,93.6,93.6,93.6,93.6,93.6,93.6,93.6,93.6,93.6,93.6,93.6,93.6,93.6,93.6,93.6,93.6,93.6,93.6,93.6,93.6,93.6,93.6,93.6,93.6,93.6,93.6,93.6,93.6,93.6,93.6,93.6,93.6,93.6,93.6,93.6,93.6,93.6,93.6,93.6,93.6,93.6,93.6,93.6,93.6,93.6,93.6,93.6,93.6,93.6,93.6,93.6,93.6,93.6,93.6,93.6,93.6,93.6,93.6,93.6,93.6,93.6,93.6,93.6,93.6,93.6,93.6,93.6,93.6,93.6,93.6,93.6,93.6,93.6,93.6,93.6,93.6,93.6,93.6,93.6,93.6,94.501,94.501,96.368,96.368,98.235,98.235,100.368,100.368,102.501,102.501,104.312,104.312,104.4,104.4,104.4,104.4,104.4,104.4,104.4,104.4,104.4,104.4,104.4,104.4,104.4,104.4,104.4,104.4,104.4,104.4,104.4,104.4,104.4,104.4,104.4,104.4,104.4,104.4,104.4,104.4,104.4,104.4,104.4,104.4,104.4,104.4,104.4,104.4,104.4,104.4,104.4,104.4,104.4,104.4,104.4,104.4,104.4,104.4,104.4,104.4,104.4,104.4,104.4,104.4,104.4,104.4,104.4,104.4,104.4,104.4,104.4,104.4,104.4,104.4,104.4,104.4,104.4,104.4,104.4,104.4,104.4,104.4,104.4,104.4,104.4,104.4,104.4,104.4,104.4,104.4,104.4,104.4,104.4,104.4,104.4,104.4,104.4,104.4,104.4,104.4,104.4,104.4,104.4,104.4,104.4,104.4,104.4,104.4,104.4,104.4,104.4,104.4,104.4,104.4,104.4,104.4,104.4,104.4,104.4,104.4,104.4,104.4,104.4,104.4,104.4,104.4,104.4,104.4,104.4,104.4,104.4,104.4,104.4,104.4,104.4,104.4,104.4,104.4,104.4,104.4,104.4,104.4,104.4,104.4,104.4,104.4,104.4,104.4,104.4,104.4,104.4,104.4,104.4,104.4,104.4,104.4,104.4,104.4,104.4,104.4,104.4,104.4,104.4,104.4,104.4,104.4,104.4,104.4,104.4,104.4,104.4,104.4,104.4,104.4,104.4,104.4,104.4,104.4,104.4,104.4,104.4,104.4,104.4,104.4,104.4,104.4,104.4,104.4,104.4,104.4,104.627,104.627,106.754,106.754,108.62,108.62,110.4,110.4,110.4,110.4,110.4,110.4,110.4,110.4,110.4,110.4,110.4,110.4,110.4,110.4,110.4,110.4,110.4,110.4,110.4,110.4,110.4,110.4,110.4,110.4,110.4,110.4,110.4,110.4,110.4,110.4,110.4,110.4,110.4,110.4,110.4,110.4,110.4,110.4,110.4,110.4,110.4,110.4,110.4,110.4,110.4,110.4,110.4,110.4,110.4,110.4,110.4,110.4,110.4,110.4,110.4,110.4,110.4,110.4,110.4,110.4,110.4,110.4,110.4,110.4,110.4,110.4,110.4,110.4,110.4,110.4,110.4,110.4,110.4,110.4,110.4,110.4,110.4,110.4,110.4,110.4,110.4,110.4,110.4,110.4,110.4,110.4,110.4,110.4,110.4,110.4,110.4,110.4,110.4,110.4,110.4,110.4,110.4,110.4,110.4,110.4,110.4,110.4,110.4,110.4,110.4,110.4,110.4,110.4,110.4,110.4,110.4,110.4,110.4,110.4,110.4,110.4,110.4,110.4,110.4,110.4,110.4,110.4,110.4,110.4,110.4,110.4,110.4,110.4,110.4,110.4,110.4,110.4,110.4,110.4,110.4,110.4,110.4,110.4,110.4,110.4,110.4,110.4,110.4,110.4,110.4,110.4,110.4,110.4,110.4,110.4,110.4,110.877,110.877,112.744,112.744,114.877,114.877,116.4,116.4,116.4,116.4,116.4,116.4,116.4,116.4,116.4,116.4,116.4,116.4,116.4,116.4,116.4,116.4,116.4,116.4,116.4,116.4,116.4,116.4,116.4,116.4,116.4,116.4,116.4,116.4,116.4,116.4,116.4,116.4,116.4,116.4,116.4,116.4,116.4,116.4,116.4,116.4,116.4,116.4,116.4,116.4,116.4,116.4,116.4,116.4,116.4,116.4,116.4,116.4,116.4,116.4,116.4,116.4,116.4,116.4,116.4,116.4,116.4,116.4,116.4,116.4,116.4,116.4,116.4,116.4,116.4,116.4,116.4,116.4,116.4,116.4,116.4,116.4,116.4,116.4,116.4,116.4,116.4,116.4,116.4,116.4,116.4,116.4,116.4,116.4,116.4,116.4,116.4,116.4,116.4,116.4,116.4,116.4,116.4,116.4,116.4,116.4,116.4,116.4,116.4,116.4,116.4,116.4,116.4,116.4,116.4,116.4,116.4,116.4,116.4,116.4,116.4,116.4,116.4,116.4,116.4,116.4,116.4,116.4,116.4,116.4,116.4,116.4,116.4,116.4,116.4,116.4,116.4,116.4,116.4,116.4,116.4,116.4,116.4,116.4,116.4,116.4,116.4,116.4,116.4,116.4,116.4,116.4,116.4,116.4,116.4,116.4,116.4,117.396,117.396,119.263,119.263,121.396,121.396,123.263,123.263,125.396,125.396,127.241,127.241,127.4,127.4,127.4,127.4,127.4,127.4,127.4,127.4,127.4,127.4,127.4,127.4,127.4,127.4,127.4,127.4,127.4,127.4,127.4,127.4,127.4,127.4,127.4,127.4,127.4,127.4,127.4,127.4,127.4,127.4,127.4,127.4,127.4,127.4,127.4,127.4,127.4,127.4,127.4,127.4,127.4,127.4,127.4,127.4,127.4,127.4,127.4,127.4,127.4,127.4,127.4,127.4,127.4,127.4,127.4,127.4,127.4,127.4,127.4,127.4,127.4,127.4,127.4,127.4,127.4,127.4,127.4,127.4,127.4,127.4,127.4,127.4,127.4,127.4,127.4,127.4,127.4,127.4,127.4,127.4,127.4,127.4,127.4,127.4,127.4,127.4,127.4,127.4,127.4,127.4,127.4,127.4,127.4,127.4,127.4,127.4,127.4,127.4,127.4,127.4,127.4,127.4,127.4,127.4,127.4,127.4,127.4,127.4,127.4,127.4,127.4,127.4,127.4,127.4,127.4,127.4,127.4,127.4,127.4,127.4,127.4,127.4,127.4,127.4,127.4,127.4,127.4,127.4,127.4,127.4,127.4,127.4,127.4,127.4,127.4,127.4,127.4,127.4,127.4,127.4,127.4,127.4,127.4,127.4,127.4,127.4,127.4,127.4,127.4,127.4,127.4,127.4,127.4,127.4,127.4,127.4,127.4,127.4,127.4,127.4,127.4,127.4,127.4,127.4,127.4,127.4,127.4,127.4,127.4,127.4,127.4,127.4,127.4,127.4,127.4,127.4,127.4,127.4,127.4,128.051,128.051,130.185,130.185,132.051,132.051,134.185,134.185,136.051,136.051,138.177,138.177,138.4,138.4,138.4,138.4,138.4,138.4,138.4,138.4,138.4,138.4,138.4,138.4,138.4,138.4,138.4,138.4,138.4,138.4,138.4,138.4,138.4,138.4,138.4,138.4,138.4,138.4,138.4,138.4,138.4,138.4,138.4,138.4,138.4,138.4,138.4,138.4,138.4,138.4,138.4,138.4,138.4,138.4,138.4,138.4,138.4,138.4,138.4,138.4,138.4,138.4,138.4,138.4,138.4,138.4,138.4,138.4,138.4,138.4,138.4,138.4,138.4,138.4,138.4,138.4,138.4,138.4,138.4,138.4,138.4,138.4,138.4,138.4,138.4,138.4,138.4,138.4,138.4,138.4,138.4,138.4,138.4,138.4,138.4,138.4,138.4,138.4,138.4,138.4,138.4,138.4,138.4,138.4,138.4,138.4,138.4,138.4,138.4,138.4,138.4,138.4,138.4,138.4,138.4,138.4,138.4,138.4,138.4,138.4,138.4,138.4,138.4,138.4,138.4,138.4,138.4,138.4,138.4,138.4,138.4,138.4,138.4,138.4,138.4,138.4,138.4,138.4,138.4,138.4,138.4,138.4,138.4,138.4,138.4,138.4,138.4,138.4,138.4,138.4,138.4,138.4,138.4,138.4,138.4,138.4,138.4,138.4,138.4,138.4,138.4,138.4,138.4,138.4,138.4,138.4,138.4,138.4,138.4,138.4,138.4,138.4,138.4,138.4,138.4,138.4,138.4,138.4,138.4,138.4,138.4,138.4,138.4,138.4,138.4,138.4,138.4,138.4,138.4,138.4,138.4,138.4,138.4,138.4,138.4,138.4,138.4,138.4,138.4,138.4,138.4,138.4,138.4,138.4,138.4,138.4,138.4,138.4,138.4,138.4,138.4,138.4,138.4,138.4,138.4,138.4,138.4,138.4,138.4,138.4,138.4,138.418,138.418,140.17,140.17,142.303,142.303,144.17,144.17,146.303,146.303,148.17,148.17,149.4,149.4,149.4,149.4,149.4,149.4,149.4,149.4,149.4,149.4,149.4,149.4,149.4,149.4,149.4,149.4,149.4,149.4,149.4,149.4,149.4,149.4,149.4,149.4,149.4,149.4,149.4,149.4,149.4,149.4,149.4,149.4,149.4,149.4,149.4,149.4,149.4,149.4,149.4,149.4,149.4,149.4,149.4,149.4,149.4,149.4,149.4,149.4,149.4,149.4,149.4,149.4,149.4,149.4,149.4,149.4,149.4,149.4,149.4,149.4,149.4,149.4,149.4,149.4,149.4,149.4,149.4,149.4,149.4,149.4,149.4,149.4,149.4,149.4,149.4,149.4,149.4,149.4,149.4,149.4,149.4,149.4,149.4,149.4,149.4,149.4,149.4,149.4,149.4,149.4,149.4,149.4,149.4,149.4,149.4,149.4,149.4,149.4,149.4,149.4,149.4,149.4,149.4,149.4,149.4,149.4,149.4,149.4,149.4,149.4,149.4,149.4,149.4,149.4,149.4,149.4,149.4,149.4,149.4,149.4,149.4,149.4,149.4,149.4,149.4,149.4,149.4,149.4,149.4,149.4,149.4,149.4,149.4,149.4,149.4,149.4,149.4,149.4,149.4,149.4,149.4,149.4,149.4,149.4,149.4,149.4,149.4,149.4,149.4,149.4,149.4,149.4,149.4,149.4,149.4,149.4,149.4,149.4,149.4,149.4,149.4,149.4,149.4,149.4,149.4,149.4,149.4,149.4,149.4,149.4,149.4,149.4,149.4,149.4,149.4,149.4,149.4,149.4,149.4,149.4,149.4,149.4,149.4,149.4,149.4,149.4,149.4,149.4,149.4,149.4,149.4,149.4,149.4,149.4,149.4,149.4,149.4,149.4,149.4,149.4,149.4,149.4,149.4,149.4,149.4,149.4,149.4,149.4,149.4,149.4,149.4],\"yaxis\":\"y\",\"type\":\"scattergl\"}],                        {\"template\":{\"data\":{\"bar\":[{\"error_x\":{\"color\":\"#2a3f5f\"},\"error_y\":{\"color\":\"#2a3f5f\"},\"marker\":{\"line\":{\"color\":\"#E5ECF6\",\"width\":0.5},\"pattern\":{\"fillmode\":\"overlay\",\"size\":10,\"solidity\":0.2}},\"type\":\"bar\"}],\"barpolar\":[{\"marker\":{\"line\":{\"color\":\"#E5ECF6\",\"width\":0.5},\"pattern\":{\"fillmode\":\"overlay\",\"size\":10,\"solidity\":0.2}},\"type\":\"barpolar\"}],\"carpet\":[{\"aaxis\":{\"endlinecolor\":\"#2a3f5f\",\"gridcolor\":\"white\",\"linecolor\":\"white\",\"minorgridcolor\":\"white\",\"startlinecolor\":\"#2a3f5f\"},\"baxis\":{\"endlinecolor\":\"#2a3f5f\",\"gridcolor\":\"white\",\"linecolor\":\"white\",\"minorgridcolor\":\"white\",\"startlinecolor\":\"#2a3f5f\"},\"type\":\"carpet\"}],\"choropleth\":[{\"colorbar\":{\"outlinewidth\":0,\"ticks\":\"\"},\"type\":\"choropleth\"}],\"contour\":[{\"colorbar\":{\"outlinewidth\":0,\"ticks\":\"\"},\"colorscale\":[[0.0,\"#0d0887\"],[0.1111111111111111,\"#46039f\"],[0.2222222222222222,\"#7201a8\"],[0.3333333333333333,\"#9c179e\"],[0.4444444444444444,\"#bd3786\"],[0.5555555555555556,\"#d8576b\"],[0.6666666666666666,\"#ed7953\"],[0.7777777777777778,\"#fb9f3a\"],[0.8888888888888888,\"#fdca26\"],[1.0,\"#f0f921\"]],\"type\":\"contour\"}],\"contourcarpet\":[{\"colorbar\":{\"outlinewidth\":0,\"ticks\":\"\"},\"type\":\"contourcarpet\"}],\"heatmap\":[{\"colorbar\":{\"outlinewidth\":0,\"ticks\":\"\"},\"colorscale\":[[0.0,\"#0d0887\"],[0.1111111111111111,\"#46039f\"],[0.2222222222222222,\"#7201a8\"],[0.3333333333333333,\"#9c179e\"],[0.4444444444444444,\"#bd3786\"],[0.5555555555555556,\"#d8576b\"],[0.6666666666666666,\"#ed7953\"],[0.7777777777777778,\"#fb9f3a\"],[0.8888888888888888,\"#fdca26\"],[1.0,\"#f0f921\"]],\"type\":\"heatmap\"}],\"heatmapgl\":[{\"colorbar\":{\"outlinewidth\":0,\"ticks\":\"\"},\"colorscale\":[[0.0,\"#0d0887\"],[0.1111111111111111,\"#46039f\"],[0.2222222222222222,\"#7201a8\"],[0.3333333333333333,\"#9c179e\"],[0.4444444444444444,\"#bd3786\"],[0.5555555555555556,\"#d8576b\"],[0.6666666666666666,\"#ed7953\"],[0.7777777777777778,\"#fb9f3a\"],[0.8888888888888888,\"#fdca26\"],[1.0,\"#f0f921\"]],\"type\":\"heatmapgl\"}],\"histogram\":[{\"marker\":{\"pattern\":{\"fillmode\":\"overlay\",\"size\":10,\"solidity\":0.2}},\"type\":\"histogram\"}],\"histogram2d\":[{\"colorbar\":{\"outlinewidth\":0,\"ticks\":\"\"},\"colorscale\":[[0.0,\"#0d0887\"],[0.1111111111111111,\"#46039f\"],[0.2222222222222222,\"#7201a8\"],[0.3333333333333333,\"#9c179e\"],[0.4444444444444444,\"#bd3786\"],[0.5555555555555556,\"#d8576b\"],[0.6666666666666666,\"#ed7953\"],[0.7777777777777778,\"#fb9f3a\"],[0.8888888888888888,\"#fdca26\"],[1.0,\"#f0f921\"]],\"type\":\"histogram2d\"}],\"histogram2dcontour\":[{\"colorbar\":{\"outlinewidth\":0,\"ticks\":\"\"},\"colorscale\":[[0.0,\"#0d0887\"],[0.1111111111111111,\"#46039f\"],[0.2222222222222222,\"#7201a8\"],[0.3333333333333333,\"#9c179e\"],[0.4444444444444444,\"#bd3786\"],[0.5555555555555556,\"#d8576b\"],[0.6666666666666666,\"#ed7953\"],[0.7777777777777778,\"#fb9f3a\"],[0.8888888888888888,\"#fdca26\"],[1.0,\"#f0f921\"]],\"type\":\"histogram2dcontour\"}],\"mesh3d\":[{\"colorbar\":{\"outlinewidth\":0,\"ticks\":\"\"},\"type\":\"mesh3d\"}],\"parcoords\":[{\"line\":{\"colorbar\":{\"outlinewidth\":0,\"ticks\":\"\"}},\"type\":\"parcoords\"}],\"pie\":[{\"automargin\":true,\"type\":\"pie\"}],\"scatter\":[{\"marker\":{\"colorbar\":{\"outlinewidth\":0,\"ticks\":\"\"}},\"type\":\"scatter\"}],\"scatter3d\":[{\"line\":{\"colorbar\":{\"outlinewidth\":0,\"ticks\":\"\"}},\"marker\":{\"colorbar\":{\"outlinewidth\":0,\"ticks\":\"\"}},\"type\":\"scatter3d\"}],\"scattercarpet\":[{\"marker\":{\"colorbar\":{\"outlinewidth\":0,\"ticks\":\"\"}},\"type\":\"scattercarpet\"}],\"scattergeo\":[{\"marker\":{\"colorbar\":{\"outlinewidth\":0,\"ticks\":\"\"}},\"type\":\"scattergeo\"}],\"scattergl\":[{\"marker\":{\"colorbar\":{\"outlinewidth\":0,\"ticks\":\"\"}},\"type\":\"scattergl\"}],\"scattermapbox\":[{\"marker\":{\"colorbar\":{\"outlinewidth\":0,\"ticks\":\"\"}},\"type\":\"scattermapbox\"}],\"scatterpolar\":[{\"marker\":{\"colorbar\":{\"outlinewidth\":0,\"ticks\":\"\"}},\"type\":\"scatterpolar\"}],\"scatterpolargl\":[{\"marker\":{\"colorbar\":{\"outlinewidth\":0,\"ticks\":\"\"}},\"type\":\"scatterpolargl\"}],\"scatterternary\":[{\"marker\":{\"colorbar\":{\"outlinewidth\":0,\"ticks\":\"\"}},\"type\":\"scatterternary\"}],\"surface\":[{\"colorbar\":{\"outlinewidth\":0,\"ticks\":\"\"},\"colorscale\":[[0.0,\"#0d0887\"],[0.1111111111111111,\"#46039f\"],[0.2222222222222222,\"#7201a8\"],[0.3333333333333333,\"#9c179e\"],[0.4444444444444444,\"#bd3786\"],[0.5555555555555556,\"#d8576b\"],[0.6666666666666666,\"#ed7953\"],[0.7777777777777778,\"#fb9f3a\"],[0.8888888888888888,\"#fdca26\"],[1.0,\"#f0f921\"]],\"type\":\"surface\"}],\"table\":[{\"cells\":{\"fill\":{\"color\":\"#EBF0F8\"},\"line\":{\"color\":\"white\"}},\"header\":{\"fill\":{\"color\":\"#C8D4E3\"},\"line\":{\"color\":\"white\"}},\"type\":\"table\"}]},\"layout\":{\"annotationdefaults\":{\"arrowcolor\":\"#2a3f5f\",\"arrowhead\":0,\"arrowwidth\":1},\"autotypenumbers\":\"strict\",\"coloraxis\":{\"colorbar\":{\"outlinewidth\":0,\"ticks\":\"\"}},\"colorscale\":{\"diverging\":[[0,\"#8e0152\"],[0.1,\"#c51b7d\"],[0.2,\"#de77ae\"],[0.3,\"#f1b6da\"],[0.4,\"#fde0ef\"],[0.5,\"#f7f7f7\"],[0.6,\"#e6f5d0\"],[0.7,\"#b8e186\"],[0.8,\"#7fbc41\"],[0.9,\"#4d9221\"],[1,\"#276419\"]],\"sequential\":[[0.0,\"#0d0887\"],[0.1111111111111111,\"#46039f\"],[0.2222222222222222,\"#7201a8\"],[0.3333333333333333,\"#9c179e\"],[0.4444444444444444,\"#bd3786\"],[0.5555555555555556,\"#d8576b\"],[0.6666666666666666,\"#ed7953\"],[0.7777777777777778,\"#fb9f3a\"],[0.8888888888888888,\"#fdca26\"],[1.0,\"#f0f921\"]],\"sequentialminus\":[[0.0,\"#0d0887\"],[0.1111111111111111,\"#46039f\"],[0.2222222222222222,\"#7201a8\"],[0.3333333333333333,\"#9c179e\"],[0.4444444444444444,\"#bd3786\"],[0.5555555555555556,\"#d8576b\"],[0.6666666666666666,\"#ed7953\"],[0.7777777777777778,\"#fb9f3a\"],[0.8888888888888888,\"#fdca26\"],[1.0,\"#f0f921\"]]},\"colorway\":[\"#636efa\",\"#EF553B\",\"#00cc96\",\"#ab63fa\",\"#FFA15A\",\"#19d3f3\",\"#FF6692\",\"#B6E880\",\"#FF97FF\",\"#FECB52\"],\"font\":{\"color\":\"#2a3f5f\"},\"geo\":{\"bgcolor\":\"white\",\"lakecolor\":\"white\",\"landcolor\":\"#E5ECF6\",\"showlakes\":true,\"showland\":true,\"subunitcolor\":\"white\"},\"hoverlabel\":{\"align\":\"left\"},\"hovermode\":\"closest\",\"mapbox\":{\"style\":\"light\"},\"paper_bgcolor\":\"white\",\"plot_bgcolor\":\"#E5ECF6\",\"polar\":{\"angularaxis\":{\"gridcolor\":\"white\",\"linecolor\":\"white\",\"ticks\":\"\"},\"bgcolor\":\"#E5ECF6\",\"radialaxis\":{\"gridcolor\":\"white\",\"linecolor\":\"white\",\"ticks\":\"\"}},\"scene\":{\"xaxis\":{\"backgroundcolor\":\"#E5ECF6\",\"gridcolor\":\"white\",\"gridwidth\":2,\"linecolor\":\"white\",\"showbackground\":true,\"ticks\":\"\",\"zerolinecolor\":\"white\"},\"yaxis\":{\"backgroundcolor\":\"#E5ECF6\",\"gridcolor\":\"white\",\"gridwidth\":2,\"linecolor\":\"white\",\"showbackground\":true,\"ticks\":\"\",\"zerolinecolor\":\"white\"},\"zaxis\":{\"backgroundcolor\":\"#E5ECF6\",\"gridcolor\":\"white\",\"gridwidth\":2,\"linecolor\":\"white\",\"showbackground\":true,\"ticks\":\"\",\"zerolinecolor\":\"white\"}},\"shapedefaults\":{\"line\":{\"color\":\"#2a3f5f\"}},\"ternary\":{\"aaxis\":{\"gridcolor\":\"white\",\"linecolor\":\"white\",\"ticks\":\"\"},\"baxis\":{\"gridcolor\":\"white\",\"linecolor\":\"white\",\"ticks\":\"\"},\"bgcolor\":\"#E5ECF6\",\"caxis\":{\"gridcolor\":\"white\",\"linecolor\":\"white\",\"ticks\":\"\"}},\"title\":{\"x\":0.05},\"xaxis\":{\"automargin\":true,\"gridcolor\":\"white\",\"linecolor\":\"white\",\"ticks\":\"\",\"title\":{\"standoff\":15},\"zerolinecolor\":\"white\",\"zerolinewidth\":2},\"yaxis\":{\"automargin\":true,\"gridcolor\":\"white\",\"linecolor\":\"white\",\"ticks\":\"\",\"title\":{\"standoff\":15},\"zerolinecolor\":\"white\",\"zerolinewidth\":2}}},\"xaxis\":{\"anchor\":\"y\",\"domain\":[0.0,1.0],\"title\":{\"text\":\" x\"}},\"yaxis\":{\"anchor\":\"x\",\"domain\":[0.0,1.0],\"title\":{\"text\":\" y\"}},\"legend\":{\"tracegroupgap\":0},\"margin\":{\"t\":60}},                        {\"responsive\": true}                    ).then(function(){\n",
       "                            \n",
       "var gd = document.getElementById('580568ba-dc63-40ad-a03e-cd35d0a19701');\n",
       "var x = new MutationObserver(function (mutations, observer) {{\n",
       "        var display = window.getComputedStyle(gd).display;\n",
       "        if (!display || display === 'none') {{\n",
       "            console.log([gd, 'removed!']);\n",
       "            Plotly.purge(gd);\n",
       "            observer.disconnect();\n",
       "        }}\n",
       "}});\n",
       "\n",
       "// Listen for the removal of the full notebook cells\n",
       "var notebookContainer = gd.closest('#notebook-container');\n",
       "if (notebookContainer) {{\n",
       "    x.observe(notebookContainer, {childList: true});\n",
       "}}\n",
       "\n",
       "// Listen for the clearing of the current output cell\n",
       "var outputEl = gd.closest('.output');\n",
       "if (outputEl) {{\n",
       "    x.observe(outputEl, {childList: true});\n",
       "}}\n",
       "\n",
       "                        })                };                            </script>        </div>\n",
       "</body>\n",
       "</html>"
      ]
     },
     "metadata": {},
     "output_type": "display_data"
    },
    {
     "data": {
      "text/html": [
       "<html>\n",
       "<head><meta charset=\"utf-8\" /></head>\n",
       "<body>\n",
       "    <div>            <script src=\"https://cdnjs.cloudflare.com/ajax/libs/mathjax/2.7.5/MathJax.js?config=TeX-AMS-MML_SVG\"></script><script type=\"text/javascript\">if (window.MathJax) {MathJax.Hub.Config({SVG: {font: \"STIX-Web\"}});}</script>                <script type=\"text/javascript\">window.PlotlyConfig = {MathJaxConfig: 'local'};</script>\n",
       "        <script src=\"https://cdn.plot.ly/plotly-2.8.3.min.js\"></script>                <div id=\"1dd17446-83f4-4845-ba7f-27681b26b221\" class=\"plotly-graph-div\" style=\"height:525px; width:100%;\"></div>            <script type=\"text/javascript\">                                    window.PLOTLYENV=window.PLOTLYENV || {};                                    if (document.getElementById(\"1dd17446-83f4-4845-ba7f-27681b26b221\")) {                    Plotly.newPlot(                        \"1dd17446-83f4-4845-ba7f-27681b26b221\",                        [{\"customdata\":[[0],[1],[2],[3],[4],[5],[6],[7],[8],[9],[10],[11],[12],[13],[14],[15],[16],[17],[18],[19],[20],[21],[22],[23],[24],[25],[26],[27],[28],[29],[30],[31],[32],[33],[34],[35],[36],[37],[38],[39],[40],[41],[42],[43],[44],[45],[46],[47],[48],[49],[50],[51],[52],[53],[54],[55],[56],[57],[58],[59],[60],[61],[62],[63],[64],[65],[66],[67],[68],[69],[70],[71],[72],[73],[74],[75],[76],[77],[78],[79],[80],[81],[82],[83],[84],[85],[86],[87],[88],[89],[90],[91],[92],[93],[94],[95],[96],[97],[98],[99],[100],[101],[102],[103],[104],[105],[106],[107],[108],[109],[110],[111],[112],[113],[114],[115],[116],[117],[118],[119],[120],[121],[122],[123],[124],[125],[126],[127],[128],[129],[130],[131],[132],[133],[134],[135],[136],[137],[138],[139],[140],[141],[142],[143],[144],[145],[146],[147],[148],[149],[150],[151],[152],[153],[154],[155],[156],[157],[158],[159],[160],[161],[162],[163],[164],[165],[166],[167],[168],[169],[170],[171],[172],[173],[174],[175],[176],[177],[178],[179],[180],[181],[182],[183],[184],[185],[186],[187],[188],[189],[190],[191],[192],[193],[194],[195],[196],[197],[198],[199],[200],[201],[202],[203],[204],[205],[206],[207],[208],[209],[210],[211],[212],[213],[214],[215],[216],[217],[218],[219],[220],[221],[222],[223],[224],[225],[226],[227],[228],[229],[230],[231],[232],[233],[234],[235],[236],[237],[238],[239],[240],[241],[242],[243],[244],[245],[246],[247],[248],[249],[250],[251],[252],[253],[254],[255],[256],[257],[258],[259],[260],[261],[262],[263],[264],[265],[266],[267],[268],[269],[270],[271],[272],[273],[274],[275],[276],[277],[278],[279],[280],[281],[282],[283],[284],[285],[286],[287],[288],[289],[290],[291],[292],[293],[294],[295],[296],[297],[298],[299],[300],[301],[302],[303],[304],[305],[306],[307],[308],[309],[310],[311],[312],[313],[314],[315],[316],[317],[318],[319],[320],[321],[322],[323],[324],[325],[326],[327],[328],[329],[330],[331],[332],[333],[334],[335],[336],[337],[338],[339],[340],[341],[342],[343],[344],[345],[346],[347],[348],[349],[350],[351],[352],[353],[354],[355],[356],[357],[358],[359],[360],[361],[362],[363],[364],[365],[366],[367],[368],[369],[370],[371],[372],[373],[374],[375],[376],[377],[378],[379],[380],[381],[382],[383],[384],[385],[386],[387],[388],[389],[390],[391],[392],[393],[394],[395],[396],[397],[398],[399],[400],[401],[402],[403],[404],[405],[406],[407],[408],[409],[410],[411],[412],[413],[414],[415],[416],[417],[418],[419],[420],[421],[422],[423],[424],[425],[426],[427],[428],[429],[430],[431],[432],[433],[434],[435],[436],[437],[438],[439],[440],[441],[442],[443],[444],[445],[446],[447],[448],[449],[450],[451],[452],[453],[454],[455],[456],[457],[458],[459],[460],[461],[462],[463],[464],[465],[466],[467],[468],[469],[470],[471],[472],[473],[474],[475],[476],[477],[478],[479],[480],[481],[482],[483],[484],[485],[486],[487],[488],[489],[490],[491],[492],[493],[494],[495],[496],[497],[498],[499],[500],[501],[502],[503],[504],[505],[506],[507],[508],[509],[510],[511],[512],[513],[514],[515],[516],[517],[518],[519],[520],[521],[522],[523],[524],[525],[526],[527],[528],[529],[530],[531],[532],[533],[534],[535],[536],[537],[538],[539],[540],[541],[542],[543],[544],[545],[546],[547],[548],[549],[550],[551],[552],[553],[554],[555],[556],[557],[558],[559],[560],[561],[562],[563],[564],[565],[566],[567],[568],[569],[570],[571],[572],[573],[574],[575],[576],[577],[578],[579],[580],[581],[582],[583],[584],[585],[586],[587],[588],[589],[590],[591],[592],[593],[594],[595],[596],[597],[598],[599],[600],[601],[602],[603],[604],[605],[606],[607],[608],[609],[610],[611],[612],[613],[614],[615],[616],[617],[618],[619],[620],[621],[622],[623],[624],[625],[626],[627],[628],[629],[630],[631],[632],[633],[634],[635],[636],[637],[638],[639],[640],[641],[642],[643],[644],[645],[646],[647],[648],[649],[650],[651],[652],[653],[654],[655],[656],[657],[658],[659],[660],[661],[662],[663],[664],[665],[666],[667],[668],[669],[670],[671],[672],[673],[674],[675],[676],[677],[678],[679],[680],[681],[682],[683],[684],[685],[686],[687],[688],[689],[690],[691],[692],[693],[694],[695],[696],[697],[698],[699],[700],[701],[702],[703],[704],[705],[706],[707],[708],[709],[710],[711],[712],[713],[714],[715],[716],[717],[718],[719],[720],[721],[722],[723],[724],[725],[726],[727],[728],[729],[730],[731],[732],[733],[734],[735],[736],[737],[738],[739],[740],[741],[742],[743],[744],[745],[746],[747],[748],[749],[750],[751],[752],[753],[754],[755],[756],[757],[758],[759],[760],[761],[762],[763],[764],[765],[766],[767],[768],[769],[770],[771],[772],[773],[774],[775],[776],[777],[778],[779],[780],[781],[782],[783],[784],[785],[786],[787],[788],[789],[790],[791],[792],[793],[794],[795],[796],[797],[798],[799],[800],[801],[802],[803],[804],[805],[806],[807],[808],[809],[810],[811],[812],[813],[814],[815],[816],[817],[818],[819],[820],[821],[822],[823],[824],[825],[826],[827],[828],[829],[830],[831],[832],[833],[834],[835],[836],[837],[838],[839],[840],[841],[842],[843],[844],[845],[846],[847],[848],[849],[850],[851],[852],[853],[854],[855],[856],[857],[858],[859],[860],[861],[862],[863],[864],[865],[866],[867],[868],[869],[870],[871],[872],[873],[874],[875],[876],[877],[878],[879],[880],[881],[882],[883],[884],[885],[886],[887],[888],[889],[890],[891],[892],[893],[894],[895],[896],[897],[898],[899],[900],[901],[902],[903],[904],[905],[906],[907],[908],[909],[910],[911],[912],[913],[914],[915],[916],[917],[918],[919],[920],[921],[922],[923],[924],[925],[926],[927],[928],[929],[930],[931],[932],[933],[934],[935],[936],[937],[938],[939],[940],[941],[942],[943],[944],[945],[946],[947],[948],[949],[950],[951],[952],[953],[954],[955],[956],[957],[958],[959],[960],[961],[962],[963],[964],[965],[966],[967],[968],[969],[970],[971],[972],[973],[974],[975],[976],[977],[978],[979],[980],[981],[982],[983],[984],[985],[986],[987],[988],[989],[990],[991],[992],[993],[994],[995],[996],[997],[998],[999],[1000],[1001],[1002],[1003],[1004],[1005],[1006],[1007],[1008],[1009],[1010],[1011],[1012],[1013],[1014],[1015],[1016],[1017],[1018],[1019],[1020],[1021],[1022],[1023],[1024],[1025],[1026],[1027],[1028],[1029],[1030],[1031],[1032],[1033],[1034],[1035],[1036],[1037],[1038],[1039],[1040],[1041],[1042],[1043],[1044],[1045],[1046],[1047],[1048],[1049],[1050],[1051],[1052],[1053],[1054],[1055],[1056],[1057],[1058],[1059],[1060],[1061],[1062],[1063],[1064],[1065],[1066],[1067],[1068],[1069],[1070],[1071],[1072],[1073],[1074],[1075],[1076],[1077],[1078],[1079],[1080],[1081],[1082],[1083],[1084],[1085],[1086],[1087],[1088],[1089],[1090],[1091],[1092],[1093],[1094],[1095],[1096],[1097],[1098],[1099],[1100],[1101],[1102],[1103],[1104],[1105],[1106],[1107],[1108],[1109],[1110],[1111],[1112],[1113],[1114],[1115],[1116],[1117],[1118],[1119],[1120],[1121],[1122],[1123],[1124],[1125],[1126],[1127],[1128],[1129],[1130],[1131],[1132],[1133],[1134],[1135],[1136],[1137],[1138],[1139],[1140],[1141],[1142],[1143],[1144],[1145],[1146],[1147],[1148],[1149],[1150],[1151],[1152],[1153],[1154],[1155],[1156],[1157],[1158],[1159],[1160],[1161],[1162],[1163],[1164],[1165],[1166],[1167],[1168],[1169],[1170],[1171],[1172],[1173],[1174],[1175],[1176],[1177],[1178],[1179],[1180],[1181],[1182],[1183],[1184],[1185],[1186],[1187],[1188],[1189],[1190],[1191],[1192],[1193],[1194],[1195],[1196],[1197],[1198],[1199],[1200],[1201],[1202],[1203],[1204],[1205],[1206],[1207],[1208],[1209],[1210],[1211],[1212],[1213],[1214],[1215],[1216],[1217],[1218],[1219],[1220],[1221],[1222],[1223],[1224],[1225],[1226],[1227],[1228],[1229],[1230],[1231],[1232],[1233],[1234],[1235],[1236],[1237],[1238],[1239],[1240],[1241],[1242],[1243],[1244],[1245],[1246],[1247],[1248],[1249],[1250],[1251],[1252],[1253],[1254],[1255],[1256],[1257],[1258],[1259],[1260],[1261],[1262],[1263],[1264],[1265],[1266],[1267],[1268],[1269],[1270],[1271],[1272],[1273],[1274],[1275],[1276],[1277],[1278],[1279],[1280],[1281],[1282],[1283],[1284],[1285],[1286],[1287],[1288],[1289],[1290],[1291],[1292],[1293],[1294],[1295],[1296],[1297],[1298],[1299],[1300],[1301],[1302],[1303],[1304],[1305],[1306],[1307],[1308],[1309],[1310],[1311],[1312],[1313],[1314],[1315],[1316],[1317],[1318],[1319],[1320],[1321],[1322],[1323],[1324],[1325],[1326],[1327],[1328],[1329],[1330],[1331],[1332],[1333],[1334],[1335],[1336],[1337],[1338],[1339],[1340],[1341],[1342],[1343],[1344],[1345],[1346],[1347],[1348],[1349],[1350],[1351],[1352],[1353],[1354],[1355],[1356],[1357],[1358],[1359],[1360],[1361],[1362],[1363],[1364],[1365],[1366],[1367],[1368],[1369],[1370],[1371],[1372],[1373],[1374],[1375],[1376],[1377],[1378],[1379],[1380],[1381],[1382],[1383],[1384],[1385],[1386],[1387],[1388],[1389],[1390],[1391],[1392],[1393],[1394],[1395],[1396],[1397],[1398],[1399],[1400],[1401],[1402],[1403],[1404],[1405],[1406],[1407],[1408],[1409],[1410],[1411],[1412],[1413],[1414],[1415],[1416],[1417],[1418],[1419],[1420],[1421],[1422],[1423],[1424],[1425],[1426],[1427],[1428],[1429],[1430],[1431],[1432],[1433],[1434],[1435],[1436],[1437],[1438],[1439],[1440],[1441],[1442],[1443],[1444],[1445],[1446],[1447],[1448],[1449],[1450],[1451],[1452],[1453],[1454],[1455],[1456],[1457],[1458],[1459],[1460],[1461],[1462],[1463],[1464],[1465],[1466],[1467],[1468],[1469],[1470],[1471],[1472],[1473],[1474],[1475],[1476],[1477],[1478],[1479],[1480],[1481],[1482],[1483],[1484],[1485],[1486],[1487],[1488],[1489],[1490],[1491],[1492],[1493],[1494],[1495],[1496],[1497],[1498],[1499],[1500],[1501],[1502],[1503],[1504],[1505],[1506],[1507],[1508],[1509],[1510],[1511],[1512],[1513],[1514],[1515],[1516],[1517],[1518],[1519],[1520],[1521],[1522],[1523],[1524],[1525],[1526],[1527],[1528],[1529],[1530],[1531],[1532],[1533],[1534],[1535],[1536],[1537],[1538],[1539],[1540],[1541],[1542],[1543],[1544],[1545],[1546],[1547],[1548],[1549],[1550],[1551],[1552],[1553],[1554],[1555],[1556],[1557],[1558],[1559],[1560],[1561],[1562],[1563],[1564],[1565],[1566],[1567],[1568],[1569],[1570],[1571],[1572],[1573],[1574],[1575],[1576],[1577],[1578],[1579],[1580],[1581],[1582],[1583],[1584],[1585],[1586],[1587],[1588],[1589],[1590],[1591],[1592],[1593],[1594],[1595],[1596],[1597],[1598],[1599],[1600],[1601],[1602],[1603],[1604],[1605],[1606],[1607],[1608],[1609],[1610],[1611],[1612],[1613],[1614],[1615],[1616],[1617],[1618],[1619],[1620],[1621],[1622],[1623],[1624],[1625],[1626],[1627],[1628],[1629],[1630],[1631],[1632],[1633],[1634],[1635],[1636],[1637],[1638],[1639],[1640],[1641],[1642],[1643],[1644],[1645],[1646],[1647],[1648],[1649],[1650],[1651],[1652],[1653],[1654],[1655],[1656],[1657],[1658],[1659],[1660],[1661],[1662],[1663],[1664],[1665],[1666],[1667],[1668],[1669],[1670],[1671],[1672],[1673],[1674],[1675],[1676],[1677],[1678],[1679],[1680],[1681],[1682],[1683],[1684],[1685],[1686],[1687],[1688],[1689],[1690],[1691],[1692],[1693],[1694],[1695],[1696],[1697],[1698],[1699],[1700],[1701],[1702],[1703],[1704],[1705],[1706],[1707],[1708],[1709],[1710],[1711],[1712],[1713],[1714],[1715],[1716],[1717],[1718],[1719],[1720],[1721],[1722],[1723],[1724],[1725],[1726],[1727],[1728],[1729],[1730],[1731],[1732],[1733],[1734],[1735],[1736],[1737],[1738],[1739],[1740],[1741],[1742],[1743],[1744],[1745],[1746],[1747],[1748],[1749],[1750],[1751],[1752],[1753],[1754],[1755],[1756],[1757],[1758],[1759],[1760],[1761],[1762],[1763],[1764],[1765],[1766],[1767],[1768],[1769],[1770],[1771],[1772],[1773],[1774],[1775],[1776],[1777],[1778],[1779],[1780],[1781],[1782],[1783],[1784],[1785],[1786],[1787],[1788],[1789],[1790],[1791],[1792],[1793],[1794],[1795],[1796],[1797],[1798],[1799],[1800],[1801],[1802],[1803],[1804],[1805],[1806],[1807],[1808],[1809],[1810],[1811],[1812],[1813],[1814],[1815],[1816],[1817],[1818],[1819],[1820],[1821],[1822],[1823],[1824],[1825],[1826],[1827],[1828],[1829],[1830],[1831],[1832],[1833],[1834],[1835],[1836],[1837],[1838],[1839],[1840],[1841],[1842],[1843],[1844],[1845],[1846],[1847],[1848],[1849],[1850],[1851],[1852],[1853],[1854],[1855],[1856],[1857],[1858],[1859],[1860],[1861],[1862],[1863],[1864],[1865],[1866],[1867],[1868],[1869],[1870],[1871],[1872],[1873],[1874],[1875],[1876],[1877],[1878],[1879],[1880],[1881],[1882],[1883],[1884],[1885],[1886],[1887],[1888],[1889],[1890],[1891],[1892],[1893],[1894],[1895],[1896],[1897],[1898],[1899],[1900],[1901],[1902],[1903],[1904],[1905],[1906],[1907],[1908],[1909],[1910],[1911],[1912],[1913],[1914],[1915],[1916],[1917],[1918],[1919],[1920],[1921],[1922],[1923],[1924],[1925],[1926],[1927],[1928],[1929],[1930],[1931],[1932],[1933],[1934],[1935],[1936],[1937],[1938],[1939],[1940],[1941],[1942],[1943],[1944],[1945],[1946],[1947],[1948],[1949],[1950],[1951],[1952],[1953],[1954],[1955],[1956],[1957],[1958],[1959],[1960],[1961],[1962],[1963],[1964],[1965],[1966],[1967],[1968],[1969],[1970],[1971],[1972],[1973],[1974],[1975],[1976],[1977],[1978],[1979],[1980],[1981],[1982],[1983],[1984],[1985],[1986],[1987],[1988],[1989],[1990],[1991],[1992],[1993],[1994],[1995],[1996],[1997],[1998],[1999],[2000],[2001],[2002],[2003],[2004],[2005],[2006],[2007],[2008],[2009],[2010],[2011],[2012],[2013],[2014],[2015],[2016],[2017],[2018],[2019],[2020],[2021],[2022],[2023],[2024],[2025],[2026],[2027],[2028],[2029],[2030],[2031],[2032],[2033],[2034],[2035],[2036],[2037],[2038],[2039],[2040],[2041],[2042],[2043],[2044],[2045],[2046],[2047],[2048],[2049],[2050],[2051],[2052],[2053],[2054],[2055],[2056],[2057],[2058],[2059],[2060],[2061],[2062],[2063],[2064],[2065],[2066],[2067],[2068],[2069],[2070],[2071],[2072],[2073],[2074],[2075],[2076],[2077],[2078],[2079],[2080],[2081],[2082],[2083],[2084],[2085],[2086],[2087],[2088],[2089],[2090],[2091],[2092],[2093],[2094],[2095],[2096],[2097],[2098],[2099],[2100],[2101],[2102],[2103],[2104],[2105],[2106],[2107],[2108],[2109],[2110],[2111],[2112],[2113],[2114],[2115],[2116],[2117],[2118],[2119],[2120],[2121],[2122],[2123],[2124],[2125],[2126],[2127],[2128],[2129],[2130],[2131],[2132],[2133],[2134],[2135],[2136],[2137],[2138],[2139],[2140],[2141],[2142],[2143],[2144],[2145],[2146],[2147],[2148],[2149],[2150],[2151],[2152],[2153],[2154],[2155],[2156],[2157],[2158],[2159],[2160],[2161],[2162],[2163],[2164],[2165],[2166],[2167],[2168],[2169],[2170],[2171],[2172],[2173],[2174],[2175],[2176],[2177],[2178],[2179],[2180],[2181],[2182],[2183],[2184],[2185],[2186],[2187],[2188],[2189],[2190],[2191],[2192],[2193],[2194],[2195],[2196],[2197],[2198],[2199],[2200],[2201],[2202],[2203],[2204],[2205],[2206],[2207],[2208],[2209],[2210],[2211],[2212],[2213],[2214],[2215],[2216],[2217],[2218],[2219],[2220],[2221],[2222],[2223],[2224],[2225],[2226],[2227],[2228],[2229],[2230],[2231],[2232],[2233],[2234],[2235],[2236],[2237],[2238],[2239],[2240],[2241],[2242],[2243],[2244],[2245],[2246],[2247],[2248],[2249],[2250],[2251],[2252],[2253],[2254],[2255],[2256],[2257],[2258],[2259],[2260],[2261],[2262],[2263],[2264],[2265],[2266],[2267],[2268],[2269],[2270],[2271],[2272],[2273],[2274],[2275],[2276],[2277],[2278],[2279],[2280],[2281],[2282],[2283],[2284],[2285],[2286],[2287],[2288],[2289],[2290],[2291],[2292],[2293],[2294],[2295],[2296],[2297],[2298],[2299],[2300],[2301],[2302],[2303],[2304],[2305],[2306],[2307],[2308],[2309],[2310],[2311],[2312],[2313],[2314],[2315],[2316],[2317],[2318],[2319],[2320],[2321],[2322],[2323],[2324],[2325],[2326],[2327],[2328],[2329],[2330],[2331],[2332],[2333],[2334],[2335],[2336],[2337],[2338],[2339],[2340],[2341],[2342],[2343],[2344],[2345],[2346],[2347],[2348],[2349],[2350],[2351],[2352],[2353],[2354],[2355],[2356],[2357],[2358],[2359],[2360],[2361],[2362],[2363],[2364],[2365],[2366],[2367],[2368],[2369],[2370],[2371],[2372],[2373],[2374],[2375],[2376],[2377],[2378],[2379],[2380],[2381],[2382],[2383],[2384],[2385],[2386],[2387],[2388],[2389],[2390],[2391],[2392],[2393],[2394],[2395],[2396],[2397],[2398],[2399],[2400],[2401],[2402],[2403],[2404],[2405],[2406],[2407],[2408],[2409],[2410],[2411],[2412],[2413],[2414],[2415],[2416],[2417],[2418],[2419],[2420],[2421],[2422],[2423],[2424],[2425],[2426],[2427],[2428],[2429],[2430],[2431],[2432],[2433],[2434],[2435],[2436],[2437],[2438],[2439],[2440],[2441],[2442],[2443],[2444],[2445],[2446],[2447],[2448],[2449],[2450],[2451],[2452],[2453],[2454],[2455],[2456],[2457],[2458],[2459],[2460],[2461],[2462],[2463],[2464],[2465],[2466],[2467],[2468],[2469],[2470],[2471],[2472],[2473],[2474],[2475],[2476],[2477],[2478],[2479],[2480],[2481],[2482],[2483],[2484],[2485],[2486],[2487],[2488],[2489],[2490],[2491],[2492],[2493],[2494],[2495],[2496],[2497],[2498],[2499],[2500],[2501],[2502],[2503],[2504],[2505],[2506],[2507],[2508],[2509],[2510],[2511],[2512],[2513],[2514],[2515],[2516],[2517],[2518],[2519],[2520],[2521],[2522],[2523],[2524],[2525],[2526],[2527],[2528],[2529],[2530],[2531],[2532],[2533],[2534],[2535],[2536],[2537],[2538],[2539],[2540],[2541],[2542],[2543],[2544],[2545],[2546],[2547],[2548],[2549],[2550],[2551],[2552],[2553],[2554],[2555],[2556],[2557],[2558],[2559],[2560],[2561],[2562],[2563],[2564],[2565],[2566],[2567],[2568],[2569],[2570],[2571],[2572],[2573],[2574],[2575],[2576],[2577],[2578],[2579],[2580],[2581],[2582],[2583],[2584],[2585],[2586],[2587],[2588],[2589],[2590],[2591],[2592],[2593],[2594],[2595],[2596],[2597],[2598],[2599],[2600],[2601],[2602],[2603],[2604],[2605],[2606],[2607],[2608],[2609],[2610],[2611],[2612],[2613],[2614],[2615],[2616],[2617],[2618],[2619],[2620],[2621],[2622],[2623],[2624],[2625],[2626],[2627],[2628],[2629],[2630],[2631],[2632],[2633],[2634],[2635],[2636],[2637],[2638],[2639],[2640],[2641],[2642],[2643],[2644],[2645],[2646],[2647],[2648],[2649],[2650],[2651],[2652],[2653],[2654],[2655],[2656],[2657],[2658],[2659],[2660],[2661],[2662],[2663],[2664],[2665],[2666],[2667],[2668],[2669],[2670],[2671],[2672],[2673],[2674],[2675],[2676],[2677],[2678],[2679],[2680],[2681],[2682],[2683],[2684],[2685],[2686],[2687],[2688],[2689],[2690],[2691],[2692],[2693],[2694],[2695],[2696],[2697],[2698],[2699],[2700],[2701],[2702],[2703],[2704],[2705],[2706],[2707],[2708],[2709],[2710],[2711],[2712],[2713],[2714],[2715],[2716],[2717],[2718],[2719],[2720],[2721],[2722],[2723],[2724],[2725],[2726],[2727],[2728],[2729],[2730],[2731],[2732],[2733],[2734],[2735],[2736],[2737],[2738],[2739],[2740],[2741],[2742],[2743],[2744],[2745],[2746],[2747],[2748],[2749],[2750],[2751],[2752],[2753],[2754],[2755],[2756],[2757],[2758],[2759],[2760],[2761],[2762],[2763],[2764],[2765],[2766],[2767],[2768],[2769],[2770],[2771],[2772],[2773],[2774],[2775],[2776],[2777],[2778],[2779],[2780],[2781],[2782],[2783],[2784],[2785],[2786],[2787],[2788],[2789],[2790],[2791],[2792],[2793],[2794],[2795],[2796],[2797],[2798],[2799],[2800],[2801],[2802],[2803],[2804],[2805],[2806],[2807],[2808],[2809],[2810],[2811],[2812],[2813],[2814],[2815],[2816],[2817],[2818],[2819],[2820],[2821],[2822],[2823],[2824],[2825],[2826],[2827],[2828],[2829],[2830],[2831],[2832],[2833],[2834],[2835],[2836],[2837],[2838],[2839],[2840],[2841],[2842],[2843],[2844],[2845],[2846],[2847],[2848],[2849],[2850],[2851],[2852],[2853],[2854],[2855],[2856],[2857],[2858],[2859],[2860],[2861],[2862],[2863],[2864],[2865],[2866],[2867],[2868],[2869],[2870],[2871],[2872],[2873],[2874],[2875],[2876],[2877],[2878],[2879],[2880],[2881],[2882],[2883],[2884],[2885],[2886],[2887],[2888],[2889],[2890],[2891],[2892],[2893],[2894],[2895],[2896],[2897],[2898],[2899],[2900],[2901],[2902],[2903],[2904],[2905],[2906],[2907],[2908],[2909],[2910],[2911],[2912],[2913],[2914],[2915],[2916],[2917],[2918],[2919],[2920],[2921],[2922],[2923],[2924],[2925],[2926],[2927],[2928],[2929],[2930],[2931],[2932],[2933],[2934],[2935],[2936],[2937],[2938],[2939],[2940],[2941],[2942],[2943],[2944],[2945],[2946],[2947],[2948],[2949],[2950],[2951],[2952],[2953],[2954],[2955],[2956],[2957],[2958],[2959],[2960],[2961],[2962],[2963],[2964],[2965],[2966],[2967],[2968],[2969],[2970],[2971],[2972],[2973],[2974],[2975],[2976],[2977],[2978],[2979],[2980],[2981],[2982],[2983],[2984],[2985],[2986],[2987],[2988],[2989],[2990],[2991],[2992],[2993],[2994],[2995],[2996],[2997],[2998],[2999],[3000],[3001],[3002],[3003],[3004],[3005],[3006],[3007],[3008],[3009],[3010],[3011],[3012],[3013],[3014],[3015],[3016],[3017],[3018],[3019],[3020],[3021],[3022],[3023],[3024],[3025],[3026],[3027],[3028],[3029],[3030],[3031],[3032],[3033],[3034],[3035],[3036],[3037],[3038],[3039],[3040],[3041],[3042],[3043],[3044],[3045],[3046],[3047],[3048],[3049],[3050],[3051],[3052],[3053],[3054],[3055],[3056],[3057],[3058],[3059],[3060],[3061],[3062],[3063],[3064],[3065],[3066],[3067],[3068],[3069],[3070],[3071],[3072],[3073],[3074],[3075],[3076],[3077],[3078],[3079],[3080],[3081],[3082],[3083],[3084],[3085],[3086],[3087],[3088],[3089],[3090],[3091],[3092],[3093],[3094],[3095],[3096],[3097],[3098],[3099],[3100],[3101],[3102],[3103],[3104],[3105],[3106],[3107],[3108],[3109],[3110],[3111],[3112],[3113],[3114],[3115],[3116],[3117],[3118],[3119],[3120],[3121],[3122],[3123],[3124],[3125],[3126],[3127],[3128],[3129],[3130],[3131],[3132],[3133],[3134],[3135],[3136],[3137],[3138],[3139],[3140],[3141],[3142],[3143],[3144],[3145],[3146],[3147],[3148],[3149],[3150],[3151],[3152],[3153],[3154],[3155],[3156],[3157],[3158],[3159],[3160],[3161],[3162],[3163],[3164],[3165],[3166],[3167],[3168],[3169],[3170],[3171],[3172],[3173],[3174],[3175],[3176],[3177],[3178],[3179],[3180],[3181],[3182],[3183],[3184],[3185],[3186],[3187],[3188],[3189],[3190],[3191],[3192],[3193],[3194],[3195],[3196],[3197],[3198],[3199],[3200],[3201],[3202],[3203],[3204],[3205],[3206],[3207],[3208],[3209],[3210],[3211],[3212],[3213],[3214],[3215],[3216],[3217],[3218],[3219],[3220],[3221],[3222],[3223],[3224],[3225],[3226],[3227],[3228],[3229],[3230],[3231],[3232],[3233],[3234],[3235],[3236],[3237],[3238],[3239],[3240],[3241],[3242],[3243],[3244],[3245],[3246],[3247],[3248],[3249],[3250],[3251],[3252],[3253],[3254],[3255],[3256],[3257],[3258],[3259],[3260],[3261],[3262],[3263],[3264],[3265],[3266],[3267],[3268],[3269],[3270],[3271],[3272],[3273],[3274],[3275],[3276],[3277],[3278],[3279],[3280],[3281],[3282],[3283],[3284],[3285],[3286],[3287],[3288],[3289],[3290],[3291],[3292],[3293],[3294],[3295],[3296],[3297],[3298],[3299],[3300],[3301],[3302],[3303],[3304],[3305],[3306],[3307],[3308],[3309],[3310],[3311],[3312],[3313],[3314],[3315],[3316],[3317],[3318],[3319],[3320],[3321],[3322],[3323],[3324],[3325],[3326],[3327],[3328],[3329],[3330],[3331],[3332],[3333],[3334],[3335],[3336],[3337],[3338],[3339],[3340],[3341],[3342],[3343],[3344],[3345],[3346],[3347],[3348],[3349],[3350],[3351],[3352],[3353],[3354],[3355],[3356],[3357],[3358],[3359],[3360],[3361],[3362],[3363],[3364],[3365],[3366],[3367],[3368],[3369],[3370],[3371],[3372],[3373],[3374],[3375],[3376],[3377],[3378],[3379],[3380],[3381],[3382],[3383],[3384],[3385],[3386],[3387],[3388],[3389],[3390],[3391],[3392],[3393],[3394],[3395],[3396],[3397],[3398],[3399],[3400],[3401],[3402],[3403],[3404],[3405],[3406],[3407],[3408],[3409],[3410],[3411],[3412],[3413],[3414],[3415],[3416],[3417],[3418],[3419],[3420],[3421],[3422],[3423],[3424],[3425],[3426],[3427],[3428],[3429],[3430],[3431],[3432],[3433],[3434],[3435],[3436],[3437],[3438],[3439],[3440],[3441],[3442],[3443],[3444],[3445],[3446],[3447],[3448],[3449],[3450],[3451],[3452],[3453],[3454],[3455],[3456],[3457],[3458],[3459],[3460],[3461],[3462],[3463],[3464],[3465],[3466],[3467],[3468],[3469],[3470],[3471],[3472],[3473],[3474],[3475],[3476],[3477],[3478],[3479],[3480],[3481],[3482],[3483],[3484],[3485],[3486],[3487],[3488],[3489],[3490],[3491],[3492],[3493],[3494],[3495],[3496],[3497],[3498],[3499],[3500],[3501],[3502],[3503],[3504],[3505],[3506],[3507],[3508],[3509],[3510],[3511],[3512],[3513],[3514],[3515],[3516],[3517],[3518],[3519],[3520],[3521],[3522],[3523],[3524],[3525],[3526],[3527],[3528],[3529],[3530],[3531],[3532],[3533],[3534],[3535],[3536],[3537],[3538],[3539],[3540],[3541],[3542],[3543],[3544],[3545],[3546],[3547],[3548],[3549],[3550],[3551],[3552],[3553],[3554],[3555],[3556],[3557],[3558],[3559],[3560],[3561],[3562],[3563],[3564],[3565],[3566],[3567],[3568],[3569],[3570],[3571],[3572],[3573],[3574],[3575],[3576],[3577],[3578],[3579],[3580],[3581],[3582],[3583],[3584],[3585],[3586],[3587],[3588],[3589],[3590],[3591],[3592],[3593],[3594],[3595],[3596],[3597],[3598],[3599],[3600],[3601],[3602],[3603],[3604],[3605],[3606],[3607],[3608],[3609],[3610],[3611],[3612],[3613],[3614],[3615],[3616],[3617],[3618],[3619],[3620],[3621],[3622],[3623],[3624],[3625],[3626],[3627],[3628],[3629],[3630],[3631],[3632],[3633],[3634],[3635],[3636],[3637],[3638],[3639],[3640],[3641],[3642],[3643],[3644],[3645],[3646],[3647],[3648],[3649],[3650],[3651],[3652],[3653],[3654],[3655],[3656],[3657],[3658],[3659],[3660],[3661],[3662],[3663],[3664],[3665],[3666],[3667],[3668],[3669],[3670],[3671],[3672],[3673],[3674],[3675],[3676],[3677],[3678],[3679],[3680],[3681],[3682],[3683],[3684],[3685],[3686],[3687],[3688],[3689],[3690],[3691],[3692],[3693],[3694],[3695],[3696],[3697],[3698],[3699],[3700],[3701],[3702],[3703],[3704],[3705],[3706],[3707],[3708],[3709],[3710],[3711],[3712],[3713],[3714],[3715],[3716],[3717],[3718],[3719],[3720],[3721],[3722],[3723],[3724],[3725],[3726],[3727],[3728],[3729],[3730],[3731],[3732],[3733],[3734],[3735],[3736],[3737],[3738],[3739],[3740],[3741],[3742],[3743],[3744],[3745],[3746],[3747],[3748],[3749],[3750],[3751],[3752],[3753],[3754],[3755],[3756],[3757],[3758],[3759],[3760],[3761],[3762],[3763],[3764],[3765],[3766],[3767],[3768],[3769],[3770],[3771],[3772],[3773],[3774],[3775],[3776],[3777],[3778],[3779],[3780],[3781],[3782],[3783],[3784],[3785],[3786],[3787],[3788],[3789],[3790],[3791],[3792],[3793],[3794],[3795],[3796],[3797],[3798],[3799],[3800],[3801],[3802],[3803],[3804],[3805],[3806],[3807],[3808],[3809],[3810],[3811],[3812],[3813],[3814],[3815],[3816],[3817],[3818],[3819],[3820],[3821],[3822],[3823],[3824],[3825],[3826],[3827],[3828],[3829],[3830],[3831],[3832],[3833],[3834],[3835],[3836],[3837],[3838],[3839],[3840],[3841],[3842],[3843],[3844],[3845],[3846],[3847],[3848],[3849],[3850],[3851],[3852],[3853],[3854],[3855],[3856],[3857],[3858],[3859],[3860],[3861],[3862],[3863],[3864],[3865],[3866],[3867],[3868],[3869],[3870],[3871],[3872],[3873],[3874],[3875],[3876],[3877],[3878],[3879],[3880],[3881],[3882],[3883],[3884],[3885],[3886],[3887],[3888],[3889],[3890],[3891],[3892],[3893],[3894],[3895],[3896],[3897],[3898],[3899],[3900],[3901],[3902],[3903],[3904],[3905],[3906],[3907],[3908],[3909],[3910],[3911],[3912],[3913],[3914],[3915],[3916],[3917],[3918],[3919],[3920],[3921],[3922],[3923],[3924],[3925],[3926],[3927],[3928],[3929],[3930],[3931],[3932],[3933],[3934],[3935],[3936],[3937],[3938],[3939],[3940],[3941],[3942],[3943],[3944],[3945],[3946],[3947],[3948],[3949],[3950],[3951],[3952],[3953],[3954],[3955],[3956],[3957],[3958],[3959],[3960],[3961],[3962],[3963],[3964],[3965],[3966],[3967],[3968],[3969],[3970],[3971],[3972],[3973],[3974],[3975],[3976],[3977],[3978],[3979],[3980],[3981],[3982],[3983],[3984],[3985],[3986],[3987],[3988],[3989],[3990],[3991],[3992],[3993],[3994],[3995],[3996],[3997],[3998],[3999],[4000],[4001],[4002],[4003],[4004],[4005],[4006],[4007],[4008],[4009],[4010],[4011],[4012],[4013],[4014],[4015],[4016],[4017],[4018],[4019],[4020],[4021],[4022],[4023],[4024],[4025],[4026],[4027],[4028],[4029],[4030],[4031],[4032],[4033],[4034],[4035],[4036],[4037],[4038],[4039],[4040],[4041],[4042],[4043],[4044],[4045],[4046],[4047],[4048],[4049],[4050],[4051],[4052],[4053],[4054],[4055],[4056],[4057],[4058],[4059],[4060],[4061],[4062],[4063],[4064],[4065],[4066],[4067],[4068],[4069],[4070],[4071],[4072],[4073],[4074],[4075],[4076],[4077],[4078],[4079],[4080],[4081],[4082],[4083],[4084],[4085],[4086],[4087],[4088],[4089],[4090],[4091],[4092],[4093],[4094],[4095],[4096],[4097],[4098],[4099],[4100],[4101],[4102],[4103],[4104],[4105],[4106],[4107],[4108],[4109],[4110],[4111],[4112],[4113],[4114],[4115],[4116],[4117],[4118],[4119],[4120],[4121],[4122],[4123],[4124],[4125],[4126],[4127],[4128],[4129],[4130],[4131],[4132],[4133],[4134],[4135],[4136],[4137],[4138],[4139],[4140],[4141],[4142],[4143],[4144],[4145],[4146],[4147],[4148],[4149],[4150],[4151],[4152],[4153],[4154],[4155],[4156],[4157],[4158],[4159],[4160],[4161],[4162],[4163],[4164],[4165],[4166],[4167],[4168],[4169],[4170],[4171],[4172],[4173],[4174],[4175],[4176],[4177],[4178],[4179],[4180],[4181],[4182],[4183],[4184],[4185],[4186],[4187],[4188],[4189],[4190],[4191],[4192],[4193],[4194],[4195],[4196],[4197],[4198],[4199],[4200],[4201],[4202],[4203],[4204],[4205],[4206],[4207],[4208],[4209],[4210],[4211],[4212],[4213],[4214],[4215],[4216],[4217],[4218],[4219],[4220],[4221],[4222],[4223],[4224],[4225],[4226],[4227],[4228],[4229],[4230],[4231],[4232],[4233],[4234],[4235],[4236],[4237],[4238],[4239],[4240],[4241],[4242],[4243],[4244],[4245],[4246],[4247],[4248],[4249],[4250],[4251],[4252],[4253],[4254],[4255],[4256],[4257],[4258],[4259],[4260],[4261],[4262],[4263],[4264],[4265],[4266],[4267],[4268],[4269],[4270],[4271],[4272],[4273],[4274],[4275],[4276],[4277],[4278],[4279],[4280],[4281],[4282],[4283],[4284],[4285],[4286],[4287],[4288],[4289],[4290],[4291],[4292],[4293],[4294],[4295],[4296],[4297],[4298],[4299],[4300],[4301],[4302],[4303],[4304],[4305],[4306],[4307],[4308],[4309],[4310],[4311],[4312],[4313],[4314],[4315],[4316],[4317],[4318],[4319],[4320],[4321],[4322],[4323],[4324],[4325],[4326],[4327],[4328],[4329],[4330],[4331],[4332],[4333],[4334],[4335],[4336],[4337],[4338],[4339],[4340],[4341],[4342],[4343],[4344],[4345],[4346],[4347],[4348],[4349],[4350],[4351],[4352],[4353],[4354],[4355],[4356],[4357],[4358],[4359],[4360],[4361],[4362],[4363],[4364],[4365],[4366],[4367],[4368],[4369],[4370],[4371],[4372],[4373],[4374],[4375],[4376],[4377],[4378],[4379],[4380],[4381],[4382],[4383],[4384],[4385],[4386],[4387],[4388],[4389],[4390],[4391],[4392],[4393],[4394],[4395],[4396],[4397],[4398],[4399],[4400],[4401],[4402],[4403],[4404],[4405],[4406],[4407],[4408],[4409],[4410],[4411],[4412],[4413],[4414],[4415],[4416],[4417],[4418],[4419],[4420],[4421],[4422],[4423],[4424],[4425],[4426],[4427],[4428],[4429],[4430],[4431],[4432],[4433],[4434],[4435],[4436],[4437],[4438],[4439],[4440],[4441],[4442],[4443],[4444],[4445],[4446],[4447],[4448],[4449],[4450],[4451],[4452],[4453],[4454],[4455],[4456],[4457],[4458],[4459],[4460],[4461],[4462],[4463],[4464],[4465],[4466],[4467],[4468],[4469],[4470],[4471],[4472],[4473],[4474],[4475],[4476],[4477],[4478],[4479],[4480],[4481],[4482],[4483],[4484],[4485],[4486],[4487],[4488],[4489],[4490],[4491],[4492],[4493],[4494],[4495],[4496],[4497],[4498],[4499],[4500],[4501],[4502],[4503],[4504],[4505],[4506],[4507],[4508],[4509],[4510],[4511],[4512],[4513],[4514],[4515],[4516],[4517],[4518],[4519],[4520],[4521],[4522],[4523],[4524],[4525],[4526],[4527],[4528],[4529],[4530],[4531],[4532],[4533],[4534],[4535],[4536],[4537],[4538],[4539],[4540],[4541],[4542],[4543],[4544],[4545],[4546],[4547],[4548],[4549],[4550],[4551],[4552],[4553],[4554],[4555],[4556],[4557],[4558],[4559],[4560],[4561],[4562],[4563],[4564],[4565],[4566],[4567],[4568],[4569],[4570],[4571],[4572],[4573],[4574],[4575],[4576],[4577],[4578],[4579],[4580],[4581],[4582],[4583],[4584],[4585],[4586],[4587],[4588],[4589],[4590],[4591],[4592],[4593],[4594],[4595],[4596],[4597],[4598],[4599],[4600],[4601],[4602],[4603],[4604],[4605],[4606],[4607],[4608],[4609],[4610],[4611],[4612],[4613],[4614],[4615],[4616],[4617],[4618],[4619],[4620],[4621],[4622],[4623],[4624],[4625],[4626],[4627],[4628],[4629],[4630],[4631],[4632],[4633],[4634],[4635],[4636],[4637],[4638],[4639],[4640],[4641],[4642],[4643],[4644],[4645],[4646],[4647],[4648],[4649],[4650],[4651],[4652],[4653],[4654],[4655],[4656],[4657],[4658],[4659],[4660],[4661],[4662],[4663],[4664],[4665],[4666],[4667],[4668],[4669],[4670],[4671],[4672],[4673],[4674],[4675],[4676],[4677],[4678],[4679],[4680],[4681],[4682],[4683],[4684],[4685],[4686],[4687],[4688],[4689],[4690],[4691],[4692],[4693],[4694],[4695],[4696],[4697],[4698],[4699],[4700],[4701],[4702],[4703],[4704],[4705],[4706],[4707],[4708],[4709],[4710],[4711],[4712],[4713],[4714],[4715],[4716],[4717],[4718],[4719],[4720],[4721],[4722],[4723],[4724],[4725],[4726],[4727],[4728],[4729],[4730],[4731],[4732],[4733],[4734],[4735],[4736],[4737],[4738],[4739],[4740],[4741],[4742],[4743],[4744],[4745],[4746],[4747],[4748],[4749],[4750],[4751],[4752],[4753],[4754],[4755],[4756],[4757],[4758],[4759],[4760],[4761],[4762],[4763],[4764],[4765],[4766],[4767],[4768],[4769],[4770],[4771],[4772],[4773],[4774],[4775],[4776],[4777],[4778],[4779],[4780],[4781],[4782],[4783],[4784],[4785],[4786],[4787],[4788],[4789],[4790],[4791],[4792],[4793],[4794],[4795],[4796],[4797],[4798],[4799],[4800],[4801],[4802],[4803],[4804],[4805],[4806],[4807],[4808],[4809],[4810],[4811],[4812],[4813],[4814],[4815],[4816],[4817],[4818],[4819],[4820],[4821],[4822],[4823],[4824],[4825],[4826],[4827],[4828],[4829],[4830],[4831],[4832],[4833],[4834],[4835],[4836],[4837],[4838],[4839],[4840],[4841],[4842],[4843],[4844],[4845],[4846],[4847],[4848],[4849],[4850],[4851],[4852],[4853],[4854],[4855],[4856],[4857],[4858],[4859],[4860],[4861],[4862],[4863],[4864]],\"hovertemplate\":\" x=%{x}<br> y=%{y}<br>count=%{customdata[0]}<extra></extra>\",\"legendgroup\":\"\",\"marker\":{\"color\":\"#636efa\",\"symbol\":\"circle\"},\"mode\":\"markers\",\"name\":\"\",\"showlegend\":false,\"x\":[-30.0,-30.0,-28.582,-28.582,-26.449,-26.449,-24.582,-24.582,-22.449,-22.449,-20.582,-20.582,-18.449,-18.449,-16.315,-16.315,-14.449,-14.449,-12.315,-12.315,-10.449,-10.449,-8.315,-8.315,-6.449,-6.449,-4.315,-4.315,-2.449,-2.449,-0.315,-0.315,1.818,1.818,3.685,3.685,5.818,5.818,7.685,7.685,9.818,9.818,11.685,11.685,13.818,13.818,15.685,15.685,17.818,17.818,19.685,19.685,21.818,21.818,23.685,23.685,25.818,25.818,27.685,27.685,29.818,29.818,31.951,31.951,33.818,33.818,35.951,35.951,37.818,37.818,39.951,39.951,41.818,41.818,43.951,43.951,45.818,45.818,47.951,47.951,49.818,49.818,51.951,51.951,53.818,53.818,55.951,55.951,57.818,57.818,59.951,59.951,61.818,61.818,63.951,63.951,63.951,66.085,67.951,67.951,69.818,69.818,71.951,71.951,73.818,73.818,75.951,75.951,75.951,78.085,79.951,79.951,81.818,81.818,83.951,83.951,85.818,85.818,87.951,87.951,89.818,89.818,91.951,91.951,93.818,93.818,95.951,95.951,95.951,98.085,98.085,99.951,99.951,102.085,102.085,103.951,103.951,106.085,106.085,108.218,108.218,110.085,110.085,112.218,112.218,114.085,114.085,116.218,116.218,118.085,118.085,120.218,120.218,122.085,122.085,124.218,124.218,126.351,126.351,128.218,128.218,130.351,130.351,132.218,132.218,134.351,134.351,136.218,136.218,138.351,138.351,140.218,140.218,142.351,142.351,144.218,144.218,146.351,146.351,148.218,148.218,150.0,150.0,149.53,149.53,147.396,147.396,145.53,145.53,143.396,143.396,141.53,141.53,139.396,139.396,137.263,137.263,135.396,135.396,133.53,133.53,131.396,131.396,129.53,129.53,127.396,127.396,125.53,125.53,123.396,123.396,121.53,121.53,119.396,119.396,117.53,117.53,115.396,115.396,113.53,113.53,111.396,111.396,109.53,109.53,107.396,107.396,105.263,105.263,103.396,103.396,101.263,101.263,99.396,99.396,97.263,97.263,95.396,95.396,93.263,93.263,91.396,91.396,89.263,89.263,87.396,87.396,85.263,85.263,83.396,83.396,81.263,81.263,79.13,79.13,77.263,77.263,75.13,75.13,73.263,73.263,71.13,71.13,69.263,69.263,67.13,67.13,65.263,65.263,63.13,63.13,61.263,61.263,59.13,59.13,57.263,57.263,55.13,55.13,52.996,52.996,51.13,51.13,48.996,48.996,47.13,47.13,44.996,44.996,43.13,43.13,40.996,40.996,38.863,38.863,36.996,36.996,34.863,34.863,32.996,32.996,30.863,30.863,28.996,28.996,26.863,26.863,24.996,24.996,22.863,22.863,20.996,20.996,18.863,18.863,16.996,16.996,14.863,14.863,12.996,12.996,10.863,10.863,8.996,8.996,6.863,6.863,4.73,4.73,2.863,2.863,0.73,0.73,0.73,-1.404,-1.404,-3.27,-3.27,-5.137,-5.137,-7.27,-7.27,-9.404,-9.404,-11.27,-11.27,-13.404,-13.404,-15.27,-15.27,-17.137,-17.137,-19.27,-19.27,-21.404,-21.404,-23.27,-23.27,-25.404,-25.404,-27.27,-27.27,-29.404,-29.404,-30.0,-30.0,-28.34,-28.34,-26.473,-26.473,-24.34,-24.34,-22.473,-22.473,-20.34,-20.34,-18.473,-18.473,-16.34,-16.34,-14.473,-14.473,-12.34,-12.34,-10.473,-10.473,-8.34,-8.34,-6.473,-6.473,-4.34,-4.34,-2.473,-2.473,-0.34,-0.34,1.794,1.794,3.66,3.66,5.794,5.794,7.66,7.66,9.794,9.794,11.66,11.66,13.794,13.794,15.66,15.66,17.794,17.794,19.66,19.66,21.794,21.794,23.927,23.927,26.06,26.06,27.927,27.927,30.06,30.06,31.927,31.927,34.06,34.06,35.927,35.927,38.06,38.06,39.927,39.927,42.06,42.06,43.927,43.927,46.06,46.06,47.927,47.927,50.06,50.06,51.927,51.927,54.06,54.06,55.927,55.927,58.06,58.06,59.927,59.927,62.06,62.06,64.194,64.194,66.06,66.06,68.194,68.194,70.06,70.06,72.194,72.194,74.06,74.06,76.194,76.194,78.327,78.327,80.194,80.194,82.327,82.327,84.194,84.194,86.327,86.327,88.194,88.194,90.327,90.327,92.194,92.194,94.327,94.327,96.194,96.194,98.327,98.327,100.194,100.194,102.327,102.327,104.194,104.194,106.327,106.327,108.194,108.194,110.327,110.327,112.194,112.194,114.327,114.327,116.46,116.46,118.327,118.327,120.46,120.46,122.327,122.327,124.46,124.46,126.327,126.327,128.46,128.46,130.327,130.327,132.46,132.46,134.327,134.327,136.46,136.46,138.327,138.327,140.46,140.46,142.594,142.594,144.46,144.46,146.327,146.327,148.46,148.46,150.327,150.327,152.46,152.46,154.327,154.327,156.46,156.46,158.327,158.327,160.46,160.46,162.327,162.327,164.46,164.46,166.594,166.594,168.46,168.46,170.327,170.327,172.46,172.46,174.327,174.327,176.46,176.46,178.594,178.594,180.0,180.0,179.155,179.155,177.288,177.288,175.155,175.155,173.288,173.288,171.155,171.155,169.288,169.288,167.155,167.155,165.288,165.288,163.155,163.155,161.288,161.288,159.155,159.155,157.022,157.022,155.155,155.155,153.022,153.022,151.155,151.155,149.022,149.022,147.155,147.155,145.022,145.022,143.155,143.155,141.022,141.022,139.155,139.155,137.022,137.022,135.155,135.155,133.022,133.022,133.022,131.155,131.155,129.022,129.022,127.155,127.155,125.022,125.022,123.155,123.155,121.022,121.022,119.155,119.155,117.022,117.022,115.155,115.155,113.022,113.022,111.155,111.155,109.022,109.022,107.155,107.155,105.022,105.022,103.155,103.155,101.022,101.022,99.155,99.155,97.022,97.022,95.155,95.155,93.022,93.022,91.155,91.155,89.022,89.022,87.155,87.155,85.022,85.022,83.155,83.155,81.022,81.022,79.155,79.155,77.022,77.022,74.888,74.888,73.022,73.022,70.888,70.888,69.022,69.022,66.888,66.888,65.022,65.022,62.888,62.888,60.755,60.755,58.888,58.888,56.755,56.755,54.888,54.888,52.755,52.755,50.888,50.888,48.755,48.755,46.888,46.888,44.755,44.755,42.888,42.888,40.755,40.755,38.888,38.888,37.022,37.022,34.888,34.888,32.755,32.755,30.888,30.888,28.755,28.755,26.888,26.888,24.755,24.755,22.888,22.888,20.755,20.755,18.622,18.622,16.755,16.755,14.622,14.622,12.755,12.755,10.622,10.622,8.755,8.755,6.622,6.622,4.755,4.755,2.622,2.622,0.488,0.488,0.0,0.0,0.0,0.0,0.0,0.0,0.0,0.0,1.635,1.635,3.768,3.768,5.901,5.901,7.768,7.768,9.901,9.901,11.768,11.768,13.901,13.901,15.768,15.768,17.901,17.901,19.768,19.768,21.901,21.901,23.768,23.768,25.901,25.901,27.768,27.768,29.901,29.901,31.768,31.768,33.901,33.901,35.768,35.768,37.901,37.901,39.768,39.768,41.901,41.901,43.768,43.768,45.901,45.901,48.035,48.035,50.168,50.168,52.035,52.035,53.901,53.901,56.035,56.035,57.901,57.901,60.035,60.035,62.168,62.168,64.035,64.035,66.168,66.168,68.035,68.035,69.901,69.901,72.035,72.035,73.901,73.901,76.035,76.035,78.168,78.168,80.035,80.035,82.168,82.168,84.035,84.035,86.168,86.168,88.035,88.035,90.168,90.168,92.035,92.035,94.168,94.168,96.035,96.035,98.168,98.168,100.035,100.035,102.168,102.168,102.168,104.035,106.168,106.168,108.035,108.035,110.168,110.168,112.035,112.035,114.168,114.168,116.035,116.035,116.035,118.168,120.035,120.035,122.168,122.168,124.035,124.035,126.168,126.168,128.035,128.035,130.168,130.168,132.035,132.035,132.035,134.168,134.168,136.301,136.301,138.168,138.168,140.301,140.301,142.168,142.168,144.301,144.301,146.168,146.168,148.301,148.301,150.168,150.168,152.301,152.301,154.168,154.168,156.301,156.301,158.168,158.168,160.301,160.301,162.168,162.168,164.301,164.301,166.168,166.168,168.301,168.301,170.435,170.435,172.301,172.301,174.435,174.435,176.301,176.301,178.435,178.435,180.0,180.0,180.0,180.0,180.0,180.0,180.0,180.0,179.18,179.18,177.313,177.313,175.18,175.18,173.313,173.313,171.18,171.18,169.313,169.313,167.18,167.18,165.313,165.313,163.18,163.18,161.313,161.313,159.18,159.18,157.313,157.313,155.18,155.18,153.046,153.046,151.18,151.18,149.046,149.046,147.18,147.18,145.046,145.046,143.18,143.18,141.046,141.046,139.18,139.18,137.046,137.046,135.18,135.18,133.046,133.046,131.18,131.18,129.046,129.046,127.18,127.18,125.046,125.046,123.18,123.18,121.046,121.046,119.18,119.18,117.046,117.046,114.913,114.913,113.046,113.046,110.913,110.913,109.046,109.046,106.913,106.913,105.046,105.046,102.913,102.913,101.046,101.046,98.913,98.913,97.046,97.046,94.913,94.913,93.046,93.046,90.913,90.913,89.046,89.046,86.913,86.913,84.78,84.78,82.913,82.913,80.78,80.78,78.913,78.913,76.78,76.78,74.913,74.913,72.78,72.78,70.913,70.913,68.78,68.78,66.913,66.913,64.78,64.78,62.913,62.913,60.78,60.78,58.913,58.913,56.78,56.78,54.913,54.913,52.78,52.78,50.913,50.913,48.78,48.78,46.913,46.913,44.78,44.78,42.913,42.913,40.78,40.78,38.913,38.913,36.78,36.78,34.913,34.913,32.78,32.78,30.646,30.646,28.78,28.78,26.913,26.913,24.78,24.78,22.646,22.646,20.78,20.78,18.646,18.646,16.78,16.78,14.646,14.646,12.78,12.78,10.646,10.646,8.78,8.78,6.646,6.646,4.78,4.78,2.646,2.646,0.78,0.78,-1.354,-1.354,-3.22,-3.22,-5.354,-5.354,-7.487,-7.487,-9.354,-9.354,-11.487,-11.487,-13.354,-13.354,-15.487,-15.487,-17.354,-17.354,-19.487,-19.487,-21.354,-21.354,-23.487,-23.487,-25.354,-25.354,-27.487,-27.487,-29.354,-29.354,-30.0,-30.0,-29.59,-29.59,-27.457,-27.457,-25.59,-25.59,-23.457,-23.457,-21.59,-21.59,-19.457,-19.457,-17.59,-17.59,-15.457,-15.457,-13.59,-13.59,-11.457,-11.457,-9.59,-9.59,-7.457,-7.457,-5.59,-5.59,-3.457,-3.457,-1.324,-1.324,0.543,0.543,0.543,2.676,2.676,4.81,4.81,6.676,6.676,8.81,8.81,10.676,10.676,12.81,12.81,14.676,14.676,16.81,16.81,18.676,18.676,20.81,20.81,22.676,22.676,24.81,24.81,26.676,26.676,28.81,28.81,30.676,30.676,32.81,32.81,34.676,34.676,36.81,36.81,38.676,38.676,40.81,40.81,42.676,42.676,44.81,44.81,46.676,46.676,48.81,48.81,50.676,50.676,52.81,52.81,54.676,54.676,56.81,56.81,58.676,58.676,60.81,60.81,62.676,62.676,64.81,64.81,66.676,66.676,68.81,68.81,70.943,70.943,72.81,72.81,74.943,74.943,76.81,76.81,78.943,78.943,80.81,80.81,82.943,82.943,84.81,84.81,86.943,86.943,88.81,88.81,90.943,90.943,92.81,92.81,94.943,94.943,96.81,96.81,98.943,98.943,100.81,100.81,102.943,102.943,104.81,104.81,106.943,106.943,108.81,108.81,110.943,110.943,112.81,112.81,114.943,114.943,116.81,116.81,118.943,118.943,121.076,121.076,122.943,122.943,125.076,125.076,126.943,126.943,129.076,129.076,130.943,130.943,133.076,133.076,134.943,134.943,137.076,137.076,138.943,138.943,141.076,141.076,142.943,142.943,145.076,145.076,146.943,146.943,149.076,149.076,150.0,150.0,149.848,149.848,148.005,148.005,145.871,145.871,144.005,144.005,141.871,141.871,140.005,140.005,137.871,137.871,136.005,136.005,133.871,133.871,132.005,132.005,129.871,129.871,128.005,128.005,126.138,126.138,124.005,124.005,122.138,122.138,120.005,120.005,117.871,117.871,116.005,116.005,113.871,113.871,112.005,112.005,109.871,109.871,108.005,108.005,105.871,105.871,104.005,104.005,101.871,101.871,100.005,100.005,97.871,97.871,96.005,96.005,93.871,93.871,92.005,92.005,89.871,89.871,88.005,88.005,85.871,85.871,83.738,83.738,81.871,81.871,79.738,79.738,77.871,77.871,75.738,75.738,73.871,73.871,71.738,71.738,69.871,69.871,67.738,67.738,65.871,65.871,63.738,63.738,61.871,61.871,59.738,59.738,57.871,57.871,55.738,55.738,53.605,53.605,51.738,51.738,49.605,49.605,47.471,47.471,45.605,45.605,43.471,43.471,41.605,41.605,39.471,39.471,37.605,37.605,35.471,35.471,33.605,33.605,31.471,31.471,29.605,29.605,27.471,27.471,25.605,25.605,23.471,23.471,21.605,21.605,19.471,19.471,17.605,17.605,15.471,15.471,13.605,13.605,11.471,11.471,9.605,9.605,7.471,7.471,5.338,5.338,3.471,3.471,1.338,1.338,0.0,0.0,0.0,0.0,1.585,1.585,3.719,3.719,5.585,5.585,7.719,7.719,9.585,9.585,11.719,11.719,13.585,13.585,15.719,15.719,17.585,17.585,19.719,19.719,21.585,21.585,23.719,23.719,25.585,25.585,27.719,27.719,29.585,29.585,31.719,31.719,33.585,33.585,35.719,35.719,37.585,37.585,39.719,39.719,41.585,41.585,43.719,43.719,45.585,45.585,47.719,47.719,49.585,49.585,51.719,51.719,53.585,53.585,55.719,55.719,57.852,57.852,59.719,59.719,61.585,61.585,63.719,63.719,65.852,65.852,67.719,67.719,69.852,69.852,71.719,71.719,73.852,73.852,75.719,75.719,77.852,77.852,79.719,79.719,81.852,81.852,83.719,83.719,85.852,85.852,87.719,87.719,89.852,89.852,91.719,91.719,93.852,93.852,95.719,95.719,97.852,97.852,99.985,99.985,101.852,101.852,103.985,103.985,105.852,105.852,107.985,107.985,109.852,109.852,111.985,111.985,113.852,113.852,115.985,115.985,117.852,117.852,119.985,119.985,121.852,121.852,123.985,123.985,125.852,125.852,127.985,127.985,129.852,129.852,131.985,131.985,133.852,133.852,135.985,135.985,137.852,137.852,139.985,139.985,141.852,141.852,143.985,143.985,146.119,146.119,147.985,147.985,149.991,149.991,149.991,150.0,150.0,148.829,148.829,146.696,146.696,144.829,144.829,142.696,142.696,140.829,140.829,138.696,138.696,136.829,136.829,134.696,134.696,132.829,132.829,130.963,130.963,128.829,128.829,126.696,126.696,124.829,124.829,122.696,122.696,120.829,120.829,118.696,118.696,116.829,116.829,114.696,114.696,112.829,112.829,110.696,110.696,108.829,108.829,106.696,106.696,104.829,104.829,102.696,102.696,100.829,100.829,98.696,98.696,96.829,96.829,94.696,94.696,92.829,92.829,90.696,90.696,88.563,88.563,86.696,86.696,84.563,84.563,82.696,82.696,80.563,80.563,78.696,78.696,76.563,76.563,74.696,74.696,72.563,72.563,70.696,70.696,68.563,68.563,66.696,66.696,64.563,64.563,62.696,62.696,60.563,60.563,58.696,58.696,56.563,56.563,54.429,54.429,52.563,52.563,50.696,50.696,48.563,48.563,46.429,46.429,44.563,44.563,42.429,42.429,40.563,40.563,38.429,38.429,36.296,36.296,34.429,34.429,32.296,32.296,30.429,30.429,28.296,28.296,26.429,26.429,24.296,24.296,22.429,22.429,20.296,20.296,18.429,18.429,16.296,16.296,14.163,14.163,12.296,12.296,10.163,10.163,8.296,8.296,6.163,6.163,4.296,4.296,2.163,2.163,0.296,0.296,-1.837,-1.837,-3.704,-3.704,-5.837,-5.837,-7.704,-7.704,-9.821,-9.821,-10.0,-10.0,-10.0,-10.0,-10.0,-10.0,-10.0,-10.0,-8.972,-8.972,-7.106,-7.106,-4.972,-4.972,-3.106,-3.106,-0.972,-0.972,0.894,0.894,3.028,3.028,4.894,4.894,7.028,7.028,8.894,8.894,11.028,11.028,12.894,12.894,15.028,15.028,16.894,16.894,19.028,19.028,21.161,21.161,23.028,23.028,25.161,25.161,27.294,27.294,29.161,29.161,31.028,31.028,33.161,33.161,35.028,35.028,37.161,37.161,39.294,39.294,41.161,41.161,43.028,43.028,45.161,45.161,47.294,47.294,49.428,49.428,49.428,51.294,51.294,53.428,53.428,55.294,55.294,57.428,57.428,59.294,59.294,61.428,61.428,63.294,63.294,65.428,65.428,67.561,67.561,69.428,69.428,71.294,71.294,73.428,73.428,75.294,75.294,77.428,77.428,79.561,79.561,81.428,81.428,83.561,83.561,85.428,85.428,87.561,87.561,89.694,89.694,91.561,91.561,93.694,93.694,95.561,95.561,97.694,97.694,99.561,99.561,101.694,101.694,103.561,103.561,105.694,105.694,107.828,107.828,109.694,109.694,111.828,111.828,113.694,113.694,115.561,115.561,117.694,117.694,119.561,119.561,121.694,121.694,123.561,123.561,125.694,125.694,127.561,127.561,129.694,129.694,131.828,131.828,133.694,133.694,135.828,135.828,137.694,137.694,139.828,139.828,141.961,141.961,143.828,143.828,145.961,145.961,147.828,147.828,149.961,149.961,151.828,151.828,153.961,153.961,156.094,156.094,157.961,157.961,159.98,159.98,160.0,160.0,160.0,160.0,160.0,160.0,160.0,160.0,158.982,158.982,156.849,156.849,154.982,154.982,152.849,152.849,150.982,150.982,148.849,148.849,146.982,146.982,144.849,144.849,142.716,142.716,140.849,140.849,138.716,138.716,136.849,136.849,134.716,134.716,132.849,132.849,130.716,130.716,128.849,128.849,126.716,126.716,124.849,124.849,122.982,122.982,120.849,120.849,118.982,118.982,116.849,116.849,114.982,114.982,112.849,112.849,110.982,110.982,108.849,108.849,106.716,106.716,104.849,104.849,102.716,102.716,100.582,100.582,98.716,98.716,96.582,96.582,94.716,94.716,92.849,92.849,90.716,90.716,88.582,88.582,86.716,86.716,84.582,84.582,82.716,82.716,82.716,80.582,80.582,78.449,78.449,76.582,76.582,74.449,74.449,72.582,72.582,70.449,70.449,68.582,68.582,66.449,66.449,64.582,64.582,62.449,62.449,60.582,60.582,58.449,58.449,56.582,56.582,54.449,54.449,52.582,52.582,50.449,50.449,48.582,48.582,46.449,46.449,44.316,44.316,42.449,42.449,40.316,40.316,38.449,38.449,36.316,36.316,34.449,34.449,32.316,32.316,30.449,30.449,28.316,28.316,26.449,26.449,24.316,24.316,22.449,22.449,20.316,20.316,18.182,18.182,16.316,16.316,14.182,14.182,12.316,12.316,10.182,10.182,8.316,8.316,6.182,6.182,4.316,4.316,2.182,2.182,0.316,0.316,-1.818,-1.818,-3.684,-3.684,-5.818,-5.818,-7.684,-7.684,-9.818,-9.818,-11.684,-11.684,-13.818,-13.818,-15.951,-15.951,-17.818,-17.818,-19.901,-19.901,-20.0,-20.0,-20.0,-20.0,-18.064,-18.064,-16.197,-16.197,-14.064,-14.064,-12.197,-12.197,-10.064,-10.064,-8.197,-8.197,-6.064,-6.064,-4.197,-4.197,-2.064,-2.064,-0.197,-0.197,1.936,1.936,3.803,3.803,5.936,5.936,7.803,7.803,9.67,9.67,11.803,11.803,13.936,13.936,15.803,15.803,17.936,17.936,19.803,19.803,21.936,21.936,23.803,23.803,25.936,25.936,27.803,27.803,29.936,29.936,32.07,32.07,33.936,33.936,36.07,36.07,37.936,37.936,40.07,40.07,41.936,41.936,44.07,44.07,45.936,45.936,48.07,48.07,49.936,49.936,52.07,52.07,54.203,54.203,56.07,56.07,57.936,57.936,60.07,60.07,62.203,62.203,64.07,64.07,66.203,66.203,68.07,68.07,70.203,70.203,72.07,72.07,74.203,74.203,76.07,76.07,78.203,78.203,80.07,80.07,82.203,82.203,84.07,84.07,86.203,86.203,88.07,88.07,90.203,90.203,92.336,92.336,94.203,94.203,96.336,96.336,98.203,98.203,100.336,100.336,102.203,102.203,104.336,104.336,106.203,106.203,108.336,108.336,110.203,110.203,112.336,112.336,114.203,114.203,116.336,116.336,118.47,118.47,120.336,120.336,120.336,122.47,124.336,124.336,126.47,126.47,128.336,128.336,130.47,130.47,130.47,132.603,132.603,134.47,134.47,136.603,136.603,138.47,138.47,140.603,140.603,142.47,142.47,144.603,144.603,146.47,146.47,148.603,148.603,150.0,150.0,150.0,150.0,149.674,149.674,147.54,147.54,145.674,145.674,143.54,143.54,141.407,141.407,139.54,139.54,137.407,137.407,135.274,135.274,133.407,133.407,131.274,131.274,129.407,129.407,127.274,127.274,125.407,125.407,123.274,123.274,121.407,121.407,119.274,119.274,117.407,117.407,115.274,115.274,113.14,113.14,111.274,111.274,109.14,109.14,107.274,107.274,105.14,105.14,103.274,103.274,101.14,101.14,99.274,99.274,97.14,97.14,95.274,95.274,93.14,93.14,91.274,91.274,89.14,89.14,87.007,87.007,85.14,85.14,83.007,83.007,81.14,81.14,79.007,79.007,77.14,77.14,75.007,75.007,73.14,73.14,71.007,71.007,69.14,69.14,67.007,67.007,65.14,65.14,63.007,63.007,60.874,60.874,59.007,59.007,56.874,56.874,55.007,55.007,52.874,52.874,51.007,51.007,48.874,48.874,47.007,47.007,44.874,44.874,43.007,43.007,40.874,40.874,39.007,39.007,36.874,36.874,35.007,35.007,32.874,32.874,31.007,31.007,28.874,28.874,27.007,27.007,24.874,24.874,23.007,23.007,20.874,20.874,19.007,19.007,16.874,16.874,15.007,15.007,12.874,12.874,11.007,11.007,8.874,8.874,7.007,7.007,4.874,4.874,3.007,3.007,0.874,0.874,0.0,0.0,0.0,0.0,1.111,1.111,2.978,2.978,5.111,5.111,6.978,6.978,9.111,9.111,10.978,10.978,13.111,13.111,14.978,14.978,17.111,17.111,18.978,18.978,21.111,21.111,22.978,22.978,25.111,25.111,27.244,27.244,29.111,29.111,31.244,31.244,33.378,33.378,35.244,35.244,37.378,37.378,39.244,39.244,41.378,41.378,43.244,43.244,45.378,45.378,47.244,47.244,49.378,49.378,51.244,51.244,53.378,53.378,55.244,55.244,57.378,57.378,59.244,59.244,61.378,61.378,63.244,63.244,65.378,65.378,67.244,67.244,69.378,69.378,71.244,71.244,73.378,73.378,75.244,75.244,77.378,77.378,79.511,79.511,81.378,81.378,83.511,83.511,85.644,85.644,87.511,87.511,89.644,89.644,91.511,91.511,93.644,93.644,95.511,95.511,97.644,97.644,99.511,99.511,101.644,101.644,103.511,103.511,105.644,105.644,107.511,107.511,109.644,109.644,111.511,111.511,113.644,113.644,115.511,115.511,115.511,117.644,117.644,119.778,119.778,121.644,121.644,123.778,123.778,125.644,125.644,127.778,127.778,129.644,129.644,131.778,131.778,133.911,133.911,135.778,135.778,137.644,137.644,139.778,139.778,141.644,141.644,143.778,143.778,145.911,145.911,147.778,147.778,149.644,149.644,151.778,151.778,153.911,153.911,155.778,155.778,157.911,157.911,159.778,159.778,161.911,161.911,163.778,163.778,165.911,165.911,167.778,167.778,169.875,169.875,170.0,170.0,170.0,170.0,168.099,168.099,166.232,166.232,164.099,164.099,162.232,162.232,160.099,160.099,158.232,158.232,156.099,156.099,154.232,154.232,152.099,152.099,150.232,150.232,148.099,148.099,146.232,146.232,144.099,144.099,142.232,142.232,140.099,140.099,138.232,138.232,136.099,136.099,134.232,134.232,132.099,132.099,130.232,130.232,128.099,128.099,126.232,126.232,124.099,124.099,122.232,122.232,120.099,120.099,118.232,118.232,116.099,116.099,114.232,114.232,112.099,112.099,109.966,109.966,108.099,108.099,106.232,106.232,104.099,104.099,102.232,102.232,100.099,100.099,97.966,97.966,96.099,96.099,93.966,93.966,92.099,92.099,89.966,89.966,88.099,88.099,85.966,85.966,83.832,83.832,81.966,81.966,79.832,79.832,77.966,77.966,75.832,75.832,73.966,73.966,71.832,71.832,69.966,69.966,67.832,67.832,65.966,65.966,63.832,63.832,61.966,61.966,59.832,59.832,57.966,57.966,55.832,55.832,53.966,53.966,51.832,51.832,49.966,49.966,47.832,47.832,45.966,45.966,43.832,43.832,41.699,41.699,39.832,39.832,37.699,37.699,35.832,35.832,33.699,33.699,31.832,31.832,29.699,29.699,27.832,27.832,25.699,25.699,23.566,23.566,21.699,21.699,19.566,19.566,17.699,17.699,15.566,15.566,13.699,13.699,11.566,11.566,9.699,9.699,7.566,7.566,5.699,5.699,3.566,3.566,1.699,1.699,0.0,0.0,0.0,0.0,0.0,0.0,0.0,0.0,0.0,0.0,0.0,0.42,2.287,2.287,4.42,4.42,4.42,6.287,6.287,8.42,8.42,10.553,10.553,12.42,12.42,14.287,14.287,16.42,16.42,18.287,18.287,20.42,20.42,22.553,22.553,24.42,24.42,26.553,26.553,28.42,28.42,30.553,30.553,32.42,32.42,34.553,34.553,36.42,36.42,38.553,38.553,40.42,40.42,42.553,42.553,44.687,44.687,46.553,46.553,48.42,48.42,50.553,50.553,52.687,52.687,54.553,54.553,56.687,56.687,58.553,58.553,60.687,60.687,62.553,62.553,64.687,64.687,66.553,66.553,68.687,68.687,70.553,70.553,72.687,72.687,74.553,74.553,76.687,76.687,78.553,78.553,80.687,80.687,82.553,82.553,84.687,84.687,86.553,86.553,88.687,88.687,90.553,90.553,92.687,92.687,94.553,94.553,96.687,96.687,98.82,98.82,100.687,100.687,102.82,102.82,104.687,104.687,106.82,106.82,108.687,108.687,110.553,110.553,112.687,112.687,114.553,114.553,116.687,116.687,118.82,118.82,120.687,120.687,122.553,122.553,124.687,124.687,126.553,126.553,128.687,128.687,130.553,130.553,132.687,132.687,134.553,134.553,136.687,136.687,138.553,138.553,140.687,140.687,142.82,142.82,144.687,144.687,146.82,146.82,148.687,148.687,150.0,150.0,150.0,150.0,150.0,150.0,150.0,150.0,150.0,150.0,149.457,149.457,147.324,147.324,145.457,145.457,143.324,143.324,141.457,141.457,139.324,139.324,137.19,137.19,135.324,135.324,133.19,133.19,131.324,131.324,129.19,129.19,127.324,127.324,125.19,125.19,123.324,123.324,121.19,121.19,119.057,119.057,117.19,117.19,115.057,115.057,113.19,113.19,111.057,111.057,109.19,109.19,107.057,107.057,105.19,105.19,103.057,103.057,100.924,100.924,99.057,99.057,96.924,96.924,95.057,95.057,92.924,92.924,91.057,91.057,89.19,89.19,87.057,87.057,85.19,85.19,83.057,83.057,80.924,80.924,79.057,79.057,76.924,76.924,75.057,75.057,72.924,72.924,71.057,71.057,68.924,68.924,67.057,67.057,64.924,64.924,63.057,63.057,60.924,60.924,59.057,59.057,56.924,56.924,55.057,55.057,52.924,52.924,51.057,51.057,48.924,48.924,47.057,47.057,44.924,44.924,42.79,42.79,40.924,40.924,38.79,38.79,36.924,36.924,34.79,34.79,32.924,32.924,30.79,30.79,28.924,28.924,26.79,26.79,24.924,24.924,24.924,22.79,20.924,20.924,18.79,18.79,16.924,16.924,14.79,14.79,12.924,12.924,12.924,10.79,10.79,8.657,8.657,6.79,6.79,4.657,4.657,2.79,2.79,0.657,0.657,-1.21,-1.21,-3.343,-3.343,-5.21,-5.21,-7.343,-7.343,-9.21,-9.21,-11.343,-11.343,-13.21,-13.21,-15.0,-15.0,-15.0,-15.0,-15.0,-15.0,-14.138,-14.138,-12.005,-12.005,-9.871,-9.871,-8.005,-8.005,-5.871,-5.871,-4.005,-4.005,-1.871,-1.871,-0.005,-0.005,1.862,1.862,3.995,3.995,5.862,5.862,7.995,7.995,10.129,10.129,11.995,11.995,14.129,14.129,15.995,15.995,18.129,18.129,19.995,19.995,22.129,22.129,23.995,23.995,26.129,26.129,27.995,27.995,30.129,30.129,32.262,32.262,34.129,34.129,36.262,36.262,38.129,38.129,40.262,40.262,42.129,42.129,44.262,44.262,46.129,46.129,48.262,48.262,50.129,50.129,52.262,52.262,54.129,54.129,56.262,56.262,58.129,58.129,60.262,60.262,62.395,62.395,64.262,64.262,66.395,66.395,68.529,68.529,70.395,70.395,72.529,72.529,74.395,74.395,76.529,76.529,78.395,78.395,80.529,80.529,82.662,82.662,84.529,84.529,86.662,86.662,88.529,88.529,90.662,90.662,92.529,92.529,94.662,94.662,96.529,96.529,98.662,98.662,100.529,100.529,102.662,102.662,104.529,104.529,106.662,106.662,108.529,108.529,110.662,110.662,112.529,112.529,114.662,114.662,116.529,116.529,118.662,118.662,120.795,120.795,122.662,122.662,124.795,124.795,126.662,126.662,128.795,128.795,130.662,130.662,132.795,132.795,134.662,134.662,136.529,136.529,138.662,138.662,140.795,140.795,142.662,142.662,144.795,144.795,146.662,146.662,148.795,148.795,150.662,150.662,152.795,152.795,154.662,154.662,156.795,156.795,158.0,158.0,158.0,158.0,158.0,158.0,156.548,156.548,154.681,154.681,152.548,152.548,150.681,150.681,148.548,148.548,146.681,146.681,144.548,144.548,142.681,142.681,140.548,140.548,138.681,138.681,138.681,136.548,136.548,134.415,134.415,132.548,130.415,130.415,130.415,128.281,128.281,126.415,126.415,124.281,124.281,122.415,122.415,120.281,120.281,118.415,118.415,116.281,116.281,114.415,114.415,112.281,112.281,110.415,110.415,108.281,108.281,106.148,106.148,104.281,104.281,102.148,102.148,100.281,100.281,98.148,98.148,96.281,96.281,94.148,94.148,92.281,92.281,90.148,90.148,88.281,88.281,86.148,86.148,84.281,84.281,82.148,82.148,80.281,80.281,78.148,78.148,76.281,76.281,74.148,74.148,72.281,72.281,70.148,70.148,68.281,68.281,66.148,66.148,64.281,64.281,62.148,62.148,60.281,60.281,58.148,58.148,56.281,56.281,54.148,54.148,52.281,52.281,50.148,50.148,48.015,48.015,46.148,46.148,44.015,44.015,42.148,42.148,40.015,40.015,38.148,38.148,36.015,36.015,34.148,34.148,32.015,32.015,30.148,30.148,28.015,28.015,25.881,25.881,24.015,24.015,21.881,21.881,20.015,20.015,17.881,17.881,16.015,16.015,13.881,13.881,12.015,12.015,9.881,9.881,8.015,8.015,5.881,5.881,4.015,4.015,1.881,1.881,0.077,0.077,0.0,0.0,0.0,0.0,0.0,0.0,0.0,0.0,0.0,0.0,0.904,0.904,2.771,2.771,4.904,4.904,7.037,7.037,8.904,8.904,10.771,10.771,12.904,12.904,15.037,15.037,16.904,16.904,19.037,19.037,20.904,20.904,23.037,23.037,24.904,24.904,26.771,26.771,28.904,28.904,31.037,31.037,32.904,32.904,35.037,35.037,36.904,36.904,39.037,39.037,40.904,40.904,43.037,43.037,45.171,45.171,47.037,47.037,49.171,49.171,51.037,51.037,53.171,53.171,53.171,55.037,55.037,57.171,57.171,59.304,59.304,61.171,61.171,63.304,63.304,65.171,65.171,67.304,67.304,69.171,69.171,71.304,71.304,73.171,73.171,75.304,75.304,77.171,77.171,79.304,79.304,81.437,81.437,83.304,83.304,85.437,85.437,87.304,87.304,89.437,89.437,91.304,91.304,93.437,93.437,95.304,95.304,97.437,97.437,99.304,99.304,101.437,101.437,103.304,103.304,105.437,105.437,107.304,107.304,109.437,109.437,111.571,111.571,113.437,113.437,115.571,115.571,117.437,117.437,119.571,119.571,121.437,121.437,123.571,123.571,125.437,125.437,127.571,127.571,129.437,129.437,131.571,131.571,133.437,133.437,135.571,135.571,137.437,137.437,139.571,139.571,141.704,141.704,143.571,143.571,145.437,145.437,147.571,147.571,149.437,149.437,151.571,151.571,153.704,153.704,155.571,155.571,157.437,157.437,159.571,159.571,161.437,161.437,163.571,163.571,165.704,165.704,167.571,167.571,169.704,169.704,171.571,171.571,173.704,173.704,175.571,175.571,177.704,177.704,179.821,179.821,180.0,180.0,180.0,180.0,180.0,180.0,180.0,180.0,180.0,180.0,179.506,179.506,177.639,177.639,175.506,175.506,173.372,173.372,171.506,171.506,169.372,169.372,167.506,167.506,165.372,165.372,163.506,163.506,161.372,161.372,159.506,159.506,157.372,157.372,155.506,155.506,153.372,153.372,151.506,151.506,149.372,149.372,147.506,147.506,145.372,145.372,143.506,143.506,141.372,141.372,139.239,139.239,137.372,137.372,135.239,135.239,133.372,133.372,131.239,131.239,129.372,129.372,127.239,127.239,125.372,125.372,123.239,123.239,121.372,121.372,119.239,119.239,117.372,117.372,115.239,115.239,113.372,113.372,111.239,111.239,109.106,109.106,107.239,107.239,105.106,105.106,103.239,103.239,101.106,101.106,101.106,99.239,97.106,97.106,97.106,95.239,93.106,93.106,93.106,91.239,91.239,89.106,89.106,86.972,86.972,85.106,85.106,82.972,82.972,81.106,81.106,78.972,78.972,77.106,77.106,74.972,74.972,73.106,73.106,70.972,70.972,68.839,68.839,66.972,66.972,64.839,64.839,62.972,62.972,60.839,60.839,58.972,58.972,56.839,56.839,54.972,54.972,52.839,52.839,50.972,50.972,48.839,48.839,46.972,46.972,44.839,44.839,42.972,42.972,40.839,40.839,38.972,38.972,36.839,36.839,34.706,34.706,32.839,32.839,30.706,30.706,28.839,28.839,26.706,26.706,24.839,24.839,22.706,22.706,20.839,20.839,18.706,18.706,16.839,16.839,14.706,14.706,12.572,12.572,10.706,10.706,8.572,8.572,6.706,6.706,4.572,4.572,2.706,2.706,0.572,0.572,0.0,0.0,0.0,0.0,0.0,0.0,0.884,0.884,2.751,2.751,4.884,4.884,6.751,6.751,8.884,8.884,10.751,10.751,12.884,12.884,14.751,14.751,16.884,16.884,18.751,18.751,20.884,20.884,22.751,22.751,24.884,24.884,27.018,27.018,28.884,28.884,31.018,31.018,32.884,32.884,35.018,35.018,36.884,36.884,39.018,39.018,40.884,40.884,43.018,43.018,44.884,44.884,47.018,47.018,49.151,49.151,51.018,51.018,53.151,53.151,55.284,55.284,57.151,57.151,59.284,59.284,61.151,61.151,63.284,63.284,65.151,65.151,67.284,67.284,69.151,69.151,71.284,71.284,73.151,73.151,75.284,75.284,77.151,77.151,79.284,79.284,81.418,81.418,83.284,83.284,85.418,85.418,87.284,87.284,89.418,89.418,91.284,91.284,93.418,93.418,95.284,95.284,97.418,97.418,99.284,99.284,101.418,101.418,103.284,103.284,105.418,105.418,107.551,107.551,109.418,109.418,111.551,111.551,113.418,113.418,115.551,115.551,117.418,117.418,119.551,119.551,119.551,121.418,121.418,123.551,123.551,125.418,125.418,127.551,127.551,129.418,129.418,131.551,131.551,133.684,133.684,135.551,135.551,137.684,137.684,139.551,139.551,141.684,141.684,143.551,143.551,145.684,145.684,147.551,147.551,149.684,149.684,150.0,150.0,150.0,150.0,150.0,150.0,148.864,148.864,146.73,146.73,144.864,144.864,142.73,142.73,140.864,140.864,138.73,138.73,136.597,136.597,134.73,134.73,132.597,132.597,130.73,130.73,128.597,128.597,126.73,126.73,124.597,124.597,122.73,122.73,120.597,120.597,118.73,118.73,116.597,116.597,114.73,114.73,112.597,112.597,110.73,110.73,108.597,108.597,106.73,106.73,104.597,104.597,102.73,102.73,100.597,100.597,98.73,98.73,96.597,96.597,94.464,94.464,92.597,92.597,90.464,90.464,88.597,88.597,86.464,86.464,84.597,84.597,82.464,82.464,80.597,80.597,78.464,78.464,76.597,76.597,74.464,74.464,72.597,72.597,70.464,70.464,68.597,68.597,66.464,66.464,64.597,64.597,62.464,62.464,60.33,60.33,58.464,58.464,56.33,56.33,54.464,54.464,52.33,52.33,50.464,50.464,48.33,48.33,46.464,46.464,44.33,44.33,42.464,42.464,40.33,40.33,38.464,38.464,36.33,36.33,34.464,34.464,32.33,32.33,30.464,30.464,28.33,28.33,26.464,26.464,24.33,24.33,22.464,22.464,20.33,20.33,18.464,18.464,16.33,16.33,14.464,14.464,12.33,12.33,10.464,10.464,8.33,8.33,6.464,6.464,4.33,4.33,2.464,2.464,0.33,0.33,0.0,0.0,0.0,0.0,0.0,0.0,0.0,0.0,0.0,0.0,0.15,0.15,2.26,2.26,4.126,4.126,6.26,6.26,8.126,8.126,10.26,10.26,12.126,12.126,14.26,14.26,16.126,16.126,18.26,18.26,20.126,20.126,22.26,22.26,24.393,24.393,26.26,26.26,28.393,28.393,30.26,30.26,32.393,32.393,34.26,34.26,36.393,36.393,38.26,38.26,40.393,40.393,42.26,42.26,44.393,44.393,46.26,46.26,48.393,48.393,50.26,50.26,52.393,52.393,52.393,54.526,54.526,56.393,56.393,58.526,58.526,60.393,60.393,62.526,62.526,64.393,64.393,66.526,66.526,68.393,68.393,70.526,70.526,72.393,72.393,74.526,74.526,76.393,76.393,78.526,78.526,80.66,80.66,82.526,82.526,84.66,84.66,86.526,86.526,88.66,88.66,90.526,90.526,92.66,92.66,94.526,94.526,96.66,96.66,98.526,98.526,100.66,100.66,102.526,102.526,104.66,104.66,106.526,106.526,108.66,108.66,110.526,110.526,112.66,112.66,114.793,114.793,116.66,116.66,118.793,118.793,120.66,120.66,122.793,122.793,124.66,124.66,126.526,126.526,128.66,128.66,130.526,130.526,132.66,132.66,134.526,134.526,136.66,136.66,138.793,138.793,140.66,140.66,142.793,142.793,144.66,144.66,146.793,146.793,148.66,148.66,150.793,150.793,152.66,152.66,154.793,154.793,156.66,156.66,158.793,158.793,160.66,160.66,162.793,162.793,164.66,164.66,166.793,166.793,168.66,168.66,170.793,170.793,172.926,172.926,174.793,174.793,176.926,176.926,178.793,178.793,180.0,180.0,180.0,180.0,180.0,180.0,180.0,180.0,180.0,180.0,180.0,180.0,178.623,178.623,176.756,176.756,174.623,174.623,172.756,172.756,170.623,170.623,168.756,168.756,166.623,166.623,164.489,164.489,162.623,162.623,160.489,160.489,158.623,158.623,156.489,156.489,154.623,154.623,152.489,152.489,150.623,150.623,148.489,148.489,146.356,146.356,144.489,144.489,142.356,142.356,140.489,140.489,138.356,138.356,136.489,136.489,134.356,134.356,132.489,132.489,130.356,130.356,128.489,128.489,126.356,126.356,124.489,124.489,122.356,122.356,120.489,120.489,118.356,118.356,116.489,116.489,114.356,114.356,112.489,112.489,110.356,110.356,108.489,108.489,106.356,106.356,104.223,104.223,102.356,102.356,100.223,100.223,98.356,98.356,96.223,96.223,94.356,94.356,92.223,92.223,90.089,90.089,88.223,88.223,86.089,86.089,84.223,84.223,82.089,82.089,80.223,80.223,78.089,78.089,76.223,76.223,74.089,74.089,72.223,72.223,70.089,70.089,68.223,68.223,66.089,66.089,64.223,64.223,62.089,62.089,59.956,59.956,58.089,58.089,55.956,55.956,54.089,54.089,51.956,51.956,50.089,50.089,47.956,47.956,46.089,46.089,43.956,43.956,43.956,42.089,42.089,39.956,39.956,38.089,38.089,35.956,35.956,34.089,34.089,31.956,31.956,30.089,30.089,27.956,27.956,25.823,25.823,23.956,23.956,21.823,21.823,19.956,19.956,17.823,17.823,15.956,15.956,13.823,13.823,11.956,11.956,9.823,9.823,7.956,7.956,5.823,5.823,3.689,3.689,1.823,1.823,-0.311,-0.311,-2.177,-2.177,-4.311,-4.311,-6.177,-6.177,-8.311,-8.311,-10.177,-10.177,-12.311,-12.311,-14.177,-14.177,-16.311,-16.311,-18.177,-18.177,-20.311,-20.311,-22.177,-22.177,-24.311,-24.311,-26.177,-26.177,-28.311,-28.311,-30.0,-30.0,-30.0,-30.0,-30.0,-30.0,-30.0,-30.0,-30.0,-30.0,-30.0,-30.0,-29.104,-29.104,-26.97,-26.97,-25.104,-25.104,-22.97,-22.97,-21.104,-21.104,-18.97,-18.97,-17.104,-17.104,-14.97,-14.97,-13.104,-13.104,-10.97,-10.97,-8.837,-8.837,-6.97,-6.97,-4.837,-4.837,-2.97,-2.97,-0.837,-0.837,1.03,1.03,3.163,3.163,5.03,5.03,7.163,7.163,9.03,9.03,11.163,11.163,13.03,13.03,15.163,15.163,17.03,17.03,19.163,19.163,21.03,21.03,23.163,23.163,25.03,25.03,27.163,27.163,29.03,29.03,31.163,31.163,33.296,33.296,35.163,35.163,37.296,37.296,39.163,39.163,41.296,41.296,43.163,43.163,45.296,45.296,47.43,47.43,49.296,49.296,51.43,51.43,53.296,53.296,55.43,55.43,57.296,57.296,59.43,59.43,59.43,61.296,63.43,63.43,65.296,65.296,65.296,67.43,67.43,69.563,69.563,71.43,71.43,73.563,73.563,75.43,75.43,77.563,77.563,79.43,79.43,81.563,81.563,83.43,83.43,85.563,85.563,87.43,87.43,89.563,89.563,91.43,91.43,93.563,93.563,95.43,95.43,97.563,97.563,99.696,99.696,101.563,101.563,103.696,103.696,105.563,105.563,107.696,107.696,109.563,109.563,111.696,111.696,113.563,113.563,115.696,115.696,117.563,117.563,119.696,119.696,121.83,121.83,123.696,123.696,125.83,125.83,127.696,127.696,129.83,129.83,131.696,131.696,133.83,133.83,135.696,135.696,137.83,137.83,139.963,139.963,141.83,141.83,143.963,143.963,145.83,145.83,147.696,147.696,149.83,149.83,151.963,151.963,153.83,153.83,155.963,155.963,157.83,157.83,159.963,159.963,161.83,161.83,163.963,163.963,165.83,165.83,167.963,167.963,169.83,169.83,171.963,171.963,173.83,173.83,175.963,175.963,177.83,177.83,179.926,179.926],\"xaxis\":\"x\",\"y\":[-4.8,-4.8,-4.8,-4.8,-4.8,-4.8,-4.8,-4.8,-4.8,-4.8,-4.8,-4.8,-4.8,-4.8,-4.8,-4.8,-4.8,-4.8,-4.8,-4.8,-4.8,-4.8,-4.8,-4.8,-4.8,-4.8,-4.8,-4.8,-4.8,-4.8,-4.8,-4.8,-4.8,-4.8,-4.8,-4.8,-4.8,-4.8,-4.8,-4.8,-4.8,-4.8,-4.8,-4.8,-4.8,-4.8,-4.8,-4.8,-4.8,-4.8,-4.8,-4.8,-4.8,-4.8,-4.8,-4.8,-4.8,-4.8,-4.8,-4.8,-4.8,-4.8,-4.8,-4.8,-4.8,-4.8,-4.8,-4.8,-4.8,-4.8,-4.8,-4.8,-4.8,-4.8,-4.8,-4.8,-4.8,-4.8,-4.8,-4.8,-4.8,-4.8,-4.8,-4.8,-4.8,-4.8,-4.8,-4.8,-4.8,-4.8,-4.8,-4.8,-4.8,-4.8,-4.8,-4.8,-4.8,-4.8,-4.8,-4.8,-4.8,-4.8,-4.8,-4.8,-4.8,-4.8,-4.8,-4.8,-4.8,-4.8,-4.8,-4.8,-4.8,-4.8,-4.8,-4.8,-4.8,-4.8,-4.8,-4.8,-4.8,-4.8,-4.8,-4.8,-4.8,-4.8,-4.8,-4.8,-4.8,-4.8,-4.8,-4.8,-4.8,-4.8,-4.8,-4.8,-4.8,-4.8,-4.8,-4.8,-4.8,-4.8,-4.8,-4.8,-4.8,-4.8,-4.8,-4.8,-4.8,-4.8,-4.8,-4.8,-4.8,-4.8,-4.8,-4.8,-4.8,-4.8,-4.8,-4.8,-4.8,-4.8,-4.8,-4.8,-4.8,-4.8,-4.8,-4.8,-4.8,-4.8,-4.8,-4.8,-4.8,-4.8,-4.8,-4.8,-4.8,-4.8,-4.8,-4.8,-4.8,-4.684,-4.684,-3.6,-3.6,-3.6,-3.6,-3.6,-3.6,-3.6,-3.6,-3.6,-3.6,-3.6,-3.6,-3.6,-3.6,-3.6,-3.6,-3.6,-3.6,-3.6,-3.6,-3.6,-3.6,-3.6,-3.6,-3.6,-3.6,-3.6,-3.6,-3.6,-3.6,-3.6,-3.6,-3.6,-3.6,-3.6,-3.6,-3.6,-3.6,-3.6,-3.6,-3.6,-3.6,-3.6,-3.6,-3.6,-3.6,-3.6,-3.6,-3.6,-3.6,-3.6,-3.6,-3.6,-3.6,-3.6,-3.6,-3.6,-3.6,-3.6,-3.6,-3.6,-3.6,-3.6,-3.6,-3.6,-3.6,-3.6,-3.6,-3.6,-3.6,-3.6,-3.6,-3.6,-3.6,-3.6,-3.6,-3.6,-3.6,-3.6,-3.6,-3.6,-3.6,-3.6,-3.6,-3.6,-3.6,-3.6,-3.6,-3.6,-3.6,-3.6,-3.6,-3.6,-3.6,-3.6,-3.6,-3.6,-3.6,-3.6,-3.6,-3.6,-3.6,-3.6,-3.6,-3.6,-3.6,-3.6,-3.6,-3.6,-3.6,-3.6,-3.6,-3.6,-3.6,-3.6,-3.6,-3.6,-3.6,-3.6,-3.6,-3.6,-3.6,-3.6,-3.6,-3.6,-3.6,-3.6,-3.6,-3.6,-3.6,-3.6,-3.6,-3.6,-3.6,-3.6,-3.6,-3.6,-3.6,-3.6,-3.6,-3.6,-3.6,-3.6,-3.6,-3.6,-3.6,-3.6,-3.6,-3.6,-3.6,-3.6,-3.6,-3.6,-3.6,-3.6,-3.6,-3.6,-3.6,-3.6,-3.6,-3.6,-3.6,-3.6,-3.6,-3.6,-3.6,-3.6,-3.6,-3.6,-3.6,-3.6,-3.6,-3.6,-3.6,-3.6,-3.6,-3.6,-3.6,-3.6,-3.6,-3.6,-2.609,-2.609,-2.4,-2.4,-2.4,-2.4,-2.4,-2.4,-2.4,-2.4,-2.4,-2.4,-2.4,-2.4,-2.4,-2.4,-2.4,-2.4,-2.4,-2.4,-2.4,-2.4,-2.4,-2.4,-2.4,-2.4,-2.4,-2.4,-2.4,-2.4,-2.4,-2.4,-2.4,-2.4,-2.4,-2.4,-2.4,-2.4,-2.4,-2.4,-2.4,-2.4,-2.4,-2.4,-2.4,-2.4,-2.4,-2.4,-2.4,-2.4,-2.4,-2.4,-2.4,-2.4,-2.4,-2.4,-2.4,-2.4,-2.4,-2.4,-2.4,-2.4,-2.4,-2.4,-2.4,-2.4,-2.4,-2.4,-2.4,-2.4,-2.4,-2.4,-2.4,-2.4,-2.4,-2.4,-2.4,-2.4,-2.4,-2.4,-2.4,-2.4,-2.4,-2.4,-2.4,-2.4,-2.4,-2.4,-2.4,-2.4,-2.4,-2.4,-2.4,-2.4,-2.4,-2.4,-2.4,-2.4,-2.4,-2.4,-2.4,-2.4,-2.4,-2.4,-2.4,-2.4,-2.4,-2.4,-2.4,-2.4,-2.4,-2.4,-2.4,-2.4,-2.4,-2.4,-2.4,-2.4,-2.4,-2.4,-2.4,-2.4,-2.4,-2.4,-2.4,-2.4,-2.4,-2.4,-2.4,-2.4,-2.4,-2.4,-2.4,-2.4,-2.4,-2.4,-2.4,-2.4,-2.4,-2.4,-2.4,-2.4,-2.4,-2.4,-2.4,-2.4,-2.4,-2.4,-2.4,-2.4,-2.4,-2.4,-2.4,-2.4,-2.4,-2.4,-2.4,-2.4,-2.4,-2.4,-2.4,-2.4,-2.4,-2.4,-2.4,-2.4,-2.4,-2.4,-2.4,-2.4,-2.4,-2.4,-2.4,-2.4,-2.4,-2.4,-2.4,-2.4,-2.4,-2.4,-2.4,-2.4,-2.4,-2.4,-2.4,-2.4,-2.4,-2.4,-2.4,-2.4,-2.4,-2.4,-2.4,-2.4,-2.4,-2.4,-2.4,-2.4,-2.4,-2.4,-2.4,-2.4,-2.4,-2.4,-2.4,-2.4,-2.4,-2.4,-2.4,-2.4,-2.202,-2.202,-1.2,-1.2,-1.2,-1.2,-1.2,-1.2,-1.2,-1.2,-1.2,-1.2,-1.2,-1.2,-1.2,-1.2,-1.2,-1.2,-1.2,-1.2,-1.2,-1.2,-1.2,-1.2,-1.2,-1.2,-1.2,-1.2,-1.2,-1.2,-1.2,-1.2,-1.2,-1.2,-1.2,-1.2,-1.2,-1.2,-1.2,-1.2,-1.2,-1.2,-1.2,-1.2,-1.2,-1.2,-1.2,-1.2,-1.2,-1.2,-1.2,-1.2,-1.2,-1.2,-1.2,-1.2,-1.2,-1.2,-1.2,-1.2,-1.2,-1.2,-1.2,-1.2,-1.2,-1.2,-1.2,-1.2,-1.2,-1.2,-1.2,-1.2,-1.2,-1.2,-1.2,-1.2,-1.2,-1.2,-1.2,-1.2,-1.2,-1.2,-1.2,-1.2,-1.2,-1.2,-1.2,-1.2,-1.2,-1.2,-1.2,-1.2,-1.2,-1.2,-1.2,-1.2,-1.2,-1.2,-1.2,-1.2,-1.2,-1.2,-1.2,-1.2,-1.2,-1.2,-1.2,-1.2,-1.2,-1.2,-1.2,-1.2,-1.2,-1.2,-1.2,-1.2,-1.2,-1.2,-1.2,-1.2,-1.2,-1.2,-1.2,-1.2,-1.2,-1.2,-1.2,-1.2,-1.2,-1.2,-1.2,-1.2,-1.2,-1.2,-1.2,-1.2,-1.2,-1.2,-1.2,-1.2,-1.2,-1.2,-1.2,-1.2,-1.2,-1.2,-1.2,-1.2,-1.2,-1.2,-1.2,-1.2,-1.2,-1.2,-1.2,-1.2,-1.2,-1.2,-1.2,-1.2,-1.2,-1.2,-1.2,-1.2,-1.2,-1.2,-1.2,-1.2,-1.2,-1.2,-1.2,-1.2,-1.2,-1.2,-1.2,-1.2,-1.2,-1.2,-1.2,-1.2,-1.2,-1.2,-1.2,-0.096,-0.096,2.038,2.038,3.904,3.904,5.953,5.953,6.0,6.0,6.0,6.0,6.0,6.0,6.0,6.0,6.0,6.0,6.0,6.0,6.0,6.0,6.0,6.0,6.0,6.0,6.0,6.0,6.0,6.0,6.0,6.0,6.0,6.0,6.0,6.0,6.0,6.0,6.0,6.0,6.0,6.0,6.0,6.0,6.0,6.0,6.0,6.0,6.0,6.0,6.0,6.0,6.0,6.0,6.0,6.0,6.0,6.0,6.0,6.0,6.0,6.0,6.0,6.0,6.0,6.0,6.0,6.0,6.0,6.0,6.0,6.0,6.0,6.0,6.0,6.0,6.0,6.0,6.0,6.0,6.0,6.0,6.0,6.0,6.0,6.0,6.0,6.0,6.0,6.0,6.0,6.0,6.0,6.0,6.0,6.0,6.0,6.0,6.0,6.0,6.0,6.0,6.0,6.0,6.0,6.0,6.0,6.0,6.0,6.0,6.0,6.0,6.0,6.0,6.0,6.0,6.0,6.0,6.0,6.0,6.0,6.0,6.0,6.0,6.0,6.0,6.0,6.0,6.0,6.0,6.0,6.0,6.0,6.0,6.0,6.0,6.0,6.0,6.0,6.0,6.0,6.0,6.0,6.0,6.0,6.0,6.0,6.0,6.0,6.0,6.0,6.0,6.0,6.0,6.0,6.0,6.0,6.0,6.0,6.0,6.0,6.0,6.0,6.0,6.0,6.0,6.0,6.0,6.0,6.0,6.0,6.0,6.0,6.0,6.0,6.0,6.0,6.0,6.0,6.0,6.0,6.0,6.0,6.0,6.0,6.0,6.0,6.083,6.083,8.161,8.161,10.294,10.294,12.161,12.161,13.2,13.2,13.2,13.2,13.2,13.2,13.2,13.2,13.2,13.2,13.2,13.2,13.2,13.2,13.2,13.2,13.2,13.2,13.2,13.2,13.2,13.2,13.2,13.2,13.2,13.2,13.2,13.2,13.2,13.2,13.2,13.2,13.2,13.2,13.2,13.2,13.2,13.2,13.2,13.2,13.2,13.2,13.2,13.2,13.2,13.2,13.2,13.2,13.2,13.2,13.2,13.2,13.2,13.2,13.2,13.2,13.2,13.2,13.2,13.2,13.2,13.2,13.2,13.2,13.2,13.2,13.2,13.2,13.2,13.2,13.2,13.2,13.2,13.2,13.2,13.2,13.2,13.2,13.2,13.2,13.2,13.2,13.2,13.2,13.2,13.2,13.2,13.2,13.2,13.2,13.2,13.2,13.2,13.2,13.2,13.2,13.2,13.2,13.2,13.2,13.2,13.2,13.2,13.2,13.2,13.2,13.2,13.2,13.2,13.2,13.2,13.2,13.2,13.2,13.2,13.2,13.2,13.2,13.2,13.2,13.2,13.2,13.2,13.2,13.2,13.2,13.2,13.2,13.2,13.2,13.2,13.2,13.2,13.2,13.2,13.2,13.2,13.2,13.2,13.2,13.2,13.2,13.2,13.2,13.2,13.2,13.2,13.2,13.2,13.2,13.2,13.2,13.2,13.2,13.2,13.2,13.2,13.2,13.2,13.2,13.2,13.2,13.2,13.2,13.2,13.2,13.2,13.2,13.2,13.2,13.2,13.2,13.2,13.2,13.2,13.2,13.2,13.2,13.2,13.2,13.2,13.2,13.2,13.2,13.2,13.2,13.2,13.2,13.2,13.2,13.2,13.2,13.2,13.2,13.2,13.2,13.2,13.2,13.2,13.2,13.2,13.2,13.2,13.2,13.2,13.2,13.2,13.2,13.2,13.2,14.413,14.413,15.6,15.6,15.6,15.6,15.6,15.6,15.6,15.6,15.6,15.6,15.6,15.6,15.6,15.6,15.6,15.6,15.6,15.6,15.6,15.6,15.6,15.6,15.6,15.6,15.6,15.6,15.6,15.6,15.6,15.6,15.6,15.6,15.6,15.6,15.6,15.6,15.6,15.6,15.6,15.6,15.6,15.6,15.6,15.6,15.6,15.6,15.6,15.6,15.6,15.6,15.6,15.6,15.6,15.6,15.6,15.6,15.6,15.6,15.6,15.6,15.6,15.6,15.6,15.6,15.6,15.6,15.6,15.6,15.6,15.6,15.6,15.6,15.6,15.6,15.6,15.6,15.6,15.6,15.6,15.6,15.6,15.6,15.6,15.6,15.6,15.6,15.6,15.6,15.6,15.6,15.6,15.6,15.6,15.6,15.6,15.6,15.6,15.6,15.6,15.6,15.6,15.6,15.6,15.6,15.6,15.6,15.6,15.6,15.6,15.6,15.6,15.6,15.6,15.6,15.6,15.6,15.6,15.6,15.6,15.6,15.6,15.6,15.6,15.6,15.6,15.6,15.6,15.6,15.6,15.6,15.6,15.6,15.6,15.6,15.6,15.6,15.6,15.6,15.6,15.6,15.6,15.6,15.6,15.6,15.6,15.6,15.6,15.6,15.6,15.6,15.6,15.6,15.6,15.6,15.6,15.6,15.6,15.6,15.6,15.6,15.6,15.6,15.6,15.6,15.6,15.6,15.6,15.6,15.6,15.6,15.6,15.6,15.6,15.6,15.6,15.6,15.6,15.6,15.6,15.6,15.6,16.269,16.269,18.0,18.0,18.0,18.0,18.0,18.0,18.0,18.0,18.0,18.0,18.0,18.0,18.0,18.0,18.0,18.0,18.0,18.0,18.0,18.0,18.0,18.0,18.0,18.0,18.0,18.0,18.0,18.0,18.0,18.0,18.0,18.0,18.0,18.0,18.0,18.0,18.0,18.0,18.0,18.0,18.0,18.0,18.0,18.0,18.0,18.0,18.0,18.0,18.0,18.0,18.0,18.0,18.0,18.0,18.0,18.0,18.0,18.0,18.0,18.0,18.0,18.0,18.0,18.0,18.0,18.0,18.0,18.0,18.0,18.0,18.0,18.0,18.0,18.0,18.0,18.0,18.0,18.0,18.0,18.0,18.0,18.0,18.0,18.0,18.0,18.0,18.0,18.0,18.0,18.0,18.0,18.0,18.0,18.0,18.0,18.0,18.0,18.0,18.0,18.0,18.0,18.0,18.0,18.0,18.0,18.0,18.0,18.0,18.0,18.0,18.0,18.0,18.0,18.0,18.0,18.0,18.0,18.0,18.0,18.0,18.0,18.0,18.0,18.0,18.0,18.0,18.0,18.0,18.0,18.0,18.0,18.0,18.0,18.0,18.0,18.0,18.0,18.0,18.0,18.0,18.0,18.0,18.0,18.0,18.0,18.0,18.0,18.0,18.0,18.0,18.262,18.262,20.327,20.327,20.4,20.4,20.4,20.4,20.4,20.4,20.4,20.4,20.4,20.4,20.4,20.4,20.4,20.4,20.4,20.4,20.4,20.4,20.4,20.4,20.4,20.4,20.4,20.4,20.4,20.4,20.4,20.4,20.4,20.4,20.4,20.4,20.4,20.4,20.4,20.4,20.4,20.4,20.4,20.4,20.4,20.4,20.4,20.4,20.4,20.4,20.4,20.4,20.4,20.4,20.4,20.4,20.4,20.4,20.4,20.4,20.4,20.4,20.4,20.4,20.4,20.4,20.4,20.4,20.4,20.4,20.4,20.4,20.4,20.4,20.4,20.4,20.4,20.4,20.4,20.4,20.4,20.4,20.4,20.4,20.4,20.4,20.4,20.4,20.4,20.4,20.4,20.4,20.4,20.4,20.4,20.4,20.4,20.4,20.4,20.4,20.4,20.4,20.4,20.4,20.4,20.4,20.4,20.4,20.4,20.4,20.4,20.4,20.4,20.4,20.4,20.4,20.4,20.4,20.4,20.4,20.4,20.4,20.4,20.4,20.4,20.4,20.4,20.4,20.4,20.4,20.4,20.4,20.4,20.4,20.4,20.4,20.4,20.4,20.4,20.4,20.4,20.4,20.4,20.4,20.4,20.4,20.4,20.4,20.4,20.4,20.4,20.4,20.4,20.4,20.4,22.378,22.378,22.8,22.8,22.8,22.8,22.8,22.8,22.8,22.8,22.8,22.8,22.8,22.8,22.8,22.8,22.8,22.8,22.8,22.8,22.8,22.8,22.8,22.8,22.8,22.8,22.8,22.8,22.8,22.8,22.8,22.8,22.8,22.8,22.8,22.8,22.8,22.8,22.8,22.8,22.8,22.8,22.8,22.8,22.8,22.8,22.8,22.8,22.8,22.8,22.8,22.8,22.8,22.8,22.8,22.8,22.8,22.8,22.8,22.8,22.8,22.8,22.8,22.8,22.8,22.8,22.8,22.8,22.8,22.8,22.8,22.8,22.8,22.8,22.8,22.8,22.8,22.8,22.8,22.8,22.8,22.8,22.8,22.8,22.8,22.8,22.8,22.8,22.8,22.8,22.8,22.8,22.8,22.8,22.8,22.8,22.8,22.8,22.8,22.8,22.8,22.8,22.8,22.8,22.8,22.8,22.8,22.8,22.8,22.8,22.8,22.8,22.8,22.8,22.8,22.8,22.8,22.8,22.8,22.8,22.8,22.8,22.8,22.8,22.8,22.8,22.8,22.8,22.8,22.8,22.8,22.8,22.8,22.8,22.8,22.8,22.8,22.8,22.8,22.8,22.8,22.8,22.8,22.8,22.8,22.8,22.8,22.8,22.8,22.8,22.8,22.8,22.8,22.8,22.8,22.8,22.8,22.8,22.8,22.8,22.8,22.8,24.235,24.235,26.368,26.368,28.235,28.235,30.368,30.368,31.2,31.2,31.2,31.2,31.2,31.2,31.2,31.2,31.2,31.2,31.2,31.2,31.2,31.2,31.2,31.2,31.2,31.2,31.2,31.2,31.2,31.2,31.2,31.2,31.2,31.2,31.2,31.2,31.2,31.2,31.2,31.2,31.2,31.2,31.2,31.2,31.2,31.2,31.2,31.2,31.2,31.2,31.2,31.2,31.2,31.2,31.2,31.2,31.2,31.2,31.2,31.2,31.2,31.2,31.2,31.2,31.2,31.2,31.2,31.2,31.2,31.2,31.2,31.2,31.2,31.2,31.2,31.2,31.2,31.2,31.2,31.2,31.2,31.2,31.2,31.2,31.2,31.2,31.2,31.2,31.2,31.2,31.2,31.2,31.2,31.2,31.2,31.2,31.2,31.2,31.2,31.2,31.2,31.2,31.2,31.2,31.2,31.2,31.2,31.2,31.2,31.2,31.2,31.2,31.2,31.2,31.2,31.2,31.2,31.2,31.2,31.2,31.2,31.2,31.2,31.2,31.2,31.2,31.2,31.2,31.2,31.2,31.2,31.2,31.2,31.2,31.2,31.2,31.2,31.2,31.2,31.2,31.2,31.2,31.2,31.2,31.2,31.2,31.2,31.2,31.2,31.2,31.2,31.2,31.2,31.2,31.2,31.2,31.2,31.2,31.2,31.2,31.2,31.2,31.2,31.2,31.2,31.2,31.2,31.2,31.2,31.2,31.2,31.2,31.2,31.2,31.2,31.2,31.2,31.2,31.2,32.887,32.887,35.02,35.02,36.887,36.887,39.02,39.02,39.6,39.6,39.6,39.6,39.6,39.6,39.6,39.6,39.6,39.6,39.6,39.6,39.6,39.6,39.6,39.6,39.6,39.6,39.6,39.6,39.6,39.6,39.6,39.6,39.6,39.6,39.6,39.6,39.6,39.6,39.6,39.6,39.6,39.6,39.6,39.6,39.6,39.6,39.6,39.6,39.6,39.6,39.6,39.6,39.6,39.6,39.6,39.6,39.6,39.6,39.6,39.6,39.6,39.6,39.6,39.6,39.6,39.6,39.6,39.6,39.6,39.6,39.6,39.6,39.6,39.6,39.6,39.6,39.6,39.6,39.6,39.6,39.6,39.6,39.6,39.6,39.6,39.6,39.6,39.6,39.6,39.6,39.6,39.6,39.6,39.6,39.6,39.6,39.6,39.6,39.6,39.6,39.6,39.6,39.6,39.6,39.6,39.6,39.6,39.6,39.6,39.6,39.6,39.6,39.6,39.6,39.6,39.6,39.6,39.6,39.6,39.6,39.6,39.6,39.6,39.6,39.6,39.6,39.6,39.6,39.6,39.6,39.6,39.6,39.6,39.6,39.6,39.6,39.6,39.6,39.6,39.6,39.6,39.6,39.6,39.6,39.6,39.6,39.6,39.6,39.6,39.6,39.6,39.6,39.6,39.6,39.6,39.6,39.6,39.6,39.6,39.6,39.6,39.6,39.6,39.6,39.6,39.6,39.6,39.6,39.6,39.6,39.6,39.6,39.6,39.6,39.6,39.6,39.6,39.6,39.6,39.6,39.6,39.6,39.6,39.6,39.6,39.6,39.6,39.6,39.6,41.41,41.41,43.171,43.171,43.2,43.2,43.2,43.2,43.2,43.2,43.2,43.2,43.2,43.2,43.2,43.2,43.2,43.2,43.2,43.2,43.2,43.2,43.2,43.2,43.2,43.2,43.2,43.2,43.2,43.2,43.2,43.2,43.2,43.2,43.2,43.2,43.2,43.2,43.2,43.2,43.2,43.2,43.2,43.2,43.2,43.2,43.2,43.2,43.2,43.2,43.2,43.2,43.2,43.2,43.2,43.2,43.2,43.2,43.2,43.2,43.2,43.2,43.2,43.2,43.2,43.2,43.2,43.2,43.2,43.2,43.2,43.2,43.2,43.2,43.2,43.2,43.2,43.2,43.2,43.2,43.2,43.2,43.2,43.2,43.2,43.2,43.2,43.2,43.2,43.2,43.2,43.2,43.2,43.2,43.2,43.2,43.2,43.2,43.2,43.2,43.2,43.2,43.2,43.2,43.2,43.2,43.2,43.2,43.2,43.2,43.2,43.2,43.2,43.2,43.2,43.2,43.2,43.2,43.2,43.2,43.2,43.2,43.2,43.2,43.2,43.2,43.2,43.2,43.2,43.2,43.2,43.2,43.2,43.2,43.2,43.2,43.2,43.2,43.2,43.2,43.2,43.2,43.2,43.2,43.2,43.2,43.2,43.2,43.2,43.2,43.2,43.2,43.2,43.2,43.2,43.2,43.2,43.2,43.2,43.2,43.2,43.2,43.2,43.2,43.2,43.2,43.2,43.2,43.2,43.2,43.2,43.2,43.2,43.406,43.406,45.529,45.529,46.8,46.8,46.8,46.8,46.8,46.8,46.8,46.8,46.8,46.8,46.8,46.8,46.8,46.8,46.8,46.8,46.8,46.8,46.8,46.8,46.8,46.8,46.8,46.8,46.8,46.8,46.8,46.8,46.8,46.8,46.8,46.8,46.8,46.8,46.8,46.8,46.8,46.8,46.8,46.8,46.8,46.8,46.8,46.8,46.8,46.8,46.8,46.8,46.8,46.8,46.8,46.8,46.8,46.8,46.8,46.8,46.8,46.8,46.8,46.8,46.8,46.8,46.8,46.8,46.8,46.8,46.8,46.8,46.8,46.8,46.8,46.8,46.8,46.8,46.8,46.8,46.8,46.8,46.8,46.8,46.8,46.8,46.8,46.8,46.8,46.8,46.8,46.8,46.8,46.8,46.8,46.8,46.8,46.8,46.8,46.8,46.8,46.8,46.8,46.8,46.8,46.8,46.8,46.8,46.8,46.8,46.8,46.8,46.8,46.8,46.8,46.8,46.8,46.8,46.8,46.8,46.8,46.8,46.8,46.8,46.8,46.8,46.8,46.8,46.8,46.8,46.8,46.8,46.8,46.8,46.8,46.8,46.8,46.8,46.8,46.8,46.8,46.8,46.8,46.8,46.8,46.8,46.8,46.8,46.8,46.8,46.8,46.8,46.8,46.8,47.519,47.519,49.653,49.653,50.4,50.4,50.4,50.4,50.4,50.4,50.4,50.4,50.4,50.4,50.4,50.4,50.4,50.4,50.4,50.4,50.4,50.4,50.4,50.4,50.4,50.4,50.4,50.4,50.4,50.4,50.4,50.4,50.4,50.4,50.4,50.4,50.4,50.4,50.4,50.4,50.4,50.4,50.4,50.4,50.4,50.4,50.4,50.4,50.4,50.4,50.4,50.4,50.4,50.4,50.4,50.4,50.4,50.4,50.4,50.4,50.4,50.4,50.4,50.4,50.4,50.4,50.4,50.4,50.4,50.4,50.4,50.4,50.4,50.4,50.4,50.4,50.4,50.4,50.4,50.4,50.4,50.4,50.4,50.4,50.4,50.4,50.4,50.4,50.4,50.4,50.4,50.4,50.4,50.4,50.4,50.4,50.4,50.4,50.4,50.4,50.4,50.4,50.4,50.4,50.4,50.4,50.4,50.4,50.4,50.4,50.4,50.4,50.4,50.4,50.4,50.4,50.4,50.4,50.4,50.4,50.4,50.4,50.4,50.4,50.4,50.4,50.4,50.4,50.4,50.4,50.4,50.4,50.4,50.4,50.4,50.4,50.4,50.4,50.4,50.4,50.4,50.4,50.4,50.4,50.4,50.4,50.4,50.4,50.4,50.4,50.4,50.4,50.4,50.4,50.4,50.4,50.4,50.4,50.4,50.4,50.4,50.4,50.4,50.4,50.4,50.4,50.4,50.4,50.4,50.4,50.4,50.4,50.4,50.4,50.4,52.17,52.17,53.952,53.952,54.0,54.0,54.0,54.0,54.0,54.0,54.0,54.0,54.0,54.0,54.0,54.0,54.0,54.0,54.0,54.0,54.0,54.0,54.0,54.0,54.0,54.0,54.0,54.0,54.0,54.0,54.0,54.0,54.0,54.0,54.0,54.0,54.0,54.0,54.0,54.0,54.0,54.0,54.0,54.0,54.0,54.0,54.0,54.0,54.0,54.0,54.0,54.0,54.0,54.0,54.0,54.0,54.0,54.0,54.0,54.0,54.0,54.0,54.0,54.0,54.0,54.0,54.0,54.0,54.0,54.0,54.0,54.0,54.0,54.0,54.0,54.0,54.0,54.0,54.0,54.0,54.0,54.0,54.0,54.0,54.0,54.0,54.0,54.0,54.0,54.0,54.0,54.0,54.0,54.0,54.0,54.0,54.0,54.0,54.0,54.0,54.0,54.0,54.0,54.0,54.0,54.0,54.0,54.0,54.0,54.0,54.0,54.0,54.0,54.0,54.0,54.0,54.0,54.0,54.0,54.0,54.0,54.0,54.0,54.0,54.0,54.0,54.0,54.0,54.0,54.0,54.0,54.0,54.0,54.0,54.0,54.0,54.0,54.0,54.0,54.0,54.0,54.0,54.0,54.0,54.0,54.0,54.0,54.0,54.0,54.0,54.0,54.0,54.0,54.0,54.0,54.0,54.0,54.0,54.0,54.0,54.0,54.0,54.0,54.0,54.0,54.0,54.0,54.0,54.0,54.0,54.0,54.0,54.177,54.177,56.027,56.027,58.16,58.16,60.294,60.294,62.16,62.16,62.16,63.6,63.6,63.6,63.6,63.6,63.6,63.6,63.6,63.6,63.6,63.6,63.6,63.6,63.6,63.6,63.6,63.6,63.6,63.6,63.6,63.6,63.6,63.6,63.6,63.6,63.6,63.6,63.6,63.6,63.6,63.6,63.6,63.6,63.6,63.6,63.6,63.6,63.6,63.6,63.6,63.6,63.6,63.6,63.6,63.6,63.6,63.6,63.6,63.6,63.6,63.6,63.6,63.6,63.6,63.6,63.6,63.6,63.6,63.6,63.6,63.6,63.6,63.6,63.6,63.6,63.6,63.6,63.6,63.6,63.6,63.6,63.6,63.6,63.6,63.6,63.6,63.6,63.6,63.6,63.6,63.6,63.6,63.6,63.6,63.6,63.6,63.6,63.6,63.6,63.6,63.6,63.6,63.6,63.6,63.6,63.6,63.6,63.6,63.6,63.6,63.6,63.6,63.6,63.6,63.6,63.6,63.6,63.6,63.6,63.6,63.6,63.6,63.6,63.6,63.6,63.6,63.6,63.6,63.6,63.6,63.6,63.6,63.6,63.6,63.6,63.6,63.6,63.6,63.6,63.6,63.6,63.6,63.6,63.6,63.6,63.6,63.6,63.6,63.6,63.6,63.6,63.6,63.6,63.6,63.6,63.6,63.6,63.6,63.6,63.6,64.146,64.146,66.013,66.013,68.146,68.146,70.013,70.013,72.146,72.146,73.2,73.2,73.2,73.2,73.2,73.2,73.2,73.2,73.2,73.2,73.2,73.2,73.2,73.2,73.2,73.2,73.2,73.2,73.2,73.2,73.2,73.2,73.2,73.2,73.2,73.2,73.2,73.2,73.2,73.2,73.2,73.2,73.2,73.2,73.2,73.2,73.2,73.2,73.2,73.2,73.2,73.2,73.2,73.2,73.2,73.2,73.2,73.2,73.2,73.2,73.2,73.2,73.2,73.2,73.2,73.2,73.2,73.2,73.2,73.2,73.2,73.2,73.2,73.2,73.2,73.2,73.2,73.2,73.2,73.2,73.2,73.2,73.2,73.2,73.2,73.2,73.2,73.2,73.2,73.2,73.2,73.2,73.2,73.2,73.2,73.2,73.2,73.2,73.2,73.2,73.2,73.2,73.2,73.2,73.2,73.2,73.2,73.2,73.2,73.2,73.2,73.2,73.2,73.2,73.2,73.2,73.2,73.2,73.2,73.2,73.2,73.2,73.2,73.2,73.2,73.2,73.2,73.2,73.2,73.2,73.2,73.2,73.2,73.2,73.2,73.2,73.2,73.2,73.2,73.2,73.2,73.2,73.2,73.2,73.2,73.2,73.2,73.2,73.2,73.2,73.2,73.2,73.2,73.2,73.2,73.2,73.2,73.2,73.2,73.2,73.2,73.2,73.2,73.2,73.2,73.2,73.2,73.2,73.2,73.2,73.2,73.2,73.2,73.2,73.2,73.31,73.31,75.403,75.403,77.269,77.269,78.0,78.0,78.0,78.0,78.0,78.0,78.0,78.0,78.0,78.0,78.0,78.0,78.0,78.0,78.0,78.0,78.0,78.0,78.0,78.0,78.0,78.0,78.0,78.0,78.0,78.0,78.0,78.0,78.0,78.0,78.0,78.0,78.0,78.0,78.0,78.0,78.0,78.0,78.0,78.0,78.0,78.0,78.0,78.0,78.0,78.0,78.0,78.0,78.0,78.0,78.0,78.0,78.0,78.0,78.0,78.0,78.0,78.0,78.0,78.0,78.0,78.0,78.0,78.0,78.0,78.0,78.0,78.0,78.0,78.0,78.0,78.0,78.0,78.0,78.0,78.0,78.0,78.0,78.0,78.0,78.0,78.0,78.0,78.0,78.0,78.0,78.0,78.0,78.0,78.0,78.0,78.0,78.0,78.0,78.0,78.0,78.0,78.0,78.0,78.0,78.0,78.0,78.0,78.0,78.0,78.0,78.0,78.0,78.0,78.0,78.0,78.0,78.0,78.0,78.0,78.0,78.0,78.0,78.0,78.0,78.0,78.0,78.0,78.0,78.0,78.0,78.0,78.0,78.0,78.0,78.0,78.0,78.0,78.0,78.0,78.0,78.0,78.0,78.0,78.0,78.0,78.0,78.0,78.0,78.0,78.0,78.0,78.0,78.0,78.0,78.0,78.0,78.0,78.0,78.0,78.0,78.0,78.0,78.0,78.0,78.0,78.0,78.0,78.0,78.0,78.0,78.0,78.0,78.0,78.0,78.0,78.0,78.393,78.393,80.526,80.526,82.393,82.393,82.8,82.8,82.8,82.8,82.8,82.8,82.8,82.8,82.8,82.8,82.8,82.8,82.8,82.8,82.8,82.8,82.8,82.8,82.8,82.8,82.8,82.8,82.8,82.8,82.8,82.8,82.8,82.8,82.8,82.8,82.8,82.8,82.8,82.8,82.8,82.8,82.8,82.8,82.8,82.8,82.8,82.8,82.8,82.8,82.8,82.8,82.8,82.8,82.8,82.8,82.8,82.8,82.8,82.8,82.8,82.8,82.8,82.8,82.8,82.8,82.8,82.8,82.8,82.8,82.8,82.8,82.8,82.8,82.8,82.8,82.8,82.8,82.8,82.8,82.8,82.8,82.8,82.8,82.8,82.8,82.8,82.8,82.8,82.8,82.8,82.8,82.8,82.8,82.8,82.8,82.8,82.8,82.8,82.8,82.8,82.8,82.8,82.8,82.8,82.8,82.8,82.8,82.8,82.8,82.8,82.8,82.8,82.8,82.8,82.8,82.8,82.8,82.8,82.8,82.8,82.8,82.8,82.8,82.8,82.8,82.8,82.8,82.8,82.8,82.8,82.8,82.8,82.8,82.8,82.8,82.8,82.8,82.8,82.8,82.8,82.8,82.8,82.8,82.8,82.8,82.8,82.8,82.8,82.8,82.8,82.8,82.8,82.8,82.8,82.8,82.8,82.8,82.8,82.8,82.8,82.8,82.8,82.8,82.8,84.645,84.645,86.511,86.511,88.645,88.645,90.778,90.778,92.645,92.645,93.6,93.6,93.6,93.6,93.6,93.6,93.6,93.6,93.6,93.6,93.6,93.6,93.6,93.6,93.6,93.6,93.6,93.6,93.6,93.6,93.6,93.6,93.6,93.6,93.6,93.6,93.6,93.6,93.6,93.6,93.6,93.6,93.6,93.6,93.6,93.6,93.6,93.6,93.6,93.6,93.6,93.6,93.6,93.6,93.6,93.6,93.6,93.6,93.6,93.6,93.6,93.6,93.6,93.6,93.6,93.6,93.6,93.6,93.6,93.6,93.6,93.6,93.6,93.6,93.6,93.6,93.6,93.6,93.6,93.6,93.6,93.6,93.6,93.6,93.6,93.6,93.6,93.6,93.6,93.6,93.6,93.6,93.6,93.6,93.6,93.6,93.6,93.6,93.6,93.6,93.6,93.6,93.6,93.6,93.6,93.6,93.6,93.6,93.6,93.6,93.6,93.6,93.6,93.6,93.6,93.6,93.6,93.6,93.6,93.6,93.6,93.6,93.6,93.6,93.6,93.6,93.6,93.6,93.6,93.6,93.6,93.6,93.6,93.6,93.6,93.6,93.6,93.6,93.6,93.6,93.6,93.6,93.6,93.6,93.6,93.6,93.6,93.6,93.6,93.6,93.6,93.6,93.6,93.6,93.6,93.6,93.6,93.6,93.6,93.6,93.6,93.6,93.6,93.6,93.6,93.6,93.6,93.6,93.6,93.6,93.6,93.6,93.6,93.6,93.6,93.6,93.6,93.6,93.6,93.6,93.6,93.6,93.6,93.6,93.6,93.6,93.6,93.6,93.6,93.6,93.6,95.035,95.035,97.168,97.168,99.035,99.035,101.168,101.168,103.035,103.035,104.4,104.4,104.4,104.4,104.4,104.4,104.4,104.4,104.4,104.4,104.4,104.4,104.4,104.4,104.4,104.4,104.4,104.4,104.4,104.4,104.4,104.4,104.4,104.4,104.4,104.4,104.4,104.4,104.4,104.4,104.4,104.4,104.4,104.4,104.4,104.4,104.4,104.4,104.4,104.4,104.4,104.4,104.4,104.4,104.4,104.4,104.4,104.4,104.4,104.4,104.4,104.4,104.4,104.4,104.4,104.4,104.4,104.4,104.4,104.4,104.4,104.4,104.4,104.4,104.4,104.4,104.4,104.4,104.4,104.4,104.4,104.4,104.4,104.4,104.4,104.4,104.4,104.4,104.4,104.4,104.4,104.4,104.4,104.4,104.4,104.4,104.4,104.4,104.4,104.4,104.4,104.4,104.4,104.4,104.4,104.4,104.4,104.4,104.4,104.4,104.4,104.4,104.4,104.4,104.4,104.4,104.4,104.4,104.4,104.4,104.4,104.4,104.4,104.4,104.4,104.4,104.4,104.4,104.4,104.4,104.4,104.4,104.4,104.4,104.4,104.4,104.4,104.4,104.4,104.4,104.4,104.4,104.4,104.4,104.4,104.4,104.4,104.4,104.4,104.4,104.4,104.4,104.4,104.4,104.4,104.4,104.4,104.4,104.4,104.4,104.4,104.4,104.4,104.4,104.4,104.4,104.4,104.4,104.4,104.4,104.4,104.4,104.4,104.4,104.4,104.4,104.4,104.4,104.4,104.4,104.4,104.4,104.4,104.4,104.4,104.4,104.4,104.4,104.4,104.4,104.4,105.42,105.42,107.554,107.554,109.42,109.42,110.4,110.4,110.4,110.4,110.4,110.4,110.4,110.4,110.4,110.4,110.4,110.4,110.4,110.4,110.4,110.4,110.4,110.4,110.4,110.4,110.4,110.4,110.4,110.4,110.4,110.4,110.4,110.4,110.4,110.4,110.4,110.4,110.4,110.4,110.4,110.4,110.4,110.4,110.4,110.4,110.4,110.4,110.4,110.4,110.4,110.4,110.4,110.4,110.4,110.4,110.4,110.4,110.4,110.4,110.4,110.4,110.4,110.4,110.4,110.4,110.4,110.4,110.4,110.4,110.4,110.4,110.4,110.4,110.4,110.4,110.4,110.4,110.4,110.4,110.4,110.4,110.4,110.4,110.4,110.4,110.4,110.4,110.4,110.4,110.4,110.4,110.4,110.4,110.4,110.4,110.4,110.4,110.4,110.4,110.4,110.4,110.4,110.4,110.4,110.4,110.4,110.4,110.4,110.4,110.4,110.4,110.4,110.4,110.4,110.4,110.4,110.4,110.4,110.4,110.4,110.4,110.4,110.4,110.4,110.4,110.4,110.4,110.4,110.4,110.4,110.4,110.4,110.4,110.4,110.4,110.4,110.4,110.4,110.4,110.4,110.4,110.4,110.4,110.4,110.4,110.4,110.4,110.4,110.4,110.4,110.4,110.4,110.4,110.4,110.4,110.4,111.944,111.944,113.81,113.81,115.944,115.944,116.4,116.4,116.4,116.4,116.4,116.4,116.4,116.4,116.4,116.4,116.4,116.4,116.4,116.4,116.4,116.4,116.4,116.4,116.4,116.4,116.4,116.4,116.4,116.4,116.4,116.4,116.4,116.4,116.4,116.4,116.4,116.4,116.4,116.4,116.4,116.4,116.4,116.4,116.4,116.4,116.4,116.4,116.4,116.4,116.4,116.4,116.4,116.4,116.4,116.4,116.4,116.4,116.4,116.4,116.4,116.4,116.4,116.4,116.4,116.4,116.4,116.4,116.4,116.4,116.4,116.4,116.4,116.4,116.4,116.4,116.4,116.4,116.4,116.4,116.4,116.4,116.4,116.4,116.4,116.4,116.4,116.4,116.4,116.4,116.4,116.4,116.4,116.4,116.4,116.4,116.4,116.4,116.4,116.4,116.4,116.4,116.4,116.4,116.4,116.4,116.4,116.4,116.4,116.4,116.4,116.4,116.4,116.4,116.4,116.4,116.4,116.4,116.4,116.4,116.4,116.4,116.4,116.4,116.4,116.4,116.4,116.4,116.4,116.4,116.4,116.4,116.4,116.4,116.4,116.4,116.4,116.4,116.4,116.4,116.4,116.4,116.4,116.4,116.4,116.4,116.4,116.4,116.4,116.4,116.4,116.4,116.4,116.4,116.4,116.4,117.663,117.663,119.796,119.796,121.663,121.663,123.796,123.796,125.663,125.663,127.4,127.4,127.4,127.4,127.4,127.4,127.4,127.4,127.4,127.4,127.4,127.4,127.4,127.4,127.4,127.4,127.4,127.4,127.4,127.4,127.4,127.4,127.4,127.4,127.4,127.4,127.4,127.4,127.4,127.4,127.4,127.4,127.4,127.4,127.4,127.4,127.4,127.4,127.4,127.4,127.4,127.4,127.4,127.4,127.4,127.4,127.4,127.4,127.4,127.4,127.4,127.4,127.4,127.4,127.4,127.4,127.4,127.4,127.4,127.4,127.4,127.4,127.4,127.4,127.4,127.4,127.4,127.4,127.4,127.4,127.4,127.4,127.4,127.4,127.4,127.4,127.4,127.4,127.4,127.4,127.4,127.4,127.4,127.4,127.4,127.4,127.4,127.4,127.4,127.4,127.4,127.4,127.4,127.4,127.4,127.4,127.4,127.4,127.4,127.4,127.4,127.4,127.4,127.4,127.4,127.4,127.4,127.4,127.4,127.4,127.4,127.4,127.4,127.4,127.4,127.4,127.4,127.4,127.4,127.4,127.4,127.4,127.4,127.4,127.4,127.4,127.4,127.4,127.4,127.4,127.4,127.4,127.4,127.4,127.4,127.4,127.4,127.4,127.4,127.4,127.4,127.4,127.4,127.4,127.4,127.4,127.4,127.4,127.4,127.4,127.4,127.4,127.4,127.4,127.4,127.4,127.4,127.4,127.4,127.4,127.4,127.4,127.4,127.4,127.4,127.4,127.4,127.4,127.4,127.4,127.4,127.4,127.4,127.4,127.4,127.4,127.4,127.4,127.4,127.4,127.4,128.051,128.051,129.918,129.918,132.051,132.051,133.918,133.918,136.051,136.051,137.918,137.918,138.4,138.4,138.4,138.4,138.4,138.4,138.4,138.4,138.4,138.4,138.4,138.4,138.4,138.4,138.4,138.4,138.4,138.4,138.4,138.4,138.4,138.4,138.4,138.4,138.4,138.4,138.4,138.4,138.4,138.4,138.4,138.4,138.4,138.4,138.4,138.4,138.4,138.4,138.4,138.4,138.4,138.4,138.4,138.4,138.4,138.4,138.4,138.4,138.4,138.4,138.4,138.4,138.4,138.4,138.4,138.4,138.4,138.4,138.4,138.4,138.4,138.4,138.4,138.4,138.4,138.4,138.4,138.4,138.4,138.4,138.4,138.4,138.4,138.4,138.4,138.4,138.4,138.4,138.4,138.4,138.4,138.4,138.4,138.4,138.4,138.4,138.4,138.4,138.4,138.4,138.4,138.4,138.4,138.4,138.4,138.4,138.4,138.4,138.4,138.4,138.4,138.4,138.4,138.4,138.4,138.4,138.4,138.4,138.4,138.4,138.4,138.4,138.4,138.4,138.4,138.4,138.4,138.4,138.4,138.4,138.4,138.4,138.4,138.4,138.4,138.4,138.4,138.4,138.4,138.4,138.4,138.4,138.4,138.4,138.4,138.4,138.4,138.4,138.4,138.4,138.4,138.4,138.4,138.4,138.4,138.4,138.4,138.4,138.4,138.4,138.4,138.4,138.4,138.4,138.4,138.4,138.4,138.4,138.4,138.4,138.4,138.4,138.4,138.4,138.4,138.4,138.4,138.4,138.4,138.4,138.4,138.4,138.4,138.4,138.4,138.4,138.4,138.4,138.4,138.4,138.4,138.4,138.4,138.4,138.4,138.4,138.4,138.4,138.4,138.4,138.4,138.4,138.4,138.4,138.4,138.4,138.4,138.4,138.4,138.4,138.4,138.4,138.4,138.4,138.4,138.4,138.4,138.4,138.4,138.585,138.585,140.437,140.437,142.57,142.57,144.703,144.703,146.57,146.57,148.703,148.703,149.4,149.4,149.4,149.4,149.4,149.4,149.4,149.4,149.4,149.4,149.4,149.4,149.4,149.4,149.4,149.4,149.4,149.4,149.4,149.4,149.4,149.4,149.4,149.4,149.4,149.4,149.4,149.4,149.4,149.4,149.4,149.4,149.4,149.4,149.4,149.4,149.4,149.4,149.4,149.4,149.4,149.4,149.4,149.4,149.4,149.4,149.4,149.4,149.4,149.4,149.4,149.4,149.4,149.4,149.4,149.4,149.4,149.4,149.4,149.4,149.4,149.4,149.4,149.4,149.4,149.4,149.4,149.4,149.4,149.4,149.4,149.4,149.4,149.4,149.4,149.4,149.4,149.4,149.4,149.4,149.4,149.4,149.4,149.4,149.4,149.4,149.4,149.4,149.4,149.4,149.4,149.4,149.4,149.4,149.4,149.4,149.4,149.4,149.4,149.4,149.4,149.4,149.4,149.4,149.4,149.4,149.4,149.4,149.4,149.4,149.4,149.4,149.4,149.4,149.4,149.4,149.4,149.4,149.4,149.4,149.4,149.4,149.4,149.4,149.4,149.4,149.4,149.4,149.4,149.4,149.4,149.4,149.4,149.4,149.4,149.4,149.4,149.4,149.4,149.4,149.4,149.4,149.4,149.4,149.4,149.4,149.4,149.4,149.4,149.4,149.4,149.4,149.4,149.4,149.4,149.4,149.4,149.4,149.4,149.4,149.4,149.4,149.4,149.4,149.4,149.4,149.4,149.4,149.4,149.4,149.4,149.4,149.4,149.4,149.4,149.4,149.4,149.4,149.4,149.4,149.4,149.4,149.4,149.4,149.4,149.4,149.4,149.4,149.4,149.4,149.4,149.4,149.4,149.4,149.4,149.4,149.4,149.4,149.4,149.4,149.4,149.4,149.4,149.4,149.4,149.4,149.4,149.4,149.4,149.4,149.4],\"yaxis\":\"y\",\"type\":\"scattergl\"}],                        {\"template\":{\"data\":{\"bar\":[{\"error_x\":{\"color\":\"#2a3f5f\"},\"error_y\":{\"color\":\"#2a3f5f\"},\"marker\":{\"line\":{\"color\":\"#E5ECF6\",\"width\":0.5},\"pattern\":{\"fillmode\":\"overlay\",\"size\":10,\"solidity\":0.2}},\"type\":\"bar\"}],\"barpolar\":[{\"marker\":{\"line\":{\"color\":\"#E5ECF6\",\"width\":0.5},\"pattern\":{\"fillmode\":\"overlay\",\"size\":10,\"solidity\":0.2}},\"type\":\"barpolar\"}],\"carpet\":[{\"aaxis\":{\"endlinecolor\":\"#2a3f5f\",\"gridcolor\":\"white\",\"linecolor\":\"white\",\"minorgridcolor\":\"white\",\"startlinecolor\":\"#2a3f5f\"},\"baxis\":{\"endlinecolor\":\"#2a3f5f\",\"gridcolor\":\"white\",\"linecolor\":\"white\",\"minorgridcolor\":\"white\",\"startlinecolor\":\"#2a3f5f\"},\"type\":\"carpet\"}],\"choropleth\":[{\"colorbar\":{\"outlinewidth\":0,\"ticks\":\"\"},\"type\":\"choropleth\"}],\"contour\":[{\"colorbar\":{\"outlinewidth\":0,\"ticks\":\"\"},\"colorscale\":[[0.0,\"#0d0887\"],[0.1111111111111111,\"#46039f\"],[0.2222222222222222,\"#7201a8\"],[0.3333333333333333,\"#9c179e\"],[0.4444444444444444,\"#bd3786\"],[0.5555555555555556,\"#d8576b\"],[0.6666666666666666,\"#ed7953\"],[0.7777777777777778,\"#fb9f3a\"],[0.8888888888888888,\"#fdca26\"],[1.0,\"#f0f921\"]],\"type\":\"contour\"}],\"contourcarpet\":[{\"colorbar\":{\"outlinewidth\":0,\"ticks\":\"\"},\"type\":\"contourcarpet\"}],\"heatmap\":[{\"colorbar\":{\"outlinewidth\":0,\"ticks\":\"\"},\"colorscale\":[[0.0,\"#0d0887\"],[0.1111111111111111,\"#46039f\"],[0.2222222222222222,\"#7201a8\"],[0.3333333333333333,\"#9c179e\"],[0.4444444444444444,\"#bd3786\"],[0.5555555555555556,\"#d8576b\"],[0.6666666666666666,\"#ed7953\"],[0.7777777777777778,\"#fb9f3a\"],[0.8888888888888888,\"#fdca26\"],[1.0,\"#f0f921\"]],\"type\":\"heatmap\"}],\"heatmapgl\":[{\"colorbar\":{\"outlinewidth\":0,\"ticks\":\"\"},\"colorscale\":[[0.0,\"#0d0887\"],[0.1111111111111111,\"#46039f\"],[0.2222222222222222,\"#7201a8\"],[0.3333333333333333,\"#9c179e\"],[0.4444444444444444,\"#bd3786\"],[0.5555555555555556,\"#d8576b\"],[0.6666666666666666,\"#ed7953\"],[0.7777777777777778,\"#fb9f3a\"],[0.8888888888888888,\"#fdca26\"],[1.0,\"#f0f921\"]],\"type\":\"heatmapgl\"}],\"histogram\":[{\"marker\":{\"pattern\":{\"fillmode\":\"overlay\",\"size\":10,\"solidity\":0.2}},\"type\":\"histogram\"}],\"histogram2d\":[{\"colorbar\":{\"outlinewidth\":0,\"ticks\":\"\"},\"colorscale\":[[0.0,\"#0d0887\"],[0.1111111111111111,\"#46039f\"],[0.2222222222222222,\"#7201a8\"],[0.3333333333333333,\"#9c179e\"],[0.4444444444444444,\"#bd3786\"],[0.5555555555555556,\"#d8576b\"],[0.6666666666666666,\"#ed7953\"],[0.7777777777777778,\"#fb9f3a\"],[0.8888888888888888,\"#fdca26\"],[1.0,\"#f0f921\"]],\"type\":\"histogram2d\"}],\"histogram2dcontour\":[{\"colorbar\":{\"outlinewidth\":0,\"ticks\":\"\"},\"colorscale\":[[0.0,\"#0d0887\"],[0.1111111111111111,\"#46039f\"],[0.2222222222222222,\"#7201a8\"],[0.3333333333333333,\"#9c179e\"],[0.4444444444444444,\"#bd3786\"],[0.5555555555555556,\"#d8576b\"],[0.6666666666666666,\"#ed7953\"],[0.7777777777777778,\"#fb9f3a\"],[0.8888888888888888,\"#fdca26\"],[1.0,\"#f0f921\"]],\"type\":\"histogram2dcontour\"}],\"mesh3d\":[{\"colorbar\":{\"outlinewidth\":0,\"ticks\":\"\"},\"type\":\"mesh3d\"}],\"parcoords\":[{\"line\":{\"colorbar\":{\"outlinewidth\":0,\"ticks\":\"\"}},\"type\":\"parcoords\"}],\"pie\":[{\"automargin\":true,\"type\":\"pie\"}],\"scatter\":[{\"marker\":{\"colorbar\":{\"outlinewidth\":0,\"ticks\":\"\"}},\"type\":\"scatter\"}],\"scatter3d\":[{\"line\":{\"colorbar\":{\"outlinewidth\":0,\"ticks\":\"\"}},\"marker\":{\"colorbar\":{\"outlinewidth\":0,\"ticks\":\"\"}},\"type\":\"scatter3d\"}],\"scattercarpet\":[{\"marker\":{\"colorbar\":{\"outlinewidth\":0,\"ticks\":\"\"}},\"type\":\"scattercarpet\"}],\"scattergeo\":[{\"marker\":{\"colorbar\":{\"outlinewidth\":0,\"ticks\":\"\"}},\"type\":\"scattergeo\"}],\"scattergl\":[{\"marker\":{\"colorbar\":{\"outlinewidth\":0,\"ticks\":\"\"}},\"type\":\"scattergl\"}],\"scattermapbox\":[{\"marker\":{\"colorbar\":{\"outlinewidth\":0,\"ticks\":\"\"}},\"type\":\"scattermapbox\"}],\"scatterpolar\":[{\"marker\":{\"colorbar\":{\"outlinewidth\":0,\"ticks\":\"\"}},\"type\":\"scatterpolar\"}],\"scatterpolargl\":[{\"marker\":{\"colorbar\":{\"outlinewidth\":0,\"ticks\":\"\"}},\"type\":\"scatterpolargl\"}],\"scatterternary\":[{\"marker\":{\"colorbar\":{\"outlinewidth\":0,\"ticks\":\"\"}},\"type\":\"scatterternary\"}],\"surface\":[{\"colorbar\":{\"outlinewidth\":0,\"ticks\":\"\"},\"colorscale\":[[0.0,\"#0d0887\"],[0.1111111111111111,\"#46039f\"],[0.2222222222222222,\"#7201a8\"],[0.3333333333333333,\"#9c179e\"],[0.4444444444444444,\"#bd3786\"],[0.5555555555555556,\"#d8576b\"],[0.6666666666666666,\"#ed7953\"],[0.7777777777777778,\"#fb9f3a\"],[0.8888888888888888,\"#fdca26\"],[1.0,\"#f0f921\"]],\"type\":\"surface\"}],\"table\":[{\"cells\":{\"fill\":{\"color\":\"#EBF0F8\"},\"line\":{\"color\":\"white\"}},\"header\":{\"fill\":{\"color\":\"#C8D4E3\"},\"line\":{\"color\":\"white\"}},\"type\":\"table\"}]},\"layout\":{\"annotationdefaults\":{\"arrowcolor\":\"#2a3f5f\",\"arrowhead\":0,\"arrowwidth\":1},\"autotypenumbers\":\"strict\",\"coloraxis\":{\"colorbar\":{\"outlinewidth\":0,\"ticks\":\"\"}},\"colorscale\":{\"diverging\":[[0,\"#8e0152\"],[0.1,\"#c51b7d\"],[0.2,\"#de77ae\"],[0.3,\"#f1b6da\"],[0.4,\"#fde0ef\"],[0.5,\"#f7f7f7\"],[0.6,\"#e6f5d0\"],[0.7,\"#b8e186\"],[0.8,\"#7fbc41\"],[0.9,\"#4d9221\"],[1,\"#276419\"]],\"sequential\":[[0.0,\"#0d0887\"],[0.1111111111111111,\"#46039f\"],[0.2222222222222222,\"#7201a8\"],[0.3333333333333333,\"#9c179e\"],[0.4444444444444444,\"#bd3786\"],[0.5555555555555556,\"#d8576b\"],[0.6666666666666666,\"#ed7953\"],[0.7777777777777778,\"#fb9f3a\"],[0.8888888888888888,\"#fdca26\"],[1.0,\"#f0f921\"]],\"sequentialminus\":[[0.0,\"#0d0887\"],[0.1111111111111111,\"#46039f\"],[0.2222222222222222,\"#7201a8\"],[0.3333333333333333,\"#9c179e\"],[0.4444444444444444,\"#bd3786\"],[0.5555555555555556,\"#d8576b\"],[0.6666666666666666,\"#ed7953\"],[0.7777777777777778,\"#fb9f3a\"],[0.8888888888888888,\"#fdca26\"],[1.0,\"#f0f921\"]]},\"colorway\":[\"#636efa\",\"#EF553B\",\"#00cc96\",\"#ab63fa\",\"#FFA15A\",\"#19d3f3\",\"#FF6692\",\"#B6E880\",\"#FF97FF\",\"#FECB52\"],\"font\":{\"color\":\"#2a3f5f\"},\"geo\":{\"bgcolor\":\"white\",\"lakecolor\":\"white\",\"landcolor\":\"#E5ECF6\",\"showlakes\":true,\"showland\":true,\"subunitcolor\":\"white\"},\"hoverlabel\":{\"align\":\"left\"},\"hovermode\":\"closest\",\"mapbox\":{\"style\":\"light\"},\"paper_bgcolor\":\"white\",\"plot_bgcolor\":\"#E5ECF6\",\"polar\":{\"angularaxis\":{\"gridcolor\":\"white\",\"linecolor\":\"white\",\"ticks\":\"\"},\"bgcolor\":\"#E5ECF6\",\"radialaxis\":{\"gridcolor\":\"white\",\"linecolor\":\"white\",\"ticks\":\"\"}},\"scene\":{\"xaxis\":{\"backgroundcolor\":\"#E5ECF6\",\"gridcolor\":\"white\",\"gridwidth\":2,\"linecolor\":\"white\",\"showbackground\":true,\"ticks\":\"\",\"zerolinecolor\":\"white\"},\"yaxis\":{\"backgroundcolor\":\"#E5ECF6\",\"gridcolor\":\"white\",\"gridwidth\":2,\"linecolor\":\"white\",\"showbackground\":true,\"ticks\":\"\",\"zerolinecolor\":\"white\"},\"zaxis\":{\"backgroundcolor\":\"#E5ECF6\",\"gridcolor\":\"white\",\"gridwidth\":2,\"linecolor\":\"white\",\"showbackground\":true,\"ticks\":\"\",\"zerolinecolor\":\"white\"}},\"shapedefaults\":{\"line\":{\"color\":\"#2a3f5f\"}},\"ternary\":{\"aaxis\":{\"gridcolor\":\"white\",\"linecolor\":\"white\",\"ticks\":\"\"},\"baxis\":{\"gridcolor\":\"white\",\"linecolor\":\"white\",\"ticks\":\"\"},\"bgcolor\":\"#E5ECF6\",\"caxis\":{\"gridcolor\":\"white\",\"linecolor\":\"white\",\"ticks\":\"\"}},\"title\":{\"x\":0.05},\"xaxis\":{\"automargin\":true,\"gridcolor\":\"white\",\"linecolor\":\"white\",\"ticks\":\"\",\"title\":{\"standoff\":15},\"zerolinecolor\":\"white\",\"zerolinewidth\":2},\"yaxis\":{\"automargin\":true,\"gridcolor\":\"white\",\"linecolor\":\"white\",\"ticks\":\"\",\"title\":{\"standoff\":15},\"zerolinecolor\":\"white\",\"zerolinewidth\":2}}},\"xaxis\":{\"anchor\":\"y\",\"domain\":[0.0,1.0],\"title\":{\"text\":\" x\"}},\"yaxis\":{\"anchor\":\"x\",\"domain\":[0.0,1.0],\"title\":{\"text\":\" y\"}},\"legend\":{\"tracegroupgap\":0},\"margin\":{\"t\":60}},                        {\"responsive\": true}                    ).then(function(){\n",
       "                            \n",
       "var gd = document.getElementById('1dd17446-83f4-4845-ba7f-27681b26b221');\n",
       "var x = new MutationObserver(function (mutations, observer) {{\n",
       "        var display = window.getComputedStyle(gd).display;\n",
       "        if (!display || display === 'none') {{\n",
       "            console.log([gd, 'removed!']);\n",
       "            Plotly.purge(gd);\n",
       "            observer.disconnect();\n",
       "        }}\n",
       "}});\n",
       "\n",
       "// Listen for the removal of the full notebook cells\n",
       "var notebookContainer = gd.closest('#notebook-container');\n",
       "if (notebookContainer) {{\n",
       "    x.observe(notebookContainer, {childList: true});\n",
       "}}\n",
       "\n",
       "// Listen for the clearing of the current output cell\n",
       "var outputEl = gd.closest('.output');\n",
       "if (outputEl) {{\n",
       "    x.observe(outputEl, {childList: true});\n",
       "}}\n",
       "\n",
       "                        })                };                            </script>        </div>\n",
       "</body>\n",
       "</html>"
      ]
     },
     "metadata": {},
     "output_type": "display_data"
    },
    {
     "data": {
      "text/html": [
       "<html>\n",
       "<head><meta charset=\"utf-8\" /></head>\n",
       "<body>\n",
       "    <div>            <script src=\"https://cdnjs.cloudflare.com/ajax/libs/mathjax/2.7.5/MathJax.js?config=TeX-AMS-MML_SVG\"></script><script type=\"text/javascript\">if (window.MathJax) {MathJax.Hub.Config({SVG: {font: \"STIX-Web\"}});}</script>                <script type=\"text/javascript\">window.PlotlyConfig = {MathJaxConfig: 'local'};</script>\n",
       "        <script src=\"https://cdn.plot.ly/plotly-2.8.3.min.js\"></script>                <div id=\"228bd58e-4dba-45ea-afcc-ddeac54c6751\" class=\"plotly-graph-div\" style=\"height:525px; width:100%;\"></div>            <script type=\"text/javascript\">                                    window.PLOTLYENV=window.PLOTLYENV || {};                                    if (document.getElementById(\"228bd58e-4dba-45ea-afcc-ddeac54c6751\")) {                    Plotly.newPlot(                        \"228bd58e-4dba-45ea-afcc-ddeac54c6751\",                        [{\"customdata\":[[0],[1],[2],[3],[4],[5],[6],[7],[8],[9],[10],[11],[12],[13],[14],[15],[16],[17],[18],[19],[20],[21],[22],[23],[24],[25],[26],[27],[28],[29],[30],[31],[32],[33],[34],[35],[36],[37],[38],[39],[40],[41],[42],[43],[44],[45],[46],[47],[48],[49],[50],[51],[52],[53],[54],[55],[56],[57],[58],[59],[60],[61],[62],[63],[64],[65],[66],[67],[68],[69],[70],[71],[72],[73],[74],[75],[76],[77],[78],[79],[80],[81],[82],[83],[84],[85],[86],[87],[88],[89],[90],[91],[92],[93],[94],[95],[96],[97],[98],[99],[100],[101],[102],[103],[104],[105],[106],[107],[108],[109],[110],[111],[112],[113],[114],[115],[116],[117],[118],[119],[120],[121],[122],[123],[124],[125],[126],[127],[128],[129],[130],[131],[132],[133],[134],[135],[136],[137],[138],[139],[140],[141],[142],[143],[144],[145],[146],[147],[148],[149],[150],[151],[152],[153],[154],[155],[156],[157],[158],[159],[160],[161],[162],[163],[164],[165],[166],[167],[168],[169],[170],[171],[172],[173],[174],[175],[176],[177],[178],[179],[180],[181],[182],[183],[184],[185],[186],[187],[188],[189],[190],[191],[192],[193],[194],[195],[196],[197],[198],[199],[200],[201],[202],[203],[204],[205],[206],[207],[208],[209],[210],[211],[212],[213],[214],[215],[216],[217],[218],[219],[220],[221],[222],[223],[224],[225],[226],[227],[228],[229],[230],[231],[232],[233],[234],[235],[236],[237],[238],[239],[240],[241],[242],[243],[244],[245],[246],[247],[248],[249],[250],[251],[252],[253],[254],[255],[256],[257],[258],[259],[260],[261],[262],[263],[264],[265],[266],[267],[268],[269],[270],[271],[272],[273],[274],[275],[276],[277],[278],[279],[280],[281],[282],[283],[284],[285],[286],[287],[288],[289],[290],[291],[292],[293],[294],[295],[296],[297],[298],[299],[300],[301],[302],[303],[304],[305],[306],[307],[308],[309],[310],[311],[312],[313],[314],[315],[316],[317],[318],[319],[320],[321],[322],[323],[324],[325],[326],[327],[328],[329],[330],[331],[332],[333],[334],[335],[336],[337],[338],[339],[340],[341],[342],[343],[344],[345],[346],[347],[348],[349],[350],[351],[352],[353],[354],[355],[356],[357],[358],[359],[360],[361],[362],[363],[364],[365],[366],[367],[368],[369],[370],[371],[372],[373],[374],[375],[376],[377],[378],[379],[380],[381],[382],[383],[384],[385],[386],[387],[388],[389],[390],[391],[392],[393],[394],[395],[396],[397],[398],[399],[400],[401],[402],[403],[404],[405],[406],[407],[408],[409],[410],[411],[412],[413],[414],[415],[416],[417],[418],[419],[420],[421],[422],[423],[424],[425],[426],[427],[428],[429],[430],[431],[432],[433],[434],[435],[436],[437],[438],[439],[440],[441],[442],[443],[444],[445],[446],[447],[448],[449],[450],[451],[452],[453],[454],[455],[456],[457],[458],[459],[460],[461],[462],[463],[464],[465],[466],[467],[468],[469],[470],[471],[472],[473],[474],[475],[476],[477],[478],[479],[480],[481],[482],[483],[484],[485],[486],[487],[488],[489],[490],[491],[492],[493],[494],[495],[496],[497],[498],[499],[500],[501],[502],[503],[504],[505],[506],[507],[508],[509],[510],[511],[512],[513],[514],[515],[516],[517],[518],[519],[520],[521],[522],[523],[524],[525],[526],[527],[528],[529],[530],[531],[532],[533],[534],[535],[536],[537],[538],[539],[540],[541],[542],[543],[544],[545],[546],[547],[548],[549],[550],[551],[552],[553],[554],[555],[556],[557],[558],[559],[560],[561],[562],[563],[564],[565],[566],[567],[568],[569],[570],[571],[572],[573],[574],[575],[576],[577],[578],[579],[580],[581],[582],[583],[584],[585],[586],[587],[588],[589],[590],[591],[592],[593],[594],[595],[596],[597],[598],[599],[600],[601],[602],[603],[604],[605],[606],[607],[608],[609],[610],[611],[612],[613],[614],[615],[616],[617],[618],[619],[620],[621],[622],[623],[624],[625],[626],[627],[628],[629],[630],[631],[632],[633],[634],[635],[636],[637],[638],[639],[640],[641],[642],[643],[644],[645],[646],[647],[648],[649],[650],[651],[652],[653],[654],[655],[656],[657],[658],[659],[660],[661],[662],[663],[664],[665],[666],[667],[668],[669],[670],[671],[672],[673],[674],[675],[676],[677],[678],[679],[680],[681],[682],[683],[684],[685],[686],[687],[688],[689],[690],[691],[692],[693],[694],[695],[696],[697],[698],[699],[700],[701],[702],[703],[704],[705],[706],[707],[708],[709],[710],[711],[712],[713],[714],[715],[716],[717],[718],[719],[720],[721],[722],[723],[724],[725],[726],[727],[728],[729],[730],[731],[732],[733],[734],[735],[736],[737],[738],[739],[740],[741],[742],[743],[744],[745],[746],[747],[748],[749],[750],[751],[752],[753],[754],[755],[756],[757],[758],[759],[760],[761],[762],[763],[764],[765],[766],[767],[768],[769],[770],[771],[772],[773],[774],[775],[776],[777],[778],[779],[780],[781],[782],[783],[784],[785],[786],[787],[788],[789],[790],[791],[792],[793],[794],[795],[796],[797],[798],[799],[800],[801],[802],[803],[804],[805],[806],[807],[808],[809],[810],[811],[812],[813],[814],[815],[816],[817],[818],[819],[820],[821],[822],[823],[824],[825],[826],[827],[828],[829],[830],[831],[832],[833],[834],[835],[836],[837],[838],[839],[840],[841],[842],[843],[844],[845],[846],[847],[848],[849],[850],[851],[852],[853],[854],[855],[856],[857],[858],[859],[860],[861],[862],[863],[864],[865],[866],[867],[868],[869],[870],[871],[872],[873],[874],[875],[876],[877],[878],[879],[880],[881],[882],[883],[884],[885],[886],[887],[888],[889],[890],[891],[892],[893],[894],[895],[896],[897],[898],[899],[900],[901],[902],[903],[904],[905],[906],[907],[908],[909],[910],[911],[912],[913],[914],[915],[916],[917],[918],[919],[920],[921],[922],[923],[924],[925],[926],[927],[928],[929],[930],[931],[932],[933],[934],[935],[936],[937],[938],[939],[940],[941],[942],[943],[944],[945],[946],[947],[948],[949],[950],[951],[952],[953],[954],[955],[956],[957],[958],[959],[960],[961],[962],[963],[964],[965],[966],[967],[968],[969],[970],[971],[972],[973],[974],[975],[976],[977],[978],[979],[980],[981],[982],[983],[984],[985],[986],[987],[988],[989],[990],[991],[992],[993],[994],[995],[996],[997],[998],[999],[1000],[1001],[1002],[1003],[1004],[1005],[1006],[1007],[1008],[1009],[1010],[1011],[1012],[1013],[1014],[1015],[1016],[1017],[1018],[1019],[1020],[1021],[1022],[1023],[1024],[1025],[1026],[1027],[1028],[1029],[1030],[1031],[1032],[1033],[1034],[1035],[1036],[1037],[1038],[1039],[1040],[1041],[1042],[1043],[1044],[1045],[1046],[1047],[1048],[1049],[1050],[1051],[1052],[1053],[1054],[1055],[1056],[1057],[1058],[1059],[1060],[1061],[1062],[1063],[1064],[1065],[1066],[1067],[1068],[1069],[1070],[1071],[1072],[1073],[1074],[1075],[1076],[1077],[1078],[1079],[1080],[1081],[1082],[1083],[1084],[1085],[1086],[1087],[1088],[1089],[1090],[1091],[1092],[1093],[1094],[1095],[1096],[1097],[1098],[1099],[1100],[1101],[1102],[1103],[1104],[1105],[1106],[1107],[1108],[1109],[1110],[1111],[1112],[1113],[1114],[1115],[1116],[1117],[1118],[1119],[1120],[1121],[1122],[1123],[1124],[1125],[1126],[1127],[1128],[1129],[1130],[1131],[1132],[1133],[1134],[1135],[1136],[1137],[1138],[1139],[1140],[1141],[1142],[1143],[1144],[1145],[1146],[1147],[1148],[1149],[1150],[1151],[1152],[1153],[1154],[1155],[1156],[1157],[1158],[1159],[1160],[1161],[1162],[1163],[1164],[1165],[1166],[1167],[1168],[1169],[1170],[1171],[1172],[1173],[1174],[1175],[1176],[1177],[1178],[1179],[1180],[1181],[1182],[1183],[1184],[1185],[1186],[1187],[1188],[1189],[1190],[1191],[1192],[1193],[1194],[1195],[1196],[1197],[1198],[1199],[1200],[1201],[1202],[1203],[1204],[1205],[1206],[1207],[1208],[1209],[1210],[1211],[1212],[1213],[1214],[1215],[1216],[1217],[1218],[1219],[1220],[1221],[1222],[1223],[1224],[1225],[1226],[1227],[1228],[1229],[1230],[1231],[1232],[1233],[1234],[1235],[1236],[1237],[1238],[1239],[1240],[1241],[1242],[1243],[1244],[1245],[1246],[1247],[1248],[1249],[1250],[1251],[1252],[1253],[1254],[1255],[1256],[1257],[1258],[1259],[1260],[1261],[1262],[1263],[1264],[1265],[1266],[1267],[1268],[1269],[1270],[1271],[1272],[1273],[1274],[1275],[1276],[1277],[1278],[1279],[1280],[1281],[1282],[1283],[1284],[1285],[1286],[1287],[1288],[1289],[1290],[1291],[1292],[1293],[1294],[1295],[1296],[1297],[1298],[1299],[1300],[1301],[1302],[1303],[1304],[1305],[1306],[1307],[1308],[1309],[1310],[1311],[1312],[1313],[1314],[1315],[1316],[1317],[1318],[1319],[1320],[1321],[1322],[1323],[1324],[1325],[1326],[1327],[1328],[1329],[1330],[1331],[1332],[1333],[1334],[1335],[1336],[1337],[1338],[1339],[1340],[1341],[1342],[1343],[1344],[1345],[1346],[1347],[1348],[1349],[1350],[1351],[1352],[1353],[1354],[1355],[1356],[1357],[1358],[1359],[1360],[1361],[1362],[1363],[1364],[1365],[1366],[1367],[1368],[1369],[1370],[1371],[1372],[1373],[1374],[1375],[1376],[1377],[1378],[1379],[1380],[1381],[1382],[1383],[1384],[1385],[1386],[1387],[1388],[1389],[1390],[1391],[1392],[1393],[1394],[1395],[1396],[1397],[1398],[1399],[1400],[1401],[1402],[1403],[1404],[1405],[1406],[1407],[1408],[1409],[1410],[1411],[1412],[1413],[1414],[1415],[1416],[1417],[1418],[1419],[1420],[1421],[1422],[1423],[1424],[1425],[1426],[1427],[1428],[1429],[1430],[1431],[1432],[1433],[1434],[1435],[1436],[1437],[1438],[1439],[1440],[1441],[1442],[1443],[1444],[1445],[1446],[1447],[1448],[1449],[1450],[1451],[1452],[1453],[1454],[1455],[1456],[1457],[1458],[1459],[1460],[1461],[1462],[1463],[1464],[1465],[1466],[1467],[1468],[1469],[1470],[1471],[1472],[1473],[1474],[1475],[1476],[1477],[1478],[1479],[1480],[1481],[1482],[1483],[1484],[1485],[1486],[1487],[1488],[1489],[1490],[1491],[1492],[1493],[1494],[1495],[1496],[1497],[1498],[1499],[1500],[1501],[1502],[1503],[1504],[1505],[1506],[1507],[1508],[1509],[1510],[1511],[1512],[1513],[1514],[1515],[1516],[1517],[1518],[1519],[1520],[1521],[1522],[1523],[1524],[1525],[1526],[1527],[1528],[1529],[1530],[1531],[1532],[1533],[1534],[1535],[1536],[1537],[1538],[1539],[1540],[1541],[1542],[1543],[1544],[1545],[1546],[1547],[1548],[1549],[1550],[1551],[1552],[1553],[1554],[1555],[1556],[1557],[1558],[1559],[1560],[1561],[1562],[1563],[1564],[1565],[1566],[1567],[1568],[1569],[1570],[1571],[1572],[1573],[1574],[1575],[1576],[1577],[1578],[1579],[1580],[1581],[1582],[1583],[1584],[1585],[1586],[1587],[1588],[1589],[1590],[1591],[1592],[1593],[1594],[1595],[1596],[1597],[1598],[1599],[1600],[1601],[1602],[1603],[1604],[1605],[1606],[1607],[1608],[1609],[1610],[1611],[1612],[1613],[1614],[1615],[1616],[1617],[1618],[1619],[1620],[1621],[1622],[1623],[1624],[1625],[1626],[1627],[1628],[1629],[1630],[1631],[1632],[1633],[1634],[1635],[1636],[1637],[1638],[1639],[1640],[1641],[1642],[1643],[1644],[1645],[1646],[1647],[1648],[1649],[1650],[1651],[1652],[1653],[1654],[1655],[1656],[1657],[1658],[1659],[1660],[1661],[1662],[1663],[1664],[1665],[1666],[1667],[1668],[1669],[1670],[1671],[1672],[1673],[1674],[1675],[1676],[1677],[1678],[1679],[1680],[1681],[1682],[1683],[1684],[1685],[1686],[1687],[1688],[1689],[1690],[1691],[1692],[1693],[1694],[1695],[1696],[1697],[1698],[1699],[1700],[1701],[1702],[1703],[1704],[1705],[1706],[1707],[1708],[1709],[1710],[1711],[1712],[1713],[1714],[1715],[1716],[1717],[1718],[1719],[1720],[1721],[1722],[1723],[1724],[1725],[1726],[1727],[1728],[1729],[1730],[1731],[1732],[1733],[1734],[1735],[1736],[1737],[1738],[1739],[1740],[1741],[1742],[1743],[1744],[1745],[1746],[1747],[1748],[1749],[1750],[1751],[1752],[1753],[1754],[1755],[1756],[1757],[1758],[1759],[1760],[1761],[1762],[1763],[1764],[1765],[1766],[1767],[1768],[1769],[1770],[1771],[1772],[1773],[1774],[1775],[1776],[1777],[1778],[1779],[1780],[1781],[1782],[1783],[1784],[1785],[1786],[1787],[1788],[1789],[1790],[1791],[1792],[1793],[1794],[1795],[1796],[1797],[1798],[1799],[1800],[1801],[1802],[1803],[1804],[1805],[1806],[1807],[1808],[1809],[1810],[1811],[1812],[1813],[1814],[1815],[1816],[1817],[1818],[1819],[1820],[1821],[1822],[1823],[1824],[1825],[1826],[1827],[1828],[1829],[1830],[1831],[1832],[1833],[1834],[1835],[1836],[1837],[1838],[1839],[1840],[1841],[1842],[1843],[1844],[1845],[1846],[1847],[1848],[1849],[1850],[1851],[1852],[1853],[1854],[1855],[1856],[1857],[1858],[1859],[1860],[1861],[1862],[1863],[1864],[1865],[1866],[1867],[1868],[1869],[1870],[1871],[1872],[1873],[1874],[1875],[1876],[1877],[1878],[1879],[1880],[1881],[1882],[1883],[1884],[1885],[1886],[1887],[1888],[1889],[1890],[1891],[1892],[1893],[1894],[1895],[1896],[1897],[1898],[1899],[1900],[1901],[1902],[1903],[1904],[1905],[1906],[1907],[1908],[1909],[1910],[1911],[1912],[1913],[1914],[1915],[1916],[1917],[1918],[1919],[1920],[1921],[1922],[1923],[1924],[1925],[1926],[1927],[1928],[1929],[1930],[1931],[1932],[1933],[1934],[1935],[1936],[1937],[1938],[1939],[1940],[1941],[1942],[1943],[1944],[1945],[1946],[1947],[1948],[1949],[1950],[1951],[1952],[1953],[1954],[1955],[1956],[1957],[1958],[1959],[1960],[1961],[1962],[1963],[1964],[1965],[1966],[1967],[1968],[1969],[1970],[1971],[1972],[1973],[1974],[1975],[1976],[1977],[1978],[1979],[1980],[1981],[1982],[1983],[1984],[1985],[1986],[1987],[1988],[1989],[1990],[1991],[1992],[1993],[1994],[1995],[1996],[1997],[1998],[1999],[2000],[2001],[2002],[2003],[2004],[2005],[2006],[2007],[2008],[2009],[2010],[2011],[2012],[2013],[2014],[2015],[2016],[2017],[2018],[2019],[2020],[2021],[2022],[2023],[2024],[2025],[2026],[2027],[2028],[2029],[2030],[2031],[2032],[2033],[2034],[2035],[2036],[2037],[2038],[2039],[2040],[2041],[2042],[2043],[2044],[2045],[2046],[2047],[2048],[2049],[2050],[2051],[2052],[2053],[2054],[2055],[2056],[2057],[2058],[2059],[2060],[2061],[2062],[2063],[2064],[2065],[2066],[2067],[2068],[2069],[2070],[2071],[2072],[2073],[2074],[2075],[2076],[2077],[2078],[2079],[2080],[2081],[2082],[2083],[2084],[2085],[2086],[2087],[2088],[2089],[2090],[2091],[2092],[2093],[2094],[2095],[2096],[2097],[2098],[2099],[2100],[2101],[2102],[2103],[2104],[2105],[2106],[2107],[2108],[2109],[2110],[2111],[2112],[2113],[2114],[2115],[2116],[2117],[2118],[2119],[2120],[2121],[2122],[2123],[2124],[2125],[2126],[2127],[2128],[2129],[2130],[2131],[2132],[2133],[2134],[2135],[2136],[2137],[2138],[2139],[2140],[2141],[2142],[2143],[2144],[2145],[2146],[2147],[2148],[2149],[2150],[2151],[2152],[2153],[2154],[2155],[2156],[2157],[2158],[2159],[2160],[2161],[2162],[2163],[2164],[2165],[2166],[2167],[2168],[2169],[2170],[2171],[2172],[2173],[2174],[2175],[2176],[2177],[2178],[2179],[2180],[2181],[2182],[2183],[2184],[2185],[2186],[2187],[2188],[2189],[2190],[2191],[2192],[2193],[2194],[2195],[2196],[2197],[2198],[2199],[2200],[2201],[2202],[2203],[2204],[2205],[2206],[2207],[2208],[2209],[2210],[2211],[2212],[2213],[2214],[2215],[2216],[2217],[2218],[2219],[2220],[2221],[2222],[2223],[2224],[2225],[2226],[2227],[2228],[2229],[2230],[2231],[2232],[2233],[2234],[2235],[2236],[2237],[2238],[2239],[2240],[2241],[2242],[2243],[2244],[2245],[2246],[2247],[2248],[2249],[2250],[2251],[2252],[2253],[2254],[2255],[2256],[2257],[2258],[2259],[2260],[2261],[2262],[2263],[2264],[2265],[2266],[2267],[2268],[2269],[2270],[2271],[2272],[2273],[2274],[2275],[2276],[2277],[2278],[2279],[2280],[2281],[2282],[2283],[2284],[2285],[2286],[2287],[2288],[2289],[2290],[2291],[2292],[2293],[2294],[2295],[2296],[2297],[2298],[2299],[2300],[2301],[2302],[2303],[2304],[2305],[2306],[2307],[2308],[2309],[2310],[2311],[2312],[2313],[2314],[2315],[2316],[2317],[2318],[2319],[2320],[2321],[2322],[2323],[2324],[2325],[2326],[2327],[2328],[2329],[2330],[2331],[2332],[2333],[2334],[2335],[2336],[2337],[2338],[2339],[2340],[2341],[2342],[2343],[2344],[2345],[2346],[2347],[2348],[2349],[2350],[2351],[2352],[2353],[2354],[2355],[2356],[2357],[2358],[2359],[2360],[2361],[2362],[2363],[2364],[2365],[2366],[2367],[2368],[2369],[2370],[2371],[2372],[2373],[2374],[2375],[2376],[2377],[2378],[2379],[2380],[2381],[2382],[2383],[2384],[2385],[2386],[2387],[2388],[2389],[2390],[2391],[2392],[2393],[2394],[2395],[2396],[2397],[2398],[2399],[2400],[2401],[2402],[2403],[2404],[2405],[2406],[2407],[2408],[2409],[2410],[2411],[2412],[2413],[2414],[2415],[2416],[2417],[2418],[2419],[2420],[2421],[2422],[2423],[2424],[2425],[2426],[2427],[2428],[2429],[2430],[2431],[2432],[2433],[2434],[2435],[2436],[2437],[2438],[2439],[2440],[2441],[2442],[2443],[2444],[2445],[2446],[2447],[2448],[2449],[2450],[2451],[2452],[2453],[2454],[2455],[2456],[2457],[2458],[2459],[2460],[2461],[2462],[2463],[2464],[2465],[2466],[2467],[2468],[2469],[2470],[2471],[2472],[2473],[2474],[2475],[2476],[2477],[2478],[2479],[2480],[2481],[2482],[2483],[2484],[2485],[2486],[2487],[2488],[2489],[2490],[2491],[2492],[2493],[2494],[2495],[2496],[2497],[2498],[2499],[2500],[2501],[2502],[2503],[2504],[2505],[2506],[2507],[2508],[2509],[2510],[2511],[2512],[2513],[2514],[2515],[2516],[2517],[2518],[2519],[2520],[2521],[2522],[2523],[2524],[2525],[2526],[2527],[2528],[2529],[2530],[2531],[2532],[2533],[2534],[2535],[2536],[2537],[2538],[2539],[2540],[2541],[2542],[2543],[2544],[2545],[2546],[2547],[2548],[2549],[2550],[2551],[2552],[2553],[2554],[2555],[2556],[2557],[2558],[2559],[2560],[2561],[2562],[2563],[2564],[2565],[2566],[2567],[2568],[2569],[2570],[2571],[2572],[2573],[2574],[2575],[2576],[2577],[2578],[2579],[2580],[2581],[2582],[2583],[2584],[2585],[2586],[2587],[2588],[2589],[2590],[2591],[2592],[2593],[2594],[2595],[2596],[2597],[2598],[2599],[2600],[2601],[2602],[2603],[2604],[2605],[2606],[2607],[2608],[2609],[2610],[2611],[2612],[2613],[2614],[2615],[2616],[2617],[2618],[2619],[2620],[2621],[2622],[2623],[2624],[2625],[2626],[2627],[2628],[2629],[2630],[2631],[2632],[2633],[2634],[2635],[2636],[2637],[2638],[2639],[2640],[2641],[2642],[2643],[2644],[2645],[2646],[2647],[2648],[2649],[2650],[2651],[2652],[2653],[2654],[2655],[2656],[2657],[2658],[2659],[2660],[2661],[2662],[2663],[2664],[2665],[2666],[2667],[2668],[2669],[2670],[2671],[2672],[2673],[2674],[2675],[2676],[2677],[2678],[2679],[2680],[2681],[2682],[2683],[2684],[2685],[2686],[2687],[2688],[2689],[2690],[2691],[2692],[2693],[2694],[2695],[2696],[2697],[2698],[2699],[2700],[2701],[2702],[2703],[2704],[2705],[2706],[2707],[2708],[2709],[2710],[2711],[2712],[2713],[2714],[2715],[2716],[2717],[2718],[2719],[2720],[2721],[2722],[2723],[2724],[2725],[2726],[2727],[2728],[2729],[2730],[2731],[2732],[2733],[2734],[2735],[2736],[2737],[2738],[2739],[2740],[2741],[2742],[2743],[2744],[2745],[2746],[2747],[2748],[2749],[2750],[2751],[2752],[2753],[2754],[2755],[2756],[2757],[2758],[2759],[2760],[2761],[2762],[2763],[2764],[2765],[2766],[2767],[2768],[2769],[2770],[2771],[2772],[2773],[2774],[2775],[2776],[2777],[2778],[2779],[2780],[2781],[2782],[2783],[2784],[2785],[2786],[2787],[2788],[2789],[2790],[2791],[2792],[2793],[2794],[2795],[2796],[2797],[2798],[2799],[2800],[2801],[2802],[2803],[2804],[2805],[2806],[2807],[2808],[2809],[2810],[2811],[2812],[2813],[2814],[2815],[2816],[2817],[2818],[2819],[2820],[2821],[2822],[2823],[2824],[2825],[2826],[2827],[2828],[2829],[2830],[2831],[2832],[2833],[2834],[2835],[2836],[2837],[2838],[2839],[2840],[2841],[2842],[2843],[2844],[2845],[2846],[2847],[2848],[2849],[2850],[2851],[2852],[2853],[2854],[2855],[2856],[2857],[2858],[2859],[2860],[2861],[2862],[2863],[2864],[2865],[2866],[2867],[2868],[2869],[2870],[2871],[2872],[2873],[2874],[2875],[2876],[2877],[2878],[2879],[2880],[2881],[2882],[2883],[2884],[2885],[2886],[2887],[2888],[2889],[2890],[2891],[2892],[2893],[2894],[2895],[2896],[2897],[2898],[2899],[2900],[2901],[2902],[2903],[2904],[2905],[2906],[2907],[2908],[2909],[2910],[2911],[2912],[2913],[2914],[2915],[2916],[2917],[2918],[2919],[2920],[2921],[2922],[2923],[2924],[2925],[2926],[2927],[2928],[2929],[2930],[2931],[2932],[2933],[2934],[2935],[2936],[2937],[2938],[2939],[2940],[2941],[2942],[2943],[2944],[2945],[2946],[2947],[2948],[2949],[2950],[2951],[2952],[2953],[2954],[2955],[2956],[2957],[2958],[2959],[2960],[2961],[2962],[2963],[2964],[2965],[2966],[2967],[2968],[2969],[2970],[2971],[2972],[2973],[2974],[2975],[2976],[2977],[2978],[2979],[2980],[2981],[2982],[2983],[2984],[2985],[2986],[2987],[2988],[2989],[2990],[2991],[2992],[2993],[2994],[2995],[2996],[2997],[2998],[2999],[3000],[3001],[3002],[3003],[3004],[3005],[3006],[3007],[3008],[3009],[3010],[3011],[3012],[3013],[3014],[3015],[3016],[3017],[3018],[3019],[3020],[3021],[3022],[3023],[3024],[3025],[3026],[3027],[3028],[3029],[3030],[3031],[3032],[3033],[3034],[3035],[3036],[3037],[3038],[3039],[3040],[3041],[3042],[3043],[3044],[3045],[3046],[3047],[3048],[3049],[3050],[3051],[3052],[3053],[3054],[3055],[3056],[3057],[3058],[3059],[3060],[3061],[3062],[3063],[3064],[3065],[3066],[3067],[3068],[3069],[3070],[3071],[3072],[3073],[3074],[3075],[3076],[3077],[3078],[3079],[3080],[3081],[3082],[3083],[3084],[3085],[3086],[3087],[3088],[3089],[3090],[3091],[3092],[3093],[3094],[3095],[3096],[3097],[3098],[3099],[3100],[3101],[3102],[3103],[3104],[3105],[3106],[3107],[3108],[3109],[3110],[3111],[3112],[3113],[3114],[3115],[3116],[3117],[3118],[3119],[3120],[3121],[3122],[3123],[3124],[3125],[3126],[3127],[3128],[3129],[3130],[3131],[3132],[3133],[3134],[3135],[3136],[3137],[3138],[3139],[3140],[3141],[3142],[3143],[3144],[3145],[3146],[3147],[3148],[3149],[3150],[3151],[3152],[3153],[3154],[3155],[3156],[3157],[3158],[3159],[3160],[3161],[3162],[3163],[3164],[3165],[3166],[3167],[3168],[3169],[3170],[3171],[3172],[3173],[3174],[3175],[3176],[3177],[3178],[3179],[3180],[3181],[3182],[3183],[3184],[3185],[3186],[3187],[3188],[3189],[3190],[3191],[3192],[3193],[3194],[3195],[3196],[3197],[3198],[3199],[3200],[3201],[3202],[3203],[3204],[3205],[3206],[3207],[3208],[3209],[3210],[3211],[3212],[3213],[3214],[3215],[3216],[3217],[3218],[3219],[3220],[3221],[3222],[3223],[3224],[3225],[3226],[3227],[3228],[3229],[3230],[3231],[3232],[3233],[3234],[3235],[3236],[3237],[3238],[3239],[3240],[3241],[3242],[3243],[3244],[3245],[3246],[3247],[3248],[3249],[3250],[3251],[3252],[3253],[3254],[3255],[3256],[3257],[3258],[3259],[3260],[3261],[3262],[3263],[3264],[3265],[3266],[3267],[3268],[3269],[3270],[3271],[3272],[3273],[3274],[3275],[3276],[3277],[3278],[3279],[3280],[3281],[3282],[3283],[3284],[3285],[3286],[3287],[3288],[3289],[3290],[3291],[3292],[3293],[3294],[3295],[3296],[3297],[3298],[3299],[3300],[3301],[3302],[3303],[3304],[3305],[3306],[3307],[3308],[3309],[3310],[3311],[3312],[3313],[3314],[3315],[3316],[3317],[3318],[3319],[3320],[3321],[3322],[3323],[3324],[3325],[3326],[3327],[3328],[3329],[3330],[3331],[3332],[3333],[3334],[3335],[3336],[3337],[3338],[3339],[3340],[3341],[3342],[3343],[3344],[3345],[3346],[3347],[3348],[3349],[3350],[3351],[3352],[3353],[3354],[3355],[3356],[3357],[3358],[3359],[3360],[3361],[3362],[3363],[3364],[3365],[3366],[3367],[3368],[3369],[3370],[3371],[3372],[3373],[3374],[3375],[3376],[3377],[3378],[3379],[3380],[3381],[3382],[3383],[3384],[3385],[3386],[3387],[3388],[3389],[3390],[3391],[3392],[3393],[3394],[3395],[3396],[3397],[3398],[3399],[3400],[3401],[3402],[3403],[3404],[3405],[3406],[3407],[3408],[3409],[3410],[3411],[3412],[3413],[3414],[3415],[3416],[3417],[3418],[3419],[3420],[3421],[3422],[3423],[3424],[3425],[3426],[3427],[3428],[3429],[3430],[3431],[3432],[3433],[3434],[3435],[3436],[3437],[3438],[3439],[3440],[3441],[3442],[3443],[3444],[3445],[3446],[3447],[3448],[3449],[3450],[3451],[3452],[3453],[3454],[3455],[3456],[3457],[3458],[3459],[3460],[3461],[3462],[3463],[3464],[3465],[3466],[3467],[3468],[3469],[3470],[3471],[3472],[3473],[3474],[3475],[3476],[3477],[3478],[3479],[3480],[3481],[3482],[3483],[3484],[3485],[3486],[3487],[3488],[3489],[3490],[3491],[3492],[3493],[3494],[3495],[3496],[3497],[3498],[3499],[3500],[3501],[3502],[3503],[3504],[3505],[3506],[3507],[3508],[3509],[3510],[3511],[3512],[3513],[3514],[3515],[3516],[3517],[3518],[3519],[3520],[3521],[3522],[3523],[3524],[3525],[3526],[3527],[3528],[3529],[3530],[3531],[3532],[3533],[3534],[3535],[3536],[3537],[3538],[3539],[3540],[3541],[3542],[3543],[3544],[3545],[3546],[3547],[3548],[3549],[3550],[3551],[3552],[3553],[3554],[3555],[3556],[3557],[3558],[3559],[3560],[3561],[3562],[3563],[3564],[3565],[3566],[3567],[3568],[3569],[3570],[3571],[3572],[3573],[3574],[3575],[3576],[3577],[3578],[3579],[3580],[3581],[3582],[3583],[3584],[3585],[3586],[3587],[3588],[3589],[3590],[3591],[3592],[3593],[3594],[3595],[3596],[3597],[3598],[3599],[3600],[3601],[3602],[3603],[3604],[3605],[3606],[3607],[3608],[3609],[3610],[3611],[3612],[3613],[3614],[3615],[3616],[3617],[3618],[3619],[3620],[3621],[3622],[3623],[3624],[3625],[3626],[3627],[3628],[3629],[3630],[3631],[3632],[3633],[3634],[3635],[3636],[3637],[3638],[3639],[3640],[3641],[3642],[3643],[3644],[3645],[3646],[3647],[3648],[3649],[3650],[3651],[3652],[3653],[3654],[3655],[3656],[3657],[3658],[3659],[3660],[3661],[3662],[3663],[3664],[3665],[3666],[3667],[3668],[3669],[3670],[3671],[3672],[3673],[3674],[3675],[3676],[3677],[3678],[3679],[3680],[3681],[3682],[3683],[3684],[3685],[3686],[3687],[3688],[3689],[3690],[3691],[3692],[3693],[3694],[3695],[3696],[3697],[3698],[3699],[3700],[3701],[3702],[3703],[3704],[3705],[3706],[3707],[3708],[3709],[3710],[3711],[3712],[3713],[3714],[3715],[3716],[3717],[3718],[3719],[3720],[3721],[3722],[3723],[3724],[3725],[3726],[3727],[3728],[3729],[3730],[3731],[3732],[3733],[3734],[3735],[3736],[3737],[3738],[3739],[3740],[3741],[3742],[3743],[3744],[3745],[3746],[3747],[3748],[3749],[3750],[3751],[3752],[3753],[3754],[3755],[3756],[3757],[3758],[3759],[3760],[3761],[3762],[3763],[3764],[3765],[3766],[3767],[3768],[3769],[3770],[3771],[3772],[3773],[3774],[3775],[3776],[3777],[3778],[3779],[3780],[3781],[3782],[3783],[3784],[3785],[3786],[3787],[3788],[3789],[3790],[3791],[3792],[3793],[3794],[3795],[3796],[3797],[3798],[3799],[3800],[3801],[3802],[3803],[3804],[3805],[3806],[3807],[3808],[3809],[3810],[3811],[3812],[3813],[3814],[3815],[3816],[3817],[3818],[3819],[3820],[3821],[3822],[3823],[3824],[3825],[3826],[3827],[3828],[3829],[3830],[3831],[3832],[3833],[3834],[3835],[3836],[3837],[3838],[3839],[3840],[3841],[3842],[3843],[3844],[3845],[3846],[3847],[3848],[3849],[3850],[3851],[3852],[3853],[3854],[3855],[3856],[3857],[3858],[3859],[3860],[3861],[3862],[3863],[3864],[3865],[3866],[3867],[3868],[3869],[3870],[3871],[3872],[3873],[3874],[3875],[3876],[3877],[3878],[3879],[3880],[3881],[3882],[3883],[3884],[3885],[3886],[3887],[3888],[3889],[3890],[3891],[3892],[3893],[3894],[3895],[3896],[3897],[3898],[3899],[3900],[3901],[3902],[3903],[3904],[3905],[3906],[3907],[3908],[3909],[3910],[3911],[3912],[3913],[3914],[3915],[3916],[3917],[3918],[3919],[3920],[3921],[3922],[3923],[3924],[3925],[3926],[3927],[3928],[3929],[3930],[3931],[3932],[3933],[3934],[3935],[3936],[3937],[3938],[3939],[3940],[3941],[3942],[3943],[3944],[3945],[3946],[3947],[3948],[3949],[3950],[3951],[3952],[3953],[3954],[3955],[3956],[3957],[3958],[3959],[3960],[3961],[3962],[3963],[3964],[3965],[3966],[3967],[3968],[3969],[3970],[3971],[3972],[3973],[3974],[3975],[3976],[3977],[3978],[3979],[3980],[3981],[3982],[3983],[3984],[3985],[3986],[3987],[3988],[3989],[3990],[3991],[3992],[3993],[3994],[3995],[3996],[3997],[3998],[3999],[4000],[4001],[4002],[4003],[4004],[4005],[4006],[4007],[4008],[4009],[4010],[4011],[4012],[4013],[4014],[4015],[4016],[4017],[4018],[4019],[4020],[4021],[4022],[4023],[4024],[4025],[4026],[4027],[4028],[4029],[4030],[4031],[4032],[4033],[4034],[4035],[4036],[4037],[4038],[4039],[4040],[4041],[4042],[4043],[4044],[4045],[4046],[4047],[4048],[4049],[4050],[4051],[4052],[4053],[4054],[4055],[4056],[4057],[4058],[4059],[4060],[4061],[4062],[4063],[4064],[4065],[4066],[4067],[4068],[4069],[4070],[4071],[4072],[4073],[4074],[4075],[4076],[4077],[4078],[4079],[4080],[4081],[4082],[4083],[4084],[4085],[4086],[4087],[4088],[4089],[4090],[4091],[4092],[4093],[4094],[4095],[4096],[4097],[4098],[4099],[4100],[4101],[4102],[4103],[4104],[4105],[4106],[4107],[4108],[4109],[4110],[4111],[4112],[4113],[4114],[4115],[4116],[4117],[4118],[4119],[4120],[4121],[4122],[4123],[4124],[4125],[4126],[4127],[4128],[4129],[4130],[4131],[4132],[4133],[4134],[4135],[4136],[4137],[4138],[4139],[4140],[4141],[4142],[4143],[4144],[4145],[4146],[4147],[4148],[4149],[4150],[4151],[4152],[4153],[4154],[4155],[4156],[4157],[4158],[4159],[4160],[4161],[4162],[4163],[4164],[4165],[4166],[4167],[4168],[4169],[4170],[4171],[4172],[4173],[4174],[4175],[4176],[4177],[4178],[4179],[4180],[4181],[4182],[4183],[4184],[4185],[4186],[4187],[4188],[4189],[4190],[4191],[4192],[4193],[4194],[4195],[4196],[4197],[4198],[4199],[4200],[4201],[4202],[4203],[4204],[4205],[4206],[4207],[4208],[4209],[4210],[4211],[4212],[4213],[4214],[4215],[4216],[4217],[4218],[4219],[4220],[4221],[4222],[4223],[4224],[4225],[4226],[4227],[4228],[4229],[4230],[4231],[4232],[4233],[4234],[4235],[4236],[4237],[4238],[4239],[4240],[4241],[4242],[4243],[4244],[4245],[4246],[4247],[4248],[4249],[4250],[4251],[4252],[4253],[4254],[4255],[4256],[4257],[4258],[4259],[4260],[4261],[4262],[4263],[4264],[4265],[4266],[4267],[4268],[4269],[4270],[4271],[4272],[4273],[4274],[4275],[4276],[4277],[4278],[4279],[4280],[4281],[4282],[4283],[4284],[4285],[4286],[4287],[4288],[4289],[4290],[4291],[4292],[4293],[4294],[4295],[4296],[4297],[4298],[4299],[4300],[4301],[4302],[4303],[4304],[4305],[4306],[4307],[4308],[4309],[4310],[4311],[4312],[4313],[4314],[4315],[4316],[4317],[4318],[4319],[4320],[4321],[4322],[4323],[4324],[4325],[4326],[4327],[4328],[4329],[4330],[4331],[4332],[4333],[4334],[4335],[4336],[4337],[4338],[4339],[4340],[4341],[4342],[4343],[4344],[4345],[4346],[4347],[4348],[4349],[4350],[4351],[4352],[4353],[4354],[4355],[4356],[4357],[4358],[4359],[4360],[4361],[4362],[4363],[4364],[4365],[4366],[4367],[4368],[4369],[4370],[4371],[4372],[4373],[4374],[4375],[4376],[4377],[4378],[4379],[4380],[4381],[4382],[4383],[4384],[4385],[4386],[4387],[4388],[4389],[4390],[4391],[4392],[4393],[4394],[4395],[4396],[4397],[4398],[4399],[4400],[4401],[4402],[4403],[4404],[4405],[4406],[4407],[4408],[4409],[4410],[4411],[4412],[4413],[4414],[4415],[4416],[4417],[4418],[4419],[4420],[4421],[4422],[4423],[4424],[4425],[4426],[4427],[4428],[4429],[4430],[4431],[4432],[4433],[4434],[4435],[4436],[4437],[4438],[4439],[4440],[4441],[4442],[4443],[4444],[4445],[4446],[4447],[4448],[4449],[4450],[4451],[4452],[4453],[4454],[4455],[4456],[4457],[4458],[4459],[4460],[4461],[4462],[4463],[4464],[4465],[4466],[4467],[4468],[4469],[4470],[4471],[4472],[4473],[4474],[4475],[4476],[4477],[4478],[4479],[4480],[4481],[4482],[4483],[4484],[4485],[4486],[4487],[4488],[4489],[4490],[4491],[4492],[4493],[4494],[4495],[4496],[4497],[4498],[4499],[4500],[4501],[4502],[4503],[4504],[4505],[4506],[4507],[4508],[4509],[4510],[4511],[4512],[4513],[4514],[4515],[4516],[4517],[4518],[4519],[4520],[4521],[4522],[4523],[4524],[4525],[4526],[4527],[4528],[4529],[4530],[4531],[4532],[4533],[4534],[4535],[4536],[4537],[4538],[4539],[4540],[4541],[4542],[4543],[4544],[4545],[4546],[4547],[4548],[4549],[4550],[4551],[4552],[4553],[4554],[4555],[4556],[4557],[4558],[4559],[4560],[4561],[4562],[4563],[4564],[4565],[4566],[4567],[4568],[4569],[4570],[4571],[4572],[4573],[4574],[4575],[4576],[4577],[4578],[4579],[4580],[4581],[4582],[4583],[4584],[4585],[4586],[4587],[4588],[4589],[4590],[4591],[4592],[4593],[4594],[4595],[4596],[4597],[4598],[4599],[4600],[4601],[4602],[4603],[4604],[4605],[4606],[4607],[4608],[4609],[4610],[4611],[4612],[4613],[4614],[4615],[4616],[4617],[4618],[4619],[4620],[4621],[4622],[4623],[4624],[4625],[4626],[4627],[4628],[4629],[4630],[4631],[4632],[4633],[4634],[4635],[4636],[4637],[4638],[4639],[4640],[4641],[4642],[4643],[4644],[4645],[4646],[4647],[4648],[4649],[4650],[4651],[4652],[4653],[4654],[4655],[4656],[4657],[4658],[4659],[4660],[4661],[4662],[4663],[4664],[4665],[4666],[4667],[4668],[4669],[4670],[4671],[4672],[4673],[4674],[4675],[4676],[4677],[4678],[4679],[4680],[4681],[4682],[4683],[4684],[4685],[4686],[4687],[4688],[4689],[4690],[4691],[4692],[4693],[4694],[4695],[4696],[4697],[4698],[4699],[4700],[4701],[4702],[4703],[4704],[4705],[4706],[4707],[4708],[4709],[4710],[4711],[4712],[4713],[4714],[4715],[4716],[4717],[4718],[4719],[4720],[4721],[4722],[4723],[4724],[4725],[4726],[4727],[4728],[4729],[4730],[4731],[4732],[4733],[4734],[4735],[4736],[4737],[4738],[4739],[4740],[4741],[4742],[4743],[4744],[4745],[4746],[4747],[4748],[4749],[4750],[4751],[4752],[4753],[4754],[4755],[4756],[4757],[4758],[4759],[4760],[4761],[4762],[4763],[4764],[4765],[4766],[4767],[4768],[4769],[4770],[4771],[4772],[4773],[4774],[4775],[4776],[4777],[4778],[4779],[4780],[4781],[4782],[4783],[4784],[4785],[4786],[4787],[4788],[4789],[4790],[4791],[4792],[4793],[4794],[4795],[4796],[4797],[4798],[4799],[4800],[4801],[4802],[4803],[4804],[4805],[4806],[4807],[4808],[4809],[4810],[4811],[4812],[4813],[4814],[4815],[4816],[4817],[4818],[4819],[4820],[4821],[4822],[4823],[4824],[4825],[4826],[4827],[4828],[4829],[4830],[4831],[4832],[4833],[4834],[4835],[4836],[4837],[4838],[4839],[4840],[4841],[4842],[4843],[4844],[4845],[4846],[4847],[4848],[4849],[4850],[4851],[4852],[4853],[4854],[4855],[4856],[4857],[4858],[4859],[4860],[4861]],\"hovertemplate\":\" x=%{x}<br> y=%{y}<br>count=%{customdata[0]}<extra></extra>\",\"legendgroup\":\"\",\"marker\":{\"color\":\"#636efa\",\"symbol\":\"circle\"},\"mode\":\"markers\",\"name\":\"\",\"showlegend\":false,\"x\":[-29.515,-29.515,-27.382,-27.382,-25.515,-25.515,-23.382,-23.382,-21.249,-21.249,-19.382,-19.382,-17.249,-17.249,-15.382,-15.382,-13.249,-13.249,-11.382,-11.382,-9.249,-9.249,-7.382,-7.382,-5.249,-5.249,-3.382,-3.382,-1.249,-1.249,0.618,0.618,2.751,2.751,4.618,4.618,6.751,6.751,8.618,8.618,10.751,10.751,12.885,12.885,14.751,14.751,16.885,16.885,18.751,18.751,20.885,20.885,22.751,22.751,24.885,24.885,26.751,26.751,28.885,28.885,30.751,30.751,32.885,32.885,35.018,35.018,37.151,37.151,39.018,39.018,41.151,41.151,43.018,43.018,45.151,45.151,47.018,47.018,49.151,49.151,51.018,51.018,53.151,53.151,55.285,55.285,57.151,57.151,59.285,59.285,61.151,61.151,63.285,63.285,65.151,65.151,65.151,67.285,67.285,69.418,69.418,71.285,71.285,73.151,73.151,75.285,75.285,77.418,77.418,79.285,79.285,81.418,81.418,83.285,83.285,85.151,85.151,87.285,87.285,89.151,89.151,91.285,91.285,93.418,93.418,95.285,95.285,97.418,97.418,99.285,99.285,101.418,101.418,103.285,103.285,105.418,105.418,107.551,107.551,109.418,109.418,111.551,111.551,113.418,113.418,115.551,115.551,117.418,117.418,119.551,119.551,121.685,121.685,123.551,123.551,125.418,125.418,127.551,127.551,129.685,129.685,131.551,131.551,133.685,133.685,135.551,135.551,137.685,137.685,139.551,139.551,141.685,141.685,143.818,143.818,145.685,145.685,147.818,147.818,149.684,149.684,149.889,149.889,148.063,148.063,145.93,145.93,144.063,144.063,141.93,141.93,140.063,140.063,137.93,137.93,136.063,136.063,133.93,133.93,132.063,132.063,129.93,129.93,128.063,128.063,125.93,125.93,124.063,124.063,121.93,121.93,120.063,120.063,117.93,117.93,116.063,116.063,113.93,113.93,112.063,112.063,109.93,109.93,108.063,108.063,105.93,105.93,104.063,104.063,101.93,101.93,100.063,100.063,97.93,97.93,96.063,96.063,93.93,93.93,91.796,91.796,89.93,89.93,87.796,87.796,85.93,85.93,83.796,83.796,81.93,81.93,79.796,79.796,77.663,77.663,75.796,75.796,73.93,73.93,71.796,71.796,69.663,69.663,67.796,67.796,65.663,65.663,63.53,63.53,61.663,61.663,59.53,59.53,57.663,57.663,55.53,55.53,53.663,53.663,51.53,51.53,51.53,49.396,49.396,47.53,47.53,45.396,45.396,43.53,43.53,41.396,41.396,39.53,39.53,37.396,37.396,35.53,35.53,33.396,33.396,31.53,31.53,29.396,29.396,27.53,27.53,25.396,25.396,23.53,23.53,21.396,21.396,19.53,19.53,17.396,17.396,15.53,15.53,13.396,13.396,11.53,11.53,9.396,9.396,7.53,7.53,5.396,5.396,3.53,3.53,1.396,1.396,-0.737,-0.737,-2.604,-2.604,-4.737,-4.737,-6.604,-6.604,-8.737,-8.737,-10.604,-10.604,-12.737,-12.737,-14.604,-14.604,-16.737,-16.737,-18.604,-18.604,-20.737,-20.737,-22.604,-22.604,-24.737,-24.737,-26.604,-26.604,-28.737,-28.737,-30.0,-30.0,-29.006,-29.006,-27.14,-27.14,-25.006,-25.006,-22.873,-22.873,-21.006,-21.006,-18.873,-18.873,-17.006,-17.006,-14.873,-14.873,-13.006,-13.006,-10.873,-10.873,-9.006,-9.006,-6.873,-6.873,-4.74,-4.74,-2.873,-2.873,-0.74,-0.74,1.127,1.127,3.26,3.26,5.127,5.127,6.994,6.994,9.127,9.127,10.994,10.994,13.127,13.127,15.26,15.26,17.127,17.127,19.26,19.26,21.127,21.127,23.26,23.26,25.127,25.127,25.127,28.06,28.06,29.927,29.927,32.06,32.06,33.927,33.927,36.06,36.06,37.927,37.927,40.06,40.06,41.927,41.927,44.06,44.06,45.927,45.927,48.06,48.06,49.927,49.927,52.06,52.06,53.927,53.927,56.06,56.06,57.927,57.927,60.06,60.06,61.927,61.927,64.06,64.06,66.194,66.194,68.06,68.06,70.194,70.194,72.06,72.06,74.194,74.194,76.06,76.06,78.194,78.194,80.06,80.06,82.194,82.194,84.06,84.06,86.194,86.194,88.06,88.06,90.194,90.194,92.327,92.327,94.194,94.194,96.327,96.327,98.194,98.194,100.327,100.327,102.194,102.194,104.327,104.327,106.194,106.194,108.327,108.327,110.194,110.194,112.327,112.327,114.194,114.194,116.327,116.327,118.46,118.46,120.327,120.327,122.46,122.46,124.327,124.327,126.46,126.46,128.327,128.327,130.46,130.46,132.327,132.327,134.46,134.46,136.327,136.327,138.46,138.46,140.327,140.327,142.46,142.46,144.327,144.327,146.46,146.46,148.327,148.327,150.46,150.46,152.594,152.594,154.46,154.46,156.327,156.327,158.46,158.46,160.594,160.594,162.46,162.46,164.594,164.594,166.46,166.46,168.327,168.327,170.46,170.46,172.594,172.594,174.46,174.46,176.594,176.594,178.46,178.46,180.0,180.0,179.288,179.288,177.155,177.155,175.288,175.288,173.155,173.155,171.288,171.288,169.155,169.155,167.288,167.288,165.155,165.155,163.022,163.022,161.155,161.155,159.022,159.022,157.155,157.155,155.022,155.022,153.155,153.155,151.022,151.022,149.155,149.155,147.022,147.022,145.155,145.155,143.022,143.022,141.155,141.155,139.022,139.022,136.888,136.888,135.022,135.022,132.888,132.888,131.022,131.022,128.888,128.888,126.755,126.755,124.888,124.888,124.888,122.755,122.755,120.888,120.888,118.755,118.755,116.888,116.888,114.755,114.755,112.888,112.888,110.755,110.755,108.888,108.888,106.755,106.755,104.888,104.888,102.755,102.755,100.622,100.622,98.755,98.755,96.622,96.622,94.755,94.755,92.622,92.622,90.755,90.755,88.622,88.622,86.755,86.755,84.622,84.622,82.755,82.755,80.622,80.622,78.755,78.755,76.622,76.622,74.755,74.755,72.622,72.622,70.755,70.755,68.622,68.622,66.755,66.755,64.622,64.622,62.755,62.755,60.622,60.622,58.755,58.755,56.622,56.622,54.755,54.755,52.622,52.622,50.755,50.755,48.622,48.622,46.755,46.755,44.622,44.622,42.755,42.755,40.622,40.622,38.755,38.755,36.622,36.622,34.755,34.755,32.622,32.622,30.755,30.755,28.622,28.622,26.488,26.488,24.622,24.622,22.488,22.488,20.622,20.622,18.755,18.755,16.622,16.622,14.488,14.488,12.622,12.622,10.488,10.488,8.622,8.622,6.488,6.488,4.622,4.622,2.488,2.488,0.622,0.622,0.0,0.0,0.0,0.0,0.0,0.0,0.0,0.0,1.768,1.768,3.635,3.635,5.768,5.768,7.635,7.635,9.768,9.768,11.635,11.635,13.768,13.768,15.901,15.901,17.768,17.768,19.901,19.901,21.768,21.768,23.901,23.901,25.768,25.768,27.901,27.901,29.768,29.768,31.901,31.901,33.768,33.768,35.901,35.901,37.768,37.768,39.901,39.901,41.768,41.768,43.901,43.901,45.768,45.768,47.901,47.901,49.768,49.768,51.901,51.901,54.035,54.035,55.901,55.901,57.768,57.768,59.901,59.901,61.768,61.768,63.901,63.901,65.768,65.768,67.901,67.901,70.035,70.035,71.901,71.901,73.768,73.768,75.901,75.901,77.768,77.768,79.901,79.901,82.035,82.035,83.901,83.901,85.768,85.768,87.901,87.901,89.768,89.768,91.901,91.901,93.768,93.768,95.901,95.901,98.035,98.035,99.901,99.901,101.768,101.768,103.901,103.901,105.768,105.768,107.901,107.901,109.768,109.768,111.901,111.901,114.035,114.035,115.901,115.901,117.768,117.768,119.901,119.901,121.768,121.768,123.901,123.901,125.768,125.768,127.901,127.901,129.768,129.768,131.901,131.901,133.768,133.768,135.901,135.901,138.035,138.035,139.901,139.901,142.035,142.035,144.168,144.168,146.035,146.035,148.168,148.168,150.035,150.035,152.168,152.168,154.035,154.035,156.168,156.168,158.035,158.035,160.168,160.168,162.035,162.035,164.168,164.168,166.035,166.035,168.168,168.168,170.035,170.035,172.168,172.168,174.035,174.035,176.168,176.168,178.035,178.035,180.0,180.0,180.0,180.0,180.0,180.0,180.0,180.0,179.58,179.58,177.713,177.713,175.58,175.58,173.713,173.713,171.58,171.58,169.713,169.713,167.58,167.58,165.713,165.713,163.58,163.58,161.713,161.713,159.58,159.58,157.713,157.713,155.58,155.58,153.446,153.446,151.58,151.58,149.446,149.446,147.58,147.58,145.446,145.446,143.58,143.58,141.446,141.446,139.313,139.313,137.446,137.446,135.313,135.313,133.446,133.446,131.313,131.313,129.446,129.446,127.313,127.313,125.446,125.446,123.313,123.313,121.18,121.18,119.313,119.313,117.18,117.18,115.313,115.313,113.18,113.18,111.313,111.313,109.18,109.18,107.313,107.313,105.18,105.18,103.313,103.313,101.18,101.18,99.046,99.046,97.18,97.18,95.046,95.046,93.18,93.18,91.046,91.046,88.913,88.913,87.046,87.046,84.913,84.913,83.046,83.046,80.913,80.913,79.046,79.046,76.913,76.913,75.046,75.046,72.913,72.913,71.046,71.046,68.913,68.913,67.046,67.046,64.913,64.913,63.046,63.046,60.913,60.913,59.046,59.046,56.913,56.913,54.78,54.78,52.913,52.913,52.913,50.78,50.78,48.913,48.913,46.78,46.78,44.646,44.646,42.78,42.78,40.646,40.646,38.78,38.78,36.646,36.646,34.78,34.78,32.646,32.646,30.78,30.78,28.646,28.646,26.78,26.78,24.646,24.646,22.78,22.78,20.646,20.646,18.78,18.78,16.646,16.646,14.78,14.78,12.646,12.646,10.78,10.78,8.646,6.78,6.78,4.646,4.646,2.78,2.78,0.646,0.646,0.646,-1.487,-1.487,-3.354,-3.354,-5.487,-5.487,-7.354,-7.354,-9.487,-9.487,-11.354,-11.354,-13.487,-13.487,-15.354,-15.354,-17.487,-17.487,-19.354,-19.354,-21.487,-21.487,-23.354,-23.354,-25.487,-25.487,-27.354,-27.354,-29.487,-29.487,-30.0,-30.0,-29.457,-29.457,-27.59,-27.59,-25.457,-25.457,-23.59,-23.59,-21.457,-21.457,-19.324,-19.324,-17.457,-17.457,-15.324,-15.324,-13.457,-13.457,-11.324,-11.324,-9.457,-9.457,-7.324,-7.324,-5.19,-5.19,-3.324,-3.324,-1.19,-1.19,0.676,0.676,2.81,2.81,4.676,4.676,6.81,6.81,8.676,8.676,10.81,10.81,12.676,12.676,14.81,14.81,16.676,16.676,18.81,18.81,20.676,20.676,22.81,22.81,24.676,24.676,26.81,26.81,28.676,28.676,30.81,30.81,32.943,32.943,34.81,34.81,36.943,36.943,38.81,38.81,40.943,40.943,42.81,42.81,44.943,44.943,46.81,46.81,48.943,48.943,50.81,50.81,52.943,52.943,54.81,54.81,56.943,56.943,58.81,58.81,60.943,60.943,62.81,62.81,64.943,64.943,66.81,66.81,68.943,68.943,70.81,70.81,72.943,72.943,75.076,75.076,76.943,76.943,79.076,79.076,80.943,80.943,83.076,83.076,84.943,84.943,87.076,87.076,89.21,89.21,91.076,91.076,93.21,93.21,95.076,95.076,97.21,97.21,99.076,99.076,101.21,101.21,103.343,103.343,105.21,105.21,107.343,107.343,109.21,109.21,111.076,111.076,113.21,113.21,115.343,115.343,117.21,117.21,119.343,119.343,121.476,121.476,123.343,123.343,125.476,125.476,127.343,127.343,129.476,129.476,131.343,131.343,133.476,133.476,135.61,135.61,137.476,137.476,139.343,139.343,141.476,141.476,143.61,143.61,145.476,145.476,147.61,147.61,149.476,149.476,150.0,150.0,149.471,149.471,147.338,147.338,145.471,145.471,143.338,143.338,143.338,141.471,141.471,139.338,137.471,137.471,137.471,135.338,135.338,133.205,133.205,131.338,131.338,129.205,129.205,127.338,127.338,125.205,125.205,123.338,123.338,121.205,121.205,119.338,119.338,117.205,117.205,115.338,115.338,113.205,113.205,111.071,111.071,109.205,109.205,107.071,107.071,105.205,105.205,103.071,103.071,100.938,100.938,99.071,99.071,96.938,96.938,95.071,95.071,93.205,93.205,91.071,91.071,89.205,89.205,87.071,87.071,84.938,84.938,83.071,83.071,80.938,80.938,79.071,79.071,76.938,76.938,75.071,75.071,72.938,72.938,71.071,71.071,68.938,68.938,67.071,67.071,64.938,64.938,63.071,63.071,60.938,60.938,59.071,59.071,56.938,56.938,55.071,55.071,52.938,52.938,51.071,51.071,48.938,48.938,46.805,46.805,44.938,44.938,42.805,42.805,40.938,40.938,38.805,38.805,36.938,36.938,34.805,34.805,32.938,32.938,30.805,30.805,28.938,28.938,26.805,26.805,24.671,24.671,22.805,22.805,20.671,20.671,18.538,18.538,16.671,16.671,14.538,14.538,12.671,12.671,10.538,10.538,8.671,8.671,6.805,6.805,4.671,4.671,2.805,2.805,0.671,0.671,0.0,0.0,0.385,0.385,2.519,2.519,4.385,4.385,6.252,6.252,8.385,8.385,10.519,10.519,12.385,12.385,14.519,14.519,16.385,16.385,18.519,18.519,20.385,20.385,22.519,22.519,24.385,24.385,26.519,26.519,28.385,28.385,30.519,30.519,32.652,32.652,34.519,34.519,36.652,36.652,38.519,38.519,38.519,40.652,42.519,42.519,44.652,44.652,46.519,46.519,48.652,48.652,50.519,50.519,52.652,52.652,54.519,54.519,56.652,56.652,56.652,58.785,58.785,60.652,60.652,62.785,62.785,64.652,64.652,66.785,66.785,68.919,68.919,70.785,70.785,72.919,72.919,74.785,74.785,76.919,76.919,78.785,78.785,80.919,80.919,82.785,82.785,84.919,84.919,86.785,86.785,88.919,88.919,90.785,90.785,92.919,92.919,94.785,94.785,96.919,96.919,98.785,98.785,100.919,100.919,103.052,103.052,104.919,104.919,107.052,107.052,108.919,108.919,111.052,111.052,112.919,112.919,115.052,115.052,117.185,117.185,119.052,119.052,121.185,121.185,123.052,123.052,125.185,125.185,127.052,127.052,129.185,129.185,131.052,131.052,133.185,133.185,135.052,135.052,137.185,137.185,139.052,139.052,141.185,141.185,143.319,143.319,145.185,145.185,147.319,147.319,149.185,149.185,150.0,150.0,149.758,149.758,147.629,147.629,145.496,145.496,143.629,143.629,141.496,141.496,139.629,139.629,137.496,137.496,135.629,135.629,133.496,133.496,131.629,131.629,129.496,129.496,127.363,127.363,125.496,125.496,123.363,123.363,121.496,121.496,119.363,119.363,117.496,117.496,115.363,115.363,113.496,113.496,111.363,111.363,109.496,109.496,107.363,107.363,105.496,105.496,103.629,103.629,101.496,101.496,99.629,99.629,97.496,97.496,95.629,95.629,93.496,93.496,91.363,91.363,89.496,89.496,87.363,87.363,85.496,85.496,83.363,83.363,81.496,81.496,79.363,79.363,77.496,77.496,75.363,75.363,73.496,73.496,71.363,71.363,69.496,69.496,67.363,67.363,65.229,65.229,63.363,63.363,61.229,61.229,59.363,59.363,57.229,57.229,55.363,55.363,53.229,53.229,51.363,51.363,49.229,49.229,47.363,47.363,45.229,45.229,43.363,43.363,41.229,41.229,39.363,39.363,39.363,37.229,35.363,35.363,33.229,33.229,31.363,31.363,29.229,29.229,27.363,27.363,25.229,25.229,23.363,23.363,21.229,21.229,19.363,19.363,17.229,17.229,15.363,15.363,15.363,13.229,13.229,11.096,11.096,9.229,9.229,7.096,7.096,5.229,5.229,3.096,3.096,1.229,1.229,-0.904,-0.904,-2.771,-2.771,-4.904,-4.904,-6.771,-6.771,-8.904,-8.904,-10.0,-10.0,-10.0,-10.0,-10.0,-10.0,-10.0,-10.0,-10.0,-10.0,-8.039,-8.039,-5.906,-5.906,-4.039,-4.039,-1.906,-1.906,-0.039,-0.039,2.094,2.094,3.961,3.961,6.094,6.094,7.961,7.961,10.094,10.094,11.961,14.094,14.094,15.961,15.961,18.094,18.094,19.961,19.961,22.094,22.094,23.961,23.961,26.094,26.094,27.961,27.961,30.094,30.094,31.961,31.961,34.094,34.094,35.961,35.961,38.094,38.094,39.961,39.961,42.094,42.094,43.961,43.961,46.094,46.094,48.228,48.228,50.094,50.094,52.228,52.228,54.094,54.094,56.228,56.228,58.094,58.094,60.228,60.228,62.094,62.094,64.228,64.228,66.094,66.094,68.228,68.228,70.094,70.094,72.228,72.228,74.094,74.094,76.228,76.228,78.094,78.094,80.228,80.228,82.361,82.361,84.228,84.228,86.361,86.361,88.228,88.228,90.361,90.361,92.228,92.228,94.361,94.361,96.228,96.228,98.361,98.361,100.228,100.228,102.361,102.361,104.228,104.228,106.361,106.361,108.228,108.228,110.361,110.361,112.228,112.228,114.361,114.361,116.228,116.228,118.361,118.361,120.228,120.228,122.361,122.361,124.494,124.494,126.361,126.361,128.494,128.494,130.361,130.361,132.494,132.494,134.361,134.361,134.361,136.494,136.494,138.628,138.628,140.494,140.494,142.628,142.628,144.494,144.494,146.628,146.628,148.494,148.494,150.628,150.628,152.494,152.494,154.628,154.628,156.494,156.494,158.628,158.628,160.0,160.0,160.0,160.0,160.0,160.0,160.0,160.0,160.0,160.0,158.316,158.316,156.182,156.182,154.316,154.316,152.182,152.182,150.316,150.316,148.182,148.182,146.316,146.316,144.182,144.182,142.049,142.049,140.182,140.182,138.316,138.316,136.182,136.182,134.049,134.049,132.182,132.182,130.049,130.049,128.182,128.182,126.049,126.049,124.182,124.182,122.049,122.049,120.182,120.182,118.049,118.049,115.916,115.916,114.049,114.049,111.916,111.916,110.049,110.049,107.916,107.916,106.049,106.049,103.916,103.916,102.049,102.049,99.916,99.916,97.782,97.782,95.916,95.916,93.782,93.782,91.916,91.916,89.782,89.782,87.916,87.916,85.782,85.782,83.649,83.649,81.782,81.782,79.649,79.649,77.782,77.782,75.649,75.649,73.782,73.782,71.649,71.649,69.782,69.782,67.649,67.649,65.782,65.782,63.649,63.649,61.782,61.782,59.649,59.649,57.782,57.782,55.649,55.649,53.782,53.782,51.649,51.649,49.516,49.516,47.649,47.649,45.516,45.516,43.649,43.649,41.516,41.516,39.649,39.649,37.516,37.516,35.382,35.382,33.516,33.516,31.649,31.649,29.516,29.516,27.649,27.649,25.516,25.516,23.382,23.382,21.516,21.516,19.382,19.382,17.516,17.516,15.649,15.649,13.516,13.516,11.649,11.649,9.516,9.516,7.382,7.382,5.516,5.516,3.382,3.382,1.516,1.516,-0.618,-0.618,-2.484,-2.484,-4.618,-4.618,-6.484,-6.484,-8.618,-8.618,-10.484,-10.484,-12.618,-12.618,-14.484,-14.484,-16.618,-16.618,-16.618,-18.751,-20.0,-20.0,-20.0,-20.0,-19.53,-19.53,-17.397,-17.397,-15.53,-15.53,-13.397,-13.397,-11.53,-11.53,-11.53,-9.397,-7.53,-7.53,-5.397,-5.397,-3.53,-3.53,-1.397,-1.397,0.47,0.47,2.603,2.603,4.47,4.47,6.603,6.603,8.47,8.47,10.603,10.603,12.47,12.47,14.603,14.603,16.47,16.47,18.603,18.603,20.47,20.47,22.603,22.603,24.47,24.47,26.603,26.603,28.47,28.47,30.336,30.336,32.47,32.47,34.336,34.336,36.47,36.47,38.336,38.336,40.47,40.47,42.603,42.603,44.47,44.47,46.603,46.603,48.47,48.47,50.603,50.603,52.47,52.47,54.603,54.603,56.47,56.47,58.603,58.603,60.47,60.47,62.603,62.603,64.47,64.47,66.603,66.603,68.47,68.47,70.603,70.603,72.47,72.47,72.47,74.603,74.603,76.47,76.47,78.603,78.603,80.47,80.47,82.603,82.603,84.47,84.47,86.603,86.603,88.47,88.47,90.603,90.603,92.47,92.47,94.603,94.603,96.736,96.736,98.603,98.603,100.736,100.736,102.603,102.603,104.736,104.736,106.603,106.603,108.736,108.736,110.603,110.603,112.736,112.736,114.603,114.603,116.736,116.736,118.603,118.603,120.736,120.736,122.603,122.603,124.736,124.736,126.603,126.603,128.736,128.736,130.87,130.87,132.736,132.736,134.87,134.87,136.736,136.736,138.87,138.87,140.736,140.736,142.87,142.87,144.736,144.736,146.87,146.87,148.736,148.736,150.0,150.0,150.0,150.0,149.274,149.274,147.407,147.407,145.274,145.274,143.407,143.407,141.274,141.274,139.14,139.14,137.274,137.274,135.14,135.14,133.274,133.274,131.14,131.14,129.274,129.274,127.14,127.14,125.274,125.274,123.14,123.14,121.274,121.274,119.14,119.14,117.007,117.007,115.14,115.14,113.007,113.007,111.14,111.14,109.007,109.007,107.14,107.14,105.007,105.007,103.14,103.14,101.007,101.007,99.14,99.14,97.007,97.007,95.14,95.14,93.007,93.007,91.14,91.14,89.007,89.007,87.14,87.14,85.007,85.007,83.14,83.14,81.007,81.007,79.14,79.14,77.274,77.274,75.14,75.14,73.007,73.007,71.14,71.14,69.007,69.007,67.14,67.14,65.007,65.007,63.14,63.14,61.007,61.007,59.14,59.14,57.007,57.007,55.14,55.14,53.007,53.007,51.14,51.14,49.007,49.007,47.14,47.14,45.007,45.007,42.874,42.874,41.007,41.007,38.874,38.874,37.007,37.007,34.874,34.874,33.007,33.007,30.874,30.874,29.007,29.007,26.874,26.874,25.007,25.007,22.874,22.874,21.007,21.007,18.874,18.874,17.007,17.007,14.874,14.874,13.007,13.007,10.874,10.874,9.007,9.007,6.874,6.874,5.007,5.007,2.874,2.874,1.007,1.007,0.0,0.0,0.0,0.0,0.978,0.978,3.111,3.111,4.978,4.978,7.111,7.111,8.978,8.978,11.111,11.111,12.978,12.978,15.111,15.111,16.978,16.978,19.111,19.111,20.978,20.978,23.111,23.111,24.978,24.978,27.111,27.111,28.978,28.978,31.111,31.111,33.244,33.244,35.111,35.111,37.244,37.244,39.111,39.111,41.244,41.244,43.111,43.111,45.244,45.244,47.111,47.111,49.244,49.244,51.111,51.111,53.244,53.244,55.111,55.111,57.244,57.244,59.111,59.111,61.244,61.244,63.111,63.111,65.244,65.244,67.378,67.378,69.244,69.244,71.378,71.378,73.244,73.244,75.378,75.378,77.244,77.244,79.378,79.378,81.244,81.244,83.378,83.378,85.244,85.244,87.378,87.378,89.244,89.244,91.378,91.378,93.244,93.244,95.378,95.378,97.244,97.244,99.378,99.378,101.511,101.511,103.378,103.378,105.244,105.244,105.244,107.378,107.378,109.511,109.511,111.378,111.378,113.511,113.511,115.378,115.378,117.511,117.511,119.378,119.378,121.511,121.511,123.644,123.644,125.511,125.511,127.644,127.644,129.778,129.778,131.644,131.644,133.511,133.511,135.644,135.644,137.511,137.511,139.644,139.644,141.511,141.511,143.644,143.644,145.511,145.511,147.644,147.644,149.511,149.511,151.644,151.644,153.778,153.778,155.644,155.644,157.778,157.778,159.644,159.644,161.778,161.778,163.644,163.644,165.778,165.778,167.644,167.644,169.771,169.771,170.0,170.0,170.0,170.0,168.499,168.499,166.366,166.366,164.499,164.499,162.366,162.366,160.499,160.499,158.366,158.366,156.499,156.499,154.366,154.366,152.232,152.232,150.366,150.366,148.232,148.232,146.366,146.366,144.232,144.232,142.366,142.366,140.232,140.232,138.366,138.366,136.232,136.232,134.099,134.099,132.232,132.232,130.099,130.099,128.232,128.232,126.099,126.099,124.232,124.232,122.099,122.099,120.232,120.232,118.099,118.099,116.232,116.232,114.099,114.099,112.232,112.232,110.099,110.099,108.232,108.232,106.099,106.099,104.232,104.232,102.099,102.099,99.966,99.966,98.099,98.099,95.966,95.966,94.099,94.099,91.966,91.966,90.099,90.099,88.232,88.232,86.099,86.099,83.966,83.966,82.099,82.099,79.966,79.966,78.099,78.099,76.232,76.232,74.099,74.099,71.966,71.966,70.099,70.099,67.966,67.966,66.099,66.099,63.966,63.966,62.099,62.099,59.966,59.966,58.099,58.099,55.966,55.966,54.099,54.099,51.966,51.966,50.099,50.099,47.966,47.966,45.832,45.832,43.966,43.966,41.832,41.832,39.966,39.966,37.832,37.832,35.966,35.966,33.832,33.832,31.966,31.966,29.832,29.832,27.966,27.966,25.832,25.832,23.966,23.966,21.832,21.832,19.966,19.966,17.832,17.832,15.966,15.966,13.832,13.832,11.699,11.699,9.832,9.832,7.699,7.699,5.566,5.566,3.699,3.699,1.566,1.566,0.0,0.0,0.0,0.0,0.0,0.0,0.0,0.0,0.0,0.0,0.288,0.288,2.153,2.153,4.287,4.287,6.153,6.153,8.287,8.287,10.153,10.153,12.287,12.287,14.153,14.153,16.287,16.287,18.153,18.153,20.287,20.287,22.153,22.153,24.287,24.287,26.153,26.153,28.287,28.287,30.153,30.153,32.287,32.287,34.153,34.153,36.287,36.287,38.153,38.153,40.287,40.287,42.153,42.153,44.287,44.287,46.42,46.42,48.287,48.287,50.42,50.42,52.287,52.287,54.42,54.42,56.287,56.287,58.42,58.42,60.287,60.287,62.42,62.42,64.287,64.287,66.42,66.42,68.553,68.553,70.42,70.42,72.553,72.553,74.42,74.42,76.553,76.553,78.42,78.42,80.287,80.287,82.42,82.42,84.553,84.553,86.42,86.42,88.553,88.553,90.42,90.42,92.553,92.553,94.42,94.42,96.553,96.553,98.42,98.42,100.553,100.553,102.42,102.42,104.553,104.553,106.42,106.42,108.553,108.553,110.42,110.42,112.553,112.553,114.42,114.42,116.553,116.553,118.42,118.42,120.553,120.553,122.42,122.42,124.553,124.553,126.42,126.42,128.553,128.553,130.42,130.42,132.553,132.553,134.687,134.687,136.553,136.553,138.42,138.42,140.553,140.553,142.687,142.687,144.553,144.553,146.687,146.687,148.553,148.553,150.0,150.0,150.0,150.0,150.0,150.0,150.0,150.0,150.0,150.0,149.59,149.59,147.457,147.457,145.59,145.59,143.457,143.457,141.59,141.59,139.457,139.457,137.59,137.59,135.457,135.457,133.324,133.324,131.457,131.457,129.324,129.324,129.324,127.457,125.324,125.324,125.324,123.19,123.19,121.324,121.324,119.19,119.19,117.324,117.324,115.19,115.19,113.324,113.324,111.19,111.19,109.324,109.324,107.19,107.19,105.324,105.324,103.19,103.19,101.057,101.057,99.19,99.19,97.057,97.057,95.19,95.19,93.057,93.057,91.19,91.19,89.057,89.057,87.19,87.19,85.057,85.057,83.19,83.19,81.057,81.057,79.19,79.19,77.057,77.057,75.19,75.19,73.057,73.057,71.19,71.19,69.057,69.057,66.924,66.924,65.057,65.057,62.924,62.924,61.057,61.057,58.924,58.924,57.057,57.057,54.924,54.924,53.057,53.057,50.924,50.924,49.057,49.057,47.19,47.19,45.057,45.057,42.924,42.924,41.057,41.057,38.924,38.924,37.057,37.057,34.924,34.924,33.057,33.057,30.924,30.924,29.057,29.057,26.924,26.924,25.057,25.057,22.924,22.924,21.057,21.057,18.924,18.924,17.057,17.057,14.924,14.924,13.057,13.057,10.924,10.924,9.057,9.057,6.924,6.924,5.057,5.057,2.924,2.924,1.057,1.057,-1.076,-1.076,-3.21,-3.21,-5.076,-5.076,-7.21,-7.21,-9.076,-9.076,-11.21,-11.21,-13.076,-13.076,-15.0,-15.0,-15.0,-15.0,-15.0,-15.0,-14.271,-14.271,-12.138,-12.138,-10.271,-10.271,-8.138,-8.138,-6.005,-6.005,-4.138,-4.138,-2.005,-2.005,-0.138,-0.138,1.995,1.995,3.862,3.862,5.995,5.995,8.129,8.129,9.995,9.995,12.129,12.129,13.995,13.995,16.129,16.129,17.995,17.995,20.129,20.129,21.995,21.995,24.129,24.129,25.995,25.995,28.129,28.129,29.995,29.995,32.129,32.129,33.995,33.995,36.129,36.129,37.995,37.995,40.129,40.129,41.995,41.995,44.129,44.129,45.995,45.995,48.129,48.129,49.995,49.995,52.129,52.129,54.262,54.262,56.129,56.129,58.262,58.262,60.129,60.129,62.262,62.262,64.129,64.129,66.262,66.262,68.129,68.129,70.262,70.262,72.129,72.129,74.262,74.262,76.395,76.395,78.262,78.262,78.262,80.395,82.262,82.262,84.395,84.395,84.395,86.262,88.395,88.395,90.262,90.262,92.395,92.395,92.395,94.262,96.395,96.395,98.262,98.262,100.395,100.395,102.262,102.262,104.395,104.395,104.395,106.262,106.262,108.395,108.395,110.262,110.262,112.395,112.395,114.262,114.262,116.395,116.395,118.262,118.262,120.395,120.395,122.529,122.529,124.395,124.395,126.529,126.529,128.395,128.395,130.529,130.529,132.395,132.395,134.529,134.529,136.395,136.395,138.529,138.529,140.662,140.662,142.529,142.529,144.395,144.395,146.529,146.529,148.395,148.395,150.529,150.529,152.662,152.662,154.529,154.529,156.395,156.395,158.0,158.0,158.0,158.0,158.0,158.0,156.681,156.681,154.815,154.815,152.681,152.681,150.815,150.815,148.681,148.681,146.815,146.815,144.681,144.681,142.815,142.815,140.681,140.681,138.815,138.815,136.681,136.681,134.815,134.815,132.681,132.681,130.815,130.815,128.681,128.681,126.548,126.548,124.681,124.681,122.548,122.548,120.681,120.681,118.548,118.548,116.681,116.681,114.548,114.548,112.681,112.681,110.548,110.548,108.681,108.681,106.548,106.548,104.681,104.681,102.548,102.548,100.681,100.681,98.548,98.548,96.681,96.681,94.548,94.548,92.681,92.681,90.548,90.548,88.681,88.681,86.548,86.548,84.415,84.415,82.548,82.548,80.415,80.415,78.548,78.548,76.415,76.415,74.548,74.548,72.415,72.415,70.548,70.548,68.415,68.415,66.548,66.548,64.415,64.415,62.548,62.548,60.415,60.415,58.548,58.548,56.415,56.415,54.548,54.548,52.415,52.415,50.548,50.548,48.415,48.415,46.548,46.548,44.415,44.415,42.548,42.548,40.415,40.415,38.548,38.548,36.415,36.415,34.281,34.281,32.415,32.415,30.281,30.281,28.415,28.415,26.281,26.281,24.415,24.415,22.281,22.281,20.415,20.415,18.281,18.281,16.415,16.415,14.281,14.281,12.415,12.415,10.281,10.281,8.415,8.415,6.281,6.281,4.415,4.415,2.281,2.281,0.415,0.415,0.0,0.0,0.0,0.0,0.0,0.0,0.0,0.0,0.0,0.0,0.504,0.504,2.371,2.371,4.504,4.504,6.637,6.637,8.504,8.504,10.371,10.371,12.504,12.504,14.637,14.637,16.504,16.504,18.371,18.371,20.504,20.504,22.371,22.371,24.504,24.504,26.371,26.371,28.504,28.504,30.371,30.371,32.504,32.504,34.371,34.371,36.504,36.504,38.371,38.371,40.504,40.504,42.371,42.371,44.504,44.504,46.371,46.371,48.504,48.504,50.637,50.637,52.504,52.504,54.637,54.637,56.504,56.504,58.371,58.371,60.504,60.504,62.637,62.637,64.504,64.504,66.371,66.371,68.504,68.504,70.371,70.371,72.504,72.504,74.637,74.637,76.504,76.504,78.637,78.637,80.504,80.504,82.637,82.637,84.504,84.504,86.637,86.637,88.504,88.504,90.637,90.637,92.504,92.504,94.637,94.637,96.504,96.504,98.637,98.637,100.504,100.504,102.637,102.637,104.504,104.504,106.637,106.637,108.771,108.771,110.637,110.637,112.771,112.771,114.637,114.637,116.771,116.771,118.637,118.637,120.771,120.771,122.637,122.637,124.771,124.771,126.637,126.637,128.771,128.771,130.637,130.637,132.771,132.771,134.637,134.637,136.771,136.771,138.637,138.637,140.771,140.771,142.637,142.637,144.771,144.771,146.637,146.637,148.771,148.771,150.637,150.637,152.771,152.771,154.637,154.637,156.771,156.771,158.637,158.637,160.771,160.771,162.637,162.637,164.771,164.771,166.637,166.637,168.771,168.771,170.637,170.637,172.771,172.771,174.904,174.904,176.771,176.771,178.904,178.904,180.0,180.0,180.0,180.0,180.0,180.0,180.0,180.0,180.0,180.0,180.0,180.0,178.572,178.572,176.439,176.439,174.572,174.572,172.439,172.439,170.572,170.572,168.439,168.439,166.572,166.572,164.439,164.439,162.572,162.572,160.439,160.439,158.572,158.572,156.439,156.439,154.306,154.306,152.439,152.439,150.306,150.306,148.439,148.439,146.306,146.306,144.439,144.439,142.306,142.306,142.306,140.439,140.439,138.306,138.306,136.439,136.439,134.306,134.306,132.172,132.172,130.306,130.306,128.172,128.172,126.306,126.306,124.172,124.172,122.306,122.306,120.172,120.172,118.306,118.306,116.172,116.172,114.306,114.306,112.172,112.172,110.306,110.306,108.172,108.172,106.306,106.306,104.172,104.172,102.306,102.306,100.172,100.172,98.306,98.306,96.172,96.172,94.306,94.306,92.172,92.172,90.039,90.039,88.172,88.172,86.039,86.039,84.172,84.172,82.039,82.039,80.172,80.172,78.039,78.039,76.172,76.172,74.039,74.039,72.172,72.172,70.039,70.039,68.172,68.172,66.039,66.039,64.172,64.172,62.039,62.039,60.172,60.172,58.039,58.039,56.172,56.172,54.039,54.039,51.906,51.906,50.039,50.039,47.906,47.906,46.039,46.039,43.906,43.906,42.039,42.039,39.906,39.906,38.039,38.039,35.906,35.906,33.772,33.772,31.906,31.906,29.772,29.772,27.906,27.906,25.772,25.772,23.906,23.906,21.772,21.772,19.906,19.906,17.772,17.772,15.639,15.639,13.772,13.772,11.639,11.639,9.772,9.772,7.639,7.639,5.772,5.772,3.639,3.639,1.772,1.772,0.0,0.0,0.0,0.0,0.0,0.0,0.0,0.0,1.818,1.818,3.684,3.684,5.818,5.818,7.684,7.684,9.818,9.818,11.684,11.684,13.818,13.818,15.684,15.684,17.818,17.818,19.684,19.684,21.818,21.818,23.684,23.684,25.818,25.818,27.684,27.684,29.818,29.818,31.684,31.684,33.818,33.818,35.951,35.951,37.818,37.818,39.951,39.951,41.818,41.818,43.951,43.951,45.818,45.818,47.951,47.951,50.084,50.084,51.951,51.951,53.818,53.818,55.951,55.951,57.818,57.818,59.951,59.951,62.084,62.084,63.951,63.951,66.084,66.084,67.951,67.951,70.084,70.084,70.084,71.951,74.084,74.084,75.951,75.951,78.084,78.084,78.084,79.951,82.084,82.084,83.951,83.951,86.084,86.084,87.951,87.951,90.084,90.084,91.951,91.951,94.084,94.084,95.951,95.951,98.084,98.084,99.951,99.951,102.084,102.084,102.084,104.218,104.218,106.084,106.084,108.218,108.218,110.084,110.084,112.218,112.218,114.084,114.084,116.218,116.218,118.084,118.084,120.218,120.218,122.084,122.084,124.218,124.218,126.084,126.084,128.218,128.218,130.351,130.351,132.218,132.218,134.351,134.351,136.218,136.218,138.084,138.084,140.218,140.218,142.084,142.084,144.218,144.218,146.084,146.084,148.218,148.218,150.0,150.0,150.0,150.0,150.0,150.0,150.0,150.0,148.197,148.197,146.064,146.064,144.197,144.197,142.064,142.064,140.197,140.197,138.064,138.064,136.197,136.197,134.064,134.064,132.197,132.197,130.064,130.064,128.197,128.197,126.064,126.064,124.197,124.197,122.064,122.064,119.93,119.93,118.064,118.064,115.93,115.93,114.064,114.064,111.93,111.93,110.064,110.064,107.93,107.93,106.064,106.064,103.93,103.93,102.064,102.064,99.93,99.93,97.797,97.797,95.93,95.93,93.797,93.797,91.93,91.93,90.064,90.064,87.93,87.93,85.797,85.797,83.93,83.93,82.064,82.064,79.93,79.93,77.797,77.797,75.93,75.93,73.797,73.797,71.93,71.93,69.797,69.797,67.93,67.93,65.797,65.797,63.93,63.93,61.797,61.797,59.93,59.93,57.797,57.797,55.93,55.93,53.797,53.797,51.93,51.93,49.797,49.797,47.93,47.93,45.797,45.797,43.93,43.93,41.797,41.797,39.93,39.93,37.797,37.797,35.93,35.93,33.797,33.797,31.664,31.664,29.797,29.797,27.664,27.664,25.797,25.797,23.664,23.664,21.797,21.797,19.664,19.664,17.797,17.797,15.664,15.664,13.797,13.797,11.664,11.664,9.797,9.797,7.664,7.664,5.797,5.797,3.664,3.664,1.797,1.797,0.0,0.0,0.0,0.0,0.0,0.0,0.0,0.0,0.0,0.0,0.0,0.0,0.793,0.793,2.66,2.66,4.793,4.793,6.66,6.66,8.793,8.793,10.926,10.926,12.793,12.793,14.926,14.926,16.793,16.793,18.926,18.926,20.793,20.793,22.926,22.926,25.06,25.06,26.926,26.926,29.06,29.06,30.926,30.926,33.06,33.06,34.926,34.926,37.06,37.06,38.926,38.926,41.06,41.06,42.926,42.926,45.06,45.06,46.926,46.926,49.06,49.06,51.193,51.193,53.06,53.06,55.193,55.193,57.06,57.06,59.193,59.193,61.06,61.06,63.193,63.193,63.193,65.06,65.06,67.193,67.193,69.06,69.06,71.193,71.193,73.326,73.326,75.193,75.193,77.326,77.326,79.193,79.193,81.326,81.326,83.193,83.193,85.326,85.326,87.193,87.193,89.326,89.326,91.193,91.193,93.326,93.326,95.193,95.193,97.326,97.326,99.46,99.46,101.326,101.326,103.46,103.46,105.326,105.326,107.46,107.46,109.326,109.326,111.46,111.46,113.326,113.326,115.46,115.46,117.326,117.326,119.46,119.46,121.326,121.326,123.46,123.46,125.326,125.326,127.46,127.46,129.326,129.326,131.46,131.46,133.593,133.593,135.46,135.46,137.593,137.593,139.46,139.46,141.593,141.593,143.46,143.46,145.593,145.593,147.46,147.46,149.593,149.593,151.46,151.46,153.593,153.593,155.726,155.726,157.593,157.593,159.726,159.726,161.593,161.593,163.726,163.726,165.593,165.593,167.726,167.726,169.593,169.593,171.726,171.726,173.593,173.593,175.726,175.726,177.593,177.593,179.725,179.725,180.0,180.0,180.0,180.0,180.0,180.0,180.0,180.0,180.0,180.0,179.81,179.81,177.956,177.956,175.823,175.823,173.956,173.956,171.823,171.823,169.956,169.956,167.823,167.823,165.956,165.956,163.823,163.823,161.956,161.956,159.823,159.823,157.956,157.956,155.823,155.823,153.956,153.956,151.823,151.823,149.689,149.689,147.823,147.823,145.689,145.689,143.823,143.823,141.689,141.689,139.823,139.823,137.689,137.689,135.823,135.823,133.689,133.689,131.823,131.823,129.689,129.689,127.823,127.823,125.689,125.689,123.823,123.823,121.689,121.689,119.823,119.823,117.689,117.689,115.823,115.823,113.689,113.689,111.823,111.823,109.689,109.689,107.823,107.823,105.689,105.689,103.823,103.823,101.689,101.689,99.823,99.823,97.689,97.689,95.823,95.823,93.689,93.689,91.823,91.823,89.689,89.689,87.823,87.823,85.689,85.689,83.823,83.823,81.689,81.689,79.556,79.556,77.689,77.689,75.556,75.556,73.689,73.689,71.823,71.823,69.689,69.689,67.556,67.556,65.689,65.689,63.556,63.556,61.689,61.689,59.556,59.556,57.689,57.689,55.556,55.556,53.689,53.689,51.556,51.556,49.689,49.689,47.556,47.556,45.689,45.689,43.556,43.556,41.689,41.689,39.556,39.556,37.689,37.689,35.556,35.556,33.689,33.689,31.556,31.556,29.423,29.423,27.556,27.556,25.423,25.423,23.556,23.556,21.423,21.423,19.556,19.556,17.423,17.423,15.556,15.556,13.423,13.423,11.556,11.556,9.423,9.423,7.556,7.556,5.423,5.423,3.556,3.556,1.423,1.423,-0.444,-0.444,-2.577,-2.577,-4.444,-4.444,-6.577,-6.577,-8.444,-8.444,-10.577,-10.577,-12.444,-12.444,-14.577,-14.577,-16.444,-16.444,-18.577,-18.577,-20.444,-20.444,-22.577,-22.577,-24.444,-24.444,-26.577,-26.577,-28.444,-28.444,-30.0,-30.0,-30.0,-30.0,-30.0,-30.0,-30.0,-30.0,-30.0,-30.0,-30.0,-30.0,-28.97,-28.97,-27.104,-27.104,-27.104,-24.97,-24.97,-22.837,-22.837,-20.97,-20.97,-18.837,-18.837,-16.97,-16.97,-14.837,-14.837,-12.97,-12.97,-10.837,-10.837,-8.704,-8.704,-6.837,-6.837,-4.704,-4.704,-2.837,-2.837,-0.704,-0.704,1.163,1.163,3.296,3.296,5.163,5.163,7.296,7.296,9.163,9.163,11.296,11.296,13.163,13.163,15.296,15.296,17.163,17.163,19.296,19.296,21.163,21.163,23.296,23.296,25.163,25.163,27.296,27.296,29.163,29.163,31.296,31.296,33.163,33.163,35.296,35.296,37.163,37.163,39.296,39.296,41.163,41.163,43.296,43.296,45.43,45.43,47.296,47.296,49.43,49.43,51.296,51.296,53.43,53.43,55.296,55.296,57.43,57.43,59.296,59.296,61.43,61.43,63.296,63.296,65.43,65.43,67.296,67.296,69.43,69.43,71.296,71.296,73.43,73.43,75.296,75.296,77.43,77.43,79.296,79.296,81.43,81.43,83.563,83.563,85.43,85.43,87.563,87.563,89.43,89.43,91.563,91.563,93.43,93.43,95.563,95.563,97.43,97.43,99.563,99.563,101.43,101.43,103.296,103.296,105.43,105.43,107.563,107.563,109.43,109.43,111.563,111.563,113.43,113.43,115.563,115.563,117.696,117.696,119.563,119.563,121.696,121.696,123.563,123.563,125.696,125.696,127.563,127.563,129.696,129.696,131.563,131.563,133.696,133.696,135.563,135.563,137.696,137.696,139.563,139.563,141.696,141.696,143.563,143.563,145.696,145.696,147.563,147.563,149.696,149.696,151.563,151.563,153.696,153.696,155.563,155.563,157.696,157.696,159.563,159.563,161.696,161.696,163.563,163.563,165.696,165.696,167.563,167.563,169.696,169.696,171.563,171.563,173.696,173.696,175.563,175.563,177.696,177.696,179.563,179.563],\"xaxis\":\"x\",\"y\":[-4.8,-4.8,-4.8,-4.8,-4.8,-4.8,-4.8,-4.8,-4.8,-4.8,-4.8,-4.8,-4.8,-4.8,-4.8,-4.8,-4.8,-4.8,-4.8,-4.8,-4.8,-4.8,-4.8,-4.8,-4.8,-4.8,-4.8,-4.8,-4.8,-4.8,-4.8,-4.8,-4.8,-4.8,-4.8,-4.8,-4.8,-4.8,-4.8,-4.8,-4.8,-4.8,-4.8,-4.8,-4.8,-4.8,-4.8,-4.8,-4.8,-4.8,-4.8,-4.8,-4.8,-4.8,-4.8,-4.8,-4.8,-4.8,-4.8,-4.8,-4.8,-4.8,-4.8,-4.8,-4.8,-4.8,-4.8,-4.8,-4.8,-4.8,-4.8,-4.8,-4.8,-4.8,-4.8,-4.8,-4.8,-4.8,-4.8,-4.8,-4.8,-4.8,-4.8,-4.8,-4.8,-4.8,-4.8,-4.8,-4.8,-4.8,-4.8,-4.8,-4.8,-4.8,-4.8,-4.8,-4.8,-4.8,-4.8,-4.8,-4.8,-4.8,-4.8,-4.8,-4.8,-4.8,-4.8,-4.8,-4.8,-4.8,-4.8,-4.8,-4.8,-4.8,-4.8,-4.8,-4.8,-4.8,-4.8,-4.8,-4.8,-4.8,-4.8,-4.8,-4.8,-4.8,-4.8,-4.8,-4.8,-4.8,-4.8,-4.8,-4.8,-4.8,-4.8,-4.8,-4.8,-4.8,-4.8,-4.8,-4.8,-4.8,-4.8,-4.8,-4.8,-4.8,-4.8,-4.8,-4.8,-4.8,-4.8,-4.8,-4.8,-4.8,-4.8,-4.8,-4.8,-4.8,-4.8,-4.8,-4.8,-4.8,-4.8,-4.8,-4.8,-4.8,-4.8,-4.8,-4.8,-4.8,-4.8,-4.8,-4.8,-4.8,-4.8,-4.8,-4.8,-4.8,-4.8,-4.8,-4.8,-3.6,-3.6,-3.6,-3.6,-3.6,-3.6,-3.6,-3.6,-3.6,-3.6,-3.6,-3.6,-3.6,-3.6,-3.6,-3.6,-3.6,-3.6,-3.6,-3.6,-3.6,-3.6,-3.6,-3.6,-3.6,-3.6,-3.6,-3.6,-3.6,-3.6,-3.6,-3.6,-3.6,-3.6,-3.6,-3.6,-3.6,-3.6,-3.6,-3.6,-3.6,-3.6,-3.6,-3.6,-3.6,-3.6,-3.6,-3.6,-3.6,-3.6,-3.6,-3.6,-3.6,-3.6,-3.6,-3.6,-3.6,-3.6,-3.6,-3.6,-3.6,-3.6,-3.6,-3.6,-3.6,-3.6,-3.6,-3.6,-3.6,-3.6,-3.6,-3.6,-3.6,-3.6,-3.6,-3.6,-3.6,-3.6,-3.6,-3.6,-3.6,-3.6,-3.6,-3.6,-3.6,-3.6,-3.6,-3.6,-3.6,-3.6,-3.6,-3.6,-3.6,-3.6,-3.6,-3.6,-3.6,-3.6,-3.6,-3.6,-3.6,-3.6,-3.6,-3.6,-3.6,-3.6,-3.6,-3.6,-3.6,-3.6,-3.6,-3.6,-3.6,-3.6,-3.6,-3.6,-3.6,-3.6,-3.6,-3.6,-3.6,-3.6,-3.6,-3.6,-3.6,-3.6,-3.6,-3.6,-3.6,-3.6,-3.6,-3.6,-3.6,-3.6,-3.6,-3.6,-3.6,-3.6,-3.6,-3.6,-3.6,-3.6,-3.6,-3.6,-3.6,-3.6,-3.6,-3.6,-3.6,-3.6,-3.6,-3.6,-3.6,-3.6,-3.6,-3.6,-3.6,-3.6,-3.6,-3.6,-3.6,-3.6,-3.6,-3.6,-3.6,-3.6,-3.6,-3.6,-3.6,-3.6,-3.6,-3.6,-3.6,-3.6,-3.6,-3.6,-3.6,-3.6,-3.6,-3.6,-3.6,-3.266,-3.266,-2.4,-2.4,-2.4,-2.4,-2.4,-2.4,-2.4,-2.4,-2.4,-2.4,-2.4,-2.4,-2.4,-2.4,-2.4,-2.4,-2.4,-2.4,-2.4,-2.4,-2.4,-2.4,-2.4,-2.4,-2.4,-2.4,-2.4,-2.4,-2.4,-2.4,-2.4,-2.4,-2.4,-2.4,-2.4,-2.4,-2.4,-2.4,-2.4,-2.4,-2.4,-2.4,-2.4,-2.4,-2.4,-2.4,-2.4,-2.4,-2.4,-2.4,-2.4,-2.4,-2.4,-2.4,-2.4,-2.4,-2.4,-2.4,-2.4,-2.4,-2.4,-2.4,-2.4,-2.4,-2.4,-2.4,-2.4,-2.4,-2.4,-2.4,-2.4,-2.4,-2.4,-2.4,-2.4,-2.4,-2.4,-2.4,-2.4,-2.4,-2.4,-2.4,-2.4,-2.4,-2.4,-2.4,-2.4,-2.4,-2.4,-2.4,-2.4,-2.4,-2.4,-2.4,-2.4,-2.4,-2.4,-2.4,-2.4,-2.4,-2.4,-2.4,-2.4,-2.4,-2.4,-2.4,-2.4,-2.4,-2.4,-2.4,-2.4,-2.4,-2.4,-2.4,-2.4,-2.4,-2.4,-2.4,-2.4,-2.4,-2.4,-2.4,-2.4,-2.4,-2.4,-2.4,-2.4,-2.4,-2.4,-2.4,-2.4,-2.4,-2.4,-2.4,-2.4,-2.4,-2.4,-2.4,-2.4,-2.4,-2.4,-2.4,-2.4,-2.4,-2.4,-2.4,-2.4,-2.4,-2.4,-2.4,-2.4,-2.4,-2.4,-2.4,-2.4,-2.4,-2.4,-2.4,-2.4,-2.4,-2.4,-2.4,-2.4,-2.4,-2.4,-2.4,-2.4,-2.4,-2.4,-2.4,-2.4,-2.4,-2.4,-2.4,-2.4,-2.4,-2.4,-2.4,-2.4,-2.4,-2.4,-2.4,-2.4,-2.4,-2.4,-2.4,-2.4,-2.4,-2.4,-2.4,-2.4,-2.4,-2.4,-2.4,-2.4,-2.4,-2.4,-2.4,-2.4,-2.4,-2.4,-2.4,-2.4,-2.4,-2.4,-2.4,-2.4,-2.4,-2.4,-2.08,-2.08,-1.2,-1.2,-1.2,-1.2,-1.2,-1.2,-1.2,-1.2,-1.2,-1.2,-1.2,-1.2,-1.2,-1.2,-1.2,-1.2,-1.2,-1.2,-1.2,-1.2,-1.2,-1.2,-1.2,-1.2,-1.2,-1.2,-1.2,-1.2,-1.2,-1.2,-1.2,-1.2,-1.2,-1.2,-1.2,-1.2,-1.2,-1.2,-1.2,-1.2,-1.2,-1.2,-1.2,-1.2,-1.2,-1.2,-1.2,-1.2,-1.2,-1.2,-1.2,-1.2,-1.2,-1.2,-1.2,-1.2,-1.2,-1.2,-1.2,-1.2,-1.2,-1.2,-1.2,-1.2,-1.2,-1.2,-1.2,-1.2,-1.2,-1.2,-1.2,-1.2,-1.2,-1.2,-1.2,-1.2,-1.2,-1.2,-1.2,-1.2,-1.2,-1.2,-1.2,-1.2,-1.2,-1.2,-1.2,-1.2,-1.2,-1.2,-1.2,-1.2,-1.2,-1.2,-1.2,-1.2,-1.2,-1.2,-1.2,-1.2,-1.2,-1.2,-1.2,-1.2,-1.2,-1.2,-1.2,-1.2,-1.2,-1.2,-1.2,-1.2,-1.2,-1.2,-1.2,-1.2,-1.2,-1.2,-1.2,-1.2,-1.2,-1.2,-1.2,-1.2,-1.2,-1.2,-1.2,-1.2,-1.2,-1.2,-1.2,-1.2,-1.2,-1.2,-1.2,-1.2,-1.2,-1.2,-1.2,-1.2,-1.2,-1.2,-1.2,-1.2,-1.2,-1.2,-1.2,-1.2,-1.2,-1.2,-1.2,-1.2,-1.2,-1.2,-1.2,-1.2,-1.2,-1.2,-1.2,-1.2,-1.2,-1.2,-1.2,-1.2,-1.2,-1.2,-1.2,-1.2,-1.2,-1.2,-1.2,-1.2,-1.2,-1.2,-1.2,-1.2,-1.2,-1.2,-1.2,-1.2,-1.2,0.038,0.038,1.904,1.904,4.038,4.038,5.871,5.871,6.0,6.0,6.0,6.0,6.0,6.0,6.0,6.0,6.0,6.0,6.0,6.0,6.0,6.0,6.0,6.0,6.0,6.0,6.0,6.0,6.0,6.0,6.0,6.0,6.0,6.0,6.0,6.0,6.0,6.0,6.0,6.0,6.0,6.0,6.0,6.0,6.0,6.0,6.0,6.0,6.0,6.0,6.0,6.0,6.0,6.0,6.0,6.0,6.0,6.0,6.0,6.0,6.0,6.0,6.0,6.0,6.0,6.0,6.0,6.0,6.0,6.0,6.0,6.0,6.0,6.0,6.0,6.0,6.0,6.0,6.0,6.0,6.0,6.0,6.0,6.0,6.0,6.0,6.0,6.0,6.0,6.0,6.0,6.0,6.0,6.0,6.0,6.0,6.0,6.0,6.0,6.0,6.0,6.0,6.0,6.0,6.0,6.0,6.0,6.0,6.0,6.0,6.0,6.0,6.0,6.0,6.0,6.0,6.0,6.0,6.0,6.0,6.0,6.0,6.0,6.0,6.0,6.0,6.0,6.0,6.0,6.0,6.0,6.0,6.0,6.0,6.0,6.0,6.0,6.0,6.0,6.0,6.0,6.0,6.0,6.0,6.0,6.0,6.0,6.0,6.0,6.0,6.0,6.0,6.0,6.0,6.0,6.0,6.0,6.0,6.0,6.0,6.0,6.0,6.0,6.0,6.0,6.0,6.0,6.0,6.0,6.0,6.0,6.0,6.0,6.0,6.0,6.0,6.0,6.0,6.0,6.0,6.0,6.0,6.0,6.0,6.0,6.0,6.013,6.013,7.761,7.761,9.894,9.894,11.761,11.761,13.2,13.2,13.2,13.2,13.2,13.2,13.2,13.2,13.2,13.2,13.2,13.2,13.2,13.2,13.2,13.2,13.2,13.2,13.2,13.2,13.2,13.2,13.2,13.2,13.2,13.2,13.2,13.2,13.2,13.2,13.2,13.2,13.2,13.2,13.2,13.2,13.2,13.2,13.2,13.2,13.2,13.2,13.2,13.2,13.2,13.2,13.2,13.2,13.2,13.2,13.2,13.2,13.2,13.2,13.2,13.2,13.2,13.2,13.2,13.2,13.2,13.2,13.2,13.2,13.2,13.2,13.2,13.2,13.2,13.2,13.2,13.2,13.2,13.2,13.2,13.2,13.2,13.2,13.2,13.2,13.2,13.2,13.2,13.2,13.2,13.2,13.2,13.2,13.2,13.2,13.2,13.2,13.2,13.2,13.2,13.2,13.2,13.2,13.2,13.2,13.2,13.2,13.2,13.2,13.2,13.2,13.2,13.2,13.2,13.2,13.2,13.2,13.2,13.2,13.2,13.2,13.2,13.2,13.2,13.2,13.2,13.2,13.2,13.2,13.2,13.2,13.2,13.2,13.2,13.2,13.2,13.2,13.2,13.2,13.2,13.2,13.2,13.2,13.2,13.2,13.2,13.2,13.2,13.2,13.2,13.2,13.2,13.2,13.2,13.2,13.2,13.2,13.2,13.2,13.2,13.2,13.2,13.2,13.2,13.2,13.2,13.2,13.2,13.2,13.2,13.2,13.2,13.2,13.2,13.2,13.2,13.2,13.2,13.2,13.2,13.2,13.2,13.2,13.2,13.2,13.2,13.2,13.2,13.2,13.2,13.2,13.2,13.2,13.2,13.2,13.2,13.2,13.2,13.2,13.2,13.2,13.2,13.2,13.2,13.2,13.2,13.2,13.2,13.2,13.2,13.2,13.2,13.2,13.2,13.2,13.2,14.28,14.28,15.6,15.6,15.6,15.6,15.6,15.6,15.6,15.6,15.6,15.6,15.6,15.6,15.6,15.6,15.6,15.6,15.6,15.6,15.6,15.6,15.6,15.6,15.6,15.6,15.6,15.6,15.6,15.6,15.6,15.6,15.6,15.6,15.6,15.6,15.6,15.6,15.6,15.6,15.6,15.6,15.6,15.6,15.6,15.6,15.6,15.6,15.6,15.6,15.6,15.6,15.6,15.6,15.6,15.6,15.6,15.6,15.6,15.6,15.6,15.6,15.6,15.6,15.6,15.6,15.6,15.6,15.6,15.6,15.6,15.6,15.6,15.6,15.6,15.6,15.6,15.6,15.6,15.6,15.6,15.6,15.6,15.6,15.6,15.6,15.6,15.6,15.6,15.6,15.6,15.6,15.6,15.6,15.6,15.6,15.6,15.6,15.6,15.6,15.6,15.6,15.6,15.6,15.6,15.6,15.6,15.6,15.6,15.6,15.6,15.6,15.6,15.6,15.6,15.6,15.6,15.6,15.6,15.6,15.6,15.6,15.6,15.6,15.6,15.6,15.6,15.6,15.6,15.6,15.6,15.6,15.6,15.6,15.6,15.6,15.6,15.6,15.6,15.6,15.6,15.6,15.6,15.6,15.6,15.6,15.6,15.6,15.6,15.6,15.6,15.6,15.6,15.6,15.6,15.6,15.6,15.6,15.6,15.6,15.6,15.6,15.6,15.6,15.6,15.6,15.6,15.6,15.6,15.6,15.6,15.6,15.6,15.6,15.6,15.6,15.6,15.6,15.6,15.6,15.6,15.6,16.936,16.936,18.0,18.0,18.0,18.0,18.0,18.0,18.0,18.0,18.0,18.0,18.0,18.0,18.0,18.0,18.0,18.0,18.0,18.0,18.0,18.0,18.0,18.0,18.0,18.0,18.0,18.0,18.0,18.0,18.0,18.0,18.0,18.0,18.0,18.0,18.0,18.0,18.0,18.0,18.0,18.0,18.0,18.0,18.0,18.0,18.0,18.0,18.0,18.0,18.0,18.0,18.0,18.0,18.0,18.0,18.0,18.0,18.0,18.0,18.0,18.0,18.0,18.0,18.0,18.0,18.0,18.0,18.0,18.0,18.0,18.0,18.0,18.0,18.0,18.0,18.0,18.0,18.0,18.0,18.0,18.0,18.0,18.0,18.0,18.0,18.0,18.0,18.0,18.0,18.0,18.0,18.0,18.0,18.0,18.0,18.0,18.0,18.0,18.0,18.0,18.0,18.0,18.0,18.0,18.0,18.0,18.0,18.0,18.0,18.0,18.0,18.0,18.0,18.0,18.0,18.0,18.0,18.0,18.0,18.0,18.0,18.0,18.0,18.0,18.0,18.0,18.0,18.0,18.0,18.0,18.0,18.0,18.0,18.0,18.0,18.0,18.0,18.0,18.0,18.0,18.0,18.0,18.0,18.0,18.0,18.0,18.0,18.0,18.0,18.0,18.0,18.0,19.192,19.192,20.4,20.4,20.4,20.4,20.4,20.4,20.4,20.4,20.4,20.4,20.4,20.4,20.4,20.4,20.4,20.4,20.4,20.4,20.4,20.4,20.4,20.4,20.4,20.4,20.4,20.4,20.4,20.4,20.4,20.4,20.4,20.4,20.4,20.4,20.4,20.4,20.4,20.4,20.4,20.4,20.4,20.4,20.4,20.4,20.4,20.4,20.4,20.4,20.4,20.4,20.4,20.4,20.4,20.4,20.4,20.4,20.4,20.4,20.4,20.4,20.4,20.4,20.4,20.4,20.4,20.4,20.4,20.4,20.4,20.4,20.4,20.4,20.4,20.4,20.4,20.4,20.4,20.4,20.4,20.4,20.4,20.4,20.4,20.4,20.4,20.4,20.4,20.4,20.4,20.4,20.4,20.4,20.4,20.4,20.4,20.4,20.4,20.4,20.4,20.4,20.4,20.4,20.4,20.4,20.4,20.4,20.4,20.4,20.4,20.4,20.4,20.4,20.4,20.4,20.4,20.4,20.4,20.4,20.4,20.4,20.4,20.4,20.4,20.4,20.4,20.4,20.4,20.4,20.4,20.4,20.4,20.4,20.4,20.4,20.4,20.4,20.4,20.4,20.4,20.4,20.4,20.4,20.4,20.4,20.4,20.4,20.4,20.4,20.4,20.4,20.4,21.445,21.445,22.8,22.8,22.8,22.8,22.8,22.8,22.8,22.8,22.8,22.8,22.8,22.8,22.8,22.8,22.8,22.8,22.8,22.8,22.8,22.8,22.8,22.8,22.8,22.8,22.8,22.8,22.8,22.8,22.8,22.8,22.8,22.8,22.8,22.8,22.8,22.8,22.8,22.8,22.8,22.8,22.8,22.8,22.8,22.8,22.8,22.8,22.8,22.8,22.8,22.8,22.8,22.8,22.8,22.8,22.8,22.8,22.8,22.8,22.8,22.8,22.8,22.8,22.8,22.8,22.8,22.8,22.8,22.8,22.8,22.8,22.8,22.8,22.8,22.8,22.8,22.8,22.8,22.8,22.8,22.8,22.8,22.8,22.8,22.8,22.8,22.8,22.8,22.8,22.8,22.8,22.8,22.8,22.8,22.8,22.8,22.8,22.8,22.8,22.8,22.8,22.8,22.8,22.8,22.8,22.8,22.8,22.8,22.8,22.8,22.8,22.8,22.8,22.8,22.8,22.8,22.8,22.8,22.8,22.8,22.8,22.8,22.8,22.8,22.8,22.8,22.8,22.8,22.8,22.8,22.8,22.8,22.8,22.8,22.8,22.8,22.8,22.8,22.8,22.8,22.8,22.8,22.8,22.8,22.8,22.8,22.8,22.8,22.8,22.8,22.8,22.8,22.8,22.8,22.8,22.8,22.8,22.8,22.8,22.8,22.8,22.8,23.301,23.301,25.435,25.435,27.301,27.301,29.435,29.435,31.183,31.183,31.2,31.2,31.2,31.2,31.2,31.2,31.2,31.2,31.2,31.2,31.2,31.2,31.2,31.2,31.2,31.2,31.2,31.2,31.2,31.2,31.2,31.2,31.2,31.2,31.2,31.2,31.2,31.2,31.2,31.2,31.2,31.2,31.2,31.2,31.2,31.2,31.2,31.2,31.2,31.2,31.2,31.2,31.2,31.2,31.2,31.2,31.2,31.2,31.2,31.2,31.2,31.2,31.2,31.2,31.2,31.2,31.2,31.2,31.2,31.2,31.2,31.2,31.2,31.2,31.2,31.2,31.2,31.2,31.2,31.2,31.2,31.2,31.2,31.2,31.2,31.2,31.2,31.2,31.2,31.2,31.2,31.2,31.2,31.2,31.2,31.2,31.2,31.2,31.2,31.2,31.2,31.2,31.2,31.2,31.2,31.2,31.2,31.2,31.2,31.2,31.2,31.2,31.2,31.2,31.2,31.2,31.2,31.2,31.2,31.2,31.2,31.2,31.2,31.2,31.2,31.2,31.2,31.2,31.2,31.2,31.2,31.2,31.2,31.2,31.2,31.2,31.2,31.2,31.2,31.2,31.2,31.2,31.2,31.2,31.2,31.2,31.2,31.2,31.2,31.2,31.2,31.2,31.2,31.2,31.2,31.2,31.2,31.2,31.2,31.2,31.2,31.2,31.2,31.2,31.2,31.2,31.2,31.2,31.2,31.2,31.2,31.2,31.2,31.2,31.2,31.2,31.2,31.2,31.427,31.427,33.554,33.554,35.42,35.42,37.554,37.554,39.407,39.407,39.6,39.6,39.6,39.6,39.6,39.6,39.6,39.6,39.6,39.6,39.6,39.6,39.6,39.6,39.6,39.6,39.6,39.6,39.6,39.6,39.6,39.6,39.6,39.6,39.6,39.6,39.6,39.6,39.6,39.6,39.6,39.6,39.6,39.6,39.6,39.6,39.6,39.6,39.6,39.6,39.6,39.6,39.6,39.6,39.6,39.6,39.6,39.6,39.6,39.6,39.6,39.6,39.6,39.6,39.6,39.6,39.6,39.6,39.6,39.6,39.6,39.6,39.6,39.6,39.6,39.6,39.6,39.6,39.6,39.6,39.6,39.6,39.6,39.6,39.6,39.6,39.6,39.6,39.6,39.6,39.6,39.6,39.6,39.6,39.6,39.6,39.6,39.6,39.6,39.6,39.6,39.6,39.6,39.6,39.6,39.6,39.6,39.6,39.6,39.6,39.6,39.6,39.6,39.6,39.6,39.6,39.6,39.6,39.6,39.6,39.6,39.6,39.6,39.6,39.6,39.6,39.6,39.6,39.6,39.6,39.6,39.6,39.6,39.6,39.6,39.6,39.6,39.6,39.6,39.6,39.6,39.6,39.6,39.6,39.6,39.6,39.6,39.6,39.6,39.6,39.6,39.6,39.6,39.6,39.6,39.6,39.6,39.6,39.6,39.6,39.6,39.6,39.6,39.6,39.6,39.6,39.6,39.6,39.6,39.6,39.6,39.6,39.6,39.6,39.6,39.6,39.6,39.6,39.6,39.6,39.6,39.6,39.6,39.6,39.6,39.6,39.6,39.6,39.944,39.944,42.077,42.077,43.2,43.2,43.2,43.2,43.2,43.2,43.2,43.2,43.2,43.2,43.2,43.2,43.2,43.2,43.2,43.2,43.2,43.2,43.2,43.2,43.2,43.2,43.2,43.2,43.2,43.2,43.2,43.2,43.2,43.2,43.2,43.2,43.2,43.2,43.2,43.2,43.2,43.2,43.2,43.2,43.2,43.2,43.2,43.2,43.2,43.2,43.2,43.2,43.2,43.2,43.2,43.2,43.2,43.2,43.2,43.2,43.2,43.2,43.2,43.2,43.2,43.2,43.2,43.2,43.2,43.2,43.2,43.2,43.2,43.2,43.2,43.2,43.2,43.2,43.2,43.2,43.2,43.2,43.2,43.2,43.2,43.2,43.2,43.2,43.2,43.2,43.2,43.2,43.2,43.2,43.2,43.2,43.2,43.2,43.2,43.2,43.2,43.2,43.2,43.2,43.2,43.2,43.2,43.2,43.2,43.2,43.2,43.2,43.2,43.2,43.2,43.2,43.2,43.2,43.2,43.2,43.2,43.2,43.2,43.2,43.2,43.2,43.2,43.2,43.2,43.2,43.2,43.2,43.2,43.2,43.2,43.2,43.2,43.2,43.2,43.2,43.2,43.2,43.2,43.2,43.2,43.2,43.2,43.2,43.2,43.2,43.2,43.2,43.2,43.2,43.2,43.2,43.2,43.2,43.2,43.2,43.2,43.2,43.2,43.2,43.2,43.2,43.2,43.2,43.2,43.2,43.2,43.2,43.2,43.2,43.2,43.796,43.796,45.663,45.663,46.8,46.8,46.8,46.8,46.8,46.8,46.8,46.8,46.8,46.8,46.8,46.8,46.8,46.8,46.8,46.8,46.8,46.8,46.8,46.8,46.8,46.8,46.8,46.8,46.8,46.8,46.8,46.8,46.8,46.8,46.8,46.8,46.8,46.8,46.8,46.8,46.8,46.8,46.8,46.8,46.8,46.8,46.8,46.8,46.8,46.8,46.8,46.8,46.8,46.8,46.8,46.8,46.8,46.8,46.8,46.8,46.8,46.8,46.8,46.8,46.8,46.8,46.8,46.8,46.8,46.8,46.8,46.8,46.8,46.8,46.8,46.8,46.8,46.8,46.8,46.8,46.8,46.8,46.8,46.8,46.8,46.8,46.8,46.8,46.8,46.8,46.8,46.8,46.8,46.8,46.8,46.8,46.8,46.8,46.8,46.8,46.8,46.8,46.8,46.8,46.8,46.8,46.8,46.8,46.8,46.8,46.8,46.8,46.8,46.8,46.8,46.8,46.8,46.8,46.8,46.8,46.8,46.8,46.8,46.8,46.8,46.8,46.8,46.8,46.8,46.8,46.8,46.8,46.8,46.8,46.8,46.8,46.8,46.8,46.8,46.8,46.8,46.8,46.8,46.8,46.8,46.8,46.8,46.8,46.8,46.8,46.8,46.8,46.8,46.8,47.653,47.653,49.786,49.786,50.4,50.4,50.4,50.4,50.4,50.4,50.4,50.4,50.4,50.4,50.4,50.4,50.4,50.4,50.4,50.4,50.4,50.4,50.4,50.4,50.4,50.4,50.4,50.4,50.4,50.4,50.4,50.4,50.4,50.4,50.4,50.4,50.4,50.4,50.4,50.4,50.4,50.4,50.4,50.4,50.4,50.4,50.4,50.4,50.4,50.4,50.4,50.4,50.4,50.4,50.4,50.4,50.4,50.4,50.4,50.4,50.4,50.4,50.4,50.4,50.4,50.4,50.4,50.4,50.4,50.4,50.4,50.4,50.4,50.4,50.4,50.4,50.4,50.4,50.4,50.4,50.4,50.4,50.4,50.4,50.4,50.4,50.4,50.4,50.4,50.4,50.4,50.4,50.4,50.4,50.4,50.4,50.4,50.4,50.4,50.4,50.4,50.4,50.4,50.4,50.4,50.4,50.4,50.4,50.4,50.4,50.4,50.4,50.4,50.4,50.4,50.4,50.4,50.4,50.4,50.4,50.4,50.4,50.4,50.4,50.4,50.4,50.4,50.4,50.4,50.4,50.4,50.4,50.4,50.4,50.4,50.4,50.4,50.4,50.4,50.4,50.4,50.4,50.4,50.4,50.4,50.4,50.4,50.4,50.4,50.4,50.4,50.4,50.4,50.4,50.4,50.4,50.4,50.4,50.4,50.4,50.4,50.4,50.4,50.4,50.4,50.4,50.4,50.4,50.4,50.4,50.4,50.4,50.4,50.4,50.4,51.77,51.77,53.871,53.871,54.0,54.0,54.0,54.0,54.0,54.0,54.0,54.0,54.0,54.0,54.0,54.0,54.0,54.0,54.0,54.0,54.0,54.0,54.0,54.0,54.0,54.0,54.0,54.0,54.0,54.0,54.0,54.0,54.0,54.0,54.0,54.0,54.0,54.0,54.0,54.0,54.0,54.0,54.0,54.0,54.0,54.0,54.0,54.0,54.0,54.0,54.0,54.0,54.0,54.0,54.0,54.0,54.0,54.0,54.0,54.0,54.0,54.0,54.0,54.0,54.0,54.0,54.0,54.0,54.0,54.0,54.0,54.0,54.0,54.0,54.0,54.0,54.0,54.0,54.0,54.0,54.0,54.0,54.0,54.0,54.0,54.0,54.0,54.0,54.0,54.0,54.0,54.0,54.0,54.0,54.0,54.0,54.0,54.0,54.0,54.0,54.0,54.0,54.0,54.0,54.0,54.0,54.0,54.0,54.0,54.0,54.0,54.0,54.0,54.0,54.0,54.0,54.0,54.0,54.0,54.0,54.0,54.0,54.0,54.0,54.0,54.0,54.0,54.0,54.0,54.0,54.0,54.0,54.0,54.0,54.0,54.0,54.0,54.0,54.0,54.0,54.0,54.0,54.0,54.0,54.0,54.0,54.0,54.0,54.0,54.0,54.0,54.0,54.0,54.0,54.0,54.0,54.0,54.0,54.0,54.0,54.0,54.0,54.0,54.0,54.0,54.0,54.0,54.0,54.0,54.0,54.0,54.0,54.083,54.083,56.16,56.16,58.027,58.027,60.16,60.16,62.027,62.027,63.6,63.6,63.6,63.6,63.6,63.6,63.6,63.6,63.6,63.6,63.6,63.6,63.6,63.6,63.6,63.6,63.6,63.6,63.6,63.6,63.6,63.6,63.6,63.6,63.6,63.6,63.6,63.6,63.6,63.6,63.6,63.6,63.6,63.6,63.6,63.6,63.6,63.6,63.6,63.6,63.6,63.6,63.6,63.6,63.6,63.6,63.6,63.6,63.6,63.6,63.6,63.6,63.6,63.6,63.6,63.6,63.6,63.6,63.6,63.6,63.6,63.6,63.6,63.6,63.6,63.6,63.6,63.6,63.6,63.6,63.6,63.6,63.6,63.6,63.6,63.6,63.6,63.6,63.6,63.6,63.6,63.6,63.6,63.6,63.6,63.6,63.6,63.6,63.6,63.6,63.6,63.6,63.6,63.6,63.6,63.6,63.6,63.6,63.6,63.6,63.6,63.6,63.6,63.6,63.6,63.6,63.6,63.6,63.6,63.6,63.6,63.6,63.6,63.6,63.6,63.6,63.6,63.6,63.6,63.6,63.6,63.6,63.6,63.6,63.6,63.6,63.6,63.6,63.6,63.6,63.6,63.6,63.6,63.6,63.6,63.6,63.6,63.6,63.6,63.6,63.6,63.6,63.6,63.6,63.6,63.6,63.6,63.6,63.6,63.6,64.013,64.013,65.879,65.879,68.013,68.013,69.879,69.879,72.013,72.013,73.2,73.2,73.2,73.2,73.2,73.2,73.2,73.2,73.2,73.2,73.2,73.2,73.2,73.2,73.2,73.2,73.2,73.2,73.2,73.2,73.2,73.2,73.2,73.2,73.2,73.2,73.2,73.2,73.2,73.2,73.2,73.2,73.2,73.2,73.2,73.2,73.2,73.2,73.2,73.2,73.2,73.2,73.2,73.2,73.2,73.2,73.2,73.2,73.2,73.2,73.2,73.2,73.2,73.2,73.2,73.2,73.2,73.2,73.2,73.2,73.2,73.2,73.2,73.2,73.2,73.2,73.2,73.2,73.2,73.2,73.2,73.2,73.2,73.2,73.2,73.2,73.2,73.2,73.2,73.2,73.2,73.2,73.2,73.2,73.2,73.2,73.2,73.2,73.2,73.2,73.2,73.2,73.2,73.2,73.2,73.2,73.2,73.2,73.2,73.2,73.2,73.2,73.2,73.2,73.2,73.2,73.2,73.2,73.2,73.2,73.2,73.2,73.2,73.2,73.2,73.2,73.2,73.2,73.2,73.2,73.2,73.2,73.2,73.2,73.2,73.2,73.2,73.2,73.2,73.2,73.2,73.2,73.2,73.2,73.2,73.2,73.2,73.2,73.2,73.2,73.2,73.2,73.2,73.2,73.2,73.2,73.2,73.2,73.2,73.2,73.2,73.2,73.2,73.2,73.2,73.2,73.2,73.2,73.2,73.2,73.2,73.2,73.2,73.2,73.2,73.233,73.233,75.003,75.003,77.136,77.136,78.0,78.0,78.0,78.0,78.0,78.0,78.0,78.0,78.0,78.0,78.0,78.0,78.0,78.0,78.0,78.0,78.0,78.0,78.0,78.0,78.0,78.0,78.0,78.0,78.0,78.0,78.0,78.0,78.0,78.0,78.0,78.0,78.0,78.0,78.0,78.0,78.0,78.0,78.0,78.0,78.0,78.0,78.0,78.0,78.0,78.0,78.0,78.0,78.0,78.0,78.0,78.0,78.0,78.0,78.0,78.0,78.0,78.0,78.0,78.0,78.0,78.0,78.0,78.0,78.0,78.0,78.0,78.0,78.0,78.0,78.0,78.0,78.0,78.0,78.0,78.0,78.0,78.0,78.0,78.0,78.0,78.0,78.0,78.0,78.0,78.0,78.0,78.0,78.0,78.0,78.0,78.0,78.0,78.0,78.0,78.0,78.0,78.0,78.0,78.0,78.0,78.0,78.0,78.0,78.0,78.0,78.0,78.0,78.0,78.0,78.0,78.0,78.0,78.0,78.0,78.0,78.0,78.0,78.0,78.0,78.0,78.0,78.0,78.0,78.0,78.0,78.0,78.0,78.0,78.0,78.0,78.0,78.0,78.0,78.0,78.0,78.0,78.0,78.0,78.0,78.0,78.0,78.0,78.0,78.0,78.0,78.0,78.0,78.0,78.0,78.0,78.0,78.0,78.0,78.0,78.0,78.0,78.0,78.0,78.0,78.0,78.0,78.0,78.0,78.0,78.0,78.0,78.0,78.0,78.0,78.0,78.0,78.0,78.262,78.262,80.126,80.126,82.259,82.259,82.8,82.8,82.8,82.8,82.8,82.8,82.8,82.8,82.8,82.8,82.8,82.8,82.8,82.8,82.8,82.8,82.8,82.8,82.8,82.8,82.8,82.8,82.8,82.8,82.8,82.8,82.8,82.8,82.8,82.8,82.8,82.8,82.8,82.8,82.8,82.8,82.8,82.8,82.8,82.8,82.8,82.8,82.8,82.8,82.8,82.8,82.8,82.8,82.8,82.8,82.8,82.8,82.8,82.8,82.8,82.8,82.8,82.8,82.8,82.8,82.8,82.8,82.8,82.8,82.8,82.8,82.8,82.8,82.8,82.8,82.8,82.8,82.8,82.8,82.8,82.8,82.8,82.8,82.8,82.8,82.8,82.8,82.8,82.8,82.8,82.8,82.8,82.8,82.8,82.8,82.8,82.8,82.8,82.8,82.8,82.8,82.8,82.8,82.8,82.8,82.8,82.8,82.8,82.8,82.8,82.8,82.8,82.8,82.8,82.8,82.8,82.8,82.8,82.8,82.8,82.8,82.8,82.8,82.8,82.8,82.8,82.8,82.8,82.8,82.8,82.8,82.8,82.8,82.8,82.8,82.8,82.8,82.8,82.8,82.8,82.8,82.8,82.8,82.8,82.8,82.8,82.8,82.8,82.8,82.8,82.8,82.8,82.8,82.8,82.8,82.8,82.8,82.8,82.8,82.8,82.8,82.8,82.8,84.245,84.245,86.378,86.378,88.245,88.245,90.378,90.378,92.245,92.245,93.6,93.6,93.6,93.6,93.6,93.6,93.6,93.6,93.6,93.6,93.6,93.6,93.6,93.6,93.6,93.6,93.6,93.6,93.6,93.6,93.6,93.6,93.6,93.6,93.6,93.6,93.6,93.6,93.6,93.6,93.6,93.6,93.6,93.6,93.6,93.6,93.6,93.6,93.6,93.6,93.6,93.6,93.6,93.6,93.6,93.6,93.6,93.6,93.6,93.6,93.6,93.6,93.6,93.6,93.6,93.6,93.6,93.6,93.6,93.6,93.6,93.6,93.6,93.6,93.6,93.6,93.6,93.6,93.6,93.6,93.6,93.6,93.6,93.6,93.6,93.6,93.6,93.6,93.6,93.6,93.6,93.6,93.6,93.6,93.6,93.6,93.6,93.6,93.6,93.6,93.6,93.6,93.6,93.6,93.6,93.6,93.6,93.6,93.6,93.6,93.6,93.6,93.6,93.6,93.6,93.6,93.6,93.6,93.6,93.6,93.6,93.6,93.6,93.6,93.6,93.6,93.6,93.6,93.6,93.6,93.6,93.6,93.6,93.6,93.6,93.6,93.6,93.6,93.6,93.6,93.6,93.6,93.6,93.6,93.6,93.6,93.6,93.6,93.6,93.6,93.6,93.6,93.6,93.6,93.6,93.6,93.6,93.6,93.6,93.6,93.6,93.6,93.6,93.6,93.6,93.6,93.6,93.6,93.6,93.6,93.6,93.6,93.6,93.6,93.6,93.6,93.6,93.6,93.6,93.6,93.6,93.6,93.6,93.6,93.6,93.6,93.6,93.6,93.6,93.6,94.101,94.101,96.235,96.235,98.101,98.101,100.235,100.235,102.101,102.101,104.219,104.219,104.4,104.4,104.4,104.4,104.4,104.4,104.4,104.4,104.4,104.4,104.4,104.4,104.4,104.4,104.4,104.4,104.4,104.4,104.4,104.4,104.4,104.4,104.4,104.4,104.4,104.4,104.4,104.4,104.4,104.4,104.4,104.4,104.4,104.4,104.4,104.4,104.4,104.4,104.4,104.4,104.4,104.4,104.4,104.4,104.4,104.4,104.4,104.4,104.4,104.4,104.4,104.4,104.4,104.4,104.4,104.4,104.4,104.4,104.4,104.4,104.4,104.4,104.4,104.4,104.4,104.4,104.4,104.4,104.4,104.4,104.4,104.4,104.4,104.4,104.4,104.4,104.4,104.4,104.4,104.4,104.4,104.4,104.4,104.4,104.4,104.4,104.4,104.4,104.4,104.4,104.4,104.4,104.4,104.4,104.4,104.4,104.4,104.4,104.4,104.4,104.4,104.4,104.4,104.4,104.4,104.4,104.4,104.4,104.4,104.4,104.4,104.4,104.4,104.4,104.4,104.4,104.4,104.4,104.4,104.4,104.4,104.4,104.4,104.4,104.4,104.4,104.4,104.4,104.4,104.4,104.4,104.4,104.4,104.4,104.4,104.4,104.4,104.4,104.4,104.4,104.4,104.4,104.4,104.4,104.4,104.4,104.4,104.4,104.4,104.4,104.4,104.4,104.4,104.4,104.4,104.4,104.4,104.4,104.4,104.4,104.4,104.4,104.4,104.4,104.4,104.4,104.4,104.4,104.4,104.4,104.4,104.4,104.4,104.4,104.4,104.4,104.4,104.4,104.4,104.522,104.522,106.354,106.354,108.487,108.487,110.304,110.304,110.4,110.4,110.4,110.4,110.4,110.4,110.4,110.4,110.4,110.4,110.4,110.4,110.4,110.4,110.4,110.4,110.4,110.4,110.4,110.4,110.4,110.4,110.4,110.4,110.4,110.4,110.4,110.4,110.4,110.4,110.4,110.4,110.4,110.4,110.4,110.4,110.4,110.4,110.4,110.4,110.4,110.4,110.4,110.4,110.4,110.4,110.4,110.4,110.4,110.4,110.4,110.4,110.4,110.4,110.4,110.4,110.4,110.4,110.4,110.4,110.4,110.4,110.4,110.4,110.4,110.4,110.4,110.4,110.4,110.4,110.4,110.4,110.4,110.4,110.4,110.4,110.4,110.4,110.4,110.4,110.4,110.4,110.4,110.4,110.4,110.4,110.4,110.4,110.4,110.4,110.4,110.4,110.4,110.4,110.4,110.4,110.4,110.4,110.4,110.4,110.4,110.4,110.4,110.4,110.4,110.4,110.4,110.4,110.4,110.4,110.4,110.4,110.4,110.4,110.4,110.4,110.4,110.4,110.4,110.4,110.4,110.4,110.4,110.4,110.4,110.4,110.4,110.4,110.4,110.4,110.4,110.4,110.4,110.4,110.4,110.4,110.4,110.4,110.4,110.4,110.4,110.4,110.4,110.4,110.4,110.4,110.4,110.4,110.4,110.515,110.515,112.344,112.344,114.477,114.477,116.297,116.297,116.4,116.4,116.4,116.4,116.4,116.4,116.4,116.4,116.4,116.4,116.4,116.4,116.4,116.4,116.4,116.4,116.4,116.4,116.4,116.4,116.4,116.4,116.4,116.4,116.4,116.4,116.4,116.4,116.4,116.4,116.4,116.4,116.4,116.4,116.4,116.4,116.4,116.4,116.4,116.4,116.4,116.4,116.4,116.4,116.4,116.4,116.4,116.4,116.4,116.4,116.4,116.4,116.4,116.4,116.4,116.4,116.4,116.4,116.4,116.4,116.4,116.4,116.4,116.4,116.4,116.4,116.4,116.4,116.4,116.4,116.4,116.4,116.4,116.4,116.4,116.4,116.4,116.4,116.4,116.4,116.4,116.4,116.4,116.4,116.4,116.4,116.4,116.4,116.4,116.4,116.4,116.4,116.4,116.4,116.4,116.4,116.4,116.4,116.4,116.4,116.4,116.4,116.4,116.4,116.4,116.4,116.4,116.4,116.4,116.4,116.4,116.4,116.4,116.4,116.4,116.4,116.4,116.4,116.4,116.4,116.4,116.4,116.4,116.4,116.4,116.4,116.4,116.4,116.4,116.4,116.4,116.4,116.4,116.4,116.4,116.4,116.4,116.4,116.4,116.4,116.4,116.4,116.4,116.4,116.4,116.4,116.4,116.4,116.506,116.506,118.329,118.329,120.463,120.463,122.329,122.329,124.463,124.463,126.329,126.329,127.4,127.4,127.4,127.4,127.4,127.4,127.4,127.4,127.4,127.4,127.4,127.4,127.4,127.4,127.4,127.4,127.4,127.4,127.4,127.4,127.4,127.4,127.4,127.4,127.4,127.4,127.4,127.4,127.4,127.4,127.4,127.4,127.4,127.4,127.4,127.4,127.4,127.4,127.4,127.4,127.4,127.4,127.4,127.4,127.4,127.4,127.4,127.4,127.4,127.4,127.4,127.4,127.4,127.4,127.4,127.4,127.4,127.4,127.4,127.4,127.4,127.4,127.4,127.4,127.4,127.4,127.4,127.4,127.4,127.4,127.4,127.4,127.4,127.4,127.4,127.4,127.4,127.4,127.4,127.4,127.4,127.4,127.4,127.4,127.4,127.4,127.4,127.4,127.4,127.4,127.4,127.4,127.4,127.4,127.4,127.4,127.4,127.4,127.4,127.4,127.4,127.4,127.4,127.4,127.4,127.4,127.4,127.4,127.4,127.4,127.4,127.4,127.4,127.4,127.4,127.4,127.4,127.4,127.4,127.4,127.4,127.4,127.4,127.4,127.4,127.4,127.4,127.4,127.4,127.4,127.4,127.4,127.4,127.4,127.4,127.4,127.4,127.4,127.4,127.4,127.4,127.4,127.4,127.4,127.4,127.4,127.4,127.4,127.4,127.4,127.4,127.4,127.4,127.4,127.4,127.4,127.4,127.4,127.4,127.4,127.4,127.4,127.4,127.4,127.4,127.4,127.4,127.4,127.4,127.4,127.4,127.4,127.4,127.4,127.4,127.4,127.4,127.4,127.4,127.4,127.4,128.718,128.718,130.851,130.851,132.718,132.718,134.851,134.851,136.718,136.718,138.4,138.4,138.4,138.4,138.4,138.4,138.4,138.4,138.4,138.4,138.4,138.4,138.4,138.4,138.4,138.4,138.4,138.4,138.4,138.4,138.4,138.4,138.4,138.4,138.4,138.4,138.4,138.4,138.4,138.4,138.4,138.4,138.4,138.4,138.4,138.4,138.4,138.4,138.4,138.4,138.4,138.4,138.4,138.4,138.4,138.4,138.4,138.4,138.4,138.4,138.4,138.4,138.4,138.4,138.4,138.4,138.4,138.4,138.4,138.4,138.4,138.4,138.4,138.4,138.4,138.4,138.4,138.4,138.4,138.4,138.4,138.4,138.4,138.4,138.4,138.4,138.4,138.4,138.4,138.4,138.4,138.4,138.4,138.4,138.4,138.4,138.4,138.4,138.4,138.4,138.4,138.4,138.4,138.4,138.4,138.4,138.4,138.4,138.4,138.4,138.4,138.4,138.4,138.4,138.4,138.4,138.4,138.4,138.4,138.4,138.4,138.4,138.4,138.4,138.4,138.4,138.4,138.4,138.4,138.4,138.4,138.4,138.4,138.4,138.4,138.4,138.4,138.4,138.4,138.4,138.4,138.4,138.4,138.4,138.4,138.4,138.4,138.4,138.4,138.4,138.4,138.4,138.4,138.4,138.4,138.4,138.4,138.4,138.4,138.4,138.4,138.4,138.4,138.4,138.4,138.4,138.4,138.4,138.4,138.4,138.4,138.4,138.4,138.4,138.4,138.4,138.4,138.4,138.4,138.4,138.4,138.4,138.4,138.4,138.4,138.4,138.4,138.4,138.4,138.4,138.4,138.4,138.4,138.4,138.4,138.4,138.4,138.4,138.4,138.4,138.4,138.4,138.4,138.4,138.4,138.4,138.4,138.4,138.4,138.4,138.4,138.4,138.4,138.4,138.4,138.4,138.4,138.4,138.4,138.4,138.704,138.704,140.57,140.57,142.703,142.703,144.57,144.57,146.703,146.703,146.703,148.837,149.4,149.4,149.4,149.4,149.4,149.4,149.4,149.4,149.4,149.4,149.4,149.4,149.4,149.4,149.4,149.4,149.4,149.4,149.4,149.4,149.4,149.4,149.4,149.4,149.4,149.4,149.4,149.4,149.4,149.4,149.4,149.4,149.4,149.4,149.4,149.4,149.4,149.4,149.4,149.4,149.4,149.4,149.4,149.4,149.4,149.4,149.4,149.4,149.4,149.4,149.4,149.4,149.4,149.4,149.4,149.4,149.4,149.4,149.4,149.4,149.4,149.4,149.4,149.4,149.4,149.4,149.4,149.4,149.4,149.4,149.4,149.4,149.4,149.4,149.4,149.4,149.4,149.4,149.4,149.4,149.4,149.4,149.4,149.4,149.4,149.4,149.4,149.4,149.4,149.4,149.4,149.4,149.4,149.4,149.4,149.4,149.4,149.4,149.4,149.4,149.4,149.4,149.4,149.4,149.4,149.4,149.4,149.4,149.4,149.4,149.4,149.4,149.4,149.4,149.4,149.4,149.4,149.4,149.4,149.4,149.4,149.4,149.4,149.4,149.4,149.4,149.4,149.4,149.4,149.4,149.4,149.4,149.4,149.4,149.4,149.4,149.4,149.4,149.4,149.4,149.4,149.4,149.4,149.4,149.4,149.4,149.4,149.4,149.4,149.4,149.4,149.4,149.4,149.4,149.4,149.4,149.4,149.4,149.4,149.4,149.4,149.4,149.4,149.4,149.4,149.4,149.4,149.4,149.4,149.4,149.4,149.4,149.4,149.4,149.4,149.4,149.4,149.4,149.4,149.4,149.4,149.4,149.4,149.4,149.4,149.4,149.4,149.4,149.4,149.4,149.4,149.4,149.4,149.4,149.4,149.4,149.4,149.4,149.4,149.4,149.4,149.4,149.4,149.4,149.4,149.4,149.4,149.4,149.4,149.4,149.4],\"yaxis\":\"y\",\"type\":\"scattergl\"}],                        {\"template\":{\"data\":{\"bar\":[{\"error_x\":{\"color\":\"#2a3f5f\"},\"error_y\":{\"color\":\"#2a3f5f\"},\"marker\":{\"line\":{\"color\":\"#E5ECF6\",\"width\":0.5},\"pattern\":{\"fillmode\":\"overlay\",\"size\":10,\"solidity\":0.2}},\"type\":\"bar\"}],\"barpolar\":[{\"marker\":{\"line\":{\"color\":\"#E5ECF6\",\"width\":0.5},\"pattern\":{\"fillmode\":\"overlay\",\"size\":10,\"solidity\":0.2}},\"type\":\"barpolar\"}],\"carpet\":[{\"aaxis\":{\"endlinecolor\":\"#2a3f5f\",\"gridcolor\":\"white\",\"linecolor\":\"white\",\"minorgridcolor\":\"white\",\"startlinecolor\":\"#2a3f5f\"},\"baxis\":{\"endlinecolor\":\"#2a3f5f\",\"gridcolor\":\"white\",\"linecolor\":\"white\",\"minorgridcolor\":\"white\",\"startlinecolor\":\"#2a3f5f\"},\"type\":\"carpet\"}],\"choropleth\":[{\"colorbar\":{\"outlinewidth\":0,\"ticks\":\"\"},\"type\":\"choropleth\"}],\"contour\":[{\"colorbar\":{\"outlinewidth\":0,\"ticks\":\"\"},\"colorscale\":[[0.0,\"#0d0887\"],[0.1111111111111111,\"#46039f\"],[0.2222222222222222,\"#7201a8\"],[0.3333333333333333,\"#9c179e\"],[0.4444444444444444,\"#bd3786\"],[0.5555555555555556,\"#d8576b\"],[0.6666666666666666,\"#ed7953\"],[0.7777777777777778,\"#fb9f3a\"],[0.8888888888888888,\"#fdca26\"],[1.0,\"#f0f921\"]],\"type\":\"contour\"}],\"contourcarpet\":[{\"colorbar\":{\"outlinewidth\":0,\"ticks\":\"\"},\"type\":\"contourcarpet\"}],\"heatmap\":[{\"colorbar\":{\"outlinewidth\":0,\"ticks\":\"\"},\"colorscale\":[[0.0,\"#0d0887\"],[0.1111111111111111,\"#46039f\"],[0.2222222222222222,\"#7201a8\"],[0.3333333333333333,\"#9c179e\"],[0.4444444444444444,\"#bd3786\"],[0.5555555555555556,\"#d8576b\"],[0.6666666666666666,\"#ed7953\"],[0.7777777777777778,\"#fb9f3a\"],[0.8888888888888888,\"#fdca26\"],[1.0,\"#f0f921\"]],\"type\":\"heatmap\"}],\"heatmapgl\":[{\"colorbar\":{\"outlinewidth\":0,\"ticks\":\"\"},\"colorscale\":[[0.0,\"#0d0887\"],[0.1111111111111111,\"#46039f\"],[0.2222222222222222,\"#7201a8\"],[0.3333333333333333,\"#9c179e\"],[0.4444444444444444,\"#bd3786\"],[0.5555555555555556,\"#d8576b\"],[0.6666666666666666,\"#ed7953\"],[0.7777777777777778,\"#fb9f3a\"],[0.8888888888888888,\"#fdca26\"],[1.0,\"#f0f921\"]],\"type\":\"heatmapgl\"}],\"histogram\":[{\"marker\":{\"pattern\":{\"fillmode\":\"overlay\",\"size\":10,\"solidity\":0.2}},\"type\":\"histogram\"}],\"histogram2d\":[{\"colorbar\":{\"outlinewidth\":0,\"ticks\":\"\"},\"colorscale\":[[0.0,\"#0d0887\"],[0.1111111111111111,\"#46039f\"],[0.2222222222222222,\"#7201a8\"],[0.3333333333333333,\"#9c179e\"],[0.4444444444444444,\"#bd3786\"],[0.5555555555555556,\"#d8576b\"],[0.6666666666666666,\"#ed7953\"],[0.7777777777777778,\"#fb9f3a\"],[0.8888888888888888,\"#fdca26\"],[1.0,\"#f0f921\"]],\"type\":\"histogram2d\"}],\"histogram2dcontour\":[{\"colorbar\":{\"outlinewidth\":0,\"ticks\":\"\"},\"colorscale\":[[0.0,\"#0d0887\"],[0.1111111111111111,\"#46039f\"],[0.2222222222222222,\"#7201a8\"],[0.3333333333333333,\"#9c179e\"],[0.4444444444444444,\"#bd3786\"],[0.5555555555555556,\"#d8576b\"],[0.6666666666666666,\"#ed7953\"],[0.7777777777777778,\"#fb9f3a\"],[0.8888888888888888,\"#fdca26\"],[1.0,\"#f0f921\"]],\"type\":\"histogram2dcontour\"}],\"mesh3d\":[{\"colorbar\":{\"outlinewidth\":0,\"ticks\":\"\"},\"type\":\"mesh3d\"}],\"parcoords\":[{\"line\":{\"colorbar\":{\"outlinewidth\":0,\"ticks\":\"\"}},\"type\":\"parcoords\"}],\"pie\":[{\"automargin\":true,\"type\":\"pie\"}],\"scatter\":[{\"marker\":{\"colorbar\":{\"outlinewidth\":0,\"ticks\":\"\"}},\"type\":\"scatter\"}],\"scatter3d\":[{\"line\":{\"colorbar\":{\"outlinewidth\":0,\"ticks\":\"\"}},\"marker\":{\"colorbar\":{\"outlinewidth\":0,\"ticks\":\"\"}},\"type\":\"scatter3d\"}],\"scattercarpet\":[{\"marker\":{\"colorbar\":{\"outlinewidth\":0,\"ticks\":\"\"}},\"type\":\"scattercarpet\"}],\"scattergeo\":[{\"marker\":{\"colorbar\":{\"outlinewidth\":0,\"ticks\":\"\"}},\"type\":\"scattergeo\"}],\"scattergl\":[{\"marker\":{\"colorbar\":{\"outlinewidth\":0,\"ticks\":\"\"}},\"type\":\"scattergl\"}],\"scattermapbox\":[{\"marker\":{\"colorbar\":{\"outlinewidth\":0,\"ticks\":\"\"}},\"type\":\"scattermapbox\"}],\"scatterpolar\":[{\"marker\":{\"colorbar\":{\"outlinewidth\":0,\"ticks\":\"\"}},\"type\":\"scatterpolar\"}],\"scatterpolargl\":[{\"marker\":{\"colorbar\":{\"outlinewidth\":0,\"ticks\":\"\"}},\"type\":\"scatterpolargl\"}],\"scatterternary\":[{\"marker\":{\"colorbar\":{\"outlinewidth\":0,\"ticks\":\"\"}},\"type\":\"scatterternary\"}],\"surface\":[{\"colorbar\":{\"outlinewidth\":0,\"ticks\":\"\"},\"colorscale\":[[0.0,\"#0d0887\"],[0.1111111111111111,\"#46039f\"],[0.2222222222222222,\"#7201a8\"],[0.3333333333333333,\"#9c179e\"],[0.4444444444444444,\"#bd3786\"],[0.5555555555555556,\"#d8576b\"],[0.6666666666666666,\"#ed7953\"],[0.7777777777777778,\"#fb9f3a\"],[0.8888888888888888,\"#fdca26\"],[1.0,\"#f0f921\"]],\"type\":\"surface\"}],\"table\":[{\"cells\":{\"fill\":{\"color\":\"#EBF0F8\"},\"line\":{\"color\":\"white\"}},\"header\":{\"fill\":{\"color\":\"#C8D4E3\"},\"line\":{\"color\":\"white\"}},\"type\":\"table\"}]},\"layout\":{\"annotationdefaults\":{\"arrowcolor\":\"#2a3f5f\",\"arrowhead\":0,\"arrowwidth\":1},\"autotypenumbers\":\"strict\",\"coloraxis\":{\"colorbar\":{\"outlinewidth\":0,\"ticks\":\"\"}},\"colorscale\":{\"diverging\":[[0,\"#8e0152\"],[0.1,\"#c51b7d\"],[0.2,\"#de77ae\"],[0.3,\"#f1b6da\"],[0.4,\"#fde0ef\"],[0.5,\"#f7f7f7\"],[0.6,\"#e6f5d0\"],[0.7,\"#b8e186\"],[0.8,\"#7fbc41\"],[0.9,\"#4d9221\"],[1,\"#276419\"]],\"sequential\":[[0.0,\"#0d0887\"],[0.1111111111111111,\"#46039f\"],[0.2222222222222222,\"#7201a8\"],[0.3333333333333333,\"#9c179e\"],[0.4444444444444444,\"#bd3786\"],[0.5555555555555556,\"#d8576b\"],[0.6666666666666666,\"#ed7953\"],[0.7777777777777778,\"#fb9f3a\"],[0.8888888888888888,\"#fdca26\"],[1.0,\"#f0f921\"]],\"sequentialminus\":[[0.0,\"#0d0887\"],[0.1111111111111111,\"#46039f\"],[0.2222222222222222,\"#7201a8\"],[0.3333333333333333,\"#9c179e\"],[0.4444444444444444,\"#bd3786\"],[0.5555555555555556,\"#d8576b\"],[0.6666666666666666,\"#ed7953\"],[0.7777777777777778,\"#fb9f3a\"],[0.8888888888888888,\"#fdca26\"],[1.0,\"#f0f921\"]]},\"colorway\":[\"#636efa\",\"#EF553B\",\"#00cc96\",\"#ab63fa\",\"#FFA15A\",\"#19d3f3\",\"#FF6692\",\"#B6E880\",\"#FF97FF\",\"#FECB52\"],\"font\":{\"color\":\"#2a3f5f\"},\"geo\":{\"bgcolor\":\"white\",\"lakecolor\":\"white\",\"landcolor\":\"#E5ECF6\",\"showlakes\":true,\"showland\":true,\"subunitcolor\":\"white\"},\"hoverlabel\":{\"align\":\"left\"},\"hovermode\":\"closest\",\"mapbox\":{\"style\":\"light\"},\"paper_bgcolor\":\"white\",\"plot_bgcolor\":\"#E5ECF6\",\"polar\":{\"angularaxis\":{\"gridcolor\":\"white\",\"linecolor\":\"white\",\"ticks\":\"\"},\"bgcolor\":\"#E5ECF6\",\"radialaxis\":{\"gridcolor\":\"white\",\"linecolor\":\"white\",\"ticks\":\"\"}},\"scene\":{\"xaxis\":{\"backgroundcolor\":\"#E5ECF6\",\"gridcolor\":\"white\",\"gridwidth\":2,\"linecolor\":\"white\",\"showbackground\":true,\"ticks\":\"\",\"zerolinecolor\":\"white\"},\"yaxis\":{\"backgroundcolor\":\"#E5ECF6\",\"gridcolor\":\"white\",\"gridwidth\":2,\"linecolor\":\"white\",\"showbackground\":true,\"ticks\":\"\",\"zerolinecolor\":\"white\"},\"zaxis\":{\"backgroundcolor\":\"#E5ECF6\",\"gridcolor\":\"white\",\"gridwidth\":2,\"linecolor\":\"white\",\"showbackground\":true,\"ticks\":\"\",\"zerolinecolor\":\"white\"}},\"shapedefaults\":{\"line\":{\"color\":\"#2a3f5f\"}},\"ternary\":{\"aaxis\":{\"gridcolor\":\"white\",\"linecolor\":\"white\",\"ticks\":\"\"},\"baxis\":{\"gridcolor\":\"white\",\"linecolor\":\"white\",\"ticks\":\"\"},\"bgcolor\":\"#E5ECF6\",\"caxis\":{\"gridcolor\":\"white\",\"linecolor\":\"white\",\"ticks\":\"\"}},\"title\":{\"x\":0.05},\"xaxis\":{\"automargin\":true,\"gridcolor\":\"white\",\"linecolor\":\"white\",\"ticks\":\"\",\"title\":{\"standoff\":15},\"zerolinecolor\":\"white\",\"zerolinewidth\":2},\"yaxis\":{\"automargin\":true,\"gridcolor\":\"white\",\"linecolor\":\"white\",\"ticks\":\"\",\"title\":{\"standoff\":15},\"zerolinecolor\":\"white\",\"zerolinewidth\":2}}},\"xaxis\":{\"anchor\":\"y\",\"domain\":[0.0,1.0],\"title\":{\"text\":\" x\"}},\"yaxis\":{\"anchor\":\"x\",\"domain\":[0.0,1.0],\"title\":{\"text\":\" y\"}},\"legend\":{\"tracegroupgap\":0},\"margin\":{\"t\":60}},                        {\"responsive\": true}                    ).then(function(){\n",
       "                            \n",
       "var gd = document.getElementById('228bd58e-4dba-45ea-afcc-ddeac54c6751');\n",
       "var x = new MutationObserver(function (mutations, observer) {{\n",
       "        var display = window.getComputedStyle(gd).display;\n",
       "        if (!display || display === 'none') {{\n",
       "            console.log([gd, 'removed!']);\n",
       "            Plotly.purge(gd);\n",
       "            observer.disconnect();\n",
       "        }}\n",
       "}});\n",
       "\n",
       "// Listen for the removal of the full notebook cells\n",
       "var notebookContainer = gd.closest('#notebook-container');\n",
       "if (notebookContainer) {{\n",
       "    x.observe(notebookContainer, {childList: true});\n",
       "}}\n",
       "\n",
       "// Listen for the clearing of the current output cell\n",
       "var outputEl = gd.closest('.output');\n",
       "if (outputEl) {{\n",
       "    x.observe(outputEl, {childList: true});\n",
       "}}\n",
       "\n",
       "                        })                };                            </script>        </div>\n",
       "</body>\n",
       "</html>"
      ]
     },
     "metadata": {},
     "output_type": "display_data"
    }
   ],
   "source": [
    "# import plotly.express as px\n",
    "# # le=len(f50_2_2)\n",
    "# # count = list(range(le))\n",
    "for i in range(len(f50_2)):\n",
    "  count = list(range(len(f50_2[i])))\n",
    "  f50_2[i]= f50_2[i].assign(count = count)\n",
    "  fig= px.scatter(f50_2[i], x=' x', y=' y',hover_data=[\"count\"],)\n",
    "  fig.show()\n",
    "\n",
    "# f50_2_2= f50_2_2.assign(count = count)\n",
    "# fig = px.scatter(f50_2, x=' x', y=' y',hover_data=[\"count\"],)\n",
    "# fig.show()"
   ]
  },
  {
   "cell_type": "markdown",
   "id": "bVBoIVFIlRkN",
   "metadata": {
    "id": "bVBoIVFIlRkN"
   },
   "source": []
  },
  {
   "cell_type": "markdown",
   "id": "283562eb",
   "metadata": {
    "id": "283562eb"
   },
   "source": [
    "#시작"
   ]
  },
  {
   "cell_type": "code",
   "execution_count": null,
   "id": "cdfbc237",
   "metadata": {
    "id": "cdfbc237"
   },
   "outputs": [],
   "source": [
    "#시행 횟수 1\n",
    "f50_2_2_1 = f50_2_2"
   ]
  },
  {
   "cell_type": "markdown",
   "id": "wi8322EFOMZT",
   "metadata": {
    "id": "wi8322EFOMZT"
   },
   "source": []
  },
  {
   "cell_type": "code",
   "execution_count": null,
   "id": "rVzGAudXhUth",
   "metadata": {
    "colab": {
     "base_uri": "https://localhost:8080/"
    },
    "id": "rVzGAudXhUth",
    "outputId": "2275ea75-3c7c-4c9f-fbb8-77ebbcab8750"
   },
   "outputs": [
    {
     "data": {
      "text/plain": [
       "4864"
      ]
     },
     "execution_count": 60,
     "metadata": {},
     "output_type": "execute_result"
    }
   ],
   "source": [
    "len(f50_2_2)"
   ]
  },
  {
   "cell_type": "code",
   "execution_count": null,
   "id": "4259ea5b",
   "metadata": {
    "colab": {
     "base_uri": "https://localhost:8080/",
     "height": 346
    },
    "id": "4259ea5b",
    "outputId": "f21da5d0-dcb5-4a17-fae4-79bd1e8cad31"
   },
   "outputs": [
    {
     "ename": "ValueError",
     "evalue": "ignored",
     "output_type": "error",
     "traceback": [
      "\u001b[0;31m---------------------------------------------------------------------------\u001b[0m",
      "\u001b[0;31mValueError\u001b[0m                                Traceback (most recent call last)",
      "\u001b[0;32m<ipython-input-61-22dde54ff448>\u001b[0m in \u001b[0;36m<module>\u001b[0;34m\u001b[0m\n\u001b[1;32m      1\u001b[0m \u001b[0mcount\u001b[0m\u001b[0;34m=\u001b[0m \u001b[0mlist\u001b[0m\u001b[0;34m(\u001b[0m\u001b[0mrange\u001b[0m\u001b[0;34m(\u001b[0m\u001b[0;36m182\u001b[0m\u001b[0;34m)\u001b[0m\u001b[0;34m)\u001b[0m\u001b[0;34m\u001b[0m\u001b[0;34m\u001b[0m\u001b[0m\n\u001b[0;32m----> 2\u001b[0;31m \u001b[0mf50_2_2_1\u001b[0m\u001b[0;34m=\u001b[0m \u001b[0mf50_2_2_1\u001b[0m\u001b[0;34m.\u001b[0m\u001b[0massign\u001b[0m\u001b[0;34m(\u001b[0m\u001b[0mcount\u001b[0m \u001b[0;34m=\u001b[0m \u001b[0mcount\u001b[0m\u001b[0;34m)\u001b[0m\u001b[0;34m\u001b[0m\u001b[0;34m\u001b[0m\u001b[0m\n\u001b[0m",
      "\u001b[0;32m/usr/local/lib/python3.8/dist-packages/pandas/core/frame.py\u001b[0m in \u001b[0;36massign\u001b[0;34m(self, **kwargs)\u001b[0m\n\u001b[1;32m   4484\u001b[0m \u001b[0;34m\u001b[0m\u001b[0m\n\u001b[1;32m   4485\u001b[0m         \u001b[0;32mfor\u001b[0m \u001b[0mk\u001b[0m\u001b[0;34m,\u001b[0m \u001b[0mv\u001b[0m \u001b[0;32min\u001b[0m \u001b[0mkwargs\u001b[0m\u001b[0;34m.\u001b[0m\u001b[0mitems\u001b[0m\u001b[0;34m(\u001b[0m\u001b[0;34m)\u001b[0m\u001b[0;34m:\u001b[0m\u001b[0;34m\u001b[0m\u001b[0;34m\u001b[0m\u001b[0m\n\u001b[0;32m-> 4486\u001b[0;31m             \u001b[0mdata\u001b[0m\u001b[0;34m[\u001b[0m\u001b[0mk\u001b[0m\u001b[0;34m]\u001b[0m \u001b[0;34m=\u001b[0m \u001b[0mcom\u001b[0m\u001b[0;34m.\u001b[0m\u001b[0mapply_if_callable\u001b[0m\u001b[0;34m(\u001b[0m\u001b[0mv\u001b[0m\u001b[0;34m,\u001b[0m \u001b[0mdata\u001b[0m\u001b[0;34m)\u001b[0m\u001b[0;34m\u001b[0m\u001b[0;34m\u001b[0m\u001b[0m\n\u001b[0m\u001b[1;32m   4487\u001b[0m         \u001b[0;32mreturn\u001b[0m \u001b[0mdata\u001b[0m\u001b[0;34m\u001b[0m\u001b[0;34m\u001b[0m\u001b[0m\n\u001b[1;32m   4488\u001b[0m \u001b[0;34m\u001b[0m\u001b[0m\n",
      "\u001b[0;32m/usr/local/lib/python3.8/dist-packages/pandas/core/frame.py\u001b[0m in \u001b[0;36m__setitem__\u001b[0;34m(self, key, value)\u001b[0m\n\u001b[1;32m   3610\u001b[0m         \u001b[0;32melse\u001b[0m\u001b[0;34m:\u001b[0m\u001b[0;34m\u001b[0m\u001b[0;34m\u001b[0m\u001b[0m\n\u001b[1;32m   3611\u001b[0m             \u001b[0;31m# set column\u001b[0m\u001b[0;34m\u001b[0m\u001b[0;34m\u001b[0m\u001b[0;34m\u001b[0m\u001b[0m\n\u001b[0;32m-> 3612\u001b[0;31m             \u001b[0mself\u001b[0m\u001b[0;34m.\u001b[0m\u001b[0m_set_item\u001b[0m\u001b[0;34m(\u001b[0m\u001b[0mkey\u001b[0m\u001b[0;34m,\u001b[0m \u001b[0mvalue\u001b[0m\u001b[0;34m)\u001b[0m\u001b[0;34m\u001b[0m\u001b[0;34m\u001b[0m\u001b[0m\n\u001b[0m\u001b[1;32m   3613\u001b[0m \u001b[0;34m\u001b[0m\u001b[0m\n\u001b[1;32m   3614\u001b[0m     \u001b[0;32mdef\u001b[0m \u001b[0m_setitem_slice\u001b[0m\u001b[0;34m(\u001b[0m\u001b[0mself\u001b[0m\u001b[0;34m,\u001b[0m \u001b[0mkey\u001b[0m\u001b[0;34m:\u001b[0m \u001b[0mslice\u001b[0m\u001b[0;34m,\u001b[0m \u001b[0mvalue\u001b[0m\u001b[0;34m)\u001b[0m\u001b[0;34m:\u001b[0m\u001b[0;34m\u001b[0m\u001b[0;34m\u001b[0m\u001b[0m\n",
      "\u001b[0;32m/usr/local/lib/python3.8/dist-packages/pandas/core/frame.py\u001b[0m in \u001b[0;36m_set_item\u001b[0;34m(self, key, value)\u001b[0m\n\u001b[1;32m   3782\u001b[0m         \u001b[0mensure\u001b[0m \u001b[0mhomogeneity\u001b[0m\u001b[0;34m.\u001b[0m\u001b[0;34m\u001b[0m\u001b[0;34m\u001b[0m\u001b[0m\n\u001b[1;32m   3783\u001b[0m         \"\"\"\n\u001b[0;32m-> 3784\u001b[0;31m         \u001b[0mvalue\u001b[0m \u001b[0;34m=\u001b[0m \u001b[0mself\u001b[0m\u001b[0;34m.\u001b[0m\u001b[0m_sanitize_column\u001b[0m\u001b[0;34m(\u001b[0m\u001b[0mvalue\u001b[0m\u001b[0;34m)\u001b[0m\u001b[0;34m\u001b[0m\u001b[0;34m\u001b[0m\u001b[0m\n\u001b[0m\u001b[1;32m   3785\u001b[0m \u001b[0;34m\u001b[0m\u001b[0m\n\u001b[1;32m   3786\u001b[0m         if (\n",
      "\u001b[0;32m/usr/local/lib/python3.8/dist-packages/pandas/core/frame.py\u001b[0m in \u001b[0;36m_sanitize_column\u001b[0;34m(self, value)\u001b[0m\n\u001b[1;32m   4507\u001b[0m \u001b[0;34m\u001b[0m\u001b[0m\n\u001b[1;32m   4508\u001b[0m         \u001b[0;32mif\u001b[0m \u001b[0mis_list_like\u001b[0m\u001b[0;34m(\u001b[0m\u001b[0mvalue\u001b[0m\u001b[0;34m)\u001b[0m\u001b[0;34m:\u001b[0m\u001b[0;34m\u001b[0m\u001b[0;34m\u001b[0m\u001b[0m\n\u001b[0;32m-> 4509\u001b[0;31m             \u001b[0mcom\u001b[0m\u001b[0;34m.\u001b[0m\u001b[0mrequire_length_match\u001b[0m\u001b[0;34m(\u001b[0m\u001b[0mvalue\u001b[0m\u001b[0;34m,\u001b[0m \u001b[0mself\u001b[0m\u001b[0;34m.\u001b[0m\u001b[0mindex\u001b[0m\u001b[0;34m)\u001b[0m\u001b[0;34m\u001b[0m\u001b[0;34m\u001b[0m\u001b[0m\n\u001b[0m\u001b[1;32m   4510\u001b[0m         \u001b[0;32mreturn\u001b[0m \u001b[0msanitize_array\u001b[0m\u001b[0;34m(\u001b[0m\u001b[0mvalue\u001b[0m\u001b[0;34m,\u001b[0m \u001b[0mself\u001b[0m\u001b[0;34m.\u001b[0m\u001b[0mindex\u001b[0m\u001b[0;34m,\u001b[0m \u001b[0mcopy\u001b[0m\u001b[0;34m=\u001b[0m\u001b[0;32mTrue\u001b[0m\u001b[0;34m,\u001b[0m \u001b[0mallow_2d\u001b[0m\u001b[0;34m=\u001b[0m\u001b[0;32mTrue\u001b[0m\u001b[0;34m)\u001b[0m\u001b[0;34m\u001b[0m\u001b[0;34m\u001b[0m\u001b[0m\n\u001b[1;32m   4511\u001b[0m \u001b[0;34m\u001b[0m\u001b[0m\n",
      "\u001b[0;32m/usr/local/lib/python3.8/dist-packages/pandas/core/common.py\u001b[0m in \u001b[0;36mrequire_length_match\u001b[0;34m(data, index)\u001b[0m\n\u001b[1;32m    529\u001b[0m     \"\"\"\n\u001b[1;32m    530\u001b[0m     \u001b[0;32mif\u001b[0m \u001b[0mlen\u001b[0m\u001b[0;34m(\u001b[0m\u001b[0mdata\u001b[0m\u001b[0;34m)\u001b[0m \u001b[0;34m!=\u001b[0m \u001b[0mlen\u001b[0m\u001b[0;34m(\u001b[0m\u001b[0mindex\u001b[0m\u001b[0;34m)\u001b[0m\u001b[0;34m:\u001b[0m\u001b[0;34m\u001b[0m\u001b[0;34m\u001b[0m\u001b[0m\n\u001b[0;32m--> 531\u001b[0;31m         raise ValueError(\n\u001b[0m\u001b[1;32m    532\u001b[0m             \u001b[0;34m\"Length of values \"\u001b[0m\u001b[0;34m\u001b[0m\u001b[0;34m\u001b[0m\u001b[0m\n\u001b[1;32m    533\u001b[0m             \u001b[0;34mf\"({len(data)}) \"\u001b[0m\u001b[0;34m\u001b[0m\u001b[0;34m\u001b[0m\u001b[0m\n",
      "\u001b[0;31mValueError\u001b[0m: Length of values (182) does not match length of index (4864)"
     ]
    }
   ],
   "source": [
    "\n",
    "count= list(range(182))\n",
    "f50_2_2_1= f50_2_2_1.assign(count = count)"
   ]
  },
  {
   "cell_type": "code",
   "execution_count": null,
   "id": "7c041f51",
   "metadata": {
    "colab": {
     "base_uri": "https://localhost:8080/"
    },
    "id": "7c041f51",
    "outputId": "d7a0fc3c-03a5-41f0-8b21-1a4817f11366"
   },
   "outputs": [
    {
     "data": {
      "text/plain": [
       "Index(['hh:mm:ss:ms', ' G-code', ' M-code', ' x', ' y', ' z', ' spindle load',\n",
       "       ' command RPM', ' command Feedrate', ' actual RPM', ' actual Feedrate',\n",
       "       ' actLoad', ' Ref_upper', ' Ref_lower', ' PLCFOV', ' AdaptiveOn', ' C1',\n",
       "       ' C2', ' C3', ' C4'],\n",
       "      dtype='object')"
      ]
     },
     "execution_count": 62,
     "metadata": {},
     "output_type": "execute_result"
    }
   ],
   "source": [
    "# 추가 열 드랍 \n",
    "\n",
    "f50_2_2_1.columns"
   ]
  },
  {
   "cell_type": "code",
   "execution_count": null,
   "id": "WOO9ESrH46zI",
   "metadata": {
    "colab": {
     "base_uri": "https://localhost:8080/",
     "height": 423
    },
    "id": "WOO9ESrH46zI",
    "outputId": "7663e325-d734-48e8-94a8-b43f5ae19e6a"
   },
   "outputs": [
    {
     "data": {
      "text/html": [
       "\n",
       "  <div id=\"df-2e559ae6-1be2-4885-abd4-cc99ba833d5d\">\n",
       "    <div class=\"colab-df-container\">\n",
       "      <div>\n",
       "<style scoped>\n",
       "    .dataframe tbody tr th:only-of-type {\n",
       "        vertical-align: middle;\n",
       "    }\n",
       "\n",
       "    .dataframe tbody tr th {\n",
       "        vertical-align: top;\n",
       "    }\n",
       "\n",
       "    .dataframe thead th {\n",
       "        text-align: right;\n",
       "    }\n",
       "</style>\n",
       "<table border=\"1\" class=\"dataframe\">\n",
       "  <thead>\n",
       "    <tr style=\"text-align: right;\">\n",
       "      <th></th>\n",
       "      <th>hh:mm:ss:ms</th>\n",
       "      <th>G-code</th>\n",
       "      <th>M-code</th>\n",
       "      <th>x</th>\n",
       "      <th>y</th>\n",
       "      <th>z</th>\n",
       "      <th>spindle load</th>\n",
       "      <th>command RPM</th>\n",
       "      <th>command Feedrate</th>\n",
       "      <th>actual RPM</th>\n",
       "      <th>actual Feedrate</th>\n",
       "      <th>actLoad</th>\n",
       "      <th>Ref_upper</th>\n",
       "      <th>Ref_lower</th>\n",
       "      <th>PLCFOV</th>\n",
       "      <th>AdaptiveOn</th>\n",
       "      <th>C1</th>\n",
       "      <th>C2</th>\n",
       "      <th>C3</th>\n",
       "      <th>C4</th>\n",
       "    </tr>\n",
       "  </thead>\n",
       "  <tbody>\n",
       "    <tr>\n",
       "      <th>65</th>\n",
       "      <td>16: 9:40:435</td>\n",
       "      <td>1</td>\n",
       "      <td>8</td>\n",
       "      <td>-29.960</td>\n",
       "      <td>-4.8</td>\n",
       "      <td>-1.0</td>\n",
       "      <td>0</td>\n",
       "      <td>4000</td>\n",
       "      <td>1000</td>\n",
       "      <td>3999</td>\n",
       "      <td>684</td>\n",
       "      <td>4.2748</td>\n",
       "      <td>9.0000</td>\n",
       "      <td>9.0000</td>\n",
       "      <td>205</td>\n",
       "      <td>0</td>\n",
       "      <td>4.2748</td>\n",
       "      <td>4.1419</td>\n",
       "      <td>50.7158</td>\n",
       "      <td>50.7174</td>\n",
       "    </tr>\n",
       "    <tr>\n",
       "      <th>66</th>\n",
       "      <td>16: 9:40:555</td>\n",
       "      <td>1</td>\n",
       "      <td>8</td>\n",
       "      <td>-29.960</td>\n",
       "      <td>-4.8</td>\n",
       "      <td>-1.0</td>\n",
       "      <td>0</td>\n",
       "      <td>4000</td>\n",
       "      <td>1000</td>\n",
       "      <td>3999</td>\n",
       "      <td>684</td>\n",
       "      <td>4.2701</td>\n",
       "      <td>9.0000</td>\n",
       "      <td>9.0000</td>\n",
       "      <td>205</td>\n",
       "      <td>0</td>\n",
       "      <td>4.2701</td>\n",
       "      <td>4.1138</td>\n",
       "      <td>50.7142</td>\n",
       "      <td>50.7174</td>\n",
       "    </tr>\n",
       "    <tr>\n",
       "      <th>67</th>\n",
       "      <td>16: 9:40:675</td>\n",
       "      <td>1</td>\n",
       "      <td>8</td>\n",
       "      <td>-28.182</td>\n",
       "      <td>-4.8</td>\n",
       "      <td>-1.0</td>\n",
       "      <td>0</td>\n",
       "      <td>4000</td>\n",
       "      <td>1000</td>\n",
       "      <td>3999</td>\n",
       "      <td>500</td>\n",
       "      <td>4.2826</td>\n",
       "      <td>9.0000</td>\n",
       "      <td>9.0000</td>\n",
       "      <td>205</td>\n",
       "      <td>0</td>\n",
       "      <td>4.2826</td>\n",
       "      <td>4.1029</td>\n",
       "      <td>50.7142</td>\n",
       "      <td>50.7158</td>\n",
       "    </tr>\n",
       "    <tr>\n",
       "      <th>68</th>\n",
       "      <td>16: 9:40:795</td>\n",
       "      <td>1</td>\n",
       "      <td>8</td>\n",
       "      <td>-28.182</td>\n",
       "      <td>-4.8</td>\n",
       "      <td>-1.0</td>\n",
       "      <td>0</td>\n",
       "      <td>4000</td>\n",
       "      <td>1000</td>\n",
       "      <td>3999</td>\n",
       "      <td>500</td>\n",
       "      <td>4.2732</td>\n",
       "      <td>9.0000</td>\n",
       "      <td>9.0000</td>\n",
       "      <td>205</td>\n",
       "      <td>0</td>\n",
       "      <td>4.2732</td>\n",
       "      <td>4.1138</td>\n",
       "      <td>50.7142</td>\n",
       "      <td>50.7142</td>\n",
       "    </tr>\n",
       "    <tr>\n",
       "      <th>69</th>\n",
       "      <td>16: 9:40:915</td>\n",
       "      <td>1</td>\n",
       "      <td>8</td>\n",
       "      <td>-26.049</td>\n",
       "      <td>-4.8</td>\n",
       "      <td>-1.0</td>\n",
       "      <td>0</td>\n",
       "      <td>4000</td>\n",
       "      <td>1000</td>\n",
       "      <td>3999</td>\n",
       "      <td>500</td>\n",
       "      <td>4.2544</td>\n",
       "      <td>9.0000</td>\n",
       "      <td>9.0000</td>\n",
       "      <td>205</td>\n",
       "      <td>0</td>\n",
       "      <td>4.2544</td>\n",
       "      <td>4.1357</td>\n",
       "      <td>50.7127</td>\n",
       "      <td>50.7158</td>\n",
       "    </tr>\n",
       "    <tr>\n",
       "      <th>...</th>\n",
       "      <td>...</td>\n",
       "      <td>...</td>\n",
       "      <td>...</td>\n",
       "      <td>...</td>\n",
       "      <td>...</td>\n",
       "      <td>...</td>\n",
       "      <td>...</td>\n",
       "      <td>...</td>\n",
       "      <td>...</td>\n",
       "      <td>...</td>\n",
       "      <td>...</td>\n",
       "      <td>...</td>\n",
       "      <td>...</td>\n",
       "      <td>...</td>\n",
       "      <td>...</td>\n",
       "      <td>...</td>\n",
       "      <td>...</td>\n",
       "      <td>...</td>\n",
       "      <td>...</td>\n",
       "      <td>...</td>\n",
       "    </tr>\n",
       "    <tr>\n",
       "      <th>4924</th>\n",
       "      <td>16:19:23:836</td>\n",
       "      <td>1</td>\n",
       "      <td>8</td>\n",
       "      <td>175.830</td>\n",
       "      <td>149.4</td>\n",
       "      <td>-1.0</td>\n",
       "      <td>0</td>\n",
       "      <td>4000</td>\n",
       "      <td>1000</td>\n",
       "      <td>3999</td>\n",
       "      <td>500</td>\n",
       "      <td>4.2919</td>\n",
       "      <td>4.0388</td>\n",
       "      <td>4.0388</td>\n",
       "      <td>205</td>\n",
       "      <td>0</td>\n",
       "      <td>4.2919</td>\n",
       "      <td>4.1654</td>\n",
       "      <td>50.7221</td>\n",
       "      <td>50.7111</td>\n",
       "    </tr>\n",
       "    <tr>\n",
       "      <th>4925</th>\n",
       "      <td>16:19:23:956</td>\n",
       "      <td>1</td>\n",
       "      <td>8</td>\n",
       "      <td>177.963</td>\n",
       "      <td>149.4</td>\n",
       "      <td>-1.0</td>\n",
       "      <td>0</td>\n",
       "      <td>4000</td>\n",
       "      <td>1000</td>\n",
       "      <td>3999</td>\n",
       "      <td>500</td>\n",
       "      <td>4.2919</td>\n",
       "      <td>4.0388</td>\n",
       "      <td>4.0388</td>\n",
       "      <td>205</td>\n",
       "      <td>0</td>\n",
       "      <td>4.2919</td>\n",
       "      <td>4.1794</td>\n",
       "      <td>50.7236</td>\n",
       "      <td>50.7096</td>\n",
       "    </tr>\n",
       "    <tr>\n",
       "      <th>4926</th>\n",
       "      <td>16:19:24: 76</td>\n",
       "      <td>1</td>\n",
       "      <td>8</td>\n",
       "      <td>177.963</td>\n",
       "      <td>149.4</td>\n",
       "      <td>-1.0</td>\n",
       "      <td>0</td>\n",
       "      <td>4000</td>\n",
       "      <td>1000</td>\n",
       "      <td>3999</td>\n",
       "      <td>500</td>\n",
       "      <td>4.3185</td>\n",
       "      <td>4.0279</td>\n",
       "      <td>4.0279</td>\n",
       "      <td>205</td>\n",
       "      <td>0</td>\n",
       "      <td>4.3185</td>\n",
       "      <td>4.1873</td>\n",
       "      <td>50.7236</td>\n",
       "      <td>50.7096</td>\n",
       "    </tr>\n",
       "    <tr>\n",
       "      <th>4927</th>\n",
       "      <td>16:19:24:196</td>\n",
       "      <td>1</td>\n",
       "      <td>8</td>\n",
       "      <td>179.825</td>\n",
       "      <td>149.4</td>\n",
       "      <td>-1.0</td>\n",
       "      <td>0</td>\n",
       "      <td>4000</td>\n",
       "      <td>1000</td>\n",
       "      <td>3999</td>\n",
       "      <td>500</td>\n",
       "      <td>4.3123</td>\n",
       "      <td>4.0279</td>\n",
       "      <td>4.0279</td>\n",
       "      <td>205</td>\n",
       "      <td>0</td>\n",
       "      <td>4.3123</td>\n",
       "      <td>4.1951</td>\n",
       "      <td>50.7252</td>\n",
       "      <td>50.7080</td>\n",
       "    </tr>\n",
       "    <tr>\n",
       "      <th>4928</th>\n",
       "      <td>16:19:24:316</td>\n",
       "      <td>0</td>\n",
       "      <td>8</td>\n",
       "      <td>179.825</td>\n",
       "      <td>149.4</td>\n",
       "      <td>-1.0</td>\n",
       "      <td>0</td>\n",
       "      <td>4000</td>\n",
       "      <td>1000</td>\n",
       "      <td>3999</td>\n",
       "      <td>500</td>\n",
       "      <td>4.3076</td>\n",
       "      <td>4.0279</td>\n",
       "      <td>4.0279</td>\n",
       "      <td>205</td>\n",
       "      <td>0</td>\n",
       "      <td>4.3076</td>\n",
       "      <td>4.2013</td>\n",
       "      <td>50.7236</td>\n",
       "      <td>50.7002</td>\n",
       "    </tr>\n",
       "  </tbody>\n",
       "</table>\n",
       "<p>4864 rows × 20 columns</p>\n",
       "</div>\n",
       "      <button class=\"colab-df-convert\" onclick=\"convertToInteractive('df-2e559ae6-1be2-4885-abd4-cc99ba833d5d')\"\n",
       "              title=\"Convert this dataframe to an interactive table.\"\n",
       "              style=\"display:none;\">\n",
       "        \n",
       "  <svg xmlns=\"http://www.w3.org/2000/svg\" height=\"24px\"viewBox=\"0 0 24 24\"\n",
       "       width=\"24px\">\n",
       "    <path d=\"M0 0h24v24H0V0z\" fill=\"none\"/>\n",
       "    <path d=\"M18.56 5.44l.94 2.06.94-2.06 2.06-.94-2.06-.94-.94-2.06-.94 2.06-2.06.94zm-11 1L8.5 8.5l.94-2.06 2.06-.94-2.06-.94L8.5 2.5l-.94 2.06-2.06.94zm10 10l.94 2.06.94-2.06 2.06-.94-2.06-.94-.94-2.06-.94 2.06-2.06.94z\"/><path d=\"M17.41 7.96l-1.37-1.37c-.4-.4-.92-.59-1.43-.59-.52 0-1.04.2-1.43.59L10.3 9.45l-7.72 7.72c-.78.78-.78 2.05 0 2.83L4 21.41c.39.39.9.59 1.41.59.51 0 1.02-.2 1.41-.59l7.78-7.78 2.81-2.81c.8-.78.8-2.07 0-2.86zM5.41 20L4 18.59l7.72-7.72 1.47 1.35L5.41 20z\"/>\n",
       "  </svg>\n",
       "      </button>\n",
       "      \n",
       "  <style>\n",
       "    .colab-df-container {\n",
       "      display:flex;\n",
       "      flex-wrap:wrap;\n",
       "      gap: 12px;\n",
       "    }\n",
       "\n",
       "    .colab-df-convert {\n",
       "      background-color: #E8F0FE;\n",
       "      border: none;\n",
       "      border-radius: 50%;\n",
       "      cursor: pointer;\n",
       "      display: none;\n",
       "      fill: #1967D2;\n",
       "      height: 32px;\n",
       "      padding: 0 0 0 0;\n",
       "      width: 32px;\n",
       "    }\n",
       "\n",
       "    .colab-df-convert:hover {\n",
       "      background-color: #E2EBFA;\n",
       "      box-shadow: 0px 1px 2px rgba(60, 64, 67, 0.3), 0px 1px 3px 1px rgba(60, 64, 67, 0.15);\n",
       "      fill: #174EA6;\n",
       "    }\n",
       "\n",
       "    [theme=dark] .colab-df-convert {\n",
       "      background-color: #3B4455;\n",
       "      fill: #D2E3FC;\n",
       "    }\n",
       "\n",
       "    [theme=dark] .colab-df-convert:hover {\n",
       "      background-color: #434B5C;\n",
       "      box-shadow: 0px 1px 3px 1px rgba(0, 0, 0, 0.15);\n",
       "      filter: drop-shadow(0px 1px 2px rgba(0, 0, 0, 0.3));\n",
       "      fill: #FFFFFF;\n",
       "    }\n",
       "  </style>\n",
       "\n",
       "      <script>\n",
       "        const buttonEl =\n",
       "          document.querySelector('#df-2e559ae6-1be2-4885-abd4-cc99ba833d5d button.colab-df-convert');\n",
       "        buttonEl.style.display =\n",
       "          google.colab.kernel.accessAllowed ? 'block' : 'none';\n",
       "\n",
       "        async function convertToInteractive(key) {\n",
       "          const element = document.querySelector('#df-2e559ae6-1be2-4885-abd4-cc99ba833d5d');\n",
       "          const dataTable =\n",
       "            await google.colab.kernel.invokeFunction('convertToInteractive',\n",
       "                                                     [key], {});\n",
       "          if (!dataTable) return;\n",
       "\n",
       "          const docLinkHtml = 'Like what you see? Visit the ' +\n",
       "            '<a target=\"_blank\" href=https://colab.research.google.com/notebooks/data_table.ipynb>data table notebook</a>'\n",
       "            + ' to learn more about interactive tables.';\n",
       "          element.innerHTML = '';\n",
       "          dataTable['output_type'] = 'display_data';\n",
       "          await google.colab.output.renderOutput(dataTable, element);\n",
       "          const docLink = document.createElement('div');\n",
       "          docLink.innerHTML = docLinkHtml;\n",
       "          element.appendChild(docLink);\n",
       "        }\n",
       "      </script>\n",
       "    </div>\n",
       "  </div>\n",
       "  "
      ],
      "text/plain": [
       "       hh:mm:ss:ms   G-code   M-code        x      y    z   spindle load  \\\n",
       "65    16: 9:40:435        1        8  -29.960   -4.8 -1.0              0   \n",
       "66    16: 9:40:555        1        8  -29.960   -4.8 -1.0              0   \n",
       "67    16: 9:40:675        1        8  -28.182   -4.8 -1.0              0   \n",
       "68    16: 9:40:795        1        8  -28.182   -4.8 -1.0              0   \n",
       "69    16: 9:40:915        1        8  -26.049   -4.8 -1.0              0   \n",
       "...            ...      ...      ...      ...    ...  ...            ...   \n",
       "4924  16:19:23:836        1        8  175.830  149.4 -1.0              0   \n",
       "4925  16:19:23:956        1        8  177.963  149.4 -1.0              0   \n",
       "4926  16:19:24: 76        1        8  177.963  149.4 -1.0              0   \n",
       "4927  16:19:24:196        1        8  179.825  149.4 -1.0              0   \n",
       "4928  16:19:24:316        0        8  179.825  149.4 -1.0              0   \n",
       "\n",
       "       command RPM   command Feedrate   actual RPM   actual Feedrate  \\\n",
       "65            4000               1000         3999               684   \n",
       "66            4000               1000         3999               684   \n",
       "67            4000               1000         3999               500   \n",
       "68            4000               1000         3999               500   \n",
       "69            4000               1000         3999               500   \n",
       "...            ...                ...          ...               ...   \n",
       "4924          4000               1000         3999               500   \n",
       "4925          4000               1000         3999               500   \n",
       "4926          4000               1000         3999               500   \n",
       "4927          4000               1000         3999               500   \n",
       "4928          4000               1000         3999               500   \n",
       "\n",
       "       actLoad   Ref_upper   Ref_lower   PLCFOV   AdaptiveOn      C1      C2  \\\n",
       "65      4.2748      9.0000      9.0000      205            0  4.2748  4.1419   \n",
       "66      4.2701      9.0000      9.0000      205            0  4.2701  4.1138   \n",
       "67      4.2826      9.0000      9.0000      205            0  4.2826  4.1029   \n",
       "68      4.2732      9.0000      9.0000      205            0  4.2732  4.1138   \n",
       "69      4.2544      9.0000      9.0000      205            0  4.2544  4.1357   \n",
       "...        ...         ...         ...      ...          ...     ...     ...   \n",
       "4924    4.2919      4.0388      4.0388      205            0  4.2919  4.1654   \n",
       "4925    4.2919      4.0388      4.0388      205            0  4.2919  4.1794   \n",
       "4926    4.3185      4.0279      4.0279      205            0  4.3185  4.1873   \n",
       "4927    4.3123      4.0279      4.0279      205            0  4.3123  4.1951   \n",
       "4928    4.3076      4.0279      4.0279      205            0  4.3076  4.2013   \n",
       "\n",
       "           C3       C4  \n",
       "65    50.7158  50.7174  \n",
       "66    50.7142  50.7174  \n",
       "67    50.7142  50.7158  \n",
       "68    50.7142  50.7142  \n",
       "69    50.7127  50.7158  \n",
       "...       ...      ...  \n",
       "4924  50.7221  50.7111  \n",
       "4925  50.7236  50.7096  \n",
       "4926  50.7236  50.7096  \n",
       "4927  50.7252  50.7080  \n",
       "4928  50.7236  50.7002  \n",
       "\n",
       "[4864 rows x 20 columns]"
      ]
     },
     "execution_count": 63,
     "metadata": {},
     "output_type": "execute_result"
    }
   ],
   "source": [
    "f50_2_2"
   ]
  },
  {
   "cell_type": "code",
   "execution_count": null,
   "id": "ae8e70cd",
   "metadata": {
    "id": "ae8e70cd"
   },
   "outputs": [],
   "source": [
    "f50_2_2_1_C1 = f50_2_2_1.drop(['hh:mm:ss:ms', ' G-code',' actLoad', ' Ref_upper',' PLCFOV',' M-code',' C2', ' C3', ' C4',' x', ' y', ' z' ],axis = 1)\n",
    "f50_2_2_1_C2 = f50_2_2_1.drop(['hh:mm:ss:ms', ' G-code',' actLoad', ' Ref_upper',' PLCFOV',' M-code',' C1', ' C3', ' C4' ],axis = 1)\n",
    "f50_2_2_1_C3 = f50_2_2_1.drop(['hh:mm:ss:ms', ' G-code',' actLoad', ' Ref_upper',' PLCFOV',' M-code', ' C1', ' C2', ' C4' ],axis = 1)\n",
    "f50_2_2_1_C4 = f50_2_2_1.drop(['hh:mm:ss:ms', ' G-code',' actLoad', ' Ref_upper',' PLCFOV',' M-code', ' C2', ' C3', ' C1' ],axis = 1)\n",
    "\n",
    "f50_2_2_1_to = [f50_2_2_1_C1,f50_2_2_1_C2,f50_2_2_1_C3,f50_2_2_1_C4]"
   ]
  },
  {
   "cell_type": "code",
   "execution_count": null,
   "id": "OlE1MDNpcwTl",
   "metadata": {
    "id": "OlE1MDNpcwTl"
   },
   "outputs": [],
   "source": [
    "f50_2_2 =f50_2_2.drop(['hh:mm:ss:ms', ' G-code',' actLoad', ' Ref_upper',' PLCFOV',' M-code',' C2', ' C3', ' C4',' x', ' y', ' z' ],axis = 1)"
   ]
  },
  {
   "cell_type": "code",
   "execution_count": null,
   "id": "io_useBYeq1X",
   "metadata": {
    "colab": {
     "base_uri": "https://localhost:8080/",
     "height": 423
    },
    "id": "io_useBYeq1X",
    "outputId": "4fa70a72-f5a0-44e3-abe8-78fdf2686266"
   },
   "outputs": [
    {
     "data": {
      "text/html": [
       "\n",
       "  <div id=\"df-2a0bc3ae-f86c-4527-b1e9-a61737d1a621\">\n",
       "    <div class=\"colab-df-container\">\n",
       "      <div>\n",
       "<style scoped>\n",
       "    .dataframe tbody tr th:only-of-type {\n",
       "        vertical-align: middle;\n",
       "    }\n",
       "\n",
       "    .dataframe tbody tr th {\n",
       "        vertical-align: top;\n",
       "    }\n",
       "\n",
       "    .dataframe thead th {\n",
       "        text-align: right;\n",
       "    }\n",
       "</style>\n",
       "<table border=\"1\" class=\"dataframe\">\n",
       "  <thead>\n",
       "    <tr style=\"text-align: right;\">\n",
       "      <th></th>\n",
       "      <th>spindle load</th>\n",
       "      <th>command RPM</th>\n",
       "      <th>command Feedrate</th>\n",
       "      <th>actual RPM</th>\n",
       "      <th>actual Feedrate</th>\n",
       "      <th>Ref_lower</th>\n",
       "      <th>AdaptiveOn</th>\n",
       "      <th>C1</th>\n",
       "    </tr>\n",
       "  </thead>\n",
       "  <tbody>\n",
       "    <tr>\n",
       "      <th>65</th>\n",
       "      <td>0</td>\n",
       "      <td>4000</td>\n",
       "      <td>1000</td>\n",
       "      <td>3999</td>\n",
       "      <td>684</td>\n",
       "      <td>9.0000</td>\n",
       "      <td>0</td>\n",
       "      <td>4.2748</td>\n",
       "    </tr>\n",
       "    <tr>\n",
       "      <th>66</th>\n",
       "      <td>0</td>\n",
       "      <td>4000</td>\n",
       "      <td>1000</td>\n",
       "      <td>3999</td>\n",
       "      <td>684</td>\n",
       "      <td>9.0000</td>\n",
       "      <td>0</td>\n",
       "      <td>4.2701</td>\n",
       "    </tr>\n",
       "    <tr>\n",
       "      <th>67</th>\n",
       "      <td>0</td>\n",
       "      <td>4000</td>\n",
       "      <td>1000</td>\n",
       "      <td>3999</td>\n",
       "      <td>500</td>\n",
       "      <td>9.0000</td>\n",
       "      <td>0</td>\n",
       "      <td>4.2826</td>\n",
       "    </tr>\n",
       "    <tr>\n",
       "      <th>68</th>\n",
       "      <td>0</td>\n",
       "      <td>4000</td>\n",
       "      <td>1000</td>\n",
       "      <td>3999</td>\n",
       "      <td>500</td>\n",
       "      <td>9.0000</td>\n",
       "      <td>0</td>\n",
       "      <td>4.2732</td>\n",
       "    </tr>\n",
       "    <tr>\n",
       "      <th>69</th>\n",
       "      <td>0</td>\n",
       "      <td>4000</td>\n",
       "      <td>1000</td>\n",
       "      <td>3999</td>\n",
       "      <td>500</td>\n",
       "      <td>9.0000</td>\n",
       "      <td>0</td>\n",
       "      <td>4.2544</td>\n",
       "    </tr>\n",
       "    <tr>\n",
       "      <th>...</th>\n",
       "      <td>...</td>\n",
       "      <td>...</td>\n",
       "      <td>...</td>\n",
       "      <td>...</td>\n",
       "      <td>...</td>\n",
       "      <td>...</td>\n",
       "      <td>...</td>\n",
       "      <td>...</td>\n",
       "    </tr>\n",
       "    <tr>\n",
       "      <th>4924</th>\n",
       "      <td>0</td>\n",
       "      <td>4000</td>\n",
       "      <td>1000</td>\n",
       "      <td>3999</td>\n",
       "      <td>500</td>\n",
       "      <td>4.0388</td>\n",
       "      <td>0</td>\n",
       "      <td>4.2919</td>\n",
       "    </tr>\n",
       "    <tr>\n",
       "      <th>4925</th>\n",
       "      <td>0</td>\n",
       "      <td>4000</td>\n",
       "      <td>1000</td>\n",
       "      <td>3999</td>\n",
       "      <td>500</td>\n",
       "      <td>4.0388</td>\n",
       "      <td>0</td>\n",
       "      <td>4.2919</td>\n",
       "    </tr>\n",
       "    <tr>\n",
       "      <th>4926</th>\n",
       "      <td>0</td>\n",
       "      <td>4000</td>\n",
       "      <td>1000</td>\n",
       "      <td>3999</td>\n",
       "      <td>500</td>\n",
       "      <td>4.0279</td>\n",
       "      <td>0</td>\n",
       "      <td>4.3185</td>\n",
       "    </tr>\n",
       "    <tr>\n",
       "      <th>4927</th>\n",
       "      <td>0</td>\n",
       "      <td>4000</td>\n",
       "      <td>1000</td>\n",
       "      <td>3999</td>\n",
       "      <td>500</td>\n",
       "      <td>4.0279</td>\n",
       "      <td>0</td>\n",
       "      <td>4.3123</td>\n",
       "    </tr>\n",
       "    <tr>\n",
       "      <th>4928</th>\n",
       "      <td>0</td>\n",
       "      <td>4000</td>\n",
       "      <td>1000</td>\n",
       "      <td>3999</td>\n",
       "      <td>500</td>\n",
       "      <td>4.0279</td>\n",
       "      <td>0</td>\n",
       "      <td>4.3076</td>\n",
       "    </tr>\n",
       "  </tbody>\n",
       "</table>\n",
       "<p>4864 rows × 8 columns</p>\n",
       "</div>\n",
       "      <button class=\"colab-df-convert\" onclick=\"convertToInteractive('df-2a0bc3ae-f86c-4527-b1e9-a61737d1a621')\"\n",
       "              title=\"Convert this dataframe to an interactive table.\"\n",
       "              style=\"display:none;\">\n",
       "        \n",
       "  <svg xmlns=\"http://www.w3.org/2000/svg\" height=\"24px\"viewBox=\"0 0 24 24\"\n",
       "       width=\"24px\">\n",
       "    <path d=\"M0 0h24v24H0V0z\" fill=\"none\"/>\n",
       "    <path d=\"M18.56 5.44l.94 2.06.94-2.06 2.06-.94-2.06-.94-.94-2.06-.94 2.06-2.06.94zm-11 1L8.5 8.5l.94-2.06 2.06-.94-2.06-.94L8.5 2.5l-.94 2.06-2.06.94zm10 10l.94 2.06.94-2.06 2.06-.94-2.06-.94-.94-2.06-.94 2.06-2.06.94z\"/><path d=\"M17.41 7.96l-1.37-1.37c-.4-.4-.92-.59-1.43-.59-.52 0-1.04.2-1.43.59L10.3 9.45l-7.72 7.72c-.78.78-.78 2.05 0 2.83L4 21.41c.39.39.9.59 1.41.59.51 0 1.02-.2 1.41-.59l7.78-7.78 2.81-2.81c.8-.78.8-2.07 0-2.86zM5.41 20L4 18.59l7.72-7.72 1.47 1.35L5.41 20z\"/>\n",
       "  </svg>\n",
       "      </button>\n",
       "      \n",
       "  <style>\n",
       "    .colab-df-container {\n",
       "      display:flex;\n",
       "      flex-wrap:wrap;\n",
       "      gap: 12px;\n",
       "    }\n",
       "\n",
       "    .colab-df-convert {\n",
       "      background-color: #E8F0FE;\n",
       "      border: none;\n",
       "      border-radius: 50%;\n",
       "      cursor: pointer;\n",
       "      display: none;\n",
       "      fill: #1967D2;\n",
       "      height: 32px;\n",
       "      padding: 0 0 0 0;\n",
       "      width: 32px;\n",
       "    }\n",
       "\n",
       "    .colab-df-convert:hover {\n",
       "      background-color: #E2EBFA;\n",
       "      box-shadow: 0px 1px 2px rgba(60, 64, 67, 0.3), 0px 1px 3px 1px rgba(60, 64, 67, 0.15);\n",
       "      fill: #174EA6;\n",
       "    }\n",
       "\n",
       "    [theme=dark] .colab-df-convert {\n",
       "      background-color: #3B4455;\n",
       "      fill: #D2E3FC;\n",
       "    }\n",
       "\n",
       "    [theme=dark] .colab-df-convert:hover {\n",
       "      background-color: #434B5C;\n",
       "      box-shadow: 0px 1px 3px 1px rgba(0, 0, 0, 0.15);\n",
       "      filter: drop-shadow(0px 1px 2px rgba(0, 0, 0, 0.3));\n",
       "      fill: #FFFFFF;\n",
       "    }\n",
       "  </style>\n",
       "\n",
       "      <script>\n",
       "        const buttonEl =\n",
       "          document.querySelector('#df-2a0bc3ae-f86c-4527-b1e9-a61737d1a621 button.colab-df-convert');\n",
       "        buttonEl.style.display =\n",
       "          google.colab.kernel.accessAllowed ? 'block' : 'none';\n",
       "\n",
       "        async function convertToInteractive(key) {\n",
       "          const element = document.querySelector('#df-2a0bc3ae-f86c-4527-b1e9-a61737d1a621');\n",
       "          const dataTable =\n",
       "            await google.colab.kernel.invokeFunction('convertToInteractive',\n",
       "                                                     [key], {});\n",
       "          if (!dataTable) return;\n",
       "\n",
       "          const docLinkHtml = 'Like what you see? Visit the ' +\n",
       "            '<a target=\"_blank\" href=https://colab.research.google.com/notebooks/data_table.ipynb>data table notebook</a>'\n",
       "            + ' to learn more about interactive tables.';\n",
       "          element.innerHTML = '';\n",
       "          dataTable['output_type'] = 'display_data';\n",
       "          await google.colab.output.renderOutput(dataTable, element);\n",
       "          const docLink = document.createElement('div');\n",
       "          docLink.innerHTML = docLinkHtml;\n",
       "          element.appendChild(docLink);\n",
       "        }\n",
       "      </script>\n",
       "    </div>\n",
       "  </div>\n",
       "  "
      ],
      "text/plain": [
       "       spindle load   command RPM   command Feedrate   actual RPM  \\\n",
       "65                0          4000               1000         3999   \n",
       "66                0          4000               1000         3999   \n",
       "67                0          4000               1000         3999   \n",
       "68                0          4000               1000         3999   \n",
       "69                0          4000               1000         3999   \n",
       "...             ...           ...                ...          ...   \n",
       "4924              0          4000               1000         3999   \n",
       "4925              0          4000               1000         3999   \n",
       "4926              0          4000               1000         3999   \n",
       "4927              0          4000               1000         3999   \n",
       "4928              0          4000               1000         3999   \n",
       "\n",
       "       actual Feedrate   Ref_lower   AdaptiveOn      C1  \n",
       "65                 684      9.0000            0  4.2748  \n",
       "66                 684      9.0000            0  4.2701  \n",
       "67                 500      9.0000            0  4.2826  \n",
       "68                 500      9.0000            0  4.2732  \n",
       "69                 500      9.0000            0  4.2544  \n",
       "...                ...         ...          ...     ...  \n",
       "4924               500      4.0388            0  4.2919  \n",
       "4925               500      4.0388            0  4.2919  \n",
       "4926               500      4.0279            0  4.3185  \n",
       "4927               500      4.0279            0  4.3123  \n",
       "4928               500      4.0279            0  4.3076  \n",
       "\n",
       "[4864 rows x 8 columns]"
      ]
     },
     "execution_count": 66,
     "metadata": {},
     "output_type": "execute_result"
    }
   ],
   "source": [
    "f50_2_2_1_C1"
   ]
  },
  {
   "cell_type": "code",
   "execution_count": null,
   "id": "9n2XfvkRdEpu",
   "metadata": {
    "colab": {
     "base_uri": "https://localhost:8080/"
    },
    "id": "9n2XfvkRdEpu",
    "outputId": "f0acd14b-be0f-4b32-857c-7fb798db183e"
   },
   "outputs": [
    {
     "data": {
      "text/plain": [
       "Index([' spindle load', ' command RPM', ' command Feedrate', ' actual RPM',\n",
       "       ' actual Feedrate', ' Ref_lower', ' AdaptiveOn', ' C1'],\n",
       "      dtype='object')"
      ]
     },
     "execution_count": 130,
     "metadata": {},
     "output_type": "execute_result"
    }
   ],
   "source": [
    "f50_2_2.columns"
   ]
  },
  {
   "cell_type": "code",
   "execution_count": null,
   "id": "ygCUOgiTdTGu",
   "metadata": {
    "id": "ygCUOgiTdTGu"
   },
   "outputs": [],
   "source": [
    "a=[' spindle load', ' command RPM', ' command Feedrate', ' actual RPM',\n",
    "       ' actual Feedrate', ' Ref_lower', ' AdaptiveOn']"
   ]
  },
  {
   "cell_type": "code",
   "execution_count": null,
   "id": "2mmf2JS3d02l",
   "metadata": {
    "id": "2mmf2JS3d02l"
   },
   "outputs": [],
   "source": [
    "scaler = MinMaxScaler()"
   ]
  },
  {
   "cell_type": "code",
   "execution_count": null,
   "id": "FjtK_gdudnL5",
   "metadata": {
    "colab": {
     "base_uri": "https://localhost:8080/",
     "height": 423
    },
    "id": "FjtK_gdudnL5",
    "outputId": "920e2b0c-384b-4b9f-ea12-d16dcaa88d0d"
   },
   "outputs": [
    {
     "data": {
      "text/html": [
       "\n",
       "  <div id=\"df-9ef7a2ec-9c73-4ef6-9474-6a1bf0db1298\">\n",
       "    <div class=\"colab-df-container\">\n",
       "      <div>\n",
       "<style scoped>\n",
       "    .dataframe tbody tr th:only-of-type {\n",
       "        vertical-align: middle;\n",
       "    }\n",
       "\n",
       "    .dataframe tbody tr th {\n",
       "        vertical-align: top;\n",
       "    }\n",
       "\n",
       "    .dataframe thead th {\n",
       "        text-align: right;\n",
       "    }\n",
       "</style>\n",
       "<table border=\"1\" class=\"dataframe\">\n",
       "  <thead>\n",
       "    <tr style=\"text-align: right;\">\n",
       "      <th></th>\n",
       "      <th>spindle load</th>\n",
       "      <th>command RPM</th>\n",
       "      <th>command Feedrate</th>\n",
       "      <th>actual RPM</th>\n",
       "      <th>actual Feedrate</th>\n",
       "      <th>Ref_lower</th>\n",
       "      <th>AdaptiveOn</th>\n",
       "    </tr>\n",
       "  </thead>\n",
       "  <tbody>\n",
       "    <tr>\n",
       "      <th>65</th>\n",
       "      <td>0</td>\n",
       "      <td>4000</td>\n",
       "      <td>1000</td>\n",
       "      <td>3999</td>\n",
       "      <td>684</td>\n",
       "      <td>9.0000</td>\n",
       "      <td>0</td>\n",
       "    </tr>\n",
       "    <tr>\n",
       "      <th>66</th>\n",
       "      <td>0</td>\n",
       "      <td>4000</td>\n",
       "      <td>1000</td>\n",
       "      <td>3999</td>\n",
       "      <td>684</td>\n",
       "      <td>9.0000</td>\n",
       "      <td>0</td>\n",
       "    </tr>\n",
       "    <tr>\n",
       "      <th>67</th>\n",
       "      <td>0</td>\n",
       "      <td>4000</td>\n",
       "      <td>1000</td>\n",
       "      <td>3999</td>\n",
       "      <td>500</td>\n",
       "      <td>9.0000</td>\n",
       "      <td>0</td>\n",
       "    </tr>\n",
       "    <tr>\n",
       "      <th>68</th>\n",
       "      <td>0</td>\n",
       "      <td>4000</td>\n",
       "      <td>1000</td>\n",
       "      <td>3999</td>\n",
       "      <td>500</td>\n",
       "      <td>9.0000</td>\n",
       "      <td>0</td>\n",
       "    </tr>\n",
       "    <tr>\n",
       "      <th>69</th>\n",
       "      <td>0</td>\n",
       "      <td>4000</td>\n",
       "      <td>1000</td>\n",
       "      <td>3999</td>\n",
       "      <td>500</td>\n",
       "      <td>9.0000</td>\n",
       "      <td>0</td>\n",
       "    </tr>\n",
       "    <tr>\n",
       "      <th>...</th>\n",
       "      <td>...</td>\n",
       "      <td>...</td>\n",
       "      <td>...</td>\n",
       "      <td>...</td>\n",
       "      <td>...</td>\n",
       "      <td>...</td>\n",
       "      <td>...</td>\n",
       "    </tr>\n",
       "    <tr>\n",
       "      <th>4924</th>\n",
       "      <td>0</td>\n",
       "      <td>4000</td>\n",
       "      <td>1000</td>\n",
       "      <td>3999</td>\n",
       "      <td>500</td>\n",
       "      <td>4.0388</td>\n",
       "      <td>0</td>\n",
       "    </tr>\n",
       "    <tr>\n",
       "      <th>4925</th>\n",
       "      <td>0</td>\n",
       "      <td>4000</td>\n",
       "      <td>1000</td>\n",
       "      <td>3999</td>\n",
       "      <td>500</td>\n",
       "      <td>4.0388</td>\n",
       "      <td>0</td>\n",
       "    </tr>\n",
       "    <tr>\n",
       "      <th>4926</th>\n",
       "      <td>0</td>\n",
       "      <td>4000</td>\n",
       "      <td>1000</td>\n",
       "      <td>3999</td>\n",
       "      <td>500</td>\n",
       "      <td>4.0279</td>\n",
       "      <td>0</td>\n",
       "    </tr>\n",
       "    <tr>\n",
       "      <th>4927</th>\n",
       "      <td>0</td>\n",
       "      <td>4000</td>\n",
       "      <td>1000</td>\n",
       "      <td>3999</td>\n",
       "      <td>500</td>\n",
       "      <td>4.0279</td>\n",
       "      <td>0</td>\n",
       "    </tr>\n",
       "    <tr>\n",
       "      <th>4928</th>\n",
       "      <td>0</td>\n",
       "      <td>4000</td>\n",
       "      <td>1000</td>\n",
       "      <td>3999</td>\n",
       "      <td>500</td>\n",
       "      <td>4.0279</td>\n",
       "      <td>0</td>\n",
       "    </tr>\n",
       "  </tbody>\n",
       "</table>\n",
       "<p>4864 rows × 7 columns</p>\n",
       "</div>\n",
       "      <button class=\"colab-df-convert\" onclick=\"convertToInteractive('df-9ef7a2ec-9c73-4ef6-9474-6a1bf0db1298')\"\n",
       "              title=\"Convert this dataframe to an interactive table.\"\n",
       "              style=\"display:none;\">\n",
       "        \n",
       "  <svg xmlns=\"http://www.w3.org/2000/svg\" height=\"24px\"viewBox=\"0 0 24 24\"\n",
       "       width=\"24px\">\n",
       "    <path d=\"M0 0h24v24H0V0z\" fill=\"none\"/>\n",
       "    <path d=\"M18.56 5.44l.94 2.06.94-2.06 2.06-.94-2.06-.94-.94-2.06-.94 2.06-2.06.94zm-11 1L8.5 8.5l.94-2.06 2.06-.94-2.06-.94L8.5 2.5l-.94 2.06-2.06.94zm10 10l.94 2.06.94-2.06 2.06-.94-2.06-.94-.94-2.06-.94 2.06-2.06.94z\"/><path d=\"M17.41 7.96l-1.37-1.37c-.4-.4-.92-.59-1.43-.59-.52 0-1.04.2-1.43.59L10.3 9.45l-7.72 7.72c-.78.78-.78 2.05 0 2.83L4 21.41c.39.39.9.59 1.41.59.51 0 1.02-.2 1.41-.59l7.78-7.78 2.81-2.81c.8-.78.8-2.07 0-2.86zM5.41 20L4 18.59l7.72-7.72 1.47 1.35L5.41 20z\"/>\n",
       "  </svg>\n",
       "      </button>\n",
       "      \n",
       "  <style>\n",
       "    .colab-df-container {\n",
       "      display:flex;\n",
       "      flex-wrap:wrap;\n",
       "      gap: 12px;\n",
       "    }\n",
       "\n",
       "    .colab-df-convert {\n",
       "      background-color: #E8F0FE;\n",
       "      border: none;\n",
       "      border-radius: 50%;\n",
       "      cursor: pointer;\n",
       "      display: none;\n",
       "      fill: #1967D2;\n",
       "      height: 32px;\n",
       "      padding: 0 0 0 0;\n",
       "      width: 32px;\n",
       "    }\n",
       "\n",
       "    .colab-df-convert:hover {\n",
       "      background-color: #E2EBFA;\n",
       "      box-shadow: 0px 1px 2px rgba(60, 64, 67, 0.3), 0px 1px 3px 1px rgba(60, 64, 67, 0.15);\n",
       "      fill: #174EA6;\n",
       "    }\n",
       "\n",
       "    [theme=dark] .colab-df-convert {\n",
       "      background-color: #3B4455;\n",
       "      fill: #D2E3FC;\n",
       "    }\n",
       "\n",
       "    [theme=dark] .colab-df-convert:hover {\n",
       "      background-color: #434B5C;\n",
       "      box-shadow: 0px 1px 3px 1px rgba(0, 0, 0, 0.15);\n",
       "      filter: drop-shadow(0px 1px 2px rgba(0, 0, 0, 0.3));\n",
       "      fill: #FFFFFF;\n",
       "    }\n",
       "  </style>\n",
       "\n",
       "      <script>\n",
       "        const buttonEl =\n",
       "          document.querySelector('#df-9ef7a2ec-9c73-4ef6-9474-6a1bf0db1298 button.colab-df-convert');\n",
       "        buttonEl.style.display =\n",
       "          google.colab.kernel.accessAllowed ? 'block' : 'none';\n",
       "\n",
       "        async function convertToInteractive(key) {\n",
       "          const element = document.querySelector('#df-9ef7a2ec-9c73-4ef6-9474-6a1bf0db1298');\n",
       "          const dataTable =\n",
       "            await google.colab.kernel.invokeFunction('convertToInteractive',\n",
       "                                                     [key], {});\n",
       "          if (!dataTable) return;\n",
       "\n",
       "          const docLinkHtml = 'Like what you see? Visit the ' +\n",
       "            '<a target=\"_blank\" href=https://colab.research.google.com/notebooks/data_table.ipynb>data table notebook</a>'\n",
       "            + ' to learn more about interactive tables.';\n",
       "          element.innerHTML = '';\n",
       "          dataTable['output_type'] = 'display_data';\n",
       "          await google.colab.output.renderOutput(dataTable, element);\n",
       "          const docLink = document.createElement('div');\n",
       "          docLink.innerHTML = docLinkHtml;\n",
       "          element.appendChild(docLink);\n",
       "        }\n",
       "      </script>\n",
       "    </div>\n",
       "  </div>\n",
       "  "
      ],
      "text/plain": [
       "       spindle load   command RPM   command Feedrate   actual RPM  \\\n",
       "65                0          4000               1000         3999   \n",
       "66                0          4000               1000         3999   \n",
       "67                0          4000               1000         3999   \n",
       "68                0          4000               1000         3999   \n",
       "69                0          4000               1000         3999   \n",
       "...             ...           ...                ...          ...   \n",
       "4924              0          4000               1000         3999   \n",
       "4925              0          4000               1000         3999   \n",
       "4926              0          4000               1000         3999   \n",
       "4927              0          4000               1000         3999   \n",
       "4928              0          4000               1000         3999   \n",
       "\n",
       "       actual Feedrate   Ref_lower   AdaptiveOn  \n",
       "65                 684      9.0000            0  \n",
       "66                 684      9.0000            0  \n",
       "67                 500      9.0000            0  \n",
       "68                 500      9.0000            0  \n",
       "69                 500      9.0000            0  \n",
       "...                ...         ...          ...  \n",
       "4924               500      4.0388            0  \n",
       "4925               500      4.0388            0  \n",
       "4926               500      4.0279            0  \n",
       "4927               500      4.0279            0  \n",
       "4928               500      4.0279            0  \n",
       "\n",
       "[4864 rows x 7 columns]"
      ]
     },
     "execution_count": 139,
     "metadata": {},
     "output_type": "execute_result"
    }
   ],
   "source": [
    "f50_2_2[a]"
   ]
  },
  {
   "cell_type": "code",
   "execution_count": null,
   "id": "VUtkTKFtc1HX",
   "metadata": {
    "colab": {
     "base_uri": "https://localhost:8080/",
     "height": 248
    },
    "id": "VUtkTKFtc1HX",
    "outputId": "536c6a00-ac84-4686-b526-99887f62615a"
   },
   "outputs": [
    {
     "name": "stderr",
     "output_type": "stream",
     "text": [
      "<ipython-input-146-2cbf0dd7d830>:1: FutureWarning:\n",
      "\n",
      "Using a non-tuple sequence for multidimensional indexing is deprecated; use `arr[tuple(seq)]` instead of `arr[seq]`. In the future this will be interpreted as an array index, `arr[np.array(seq)]`, which will result either in an error or a different result.\n",
      "\n"
     ]
    },
    {
     "ename": "IndexError",
     "evalue": "ignored",
     "output_type": "error",
     "traceback": [
      "\u001b[0;31m---------------------------------------------------------------------------\u001b[0m",
      "\u001b[0;31mIndexError\u001b[0m                                Traceback (most recent call last)",
      "\u001b[0;32m<ipython-input-146-2cbf0dd7d830>\u001b[0m in \u001b[0;36m<module>\u001b[0;34m\u001b[0m\n\u001b[0;32m----> 1\u001b[0;31m \u001b[0mf50_2_2\u001b[0m \u001b[0;34m=\u001b[0m \u001b[0mscaler\u001b[0m\u001b[0;34m.\u001b[0m\u001b[0mfit_transform\u001b[0m\u001b[0;34m(\u001b[0m\u001b[0mf50_2_2\u001b[0m\u001b[0;34m(\u001b[0m\u001b[0mf50_2_2\u001b[0m\u001b[0;34m[\u001b[0m\u001b[0ma\u001b[0m\u001b[0;34m]\u001b[0m\u001b[0;34m)\u001b[0m\u001b[0;34m)\u001b[0m\u001b[0;34m\u001b[0m\u001b[0;34m\u001b[0m\u001b[0m\n\u001b[0m",
      "\u001b[0;31mIndexError\u001b[0m: only integers, slices (`:`), ellipsis (`...`), numpy.newaxis (`None`) and integer or boolean arrays are valid indices"
     ]
    }
   ],
   "source": [
    "f50_2_2 = scaler.fit_transform(f50_2_2(f50_2_2[a]))\n"
   ]
  },
  {
   "cell_type": "code",
   "execution_count": null,
   "id": "4iom_YyyeArM",
   "metadata": {
    "colab": {
     "base_uri": "https://localhost:8080/"
    },
    "id": "4iom_YyyeArM",
    "outputId": "66aaa0de-d5df-4f4b-94ad-ad9b89404166"
   },
   "outputs": [
    {
     "data": {
      "text/plain": [
       "array([[0.        , 0.        , 0.        , ..., 1.        , 1.        ,\n",
       "        0.        ],\n",
       "       [0.        , 0.        , 0.        , ..., 1.        , 1.        ,\n",
       "        0.        ],\n",
       "       [0.        , 0.        , 0.        , ..., 0.62217659, 1.        ,\n",
       "        0.        ],\n",
       "       ...,\n",
       "       [0.        , 0.        , 0.        , ..., 0.62217659, 0.0242366 ,\n",
       "        0.        ],\n",
       "       [0.        , 0.        , 0.        , ..., 0.62217659, 0.0242366 ,\n",
       "        0.        ],\n",
       "       [0.        , 0.        , 0.        , ..., 0.62217659, 0.0242366 ,\n",
       "        0.        ]])"
      ]
     },
     "execution_count": 144,
     "metadata": {},
     "output_type": "execute_result"
    }
   ],
   "source": []
  },
  {
   "cell_type": "code",
   "execution_count": null,
   "id": "c4208f26",
   "metadata": {
    "id": "c4208f26"
   },
   "outputs": [],
   "source": [
    "# 피쳐 이름 추출\n",
    "c1_name= f50_2_2_1_C1.columns\n",
    "c2_name= f50_2_2_1_C2.columns\n",
    "c3_name= f50_2_2_1_C3.columns\n",
    "c4_name= f50_2_2_1_C4.columns\n",
    "name = [c1_name,c2_name,c3_name,c4_name]"
   ]
  },
  {
   "cell_type": "code",
   "execution_count": null,
   "id": "1a3516b6",
   "metadata": {
    "id": "1a3516b6"
   },
   "outputs": [],
   "source": [
    "\n",
    "\n",
    "# 피쳐 이름 추출\n",
    "c1_name= f50_2_2_1_C1.columns\n",
    "c2_name= f50_2_2_1_C2.columns\n",
    "c3_name= f50_2_2_1_C3.columns\n",
    "c4_name= f50_2_2_1_C4.columns\n",
    "name = [c1_name,c2_name,c3_name,c4_name]\n",
    "\n",
    "# 정규화(MIN_MAX)\n",
    "\n",
    "scaler = MinMaxScaler()\n",
    "for i in range(len(f50_2_2_1_to)):\n",
    "    \n",
    "    scaler.fit(f50_2_2_1_to[i])\n",
    "    \n",
    "    f50_2_2_1_to[i] = scaler.transform(f50_2_2_1_to[i])\n",
    "    f50_2_2_1_to[i] = pd.DataFrame(data=f50_2_2_1_to[i], columns=name[i])"
   ]
  },
  {
   "cell_type": "code",
   "execution_count": null,
   "id": "79698f81",
   "metadata": {
    "colab": {
     "base_uri": "https://localhost:8080/",
     "height": 423
    },
    "id": "79698f81",
    "outputId": "874aeca0-eb45-498e-adee-013a9ca9f90b"
   },
   "outputs": [
    {
     "data": {
      "text/html": [
       "\n",
       "  <div id=\"df-98d2637f-85b5-4acd-bddd-725d999fd1a8\">\n",
       "    <div class=\"colab-df-container\">\n",
       "      <div>\n",
       "<style scoped>\n",
       "    .dataframe tbody tr th:only-of-type {\n",
       "        vertical-align: middle;\n",
       "    }\n",
       "\n",
       "    .dataframe tbody tr th {\n",
       "        vertical-align: top;\n",
       "    }\n",
       "\n",
       "    .dataframe thead th {\n",
       "        text-align: right;\n",
       "    }\n",
       "</style>\n",
       "<table border=\"1\" class=\"dataframe\">\n",
       "  <thead>\n",
       "    <tr style=\"text-align: right;\">\n",
       "      <th></th>\n",
       "      <th>spindle load</th>\n",
       "      <th>command RPM</th>\n",
       "      <th>command Feedrate</th>\n",
       "      <th>actual RPM</th>\n",
       "      <th>actual Feedrate</th>\n",
       "      <th>Ref_lower</th>\n",
       "      <th>AdaptiveOn</th>\n",
       "      <th>C1</th>\n",
       "    </tr>\n",
       "  </thead>\n",
       "  <tbody>\n",
       "    <tr>\n",
       "      <th>0</th>\n",
       "      <td>0.0</td>\n",
       "      <td>0.0</td>\n",
       "      <td>0.0</td>\n",
       "      <td>0.0</td>\n",
       "      <td>1.000000</td>\n",
       "      <td>1.000000</td>\n",
       "      <td>0.0</td>\n",
       "      <td>0.033555</td>\n",
       "    </tr>\n",
       "    <tr>\n",
       "      <th>1</th>\n",
       "      <td>0.0</td>\n",
       "      <td>0.0</td>\n",
       "      <td>0.0</td>\n",
       "      <td>0.0</td>\n",
       "      <td>1.000000</td>\n",
       "      <td>1.000000</td>\n",
       "      <td>0.0</td>\n",
       "      <td>0.031817</td>\n",
       "    </tr>\n",
       "    <tr>\n",
       "      <th>2</th>\n",
       "      <td>0.0</td>\n",
       "      <td>0.0</td>\n",
       "      <td>0.0</td>\n",
       "      <td>0.0</td>\n",
       "      <td>0.622177</td>\n",
       "      <td>1.000000</td>\n",
       "      <td>0.0</td>\n",
       "      <td>0.036441</td>\n",
       "    </tr>\n",
       "    <tr>\n",
       "      <th>3</th>\n",
       "      <td>0.0</td>\n",
       "      <td>0.0</td>\n",
       "      <td>0.0</td>\n",
       "      <td>0.0</td>\n",
       "      <td>0.622177</td>\n",
       "      <td>1.000000</td>\n",
       "      <td>0.0</td>\n",
       "      <td>0.032963</td>\n",
       "    </tr>\n",
       "    <tr>\n",
       "      <th>4</th>\n",
       "      <td>0.0</td>\n",
       "      <td>0.0</td>\n",
       "      <td>0.0</td>\n",
       "      <td>0.0</td>\n",
       "      <td>0.622177</td>\n",
       "      <td>1.000000</td>\n",
       "      <td>0.0</td>\n",
       "      <td>0.026008</td>\n",
       "    </tr>\n",
       "    <tr>\n",
       "      <th>...</th>\n",
       "      <td>...</td>\n",
       "      <td>...</td>\n",
       "      <td>...</td>\n",
       "      <td>...</td>\n",
       "      <td>...</td>\n",
       "      <td>...</td>\n",
       "      <td>...</td>\n",
       "      <td>...</td>\n",
       "    </tr>\n",
       "    <tr>\n",
       "      <th>4859</th>\n",
       "      <td>0.0</td>\n",
       "      <td>0.0</td>\n",
       "      <td>0.0</td>\n",
       "      <td>0.0</td>\n",
       "      <td>0.622177</td>\n",
       "      <td>0.026376</td>\n",
       "      <td>0.0</td>\n",
       "      <td>0.039882</td>\n",
       "    </tr>\n",
       "    <tr>\n",
       "      <th>4860</th>\n",
       "      <td>0.0</td>\n",
       "      <td>0.0</td>\n",
       "      <td>0.0</td>\n",
       "      <td>0.0</td>\n",
       "      <td>0.622177</td>\n",
       "      <td>0.026376</td>\n",
       "      <td>0.0</td>\n",
       "      <td>0.039882</td>\n",
       "    </tr>\n",
       "    <tr>\n",
       "      <th>4861</th>\n",
       "      <td>0.0</td>\n",
       "      <td>0.0</td>\n",
       "      <td>0.0</td>\n",
       "      <td>0.0</td>\n",
       "      <td>0.622177</td>\n",
       "      <td>0.024237</td>\n",
       "      <td>0.0</td>\n",
       "      <td>0.049723</td>\n",
       "    </tr>\n",
       "    <tr>\n",
       "      <th>4862</th>\n",
       "      <td>0.0</td>\n",
       "      <td>0.0</td>\n",
       "      <td>0.0</td>\n",
       "      <td>0.0</td>\n",
       "      <td>0.622177</td>\n",
       "      <td>0.024237</td>\n",
       "      <td>0.0</td>\n",
       "      <td>0.047429</td>\n",
       "    </tr>\n",
       "    <tr>\n",
       "      <th>4863</th>\n",
       "      <td>0.0</td>\n",
       "      <td>0.0</td>\n",
       "      <td>0.0</td>\n",
       "      <td>0.0</td>\n",
       "      <td>0.622177</td>\n",
       "      <td>0.024237</td>\n",
       "      <td>0.0</td>\n",
       "      <td>0.045690</td>\n",
       "    </tr>\n",
       "  </tbody>\n",
       "</table>\n",
       "<p>4864 rows × 8 columns</p>\n",
       "</div>\n",
       "      <button class=\"colab-df-convert\" onclick=\"convertToInteractive('df-98d2637f-85b5-4acd-bddd-725d999fd1a8')\"\n",
       "              title=\"Convert this dataframe to an interactive table.\"\n",
       "              style=\"display:none;\">\n",
       "        \n",
       "  <svg xmlns=\"http://www.w3.org/2000/svg\" height=\"24px\"viewBox=\"0 0 24 24\"\n",
       "       width=\"24px\">\n",
       "    <path d=\"M0 0h24v24H0V0z\" fill=\"none\"/>\n",
       "    <path d=\"M18.56 5.44l.94 2.06.94-2.06 2.06-.94-2.06-.94-.94-2.06-.94 2.06-2.06.94zm-11 1L8.5 8.5l.94-2.06 2.06-.94-2.06-.94L8.5 2.5l-.94 2.06-2.06.94zm10 10l.94 2.06.94-2.06 2.06-.94-2.06-.94-.94-2.06-.94 2.06-2.06.94z\"/><path d=\"M17.41 7.96l-1.37-1.37c-.4-.4-.92-.59-1.43-.59-.52 0-1.04.2-1.43.59L10.3 9.45l-7.72 7.72c-.78.78-.78 2.05 0 2.83L4 21.41c.39.39.9.59 1.41.59.51 0 1.02-.2 1.41-.59l7.78-7.78 2.81-2.81c.8-.78.8-2.07 0-2.86zM5.41 20L4 18.59l7.72-7.72 1.47 1.35L5.41 20z\"/>\n",
       "  </svg>\n",
       "      </button>\n",
       "      \n",
       "  <style>\n",
       "    .colab-df-container {\n",
       "      display:flex;\n",
       "      flex-wrap:wrap;\n",
       "      gap: 12px;\n",
       "    }\n",
       "\n",
       "    .colab-df-convert {\n",
       "      background-color: #E8F0FE;\n",
       "      border: none;\n",
       "      border-radius: 50%;\n",
       "      cursor: pointer;\n",
       "      display: none;\n",
       "      fill: #1967D2;\n",
       "      height: 32px;\n",
       "      padding: 0 0 0 0;\n",
       "      width: 32px;\n",
       "    }\n",
       "\n",
       "    .colab-df-convert:hover {\n",
       "      background-color: #E2EBFA;\n",
       "      box-shadow: 0px 1px 2px rgba(60, 64, 67, 0.3), 0px 1px 3px 1px rgba(60, 64, 67, 0.15);\n",
       "      fill: #174EA6;\n",
       "    }\n",
       "\n",
       "    [theme=dark] .colab-df-convert {\n",
       "      background-color: #3B4455;\n",
       "      fill: #D2E3FC;\n",
       "    }\n",
       "\n",
       "    [theme=dark] .colab-df-convert:hover {\n",
       "      background-color: #434B5C;\n",
       "      box-shadow: 0px 1px 3px 1px rgba(0, 0, 0, 0.15);\n",
       "      filter: drop-shadow(0px 1px 2px rgba(0, 0, 0, 0.3));\n",
       "      fill: #FFFFFF;\n",
       "    }\n",
       "  </style>\n",
       "\n",
       "      <script>\n",
       "        const buttonEl =\n",
       "          document.querySelector('#df-98d2637f-85b5-4acd-bddd-725d999fd1a8 button.colab-df-convert');\n",
       "        buttonEl.style.display =\n",
       "          google.colab.kernel.accessAllowed ? 'block' : 'none';\n",
       "\n",
       "        async function convertToInteractive(key) {\n",
       "          const element = document.querySelector('#df-98d2637f-85b5-4acd-bddd-725d999fd1a8');\n",
       "          const dataTable =\n",
       "            await google.colab.kernel.invokeFunction('convertToInteractive',\n",
       "                                                     [key], {});\n",
       "          if (!dataTable) return;\n",
       "\n",
       "          const docLinkHtml = 'Like what you see? Visit the ' +\n",
       "            '<a target=\"_blank\" href=https://colab.research.google.com/notebooks/data_table.ipynb>data table notebook</a>'\n",
       "            + ' to learn more about interactive tables.';\n",
       "          element.innerHTML = '';\n",
       "          dataTable['output_type'] = 'display_data';\n",
       "          await google.colab.output.renderOutput(dataTable, element);\n",
       "          const docLink = document.createElement('div');\n",
       "          docLink.innerHTML = docLinkHtml;\n",
       "          element.appendChild(docLink);\n",
       "        }\n",
       "      </script>\n",
       "    </div>\n",
       "  </div>\n",
       "  "
      ],
      "text/plain": [
       "       spindle load   command RPM   command Feedrate   actual RPM  \\\n",
       "0               0.0           0.0                0.0          0.0   \n",
       "1               0.0           0.0                0.0          0.0   \n",
       "2               0.0           0.0                0.0          0.0   \n",
       "3               0.0           0.0                0.0          0.0   \n",
       "4               0.0           0.0                0.0          0.0   \n",
       "...             ...           ...                ...          ...   \n",
       "4859            0.0           0.0                0.0          0.0   \n",
       "4860            0.0           0.0                0.0          0.0   \n",
       "4861            0.0           0.0                0.0          0.0   \n",
       "4862            0.0           0.0                0.0          0.0   \n",
       "4863            0.0           0.0                0.0          0.0   \n",
       "\n",
       "       actual Feedrate   Ref_lower   AdaptiveOn        C1  \n",
       "0             1.000000    1.000000          0.0  0.033555  \n",
       "1             1.000000    1.000000          0.0  0.031817  \n",
       "2             0.622177    1.000000          0.0  0.036441  \n",
       "3             0.622177    1.000000          0.0  0.032963  \n",
       "4             0.622177    1.000000          0.0  0.026008  \n",
       "...                ...         ...          ...       ...  \n",
       "4859          0.622177    0.026376          0.0  0.039882  \n",
       "4860          0.622177    0.026376          0.0  0.039882  \n",
       "4861          0.622177    0.024237          0.0  0.049723  \n",
       "4862          0.622177    0.024237          0.0  0.047429  \n",
       "4863          0.622177    0.024237          0.0  0.045690  \n",
       "\n",
       "[4864 rows x 8 columns]"
      ]
     },
     "execution_count": 50,
     "metadata": {},
     "output_type": "execute_result"
    }
   ],
   "source": [
    "f50_2_2_1_to[0]"
   ]
  },
  {
   "cell_type": "markdown",
   "id": "c068a0b8",
   "metadata": {
    "id": "c068a0b8"
   },
   "source": [
    "## 학습전 전처리 (피쳐 스케일링, 타켓변수 로그변환)"
   ]
  },
  {
   "cell_type": "markdown",
   "id": "ce196468",
   "metadata": {
    "id": "ce196468"
   },
   "source": [
    "* 피쳐 스케일링 (min_max, standardscaler 둘다 사용해서 모델에 학습 해볼거임)"
   ]
  },
  {
   "cell_type": "code",
   "execution_count": null,
   "id": "_M54VKvOeuUk",
   "metadata": {
    "id": "_M54VKvOeuUk"
   },
   "outputs": [],
   "source": [
    "from sklearn.preprocessing import StandardScaler"
   ]
  },
  {
   "cell_type": "code",
   "execution_count": null,
   "id": "c011f2d9",
   "metadata": {
    "colab": {
     "base_uri": "https://localhost:8080/",
     "height": 424
    },
    "id": "c011f2d9",
    "outputId": "42ffdc66-0911-4d67-af15-e0bdae4f278b"
   },
   "outputs": [
    {
     "data": {
      "text/html": [
       "\n",
       "  <div id=\"df-44f10acc-be4e-4e77-a253-5271cb9ac1de\">\n",
       "    <div class=\"colab-df-container\">\n",
       "      <div>\n",
       "<style scoped>\n",
       "    .dataframe tbody tr th:only-of-type {\n",
       "        vertical-align: middle;\n",
       "    }\n",
       "\n",
       "    .dataframe tbody tr th {\n",
       "        vertical-align: top;\n",
       "    }\n",
       "\n",
       "    .dataframe thead th {\n",
       "        text-align: right;\n",
       "    }\n",
       "</style>\n",
       "<table border=\"1\" class=\"dataframe\">\n",
       "  <thead>\n",
       "    <tr style=\"text-align: right;\">\n",
       "      <th></th>\n",
       "      <th>spindle load</th>\n",
       "      <th>command RPM</th>\n",
       "      <th>command Feedrate</th>\n",
       "      <th>actual RPM</th>\n",
       "      <th>actual Feedrate</th>\n",
       "      <th>Ref_lower</th>\n",
       "      <th>AdaptiveOn</th>\n",
       "      <th>C1</th>\n",
       "    </tr>\n",
       "  </thead>\n",
       "  <tbody>\n",
       "    <tr>\n",
       "      <th>0</th>\n",
       "      <td>0.0</td>\n",
       "      <td>0.0</td>\n",
       "      <td>0.0</td>\n",
       "      <td>0.0</td>\n",
       "      <td>1.000000</td>\n",
       "      <td>1.000000</td>\n",
       "      <td>0.0</td>\n",
       "      <td>0.033555</td>\n",
       "    </tr>\n",
       "    <tr>\n",
       "      <th>1</th>\n",
       "      <td>0.0</td>\n",
       "      <td>0.0</td>\n",
       "      <td>0.0</td>\n",
       "      <td>0.0</td>\n",
       "      <td>1.000000</td>\n",
       "      <td>1.000000</td>\n",
       "      <td>0.0</td>\n",
       "      <td>0.031817</td>\n",
       "    </tr>\n",
       "    <tr>\n",
       "      <th>2</th>\n",
       "      <td>0.0</td>\n",
       "      <td>0.0</td>\n",
       "      <td>0.0</td>\n",
       "      <td>0.0</td>\n",
       "      <td>0.622177</td>\n",
       "      <td>1.000000</td>\n",
       "      <td>0.0</td>\n",
       "      <td>0.036441</td>\n",
       "    </tr>\n",
       "    <tr>\n",
       "      <th>3</th>\n",
       "      <td>0.0</td>\n",
       "      <td>0.0</td>\n",
       "      <td>0.0</td>\n",
       "      <td>0.0</td>\n",
       "      <td>0.622177</td>\n",
       "      <td>1.000000</td>\n",
       "      <td>0.0</td>\n",
       "      <td>0.032963</td>\n",
       "    </tr>\n",
       "    <tr>\n",
       "      <th>4</th>\n",
       "      <td>0.0</td>\n",
       "      <td>0.0</td>\n",
       "      <td>0.0</td>\n",
       "      <td>0.0</td>\n",
       "      <td>0.622177</td>\n",
       "      <td>1.000000</td>\n",
       "      <td>0.0</td>\n",
       "      <td>0.026008</td>\n",
       "    </tr>\n",
       "    <tr>\n",
       "      <th>...</th>\n",
       "      <td>...</td>\n",
       "      <td>...</td>\n",
       "      <td>...</td>\n",
       "      <td>...</td>\n",
       "      <td>...</td>\n",
       "      <td>...</td>\n",
       "      <td>...</td>\n",
       "      <td>...</td>\n",
       "    </tr>\n",
       "    <tr>\n",
       "      <th>4859</th>\n",
       "      <td>0.0</td>\n",
       "      <td>0.0</td>\n",
       "      <td>0.0</td>\n",
       "      <td>0.0</td>\n",
       "      <td>0.622177</td>\n",
       "      <td>0.026376</td>\n",
       "      <td>0.0</td>\n",
       "      <td>0.039882</td>\n",
       "    </tr>\n",
       "    <tr>\n",
       "      <th>4860</th>\n",
       "      <td>0.0</td>\n",
       "      <td>0.0</td>\n",
       "      <td>0.0</td>\n",
       "      <td>0.0</td>\n",
       "      <td>0.622177</td>\n",
       "      <td>0.026376</td>\n",
       "      <td>0.0</td>\n",
       "      <td>0.039882</td>\n",
       "    </tr>\n",
       "    <tr>\n",
       "      <th>4861</th>\n",
       "      <td>0.0</td>\n",
       "      <td>0.0</td>\n",
       "      <td>0.0</td>\n",
       "      <td>0.0</td>\n",
       "      <td>0.622177</td>\n",
       "      <td>0.024237</td>\n",
       "      <td>0.0</td>\n",
       "      <td>0.049723</td>\n",
       "    </tr>\n",
       "    <tr>\n",
       "      <th>4862</th>\n",
       "      <td>0.0</td>\n",
       "      <td>0.0</td>\n",
       "      <td>0.0</td>\n",
       "      <td>0.0</td>\n",
       "      <td>0.622177</td>\n",
       "      <td>0.024237</td>\n",
       "      <td>0.0</td>\n",
       "      <td>0.047429</td>\n",
       "    </tr>\n",
       "    <tr>\n",
       "      <th>4863</th>\n",
       "      <td>0.0</td>\n",
       "      <td>0.0</td>\n",
       "      <td>0.0</td>\n",
       "      <td>0.0</td>\n",
       "      <td>0.622177</td>\n",
       "      <td>0.024237</td>\n",
       "      <td>0.0</td>\n",
       "      <td>0.045690</td>\n",
       "    </tr>\n",
       "  </tbody>\n",
       "</table>\n",
       "<p>4864 rows × 8 columns</p>\n",
       "</div>\n",
       "      <button class=\"colab-df-convert\" onclick=\"convertToInteractive('df-44f10acc-be4e-4e77-a253-5271cb9ac1de')\"\n",
       "              title=\"Convert this dataframe to an interactive table.\"\n",
       "              style=\"display:none;\">\n",
       "        \n",
       "  <svg xmlns=\"http://www.w3.org/2000/svg\" height=\"24px\"viewBox=\"0 0 24 24\"\n",
       "       width=\"24px\">\n",
       "    <path d=\"M0 0h24v24H0V0z\" fill=\"none\"/>\n",
       "    <path d=\"M18.56 5.44l.94 2.06.94-2.06 2.06-.94-2.06-.94-.94-2.06-.94 2.06-2.06.94zm-11 1L8.5 8.5l.94-2.06 2.06-.94-2.06-.94L8.5 2.5l-.94 2.06-2.06.94zm10 10l.94 2.06.94-2.06 2.06-.94-2.06-.94-.94-2.06-.94 2.06-2.06.94z\"/><path d=\"M17.41 7.96l-1.37-1.37c-.4-.4-.92-.59-1.43-.59-.52 0-1.04.2-1.43.59L10.3 9.45l-7.72 7.72c-.78.78-.78 2.05 0 2.83L4 21.41c.39.39.9.59 1.41.59.51 0 1.02-.2 1.41-.59l7.78-7.78 2.81-2.81c.8-.78.8-2.07 0-2.86zM5.41 20L4 18.59l7.72-7.72 1.47 1.35L5.41 20z\"/>\n",
       "  </svg>\n",
       "      </button>\n",
       "      \n",
       "  <style>\n",
       "    .colab-df-container {\n",
       "      display:flex;\n",
       "      flex-wrap:wrap;\n",
       "      gap: 12px;\n",
       "    }\n",
       "\n",
       "    .colab-df-convert {\n",
       "      background-color: #E8F0FE;\n",
       "      border: none;\n",
       "      border-radius: 50%;\n",
       "      cursor: pointer;\n",
       "      display: none;\n",
       "      fill: #1967D2;\n",
       "      height: 32px;\n",
       "      padding: 0 0 0 0;\n",
       "      width: 32px;\n",
       "    }\n",
       "\n",
       "    .colab-df-convert:hover {\n",
       "      background-color: #E2EBFA;\n",
       "      box-shadow: 0px 1px 2px rgba(60, 64, 67, 0.3), 0px 1px 3px 1px rgba(60, 64, 67, 0.15);\n",
       "      fill: #174EA6;\n",
       "    }\n",
       "\n",
       "    [theme=dark] .colab-df-convert {\n",
       "      background-color: #3B4455;\n",
       "      fill: #D2E3FC;\n",
       "    }\n",
       "\n",
       "    [theme=dark] .colab-df-convert:hover {\n",
       "      background-color: #434B5C;\n",
       "      box-shadow: 0px 1px 3px 1px rgba(0, 0, 0, 0.15);\n",
       "      filter: drop-shadow(0px 1px 2px rgba(0, 0, 0, 0.3));\n",
       "      fill: #FFFFFF;\n",
       "    }\n",
       "  </style>\n",
       "\n",
       "      <script>\n",
       "        const buttonEl =\n",
       "          document.querySelector('#df-44f10acc-be4e-4e77-a253-5271cb9ac1de button.colab-df-convert');\n",
       "        buttonEl.style.display =\n",
       "          google.colab.kernel.accessAllowed ? 'block' : 'none';\n",
       "\n",
       "        async function convertToInteractive(key) {\n",
       "          const element = document.querySelector('#df-44f10acc-be4e-4e77-a253-5271cb9ac1de');\n",
       "          const dataTable =\n",
       "            await google.colab.kernel.invokeFunction('convertToInteractive',\n",
       "                                                     [key], {});\n",
       "          if (!dataTable) return;\n",
       "\n",
       "          const docLinkHtml = 'Like what you see? Visit the ' +\n",
       "            '<a target=\"_blank\" href=https://colab.research.google.com/notebooks/data_table.ipynb>data table notebook</a>'\n",
       "            + ' to learn more about interactive tables.';\n",
       "          element.innerHTML = '';\n",
       "          dataTable['output_type'] = 'display_data';\n",
       "          await google.colab.output.renderOutput(dataTable, element);\n",
       "          const docLink = document.createElement('div');\n",
       "          docLink.innerHTML = docLinkHtml;\n",
       "          element.appendChild(docLink);\n",
       "        }\n",
       "      </script>\n",
       "    </div>\n",
       "  </div>\n",
       "  "
      ],
      "text/plain": [
       "       spindle load   command RPM   command Feedrate   actual RPM  \\\n",
       "0               0.0           0.0                0.0          0.0   \n",
       "1               0.0           0.0                0.0          0.0   \n",
       "2               0.0           0.0                0.0          0.0   \n",
       "3               0.0           0.0                0.0          0.0   \n",
       "4               0.0           0.0                0.0          0.0   \n",
       "...             ...           ...                ...          ...   \n",
       "4859            0.0           0.0                0.0          0.0   \n",
       "4860            0.0           0.0                0.0          0.0   \n",
       "4861            0.0           0.0                0.0          0.0   \n",
       "4862            0.0           0.0                0.0          0.0   \n",
       "4863            0.0           0.0                0.0          0.0   \n",
       "\n",
       "       actual Feedrate   Ref_lower   AdaptiveOn        C1  \n",
       "0             1.000000    1.000000          0.0  0.033555  \n",
       "1             1.000000    1.000000          0.0  0.031817  \n",
       "2             0.622177    1.000000          0.0  0.036441  \n",
       "3             0.622177    1.000000          0.0  0.032963  \n",
       "4             0.622177    1.000000          0.0  0.026008  \n",
       "...                ...         ...          ...       ...  \n",
       "4859          0.622177    0.026376          0.0  0.039882  \n",
       "4860          0.622177    0.026376          0.0  0.039882  \n",
       "4861          0.622177    0.024237          0.0  0.049723  \n",
       "4862          0.622177    0.024237          0.0  0.047429  \n",
       "4863          0.622177    0.024237          0.0  0.045690  \n",
       "\n",
       "[4864 rows x 8 columns]"
      ]
     },
     "execution_count": 213,
     "metadata": {},
     "output_type": "execute_result"
    }
   ],
   "source": [
    "f50_2_2_1_to[0]"
   ]
  },
  {
   "cell_type": "markdown",
   "id": "8fe804b6",
   "metadata": {
    "id": "8fe804b6"
   },
   "source": [
    "* 타겟변수 로그화"
   ]
  },
  {
   "cell_type": "code",
   "execution_count": null,
   "id": "4a441c6c",
   "metadata": {
    "id": "4a441c6c"
   },
   "outputs": [],
   "source": [
    "import plotly.express as px"
   ]
  },
  {
   "cell_type": "code",
   "execution_count": null,
   "id": "bd8e3e38",
   "metadata": {
    "id": "bd8e3e38"
   },
   "outputs": [],
   "source": [
    "names =[' C1', ' C2', ' C3', ' C4']"
   ]
  },
  {
   "cell_type": "code",
   "execution_count": null,
   "id": "aeda535f",
   "metadata": {
    "id": "aeda535f"
   },
   "outputs": [],
   "source": [
    "\n",
    "# 타켓 변수 로그변환 전\n",
    "skew = []\n",
    "kur = []\n",
    "for i in range(4):\n",
    "    \n",
    "    # fig = px.histogram(f50_2_2_1_to[i],x=names[i])\n",
    "    # fig.show()\n",
    "\n",
    "    skew.append(f50_2_2_1_to[i][names[i]].skew())\n",
    "    kur.append(kurtosis(f50_2_2_1_to[i][names[i]], fisher=True))\n"
   ]
  },
  {
   "cell_type": "code",
   "execution_count": null,
   "id": "ecc82269",
   "metadata": {
    "id": "ecc82269"
   },
   "outputs": [],
   "source": [
    "# 로그화 \n",
    "f50_2_2_1_to[0][' C1']= np.log1p(f50_2_2_1_to[0][' C1'])\n",
    "f50_2_2_1_to[1][' C2']= np.log1p(f50_2_2_1_to[1][' C2'])\n",
    "f50_2_2_1_to[2][' C3']= np.log1p(f50_2_2_1_to[2][' C3'])\n",
    "f50_2_2_1_to[3][' C4']= np.log1p(f50_2_2_1_to[3][' C4'])"
   ]
  },
  {
   "cell_type": "code",
   "execution_count": null,
   "id": "U9kBs4pW-TKZ",
   "metadata": {
    "colab": {
     "base_uri": "https://localhost:8080/",
     "height": 424
    },
    "id": "U9kBs4pW-TKZ",
    "outputId": "f8aad2b6-67a5-4b75-8d9f-c524df908293"
   },
   "outputs": [
    {
     "data": {
      "text/html": [
       "\n",
       "  <div id=\"df-a6761dd2-ce69-46ec-9e72-819aa3f33535\">\n",
       "    <div class=\"colab-df-container\">\n",
       "      <div>\n",
       "<style scoped>\n",
       "    .dataframe tbody tr th:only-of-type {\n",
       "        vertical-align: middle;\n",
       "    }\n",
       "\n",
       "    .dataframe tbody tr th {\n",
       "        vertical-align: top;\n",
       "    }\n",
       "\n",
       "    .dataframe thead th {\n",
       "        text-align: right;\n",
       "    }\n",
       "</style>\n",
       "<table border=\"1\" class=\"dataframe\">\n",
       "  <thead>\n",
       "    <tr style=\"text-align: right;\">\n",
       "      <th></th>\n",
       "      <th>spindle load</th>\n",
       "      <th>command RPM</th>\n",
       "      <th>command Feedrate</th>\n",
       "      <th>actual RPM</th>\n",
       "      <th>actual Feedrate</th>\n",
       "      <th>Ref_lower</th>\n",
       "      <th>AdaptiveOn</th>\n",
       "      <th>C1</th>\n",
       "    </tr>\n",
       "  </thead>\n",
       "  <tbody>\n",
       "    <tr>\n",
       "      <th>0</th>\n",
       "      <td>0.0</td>\n",
       "      <td>0.0</td>\n",
       "      <td>0.0</td>\n",
       "      <td>0.0</td>\n",
       "      <td>1.000000</td>\n",
       "      <td>1.000000</td>\n",
       "      <td>0.0</td>\n",
       "      <td>0.033005</td>\n",
       "    </tr>\n",
       "    <tr>\n",
       "      <th>1</th>\n",
       "      <td>0.0</td>\n",
       "      <td>0.0</td>\n",
       "      <td>0.0</td>\n",
       "      <td>0.0</td>\n",
       "      <td>1.000000</td>\n",
       "      <td>1.000000</td>\n",
       "      <td>0.0</td>\n",
       "      <td>0.031321</td>\n",
       "    </tr>\n",
       "    <tr>\n",
       "      <th>2</th>\n",
       "      <td>0.0</td>\n",
       "      <td>0.0</td>\n",
       "      <td>0.0</td>\n",
       "      <td>0.0</td>\n",
       "      <td>0.622177</td>\n",
       "      <td>1.000000</td>\n",
       "      <td>0.0</td>\n",
       "      <td>0.035793</td>\n",
       "    </tr>\n",
       "    <tr>\n",
       "      <th>3</th>\n",
       "      <td>0.0</td>\n",
       "      <td>0.0</td>\n",
       "      <td>0.0</td>\n",
       "      <td>0.0</td>\n",
       "      <td>0.622177</td>\n",
       "      <td>1.000000</td>\n",
       "      <td>0.0</td>\n",
       "      <td>0.032432</td>\n",
       "    </tr>\n",
       "    <tr>\n",
       "      <th>4</th>\n",
       "      <td>0.0</td>\n",
       "      <td>0.0</td>\n",
       "      <td>0.0</td>\n",
       "      <td>0.0</td>\n",
       "      <td>0.622177</td>\n",
       "      <td>1.000000</td>\n",
       "      <td>0.0</td>\n",
       "      <td>0.025676</td>\n",
       "    </tr>\n",
       "    <tr>\n",
       "      <th>...</th>\n",
       "      <td>...</td>\n",
       "      <td>...</td>\n",
       "      <td>...</td>\n",
       "      <td>...</td>\n",
       "      <td>...</td>\n",
       "      <td>...</td>\n",
       "      <td>...</td>\n",
       "      <td>...</td>\n",
       "    </tr>\n",
       "    <tr>\n",
       "      <th>4859</th>\n",
       "      <td>0.0</td>\n",
       "      <td>0.0</td>\n",
       "      <td>0.0</td>\n",
       "      <td>0.0</td>\n",
       "      <td>0.622177</td>\n",
       "      <td>0.026376</td>\n",
       "      <td>0.0</td>\n",
       "      <td>0.039107</td>\n",
       "    </tr>\n",
       "    <tr>\n",
       "      <th>4860</th>\n",
       "      <td>0.0</td>\n",
       "      <td>0.0</td>\n",
       "      <td>0.0</td>\n",
       "      <td>0.0</td>\n",
       "      <td>0.622177</td>\n",
       "      <td>0.026376</td>\n",
       "      <td>0.0</td>\n",
       "      <td>0.039107</td>\n",
       "    </tr>\n",
       "    <tr>\n",
       "      <th>4861</th>\n",
       "      <td>0.0</td>\n",
       "      <td>0.0</td>\n",
       "      <td>0.0</td>\n",
       "      <td>0.0</td>\n",
       "      <td>0.622177</td>\n",
       "      <td>0.024237</td>\n",
       "      <td>0.0</td>\n",
       "      <td>0.048526</td>\n",
       "    </tr>\n",
       "    <tr>\n",
       "      <th>4862</th>\n",
       "      <td>0.0</td>\n",
       "      <td>0.0</td>\n",
       "      <td>0.0</td>\n",
       "      <td>0.0</td>\n",
       "      <td>0.622177</td>\n",
       "      <td>0.024237</td>\n",
       "      <td>0.0</td>\n",
       "      <td>0.046338</td>\n",
       "    </tr>\n",
       "    <tr>\n",
       "      <th>4863</th>\n",
       "      <td>0.0</td>\n",
       "      <td>0.0</td>\n",
       "      <td>0.0</td>\n",
       "      <td>0.0</td>\n",
       "      <td>0.622177</td>\n",
       "      <td>0.024237</td>\n",
       "      <td>0.0</td>\n",
       "      <td>0.044677</td>\n",
       "    </tr>\n",
       "  </tbody>\n",
       "</table>\n",
       "<p>4864 rows × 8 columns</p>\n",
       "</div>\n",
       "      <button class=\"colab-df-convert\" onclick=\"convertToInteractive('df-a6761dd2-ce69-46ec-9e72-819aa3f33535')\"\n",
       "              title=\"Convert this dataframe to an interactive table.\"\n",
       "              style=\"display:none;\">\n",
       "        \n",
       "  <svg xmlns=\"http://www.w3.org/2000/svg\" height=\"24px\"viewBox=\"0 0 24 24\"\n",
       "       width=\"24px\">\n",
       "    <path d=\"M0 0h24v24H0V0z\" fill=\"none\"/>\n",
       "    <path d=\"M18.56 5.44l.94 2.06.94-2.06 2.06-.94-2.06-.94-.94-2.06-.94 2.06-2.06.94zm-11 1L8.5 8.5l.94-2.06 2.06-.94-2.06-.94L8.5 2.5l-.94 2.06-2.06.94zm10 10l.94 2.06.94-2.06 2.06-.94-2.06-.94-.94-2.06-.94 2.06-2.06.94z\"/><path d=\"M17.41 7.96l-1.37-1.37c-.4-.4-.92-.59-1.43-.59-.52 0-1.04.2-1.43.59L10.3 9.45l-7.72 7.72c-.78.78-.78 2.05 0 2.83L4 21.41c.39.39.9.59 1.41.59.51 0 1.02-.2 1.41-.59l7.78-7.78 2.81-2.81c.8-.78.8-2.07 0-2.86zM5.41 20L4 18.59l7.72-7.72 1.47 1.35L5.41 20z\"/>\n",
       "  </svg>\n",
       "      </button>\n",
       "      \n",
       "  <style>\n",
       "    .colab-df-container {\n",
       "      display:flex;\n",
       "      flex-wrap:wrap;\n",
       "      gap: 12px;\n",
       "    }\n",
       "\n",
       "    .colab-df-convert {\n",
       "      background-color: #E8F0FE;\n",
       "      border: none;\n",
       "      border-radius: 50%;\n",
       "      cursor: pointer;\n",
       "      display: none;\n",
       "      fill: #1967D2;\n",
       "      height: 32px;\n",
       "      padding: 0 0 0 0;\n",
       "      width: 32px;\n",
       "    }\n",
       "\n",
       "    .colab-df-convert:hover {\n",
       "      background-color: #E2EBFA;\n",
       "      box-shadow: 0px 1px 2px rgba(60, 64, 67, 0.3), 0px 1px 3px 1px rgba(60, 64, 67, 0.15);\n",
       "      fill: #174EA6;\n",
       "    }\n",
       "\n",
       "    [theme=dark] .colab-df-convert {\n",
       "      background-color: #3B4455;\n",
       "      fill: #D2E3FC;\n",
       "    }\n",
       "\n",
       "    [theme=dark] .colab-df-convert:hover {\n",
       "      background-color: #434B5C;\n",
       "      box-shadow: 0px 1px 3px 1px rgba(0, 0, 0, 0.15);\n",
       "      filter: drop-shadow(0px 1px 2px rgba(0, 0, 0, 0.3));\n",
       "      fill: #FFFFFF;\n",
       "    }\n",
       "  </style>\n",
       "\n",
       "      <script>\n",
       "        const buttonEl =\n",
       "          document.querySelector('#df-a6761dd2-ce69-46ec-9e72-819aa3f33535 button.colab-df-convert');\n",
       "        buttonEl.style.display =\n",
       "          google.colab.kernel.accessAllowed ? 'block' : 'none';\n",
       "\n",
       "        async function convertToInteractive(key) {\n",
       "          const element = document.querySelector('#df-a6761dd2-ce69-46ec-9e72-819aa3f33535');\n",
       "          const dataTable =\n",
       "            await google.colab.kernel.invokeFunction('convertToInteractive',\n",
       "                                                     [key], {});\n",
       "          if (!dataTable) return;\n",
       "\n",
       "          const docLinkHtml = 'Like what you see? Visit the ' +\n",
       "            '<a target=\"_blank\" href=https://colab.research.google.com/notebooks/data_table.ipynb>data table notebook</a>'\n",
       "            + ' to learn more about interactive tables.';\n",
       "          element.innerHTML = '';\n",
       "          dataTable['output_type'] = 'display_data';\n",
       "          await google.colab.output.renderOutput(dataTable, element);\n",
       "          const docLink = document.createElement('div');\n",
       "          docLink.innerHTML = docLinkHtml;\n",
       "          element.appendChild(docLink);\n",
       "        }\n",
       "      </script>\n",
       "    </div>\n",
       "  </div>\n",
       "  "
      ],
      "text/plain": [
       "       spindle load   command RPM   command Feedrate   actual RPM  \\\n",
       "0               0.0           0.0                0.0          0.0   \n",
       "1               0.0           0.0                0.0          0.0   \n",
       "2               0.0           0.0                0.0          0.0   \n",
       "3               0.0           0.0                0.0          0.0   \n",
       "4               0.0           0.0                0.0          0.0   \n",
       "...             ...           ...                ...          ...   \n",
       "4859            0.0           0.0                0.0          0.0   \n",
       "4860            0.0           0.0                0.0          0.0   \n",
       "4861            0.0           0.0                0.0          0.0   \n",
       "4862            0.0           0.0                0.0          0.0   \n",
       "4863            0.0           0.0                0.0          0.0   \n",
       "\n",
       "       actual Feedrate   Ref_lower   AdaptiveOn        C1  \n",
       "0             1.000000    1.000000          0.0  0.033005  \n",
       "1             1.000000    1.000000          0.0  0.031321  \n",
       "2             0.622177    1.000000          0.0  0.035793  \n",
       "3             0.622177    1.000000          0.0  0.032432  \n",
       "4             0.622177    1.000000          0.0  0.025676  \n",
       "...                ...         ...          ...       ...  \n",
       "4859          0.622177    0.026376          0.0  0.039107  \n",
       "4860          0.622177    0.026376          0.0  0.039107  \n",
       "4861          0.622177    0.024237          0.0  0.048526  \n",
       "4862          0.622177    0.024237          0.0  0.046338  \n",
       "4863          0.622177    0.024237          0.0  0.044677  \n",
       "\n",
       "[4864 rows x 8 columns]"
      ]
     },
     "execution_count": 218,
     "metadata": {},
     "output_type": "execute_result"
    }
   ],
   "source": [
    "f50_2_2_1_to[0]"
   ]
  },
  {
   "cell_type": "code",
   "execution_count": null,
   "id": "7a104600",
   "metadata": {
    "colab": {
     "base_uri": "https://localhost:8080/"
    },
    "id": "7a104600",
    "outputId": "6258920f-f6d4-4b2d-8d06-a25b9e1f2b6a"
   },
   "outputs": [
    {
     "data": {
      "text/plain": [
       "0      0.325211\n",
       "1      0.310720\n",
       "2      0.348805\n",
       "3      0.320301\n",
       "4      0.260733\n",
       "         ...   \n",
       "177    0.520104\n",
       "178    0.459086\n",
       "179    0.420882\n",
       "180    0.433871\n",
       "181    0.437982\n",
       "Name:  C1, Length: 182, dtype: float64"
      ]
     },
     "execution_count": 21,
     "metadata": {},
     "output_type": "execute_result"
    }
   ],
   "source": [
    "f50_2_2_1_to[0][' C1']"
   ]
  },
  {
   "cell_type": "code",
   "execution_count": null,
   "id": "2717108f",
   "metadata": {
    "id": "2717108f"
   },
   "outputs": [],
   "source": [
    "# 타켓 변수 로그변환 후\n",
    "skew_log = []\n",
    "kur_log = []\n",
    "for i in range(4):\n",
    "    \n",
    "    # fig_log = px.histogram(f50_2_2_1_to[i],x=names[i])\n",
    "    # fig_log.show()\n",
    "    \n",
    "    skew_log.append(f50_2_2_1_to[i][names[i]].skew())\n",
    "    kur_log.append(kurtosis(f50_2_2_1_to[1][names[1]], fisher=True))"
   ]
  },
  {
   "cell_type": "code",
   "execution_count": null,
   "id": "425b3047",
   "metadata": {
    "colab": {
     "base_uri": "https://localhost:8080/"
    },
    "id": "425b3047",
    "outputId": "1b033d0b-185d-496d-a127-811680e5b571"
   },
   "outputs": [
    {
     "name": "stdout",
     "output_type": "stream",
     "text": [
      "[0.20724365034607717, 0.12917723108916895, 0.28053286122700954, -0.10955200948367633]\n",
      "[-0.11170781917531669, -0.21877723921459105, 0.014723592437817599, -0.25172135318781164]\n"
     ]
    }
   ],
   "source": [
    "# 로그 변환 스큐 비교\n",
    "print(skew)\n",
    "print(skew_log)\n"
   ]
  },
  {
   "cell_type": "code",
   "execution_count": null,
   "id": "0b1e2074",
   "metadata": {
    "colab": {
     "base_uri": "https://localhost:8080/"
    },
    "id": "0b1e2074",
    "outputId": "f20baab5-926c-4423-a22c-1dbb0c292403"
   },
   "outputs": [
    {
     "name": "stdout",
     "output_type": "stream",
     "text": [
      "[-0.5834078609814211, -0.39320725728833805, -1.0803824397999955, -1.541763762090763]\n",
      "[-0.3703838498266965, -0.3703838498266965, -0.3703838498266965, -0.3703838498266965]\n"
     ]
    }
   ],
   "source": [
    "print(kur)\n",
    "print(kur_log)"
   ]
  },
  {
   "cell_type": "code",
   "execution_count": null,
   "id": "b045962a",
   "metadata": {
    "colab": {
     "base_uri": "https://localhost:8080/",
     "height": 423
    },
    "id": "b045962a",
    "outputId": "7117a989-6264-4edb-c7fd-5ba70586b014"
   },
   "outputs": [
    {
     "data": {
      "text/html": [
       "\n",
       "  <div id=\"df-abaeb4d8-9330-4b3a-816d-0d7ac1be83e5\">\n",
       "    <div class=\"colab-df-container\">\n",
       "      <div>\n",
       "<style scoped>\n",
       "    .dataframe tbody tr th:only-of-type {\n",
       "        vertical-align: middle;\n",
       "    }\n",
       "\n",
       "    .dataframe tbody tr th {\n",
       "        vertical-align: top;\n",
       "    }\n",
       "\n",
       "    .dataframe thead th {\n",
       "        text-align: right;\n",
       "    }\n",
       "</style>\n",
       "<table border=\"1\" class=\"dataframe\">\n",
       "  <thead>\n",
       "    <tr style=\"text-align: right;\">\n",
       "      <th></th>\n",
       "      <th>spindle load</th>\n",
       "      <th>command RPM</th>\n",
       "      <th>command Feedrate</th>\n",
       "      <th>actual RPM</th>\n",
       "      <th>actual Feedrate</th>\n",
       "      <th>Ref_lower</th>\n",
       "      <th>AdaptiveOn</th>\n",
       "      <th>C1</th>\n",
       "    </tr>\n",
       "  </thead>\n",
       "  <tbody>\n",
       "    <tr>\n",
       "      <th>0</th>\n",
       "      <td>0.0</td>\n",
       "      <td>0.0</td>\n",
       "      <td>0.0</td>\n",
       "      <td>0.0</td>\n",
       "      <td>1.000000</td>\n",
       "      <td>0.0</td>\n",
       "      <td>0.0</td>\n",
       "      <td>0.325211</td>\n",
       "    </tr>\n",
       "    <tr>\n",
       "      <th>1</th>\n",
       "      <td>0.0</td>\n",
       "      <td>0.0</td>\n",
       "      <td>0.0</td>\n",
       "      <td>0.0</td>\n",
       "      <td>1.000000</td>\n",
       "      <td>0.0</td>\n",
       "      <td>0.0</td>\n",
       "      <td>0.310720</td>\n",
       "    </tr>\n",
       "    <tr>\n",
       "      <th>2</th>\n",
       "      <td>0.0</td>\n",
       "      <td>0.0</td>\n",
       "      <td>0.0</td>\n",
       "      <td>0.0</td>\n",
       "      <td>0.622177</td>\n",
       "      <td>0.0</td>\n",
       "      <td>0.0</td>\n",
       "      <td>0.348805</td>\n",
       "    </tr>\n",
       "    <tr>\n",
       "      <th>3</th>\n",
       "      <td>0.0</td>\n",
       "      <td>0.0</td>\n",
       "      <td>0.0</td>\n",
       "      <td>0.0</td>\n",
       "      <td>0.622177</td>\n",
       "      <td>0.0</td>\n",
       "      <td>0.0</td>\n",
       "      <td>0.320301</td>\n",
       "    </tr>\n",
       "    <tr>\n",
       "      <th>4</th>\n",
       "      <td>0.0</td>\n",
       "      <td>0.0</td>\n",
       "      <td>0.0</td>\n",
       "      <td>0.0</td>\n",
       "      <td>0.622177</td>\n",
       "      <td>0.0</td>\n",
       "      <td>0.0</td>\n",
       "      <td>0.260733</td>\n",
       "    </tr>\n",
       "    <tr>\n",
       "      <th>...</th>\n",
       "      <td>...</td>\n",
       "      <td>...</td>\n",
       "      <td>...</td>\n",
       "      <td>...</td>\n",
       "      <td>...</td>\n",
       "      <td>...</td>\n",
       "      <td>...</td>\n",
       "      <td>...</td>\n",
       "    </tr>\n",
       "    <tr>\n",
       "      <th>177</th>\n",
       "      <td>0.0</td>\n",
       "      <td>0.0</td>\n",
       "      <td>0.0</td>\n",
       "      <td>1.0</td>\n",
       "      <td>0.622177</td>\n",
       "      <td>0.0</td>\n",
       "      <td>0.0</td>\n",
       "      <td>0.520104</td>\n",
       "    </tr>\n",
       "    <tr>\n",
       "      <th>178</th>\n",
       "      <td>0.0</td>\n",
       "      <td>0.0</td>\n",
       "      <td>0.0</td>\n",
       "      <td>1.0</td>\n",
       "      <td>0.622177</td>\n",
       "      <td>0.0</td>\n",
       "      <td>0.0</td>\n",
       "      <td>0.459086</td>\n",
       "    </tr>\n",
       "    <tr>\n",
       "      <th>179</th>\n",
       "      <td>0.0</td>\n",
       "      <td>0.0</td>\n",
       "      <td>0.0</td>\n",
       "      <td>1.0</td>\n",
       "      <td>0.622177</td>\n",
       "      <td>0.0</td>\n",
       "      <td>0.0</td>\n",
       "      <td>0.420882</td>\n",
       "    </tr>\n",
       "    <tr>\n",
       "      <th>180</th>\n",
       "      <td>0.0</td>\n",
       "      <td>0.0</td>\n",
       "      <td>0.0</td>\n",
       "      <td>1.0</td>\n",
       "      <td>0.000000</td>\n",
       "      <td>0.0</td>\n",
       "      <td>0.0</td>\n",
       "      <td>0.433871</td>\n",
       "    </tr>\n",
       "    <tr>\n",
       "      <th>181</th>\n",
       "      <td>0.0</td>\n",
       "      <td>0.0</td>\n",
       "      <td>0.0</td>\n",
       "      <td>1.0</td>\n",
       "      <td>0.000000</td>\n",
       "      <td>0.0</td>\n",
       "      <td>0.0</td>\n",
       "      <td>0.437982</td>\n",
       "    </tr>\n",
       "  </tbody>\n",
       "</table>\n",
       "<p>182 rows × 8 columns</p>\n",
       "</div>\n",
       "      <button class=\"colab-df-convert\" onclick=\"convertToInteractive('df-abaeb4d8-9330-4b3a-816d-0d7ac1be83e5')\"\n",
       "              title=\"Convert this dataframe to an interactive table.\"\n",
       "              style=\"display:none;\">\n",
       "        \n",
       "  <svg xmlns=\"http://www.w3.org/2000/svg\" height=\"24px\"viewBox=\"0 0 24 24\"\n",
       "       width=\"24px\">\n",
       "    <path d=\"M0 0h24v24H0V0z\" fill=\"none\"/>\n",
       "    <path d=\"M18.56 5.44l.94 2.06.94-2.06 2.06-.94-2.06-.94-.94-2.06-.94 2.06-2.06.94zm-11 1L8.5 8.5l.94-2.06 2.06-.94-2.06-.94L8.5 2.5l-.94 2.06-2.06.94zm10 10l.94 2.06.94-2.06 2.06-.94-2.06-.94-.94-2.06-.94 2.06-2.06.94z\"/><path d=\"M17.41 7.96l-1.37-1.37c-.4-.4-.92-.59-1.43-.59-.52 0-1.04.2-1.43.59L10.3 9.45l-7.72 7.72c-.78.78-.78 2.05 0 2.83L4 21.41c.39.39.9.59 1.41.59.51 0 1.02-.2 1.41-.59l7.78-7.78 2.81-2.81c.8-.78.8-2.07 0-2.86zM5.41 20L4 18.59l7.72-7.72 1.47 1.35L5.41 20z\"/>\n",
       "  </svg>\n",
       "      </button>\n",
       "      \n",
       "  <style>\n",
       "    .colab-df-container {\n",
       "      display:flex;\n",
       "      flex-wrap:wrap;\n",
       "      gap: 12px;\n",
       "    }\n",
       "\n",
       "    .colab-df-convert {\n",
       "      background-color: #E8F0FE;\n",
       "      border: none;\n",
       "      border-radius: 50%;\n",
       "      cursor: pointer;\n",
       "      display: none;\n",
       "      fill: #1967D2;\n",
       "      height: 32px;\n",
       "      padding: 0 0 0 0;\n",
       "      width: 32px;\n",
       "    }\n",
       "\n",
       "    .colab-df-convert:hover {\n",
       "      background-color: #E2EBFA;\n",
       "      box-shadow: 0px 1px 2px rgba(60, 64, 67, 0.3), 0px 1px 3px 1px rgba(60, 64, 67, 0.15);\n",
       "      fill: #174EA6;\n",
       "    }\n",
       "\n",
       "    [theme=dark] .colab-df-convert {\n",
       "      background-color: #3B4455;\n",
       "      fill: #D2E3FC;\n",
       "    }\n",
       "\n",
       "    [theme=dark] .colab-df-convert:hover {\n",
       "      background-color: #434B5C;\n",
       "      box-shadow: 0px 1px 3px 1px rgba(0, 0, 0, 0.15);\n",
       "      filter: drop-shadow(0px 1px 2px rgba(0, 0, 0, 0.3));\n",
       "      fill: #FFFFFF;\n",
       "    }\n",
       "  </style>\n",
       "\n",
       "      <script>\n",
       "        const buttonEl =\n",
       "          document.querySelector('#df-abaeb4d8-9330-4b3a-816d-0d7ac1be83e5 button.colab-df-convert');\n",
       "        buttonEl.style.display =\n",
       "          google.colab.kernel.accessAllowed ? 'block' : 'none';\n",
       "\n",
       "        async function convertToInteractive(key) {\n",
       "          const element = document.querySelector('#df-abaeb4d8-9330-4b3a-816d-0d7ac1be83e5');\n",
       "          const dataTable =\n",
       "            await google.colab.kernel.invokeFunction('convertToInteractive',\n",
       "                                                     [key], {});\n",
       "          if (!dataTable) return;\n",
       "\n",
       "          const docLinkHtml = 'Like what you see? Visit the ' +\n",
       "            '<a target=\"_blank\" href=https://colab.research.google.com/notebooks/data_table.ipynb>data table notebook</a>'\n",
       "            + ' to learn more about interactive tables.';\n",
       "          element.innerHTML = '';\n",
       "          dataTable['output_type'] = 'display_data';\n",
       "          await google.colab.output.renderOutput(dataTable, element);\n",
       "          const docLink = document.createElement('div');\n",
       "          docLink.innerHTML = docLinkHtml;\n",
       "          element.appendChild(docLink);\n",
       "        }\n",
       "      </script>\n",
       "    </div>\n",
       "  </div>\n",
       "  "
      ],
      "text/plain": [
       "      spindle load   command RPM   command Feedrate   actual RPM  \\\n",
       "0              0.0           0.0                0.0          0.0   \n",
       "1              0.0           0.0                0.0          0.0   \n",
       "2              0.0           0.0                0.0          0.0   \n",
       "3              0.0           0.0                0.0          0.0   \n",
       "4              0.0           0.0                0.0          0.0   \n",
       "..             ...           ...                ...          ...   \n",
       "177            0.0           0.0                0.0          1.0   \n",
       "178            0.0           0.0                0.0          1.0   \n",
       "179            0.0           0.0                0.0          1.0   \n",
       "180            0.0           0.0                0.0          1.0   \n",
       "181            0.0           0.0                0.0          1.0   \n",
       "\n",
       "      actual Feedrate   Ref_lower   AdaptiveOn        C1  \n",
       "0            1.000000         0.0          0.0  0.325211  \n",
       "1            1.000000         0.0          0.0  0.310720  \n",
       "2            0.622177         0.0          0.0  0.348805  \n",
       "3            0.622177         0.0          0.0  0.320301  \n",
       "4            0.622177         0.0          0.0  0.260733  \n",
       "..                ...         ...          ...       ...  \n",
       "177          0.622177         0.0          0.0  0.520104  \n",
       "178          0.622177         0.0          0.0  0.459086  \n",
       "179          0.622177         0.0          0.0  0.420882  \n",
       "180          0.000000         0.0          0.0  0.433871  \n",
       "181          0.000000         0.0          0.0  0.437982  \n",
       "\n",
       "[182 rows x 8 columns]"
      ]
     },
     "execution_count": 25,
     "metadata": {},
     "output_type": "execute_result"
    }
   ],
   "source": [
    "f50_2_2_1_to[0]"
   ]
  },
  {
   "cell_type": "code",
   "execution_count": null,
   "id": "r3nnUdo1CkOA",
   "metadata": {
    "id": "r3nnUdo1CkOA"
   },
   "outputs": [],
   "source": [
    "one = f50_2_2_1_to[0]\n"
   ]
  },
  {
   "cell_type": "code",
   "execution_count": null,
   "id": "vX6E8cscbURm",
   "metadata": {
    "colab": {
     "base_uri": "https://localhost:8080/",
     "height": 423
    },
    "id": "vX6E8cscbURm",
    "outputId": "5bd9a5ef-b2dd-48ac-f176-1a642a771925"
   },
   "outputs": [
    {
     "data": {
      "text/html": [
       "\n",
       "  <div id=\"df-9703245f-ac4c-456b-8386-f9fc8ff16df7\">\n",
       "    <div class=\"colab-df-container\">\n",
       "      <div>\n",
       "<style scoped>\n",
       "    .dataframe tbody tr th:only-of-type {\n",
       "        vertical-align: middle;\n",
       "    }\n",
       "\n",
       "    .dataframe tbody tr th {\n",
       "        vertical-align: top;\n",
       "    }\n",
       "\n",
       "    .dataframe thead th {\n",
       "        text-align: right;\n",
       "    }\n",
       "</style>\n",
       "<table border=\"1\" class=\"dataframe\">\n",
       "  <thead>\n",
       "    <tr style=\"text-align: right;\">\n",
       "      <th></th>\n",
       "      <th>spindle load</th>\n",
       "      <th>command RPM</th>\n",
       "      <th>command Feedrate</th>\n",
       "      <th>actual RPM</th>\n",
       "      <th>actual Feedrate</th>\n",
       "      <th>Ref_lower</th>\n",
       "      <th>AdaptiveOn</th>\n",
       "      <th>C1</th>\n",
       "    </tr>\n",
       "  </thead>\n",
       "  <tbody>\n",
       "    <tr>\n",
       "      <th>0</th>\n",
       "      <td>0.0</td>\n",
       "      <td>0.0</td>\n",
       "      <td>0.0</td>\n",
       "      <td>0.0</td>\n",
       "      <td>1.000000</td>\n",
       "      <td>1.000000</td>\n",
       "      <td>0.0</td>\n",
       "      <td>0.033005</td>\n",
       "    </tr>\n",
       "    <tr>\n",
       "      <th>1</th>\n",
       "      <td>0.0</td>\n",
       "      <td>0.0</td>\n",
       "      <td>0.0</td>\n",
       "      <td>0.0</td>\n",
       "      <td>1.000000</td>\n",
       "      <td>1.000000</td>\n",
       "      <td>0.0</td>\n",
       "      <td>0.031321</td>\n",
       "    </tr>\n",
       "    <tr>\n",
       "      <th>2</th>\n",
       "      <td>0.0</td>\n",
       "      <td>0.0</td>\n",
       "      <td>0.0</td>\n",
       "      <td>0.0</td>\n",
       "      <td>0.622177</td>\n",
       "      <td>1.000000</td>\n",
       "      <td>0.0</td>\n",
       "      <td>0.035793</td>\n",
       "    </tr>\n",
       "    <tr>\n",
       "      <th>3</th>\n",
       "      <td>0.0</td>\n",
       "      <td>0.0</td>\n",
       "      <td>0.0</td>\n",
       "      <td>0.0</td>\n",
       "      <td>0.622177</td>\n",
       "      <td>1.000000</td>\n",
       "      <td>0.0</td>\n",
       "      <td>0.032432</td>\n",
       "    </tr>\n",
       "    <tr>\n",
       "      <th>4</th>\n",
       "      <td>0.0</td>\n",
       "      <td>0.0</td>\n",
       "      <td>0.0</td>\n",
       "      <td>0.0</td>\n",
       "      <td>0.622177</td>\n",
       "      <td>1.000000</td>\n",
       "      <td>0.0</td>\n",
       "      <td>0.025676</td>\n",
       "    </tr>\n",
       "    <tr>\n",
       "      <th>...</th>\n",
       "      <td>...</td>\n",
       "      <td>...</td>\n",
       "      <td>...</td>\n",
       "      <td>...</td>\n",
       "      <td>...</td>\n",
       "      <td>...</td>\n",
       "      <td>...</td>\n",
       "      <td>...</td>\n",
       "    </tr>\n",
       "    <tr>\n",
       "      <th>4859</th>\n",
       "      <td>0.0</td>\n",
       "      <td>0.0</td>\n",
       "      <td>0.0</td>\n",
       "      <td>0.0</td>\n",
       "      <td>0.622177</td>\n",
       "      <td>0.026376</td>\n",
       "      <td>0.0</td>\n",
       "      <td>0.039107</td>\n",
       "    </tr>\n",
       "    <tr>\n",
       "      <th>4860</th>\n",
       "      <td>0.0</td>\n",
       "      <td>0.0</td>\n",
       "      <td>0.0</td>\n",
       "      <td>0.0</td>\n",
       "      <td>0.622177</td>\n",
       "      <td>0.026376</td>\n",
       "      <td>0.0</td>\n",
       "      <td>0.039107</td>\n",
       "    </tr>\n",
       "    <tr>\n",
       "      <th>4861</th>\n",
       "      <td>0.0</td>\n",
       "      <td>0.0</td>\n",
       "      <td>0.0</td>\n",
       "      <td>0.0</td>\n",
       "      <td>0.622177</td>\n",
       "      <td>0.024237</td>\n",
       "      <td>0.0</td>\n",
       "      <td>0.048526</td>\n",
       "    </tr>\n",
       "    <tr>\n",
       "      <th>4862</th>\n",
       "      <td>0.0</td>\n",
       "      <td>0.0</td>\n",
       "      <td>0.0</td>\n",
       "      <td>0.0</td>\n",
       "      <td>0.622177</td>\n",
       "      <td>0.024237</td>\n",
       "      <td>0.0</td>\n",
       "      <td>0.046338</td>\n",
       "    </tr>\n",
       "    <tr>\n",
       "      <th>4863</th>\n",
       "      <td>0.0</td>\n",
       "      <td>0.0</td>\n",
       "      <td>0.0</td>\n",
       "      <td>0.0</td>\n",
       "      <td>0.622177</td>\n",
       "      <td>0.024237</td>\n",
       "      <td>0.0</td>\n",
       "      <td>0.044677</td>\n",
       "    </tr>\n",
       "  </tbody>\n",
       "</table>\n",
       "<p>4864 rows × 8 columns</p>\n",
       "</div>\n",
       "      <button class=\"colab-df-convert\" onclick=\"convertToInteractive('df-9703245f-ac4c-456b-8386-f9fc8ff16df7')\"\n",
       "              title=\"Convert this dataframe to an interactive table.\"\n",
       "              style=\"display:none;\">\n",
       "        \n",
       "  <svg xmlns=\"http://www.w3.org/2000/svg\" height=\"24px\"viewBox=\"0 0 24 24\"\n",
       "       width=\"24px\">\n",
       "    <path d=\"M0 0h24v24H0V0z\" fill=\"none\"/>\n",
       "    <path d=\"M18.56 5.44l.94 2.06.94-2.06 2.06-.94-2.06-.94-.94-2.06-.94 2.06-2.06.94zm-11 1L8.5 8.5l.94-2.06 2.06-.94-2.06-.94L8.5 2.5l-.94 2.06-2.06.94zm10 10l.94 2.06.94-2.06 2.06-.94-2.06-.94-.94-2.06-.94 2.06-2.06.94z\"/><path d=\"M17.41 7.96l-1.37-1.37c-.4-.4-.92-.59-1.43-.59-.52 0-1.04.2-1.43.59L10.3 9.45l-7.72 7.72c-.78.78-.78 2.05 0 2.83L4 21.41c.39.39.9.59 1.41.59.51 0 1.02-.2 1.41-.59l7.78-7.78 2.81-2.81c.8-.78.8-2.07 0-2.86zM5.41 20L4 18.59l7.72-7.72 1.47 1.35L5.41 20z\"/>\n",
       "  </svg>\n",
       "      </button>\n",
       "      \n",
       "  <style>\n",
       "    .colab-df-container {\n",
       "      display:flex;\n",
       "      flex-wrap:wrap;\n",
       "      gap: 12px;\n",
       "    }\n",
       "\n",
       "    .colab-df-convert {\n",
       "      background-color: #E8F0FE;\n",
       "      border: none;\n",
       "      border-radius: 50%;\n",
       "      cursor: pointer;\n",
       "      display: none;\n",
       "      fill: #1967D2;\n",
       "      height: 32px;\n",
       "      padding: 0 0 0 0;\n",
       "      width: 32px;\n",
       "    }\n",
       "\n",
       "    .colab-df-convert:hover {\n",
       "      background-color: #E2EBFA;\n",
       "      box-shadow: 0px 1px 2px rgba(60, 64, 67, 0.3), 0px 1px 3px 1px rgba(60, 64, 67, 0.15);\n",
       "      fill: #174EA6;\n",
       "    }\n",
       "\n",
       "    [theme=dark] .colab-df-convert {\n",
       "      background-color: #3B4455;\n",
       "      fill: #D2E3FC;\n",
       "    }\n",
       "\n",
       "    [theme=dark] .colab-df-convert:hover {\n",
       "      background-color: #434B5C;\n",
       "      box-shadow: 0px 1px 3px 1px rgba(0, 0, 0, 0.15);\n",
       "      filter: drop-shadow(0px 1px 2px rgba(0, 0, 0, 0.3));\n",
       "      fill: #FFFFFF;\n",
       "    }\n",
       "  </style>\n",
       "\n",
       "      <script>\n",
       "        const buttonEl =\n",
       "          document.querySelector('#df-9703245f-ac4c-456b-8386-f9fc8ff16df7 button.colab-df-convert');\n",
       "        buttonEl.style.display =\n",
       "          google.colab.kernel.accessAllowed ? 'block' : 'none';\n",
       "\n",
       "        async function convertToInteractive(key) {\n",
       "          const element = document.querySelector('#df-9703245f-ac4c-456b-8386-f9fc8ff16df7');\n",
       "          const dataTable =\n",
       "            await google.colab.kernel.invokeFunction('convertToInteractive',\n",
       "                                                     [key], {});\n",
       "          if (!dataTable) return;\n",
       "\n",
       "          const docLinkHtml = 'Like what you see? Visit the ' +\n",
       "            '<a target=\"_blank\" href=https://colab.research.google.com/notebooks/data_table.ipynb>data table notebook</a>'\n",
       "            + ' to learn more about interactive tables.';\n",
       "          element.innerHTML = '';\n",
       "          dataTable['output_type'] = 'display_data';\n",
       "          await google.colab.output.renderOutput(dataTable, element);\n",
       "          const docLink = document.createElement('div');\n",
       "          docLink.innerHTML = docLinkHtml;\n",
       "          element.appendChild(docLink);\n",
       "        }\n",
       "      </script>\n",
       "    </div>\n",
       "  </div>\n",
       "  "
      ],
      "text/plain": [
       "       spindle load   command RPM   command Feedrate   actual RPM  \\\n",
       "0               0.0           0.0                0.0          0.0   \n",
       "1               0.0           0.0                0.0          0.0   \n",
       "2               0.0           0.0                0.0          0.0   \n",
       "3               0.0           0.0                0.0          0.0   \n",
       "4               0.0           0.0                0.0          0.0   \n",
       "...             ...           ...                ...          ...   \n",
       "4859            0.0           0.0                0.0          0.0   \n",
       "4860            0.0           0.0                0.0          0.0   \n",
       "4861            0.0           0.0                0.0          0.0   \n",
       "4862            0.0           0.0                0.0          0.0   \n",
       "4863            0.0           0.0                0.0          0.0   \n",
       "\n",
       "       actual Feedrate   Ref_lower   AdaptiveOn        C1  \n",
       "0             1.000000    1.000000          0.0  0.033005  \n",
       "1             1.000000    1.000000          0.0  0.031321  \n",
       "2             0.622177    1.000000          0.0  0.035793  \n",
       "3             0.622177    1.000000          0.0  0.032432  \n",
       "4             0.622177    1.000000          0.0  0.025676  \n",
       "...                ...         ...          ...       ...  \n",
       "4859          0.622177    0.026376          0.0  0.039107  \n",
       "4860          0.622177    0.026376          0.0  0.039107  \n",
       "4861          0.622177    0.024237          0.0  0.048526  \n",
       "4862          0.622177    0.024237          0.0  0.046338  \n",
       "4863          0.622177    0.024237          0.0  0.044677  \n",
       "\n",
       "[4864 rows x 8 columns]"
      ]
     },
     "execution_count": 56,
     "metadata": {},
     "output_type": "execute_result"
    }
   ],
   "source": [
    "one"
   ]
  },
  {
   "cell_type": "code",
   "execution_count": null,
   "id": "Z0YjwuY7ZzXa",
   "metadata": {
    "colab": {
     "base_uri": "https://localhost:8080/"
    },
    "id": "Z0YjwuY7ZzXa",
    "outputId": "47c319f8-f5c5-40cd-b643-d030918f4902"
   },
   "outputs": [
    {
     "name": "stdout",
     "output_type": "stream",
     "text": [
      "number of features: 7\n"
     ]
    },
    {
     "name": "stderr",
     "output_type": "stream",
     "text": [
      "<ipython-input-57-c7910df6b02a>:2: FutureWarning: In a future version of pandas all arguments of DataFrame.drop except for the argument 'labels' will be keyword-only\n",
      "  NUM_FEATURES = len(one.drop(' C1', 1).columns)\n"
     ]
    }
   ],
   "source": [
    "# feature 변수의 개수 지정\n",
    "NUM_FEATURES = len(one.drop(' C1', 1).columns)\n",
    "print(f'number of features: {NUM_FEATURES}')"
   ]
  },
  {
   "cell_type": "markdown",
   "id": "SYB8DtT-UH_-",
   "metadata": {
    "id": "SYB8DtT-UH_-"
   },
   "source": [
    "## DS DL"
   ]
  },
  {
   "cell_type": "code",
   "execution_count": null,
   "id": "mKjUITjCYK9n",
   "metadata": {
    "id": "mKjUITjCYK9n"
   },
   "outputs": [],
   "source": [
    "# data set 생성\n",
    "\n",
    "from torch.utils.data import Dataset\n",
    "from sklearn.preprocessing import StandardScaler\n",
    "\n",
    "class CustomDataset(Dataset):\n",
    "\n",
    "  \n",
    "    def __init__(self, data, target=' C1'): # , normalize=True\n",
    "        super(CustomDataset, self).__init__()\n",
    "        self.x = data.drop(target, 1)\n",
    "        # # 데이터 표준화\n",
    "        # if normalize:\n",
    "        #scaler = StandardScaler()\n",
    "        # self.x = pd.DataFrame(scaler.fit_transform(self.x))\n",
    "        self.y = data[' C1']\n",
    "        # 텐서 변환\n",
    "        self.x = torch.tensor(self.x.values).float()\n",
    "        self.y = torch.tensor(self.y).float()\n",
    "        \n",
    "    def __len__(self):\n",
    "        return len(self.x)\n",
    "    \n",
    "    def __getitem__(self, idx):\n",
    "        x = self.x[idx]\n",
    "        y = self.y[idx]\n",
    "        return x, y"
   ]
  },
  {
   "cell_type": "code",
   "execution_count": null,
   "id": "ti1Kt2HZ1Drc",
   "metadata": {
    "id": "ti1Kt2HZ1Drc"
   },
   "outputs": [],
   "source": [
    "# train, validation, test size\n",
    "\n",
    "\n",
    "def load_data(data):\n",
    "\n",
    "  dataset = CustomDataset(data, ' C1')\n",
    "\n",
    "  dataset_size = len(dataset)\n",
    "\n",
    "  train_size = int(dataset_size * 0.8)\n",
    "\n",
    "  test_size = dataset_size - train_size \n",
    "\n",
    "\n",
    "  # validation_size = int(dataset_size * 0.1)\n",
    "  # test_size = dataset_size - train_size - validation_size\n",
    "\n",
    "  # 데이터 분할 \n",
    "  train_dataset, test_dataset = random_split(dataset, [train_size, test_size])\n",
    "\n",
    "  return train_dataset, test_dataset\n",
    "\n"
   ]
  },
  {
   "cell_type": "code",
   "execution_count": null,
   "id": "wA2cwKA4vlVi",
   "metadata": {
    "colab": {
     "base_uri": "https://localhost:8080/"
    },
    "id": "wA2cwKA4vlVi",
    "outputId": "51c0330b-0d3a-4ba2-d3b8-ecccefe7e715"
   },
   "outputs": [
    {
     "name": "stderr",
     "output_type": "stream",
     "text": [
      "<ipython-input-54-81f46267bd87>:6: FutureWarning: In a future version of pandas all arguments of DataFrame.drop except for the argument 'labels' will be keyword-only\n",
      "  self.x = data.drop(target, 1)\n"
     ]
    },
    {
     "data": {
      "text/plain": [
       "(<torch.utils.data.dataset.Subset at 0x7fcc5c7f3370>,\n",
       " <torch.utils.data.dataset.Subset at 0x7fcc5c82d850>)"
      ]
     },
     "execution_count": 60,
     "metadata": {},
     "output_type": "execute_result"
    }
   ],
   "source": [
    "load_data(one)"
   ]
  },
  {
   "cell_type": "code",
   "execution_count": null,
   "id": "Mmke4Bl4Y-oP",
   "metadata": {
    "id": "Mmke4Bl4Y-oP"
   },
   "outputs": [],
   "source": [
    "import torch.nn as nn\n",
    "import torch.optim as optim\n",
    "import torch.nn.functional as F\n",
    "\n",
    "\n",
    "\n",
    "class Net(nn.Module):\n",
    "    def __init__(self, num_features):\n",
    "        super(Net, self).__init__()\n",
    "        self.fc1 = nn.Linear(num_features, 16)\n",
    "        self.fc2 = nn.Linear(16, 8)\n",
    "        # 마지막 출력층의 Neuron은 1개로 설정\n",
    "        self.output = nn.Linear(8, 1)\n",
    "\n",
    "        self.dropout = nn.Dropout(0.5)\n",
    "\n",
    "        \n",
    "    def forward(self, x):\n",
    "        x = F.relu(self.fc1(x))\n",
    "        x = self.dropout(x)\n",
    "        x = F.relu(self.fc2(x))\n",
    "        x = self.dropout(x)\n",
    "        x = self.output(x)\n",
    "        return x"
   ]
  },
  {
   "cell_type": "markdown",
   "id": "4Pv0h95LYK6d",
   "metadata": {
    "id": "4Pv0h95LYK6d"
   },
   "source": [
    "# train, validation, test size\n",
    "\n",
    "\n",
    "dataset = CustomDataset(one, ' C1')\n",
    "\n",
    "dataset_size = len(dataset)\n",
    "train_size = int(dataset_size * 0.8)\n",
    "validation_size = int(dataset_size * 0.1)\n",
    "test_size = dataset_size - train_size - validation_size\n",
    "\n",
    "\n",
    "# train, validation, test set \n",
    "from torch.utils.data import Dataset, DataLoader, random_split\n",
    "\n",
    "# 데이터 분할 \n",
    "train_dataset, validation_dataset, test_dataset = random_split(dataset, [train_size, validation_size, test_size])\n",
    "\n",
    "print(f\"Training Data Size : {len(train_dataset)}\")\n",
    "print(f\"Validation Data Size : {len(validation_dataset)}\")\n",
    "print(f\"Testing Data Size : {len(test_dataset)}\")"
   ]
  },
  {
   "cell_type": "markdown",
   "id": "tcRTdlEHYKz6",
   "metadata": {
    "id": "tcRTdlEHYKz6"
   },
   "source": [
    "# data loader  생성\n",
    "\n",
    "\n",
    "\n",
    "train_loader = DataLoader(train_dataset, \n",
    "                          batch_size=16, \n",
    "                          shuffle=True)\n",
    "\n",
    "validation_loader = DataLoader(validation_dataset, \n",
    "                          batch_size=4, \n",
    "                          shuffle=True)\n",
    "\n",
    "\n",
    "test_loader = DataLoader(test_dataset, \n",
    "                          batch_size=4, \n",
    "                          shuffle=True)"
   ]
  },
  {
   "cell_type": "markdown",
   "id": "_Jf6eIjcYugY",
   "metadata": {
    "id": "_Jf6eIjcYugY"
   },
   "source": [
    "# Shape \n",
    "\n",
    "# train\n",
    "x, y = next(iter(train_loader))\n",
    "print(x.shape, y.shape)\n",
    "\n",
    "# validation\n",
    "x_te, y_te = next(iter(test_loader))\n",
    "print(x_te.shape, y_te.shape)\n",
    "\n",
    "# test\n",
    "x_v, y_v = next(iter(validation_loader))\n",
    "print(x_v.shape, y_v.shape)\n"
   ]
  },
  {
   "cell_type": "code",
   "execution_count": null,
   "id": "4N1hVZcSYufC",
   "metadata": {
    "colab": {
     "base_uri": "https://localhost:8080/"
    },
    "id": "4N1hVZcSYufC",
    "outputId": "6abb1fcd-8e02-4d90-b852-d8c6544700dc"
   },
   "outputs": [
    {
     "name": "stdout",
     "output_type": "stream",
     "text": [
      "cuda:0\n"
     ]
    }
   ],
   "source": [
    "# Device 설정 (cuda:0 혹은 cpu)\n",
    "device = torch.device(\"cuda:0\" if torch.cuda.is_available() else \"cpu\")\n",
    "print(device)"
   ]
  },
  {
   "cell_type": "markdown",
   "id": "82717b5f",
   "metadata": {
    "id": "82717b5f"
   },
   "source": [
    "# 모델링"
   ]
  },
  {
   "cell_type": "code",
   "execution_count": null,
   "id": "ksP588m9p8wJ",
   "metadata": {
    "colab": {
     "base_uri": "https://localhost:8080/"
    },
    "id": "ksP588m9p8wJ",
    "outputId": "cbd2c919-e900-4c1c-92d3-0deb23ffa8f8"
   },
   "outputs": [
    {
     "name": "stdout",
     "output_type": "stream",
     "text": [
      "number of features: 7\n"
     ]
    },
    {
     "name": "stderr",
     "output_type": "stream",
     "text": [
      "<ipython-input-33-7c075cf5c62a>:2: FutureWarning: In a future version of pandas all arguments of DataFrame.drop except for the argument 'labels' will be keyword-only\n",
      "  NUM_FEATURES = len(one.drop(' C1', 1).columns)\n"
     ]
    }
   ],
   "source": [
    "# feature 변수의 개수 지정\n",
    "NUM_FEATURES = len(one.drop(' C1', 1).columns)\n",
    "print(f'number of features: {NUM_FEATURES}')\n",
    "\n",
    "# model1 = Net(NUM_FEATURES)\n",
    "# # 모델을 device 에 올립니다. (cuda:0 혹은 cpu)\n",
    "# model1.to(device)\n",
    "# model1"
   ]
  },
  {
   "cell_type": "code",
   "execution_count": null,
   "id": "tl84fA3ruALc",
   "metadata": {
    "id": "tl84fA3ruALc"
   },
   "outputs": [],
   "source": [
    "\n",
    "# Mean Squared Error(MSE) 오차 정의\n",
    "loss_fn = nn.MSELoss()\n",
    "# 옵티마이저 설정: model.paramters()와 learning_rate 설정\n",
    "optimizer = optim.Adam(model2.parameters(), lr=0.005)"
   ]
  },
  {
   "cell_type": "markdown",
   "id": "quSKPsHbK21P",
   "metadata": {
    "id": "quSKPsHbK21P"
   },
   "source": [
    "## main"
   ]
  },
  {
   "cell_type": "code",
   "execution_count": null,
   "id": "32HOmfTJ349b",
   "metadata": {
    "id": "32HOmfTJ349b"
   },
   "outputs": [],
   "source": [
    "def main(data, num_samples=10, max_num_epochs=10, gpus_per_trial=2):\n",
    "    \n",
    "\n",
    "    data = load_data(data)\n",
    "\n",
    "    config = {\n",
    "        \"l1\": tune.sample_from(lambda _: 2 ** np.random.randint(2, 9)),\n",
    "        \"l2\": tune.sample_from(lambda _: 2 ** np.random.randint(2, 9)),\n",
    "        \"lr\": tune.loguniform(1e-4, 1e-1),\n",
    "        \"batch_size\": tune.choice([2, 4, 8, 16])\n",
    "    }\n",
    "    \n",
    "    scheduler = ASHAScheduler(\n",
    "        metric=\"loss\",\n",
    "        mode=\"min\",\n",
    "        max_t=max_num_epochs,\n",
    "        grace_period=1,\n",
    "        reduction_factor=2)\n",
    "    \n",
    "    reporter = CLIReporter(\n",
    "        # parameter_columns=[\"l1\", \"l2\", \"lr\", \"batch_size\"],\n",
    "        metric_columns=[\"loss\", \"accuracy\", \"training_iteration\"])\n",
    "    \n",
    "    result = tune.run(\n",
    "        partial(train_validation, data),\n",
    "        resources_per_trial={\"cpu\": 2, \"gpu\": gpus_per_trial},\n",
    "        config=config,\n",
    "        num_samples=num_samples,\n",
    "        scheduler=scheduler,\n",
    "        progress_reporter=reporter)\n",
    "\n",
    "    best_trial = result.get_best_trial(\"loss\", \"min\", \"last\")\n",
    "    print(\"Best trial config: {}\".format(best_trial.config))\n",
    "    print(\"Best trial final validation loss: {}\".format(\n",
    "        best_trial.last_result[\"loss\"]))\n",
    "    print(\"Best trial final validation accuracy: {}\".format(\n",
    "        best_trial.last_result[\"accuracy\"]))\n",
    "\n",
    "    best_trained_model = Net(best_trial.config[\"l1\"], best_trial.config[\"l2\"])\n",
    "    device = \"cpu\"\n",
    "    if torch.cuda.is_available():\n",
    "        device = \"cuda:0\"\n",
    "        if gpus_per_trial > 1:\n",
    "            best_trained_model = nn.DataParallel(best_trained_model)\n",
    "    best_trained_model.to(device)\n",
    "\n",
    "    best_checkpoint_dir = best_trial.checkpoint.value\n",
    "    model_state, optimizer_state = torch.load(os.path.join(\n",
    "        best_checkpoint_dir, \"checkpoint\"))\n",
    "    best_trained_model.load_state_dict(model_state)\n",
    "\n",
    "    test_acc = test_accuracy(best_trained_model, device)\n",
    "    print(\"Best trial test set accuracy: {}\".format(test_acc))\n",
    "\n",
    "\n",
    "# if __name__ == \"__main__\":\n",
    "#     # You can change the number of GPUs per trial here:\n",
    "\n",
    "#     data = load_data(data)\n",
    "\n",
    "#     main(data,num_samples=10, max_num_epochs=10, gpus_per_trial=0)"
   ]
  },
  {
   "cell_type": "markdown",
   "id": "2yL-pzu-K8aU",
   "metadata": {
    "id": "2yL-pzu-K8aU"
   },
   "source": [
    "## train_Validation"
   ]
  },
  {
   "cell_type": "code",
   "execution_count": null,
   "id": "HjMwrE2kPsUU",
   "metadata": {
    "id": "HjMwrE2kPsUU"
   },
   "outputs": [],
   "source": [
    "config = {\n",
    "        \"l1\": tune.sample_from(lambda _: 2 ** np.random.randint(2, 9)),\n",
    "        \"l2\": tune.sample_from(lambda _: 2 ** np.random.randint(2, 9)),\n",
    "        \"lr\": tune.loguniform(1e-4, 1e-1),\n",
    "        \"batch_size\": tune.choice([2, 4, 8, 16])\n",
    "    }"
   ]
  },
  {
   "cell_type": "code",
   "execution_count": null,
   "id": "wy-TqDr6CWYN",
   "metadata": {
    "colab": {
     "base_uri": "https://localhost:8080/"
    },
    "id": "wy-TqDr6CWYN",
    "outputId": "ebd186e8-42d5-4eff-c430-1feffdfdd2f8"
   },
   "outputs": [
    {
     "data": {
      "text/plain": [
       "<ray.tune.search.sample.Categorical at 0x7fcca9fcc070>"
      ]
     },
     "execution_count": 37,
     "metadata": {},
     "output_type": "execute_result"
    }
   ],
   "source": [
    "config[\"batch_size\"]"
   ]
  },
  {
   "cell_type": "code",
   "execution_count": null,
   "id": "I9WQg9NQrWz8",
   "metadata": {
    "id": "I9WQg9NQrWz8"
   },
   "outputs": [],
   "source": [
    "ALSdef train_validation(config, df, checkpoint_dir=None, data_dir=None):\n",
    "\n",
    "\n",
    "    \n",
    "\n",
    "\n",
    " \n",
    "\n",
    "    \n",
    "    net = Net(NUM_FEATURES)\n",
    "\n",
    "    device = torch.device(\"cuda:0\" if torch.cuda.is_available() else \"cpu\")\n",
    "\n",
    "    net.to(device)\n",
    "\n",
    "  \n",
    "    criterion = nn.CrossEntropyLoss()\n",
    "    optimizer = optim.Adam(net.parameters(), lr=0.001)\n",
    "\n",
    "    if checkpoint_dir:\n",
    "        model_state, optimizer_state = torch.load(\n",
    "            os.path.join(checkpoint_dir, \"checkpoint\"))\n",
    "        net.load_state_dict(model_state)\n",
    "        optimizer.load_state_dict(optimizer_state)\n",
    "\n",
    "    trainset, testset = load_data(df)\n",
    "\n",
    "    test_abs = int(len(trainset) * 0.8)\n",
    "    train_subset, val_subset = random_split(\n",
    "        trainset, [test_abs, len(trainset) - test_abs])\n",
    "\n",
    "    trainloader = torch.utils.data.DataLoader(\n",
    "        train_subset,\n",
    "        batch_size=32,\n",
    "        shuffle=True,\n",
    "        num_workers=8)\n",
    "    \n",
    "    valloader = torch.utils.data.DataLoader(\n",
    "        val_subset,\n",
    "        batch_size=16,\n",
    "        shuffle=True,\n",
    "        num_workers=8)\n",
    "\n",
    "    for epoch in range(10):  # loop over the dataset multiple times\n",
    "        running_loss = 0.0\n",
    "        epoch_steps = 0\n",
    "        for i, data in enumerate(trainloader, 0):\n",
    "            # get the inputs; data is a list of [inputs, labels]\n",
    "            inputs, labels = data\n",
    "            inputs, labels = inputs.to(device), labels.to(device)\n",
    "\n",
    "            # zero the parameter gradients\n",
    "            optimizer.zero_grad()\n",
    "\n",
    "            # forward + backward + optimize\n",
    "            outputs = net(inputs)\n",
    "            loss = criterion(outputs, labels)\n",
    "            loss.backward()\n",
    "            optimizer.step()\n",
    "\n",
    "            # print statistics\n",
    "            running_loss += loss.item()\n",
    "            epoch_steps += 1\n",
    "            if i % 2000 == 1999:  # print every 2000 mini-batches\n",
    "                print(\"[%d, %5d] loss: %.3f\" % (epoch + 1, i + 1,\n",
    "                                                running_loss / epoch_steps))\n",
    "                running_loss = 0.0\n",
    "\n",
    "        # Validation loss\n",
    "        val_loss = 0.0\n",
    "        val_steps = 0\n",
    "        total = 0\n",
    "        correct = 0\n",
    "        for i, data in enumerate(valloader, 0):\n",
    "            with torch.no_grad():\n",
    "                inputs, labels = data\n",
    "                inputs, labels = inputs.to(device), labels.to(device)\n",
    "\n",
    "                outputs = net(inputs)\n",
    "                _, predicted = torch.max(outputs.data, 1)\n",
    "                total += labels.size(0)\n",
    "                correct += (predicted == labels).sum().item()\n",
    "\n",
    "                loss = criterion(outputs, labels)\n",
    "                val_loss += loss.cpu().numpy()\n",
    "                val_steps += 1\n",
    "\n",
    "        with tune.checkpoint_dir(epoch) as checkpoint_dir:\n",
    "            path = os.path.join(checkpoint_dir, \"checkpoint\")\n",
    "            torch.save((net.state_dict(), optimizer.state_dict()), path)\n",
    "\n",
    "        tune.report(loss=(val_loss / val_steps), accuracy=correct / total)\n",
    "    print(\"Finished Training\")"
   ]
  },
  {
   "cell_type": "markdown",
   "id": "R7H9cFI_LAlM",
   "metadata": {
    "id": "R7H9cFI_LAlM"
   },
   "source": [
    "## test"
   ]
  },
  {
   "cell_type": "code",
   "execution_count": null,
   "id": "qmv0fnoU3i7D",
   "metadata": {
    "id": "qmv0fnoU3i7D"
   },
   "outputs": [],
   "source": [
    "def test_accuracy(net, device=\"cpu\"):\n",
    "    trainset, testset = load_data()\n",
    "\n",
    "    testloader = torch.utils.data.DataLoader(\n",
    "        testset, batch_size=4, shuffle=False, num_workers=2)\n",
    "\n",
    "    correct = 0\n",
    "    total = 0\n",
    "    \n",
    "    with torch.no_grad():\n",
    "        for data in testloader:\n",
    "            images, labels = data\n",
    "            images, labels = images.to(device), labels.to(device)\n",
    "            outputs = net(images)\n",
    "            _, predicted = torch.max(outputs.data, 1)\n",
    "            total += labels.size(0)\n",
    "            correct += (predicted == labels).sum().item()\n",
    "\n",
    "    return correct / total"
   ]
  },
  {
   "cell_type": "code",
   "execution_count": null,
   "id": "4tmVK381NHWX",
   "metadata": {
    "id": "4tmVK381NHWX"
   },
   "outputs": [],
   "source": []
  },
  {
   "cell_type": "code",
   "execution_count": null,
   "id": "vo8uu2RcNHJH",
   "metadata": {
    "id": "vo8uu2RcNHJH"
   },
   "outputs": [],
   "source": []
  },
  {
   "cell_type": "code",
   "execution_count": null,
   "id": "QGaw9gPYuZkl",
   "metadata": {
    "id": "QGaw9gPYuZkl"
   },
   "outputs": [],
   "source": [
    "# Train DNN\n",
    "\n",
    "\n",
    "# loss 기록하기 위한 list 정의\n",
    "losses = []\n",
    "size = len(train_loader.dataset)\n",
    "\n",
    "\n",
    "for epoc in range(1000):\n",
    "    running_loss = 0\n",
    "\n",
    "    for batch,(X, y) in enumerate(train_loader):\n",
    "\n",
    "        ## 1\n",
    "        yhat = model2(x)\n",
    "        ## 2\n",
    "        loss = loss_fn(yhat,y)\n",
    "        ## 3\n",
    "        loss.backward()\n",
    "        ## 4\n",
    "        optimizer.step()\n",
    "        optimizer.zero_grad()\n",
    "        # if batch % 100 == 0:\n",
    "        #   loss, current = loss.item(), batch * len(X)\n",
    "        #   print(f\"loss: {loss:>7f}  [{current:>5d}/{size:>5d}]\")\n",
    "  \n",
    "        # 배치별 loss 를 누적합산 합니다.\n",
    "        running_loss += loss.item()\n",
    "\n",
    "    # 누적합산된 배치별 loss값을 배치의 개수로 나누어 Epoch당 loss를 산출합니다.\n",
    "    loss = running_loss / len(train_loader)\n",
    "    losses.append(loss)\n",
    "\n",
    "    # 20번의 Epcoh당 출력합니다.\n",
    "    if epoc % 20 == 0:\n",
    "      \n",
    "       print(\"{0:05d} loss = {1:.5f}\".format(epoc, loss))\n",
    "    \n",
    "print(\"----\" * 15)\n",
    "print(\"{0:05d} loss = {1:.5f}\".format(epoc, loss))\n"
   ]
  },
  {
   "cell_type": "code",
   "execution_count": null,
   "id": "87L7aQHFYub1",
   "metadata": {
    "id": "87L7aQHFYub1"
   },
   "outputs": [],
   "source": [
    "model2.eval()"
   ]
  },
  {
   "cell_type": "code",
   "execution_count": null,
   "id": "HgbnRvWxYuYJ",
   "metadata": {
    "id": "HgbnRvWxYuYJ"
   },
   "outputs": [],
   "source": [
    "# 최대 반복 횟수 정의\n",
    "num_epoch = 100\n",
    "\n",
    "# loss 기록하기 위한 list 정의\n",
    "losses = []\n",
    "\n",
    "for epoch in range(num_epoch):\n",
    "    # loss 초기화\n",
    "    running_loss = 0\n",
    "    for x, y in validation_loader:\n",
    "        # x, y 데이터를 device 에 올립니다. (cuda:0 혹은 cpu)\n",
    "        x = x.to(device)\n",
    "        y = y.to(device)\n",
    "    \n",
    "        # 그라디언트 초기화 (초기화를 수행하지 않으면 계산된 그라디언트는 누적됩니다.)\n",
    "        optimizer.zero_grad()\n",
    "\n",
    "        # output 계산: model의 __call__() 함수 호출\n",
    "        y_hat =  model2(x)\n",
    "\n",
    "        # 손실(loss) 계산\n",
    "        loss = loss_fn(y, y_hat)\n",
    "\n",
    "        # 미분 계산\n",
    "        loss.backward()\n",
    "\n",
    "        # 경사하강법 계산 및 적용\n",
    "        optimizer.step()\n",
    "\n",
    "        # 배치별 loss 를 누적합산 합니다.\n",
    "        running_loss += loss.item()\n",
    "        \n",
    "    # 누적합산된 배치별 loss값을 배치의 개수로 나누어 Epoch당 loss를 산출합니다.\n",
    "    loss = running_loss / len(validation_loader)\n",
    "    losses.append(loss)\n",
    "\n",
    "    # 20번의 Epcoh당 출력합니다.\n",
    "    if epoch % 20 == 0:\n",
    "        print(\"{0:05d} loss = {1:.5f}\".format(epoch, loss))\n",
    "    \n",
    "print(\"----\" * 15)\n",
    "print(\"{0:05d} loss = {1:.5f}\".format(epoch, loss))"
   ]
  },
  {
   "cell_type": "code",
   "execution_count": null,
   "id": "xuiygYNFVBY2",
   "metadata": {
    "id": "xuiygYNFVBY2"
   },
   "outputs": [],
   "source": [
    "# 최대 반복 횟수 정의\n",
    "num_epoch = 100\n",
    "\n",
    "# loss 기록하기 위한 list 정의\n",
    "losses = []\n",
    "\n",
    "for epoch in range(num_epoch):\n",
    "    # loss 초기화\n",
    "    running_loss = 0\n",
    "    for x, y in test_loader:\n",
    "        # x, y 데이터를 device 에 올립니다. (cuda:0 혹은 cpu)\n",
    "        x = x.to(device)\n",
    "        y = y.to(device)\n",
    "    \n",
    "        # 그라디언트 초기화 (초기화를 수행하지 않으면 계산된 그라디언트는 누적됩니다.)\n",
    "        optimizer.zero_grad()\n",
    "\n",
    "        # output 계산: model의 __call__() 함수 호출\n",
    "        y_hat =  model2(x)\n",
    "\n",
    "        # 손실(loss) 계산\n",
    "        loss = loss_fn(y, y_hat)\n",
    "\n",
    "        # 미분 계산\n",
    "        loss.backward()\n",
    "\n",
    "        # 경사하강법 계산 및 적용\n",
    "        optimizer.step()\n",
    "\n",
    "        # 배치별 loss 를 누적합산 합니다.\n",
    "        running_loss += loss.item()\n",
    "        \n",
    "    # 누적합산된 배치별 loss값을 배치의 개수로 나누어 Epoch당 loss를 산출합니다.\n",
    "    loss = running_loss / len(test_loader)\n",
    "    losses.append(loss)\n",
    "\n",
    "    # 20번의 Epcoh당 출력합니다.\n",
    "    if epoch % 20 == 0:\n",
    "        print(\"{0:05d} loss = {1:.5f}\".format(epoch, loss))\n",
    "    \n",
    "print(\"----\" * 15)\n",
    "print(\"{0:05d} loss = {1:.5f}\".format(epoch, loss))"
   ]
  },
  {
   "cell_type": "code",
   "execution_count": null,
   "id": "FrwIziqUYuR6",
   "metadata": {
    "id": "FrwIziqUYuR6"
   },
   "outputs": [],
   "source": [
    "# 전체 loss 에 대한 변화량 시각화\n",
    "plt.figure(figsize=(14, 6))\n",
    "plt.plot(losses[:100], c='darkviolet', linestyle=':')\n",
    "\n",
    "plt.title('Losses over epoches', fontsize=15)\n",
    "plt.xlabel('Epochs')\n",
    "plt.ylabel('Error')\n",
    "plt.show()"
   ]
  },
  {
   "cell_type": "code",
   "execution_count": null,
   "id": "ZXo-SI3P2nnE",
   "metadata": {
    "id": "ZXo-SI3P2nnE"
   },
   "outputs": [],
   "source": [
    "# 전체 loss 에 대한 변화량 시각화\n",
    "plt.figure(figsize=(14, 6))\n",
    "plt.plot(losses[:100], c='darkviolet', linestyle=':')\n",
    "\n",
    "plt.title('Losses over epoches', fontsize=15)\n",
    "plt.xlabel('Epochs')\n",
    "plt.ylabel('Error')\n",
    "plt.show()"
   ]
  },
  {
   "cell_type": "code",
   "execution_count": null,
   "id": "vYwvvXqdkfeX",
   "metadata": {
    "id": "vYwvvXqdkfeX"
   },
   "outputs": [],
   "source": [
    "plt.figure(figsize=(14, 6))\n",
    "plt.plot(losses[:100], c='darkviolet', linestyle=':')\n",
    "\n",
    "plt.title('Losses over epoches', fontsize=15)\n",
    "plt.xlabel('Epochs')\n",
    "plt.ylabel('Error')\n",
    "plt.show()"
   ]
  },
  {
   "cell_type": "code",
   "execution_count": null,
   "id": "c3DLR3LFS-OZ",
   "metadata": {
    "id": "c3DLR3LFS-OZ"
   },
   "outputs": [],
   "source": [
    "y"
   ]
  },
  {
   "cell_type": "code",
   "execution_count": null,
   "id": "HV9MmfOwS_rB",
   "metadata": {
    "id": "HV9MmfOwS_rB"
   },
   "outputs": [],
   "source": [
    "y_hat.reshape(1,-1)"
   ]
  },
  {
   "cell_type": "code",
   "execution_count": null,
   "id": "Z2p0NvrKkqvq",
   "metadata": {
    "id": "Z2p0NvrKkqvq"
   },
   "outputs": [],
   "source": []
  },
  {
   "cell_type": "markdown",
   "id": "ki97yWNBkjQR",
   "metadata": {
    "id": "ki97yWNBkjQR"
   },
   "source": [
    "# 최대 반복 횟수 정의\n",
    "num_epoch = 200\n",
    "\n",
    "# loss 기록하기 위한 list 정의\n",
    "losses = []\n",
    "\n",
    "for epoch in range(num_epoch):\n",
    "    # loss 초기화\n",
    "    running_loss = 0\n",
    "    for x, y in train_loader:\n",
    "        # x, y 데이터를 device 에 올립니다. (cuda:0 혹은 cpu)\n",
    "        x = x.to(device)\n",
    "        y = y.to(device)\n",
    "    \n",
    "        # 그라디언트 초기화 (초기화를 수행하지 않으면 계산된 그라디언트는 누적됩니다.)\n",
    "        optimizer.zero_grad()\n",
    "\n",
    "        # output 계산: model의 __call__() 함수 호출\n",
    "        y_hat =  model(x)\n",
    "\n",
    "        # 손실(loss) 계산\n",
    "        loss = loss_fn(y, y_hat)\n",
    "\n",
    "        # 미분 계산\n",
    "        loss.backward()\n",
    "\n",
    "        # 경사하강법 계산 및 적용\n",
    "        optimizer.step()\n",
    "\n",
    "        # 배치별 loss 를 누적합산 합니다.\n",
    "        running_loss += loss.item()\n",
    "        \n",
    "    # 누적합산된 배치별 loss값을 배치의 개수로 나누어 Epoch당 loss를 산출합니다.\n",
    "    loss = running_loss / len(train_loader)\n",
    "    losses.append(loss)\n",
    "\n",
    "    # 20번의 Epcoh당 출력합니다.\n",
    "    if epoch % 20 == 0:\n",
    "        print(\"{0:05d} loss = {1:.5f}\".format(epoch, loss))\n",
    "    \n",
    "print(\"----\" * 15)\n",
    "print(\"{0:05d} loss = {1:.5f}\".format(epoch, loss))"
   ]
  },
  {
   "cell_type": "markdown",
   "id": "zHVS68oxgrfv",
   "metadata": {
    "id": "zHVS68oxgrfv"
   },
   "source": [
    "# DNN - wanb 사용 튜닝 ( 반은 성공!!)"
   ]
  },
  {
   "cell_type": "code",
   "execution_count": null,
   "id": "xVjnDOGDgrc7",
   "metadata": {
    "colab": {
     "base_uri": "https://localhost:8080/"
    },
    "id": "xVjnDOGDgrc7",
    "outputId": "0bf43ab6-1e22-4493-8f64-9d1af60c1b91"
   },
   "outputs": [
    {
     "name": "stdout",
     "output_type": "stream",
     "text": [
      "\u001b[2K     \u001b[90m━━━━━━━━━━━━━━━━━━━━━━━━━━━━━━━━━━━━━━━━\u001b[0m \u001b[32m2.0/2.0 MB\u001b[0m \u001b[31m20.6 MB/s\u001b[0m eta \u001b[36m0:00:00\u001b[0m\n",
      "\u001b[2K     \u001b[90m━━━━━━━━━━━━━━━━━━━━━━━━━━━━━━━━━━━━━━\u001b[0m \u001b[32m184.3/184.3 KB\u001b[0m \u001b[31m18.8 MB/s\u001b[0m eta \u001b[36m0:00:00\u001b[0m\n",
      "\u001b[2K     \u001b[90m━━━━━━━━━━━━━━━━━━━━━━━━━━━━━━━━━━━━━━\u001b[0m \u001b[32m181.3/181.3 KB\u001b[0m \u001b[31m18.7 MB/s\u001b[0m eta \u001b[36m0:00:00\u001b[0m\n",
      "\u001b[?25h  Preparing metadata (setup.py) ... \u001b[?25l\u001b[?25hdone\n",
      "\u001b[2K     \u001b[90m━━━━━━━━━━━━━━━━━━━━━━━━━━━━━━━━━━━━━━━━\u001b[0m \u001b[32m62.7/62.7 KB\u001b[0m \u001b[31m6.7 MB/s\u001b[0m eta \u001b[36m0:00:00\u001b[0m\n",
      "\u001b[2K     \u001b[90m━━━━━━━━━━━━━━━━━━━━━━━━━━━━━━━━━━━━━━\u001b[0m \u001b[32m140.6/140.6 KB\u001b[0m \u001b[31m13.9 MB/s\u001b[0m eta \u001b[36m0:00:00\u001b[0m\n",
      "\u001b[?25h  Building wheel for pathtools (setup.py) ... \u001b[?25l\u001b[?25hdone\n"
     ]
    }
   ],
   "source": [
    "!pip install wandb -qU"
   ]
  },
  {
   "cell_type": "code",
   "execution_count": null,
   "id": "2NKuHkwqr8Wf",
   "metadata": {
    "id": "2NKuHkwqr8Wf"
   },
   "outputs": [],
   "source": [
    "import numpy as np\n",
    "import torch\n",
    "import torch.nn as nn\n",
    "from torchvision import datasets\n",
    "from torch.utils.data import DataLoader\n",
    "import torchvision.transforms as transforms\n",
    "from tqdm.notebook import tqdm\n",
    "import wandb"
   ]
  },
  {
   "cell_type": "code",
   "execution_count": null,
   "id": "7ohg-lJCNFMN",
   "metadata": {
    "id": "7ohg-lJCNFMN"
   },
   "outputs": [],
   "source": [
    "%%capture\n",
    "!pip install wandb --upgrade"
   ]
  },
  {
   "cell_type": "code",
   "execution_count": null,
   "id": "B4Um1_RqcVQj",
   "metadata": {
    "colab": {
     "base_uri": "https://localhost:8080/"
    },
    "id": "B4Um1_RqcVQj",
    "outputId": "5b3d45e5-354f-492f-8c24-752b02745787"
   },
   "outputs": [
    {
     "name": "stdout",
     "output_type": "stream",
     "text": [
      "Looking in indexes: https://pypi.org/simple, https://us-python.pkg.dev/colab-wheels/public/simple/\n",
      "Collecting torchmetrics\n",
      "  Downloading torchmetrics-0.11.1-py3-none-any.whl (517 kB)\n",
      "\u001b[2K     \u001b[90m━━━━━━━━━━━━━━━━━━━━━━━━━━━━━━━━━━━━━━━\u001b[0m \u001b[32m517.2/517.2 KB\u001b[0m \u001b[31m7.9 MB/s\u001b[0m eta \u001b[36m0:00:00\u001b[0m\n",
      "\u001b[?25hRequirement already satisfied: numpy>=1.17.2 in /usr/local/lib/python3.8/dist-packages (from torchmetrics) (1.22.4)\n",
      "Requirement already satisfied: torch>=1.8.1 in /usr/local/lib/python3.8/dist-packages (from torchmetrics) (1.13.1+cu116)\n",
      "Requirement already satisfied: packaging in /usr/local/lib/python3.8/dist-packages (from torchmetrics) (23.0)\n",
      "Requirement already satisfied: typing-extensions in /usr/local/lib/python3.8/dist-packages (from torchmetrics) (4.5.0)\n",
      "Installing collected packages: torchmetrics\n",
      "Successfully installed torchmetrics-0.11.1\n"
     ]
    }
   ],
   "source": [
    "!pip install torchmetrics"
   ]
  },
  {
   "cell_type": "code",
   "execution_count": null,
   "id": "9DReKVaTMdXR",
   "metadata": {
    "id": "9DReKVaTMdXR"
   },
   "outputs": [],
   "source": [
    "import torch\n",
    "import torchmetrics\n",
    "from torchmetrics import R2Score"
   ]
  },
  {
   "cell_type": "code",
   "execution_count": null,
   "id": "HDF2wdjCgrZ_",
   "metadata": {
    "colab": {
     "base_uri": "https://localhost:8080/",
     "height": 71
    },
    "id": "HDF2wdjCgrZ_",
    "outputId": "01686b25-5270-4a26-ff70-009bbeeb36d1"
   },
   "outputs": [
    {
     "data": {
      "application/javascript": [
       "\n",
       "        window._wandbApiKey = new Promise((resolve, reject) => {\n",
       "            function loadScript(url) {\n",
       "            return new Promise(function(resolve, reject) {\n",
       "                let newScript = document.createElement(\"script\");\n",
       "                newScript.onerror = reject;\n",
       "                newScript.onload = resolve;\n",
       "                document.body.appendChild(newScript);\n",
       "                newScript.src = url;\n",
       "            });\n",
       "            }\n",
       "            loadScript(\"https://cdn.jsdelivr.net/npm/postmate/build/postmate.min.js\").then(() => {\n",
       "            const iframe = document.createElement('iframe')\n",
       "            iframe.style.cssText = \"width:0;height:0;border:none\"\n",
       "            document.body.appendChild(iframe)\n",
       "            const handshake = new Postmate({\n",
       "                container: iframe,\n",
       "                url: 'https://wandb.ai/authorize'\n",
       "            });\n",
       "            const timeout = setTimeout(() => reject(\"Couldn't auto authenticate\"), 5000)\n",
       "            handshake.then(function(child) {\n",
       "                child.on('authorize', data => {\n",
       "                    clearTimeout(timeout)\n",
       "                    resolve(data)\n",
       "                });\n",
       "            });\n",
       "            })\n",
       "        });\n",
       "    "
      ],
      "text/plain": [
       "<IPython.core.display.Javascript object>"
      ]
     },
     "metadata": {},
     "output_type": "display_data"
    },
    {
     "name": "stderr",
     "output_type": "stream",
     "text": [
      "\u001b[34m\u001b[1mwandb\u001b[0m: Appending key for api.wandb.ai to your netrc file: /root/.netrc\n"
     ]
    },
    {
     "data": {
      "text/plain": [
       "True"
      ]
     },
     "execution_count": 9,
     "metadata": {},
     "output_type": "execute_result"
    }
   ],
   "source": [
    "# Log in to your W&B account\n",
    "import wandb\n",
    "wandb.login()"
   ]
  },
  {
   "cell_type": "code",
   "execution_count": null,
   "id": "IdeIvlNI3SCz",
   "metadata": {
    "colab": {
     "base_uri": "https://localhost:8080/",
     "height": 144
    },
    "id": "IdeIvlNI3SCz",
    "outputId": "12d563ab-85ba-447c-ae96-db8b35e465c5"
   },
   "outputs": [
    {
     "name": "stderr",
     "output_type": "stream",
     "text": [
      "\u001b[34m\u001b[1mwandb\u001b[0m: Currently logged in as: \u001b[33mpotatopotato\u001b[0m (\u001b[33mexpect\u001b[0m). Use \u001b[1m`wandb login --relogin`\u001b[0m to force relogin\n"
     ]
    },
    {
     "data": {
      "text/html": [
       "Tracking run with wandb version 0.13.10"
      ],
      "text/plain": [
       "<IPython.core.display.HTML object>"
      ]
     },
     "metadata": {},
     "output_type": "display_data"
    },
    {
     "data": {
      "text/html": [
       "Run data is saved locally in <code>/content/wandb/run-20230223_055125-7krj0sa9</code>"
      ],
      "text/plain": [
       "<IPython.core.display.HTML object>"
      ]
     },
     "metadata": {},
     "output_type": "display_data"
    },
    {
     "data": {
      "text/html": [
       "Syncing run <strong><a href='https://wandb.ai/expect/cnc_/runs/7krj0sa9' target=\"_blank\">worldly-sky-1</a></strong> to <a href='https://wandb.ai/expect/cnc_' target=\"_blank\">Weights & Biases</a> (<a href='https://wandb.me/run' target=\"_blank\">docs</a>)<br/>"
      ],
      "text/plain": [
       "<IPython.core.display.HTML object>"
      ]
     },
     "metadata": {},
     "output_type": "display_data"
    },
    {
     "data": {
      "text/html": [
       " View project at <a href='https://wandb.ai/expect/cnc_' target=\"_blank\">https://wandb.ai/expect/cnc_</a>"
      ],
      "text/plain": [
       "<IPython.core.display.HTML object>"
      ]
     },
     "metadata": {},
     "output_type": "display_data"
    },
    {
     "data": {
      "text/html": [
       " View run at <a href='https://wandb.ai/expect/cnc_/runs/7krj0sa9' target=\"_blank\">https://wandb.ai/expect/cnc_/runs/7krj0sa9</a>"
      ],
      "text/plain": [
       "<IPython.core.display.HTML object>"
      ]
     },
     "metadata": {},
     "output_type": "display_data"
    },
    {
     "data": {
      "text/html": [
       "<button onClick=\"this.nextSibling.style.display='block';this.style.display='none';\">Display W&B run</button><iframe src='https://wandb.ai/expect/cnc_/runs/7krj0sa9?jupyter=true' style='border:none;width:100%;height:420px;display:none;'></iframe>"
      ],
      "text/plain": [
       "<wandb.sdk.wandb_run.Run at 0x7f1bc9e68040>"
      ]
     },
     "execution_count": 10,
     "metadata": {},
     "output_type": "execute_result"
    }
   ],
   "source": [
    "wandb.init(project=\"cnc_\")"
   ]
  },
  {
   "cell_type": "markdown",
   "id": "epNQ3I_aoXzN",
   "metadata": {
    "id": "epNQ3I_aoXzN"
   },
   "source": [
    "## config"
   ]
  },
  {
   "cell_type": "markdown",
   "id": "3HMruOxYzRAm",
   "metadata": {
    "id": "3HMruOxYzRAm"
   },
   "source": []
  },
  {
   "cell_type": "code",
   "execution_count": null,
   "id": "U5jHZfRX86M-",
   "metadata": {
    "id": "U5jHZfRX86M-"
   },
   "outputs": [],
   "source": [
    "cnc = pd.read_csv('/content/drive/MyDrive/cnc_line.csv', index_col=0)"
   ]
  },
  {
   "cell_type": "code",
   "execution_count": null,
   "id": "FElSK2im1AzG",
   "metadata": {
    "colab": {
     "base_uri": "https://localhost:8080/",
     "height": 424
    },
    "id": "FElSK2im1AzG",
    "outputId": "95390cec-c2cf-480a-9c4a-7b4e8a1bff9b"
   },
   "outputs": [
    {
     "data": {
      "text/html": [
       "\n",
       "  <div id=\"df-c7ffca4d-d23f-41cf-bc55-0bcd3b7c0dba\">\n",
       "    <div class=\"colab-df-container\">\n",
       "      <div>\n",
       "<style scoped>\n",
       "    .dataframe tbody tr th:only-of-type {\n",
       "        vertical-align: middle;\n",
       "    }\n",
       "\n",
       "    .dataframe tbody tr th {\n",
       "        vertical-align: top;\n",
       "    }\n",
       "\n",
       "    .dataframe thead th {\n",
       "        text-align: right;\n",
       "    }\n",
       "</style>\n",
       "<table border=\"1\" class=\"dataframe\">\n",
       "  <thead>\n",
       "    <tr style=\"text-align: right;\">\n",
       "      <th></th>\n",
       "      <th>spindle load</th>\n",
       "      <th>actual RPM</th>\n",
       "      <th>actual Feedrate</th>\n",
       "      <th>C1</th>\n",
       "      <th>try</th>\n",
       "      <th>width</th>\n",
       "      <th>line</th>\n",
       "      <th>num</th>\n",
       "    </tr>\n",
       "  </thead>\n",
       "  <tbody>\n",
       "    <tr>\n",
       "      <th>57</th>\n",
       "      <td>0</td>\n",
       "      <td>4000</td>\n",
       "      <td>700</td>\n",
       "      <td>4.2654</td>\n",
       "      <td>1</td>\n",
       "      <td>3.200</td>\n",
       "      <td>0</td>\n",
       "      <td>1.0</td>\n",
       "    </tr>\n",
       "    <tr>\n",
       "      <th>58</th>\n",
       "      <td>0</td>\n",
       "      <td>4000</td>\n",
       "      <td>700</td>\n",
       "      <td>4.2701</td>\n",
       "      <td>1</td>\n",
       "      <td>3.200</td>\n",
       "      <td>0</td>\n",
       "      <td>1.0</td>\n",
       "    </tr>\n",
       "    <tr>\n",
       "      <th>59</th>\n",
       "      <td>0</td>\n",
       "      <td>4000</td>\n",
       "      <td>700</td>\n",
       "      <td>4.2544</td>\n",
       "      <td>1</td>\n",
       "      <td>3.200</td>\n",
       "      <td>0</td>\n",
       "      <td>1.0</td>\n",
       "    </tr>\n",
       "    <tr>\n",
       "      <th>60</th>\n",
       "      <td>0</td>\n",
       "      <td>4000</td>\n",
       "      <td>700</td>\n",
       "      <td>4.2388</td>\n",
       "      <td>1</td>\n",
       "      <td>3.200</td>\n",
       "      <td>0</td>\n",
       "      <td>1.0</td>\n",
       "    </tr>\n",
       "    <tr>\n",
       "      <th>61</th>\n",
       "      <td>0</td>\n",
       "      <td>4000</td>\n",
       "      <td>700</td>\n",
       "      <td>4.2154</td>\n",
       "      <td>1</td>\n",
       "      <td>3.200</td>\n",
       "      <td>0</td>\n",
       "      <td>1.0</td>\n",
       "    </tr>\n",
       "    <tr>\n",
       "      <th>...</th>\n",
       "      <td>...</td>\n",
       "      <td>...</td>\n",
       "      <td>...</td>\n",
       "      <td>...</td>\n",
       "      <td>...</td>\n",
       "      <td>...</td>\n",
       "      <td>...</td>\n",
       "      <td>...</td>\n",
       "    </tr>\n",
       "    <tr>\n",
       "      <th>2012</th>\n",
       "      <td>0</td>\n",
       "      <td>3999</td>\n",
       "      <td>1500</td>\n",
       "      <td>4.2888</td>\n",
       "      <td>10</td>\n",
       "      <td>3.114</td>\n",
       "      <td>0</td>\n",
       "      <td>27.0</td>\n",
       "    </tr>\n",
       "    <tr>\n",
       "      <th>2013</th>\n",
       "      <td>0</td>\n",
       "      <td>4000</td>\n",
       "      <td>1500</td>\n",
       "      <td>4.2982</td>\n",
       "      <td>10</td>\n",
       "      <td>3.114</td>\n",
       "      <td>0</td>\n",
       "      <td>27.0</td>\n",
       "    </tr>\n",
       "    <tr>\n",
       "      <th>2014</th>\n",
       "      <td>0</td>\n",
       "      <td>4000</td>\n",
       "      <td>1500</td>\n",
       "      <td>4.3091</td>\n",
       "      <td>10</td>\n",
       "      <td>3.114</td>\n",
       "      <td>0</td>\n",
       "      <td>27.0</td>\n",
       "    </tr>\n",
       "    <tr>\n",
       "      <th>2015</th>\n",
       "      <td>0</td>\n",
       "      <td>3999</td>\n",
       "      <td>1500</td>\n",
       "      <td>4.3216</td>\n",
       "      <td>10</td>\n",
       "      <td>3.114</td>\n",
       "      <td>0</td>\n",
       "      <td>27.0</td>\n",
       "    </tr>\n",
       "    <tr>\n",
       "      <th>2016</th>\n",
       "      <td>0</td>\n",
       "      <td>3999</td>\n",
       "      <td>1500</td>\n",
       "      <td>4.3154</td>\n",
       "      <td>10</td>\n",
       "      <td>3.114</td>\n",
       "      <td>0</td>\n",
       "      <td>27.0</td>\n",
       "    </tr>\n",
       "  </tbody>\n",
       "</table>\n",
       "<p>864868 rows × 8 columns</p>\n",
       "</div>\n",
       "      <button class=\"colab-df-convert\" onclick=\"convertToInteractive('df-c7ffca4d-d23f-41cf-bc55-0bcd3b7c0dba')\"\n",
       "              title=\"Convert this dataframe to an interactive table.\"\n",
       "              style=\"display:none;\">\n",
       "        \n",
       "  <svg xmlns=\"http://www.w3.org/2000/svg\" height=\"24px\"viewBox=\"0 0 24 24\"\n",
       "       width=\"24px\">\n",
       "    <path d=\"M0 0h24v24H0V0z\" fill=\"none\"/>\n",
       "    <path d=\"M18.56 5.44l.94 2.06.94-2.06 2.06-.94-2.06-.94-.94-2.06-.94 2.06-2.06.94zm-11 1L8.5 8.5l.94-2.06 2.06-.94-2.06-.94L8.5 2.5l-.94 2.06-2.06.94zm10 10l.94 2.06.94-2.06 2.06-.94-2.06-.94-.94-2.06-.94 2.06-2.06.94z\"/><path d=\"M17.41 7.96l-1.37-1.37c-.4-.4-.92-.59-1.43-.59-.52 0-1.04.2-1.43.59L10.3 9.45l-7.72 7.72c-.78.78-.78 2.05 0 2.83L4 21.41c.39.39.9.59 1.41.59.51 0 1.02-.2 1.41-.59l7.78-7.78 2.81-2.81c.8-.78.8-2.07 0-2.86zM5.41 20L4 18.59l7.72-7.72 1.47 1.35L5.41 20z\"/>\n",
       "  </svg>\n",
       "      </button>\n",
       "      \n",
       "  <style>\n",
       "    .colab-df-container {\n",
       "      display:flex;\n",
       "      flex-wrap:wrap;\n",
       "      gap: 12px;\n",
       "    }\n",
       "\n",
       "    .colab-df-convert {\n",
       "      background-color: #E8F0FE;\n",
       "      border: none;\n",
       "      border-radius: 50%;\n",
       "      cursor: pointer;\n",
       "      display: none;\n",
       "      fill: #1967D2;\n",
       "      height: 32px;\n",
       "      padding: 0 0 0 0;\n",
       "      width: 32px;\n",
       "    }\n",
       "\n",
       "    .colab-df-convert:hover {\n",
       "      background-color: #E2EBFA;\n",
       "      box-shadow: 0px 1px 2px rgba(60, 64, 67, 0.3), 0px 1px 3px 1px rgba(60, 64, 67, 0.15);\n",
       "      fill: #174EA6;\n",
       "    }\n",
       "\n",
       "    [theme=dark] .colab-df-convert {\n",
       "      background-color: #3B4455;\n",
       "      fill: #D2E3FC;\n",
       "    }\n",
       "\n",
       "    [theme=dark] .colab-df-convert:hover {\n",
       "      background-color: #434B5C;\n",
       "      box-shadow: 0px 1px 3px 1px rgba(0, 0, 0, 0.15);\n",
       "      filter: drop-shadow(0px 1px 2px rgba(0, 0, 0, 0.3));\n",
       "      fill: #FFFFFF;\n",
       "    }\n",
       "  </style>\n",
       "\n",
       "      <script>\n",
       "        const buttonEl =\n",
       "          document.querySelector('#df-c7ffca4d-d23f-41cf-bc55-0bcd3b7c0dba button.colab-df-convert');\n",
       "        buttonEl.style.display =\n",
       "          google.colab.kernel.accessAllowed ? 'block' : 'none';\n",
       "\n",
       "        async function convertToInteractive(key) {\n",
       "          const element = document.querySelector('#df-c7ffca4d-d23f-41cf-bc55-0bcd3b7c0dba');\n",
       "          const dataTable =\n",
       "            await google.colab.kernel.invokeFunction('convertToInteractive',\n",
       "                                                     [key], {});\n",
       "          if (!dataTable) return;\n",
       "\n",
       "          const docLinkHtml = 'Like what you see? Visit the ' +\n",
       "            '<a target=\"_blank\" href=https://colab.research.google.com/notebooks/data_table.ipynb>data table notebook</a>'\n",
       "            + ' to learn more about interactive tables.';\n",
       "          element.innerHTML = '';\n",
       "          dataTable['output_type'] = 'display_data';\n",
       "          await google.colab.output.renderOutput(dataTable, element);\n",
       "          const docLink = document.createElement('div');\n",
       "          docLink.innerHTML = docLinkHtml;\n",
       "          element.appendChild(docLink);\n",
       "        }\n",
       "      </script>\n",
       "    </div>\n",
       "  </div>\n",
       "  "
      ],
      "text/plain": [
       "       spindle load   actual RPM   actual Feedrate      C1  try  width  line  \\\n",
       "57                0         4000               700  4.2654    1  3.200     0   \n",
       "58                0         4000               700  4.2701    1  3.200     0   \n",
       "59                0         4000               700  4.2544    1  3.200     0   \n",
       "60                0         4000               700  4.2388    1  3.200     0   \n",
       "61                0         4000               700  4.2154    1  3.200     0   \n",
       "...             ...          ...               ...     ...  ...    ...   ...   \n",
       "2012              0         3999              1500  4.2888   10  3.114     0   \n",
       "2013              0         4000              1500  4.2982   10  3.114     0   \n",
       "2014              0         4000              1500  4.3091   10  3.114     0   \n",
       "2015              0         3999              1500  4.3216   10  3.114     0   \n",
       "2016              0         3999              1500  4.3154   10  3.114     0   \n",
       "\n",
       "       num  \n",
       "57     1.0  \n",
       "58     1.0  \n",
       "59     1.0  \n",
       "60     1.0  \n",
       "61     1.0  \n",
       "...    ...  \n",
       "2012  27.0  \n",
       "2013  27.0  \n",
       "2014  27.0  \n",
       "2015  27.0  \n",
       "2016  27.0  \n",
       "\n",
       "[864868 rows x 8 columns]"
      ]
     },
     "execution_count": 12,
     "metadata": {},
     "output_type": "execute_result"
    }
   ],
   "source": [
    "cnc"
   ]
  },
  {
   "cell_type": "code",
   "execution_count": null,
   "id": "Y1WG4P7dHdPW",
   "metadata": {
    "colab": {
     "base_uri": "https://localhost:8080/"
    },
    "id": "Y1WG4P7dHdPW",
    "outputId": "24f57807-1260-4d40-f1ed-863617ef6c62"
   },
   "outputs": [
    {
     "name": "stdout",
     "output_type": "stream",
     "text": [
      "number of features: 7\n"
     ]
    },
    {
     "name": "stderr",
     "output_type": "stream",
     "text": [
      "<ipython-input-13-c99d66a9fbcf>:2: FutureWarning: In a future version of pandas all arguments of DataFrame.drop except for the argument 'labels' will be keyword-only\n",
      "  NUM_FEATURES = len(cnc.drop(' C1', 1).columns)\n"
     ]
    }
   ],
   "source": [
    "# feature 변수의 개수 지정\n",
    "NUM_FEATURES = len(cnc.drop(' C1', 1).columns)\n",
    "print(f'number of features: {NUM_FEATURES}')\n"
   ]
  },
  {
   "cell_type": "markdown",
   "id": "QXfEDF3YoMbA",
   "metadata": {
    "id": "QXfEDF3YoMbA"
   },
   "source": [
    "##CustomDataset"
   ]
  },
  {
   "cell_type": "code",
   "execution_count": null,
   "id": "_Z7sdoEKgrRl",
   "metadata": {
    "id": "_Z7sdoEKgrRl"
   },
   "outputs": [],
   "source": [
    "class CustomDataset(Dataset):\n",
    "\n",
    "  \n",
    "    def __init__(self, data, target=' C1'): # , normalize=True\n",
    "        super(CustomDataset, self).__init__()\n",
    "        self.x = data.drop(target, 1)\n",
    "        # # 데이터 표준화\n",
    "        # if normalize:\n",
    "        #scaler = StandardScaler()\n",
    "        # self.x = pd.DataFrame(scaler.fit_transform(self.x))\n",
    "        self.y = data[' C1']\n",
    "        # 텐서 변환\n",
    "        self.x = torch.tensor(self.x.values).float()\n",
    "        self.y = torch.tensor(self.y.values).float()\n",
    "        \n",
    "    def __len__(self):\n",
    "        return len(self.x)\n",
    "    \n",
    "    def __getitem__(self, idx):\n",
    "        x = self.x[idx]\n",
    "        y = self.y[idx]\n",
    "        return x, y"
   ]
  },
  {
   "cell_type": "markdown",
   "id": "qK43V-m5oP0T",
   "metadata": {
    "id": "qK43V-m5oP0T"
   },
   "source": [
    "## load_data"
   ]
  },
  {
   "cell_type": "code",
   "execution_count": null,
   "id": "QYEehdBEgrPD",
   "metadata": {
    "id": "QYEehdBEgrPD"
   },
   "outputs": [],
   "source": [
    "def load_data(data, batch_size, tbatch_size):\n",
    "\n",
    "    dataset = CustomDataset(data, ' C1')\n",
    "\n",
    "    dataset_size = len(dataset)\n",
    "\n",
    "    train_size = int(dataset_size * 0.8)\n",
    "    val_size = int(dataset_size * 0.1)\n",
    "    test_size = dataset_size - train_size - val_size\n",
    "\n",
    "    # 데이터 분할 \n",
    "    train_dataset, val_dataset, test_dataset = random_split(dataset, [train_size, val_size, test_size])\n",
    "\n",
    "    train_loader = DataLoader(train_dataset, batch_size=batch_size, shuffle=True, num_workers=0)\n",
    "    val_loader = DataLoader(val_dataset, batch_size=tbatch_size, shuffle=True, num_workers=0)\n",
    "    test_loader = DataLoader(test_dataset, batch_size=tbatch_size, shuffle=True, num_workers=0)\n",
    "\n",
    "    return train_loader, val_loader, test_loader\n"
   ]
  },
  {
   "cell_type": "markdown",
   "id": "cVmPzYVEoSUx",
   "metadata": {
    "id": "cVmPzYVEoSUx"
   },
   "source": [
    "## Net"
   ]
  },
  {
   "cell_type": "code",
   "execution_count": null,
   "id": "yhZqnv5GgrLy",
   "metadata": {
    "id": "yhZqnv5GgrLy"
   },
   "outputs": [],
   "source": [
    "class Net(nn.Module):\n",
    "  \n",
    "    def __init__(self, num_features):\n",
    "     \n",
    "        super(Net, self).__init__()\n",
    "        # self.do1 = nn.Dropout(0.8)\n",
    "        self.fc1 = nn.Linear(num_features, 2)\n",
    "        self.do2 = nn.Dropout(0.8)\n",
    "        # self.fc2 = nn.Linear(2, 16)\n",
    "        self.do3 = nn.Dropout(0.5)\n",
    "        # 마지막 출력층의 Neuron은 1개로 설정\n",
    "        self.output = nn.Linear(2, 1)\n",
    "       \n",
    "  \n",
    "    def forward(self, x):\n",
    "        # x = self.do1(x)\n",
    "        x = F.relu(self.fc1(x))\n",
    "        x = self.do2(x)\n",
    "        x = F.relu(self.fc2(x))\n",
    "        x = self.do3(x)\n",
    "        x = self.output(x)\n",
    "        \n",
    "      \n",
    "       \n",
    "\n",
    "        return x"
   ]
  },
  {
   "cell_type": "markdown",
   "id": "vqkhr5wtolgQ",
   "metadata": {
    "id": "vqkhr5wtolgQ"
   },
   "source": [
    "## EarlyStopping"
   ]
  },
  {
   "cell_type": "markdown",
   "id": "IHzLnsjfgrJM",
   "metadata": {
    "id": "IHzLnsjfgrJM"
   },
   "source": [
    "## train"
   ]
  },
  {
   "cell_type": "code",
   "execution_count": null,
   "id": "0_nolBvMNkkd",
   "metadata": {
    "colab": {
     "base_uri": "https://localhost:8080/"
    },
    "id": "0_nolBvMNkkd",
    "outputId": "7c8cff18-0ec1-4b4e-bd92-374e0c590625"
   },
   "outputs": [
    {
     "name": "stdout",
     "output_type": "stream",
     "text": [
      "Torch version:1.13.1+cu116\n",
      "cuda version: 11.6\n",
      "cudnn version:8302\n"
     ]
    }
   ],
   "source": [
    "import torch\n",
    "\n",
    "print(\"Torch version:{}\".format(torch.__version__))\n",
    "print(\"cuda version: {}\".format(torch.version.cuda))\n",
    "print(\"cudnn version:{}\".format(torch.backends.cudnn.version()))"
   ]
  },
  {
   "cell_type": "code",
   "execution_count": null,
   "id": "0aRTHGldMrij",
   "metadata": {
    "colab": {
     "base_uri": "https://localhost:8080/"
    },
    "id": "0aRTHGldMrij",
    "outputId": "86ca05d4-fdf6-455d-d761-3a2bf611554b"
   },
   "outputs": [
    {
     "data": {
      "text/plain": [
       "device(type='cpu')"
      ]
     },
     "execution_count": 18,
     "metadata": {},
     "output_type": "execute_result"
    }
   ],
   "source": [
    "device = torch.device(\"cuda:0\" if torch.cuda.is_available() else \"cpu\")\n",
    "device"
   ]
  },
  {
   "cell_type": "code",
   "execution_count": null,
   "id": "KIGu_QcYgrGP",
   "metadata": {
    "id": "KIGu_QcYgrGP"
   },
   "outputs": [],
   "source": [
    "def train(model, loader, criterion, optimizer, config):\n",
    "    # gradient, topology와 관련된 정보를 visualization 하기 위한 코드\n",
    "    \n",
    "    wandb.watch(model, criterion, log=\"all\", log_freq=10)\n",
    "    \n",
    "    \n",
    "    example_ct = 0 \n",
    "  \n",
    "  \n",
    "    for epoc in tqdm(range(config[\"epoch\"])):\n",
    "\n",
    "      cumu_loss = 0\n",
    "\n",
    "      for X, y in loader:\n",
    "\n",
    "\n",
    "            X, y = X.to(device), y.to(device)\n",
    "\n",
    "            ## 1\n",
    "            yhat = model(X)\n",
    "            ## 2\n",
    "            loss = criterion(yhat,y)\n",
    "\n",
    "            cumu_loss += loss.item()\n",
    "            ## 3\n",
    "            loss.backward()\n",
    "            ## 4\n",
    "            optimizer.step()\n",
    "            optimizer.zero_grad()\n",
    "\n",
    "            # if batch % 100 == 0:\n",
    "            #   loss, current = loss.item(), batch * len(X)\n",
    "            #   print(f\"loss: {loss:>7f}  [{current:>5d}/{size:>5d}]\")\n",
    "\n",
    "            # 배치별 loss 를 누적합산 합니다.\n",
    "            example_ct +=  loss.item()\n",
    "\n",
    "            avg_loss = cumu_loss / len(loader)\n",
    "\n",
    "      avg_loss = cumu_loss / len(loader)\n",
    "\n",
    "      #  visualization 하고 싶은 정보를 넘겨줄 수 있는 함수 \n",
    "      wandb.log({\"loss\": cumu_loss}, step=epoc)\n",
    "      print(f\"TRAIN: EPOCH {epoc + 1:04d} / | Epoch LOSS {avg_loss:.4f}]\")\n",
    "\n",
    "\n"
   ]
  },
  {
   "cell_type": "markdown",
   "id": "fKa2UgMDgrDd",
   "metadata": {
    "id": "fKa2UgMDgrDd"
   },
   "source": [
    "## test"
   ]
  },
  {
   "cell_type": "code",
   "execution_count": null,
   "id": "SzjndeuSLNRN",
   "metadata": {
    "colab": {
     "base_uri": "https://localhost:8080/",
     "height": 366
    },
    "id": "SzjndeuSLNRN",
    "outputId": "74f8d35f-eecf-4790-fc0c-8c3321d668dd"
   },
   "outputs": [
    {
     "ename": "ModuleNotFoundError",
     "evalue": "ignored",
     "output_type": "error",
     "traceback": [
      "\u001b[0;31m---------------------------------------------------------------------------\u001b[0m",
      "\u001b[0;31mModuleNotFoundError\u001b[0m                       Traceback (most recent call last)",
      "\u001b[0;32m<ipython-input-57-29143b1db62d>\u001b[0m in \u001b[0;36m<module>\u001b[0;34m\u001b[0m\n\u001b[0;32m----> 1\u001b[0;31m \u001b[0;32mfrom\u001b[0m \u001b[0mtorchmetrics\u001b[0m\u001b[0;34m.\u001b[0m\u001b[0mfunctional\u001b[0m \u001b[0;32mimport\u001b[0m \u001b[0mr2_score\u001b[0m\u001b[0;34m\u001b[0m\u001b[0;34m\u001b[0m\u001b[0m\n\u001b[0m\u001b[1;32m      2\u001b[0m \u001b[0;31m# loss = r2_score(output, target)\u001b[0m\u001b[0;34m\u001b[0m\u001b[0;34m\u001b[0m\u001b[0;34m\u001b[0m\u001b[0m\n\u001b[1;32m      3\u001b[0m \u001b[0;31m# loss.backward()\u001b[0m\u001b[0;34m\u001b[0m\u001b[0;34m\u001b[0m\u001b[0;34m\u001b[0m\u001b[0m\n",
      "\u001b[0;31mModuleNotFoundError\u001b[0m: No module named 'torchmetrics'",
      "",
      "\u001b[0;31m---------------------------------------------------------------------------\u001b[0;32m\nNOTE: If your import is failing due to a missing package, you can\nmanually install dependencies using either !pip or !apt.\n\nTo view examples of installing some common dependencies, click the\n\"Open Examples\" button below.\n\u001b[0;31m---------------------------------------------------------------------------\u001b[0m\n"
     ]
    }
   ],
   "source": [
    "from torchmetrics.functional import r2_score\n",
    "# loss = r2_score(output, target)\n",
    "# loss.backward()"
   ]
  },
  {
   "cell_type": "code",
   "execution_count": null,
   "id": "Wjt4O7SoU7Hj",
   "metadata": {
    "id": "Wjt4O7SoU7Hj"
   },
   "outputs": [],
   "source": [
    "def r2_loss(output, target):\n",
    "    target_mean = torch.mean(target)\n",
    "    ss_tot = torch.sum((target - target_mean) ** 2)\n",
    "    ss_res = torch.sum((target - output) ** 2)\n",
    "    r2 = 1 - (ss_res / ss_tot)\n",
    "    return r2\n",
    "\n"
   ]
  },
  {
   "cell_type": "code",
   "execution_count": null,
   "id": "bEm3Oedvu0Lo",
   "metadata": {
    "id": "bEm3Oedvu0Lo"
   },
   "outputs": [],
   "source": [
    "def test(model, test_loader):\n",
    "    model.eval()\n",
    "\n",
    "    with torch.no_grad():\n",
    "        correct, total = 0, 0\n",
    "        for x_test, y_test in test_loader:\n",
    "            x_test, y_test = x_test.to(device), y_test.to(device)\n",
    "\n",
    "            \n",
    "\n",
    "            y_test_hat = model(x_test)\n",
    "            y_shape = y_test.shape\n",
    "\n",
    "            y_test_hat= y_test_hat.reshape(y_shape)\n",
    "\n",
    "\n",
    "            r_square = r2_loss(y_test_hat,y_test)\n",
    "\n",
    "\n",
    "\n",
    "            # pred = outputs.max(1, keepdim = True)[1]                                       \n",
    "            # correct += pred.eq(y_test.view_as(pred)).sum().item() \n",
    "\n",
    "            \n",
    "\n",
    "            total = len(test_loader)\n",
    "\n",
    "        print(f\"Accuracy of the model on the {total} \" +\n",
    "              f\"test x_test: {r_square}\")\n",
    "        \n",
    "        wandb.log({\"test_accuracy\": r_square})\n",
    "\n",
    "    #Save the model in the exchangeable ONNX format\n",
    "    torch.onnx.export(model, x_test, \"model.onnx\")\n",
    "    wandb.save(\"model.onnx\")"
   ]
  },
  {
   "cell_type": "markdown",
   "id": "hiAUo4Q_Xor6",
   "metadata": {
    "id": "hiAUo4Q_Xor6"
   },
   "source": [
    "### 정확도 출력문제만 해결하면 된다"
   ]
  },
  {
   "cell_type": "markdown",
   "id": "t2wZQjvyX7rQ",
   "metadata": {
    "id": "t2wZQjvyX7rQ"
   },
   "source": [
    "###### WANB 링크"
   ]
  },
  {
   "cell_type": "markdown",
   "id": "-YWDkFtSXtr_",
   "metadata": {
    "id": "-YWDkFtSXtr_"
   },
   "source": [
    "https://www.youtube.com/watch?v=qlclwcoQOJU"
   ]
  },
  {
   "cell_type": "markdown",
   "id": "nmO-l1K-XtXT",
   "metadata": {
    "id": "nmO-l1K-XtXT"
   },
   "source": [
    "https://pebpung.github.io/wandb/2021/10/10/WandB-2.html"
   ]
  },
  {
   "cell_type": "markdown",
   "id": "t9y517ACgq8k",
   "metadata": {
    "id": "t9y517ACgq8k"
   },
   "source": [
    "## run"
   ]
  },
  {
   "cell_type": "code",
   "execution_count": null,
   "id": "HmJrHNjdgq5c",
   "metadata": {
    "id": "HmJrHNjdgq5c"
   },
   "outputs": [],
   "source": [
    "# # Mean Squared Error(MSE) 오차 정의\n",
    "# loss_fn = nn.MSELoss()\n",
    "# # 옵티마이저 설정: model.paramters()와 learning_rate 설정\n",
    "# optimizer = optim.Adam(model2.parameters(), lr=0.005)\n",
    "\n",
    "def run(data):\n",
    "    # project에 project 이름, \n",
    "    # entity에는 wandb의 id \n",
    "    config = {\n",
    "  \"learning_rate\": 0.001,\n",
    "  \"epoch\": 40,\n",
    "  \"batch_size\": 48,\n",
    "  \"test_batch\": 32\n",
    "}\n",
    "\n",
    "    wandb.config.update(config)\n",
    "    torch.manual_seed(0)\n",
    "    \n",
    "\n",
    "    train_loader,test_loader = load_data(data,batch_size=config[\"batch_size\"],tbatch_size=config[\"test_batch\"])\n",
    "\n",
    "    # test_loader = load_data_test(data,batch_size=config[\"test_batch\"])\n",
    "\n",
    "    model = Net(NUM_FEATURES).to(device)\n",
    "\n",
    "    criterion = nn.MSELoss()\n",
    "    optimizer = torch.optim.Adam(model.parameters(), lr=config[\"learning_rate\"])\n",
    "\n",
    "    train(model, train_loader, criterion, optimizer, config)\n",
    "\n",
    "    test(model, test_loader)\n",
    "    return model\n"
   ]
  },
  {
   "cell_type": "markdown",
   "id": "WAm4eHBUzviY",
   "metadata": {
    "id": "WAm4eHBUzviY"
   },
   "source": [
    "# sweep"
   ]
  },
  {
   "cell_type": "code",
   "execution_count": null,
   "id": "AdiJwxrxeui7",
   "metadata": {
    "id": "AdiJwxrxeui7"
   },
   "outputs": [],
   "source": [
    "from sklearn.preprocessing import MinMaxScaler"
   ]
  },
  {
   "cell_type": "code",
   "execution_count": null,
   "id": "WvFCXQakifyI",
   "metadata": {
    "id": "WvFCXQakifyI"
   },
   "outputs": [],
   "source": [
    "scaler = MinMaxScaler()"
   ]
  },
  {
   "cell_type": "markdown",
   "id": "FWiZQgyfpCtB",
   "metadata": {
    "id": "FWiZQgyfpCtB"
   },
   "source": [
    "## import"
   ]
  },
  {
   "cell_type": "code",
   "execution_count": null,
   "id": "auFWkgxMpCtB",
   "metadata": {
    "colab": {
     "base_uri": "https://localhost:8080/"
    },
    "id": "auFWkgxMpCtB",
    "outputId": "2b1f20b1-0e4b-4773-a780-d1e8af773700"
   },
   "outputs": [
    {
     "name": "stdout",
     "output_type": "stream",
     "text": [
      "Looking in indexes: https://pypi.org/simple, https://us-python.pkg.dev/colab-wheels/public/simple/\n",
      "Requirement already satisfied: torchmetrics in /usr/local/lib/python3.8/dist-packages (0.11.1)\n",
      "Requirement already satisfied: typing-extensions in /usr/local/lib/python3.8/dist-packages (from torchmetrics) (4.5.0)\n",
      "Requirement already satisfied: torch>=1.8.1 in /usr/local/lib/python3.8/dist-packages (from torchmetrics) (1.13.1+cu116)\n",
      "Requirement already satisfied: packaging in /usr/local/lib/python3.8/dist-packages (from torchmetrics) (23.0)\n",
      "Requirement already satisfied: numpy>=1.17.2 in /usr/local/lib/python3.8/dist-packages (from torchmetrics) (1.22.4)\n"
     ]
    }
   ],
   "source": [
    "!pip install wandb -qU\n",
    "!pip install torchmetrics"
   ]
  },
  {
   "cell_type": "code",
   "execution_count": null,
   "id": "sPBmLzHxpCtB",
   "metadata": {
    "colab": {
     "base_uri": "https://localhost:8080/"
    },
    "id": "sPBmLzHxpCtB",
    "outputId": "dbf0ba69-adb3-4dbf-fb86-78a5fd56ca7c"
   },
   "outputs": [
    {
     "name": "stdout",
     "output_type": "stream",
     "text": [
      "Looking in indexes: https://pypi.org/simple, https://us-python.pkg.dev/colab-wheels/public/simple/\n",
      "Requirement already satisfied: wandb in /usr/local/lib/python3.8/dist-packages (0.13.10)\n",
      "Requirement already satisfied: PyYAML in /usr/local/lib/python3.8/dist-packages (from wandb) (6.0)\n",
      "Requirement already satisfied: protobuf!=4.21.0,<5,>=3.12.0 in /usr/local/lib/python3.8/dist-packages (from wandb) (3.19.6)\n",
      "Requirement already satisfied: docker-pycreds>=0.4.0 in /usr/local/lib/python3.8/dist-packages (from wandb) (0.4.0)\n",
      "Requirement already satisfied: pathtools in /usr/local/lib/python3.8/dist-packages (from wandb) (0.1.2)\n",
      "Requirement already satisfied: requests<3,>=2.0.0 in /usr/local/lib/python3.8/dist-packages (from wandb) (2.25.1)\n",
      "Requirement already satisfied: setproctitle in /usr/local/lib/python3.8/dist-packages (from wandb) (1.3.2)\n",
      "Requirement already satisfied: sentry-sdk>=1.0.0 in /usr/local/lib/python3.8/dist-packages (from wandb) (1.15.0)\n",
      "Requirement already satisfied: GitPython>=1.0.0 in /usr/local/lib/python3.8/dist-packages (from wandb) (3.1.31)\n",
      "Requirement already satisfied: setuptools in /usr/local/lib/python3.8/dist-packages (from wandb) (57.4.0)\n",
      "Requirement already satisfied: appdirs>=1.4.3 in /usr/local/lib/python3.8/dist-packages (from wandb) (1.4.4)\n",
      "Requirement already satisfied: typing-extensions in /usr/local/lib/python3.8/dist-packages (from wandb) (4.5.0)\n",
      "Requirement already satisfied: psutil>=5.0.0 in /usr/local/lib/python3.8/dist-packages (from wandb) (5.4.8)\n",
      "Requirement already satisfied: Click!=8.0.0,>=7.0 in /usr/local/lib/python3.8/dist-packages (from wandb) (7.1.2)\n",
      "Requirement already satisfied: six>=1.4.0 in /usr/local/lib/python3.8/dist-packages (from docker-pycreds>=0.4.0->wandb) (1.15.0)\n",
      "Requirement already satisfied: gitdb<5,>=4.0.1 in /usr/local/lib/python3.8/dist-packages (from GitPython>=1.0.0->wandb) (4.0.10)\n",
      "Requirement already satisfied: idna<3,>=2.5 in /usr/local/lib/python3.8/dist-packages (from requests<3,>=2.0.0->wandb) (2.10)\n",
      "Requirement already satisfied: certifi>=2017.4.17 in /usr/local/lib/python3.8/dist-packages (from requests<3,>=2.0.0->wandb) (2022.12.7)\n",
      "Requirement already satisfied: chardet<5,>=3.0.2 in /usr/local/lib/python3.8/dist-packages (from requests<3,>=2.0.0->wandb) (4.0.0)\n",
      "Requirement already satisfied: urllib3<1.27,>=1.21.1 in /usr/local/lib/python3.8/dist-packages (from requests<3,>=2.0.0->wandb) (1.26.14)\n",
      "Requirement already satisfied: smmap<6,>=3.0.1 in /usr/local/lib/python3.8/dist-packages (from gitdb<5,>=4.0.1->GitPython>=1.0.0->wandb) (5.0.0)\n"
     ]
    }
   ],
   "source": [
    "import plotly\n",
    "import plotly.graph_objects as go\n",
    "from plotly.subplots import make_subplots\n",
    "import matplotlib.pyplot as plt\n",
    "import plotly.express as px\n",
    "import seaborn as sns\n",
    "from sklearn.decomposition import PCA\n",
    "\n",
    "from scipy.stats import skew, kurtosis\n",
    "import numpy as np\n",
    "import pandas as pd\n",
    "from glob import glob\n",
    "import os\n",
    "\n",
    "\n",
    "from sklearn.preprocessing import MinMaxScaler\n",
    "from sklearn.datasets import load_boston\n",
    "from sklearn.preprocessing import StandardScaler\n",
    "from torchmetrics import R2Score\n",
    "\n",
    "import torchvision\n",
    "import torch\n",
    "import torch.nn as nn\n",
    "import torch.nn.functional as F\n",
    "from torch.utils.data import DataLoader\n",
    "from torch.utils.data import Dataset, DataLoader, random_split\n",
    "import string\n",
    "import torch.optim as optim\n",
    "\n",
    "import torchmetrics\n",
    "from torchmetrics import R2Score\n",
    "\n",
    "\n",
    "from torchvision import datasets\n",
    "from torch.utils.data import DataLoader\n",
    "import torchvision.transforms as transforms\n",
    "from tqdm.notebook import tqdm\n",
    "import wandb\n",
    "\n",
    "import math\n",
    "\n",
    "\n",
    "!pip install wandb --upgrade\n",
    "\n"
   ]
  },
  {
   "cell_type": "code",
   "execution_count": null,
   "id": "H7P0MbsfpCtC",
   "metadata": {
    "colab": {
     "base_uri": "https://localhost:8080/"
    },
    "id": "H7P0MbsfpCtC",
    "outputId": "c2c2e91a-833b-4e9a-b3f0-1c1d44d8b799"
   },
   "outputs": [
    {
     "name": "stdout",
     "output_type": "stream",
     "text": [
      "cpu\n"
     ]
    },
    {
     "data": {
      "text/plain": [
       "device(type='cpu')"
      ]
     },
     "execution_count": 3,
     "metadata": {},
     "output_type": "execute_result"
    }
   ],
   "source": [
    "device = torch.device(\"cuda:0\" if torch.cuda.is_available() else \"cpu\")\n",
    "print(device)\n",
    "\n",
    "\n",
    "device_cpu = torch.device(\"cpu\")\n",
    "\n",
    "\n",
    "device_cpu"
   ]
  },
  {
   "cell_type": "code",
   "execution_count": null,
   "id": "37GIvn-zpCtC",
   "metadata": {
    "id": "37GIvn-zpCtC"
   },
   "outputs": [],
   "source": [
    "r2score = R2Score().to(device)"
   ]
  },
  {
   "cell_type": "code",
   "execution_count": null,
   "id": "cJE2Cxqx2_Fi",
   "metadata": {
    "id": "cJE2Cxqx2_Fi"
   },
   "outputs": [],
   "source": [
    "scaler = MinMaxScaler()"
   ]
  },
  {
   "cell_type": "markdown",
   "id": "sOWJVG2cdPg7",
   "metadata": {
    "id": "sOWJVG2cdPg7"
   },
   "source": [
    "## data  "
   ]
  },
  {
   "cell_type": "code",
   "execution_count": null,
   "id": "5t_DDHwH57ru",
   "metadata": {
    "id": "5t_DDHwH57ru"
   },
   "outputs": [],
   "source": [
    "cnc = pd.read_csv('/content/drive/MyDrive/cnc_line.csv', index_col=0)"
   ]
  },
  {
   "cell_type": "markdown",
   "id": "B4RH4hGSoESu",
   "metadata": {
    "id": "B4RH4hGSoESu"
   },
   "source": [
    "## NUM_FEATURES"
   ]
  },
  {
   "cell_type": "code",
   "execution_count": null,
   "id": "zcI5Zj402d-v",
   "metadata": {
    "colab": {
     "base_uri": "https://localhost:8080/",
     "height": 424
    },
    "id": "zcI5Zj402d-v",
    "outputId": "ae946d96-59ed-455f-a373-30bb0d05872e"
   },
   "outputs": [
    {
     "data": {
      "text/html": [
       "\n",
       "  <div id=\"df-27351dbb-b41e-4017-9ad5-0bdeb2a114ea\">\n",
       "    <div class=\"colab-df-container\">\n",
       "      <div>\n",
       "<style scoped>\n",
       "    .dataframe tbody tr th:only-of-type {\n",
       "        vertical-align: middle;\n",
       "    }\n",
       "\n",
       "    .dataframe tbody tr th {\n",
       "        vertical-align: top;\n",
       "    }\n",
       "\n",
       "    .dataframe thead th {\n",
       "        text-align: right;\n",
       "    }\n",
       "</style>\n",
       "<table border=\"1\" class=\"dataframe\">\n",
       "  <thead>\n",
       "    <tr style=\"text-align: right;\">\n",
       "      <th></th>\n",
       "      <th>spindle load</th>\n",
       "      <th>actual RPM</th>\n",
       "      <th>actual Feedrate</th>\n",
       "      <th>C1</th>\n",
       "      <th>try</th>\n",
       "      <th>width</th>\n",
       "      <th>line</th>\n",
       "      <th>num</th>\n",
       "    </tr>\n",
       "  </thead>\n",
       "  <tbody>\n",
       "    <tr>\n",
       "      <th>57</th>\n",
       "      <td>0</td>\n",
       "      <td>4000</td>\n",
       "      <td>700</td>\n",
       "      <td>4.2654</td>\n",
       "      <td>1</td>\n",
       "      <td>3.200</td>\n",
       "      <td>0</td>\n",
       "      <td>1.0</td>\n",
       "    </tr>\n",
       "    <tr>\n",
       "      <th>58</th>\n",
       "      <td>0</td>\n",
       "      <td>4000</td>\n",
       "      <td>700</td>\n",
       "      <td>4.2701</td>\n",
       "      <td>1</td>\n",
       "      <td>3.200</td>\n",
       "      <td>0</td>\n",
       "      <td>1.0</td>\n",
       "    </tr>\n",
       "    <tr>\n",
       "      <th>59</th>\n",
       "      <td>0</td>\n",
       "      <td>4000</td>\n",
       "      <td>700</td>\n",
       "      <td>4.2544</td>\n",
       "      <td>1</td>\n",
       "      <td>3.200</td>\n",
       "      <td>0</td>\n",
       "      <td>1.0</td>\n",
       "    </tr>\n",
       "    <tr>\n",
       "      <th>60</th>\n",
       "      <td>0</td>\n",
       "      <td>4000</td>\n",
       "      <td>700</td>\n",
       "      <td>4.2388</td>\n",
       "      <td>1</td>\n",
       "      <td>3.200</td>\n",
       "      <td>0</td>\n",
       "      <td>1.0</td>\n",
       "    </tr>\n",
       "    <tr>\n",
       "      <th>61</th>\n",
       "      <td>0</td>\n",
       "      <td>4000</td>\n",
       "      <td>700</td>\n",
       "      <td>4.2154</td>\n",
       "      <td>1</td>\n",
       "      <td>3.200</td>\n",
       "      <td>0</td>\n",
       "      <td>1.0</td>\n",
       "    </tr>\n",
       "    <tr>\n",
       "      <th>...</th>\n",
       "      <td>...</td>\n",
       "      <td>...</td>\n",
       "      <td>...</td>\n",
       "      <td>...</td>\n",
       "      <td>...</td>\n",
       "      <td>...</td>\n",
       "      <td>...</td>\n",
       "      <td>...</td>\n",
       "    </tr>\n",
       "    <tr>\n",
       "      <th>2012</th>\n",
       "      <td>0</td>\n",
       "      <td>3999</td>\n",
       "      <td>1500</td>\n",
       "      <td>4.2888</td>\n",
       "      <td>10</td>\n",
       "      <td>3.114</td>\n",
       "      <td>0</td>\n",
       "      <td>27.0</td>\n",
       "    </tr>\n",
       "    <tr>\n",
       "      <th>2013</th>\n",
       "      <td>0</td>\n",
       "      <td>4000</td>\n",
       "      <td>1500</td>\n",
       "      <td>4.2982</td>\n",
       "      <td>10</td>\n",
       "      <td>3.114</td>\n",
       "      <td>0</td>\n",
       "      <td>27.0</td>\n",
       "    </tr>\n",
       "    <tr>\n",
       "      <th>2014</th>\n",
       "      <td>0</td>\n",
       "      <td>4000</td>\n",
       "      <td>1500</td>\n",
       "      <td>4.3091</td>\n",
       "      <td>10</td>\n",
       "      <td>3.114</td>\n",
       "      <td>0</td>\n",
       "      <td>27.0</td>\n",
       "    </tr>\n",
       "    <tr>\n",
       "      <th>2015</th>\n",
       "      <td>0</td>\n",
       "      <td>3999</td>\n",
       "      <td>1500</td>\n",
       "      <td>4.3216</td>\n",
       "      <td>10</td>\n",
       "      <td>3.114</td>\n",
       "      <td>0</td>\n",
       "      <td>27.0</td>\n",
       "    </tr>\n",
       "    <tr>\n",
       "      <th>2016</th>\n",
       "      <td>0</td>\n",
       "      <td>3999</td>\n",
       "      <td>1500</td>\n",
       "      <td>4.3154</td>\n",
       "      <td>10</td>\n",
       "      <td>3.114</td>\n",
       "      <td>0</td>\n",
       "      <td>27.0</td>\n",
       "    </tr>\n",
       "  </tbody>\n",
       "</table>\n",
       "<p>864868 rows × 8 columns</p>\n",
       "</div>\n",
       "      <button class=\"colab-df-convert\" onclick=\"convertToInteractive('df-27351dbb-b41e-4017-9ad5-0bdeb2a114ea')\"\n",
       "              title=\"Convert this dataframe to an interactive table.\"\n",
       "              style=\"display:none;\">\n",
       "        \n",
       "  <svg xmlns=\"http://www.w3.org/2000/svg\" height=\"24px\"viewBox=\"0 0 24 24\"\n",
       "       width=\"24px\">\n",
       "    <path d=\"M0 0h24v24H0V0z\" fill=\"none\"/>\n",
       "    <path d=\"M18.56 5.44l.94 2.06.94-2.06 2.06-.94-2.06-.94-.94-2.06-.94 2.06-2.06.94zm-11 1L8.5 8.5l.94-2.06 2.06-.94-2.06-.94L8.5 2.5l-.94 2.06-2.06.94zm10 10l.94 2.06.94-2.06 2.06-.94-2.06-.94-.94-2.06-.94 2.06-2.06.94z\"/><path d=\"M17.41 7.96l-1.37-1.37c-.4-.4-.92-.59-1.43-.59-.52 0-1.04.2-1.43.59L10.3 9.45l-7.72 7.72c-.78.78-.78 2.05 0 2.83L4 21.41c.39.39.9.59 1.41.59.51 0 1.02-.2 1.41-.59l7.78-7.78 2.81-2.81c.8-.78.8-2.07 0-2.86zM5.41 20L4 18.59l7.72-7.72 1.47 1.35L5.41 20z\"/>\n",
       "  </svg>\n",
       "      </button>\n",
       "      \n",
       "  <style>\n",
       "    .colab-df-container {\n",
       "      display:flex;\n",
       "      flex-wrap:wrap;\n",
       "      gap: 12px;\n",
       "    }\n",
       "\n",
       "    .colab-df-convert {\n",
       "      background-color: #E8F0FE;\n",
       "      border: none;\n",
       "      border-radius: 50%;\n",
       "      cursor: pointer;\n",
       "      display: none;\n",
       "      fill: #1967D2;\n",
       "      height: 32px;\n",
       "      padding: 0 0 0 0;\n",
       "      width: 32px;\n",
       "    }\n",
       "\n",
       "    .colab-df-convert:hover {\n",
       "      background-color: #E2EBFA;\n",
       "      box-shadow: 0px 1px 2px rgba(60, 64, 67, 0.3), 0px 1px 3px 1px rgba(60, 64, 67, 0.15);\n",
       "      fill: #174EA6;\n",
       "    }\n",
       "\n",
       "    [theme=dark] .colab-df-convert {\n",
       "      background-color: #3B4455;\n",
       "      fill: #D2E3FC;\n",
       "    }\n",
       "\n",
       "    [theme=dark] .colab-df-convert:hover {\n",
       "      background-color: #434B5C;\n",
       "      box-shadow: 0px 1px 3px 1px rgba(0, 0, 0, 0.15);\n",
       "      filter: drop-shadow(0px 1px 2px rgba(0, 0, 0, 0.3));\n",
       "      fill: #FFFFFF;\n",
       "    }\n",
       "  </style>\n",
       "\n",
       "      <script>\n",
       "        const buttonEl =\n",
       "          document.querySelector('#df-27351dbb-b41e-4017-9ad5-0bdeb2a114ea button.colab-df-convert');\n",
       "        buttonEl.style.display =\n",
       "          google.colab.kernel.accessAllowed ? 'block' : 'none';\n",
       "\n",
       "        async function convertToInteractive(key) {\n",
       "          const element = document.querySelector('#df-27351dbb-b41e-4017-9ad5-0bdeb2a114ea');\n",
       "          const dataTable =\n",
       "            await google.colab.kernel.invokeFunction('convertToInteractive',\n",
       "                                                     [key], {});\n",
       "          if (!dataTable) return;\n",
       "\n",
       "          const docLinkHtml = 'Like what you see? Visit the ' +\n",
       "            '<a target=\"_blank\" href=https://colab.research.google.com/notebooks/data_table.ipynb>data table notebook</a>'\n",
       "            + ' to learn more about interactive tables.';\n",
       "          element.innerHTML = '';\n",
       "          dataTable['output_type'] = 'display_data';\n",
       "          await google.colab.output.renderOutput(dataTable, element);\n",
       "          const docLink = document.createElement('div');\n",
       "          docLink.innerHTML = docLinkHtml;\n",
       "          element.appendChild(docLink);\n",
       "        }\n",
       "      </script>\n",
       "    </div>\n",
       "  </div>\n",
       "  "
      ],
      "text/plain": [
       "       spindle load   actual RPM   actual Feedrate      C1  try  width  line  \\\n",
       "57                0         4000               700  4.2654    1  3.200     0   \n",
       "58                0         4000               700  4.2701    1  3.200     0   \n",
       "59                0         4000               700  4.2544    1  3.200     0   \n",
       "60                0         4000               700  4.2388    1  3.200     0   \n",
       "61                0         4000               700  4.2154    1  3.200     0   \n",
       "...             ...          ...               ...     ...  ...    ...   ...   \n",
       "2012              0         3999              1500  4.2888   10  3.114     0   \n",
       "2013              0         4000              1500  4.2982   10  3.114     0   \n",
       "2014              0         4000              1500  4.3091   10  3.114     0   \n",
       "2015              0         3999              1500  4.3216   10  3.114     0   \n",
       "2016              0         3999              1500  4.3154   10  3.114     0   \n",
       "\n",
       "       num  \n",
       "57     1.0  \n",
       "58     1.0  \n",
       "59     1.0  \n",
       "60     1.0  \n",
       "61     1.0  \n",
       "...    ...  \n",
       "2012  27.0  \n",
       "2013  27.0  \n",
       "2014  27.0  \n",
       "2015  27.0  \n",
       "2016  27.0  \n",
       "\n",
       "[864868 rows x 8 columns]"
      ]
     },
     "execution_count": 8,
     "metadata": {},
     "output_type": "execute_result"
    }
   ],
   "source": [
    "cnc"
   ]
  },
  {
   "cell_type": "code",
   "execution_count": null,
   "id": "6Ab4ydgRoESu",
   "metadata": {
    "colab": {
     "base_uri": "https://localhost:8080/"
    },
    "id": "6Ab4ydgRoESu",
    "outputId": "99143c80-59a7-44dc-cc7f-0eab5402e487"
   },
   "outputs": [
    {
     "name": "stdout",
     "output_type": "stream",
     "text": [
      "number of features: 7\n"
     ]
    },
    {
     "name": "stderr",
     "output_type": "stream",
     "text": [
      "<ipython-input-9-c99d66a9fbcf>:2: FutureWarning: In a future version of pandas all arguments of DataFrame.drop except for the argument 'labels' will be keyword-only\n",
      "  NUM_FEATURES = len(cnc.drop(' C1', 1).columns)\n"
     ]
    }
   ],
   "source": [
    "# feature 변수의 개수 지정\n",
    "NUM_FEATURES = len(cnc.drop(' C1', 1).columns)\n",
    "print(f'number of features: {NUM_FEATURES}')\n"
   ]
  },
  {
   "cell_type": "markdown",
   "id": "AVJMKJmU5foH",
   "metadata": {
    "id": "AVJMKJmU5foH"
   },
   "source": [
    "## 로그인"
   ]
  },
  {
   "cell_type": "code",
   "execution_count": null,
   "id": "vYpZU2Tz5mN-",
   "metadata": {
    "colab": {
     "base_uri": "https://localhost:8080/"
    },
    "id": "vYpZU2Tz5mN-",
    "outputId": "30e2e3eb-ce7e-437d-8562-6615fca92aa0"
   },
   "outputs": [
    {
     "name": "stderr",
     "output_type": "stream",
     "text": [
      "\u001b[34m\u001b[1mwandb\u001b[0m: Currently logged in as: \u001b[33mpotatopotato\u001b[0m (\u001b[33mexpect\u001b[0m). Use \u001b[1m`wandb login --relogin`\u001b[0m to force relogin\n"
     ]
    },
    {
     "data": {
      "text/plain": [
       "True"
      ]
     },
     "execution_count": 10,
     "metadata": {},
     "output_type": "execute_result"
    }
   ],
   "source": [
    "# Log in to your W&B account\n",
    "\n",
    "wandb.login()"
   ]
  },
  {
   "cell_type": "code",
   "execution_count": null,
   "id": "Fxm-90Xkzve-",
   "metadata": {
    "id": "Fxm-90Xkzve-"
   },
   "outputs": [],
   "source": [
    "sweep_config = {\n",
    "    'method': 'bayes'\n",
    "    }\n",
    "\n",
    "metric = {\n",
    "    'name': 'test_accuracy',\n",
    "    'goal': 'maximize',\n",
    "    'target': 0.99\n",
    "    }\n",
    "\n",
    "sweep_config['metric'] = metric\n",
    "\n",
    "early_terminate = {'type': 'hyperband','max_iter': 40, 's': 2}\n",
    "\n",
    "\n",
    "sweep_config['early_terminate'] = early_terminate\n",
    "\n",
    "parameters_dict = {\n",
    "    'optimizer': {\n",
    "        'values': ['adam']\n",
    "        },\n",
    "    # 'fc_layer_size': {\n",
    "    #     'values': [64,128, 256]\n",
    "    #     },\n",
    "    'dropout': {\n",
    "          'values': [0.1,0.2,0.3,0.4,0.5,0.6,0.7,0.8,0.9]\n",
    "        },\n",
    "    }\n",
    "\n",
    "sweep_config['parameters'] = parameters_dict\n",
    "\n",
    "\n",
    "\n"
   ]
  },
  {
   "cell_type": "code",
   "execution_count": null,
   "id": "k1Z7_KQKzvVL",
   "metadata": {
    "id": "k1Z7_KQKzvVL"
   },
   "outputs": [],
   "source": [
    "parameters_dict.update({\n",
    "    'epochs': {\n",
    "        'value': 30}\n",
    "    })"
   ]
  },
  {
   "cell_type": "code",
   "execution_count": null,
   "id": "4BPkg87_zvSV",
   "metadata": {
    "id": "4BPkg87_zvSV"
   },
   "outputs": [],
   "source": [
    "\n",
    "parameters_dict.update({\n",
    "    'learning_rate': {\n",
    "        # a flat distribution between 0 and 0.1\n",
    "        'distribution': 'uniform',\n",
    "        'min': 0,\n",
    "        'max': 0.1\n",
    "      },\n",
    "    'batch_size': {\n",
    "        # integers between 32 and 256\n",
    "        # with evenly-distributed logarithms \n",
    "        'distribution': 'q_log_uniform_values',\n",
    "        'q': 8,\n",
    "        'min': 64,\n",
    "        'max': 2048,\n",
    "      }\n",
    "\n",
    "    })"
   ]
  },
  {
   "cell_type": "code",
   "execution_count": null,
   "id": "8DOOMHQlzvPT",
   "metadata": {
    "colab": {
     "base_uri": "https://localhost:8080/"
    },
    "id": "8DOOMHQlzvPT",
    "outputId": "cc818780-7dde-42c1-81df-4263f671a9a1"
   },
   "outputs": [
    {
     "name": "stdout",
     "output_type": "stream",
     "text": [
      "{'early_terminate': {'max_iter': 40, 's': 2, 'type': 'hyperband'},\n",
      " 'method': 'bayes',\n",
      " 'metric': {'goal': 'maximize', 'name': 'test_accuracy', 'target': 0.99},\n",
      " 'parameters': {'batch_size': {'distribution': 'q_log_uniform_values',\n",
      "                               'max': 2048,\n",
      "                               'min': 64,\n",
      "                               'q': 8},\n",
      "                'dropout': {'values': [0.1,\n",
      "                                       0.2,\n",
      "                                       0.3,\n",
      "                                       0.4,\n",
      "                                       0.5,\n",
      "                                       0.6,\n",
      "                                       0.7,\n",
      "                                       0.8,\n",
      "                                       0.9]},\n",
      "                'epochs': {'value': 30},\n",
      "                'learning_rate': {'distribution': 'uniform',\n",
      "                                  'max': 0.1,\n",
      "                                  'min': 0},\n",
      "                'optimizer': {'values': ['adam']}}}\n"
     ]
    }
   ],
   "source": [
    "import pprint\n",
    "\n",
    "pprint.pprint(sweep_config)"
   ]
  },
  {
   "cell_type": "markdown",
   "id": "33uckHA3Vpaf",
   "metadata": {
    "id": "33uckHA3Vpaf"
   },
   "source": [
    "##SweepCustomDataset"
   ]
  },
  {
   "cell_type": "code",
   "execution_count": null,
   "id": "eSuoYsaTg3TF",
   "metadata": {
    "id": "eSuoYsaTg3TF"
   },
   "outputs": [],
   "source": [
    "def s_optimizer(network, optimizer, learinin_rate):\n",
    "  optimizer = optim.Adam(network.parameters(),lr = learinin_rate)\n",
    "\n",
    "  return optimizer"
   ]
  },
  {
   "cell_type": "code",
   "execution_count": null,
   "id": "mXZ0DZFN3QjM",
   "metadata": {
    "id": "mXZ0DZFN3QjM"
   },
   "outputs": [],
   "source": [
    "class sweepCustomDataset(Dataset):\n",
    "\n",
    "  \n",
    "    def __init__(self, data, target=' C1'): # , normalize=True\n",
    "        super(sweepCustomDataset, self).__init__()\n",
    "        self.x = data.drop(target, 1)\n",
    "        # # 데이터 표준화\n",
    "        # if normalize:\n",
    "        scaler = MinMaxScaler()\n",
    "        self.x = pd.DataFrame(scaler.fit_transform(self.x))\n",
    "        self.y = data[' C1']\n",
    "        # 텐서 변환\n",
    "        self.x = torch.tensor(self.x.values,requires_grad=True).float()\n",
    "        self.y = torch.tensor(self.y.values,requires_grad=True).float()\n",
    "        \n",
    "    def __len__(self):\n",
    "        return len(self.x)\n",
    "    \n",
    "    def __getitem__(self, idx):\n",
    "        x = self.x[idx]\n",
    "        y = self.y[idx]\n",
    "        return x, y"
   ]
  },
  {
   "cell_type": "markdown",
   "id": "V1TBpMHQlQQM",
   "metadata": {
    "id": "V1TBpMHQlQQM"
   },
   "source": [
    "######끝"
   ]
  },
  {
   "cell_type": "markdown",
   "id": "xthybne3VqaE",
   "metadata": {
    "id": "xthybne3VqaE"
   },
   "source": [
    "##sweepload_data"
   ]
  },
  {
   "cell_type": "code",
   "execution_count": null,
   "id": "VbAGkJQpzvDf",
   "metadata": {
    "id": "VbAGkJQpzvDf"
   },
   "outputs": [],
   "source": [
    "def sweepload_data(data, batch_size):\n",
    "\n",
    "    dataset = sweepCustomDataset(data, ' C1')\n",
    "\n",
    "    dataset_size = len(dataset)\n",
    "\n",
    "    train_size = int(dataset_size * 0.8)\n",
    "    val_size = int(dataset_size * 0.1)\n",
    "    test_size = dataset_size - train_size - val_size\n",
    "\n",
    "    # 데이터 분할 \n",
    "    train_dataset, val_dataset, test_dataset = random_split(dataset, [train_size, val_size, test_size])\n",
    "\n",
    "    train_loader = DataLoader(train_dataset, batch_size=batch_size, shuffle=True, num_workers=0)\n",
    "    val_loader = DataLoader(val_dataset, batch_size=batch_size, shuffle=True, num_workers=0)\n",
    "    test_loader = DataLoader(test_dataset, batch_size=batch_size, shuffle=True, num_workers=0)\n",
    "\n",
    "    return train_loader, val_loader, test_loader"
   ]
  },
  {
   "cell_type": "markdown",
   "id": "NNrApenjZDkI",
   "metadata": {
    "id": "NNrApenjZDkI"
   },
   "source": [
    "######끝"
   ]
  },
  {
   "cell_type": "markdown",
   "id": "rDL4bsYSZDfE",
   "metadata": {
    "id": "rDL4bsYSZDfE"
   },
   "source": [
    "## sweepNet"
   ]
  },
  {
   "cell_type": "code",
   "execution_count": null,
   "id": "cv8mbny_zvAX",
   "metadata": {
    "id": "cv8mbny_zvAX"
   },
   "outputs": [],
   "source": [
    "class sweepNet(nn.Module):\n",
    "  \n",
    "    def __init__(self, num_features,dropout):\n",
    "     \n",
    "        super(sweepNet, self).__init__()\n",
    "        # self.do1 = nn.Dropout(0.8)\n",
    "        # self.fc1 = nn.Sequential(\n",
    "            \n",
    "        #     nn.Linear(num_features, 4,bias=True),\n",
    "        #     nn.ReLU(),nn.Dropout(p =dropout) \n",
    "        # )\n",
    "        # self.fc2 = nn.Sequential(\n",
    "        #     nn.Linear(4, 2,bias=True),\n",
    "        #     nn.ReLU(),nn.Dropout(p =dropout) \n",
    "        # )\n",
    "\n",
    "        self.fc1 = nn.Linear(num_features, 16)\n",
    "        self.do1 = nn.Dropout(p =dropout)\n",
    "        self.fc2 = nn.Linear(16, 1)\n",
    "        # self.do2 = nn.Dropout(p =dropout)\n",
    "        # # 마지막 출력층의 Neuron은 1개로 설정\n",
    "        \n",
    "        # self.output = nn.Linear(512, 1)\n",
    "        \n",
    "        self.relu = torch.nn.LeakyReLU()\n",
    "        self.bn1 = nn.BatchNorm1d(16)\n",
    "        # self.bn2 = nn.BatchNorm1d(512)\n",
    "        # self.bn3 = nn.BatchNorm1d(32)\n",
    "\n",
    "\n",
    "\n",
    "    def forward(self, x):\n",
    "        \n",
    "        x = self.fc1(x)\n",
    "        x = self.bn1(x)\n",
    "        x = self.relu(x)\n",
    "        x = self.do1(x)\n",
    "\n",
    "        \n",
    "        x = self.fc2(x)\n",
    "        # x = self.bn2(x)\n",
    "        # x = self.relu(x)\n",
    "\n",
    "        # x = self.do2(x)\n",
    "\n",
    "\n",
    "        # x=  self.bn2(x)\n",
    "        # x = F.relu(self.fc3(x))\n",
    "        \n",
    "        # x = self.output(x)\n",
    "     \n",
    "\n",
    "        # x = self.do1(x)\n",
    "        # x1 = F.relu(self.fc1(x))\n",
    "        # x2 = self.do2(x1)\n",
    "        # x3 = F.relu(self.fc2(x2))\n",
    "        # x4 = self.do3(x3)\n",
    "        # x5 = self.output(x4)\n",
    "\n",
    "        return x\n"
   ]
  },
  {
   "cell_type": "markdown",
   "id": "IO2qyApBlvfu",
   "metadata": {
    "id": "IO2qyApBlvfu"
   },
   "source": [
    "#### 끝"
   ]
  },
  {
   "cell_type": "markdown",
   "id": "Ft8BujqWZA36",
   "metadata": {
    "id": "Ft8BujqWZA36"
   },
   "source": [
    "## sweeptrain"
   ]
  },
  {
   "cell_type": "code",
   "execution_count": null,
   "id": "H138eIZpYpiV",
   "metadata": {
    "id": "H138eIZpYpiV"
   },
   "outputs": [],
   "source": [
    "def sweeptrain(model, trainloader,criterion, optimizer, config, wandb):\n",
    "    # gradient, topology와 관련된 정보를 visualization 하기 위한 코드\n",
    "    \n",
    "   \n",
    "    \n",
    "    wandb.watch(model, criterion, log=\"all\", log_freq=10)\n",
    "    example_ct = 0 \n",
    "   \n",
    "  \n",
    "    for epoc in tqdm(range(config.epochs)):\n",
    "\n",
    "      cumu_loss = 0\n",
    "      model.train()\n",
    "      \n",
    "\n",
    "      for X, y in trainloader:\n",
    "\n",
    "            X, y = X.to(device), y.to(device)\n",
    "           \n",
    "            \n",
    "\n",
    "            optimizer.zero_grad()\n",
    "           \n",
    "\n",
    "            ## 1\n",
    "            yhat = model(X)\n",
    "            ## 2\n",
    "            y = y.reshape(-1,1)\n",
    "            loss = criterion(yhat,y)\n",
    "\n",
    "            cumu_loss += loss.item()\n",
    "            ## 3\n",
    "            loss.backward()\n",
    "            ## 4\n",
    "            optimizer.step()\n",
    "\n",
    "           \n",
    "\n",
    "            example_ct +=  loss.item()\n",
    "\n",
    "      avg_loss = cumu_loss / len(trainloader)\n",
    "\n",
    "\n",
    "\n",
    "\n",
    "   \n",
    "\n",
    "      #  visualization 하고 싶은 정보를 넘겨줄 수 있는 함수 \n",
    "      wandb.log({\"loss\": cumu_loss}, step=epoc)\n",
    "     \n",
    "      \n",
    "\n",
    "      print(f\"TRAIN: EPOCH {epoc + 1:04d} / | Epoch LOSS {avg_loss:.4f}]\")\n",
    "\n",
    "\n",
    "\n"
   ]
  },
  {
   "cell_type": "code",
   "execution_count": null,
   "id": "hpsJF6E04lMK",
   "metadata": {
    "id": "hpsJF6E04lMK"
   },
   "outputs": [],
   "source": [
    "def sweeptrain_valid(model, trainloader, validloader, criterion, optimizer, config, wandb):\n",
    "    # gradient, topology와 관련된 정보를 visualization 하기 위한 코드\n",
    "\n",
    "    wandb.watch(model, criterion, log=\"all\", log_freq=10)\n",
    "    example_ct = 0 \n",
    "    \n",
    "    best_loss = float('inf')\n",
    "    early_stop_count = 0\n",
    "    early_stop_patience = 5  # 조기 종료를 위한 patience 값\n",
    "\n",
    "    for epoch in tqdm(range(config.epochs)):\n",
    "        cumu_loss = 0\n",
    "        model.train()\n",
    "        for X, y in trainloader:\n",
    "            X, y = X.to(device), y.to(device)\n",
    "            optimizer.zero_grad()\n",
    "            yhat = model(X)\n",
    "            y = y.reshape(-1, 1)\n",
    "            loss = criterion(yhat, y)\n",
    "            cumu_loss += loss.item()\n",
    "            loss.backward()\n",
    "            optimizer.step()\n",
    "            example_ct +=  loss.item()\n",
    "\n",
    "        avg_loss = cumu_loss / len(trainloader)\n",
    "        \n",
    "        # validation loss 계산\n",
    "        model.eval()\n",
    "        cumu_val_loss = 0\n",
    "        with torch.no_grad():\n",
    "            for X_val, y_val in validloader:\n",
    "                X_val, y_val = X_val.to(device), y_val.to(device)\n",
    "                yhat_val = model(X_val)\n",
    "                y_val = y_val.reshape(-1, 1)\n",
    "                val_loss = criterion(yhat_val, y_val)\n",
    "                cumu_val_loss += val_loss.item()\n",
    "        avg_val_loss = cumu_val_loss / len(validloader)\n",
    "        \n",
    "        # validation loss를 이용한 조기 종료 판단\n",
    "        if avg_val_loss < best_loss:\n",
    "            best_loss = avg_val_loss\n",
    "            early_stop_count = 0\n",
    "        else:\n",
    "            early_stop_count += 1\n",
    "            if early_stop_count == early_stop_patience:\n",
    "                print(f\"Validation loss did not improve for {early_stop_patience} epochs. Early stopping...\")\n",
    "                break\n",
    "\n",
    "        wandb.log({\"loss\": avg_loss, \"val_loss\": avg_val_loss}, step=epoch)\n",
    "        \n",
    "        print(f\"TRAIN: EPOCH {epoch + 1:04d} / | Epoch LOSS {avg_loss:.4f} / | Val LOSS {avg_val_loss:.4f}\")\n"
   ]
  },
  {
   "cell_type": "markdown",
   "id": "vkMnmRkvn5ma",
   "metadata": {
    "id": "vkMnmRkvn5ma"
   },
   "source": [
    "#### 끝"
   ]
  },
  {
   "cell_type": "markdown",
   "id": "XXugDNIWoY-H",
   "metadata": {
    "id": "XXugDNIWoY-H"
   },
   "source": [
    "##sweeptest"
   ]
  },
  {
   "cell_type": "markdown",
   "id": "R4ZYhuAkoEAq",
   "metadata": {
    "id": "R4ZYhuAkoEAq"
   },
   "source": [
    "def r2_loss(output, target):\n",
    "    target_mean = torch.mean(target)\n",
    "    ss_tot = torch.sum((target - target_mean) ** 2)\n",
    "    ss_res = torch.sum((target - output) ** 2)\n",
    "    r2 = 1 - (ss_res / ss_tot)\n",
    "    return r2\n",
    "\n"
   ]
  },
  {
   "cell_type": "code",
   "execution_count": null,
   "id": "aPZhDZGIoD7q",
   "metadata": {
    "id": "aPZhDZGIoD7q"
   },
   "outputs": [],
   "source": [
    "def sweeptest(model, test_loader,wandb):\n",
    "    y =[]\n",
    "    hat=[]\n",
    "    r=[]\n",
    "    model.eval()\n",
    "    with torch.no_grad():\n",
    "        correct, total = 0, 0\n",
    "        for x_test, y_test in test_loader:\n",
    "\n",
    "            x_test, y_test = x_test.to(device), y_test.to(device)\n",
    "           \n",
    "            y.append(y_test)\n",
    "\n",
    "            y_test_hat = model(x_test)\n",
    "\n",
    "            \n",
    "            y_shape = y_test.shape\n",
    "\n",
    "            y_test_hat= y_test_hat.reshape(y_shape)\n",
    "\n",
    "            hat.append(y_test_hat)\n",
    "\n",
    "            r_square = r2score(y_test_hat,y_test)\n",
    "            r.append(r_square)\n",
    "\n",
    "\n",
    "            # pred = outputs.max(1, keepdim = True)[1]                                       \n",
    "            # correct += pred.eq(y_test.view_as(pred)).sum().item() \n",
    "\n",
    "           \n",
    "        print(f\"Accuracy of the model on the {total} \" +\n",
    "              f\"test x_test: {r_square}\")\n",
    "        \n",
    "\n",
    "\n",
    "        # Make the plot\n",
    "        # y_test= y_test.detach().numpy()\n",
    "\n",
    "        # y_test_hat= y_test_hat.detach().numpy()\n",
    "\n",
    "        y_test, y_test_hat = y_test.to(device_cpu), y_test_hat.to(device_cpu)\n",
    "        fig, ax = plt.subplots()\n",
    "        x_len = range(len(y_test))\n",
    "        ax.plot(x_len, y_test, '*-')\n",
    "        ax.plot(x_len, y_test_hat, 'o--')\n",
    "\n",
    "        # Log the plot\n",
    "        wandb.log({\"plot\": fig})\n",
    "        fig\n",
    "        \n",
    "        # x_len = range(len(target))\n",
    "        # plt.figure(figsize=(20,8))\n",
    "        # plt.plot(x_len, target, 'o-')\n",
    "        # plt.plot(x_len, preds, 'o--')\n",
    "\n",
    "        # # Log the plot\n",
    "        # wandb.log({\"plot\": fig})\n",
    "        # wandb.finish()\n",
    "        # fig\n",
    "        \n",
    "\n",
    "        \n",
    "        wandb.log({\"test_accuracy\": r_square})\n",
    "\n",
    "    #Save the model in the exchangeable ONNX format\n",
    "    torch.onnx.export(model, x_test, \"model.onnx\")\n",
    "    wandb.save(\"model.onnx\")\n",
    "\n",
    "    return"
   ]
  },
  {
   "cell_type": "markdown",
   "id": "-ewLZrzsoD6K",
   "metadata": {
    "id": "-ewLZrzsoD6K"
   },
   "source": [
    "#### 끝"
   ]
  },
  {
   "cell_type": "markdown",
   "id": "vkoFMHTtiz4T",
   "metadata": {
    "id": "vkoFMHTtiz4T"
   },
   "source": [
    "## sweeprun"
   ]
  },
  {
   "cell_type": "code",
   "execution_count": null,
   "id": "cYHU4M0v43T3",
   "metadata": {
    "id": "cYHU4M0v43T3"
   },
   "outputs": [],
   "source": [
    "sweeptrain_valid"
   ]
  },
  {
   "cell_type": "code",
   "execution_count": null,
   "id": "dthJW6p8Yqym",
   "metadata": {
    "id": "dthJW6p8Yqym"
   },
   "outputs": [],
   "source": [
    "def sweeprun_ori(config = None):\n",
    " \n",
    "    torch.manual_seed(42)\n",
    "    \n",
    "\n",
    "    wandb.init(config= config)\n",
    "    w_config = wandb.config\n",
    "  \n",
    "\n",
    "    # wandb.config.update(config)\n",
    "    \n",
    "    data = cnc\n",
    "\n",
    "    train_loader,val_loader,test_loader = sweepload_data(data,w_config.batch_size)\n",
    "\n",
    "    # test_loader = load_data_test(data,batch_size=config[\"test_batch\"])\n",
    "\n",
    "    model = sweepNet(NUM_FEATURES,w_config.dropout).to(device)\n",
    "\n",
    "    criterion = nn.MSELoss().to(device)\n",
    "    # optimizer = torch.optim.Adam(model.parameters(), lr=config[\"learning_rate\"])\n",
    "\n",
    "    optimizer= s_optimizer(model,w_config.optimizer, w_config.learning_rate)\n",
    "\n",
    "    sweeptrain_valid(model, train_loader,val_loader,criterion, optimizer, w_config, wandb)\n",
    "\n",
    "    sweeptest(model, test_loader,wandb)\n",
    "\n",
    "\n",
    "\n",
    "    return model\n",
    "\n",
    "\n",
    "\n",
    "\n",
    "\n"
   ]
  },
  {
   "cell_type": "code",
   "execution_count": null,
   "id": "j4zbJ00H1D6y",
   "metadata": {
    "id": "j4zbJ00H1D6y"
   },
   "outputs": [],
   "source": [
    "parameters_dict.update({\n",
    "    'epochs': {\n",
    "        'value': 30\n",
    "    }})\n",
    "\n",
    "parameters_dict.update({\n",
    "    'dropout': {\n",
    "        'values': [0.1,0.2,0.3,0.4,0.5,0.6,0.7,0.8,0.9]\n",
    "    }})\n",
    "\n",
    "parameters_dict.update({\n",
    "    'learning_rate': {'distribution': 'uniform', 'min': 0, 'max': 0.1},\n",
    "\n",
    "    'batch_size': {'distribution': 'q_log_uniform_values',\n",
    "   'q': 8,\n",
    "   'min': 16,\n",
    "   'max': 524}\n",
    "\n",
    "    \n",
    "    \n",
    "    \n",
    "  })"
   ]
  },
  {
   "cell_type": "code",
   "execution_count": null,
   "id": "im2H60RDXX8C",
   "metadata": {
    "colab": {
     "base_uri": "https://localhost:8080/"
    },
    "id": "im2H60RDXX8C",
    "outputId": "afd8dc92-e871-464b-8b94-30da77cf52e8"
   },
   "outputs": [
    {
     "data": {
      "text/plain": [
       "{'method': 'bayes',\n",
       " 'metric': {'name': 'test_accuracy', 'goal': 'maximize', 'target': 0.99},\n",
       " 'early_terminate': {'type': 'hyperband', 'max_iter': 40, 's': 2},\n",
       " 'parameters': {'optimizer': {'values': ['adam']},\n",
       "  'dropout': {'values': [0.1, 0.2, 0.3, 0.4, 0.5, 0.6, 0.7, 0.8, 0.9]},\n",
       "  'epochs': {'value': 30},\n",
       "  'learning_rate': {'distribution': 'uniform', 'min': 0, 'max': 0.1},\n",
       "  'batch_size': {'distribution': 'q_log_uniform_values',\n",
       "   'q': 8,\n",
       "   'min': 16,\n",
       "   'max': 524}}}"
      ]
     },
     "execution_count": 25,
     "metadata": {},
     "output_type": "execute_result"
    }
   ],
   "source": [
    "sweep_config"
   ]
  },
  {
   "cell_type": "code",
   "execution_count": null,
   "id": "ykOSDRKL6hbV",
   "metadata": {
    "colab": {
     "base_uri": "https://localhost:8080/"
    },
    "id": "ykOSDRKL6hbV",
    "outputId": "52e94c97-f295-482b-c7cf-6f5d82eff2a5"
   },
   "outputs": [
    {
     "name": "stdout",
     "output_type": "stream",
     "text": [
      "Create sweep with ID: 7y5ci3jv\n",
      "Sweep URL: https://wandb.ai/expect/cnc_/sweeps/7y5ci3jv\n"
     ]
    }
   ],
   "source": [
    "sweep_id = wandb.sweep(sweep_config, project=\"cnc_\")"
   ]
  },
  {
   "cell_type": "code",
   "execution_count": null,
   "id": "RE8LQAIpYqp3",
   "metadata": {
    "colab": {
     "base_uri": "https://localhost:8080/",
     "height": 337,
     "referenced_widgets": [
      "7711a82ffd6d428d842157657194dafe",
      "86d4ee313aff435daff21ef711f525de",
      "60e5df55f10445b19a72826368b6ab1c",
      "889a031f8c634ee59360b3e3a136ddb6",
      "bb645168f04347f589cb91636aadcbaa",
      "c4e2caa05fe2464ab979b5ada9d0ff8a",
      "c5f4dda333944abebd8f659217b8e3b6",
      "410f1bc4a9a144bc82c1dd77146f01b4",
      "0f76616235564ef58448318d40bf0332",
      "28bd62440c1f46b9a59a8d8acdf43fac",
      "56328f03aa9541ce903736dabc0715de"
     ]
    },
    "id": "RE8LQAIpYqp3",
    "outputId": "78c2e8d2-f8a7-44f9-f43e-1a73c96f6d62"
   },
   "outputs": [
    {
     "name": "stderr",
     "output_type": "stream",
     "text": [
      "\u001b[34m\u001b[1mwandb\u001b[0m: Agent Starting Run: iuao731s with config:\n",
      "\u001b[34m\u001b[1mwandb\u001b[0m: \tbatch_size: 112\n",
      "\u001b[34m\u001b[1mwandb\u001b[0m: \tdropout: 0.2\n",
      "\u001b[34m\u001b[1mwandb\u001b[0m: \tepochs: 30\n",
      "\u001b[34m\u001b[1mwandb\u001b[0m: \tlearning_rate: 0.0842688116727207\n",
      "\u001b[34m\u001b[1mwandb\u001b[0m: \toptimizer: adam\n"
     ]
    },
    {
     "data": {
      "text/html": [
       "Tracking run with wandb version 0.13.10"
      ],
      "text/plain": [
       "<IPython.core.display.HTML object>"
      ]
     },
     "metadata": {},
     "output_type": "display_data"
    },
    {
     "data": {
      "text/html": [
       "Run data is saved locally in <code>/content/wandb/run-20230223_062457-iuao731s</code>"
      ],
      "text/plain": [
       "<IPython.core.display.HTML object>"
      ]
     },
     "metadata": {},
     "output_type": "display_data"
    },
    {
     "data": {
      "text/html": [
       "Syncing run <strong><a href='https://wandb.ai/expect/cnc_/runs/iuao731s' target=\"_blank\">scarlet-sweep-19</a></strong> to <a href='https://wandb.ai/expect/cnc_' target=\"_blank\">Weights & Biases</a> (<a href='https://wandb.me/run' target=\"_blank\">docs</a>)<br/>Sweep page: <a href='https://wandb.ai/expect/cnc_/sweeps/7y5ci3jv' target=\"_blank\">https://wandb.ai/expect/cnc_/sweeps/7y5ci3jv</a>"
      ],
      "text/plain": [
       "<IPython.core.display.HTML object>"
      ]
     },
     "metadata": {},
     "output_type": "display_data"
    },
    {
     "data": {
      "text/html": [
       " View project at <a href='https://wandb.ai/expect/cnc_' target=\"_blank\">https://wandb.ai/expect/cnc_</a>"
      ],
      "text/plain": [
       "<IPython.core.display.HTML object>"
      ]
     },
     "metadata": {},
     "output_type": "display_data"
    },
    {
     "data": {
      "text/html": [
       " View sweep at <a href='https://wandb.ai/expect/cnc_/sweeps/7y5ci3jv' target=\"_blank\">https://wandb.ai/expect/cnc_/sweeps/7y5ci3jv</a>"
      ],
      "text/plain": [
       "<IPython.core.display.HTML object>"
      ]
     },
     "metadata": {},
     "output_type": "display_data"
    },
    {
     "data": {
      "text/html": [
       " View run at <a href='https://wandb.ai/expect/cnc_/runs/iuao731s' target=\"_blank\">https://wandb.ai/expect/cnc_/runs/iuao731s</a>"
      ],
      "text/plain": [
       "<IPython.core.display.HTML object>"
      ]
     },
     "metadata": {},
     "output_type": "display_data"
    },
    {
     "name": "stderr",
     "output_type": "stream",
     "text": [
      "<ipython-input-32-02ecdc945a92>:6: FutureWarning: In a future version of pandas all arguments of DataFrame.drop except for the argument 'labels' will be keyword-only\n",
      "  self.x = data.drop(target, 1)\n"
     ]
    },
    {
     "data": {
      "application/vnd.jupyter.widget-view+json": {
       "model_id": "7711a82ffd6d428d842157657194dafe",
       "version_major": 2,
       "version_minor": 0
      },
      "text/plain": [
       "  0%|          | 0/30 [00:00<?, ?it/s]"
      ]
     },
     "metadata": {},
     "output_type": "display_data"
    },
    {
     "name": "stderr",
     "output_type": "stream",
     "text": [
      "\u001b[34m\u001b[1mwandb\u001b[0m: Ctrl + C detected. Stopping sweep.\n"
     ]
    }
   ],
   "source": [
    "wandb.agent(sweep_id, sweeprun_ori, count=100)"
   ]
  },
  {
   "cell_type": "code",
   "execution_count": null,
   "id": "rEO7iCIkPS_j",
   "metadata": {
    "id": "rEO7iCIkPS_j"
   },
   "outputs": [],
   "source": []
  },
  {
   "cell_type": "code",
   "execution_count": null,
   "id": "5pClthGPWKct",
   "metadata": {
    "id": "5pClthGPWKct"
   },
   "outputs": [],
   "source": []
  },
  {
   "cell_type": "code",
   "execution_count": null,
   "id": "C8M-SkWSYBEN",
   "metadata": {
    "id": "C8M-SkWSYBEN"
   },
   "outputs": [],
   "source": []
  },
  {
   "cell_type": "code",
   "execution_count": null,
   "id": "q3NOn4vN4tAO",
   "metadata": {
    "id": "q3NOn4vN4tAO"
   },
   "outputs": [],
   "source": []
  },
  {
   "cell_type": "code",
   "execution_count": null,
   "id": "MT18D8UlG2qD",
   "metadata": {
    "id": "MT18D8UlG2qD"
   },
   "outputs": [],
   "source": []
  },
  {
   "cell_type": "code",
   "execution_count": null,
   "id": "r3e6wZApDdZ2",
   "metadata": {
    "colab": {
     "base_uri": "https://localhost:8080/"
    },
    "id": "r3e6wZApDdZ2",
    "outputId": "8642ff14-df3c-4bc0-cbfa-b0af475738e9"
   },
   "outputs": [
    {
     "data": {
      "text/plain": [
       "{'method': 'bayes',\n",
       " 'metric': {'name': 'loss', 'goal': 'minimize'},\n",
       " 'early_terminate': {'type': 'hyperband', 'max_iter': 40, 's': 2},\n",
       " 'parameters': {'optimizer': {'values': ['adam']},\n",
       "  'dropout': {'value': 0.5},\n",
       "  'epochs': {'value': 16},\n",
       "  'learning_rate': {'distribution': 'uniform', 'min': 0.02, 'max': 0.1},\n",
       "  'batch_size': {'distribution': 'q_log_uniform_values',\n",
       "   'q': 8,\n",
       "   'min': 720,\n",
       "   'max': 2048}}}"
      ]
     },
     "execution_count": 132,
     "metadata": {},
     "output_type": "execute_result"
    }
   ],
   "source": [
    "sweep_config"
   ]
  },
  {
   "cell_type": "markdown",
   "id": "puDzfNHswR8X",
   "metadata": {
    "id": "puDzfNHswR8X"
   },
   "source": []
  },
  {
   "cell_type": "code",
   "execution_count": null,
   "id": "vyKIJ1jP0vXl",
   "metadata": {
    "id": "vyKIJ1jP0vXl"
   },
   "outputs": [],
   "source": [
    "def sweeprun(data,config = None):\n",
    "    # project에 project 이름, \n",
    "    # entity에는 wandb의 id \n",
    "\n",
    "    wandb.init(project='test', config= config)\n",
    "    w_config = wandb.config\n",
    "    # wandb.config.update(config)\n",
    "    torch.manual_seed(0)\n",
    "    \n",
    "    train_loader,test_loader = sweepload_data(data,batch_size=w_config.batch_size,tbatch_size=w_config.batch_size)\n",
    "\n",
    "    # test_loader = load_data_test(data,batch_size=config[\"test_batch\"])\n",
    "\n",
    "    model = sweepNet(NUM_FEATURES,w_config['parameters']['dropout']['values']).to(device)\n",
    "\n",
    "    criterion = nn.MSELoss()\n",
    "    # optimizer = torch.optim.Adam(model.parameters(), lr=config[\"learning_rate\"])\n",
    "\n",
    "    optimizer= s_optimizer(model,w_config[\"optimizer\"], w_config[\"learning_rate\"])\n",
    "\n",
    "    sweeptrain(model, train_loader, criterion, optimizer, config,wandb)\n",
    "\n",
    "    sweeptest(model, test_loader,wandb)\n",
    "    return model"
   ]
  },
  {
   "cell_type": "markdown",
   "id": "CR_ET3XyOU2h",
   "metadata": {
    "id": "CR_ET3XyOU2h"
   },
   "source": [
    "# 참고용"
   ]
  },
  {
   "cell_type": "code",
   "execution_count": null,
   "id": "yEgUznUVOUxx",
   "metadata": {
    "id": "yEgUznUVOUxx"
   },
   "outputs": [],
   "source": [
    "from torchvision import datasets, transforms\n",
    "from torch.utils.data import DataLoader\n",
    "import torch\n",
    "import torch.nn as nn\n",
    "import torch.optim as optim\n",
    "import wandb\n",
    "import math\n",
    "DEVICE = \"cuda\" if torch.cuda.is_available() else \"cpu\""
   ]
  },
  {
   "cell_type": "code",
   "execution_count": null,
   "id": "oCtuPcO7ShFm",
   "metadata": {
    "id": "oCtuPcO7ShFm"
   },
   "outputs": [],
   "source": [
    "sweep_config = {\n",
    "    'name' : 'bayes-test',\n",
    "    'method': 'random',\n",
    "    'metric' : {\n",
    "        'name': 'val_loss',\n",
    "        'goal': 'minimize'   \n",
    "        },\n",
    "    'parameters' : {\n",
    "        'optimizer': {\n",
    "            'values': ['adam', 'sgd']\n",
    "            },\n",
    "        'dropout': {\n",
    "            'values': [0.3, 0.4]\n",
    "            },\n",
    "        'learning_rate': {\n",
    "            'distribution': 'uniform',\n",
    "            'min': 0,\n",
    "            'max': 0.1\n",
    "            },\n",
    "        'epochs': {\n",
    "            'values': [5, 6]\n",
    "            },\n",
    "        'batch_size': {\n",
    "            'distribution': 'q_log_uniform',\n",
    "            'q': 1,\n",
    "            'min': math.log(32),\n",
    "            'max': math.log(256),\n",
    "            }\n",
    "        }\n",
    "    }"
   ]
  },
  {
   "cell_type": "code",
   "execution_count": null,
   "id": "h3NwvXGdShDO",
   "metadata": {
    "id": "h3NwvXGdShDO"
   },
   "outputs": [],
   "source": [
    "def SweepDataset(batch_size):\n",
    "    transform = transforms.Compose(\n",
    "        [transforms.ToTensor(),\n",
    "         transforms.Normalize((0.1307,), (0.3081,))])\n",
    "    \n",
    "    train_data = datasets.MNIST(\".\", \n",
    "                train=True, \n",
    "                download=True,\n",
    "                transform=transform)\n",
    "    \n",
    "    test_data = datasets.MNIST(\".\", \n",
    "                train=False, \n",
    "                download=True,\n",
    "                transform=transform)\n",
    "    \n",
    "    \n",
    "    train_loader = DataLoader(train_data, batch_size=batch_size)\n",
    "    test_loader = DataLoader(test_data, batch_size=batch_size)\n",
    "\n",
    "    return train_loader, test_loader"
   ]
  },
  {
   "cell_type": "code",
   "execution_count": null,
   "id": "om_xkH-_ShAk",
   "metadata": {
    "id": "om_xkH-_ShAk"
   },
   "outputs": [],
   "source": [
    "class ConvNet(nn.Module):\n",
    "    def __init__(self, dropout):\n",
    "        super(ConvNet, self).__init__()\n",
    "        self.layer1 = nn.Sequential(\n",
    "            nn.Conv2d(1, 32, 3, 1, 1), nn.ReLU(),\n",
    "            nn.MaxPool2d(2, 2))\n",
    "        self.layer2 = nn.Sequential(\n",
    "            nn.Conv2d(32, 64, 3, 1, 1), nn.ReLU(),\n",
    "            nn.MaxPool2d(2, 2))\n",
    "        self.layer3 = nn.Sequential(\n",
    "            nn.Linear(64 * 7 * 7, 128, bias=True), nn.ReLU(),\n",
    "            nn.Dropout2d(p=dropout))\n",
    "        self.layer4 = nn.Sequential(\n",
    "            nn.Linear(128, 84), nn.ReLU(),\n",
    "            nn.Dropout2d(p=dropout))\n",
    "        self.fc3 = nn.Linear(84, 10)\n",
    "\n",
    "    def forward(self, x):\n",
    "        x = self.layer1(x)\n",
    "        x = self.layer2(x)\n",
    "        x = x.view(x.size(0),-1) \n",
    "        x = self.layer3(x)\n",
    "        x = self.layer4(x)\n",
    "        x = self.fc3(x)\n",
    "        return x"
   ]
  },
  {
   "cell_type": "code",
   "execution_count": null,
   "id": "bzCoH_hpT7qI",
   "metadata": {
    "id": "bzCoH_hpT7qI"
   },
   "outputs": [],
   "source": [
    "def build_optimizer(network, optimizer, learning_rate):\n",
    "    if optimizer == \"sgd\":\n",
    "        optimizer = optim.SGD(network.parameters(),\n",
    "                              lr=learning_rate, momentum=0.9)\n",
    "    elif optimizer == \"adam\":\n",
    "        optimizer = optim.Adam(network.parameters(),\n",
    "                               lr=learning_rate)\n",
    "    return optimizer"
   ]
  },
  {
   "cell_type": "code",
   "execution_count": null,
   "id": "SFX6aIXpSg9s",
   "metadata": {
    "id": "SFX6aIXpSg9s"
   },
   "outputs": [],
   "source": [
    "def train(model, loader, criterion, optimizer, device, config, wandb):\n",
    "    model.train()\n",
    "    wandb.watch(model, criterion, log=\"all\", log_freq=10)\n",
    "\n",
    "    for epoch in range(config.epochs):\n",
    "        cumu_loss = 0\n",
    "        for images, labels in loader:\n",
    "            images, labels  = images.to(device), labels.to(device)\n",
    "\n",
    "            output = model(images)\n",
    "            loss = criterion(output, labels)\n",
    "            cumu_loss += loss.item()\n",
    "\n",
    "            optimizer.zero_grad()\n",
    "            loss.backward()\n",
    "            optimizer.step()\n",
    "\n",
    "        avg_loss = cumu_loss / len(loader)\n",
    "        wandb.log({\"train_loss\": avg_loss}, step=epoch)  \n",
    "        print(f\"TRAIN: EPOCH {epoch + 1:04d} / {config.epochs:04d} | Epoch LOSS {avg_loss:.4f}\")"
   ]
  },
  {
   "cell_type": "code",
   "execution_count": null,
   "id": "LLehH0A5pKER",
   "metadata": {
    "id": "LLehH0A5pKER"
   },
   "outputs": [],
   "source": [
    "def vaild(model, loader, criterion, device,  wandb):\n",
    "    model.eval()\n",
    "\n",
    "    with torch.no_grad():\n",
    "        correct, test_loss = 0, 0\n",
    "        for data, target in loader:\n",
    "            data, target = data.to(device), target.to(device)\n",
    "            output = model(data)\n",
    "            \n",
    "            test_loss += criterion(output, target).item()\n",
    "            \n",
    "            pred = output.max(1, keepdim=True)[1]\n",
    "            correct += pred.eq(target.view_as(pred)).sum().item()\n",
    "            \n",
    "    \n",
    "    val_loss = test_loss / len(loader)\n",
    "    print(f\"VALID: LOSS {val_loss:.4f} | Accuracy {val_loss:.4f} \")\n",
    "    wandb.log({\n",
    "        \"val_acc\": 100. * correct / len(loader.dataset),\n",
    "        \"val_loss\": val_loss})"
   ]
  },
  {
   "cell_type": "code",
   "execution_count": null,
   "id": "JdmGNhx0OUn1",
   "metadata": {
    "id": "JdmGNhx0OUn1"
   },
   "outputs": [],
   "source": [
    "class sweepCustomDataset():\n",
    "\n",
    "  \n",
    "    def __init__(self, data, target=' C1'): # , normalize=True\n",
    "        super(sweepCustomDataset, self).__init__()\n",
    "        self.x = data.drop(target, 1)\n",
    "        # # 데이터 표준화\n",
    "        # if normalize:\n",
    "        scaler = MinMaxScaler()\n",
    "        self.x = pd.DataFrame(scaler.fit_transform(self.x))\n",
    "        self.y = data[' C1']\n",
    "        # 텐서 변환\n",
    "        self.x = torch.tensor(self.x.values,requires_grad=True).float()\n",
    "        self.y = torch.tensor(self.y.values,requires_grad=True).float()\n",
    "        \n",
    "    def __len__(self):\n",
    "        return len(self.x)\n",
    "    \n",
    "    def __getitem__(self, idx):\n",
    "        x = self.x[idx]\n",
    "        y = self.y[idx]\n",
    "        return x, y"
   ]
  },
  {
   "cell_type": "code",
   "execution_count": null,
   "id": "ICh6UFMIOUmY",
   "metadata": {
    "id": "ICh6UFMIOUmY"
   },
   "outputs": [],
   "source": [
    "def sweepload_data(data, batch_size):\n",
    "\n",
    "    dataset = sweepCustomDataset(data, ' C1')\n",
    "\n",
    "    dataset_size = len(dataset)\n",
    "\n",
    "    train_size = int(dataset_size * 0.8)\n",
    "    \n",
    "    test_size = dataset_size - train_size \n",
    "\n",
    "    # 데이터 분할 \n",
    "    train_dataset,  test_dataset = random_split(dataset, [train_size, test_size])\n",
    "\n",
    "   \n",
    "    train_loader = DataLoader(train_dataset, batch_size=batch_size, shuffle=True, num_workers=0)\n",
    "    test_loader = DataLoader(test_dataset, batch_size=batch_size, shuffle=True, num_workers=0)\n",
    "\n",
    "    return train_loader, test_loader"
   ]
  },
  {
   "cell_type": "code",
   "execution_count": null,
   "id": "UVaatf0IOUiP",
   "metadata": {
    "colab": {
     "base_uri": "https://localhost:8080/"
    },
    "id": "UVaatf0IOUiP",
    "outputId": "386a073a-3153-490c-d025-811a47814ba4"
   },
   "outputs": [
    {
     "name": "stderr",
     "output_type": "stream",
     "text": [
      "<ipython-input-43-a2ecebbcb936>:6: FutureWarning: In a future version of pandas all arguments of DataFrame.drop except for the argument 'labels' will be keyword-only\n",
      "  self.x = data.drop(target, 1)\n"
     ]
    }
   ],
   "source": [
    " train_loader,test_loader = sweepload_data(cnc,batch_size)"
   ]
  },
  {
   "cell_type": "code",
   "execution_count": null,
   "id": "IpEvgQ-XOiS-",
   "metadata": {
    "colab": {
     "base_uri": "https://localhost:8080/"
    },
    "id": "IpEvgQ-XOiS-",
    "outputId": "43778390-f946-40a4-fbec-a2377b913b5d"
   },
   "outputs": [
    {
     "data": {
      "text/plain": [
       "<torch.utils.data.dataloader.DataLoader at 0x7f1f2a66cbe0>"
      ]
     },
     "execution_count": 56,
     "metadata": {},
     "output_type": "execute_result"
    }
   ],
   "source": [
    "train_loader"
   ]
  },
  {
   "cell_type": "code",
   "execution_count": null,
   "id": "WFwYTiIQOUp-",
   "metadata": {
    "colab": {
     "base_uri": "https://localhost:8080/",
     "height": 696
    },
    "id": "WFwYTiIQOUp-",
    "outputId": "30dc3f6e-d53c-49b1-9054-b1aab9c03808"
   },
   "outputs": [
    {
     "name": "stderr",
     "output_type": "stream",
     "text": [
      "/usr/local/lib/python3.8/dist-packages/torch/nn/modules/loss.py:536: UserWarning: Using a target size (torch.Size([64])) that is different to the input size (torch.Size([64, 1])). This will likely lead to incorrect results due to broadcasting. Please ensure they have the same size.\n",
      "  return F.mse_loss(input, target, reduction=self.reduction)\n"
     ]
    },
    {
     "name": "stdout",
     "output_type": "stream",
     "text": [
      "[1,   100] loss: 4.183\n",
      "[1,   200] loss: 2.568\n",
      "[1,   300] loss: 2.567\n",
      "[1,   400] loss: 2.421\n",
      "[1,   500] loss: 2.435\n",
      "[1,   600] loss: 2.324\n",
      "[1,   700] loss: 2.240\n",
      "[1,   800] loss: 2.302\n",
      "[1,   900] loss: 2.220\n",
      "[1,  1000] loss: 2.174\n",
      "[1,  1100] loss: 2.192\n",
      "[1,  1200] loss: 2.087\n",
      "[1,  1300] loss: 2.113\n"
     ]
    },
    {
     "ename": "KeyboardInterrupt",
     "evalue": "ignored",
     "output_type": "error",
     "traceback": [
      "\u001b[0;31m---------------------------------------------------------------------------\u001b[0m",
      "\u001b[0;31mKeyboardInterrupt\u001b[0m                         Traceback (most recent call last)",
      "\u001b[0;32m<ipython-input-58-c7f6b4f136c7>\u001b[0m in \u001b[0;36m<module>\u001b[0;34m\u001b[0m\n\u001b[1;32m     42\u001b[0m         \u001b[0moutputs\u001b[0m \u001b[0;34m=\u001b[0m \u001b[0mmodel\u001b[0m\u001b[0;34m(\u001b[0m\u001b[0minputs\u001b[0m\u001b[0;34m)\u001b[0m\u001b[0;34m\u001b[0m\u001b[0;34m\u001b[0m\u001b[0m\n\u001b[1;32m     43\u001b[0m         \u001b[0mloss\u001b[0m \u001b[0;34m=\u001b[0m \u001b[0mcriterion\u001b[0m\u001b[0;34m(\u001b[0m\u001b[0moutputs\u001b[0m\u001b[0;34m,\u001b[0m \u001b[0mlabels\u001b[0m\u001b[0;34m)\u001b[0m\u001b[0;34m\u001b[0m\u001b[0;34m\u001b[0m\u001b[0m\n\u001b[0;32m---> 44\u001b[0;31m         \u001b[0mloss\u001b[0m\u001b[0;34m.\u001b[0m\u001b[0mbackward\u001b[0m\u001b[0;34m(\u001b[0m\u001b[0;34m)\u001b[0m\u001b[0;34m\u001b[0m\u001b[0;34m\u001b[0m\u001b[0m\n\u001b[0m\u001b[1;32m     45\u001b[0m         \u001b[0moptimizer\u001b[0m\u001b[0;34m.\u001b[0m\u001b[0mstep\u001b[0m\u001b[0;34m(\u001b[0m\u001b[0;34m)\u001b[0m\u001b[0;34m\u001b[0m\u001b[0;34m\u001b[0m\u001b[0m\n\u001b[1;32m     46\u001b[0m \u001b[0;34m\u001b[0m\u001b[0m\n",
      "\u001b[0;32m/usr/local/lib/python3.8/dist-packages/torch/_tensor.py\u001b[0m in \u001b[0;36mbackward\u001b[0;34m(self, gradient, retain_graph, create_graph, inputs)\u001b[0m\n\u001b[1;32m    486\u001b[0m                 \u001b[0minputs\u001b[0m\u001b[0;34m=\u001b[0m\u001b[0minputs\u001b[0m\u001b[0;34m,\u001b[0m\u001b[0;34m\u001b[0m\u001b[0;34m\u001b[0m\u001b[0m\n\u001b[1;32m    487\u001b[0m             )\n\u001b[0;32m--> 488\u001b[0;31m         torch.autograd.backward(\n\u001b[0m\u001b[1;32m    489\u001b[0m             \u001b[0mself\u001b[0m\u001b[0;34m,\u001b[0m \u001b[0mgradient\u001b[0m\u001b[0;34m,\u001b[0m \u001b[0mretain_graph\u001b[0m\u001b[0;34m,\u001b[0m \u001b[0mcreate_graph\u001b[0m\u001b[0;34m,\u001b[0m \u001b[0minputs\u001b[0m\u001b[0;34m=\u001b[0m\u001b[0minputs\u001b[0m\u001b[0;34m\u001b[0m\u001b[0;34m\u001b[0m\u001b[0m\n\u001b[1;32m    490\u001b[0m         )\n",
      "\u001b[0;32m/usr/local/lib/python3.8/dist-packages/torch/autograd/__init__.py\u001b[0m in \u001b[0;36mbackward\u001b[0;34m(tensors, grad_tensors, retain_graph, create_graph, grad_variables, inputs)\u001b[0m\n\u001b[1;32m    195\u001b[0m     \u001b[0;31m# some Python versions print out the first line of a multi-line function\u001b[0m\u001b[0;34m\u001b[0m\u001b[0;34m\u001b[0m\u001b[0;34m\u001b[0m\u001b[0m\n\u001b[1;32m    196\u001b[0m     \u001b[0;31m# calls in the traceback and some print out the last line\u001b[0m\u001b[0;34m\u001b[0m\u001b[0;34m\u001b[0m\u001b[0;34m\u001b[0m\u001b[0m\n\u001b[0;32m--> 197\u001b[0;31m     Variable._execution_engine.run_backward(  # Calls into the C++ engine to run the backward pass\n\u001b[0m\u001b[1;32m    198\u001b[0m         \u001b[0mtensors\u001b[0m\u001b[0;34m,\u001b[0m \u001b[0mgrad_tensors_\u001b[0m\u001b[0;34m,\u001b[0m \u001b[0mretain_graph\u001b[0m\u001b[0;34m,\u001b[0m \u001b[0mcreate_graph\u001b[0m\u001b[0;34m,\u001b[0m \u001b[0minputs\u001b[0m\u001b[0;34m,\u001b[0m\u001b[0;34m\u001b[0m\u001b[0;34m\u001b[0m\u001b[0m\n\u001b[1;32m    199\u001b[0m         allow_unreachable=True, accumulate_grad=True)  # Calls into the C++ engine to run the backward pass\n",
      "\u001b[0;31mKeyboardInterrupt\u001b[0m: "
     ]
    }
   ],
   "source": [
    "import torch\n",
    "import torch.nn as nn\n",
    "import torch.optim as optim\n",
    "\n",
    "# 하이퍼파라미터 설정\n",
    "learning_rate = 0.01\n",
    "batch_size = 64\n",
    "num_epochs = 10\n",
    "\n",
    "\n",
    "# 모델 정의\n",
    "class DNN(nn.Module):\n",
    "    def __init__(self):\n",
    "        super(DNN, self).__init__()\n",
    "        self.fc1 = nn.Linear(7, 256)\n",
    "        self.bn1 = nn.BatchNorm1d(256) # 배치 정규화\n",
    "        self.dropout1 = nn.Dropout(p=0.5) # 드롭아웃\n",
    "        self.fc2 = nn.Linear(256, 128)\n",
    "        self.bn2 = nn.BatchNorm1d(128) # 배치 정규화\n",
    "        self.dropout2 = nn.Dropout(p=0.5) # 드롭아웃\n",
    "        self.fc3 = nn.Linear(128, 1)\n",
    "\n",
    "    def forward(self, x):\n",
    "        x = x.view(x.size(0), -1)\n",
    "        x = torch.relu(self.bn1(self.fc1(x)))\n",
    "        x = self.dropout1(x)\n",
    "        x = torch.relu(self.bn2(self.fc2(x)))\n",
    "        x = self.dropout2(x)\n",
    "        x = self.fc3(x)\n",
    "        return x\n",
    "\n",
    "# 모델 생성 및 손실함수, 최적화 알고리즘 설정\n",
    "model = DNN()\n",
    "criterion = nn.MSELoss() # 회귀 모델이므로 MSE 손실함수 사용\n",
    "optimizer = optim.Adam(model.parameters(), lr=learning_rate)\n",
    "\n",
    "# 모델 학습\n",
    "for epoch in range(num_epochs):\n",
    "    running_loss = 0.0\n",
    "    for i, (inputs, labels) in enumerate(train_loader, 0):\n",
    "        optimizer.zero_grad()\n",
    "        outputs = model(inputs)\n",
    "        loss = criterion(outputs, labels)\n",
    "        loss.backward()\n",
    "        optimizer.step()\n",
    "\n",
    "        running_loss += loss.item()\n",
    "        if i % 100 == 99:    # 매 100배치마다 로스 출력\n",
    "            print('[%d, %5d] loss: %.3f' % (epoch + 1, i + 1, running_loss / 100))\n",
    "            running_loss = 0.0\n",
    "\n",
    "print('Finished Training')\n",
    "\n",
    "# 모델 평가\n",
    "total_loss = 0\n",
    "with torch.no_grad():\n",
    "    for inputs, labels in test_loader:\n",
    "        outputs = model(inputs)\n",
    "        loss = criterion(outputs, labels)\n",
    "        total_loss += loss.item()\n",
    "\n",
    "print('Average loss on test set: %.3f' % (total_loss / len(test_loader)))"
   ]
  },
  {
   "cell_type": "code",
   "execution_count": null,
   "id": "nFzDTGPJOUg1",
   "metadata": {
    "colab": {
     "base_uri": "https://localhost:8080/"
    },
    "id": "nFzDTGPJOUg1",
    "outputId": "78f07388-2bed-4434-cbdd-bd8cc2619855"
   },
   "outputs": [
    {
     "data": {
      "text/plain": [
       "64"
      ]
     },
     "execution_count": 53,
     "metadata": {},
     "output_type": "execute_result"
    }
   ],
   "source": [
    "batch_size"
   ]
  },
  {
   "cell_type": "code",
   "execution_count": null,
   "id": "zUzBpPIkOUcY",
   "metadata": {
    "id": "zUzBpPIkOUcY"
   },
   "outputs": [],
   "source": [
    "class sweepCustomDataset():\n",
    "\n",
    "  \n",
    "    def __init__(self, data, target=' C1'): # , normalize=True\n",
    "        super(sweepCustomDataset, self).__init__()\n",
    "        self.x = data.drop(target, 1)\n",
    "        # # 데이터 표준화\n",
    "        # if normalize:\n",
    "        scaler = MinMaxScaler()\n",
    "        self.x = pd.DataFrame(scaler.fit_transform(self.x))\n",
    "        self.y = data[' C1']\n",
    "        # 텐서 변환\n",
    "        self.x = torch.tensor(self.x.values,requires_grad=True).float()\n",
    "        self.y = torch.tensor(self.y.values,requires_grad=True).float()\n",
    "        \n",
    "    def __len__(self):\n",
    "        return len(self.x)\n",
    "    \n",
    "    def __getitem__(self, idx):\n",
    "        x = self.x[idx]\n",
    "        y = self.y[idx]\n",
    "        return x, y\n",
    "\n",
    "def sweepload_data(data, batch_size):\n",
    "\n",
    "    dataset = sweepCustomDataset(data, ' C1')\n",
    "\n",
    "    dataset_size = len(dataset)\n",
    "\n",
    "    train_size = int(dataset_size * 0.8)\n",
    "    \n",
    "    test_size = dataset_size - train_size \n",
    "\n",
    "    # 데이터 분할 \n",
    "    train_dataset,  test_dataset = random_split(dataset, [train_size, test_size])\n",
    "\n",
    "   \n",
    "    train_loader = DataLoader(train_dataset, batch_size=batch_size, shuffle=True, num_workers=0)\n",
    "    test_loader = DataLoader(test_dataset, batch_size=batch_size, shuffle=True, num_workers=0)\n",
    "\n",
    "    return train_loader, test_loader\n",
    "\n",
    "learning_rate = 0.01\n",
    "batch_size = 64\n",
    "num_epochs = 10\n",
    "\n",
    "train_loader,test_loader = sweepload_data(cnc,batch_size)\n",
    "\n",
    "train_loader\n",
    "\n",
    "import torch\n",
    "import torch.nn as nn\n",
    "import torch.optim as optim\n",
    "\n",
    "# 하이퍼파라미터 설정\n",
    "learning_rate = 0.01\n",
    "batch_size = 64\n",
    "num_epochs = 10\n",
    "\n",
    "\n",
    "class DNN(nn.Module):\n",
    "  \n",
    "    def __init__(self):\n",
    "     \n",
    "        super(DNN, self).__init__()\n",
    "        # self.do1 = nn.Dropout(0.8)\n",
    "        # self.fc1 = nn.Sequential(\n",
    "            \n",
    "        #     nn.Linear(num_features, 4,bias=True),\n",
    "        #     nn.ReLU(),nn.Dropout(p =dropout) \n",
    "        # )\n",
    "        # self.fc2 = nn.Sequential(\n",
    "        #     nn.Linear(4, 2,bias=True),\n",
    "        #     nn.ReLU(),nn.Dropout(p =dropout) \n",
    "        # )\n",
    "\n",
    "        self.fc1 = nn.Linear(7, 16)\n",
    "        self.do1 = nn.Dropout(0.5)\n",
    "        self.fc2 = nn.Linear(16, 1)\n",
    "        # self.do2 = nn.Dropout(p =dropout)\n",
    "        # # 마지막 출력층의 Neuron은 1개로 설정\n",
    "        \n",
    "        # self.output = nn.Linear(512, 1)\n",
    "        \n",
    "        self.relu = torch.nn.LeakyReLU()\n",
    "        self.bn1 = nn.BatchNorm1d(16)\n",
    "        # self.bn2 = nn.BatchNorm1d(512)\n",
    "        # self.bn3 = nn.BatchNorm1d(32)\n",
    "    def forward(self, x):\n",
    "        \n",
    "        x = self.fc1(x)\n",
    "        x = self.bn1(x)\n",
    "        x = self.relu(x)\n",
    "        x = self.do1(x)\n",
    "\n",
    "        \n",
    "        x = self.fc2(x)\n",
    "        # x = self.bn2(x)\n",
    "        # x = self.relu(x)\n",
    "\n",
    "        # x = self.do2(x)\n",
    "\n",
    "\n",
    "        # x=  self.bn2(x)\n",
    "        # x = F.relu(self.fc3(x))\n",
    "        \n",
    "        # x = self.output(x)\n",
    "     \n",
    "\n",
    "        # x = self.do1(x)\n",
    "        # x1 = F.relu(self.fc1(x))\n",
    "        # x2 = self.do2(x1)\n",
    "        # x3 = F.relu(self.fc2(x2))\n",
    "        # x4 = self.do3(x3)\n",
    "        # x5 = self.output(x4)\n",
    "\n",
    "        return x\n",
    "\n",
    "# 모델 생성 및 손실함수, 최적화 알고리즘 설정\n",
    "model = DNN().cuda()\n",
    "\n",
    "criterion = nn.MSELoss() # 회귀 모델이므로 MSE 손실함수 사용\n",
    "optimizer = optim.Adam(model.parameters(), lr=learning_rate)\n",
    "\n",
    "# 모델 학습\n",
    "for epoch in range(num_epochs):\n",
    "    running_loss = 0.0\n",
    "    model.train()\n",
    "    for i,(inputs, labels) in enumerate(train_loader,0):\n",
    "        \n",
    "        inputs, labels = inputs.to(device), labels.to(device)\n",
    "           \n",
    "        optimizer.zero_grad()\n",
    "        \n",
    "        \n",
    "        outputs = model(inputs)\n",
    "        \n",
    "        \n",
    "        loss = criterion(outputs, labels)\n",
    "        \n",
    "        \n",
    "        loss.backward()\n",
    "        \n",
    "         \n",
    "        optimizer.step()\n",
    "\n",
    "        running_loss += loss.item()\n",
    "        if i % 100 == 99:    # 매 100배치마다 로스 출력\n",
    "            print('[%d, %5d] loss: %.3f' % (epoch + 1, i + 1, running_loss / 100))\n",
    "            running_loss = 0.0\n",
    "\n",
    "print('Finished Training')\n",
    "\n",
    "# 모델 평가\n",
    "total_loss = 0\n",
    "model.eval()\n",
    "with torch.no_grad():\n",
    "    for inputs, labels in test_loader:\n",
    "        outputs = model(inputs)\n",
    "        loss = criterion(outputs, labels)\n",
    "        total_loss += loss.item()\n",
    "\n",
    "print('Average loss on test set: %.3f' % (total_loss / len(test_loader)))\n"
   ]
  },
  {
   "cell_type": "code",
   "execution_count": null,
   "id": "9RmisewtOUbD",
   "metadata": {
    "id": "9RmisewtOUbD"
   },
   "outputs": [],
   "source": []
  },
  {
   "cell_type": "code",
   "execution_count": null,
   "id": "m-qNOcdIOUW8",
   "metadata": {
    "id": "m-qNOcdIOUW8"
   },
   "outputs": [],
   "source": []
  },
  {
   "cell_type": "code",
   "execution_count": null,
   "id": "0UQoE5dcOUUY",
   "metadata": {
    "id": "0UQoE5dcOUUY"
   },
   "outputs": [],
   "source": []
  },
  {
   "cell_type": "code",
   "execution_count": null,
   "id": "XjX4_qxFOURE",
   "metadata": {
    "id": "XjX4_qxFOURE"
   },
   "outputs": [],
   "source": []
  },
  {
   "cell_type": "code",
   "execution_count": null,
   "id": "_F7qtMknOUPE",
   "metadata": {
    "id": "_F7qtMknOUPE"
   },
   "outputs": [],
   "source": []
  },
  {
   "cell_type": "code",
   "execution_count": null,
   "id": "B6qLpSfLOULE",
   "metadata": {
    "id": "B6qLpSfLOULE"
   },
   "outputs": [],
   "source": []
  },
  {
   "cell_type": "code",
   "execution_count": null,
   "id": "xa2E79OX6-Eb",
   "metadata": {
    "id": "xa2E79OX6-Eb"
   },
   "outputs": [],
   "source": []
  }
 ],
 "metadata": {
  "colab": {
   "provenance": [],
   "toc_visible": true
  },
  "gpuClass": "standard",
  "kernelspec": {
   "display_name": "Python 3 (ipykernel)",
   "language": "python",
   "name": "python3"
  },
  "language_info": {
   "codemirror_mode": {
    "name": "ipython",
    "version": 3
   },
   "file_extension": ".py",
   "mimetype": "text/x-python",
   "name": "python",
   "nbconvert_exporter": "python",
   "pygments_lexer": "ipython3",
   "version": "3.9.12"
  },
  "latex_envs": {
   "LaTeX_envs_menu_present": true,
   "autoclose": false,
   "autocomplete": true,
   "bibliofile": "biblio.bib",
   "cite_by": "apalike",
   "current_citInitial": 1,
   "eqLabelWithNumbers": true,
   "eqNumInitial": 1,
   "hotkeys": {
    "equation": "Ctrl-E",
    "itemize": "Ctrl-I"
   },
   "labels_anchors": false,
   "latex_user_defs": false,
   "report_style_numbering": false,
   "user_envs_cfg": false
  },
  "toc": {
   "base_numbering": 1,
   "nav_menu": {},
   "number_sections": true,
   "sideBar": true,
   "skip_h1_title": false,
   "title_cell": "Table of Contents",
   "title_sidebar": "Contents",
   "toc_cell": false,
   "toc_position": {},
   "toc_section_display": true,
   "toc_window_display": false
  },
  "varInspector": {
   "cols": {
    "lenName": 16,
    "lenType": 16,
    "lenVar": 40
   },
   "kernels_config": {
    "python": {
     "delete_cmd_postfix": "",
     "delete_cmd_prefix": "del ",
     "library": "var_list.py",
     "varRefreshCmd": "print(var_dic_list())"
    },
    "r": {
     "delete_cmd_postfix": ") ",
     "delete_cmd_prefix": "rm(",
     "library": "var_list.r",
     "varRefreshCmd": "cat(var_dic_list()) "
    }
   },
   "types_to_exclude": [
    "module",
    "function",
    "builtin_function_or_method",
    "instance",
    "_Feature"
   ],
   "window_display": false
  },
  "widgets": {
   "application/vnd.jupyter.widget-state+json": {
    "0f76616235564ef58448318d40bf0332": {
     "model_module": "@jupyter-widgets/controls",
     "model_module_version": "1.5.0",
     "model_name": "ProgressStyleModel",
     "state": {
      "_model_module": "@jupyter-widgets/controls",
      "_model_module_version": "1.5.0",
      "_model_name": "ProgressStyleModel",
      "_view_count": null,
      "_view_module": "@jupyter-widgets/base",
      "_view_module_version": "1.2.0",
      "_view_name": "StyleView",
      "bar_color": null,
      "description_width": ""
     }
    },
    "28bd62440c1f46b9a59a8d8acdf43fac": {
     "model_module": "@jupyter-widgets/base",
     "model_module_version": "1.2.0",
     "model_name": "LayoutModel",
     "state": {
      "_model_module": "@jupyter-widgets/base",
      "_model_module_version": "1.2.0",
      "_model_name": "LayoutModel",
      "_view_count": null,
      "_view_module": "@jupyter-widgets/base",
      "_view_module_version": "1.2.0",
      "_view_name": "LayoutView",
      "align_content": null,
      "align_items": null,
      "align_self": null,
      "border": null,
      "bottom": null,
      "display": null,
      "flex": null,
      "flex_flow": null,
      "grid_area": null,
      "grid_auto_columns": null,
      "grid_auto_flow": null,
      "grid_auto_rows": null,
      "grid_column": null,
      "grid_gap": null,
      "grid_row": null,
      "grid_template_areas": null,
      "grid_template_columns": null,
      "grid_template_rows": null,
      "height": null,
      "justify_content": null,
      "justify_items": null,
      "left": null,
      "margin": null,
      "max_height": null,
      "max_width": null,
      "min_height": null,
      "min_width": null,
      "object_fit": null,
      "object_position": null,
      "order": null,
      "overflow": null,
      "overflow_x": null,
      "overflow_y": null,
      "padding": null,
      "right": null,
      "top": null,
      "visibility": null,
      "width": null
     }
    },
    "410f1bc4a9a144bc82c1dd77146f01b4": {
     "model_module": "@jupyter-widgets/base",
     "model_module_version": "1.2.0",
     "model_name": "LayoutModel",
     "state": {
      "_model_module": "@jupyter-widgets/base",
      "_model_module_version": "1.2.0",
      "_model_name": "LayoutModel",
      "_view_count": null,
      "_view_module": "@jupyter-widgets/base",
      "_view_module_version": "1.2.0",
      "_view_name": "LayoutView",
      "align_content": null,
      "align_items": null,
      "align_self": null,
      "border": null,
      "bottom": null,
      "display": null,
      "flex": null,
      "flex_flow": null,
      "grid_area": null,
      "grid_auto_columns": null,
      "grid_auto_flow": null,
      "grid_auto_rows": null,
      "grid_column": null,
      "grid_gap": null,
      "grid_row": null,
      "grid_template_areas": null,
      "grid_template_columns": null,
      "grid_template_rows": null,
      "height": null,
      "justify_content": null,
      "justify_items": null,
      "left": null,
      "margin": null,
      "max_height": null,
      "max_width": null,
      "min_height": null,
      "min_width": null,
      "object_fit": null,
      "object_position": null,
      "order": null,
      "overflow": null,
      "overflow_x": null,
      "overflow_y": null,
      "padding": null,
      "right": null,
      "top": null,
      "visibility": null,
      "width": null
     }
    },
    "56328f03aa9541ce903736dabc0715de": {
     "model_module": "@jupyter-widgets/controls",
     "model_module_version": "1.5.0",
     "model_name": "DescriptionStyleModel",
     "state": {
      "_model_module": "@jupyter-widgets/controls",
      "_model_module_version": "1.5.0",
      "_model_name": "DescriptionStyleModel",
      "_view_count": null,
      "_view_module": "@jupyter-widgets/base",
      "_view_module_version": "1.2.0",
      "_view_name": "StyleView",
      "description_width": ""
     }
    },
    "60e5df55f10445b19a72826368b6ab1c": {
     "model_module": "@jupyter-widgets/controls",
     "model_module_version": "1.5.0",
     "model_name": "FloatProgressModel",
     "state": {
      "_dom_classes": [],
      "_model_module": "@jupyter-widgets/controls",
      "_model_module_version": "1.5.0",
      "_model_name": "FloatProgressModel",
      "_view_count": null,
      "_view_module": "@jupyter-widgets/controls",
      "_view_module_version": "1.5.0",
      "_view_name": "ProgressView",
      "bar_style": "danger",
      "description": "",
      "description_tooltip": null,
      "layout": "IPY_MODEL_410f1bc4a9a144bc82c1dd77146f01b4",
      "max": 30,
      "min": 0,
      "orientation": "horizontal",
      "style": "IPY_MODEL_0f76616235564ef58448318d40bf0332",
      "value": 0
     }
    },
    "7711a82ffd6d428d842157657194dafe": {
     "model_module": "@jupyter-widgets/controls",
     "model_module_version": "1.5.0",
     "model_name": "HBoxModel",
     "state": {
      "_dom_classes": [],
      "_model_module": "@jupyter-widgets/controls",
      "_model_module_version": "1.5.0",
      "_model_name": "HBoxModel",
      "_view_count": null,
      "_view_module": "@jupyter-widgets/controls",
      "_view_module_version": "1.5.0",
      "_view_name": "HBoxView",
      "box_style": "",
      "children": [
       "IPY_MODEL_86d4ee313aff435daff21ef711f525de",
       "IPY_MODEL_60e5df55f10445b19a72826368b6ab1c",
       "IPY_MODEL_889a031f8c634ee59360b3e3a136ddb6"
      ],
      "layout": "IPY_MODEL_bb645168f04347f589cb91636aadcbaa"
     }
    },
    "86d4ee313aff435daff21ef711f525de": {
     "model_module": "@jupyter-widgets/controls",
     "model_module_version": "1.5.0",
     "model_name": "HTMLModel",
     "state": {
      "_dom_classes": [],
      "_model_module": "@jupyter-widgets/controls",
      "_model_module_version": "1.5.0",
      "_model_name": "HTMLModel",
      "_view_count": null,
      "_view_module": "@jupyter-widgets/controls",
      "_view_module_version": "1.5.0",
      "_view_name": "HTMLView",
      "description": "",
      "description_tooltip": null,
      "layout": "IPY_MODEL_c4e2caa05fe2464ab979b5ada9d0ff8a",
      "placeholder": "​",
      "style": "IPY_MODEL_c5f4dda333944abebd8f659217b8e3b6",
      "value": "  0%"
     }
    },
    "889a031f8c634ee59360b3e3a136ddb6": {
     "model_module": "@jupyter-widgets/controls",
     "model_module_version": "1.5.0",
     "model_name": "HTMLModel",
     "state": {
      "_dom_classes": [],
      "_model_module": "@jupyter-widgets/controls",
      "_model_module_version": "1.5.0",
      "_model_name": "HTMLModel",
      "_view_count": null,
      "_view_module": "@jupyter-widgets/controls",
      "_view_module_version": "1.5.0",
      "_view_name": "HTMLView",
      "description": "",
      "description_tooltip": null,
      "layout": "IPY_MODEL_28bd62440c1f46b9a59a8d8acdf43fac",
      "placeholder": "​",
      "style": "IPY_MODEL_56328f03aa9541ce903736dabc0715de",
      "value": " 0/30 [1:02:28&lt;?, ?it/s]"
     }
    },
    "bb645168f04347f589cb91636aadcbaa": {
     "model_module": "@jupyter-widgets/base",
     "model_module_version": "1.2.0",
     "model_name": "LayoutModel",
     "state": {
      "_model_module": "@jupyter-widgets/base",
      "_model_module_version": "1.2.0",
      "_model_name": "LayoutModel",
      "_view_count": null,
      "_view_module": "@jupyter-widgets/base",
      "_view_module_version": "1.2.0",
      "_view_name": "LayoutView",
      "align_content": null,
      "align_items": null,
      "align_self": null,
      "border": null,
      "bottom": null,
      "display": null,
      "flex": null,
      "flex_flow": null,
      "grid_area": null,
      "grid_auto_columns": null,
      "grid_auto_flow": null,
      "grid_auto_rows": null,
      "grid_column": null,
      "grid_gap": null,
      "grid_row": null,
      "grid_template_areas": null,
      "grid_template_columns": null,
      "grid_template_rows": null,
      "height": null,
      "justify_content": null,
      "justify_items": null,
      "left": null,
      "margin": null,
      "max_height": null,
      "max_width": null,
      "min_height": null,
      "min_width": null,
      "object_fit": null,
      "object_position": null,
      "order": null,
      "overflow": null,
      "overflow_x": null,
      "overflow_y": null,
      "padding": null,
      "right": null,
      "top": null,
      "visibility": null,
      "width": null
     }
    },
    "c4e2caa05fe2464ab979b5ada9d0ff8a": {
     "model_module": "@jupyter-widgets/base",
     "model_module_version": "1.2.0",
     "model_name": "LayoutModel",
     "state": {
      "_model_module": "@jupyter-widgets/base",
      "_model_module_version": "1.2.0",
      "_model_name": "LayoutModel",
      "_view_count": null,
      "_view_module": "@jupyter-widgets/base",
      "_view_module_version": "1.2.0",
      "_view_name": "LayoutView",
      "align_content": null,
      "align_items": null,
      "align_self": null,
      "border": null,
      "bottom": null,
      "display": null,
      "flex": null,
      "flex_flow": null,
      "grid_area": null,
      "grid_auto_columns": null,
      "grid_auto_flow": null,
      "grid_auto_rows": null,
      "grid_column": null,
      "grid_gap": null,
      "grid_row": null,
      "grid_template_areas": null,
      "grid_template_columns": null,
      "grid_template_rows": null,
      "height": null,
      "justify_content": null,
      "justify_items": null,
      "left": null,
      "margin": null,
      "max_height": null,
      "max_width": null,
      "min_height": null,
      "min_width": null,
      "object_fit": null,
      "object_position": null,
      "order": null,
      "overflow": null,
      "overflow_x": null,
      "overflow_y": null,
      "padding": null,
      "right": null,
      "top": null,
      "visibility": null,
      "width": null
     }
    },
    "c5f4dda333944abebd8f659217b8e3b6": {
     "model_module": "@jupyter-widgets/controls",
     "model_module_version": "1.5.0",
     "model_name": "DescriptionStyleModel",
     "state": {
      "_model_module": "@jupyter-widgets/controls",
      "_model_module_version": "1.5.0",
      "_model_name": "DescriptionStyleModel",
      "_view_count": null,
      "_view_module": "@jupyter-widgets/base",
      "_view_module_version": "1.2.0",
      "_view_name": "StyleView",
      "description_width": ""
     }
    }
   }
  }
 },
 "nbformat": 4,
 "nbformat_minor": 5
}
