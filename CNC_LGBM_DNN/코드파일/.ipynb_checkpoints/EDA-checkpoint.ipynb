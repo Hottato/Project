{
 "cells": [
  {
   "cell_type": "code",
   "execution_count": 4,
   "id": "880a6529-c853-486b-a860-9bf75d991f48",
   "metadata": {},
   "outputs": [],
   "source": [
    "import plotly\n",
    "import plotly.graph_objects as go\n",
    "from plotly.subplots import make_subplots\n",
    "import matplotlib.pyplot as plt\n",
    "import plotly.express as px\n",
    "import seaborn as sns\n",
    "\n",
    "from scipy.stats import skew, kurtosis\n",
    "import numpy as np\n",
    "import pandas as pd\n",
    "from glob import glob"
   ]
  },
  {
   "cell_type": "markdown",
   "id": "a2dee951-9476-43cb-b2b7-aa7f34b83eae",
   "metadata": {},
   "source": [
    "# CNC 설명 및 연구 목표"
   ]
  },
  {
   "cell_type": "markdown",
   "id": "8a69d34f-8a20-40bf-bd52-2104eb82aeb8",
   "metadata": {},
   "source": [
    "`-` 본 연구에서 사용된 데이터는 전북대학교 부속공장의 CNC공작기계로부터 생성된 데이터입니다."
   ]
  },
  {
   "cell_type": "markdown",
   "id": "fb04e2b1-dade-4c79-a294-2cc7ea511233",
   "metadata": {},
   "source": [
    ">  **cnc가 대체 뭐야?**"
   ]
  },
  {
   "cell_type": "markdown",
   "id": "394e1fc1-6b12-4644-9ab4-bfe4e7d46359",
   "metadata": {},
   "source": [
    "* CNC(computer numerical control)는 흔히 공작기계라고 합니다. 다양한 절삭공구를 사용할 수 있을 뿐만 아니라, 다양한 재료를 정밀하게 제작할 수 있습니다. 모든 작업은 컴퓨터를 통해 자동으로 처리됩니다."
   ]
  },
  {
   "cell_type": "markdown",
   "id": "01bcbd92-5827-4e7f-a5e0-9dadce073524",
   "metadata": {},
   "source": [
    "* 또한 모든 작업이 컴퓨터를 통해 처리되기에 작동자가 원하는 가공조건하에서 재료를 정밀하게 제작할수 있다!"
   ]
  },
  {
   "cell_type": "markdown",
   "id": "57b62f11-37d1-4afb-af37-f19bd120169f",
   "metadata": {},
   "source": [
    "> EX: CNC 절삭공구의 속도, 전력량.. 등등"
   ]
  },
  {
   "cell_type": "markdown",
   "id": "3046f62b-b4e5-4604-a0be-0d2bcdcec8d9",
   "metadata": {},
   "source": [
    "## `-` **우리 실험실에서의 목표!**"
   ]
  },
  {
   "cell_type": "markdown",
   "id": "351783e7-c459-4e14-8ed6-9732f1fc181e",
   "metadata": {},
   "source": [
    "* CNC의 절삭공구에 마모가 발생하게 되면 생성되는 **`절삭품의 품질이 저하된다!`**\n",
    "\n",
    "* 그렇기에 CNC 공구에 부하는 전류를 통해의 **`마모를 간접적으로 예측`** 하면 절삭품의 `품질 저하를 방지`할수 있을것이다! \n",
    "\n",
    "\n",
    "\n",
    "* 또한 CNC 공구는 다양한 조건에서 가공이 되기때문에, 실험시에 다양한 조건을 주며 실험을 하고, **`어떠한 가공조건에서는 공구의 마모를 예측해보자!`**"
   ]
  },
  {
   "cell_type": "markdown",
   "id": "dd5b8d93-e1f6-4a65-9a44-b1b6a6522049",
   "metadata": {},
   "source": [
    "`-` SUB 설명\n",
    "\n",
    "\n",
    "**그런데 공구의 마모예측에 왜 부하 전류를 사용하냐?** \n"
   ]
  },
  {
   "cell_type": "markdown",
   "id": "89b89f13-de53-4162-98c7-f2e32240adf6",
   "metadata": {},
   "source": [
    "`-` 사실 마모를 측정하는데에는 사진을 찍어서 하면 제일 좋지만 실험실 조건상 실시간 이미지 데이터 수집이 어려웠기에 모터에 부하는 전류를 이용해서 CNC 공구의 마모를 간접측정 하고자 하였다.\n",
    "\n",
    "\n",
    "`-` 전류 부하가 공구의 마모의 간접지표가 되는 이유는 물리적인 이유도 엄청 많다... 하지만! 깃허브에서는 간단하게 원리만 설명!\n",
    "> 우리가 새로운 칼을 통해 고기를 자를때와 날이 무딘 칼로 고기를 자를때 어떤 칼을 사용때 더많은 힘을 사용하게 될까? -> 바로 날이 무딘칼이다!\n",
    "\n",
    "\n",
    "> 똑같은 원리로 공구에 마모가 발생하게 되면 그만큼 힘이 더 필요하게 되고, 공구에 부하되는 전류랑은 증가한다!"
   ]
  },
  {
   "cell_type": "markdown",
   "id": "51e0e6b1-f422-4775-89c6-a478d057b864",
   "metadata": {},
   "source": [
    "## DATA EDA"
   ]
  },
  {
   "cell_type": "code",
   "execution_count": null,
   "id": "ba12e43d-8850-4d54-9fb3-47bec6c69aaf",
   "metadata": {},
   "outputs": [],
   "source": []
  }
 ],
 "metadata": {
  "kernelspec": {
   "display_name": "Python 3 (ipykernel)",
   "language": "python",
   "name": "python3"
  },
  "language_info": {
   "codemirror_mode": {
    "name": "ipython",
    "version": 3
   },
   "file_extension": ".py",
   "mimetype": "text/x-python",
   "name": "python",
   "nbconvert_exporter": "python",
   "pygments_lexer": "ipython3",
   "version": "3.9.12"
  }
 },
 "nbformat": 4,
 "nbformat_minor": 5
}
